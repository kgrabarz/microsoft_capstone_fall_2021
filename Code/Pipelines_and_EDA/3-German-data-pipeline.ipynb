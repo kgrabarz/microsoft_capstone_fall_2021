{
 "cells": [
  {
   "cell_type": "markdown",
   "source": "# 3. German dataset (Scarlett & Lily)",
   "metadata": {
    "tags": [],
    "cell_id": "00001-50f5c3d9-9470-4e38-b582-4da78140839e",
    "deepnote_cell_type": "markdown"
   }
  },
  {
   "cell_type": "code",
   "metadata": {
    "tags": [],
    "cell_id": "00001-a252d446-db92-4760-808d-6ff7adf335a0",
    "deepnote_to_be_reexecuted": false,
    "source_hash": "a149a8c4",
    "execution_start": 1636945742878,
    "execution_millis": 19042,
    "deepnote_cell_type": "code"
   },
   "source": "!pip install themis-ml\nimport numpy as np\nimport pandas as pd\nimport matplotlib.pyplot as plt\nimport seaborn as sns\nfrom sklearn.metrics import confusion_matrix\nfrom sklearn.preprocessing import MinMaxScaler\nfrom sklearn.model_selection import train_test_split\nfrom sklearn.linear_model import LogisticRegression\nfrom sklearn.metrics import classification_report",
   "outputs": [
    {
     "name": "stdout",
     "text": "Collecting themis-ml\n  Downloading themis-ml-0.0.4.tar.gz (9.0 MB)\n\u001b[K     |████████████████████████████████| 9.0 MB 11.9 MB/s \n\u001b[?25hRequirement already satisfied: scikit-learn>=0.19.1 in /shared-libs/python3.7/py/lib/python3.7/site-packages (from themis-ml) (1.0.1)\nRequirement already satisfied: numpy>=1.9.0 in /shared-libs/python3.7/py/lib/python3.7/site-packages (from themis-ml) (1.19.5)\nRequirement already satisfied: scipy>=0.19.1 in /shared-libs/python3.7/py/lib/python3.7/site-packages (from themis-ml) (1.7.2)\nRequirement already satisfied: pandas>=0.22.0 in /shared-libs/python3.7/py/lib/python3.7/site-packages (from themis-ml) (1.2.5)\nCollecting pathlib2\n  Downloading pathlib2-2.3.6-py2.py3-none-any.whl (17 kB)\nRequirement already satisfied: threadpoolctl>=2.0.0 in /shared-libs/python3.7/py/lib/python3.7/site-packages (from scikit-learn>=0.19.1->themis-ml) (3.0.0)\nRequirement already satisfied: joblib>=0.11 in /shared-libs/python3.7/py/lib/python3.7/site-packages (from scikit-learn>=0.19.1->themis-ml) (1.1.0)\nRequirement already satisfied: pytz>=2017.3 in /shared-libs/python3.7/py/lib/python3.7/site-packages (from pandas>=0.22.0->themis-ml) (2021.3)\nRequirement already satisfied: python-dateutil>=2.7.3 in /shared-libs/python3.7/py-core/lib/python3.7/site-packages (from pandas>=0.22.0->themis-ml) (2.8.2)\nRequirement already satisfied: six in /shared-libs/python3.7/py-core/lib/python3.7/site-packages (from pathlib2->themis-ml) (1.16.0)\nBuilding wheels for collected packages: themis-ml\n  Building wheel for themis-ml (setup.py) ... \u001b[?25ldone\n\u001b[?25h  Created wheel for themis-ml: filename=themis_ml-0.0.4-py3-none-any.whl size=9829351 sha256=abe5aa364d2622ba908b320ed2900a9de249506e1ff5d667191465d31bc2ba8f\n  Stored in directory: /root/.cache/pip/wheels/03/65/5e/7d4011bc7956d4385f4d3e43dda9fe3603377a8db60d11a4b8\nSuccessfully built themis-ml\nInstalling collected packages: pathlib2, themis-ml\nSuccessfully installed pathlib2-2.3.6 themis-ml-0.0.4\n\u001b[33mWARNING: You are using pip version 20.1.1; however, version 21.3.1 is available.\nYou should consider upgrading via the '/root/venv/bin/python -m pip install --upgrade pip' command.\u001b[0m\n",
     "output_type": "stream"
    }
   ],
   "execution_count": null
  },
  {
   "cell_type": "code",
   "metadata": {
    "tags": [],
    "cell_id": "00002-f396c7a6-c73d-4e9f-8a82-d599548fe2e9",
    "deepnote_to_be_reexecuted": false,
    "source_hash": "803dc76c",
    "execution_start": 1636945766309,
    "execution_millis": 183,
    "deepnote_cell_type": "code"
   },
   "source": "from themis_ml.datasets import german_credit\ncredit = german_credit(raw=True)\ncredit.head(2)\ncredit",
   "outputs": [
    {
     "output_type": "execute_result",
     "execution_count": 2,
     "data": {
      "application/vnd.deepnote.dataframe.v2+json": {
       "row_count": 1000,
       "column_count": 21,
       "columns": [
        {
         "name": "status_of_existing_checking_account",
         "dtype": "int64",
         "stats": {
          "unique_count": 4,
          "nan_count": 0,
          "min": "0",
          "max": "3",
          "histogram": [
           {
            "bin_start": 0,
            "bin_end": 0.3,
            "count": 394
           },
           {
            "bin_start": 0.3,
            "bin_end": 0.6,
            "count": 0
           },
           {
            "bin_start": 0.6,
            "bin_end": 0.8999999999999999,
            "count": 0
           },
           {
            "bin_start": 0.8999999999999999,
            "bin_end": 1.2,
            "count": 274
           },
           {
            "bin_start": 1.2,
            "bin_end": 1.5,
            "count": 0
           },
           {
            "bin_start": 1.5,
            "bin_end": 1.7999999999999998,
            "count": 0
           },
           {
            "bin_start": 1.7999999999999998,
            "bin_end": 2.1,
            "count": 269
           },
           {
            "bin_start": 2.1,
            "bin_end": 2.4,
            "count": 0
           },
           {
            "bin_start": 2.4,
            "bin_end": 2.6999999999999997,
            "count": 0
           },
           {
            "bin_start": 2.6999999999999997,
            "bin_end": 3,
            "count": 63
           }
          ]
         }
        },
        {
         "name": "duration_in_month",
         "dtype": "int64",
         "stats": {
          "unique_count": 33,
          "nan_count": 0,
          "min": "4",
          "max": "72",
          "histogram": [
           {
            "bin_start": 4,
            "bin_end": 10.8,
            "count": 171
           },
           {
            "bin_start": 10.8,
            "bin_end": 17.6,
            "count": 262
           },
           {
            "bin_start": 17.6,
            "bin_end": 24.4,
            "count": 337
           },
           {
            "bin_start": 24.4,
            "bin_end": 31.2,
            "count": 57
           },
           {
            "bin_start": 31.2,
            "bin_end": 38,
            "count": 86
           },
           {
            "bin_start": 38,
            "bin_end": 44.8,
            "count": 17
           },
           {
            "bin_start": 44.8,
            "bin_end": 51.6,
            "count": 54
           },
           {
            "bin_start": 51.6,
            "bin_end": 58.4,
            "count": 2
           },
           {
            "bin_start": 58.4,
            "bin_end": 65.19999999999999,
            "count": 13
           },
           {
            "bin_start": 65.19999999999999,
            "bin_end": 72,
            "count": 1
           }
          ]
         }
        },
        {
         "name": "credit_history",
         "dtype": "object",
         "stats": {
          "unique_count": 5,
          "nan_count": 0,
          "categories": [
           {
            "name": "existing_credits_paid_back_duly_till_now",
            "count": 530
           },
           {
            "name": "critical_account/other_credits_existing_not_at_this_bank",
            "count": 293
           },
           {
            "name": "3 others",
            "count": 177
           }
          ]
         }
        },
        {
         "name": "purpose",
         "dtype": "object",
         "stats": {
          "unique_count": 10,
          "nan_count": 0,
          "categories": [
           {
            "name": "radio/television",
            "count": 280
           },
           {
            "name": "car_(new)",
            "count": 234
           },
           {
            "name": "8 others",
            "count": 486
           }
          ]
         }
        },
        {
         "name": "credit_amount",
         "dtype": "int64",
         "stats": {
          "unique_count": 921,
          "nan_count": 0,
          "min": "250",
          "max": "18424",
          "histogram": [
           {
            "bin_start": 250,
            "bin_end": 2067.4,
            "count": 445
           },
           {
            "bin_start": 2067.4,
            "bin_end": 3884.8,
            "count": 293
           },
           {
            "bin_start": 3884.8,
            "bin_end": 5702.200000000001,
            "count": 97
           },
           {
            "bin_start": 5702.200000000001,
            "bin_end": 7519.6,
            "count": 80
           },
           {
            "bin_start": 7519.6,
            "bin_end": 9337,
            "count": 38
           },
           {
            "bin_start": 9337,
            "bin_end": 11154.400000000001,
            "count": 19
           },
           {
            "bin_start": 11154.400000000001,
            "bin_end": 12971.800000000001,
            "count": 14
           },
           {
            "bin_start": 12971.800000000001,
            "bin_end": 14789.2,
            "count": 8
           },
           {
            "bin_start": 14789.2,
            "bin_end": 16606.6,
            "count": 5
           },
           {
            "bin_start": 16606.6,
            "bin_end": 18424,
            "count": 1
           }
          ]
         }
        },
        {
         "name": "savings_account/bonds",
         "dtype": "int64",
         "stats": {
          "unique_count": 5,
          "nan_count": 0,
          "min": "0",
          "max": "4",
          "histogram": [
           {
            "bin_start": 0,
            "bin_end": 0.4,
            "count": 183
           },
           {
            "bin_start": 0.4,
            "bin_end": 0.8,
            "count": 0
           },
           {
            "bin_start": 0.8,
            "bin_end": 1.2000000000000002,
            "count": 603
           },
           {
            "bin_start": 1.2000000000000002,
            "bin_end": 1.6,
            "count": 0
           },
           {
            "bin_start": 1.6,
            "bin_end": 2,
            "count": 0
           },
           {
            "bin_start": 2,
            "bin_end": 2.4000000000000004,
            "count": 103
           },
           {
            "bin_start": 2.4000000000000004,
            "bin_end": 2.8000000000000003,
            "count": 0
           },
           {
            "bin_start": 2.8000000000000003,
            "bin_end": 3.2,
            "count": 63
           },
           {
            "bin_start": 3.2,
            "bin_end": 3.6,
            "count": 0
           },
           {
            "bin_start": 3.6,
            "bin_end": 4,
            "count": 48
           }
          ]
         }
        },
        {
         "name": "present_employment_since",
         "dtype": "int64",
         "stats": {
          "unique_count": 5,
          "nan_count": 0,
          "min": "0",
          "max": "4",
          "histogram": [
           {
            "bin_start": 0,
            "bin_end": 0.4,
            "count": 62
           },
           {
            "bin_start": 0.4,
            "bin_end": 0.8,
            "count": 0
           },
           {
            "bin_start": 0.8,
            "bin_end": 1.2000000000000002,
            "count": 172
           },
           {
            "bin_start": 1.2000000000000002,
            "bin_end": 1.6,
            "count": 0
           },
           {
            "bin_start": 1.6,
            "bin_end": 2,
            "count": 0
           },
           {
            "bin_start": 2,
            "bin_end": 2.4000000000000004,
            "count": 339
           },
           {
            "bin_start": 2.4000000000000004,
            "bin_end": 2.8000000000000003,
            "count": 0
           },
           {
            "bin_start": 2.8000000000000003,
            "bin_end": 3.2,
            "count": 174
           },
           {
            "bin_start": 3.2,
            "bin_end": 3.6,
            "count": 0
           },
           {
            "bin_start": 3.6,
            "bin_end": 4,
            "count": 253
           }
          ]
         }
        },
        {
         "name": "installment_rate_in_percentage_of_disposable_income",
         "dtype": "int64",
         "stats": {
          "unique_count": 4,
          "nan_count": 0,
          "min": "1",
          "max": "4",
          "histogram": [
           {
            "bin_start": 1,
            "bin_end": 1.3,
            "count": 136
           },
           {
            "bin_start": 1.3,
            "bin_end": 1.6,
            "count": 0
           },
           {
            "bin_start": 1.6,
            "bin_end": 1.9,
            "count": 0
           },
           {
            "bin_start": 1.9,
            "bin_end": 2.2,
            "count": 231
           },
           {
            "bin_start": 2.2,
            "bin_end": 2.5,
            "count": 0
           },
           {
            "bin_start": 2.5,
            "bin_end": 2.8,
            "count": 0
           },
           {
            "bin_start": 2.8,
            "bin_end": 3.1,
            "count": 157
           },
           {
            "bin_start": 3.1,
            "bin_end": 3.4,
            "count": 0
           },
           {
            "bin_start": 3.4,
            "bin_end": 3.6999999999999997,
            "count": 0
           },
           {
            "bin_start": 3.6999999999999997,
            "bin_end": 4,
            "count": 476
           }
          ]
         }
        },
        {
         "name": "personal_status_and_sex",
         "dtype": "object",
         "stats": {
          "unique_count": 4,
          "nan_count": 0,
          "categories": [
           {
            "name": "male_single",
            "count": 548
           },
           {
            "name": "female_divorced/separated/married",
            "count": 310
           },
           {
            "name": "2 others",
            "count": 142
           }
          ]
         }
        },
        {
         "name": "other_debtors/guarantors",
         "dtype": "object",
         "stats": {
          "unique_count": 3,
          "nan_count": 0,
          "categories": [
           {
            "name": "none",
            "count": 907
           },
           {
            "name": "guarantor",
            "count": 52
           },
           {
            "name": "co-applicant",
            "count": 41
           }
          ]
         }
        },
        {
         "name": "present_residence_since",
         "dtype": "int64",
         "stats": {
          "unique_count": 4,
          "nan_count": 0,
          "min": "1",
          "max": "4",
          "histogram": [
           {
            "bin_start": 1,
            "bin_end": 1.3,
            "count": 130
           },
           {
            "bin_start": 1.3,
            "bin_end": 1.6,
            "count": 0
           },
           {
            "bin_start": 1.6,
            "bin_end": 1.9,
            "count": 0
           },
           {
            "bin_start": 1.9,
            "bin_end": 2.2,
            "count": 308
           },
           {
            "bin_start": 2.2,
            "bin_end": 2.5,
            "count": 0
           },
           {
            "bin_start": 2.5,
            "bin_end": 2.8,
            "count": 0
           },
           {
            "bin_start": 2.8,
            "bin_end": 3.1,
            "count": 149
           },
           {
            "bin_start": 3.1,
            "bin_end": 3.4,
            "count": 0
           },
           {
            "bin_start": 3.4,
            "bin_end": 3.6999999999999997,
            "count": 0
           },
           {
            "bin_start": 3.6999999999999997,
            "bin_end": 4,
            "count": 413
           }
          ]
         }
        },
        {
         "name": "property",
         "dtype": "object",
         "stats": {
          "unique_count": 4,
          "nan_count": 0,
          "categories": [
           {
            "name": "car_or_other",
            "count": 332
           },
           {
            "name": "real_estate",
            "count": 282
           },
           {
            "name": "2 others",
            "count": 386
           }
          ]
         }
        },
        {
         "name": "age_in_years",
         "dtype": "int64",
         "stats": {
          "unique_count": 53,
          "nan_count": 0,
          "min": "19",
          "max": "75",
          "histogram": [
           {
            "bin_start": 19,
            "bin_end": 24.6,
            "count": 149
           },
           {
            "bin_start": 24.6,
            "bin_end": 30.2,
            "count": 262
           },
           {
            "bin_start": 30.2,
            "bin_end": 35.8,
            "count": 177
           },
           {
            "bin_start": 35.8,
            "bin_end": 41.4,
            "count": 155
           },
           {
            "bin_start": 41.4,
            "bin_end": 47,
            "count": 89
           },
           {
            "bin_start": 47,
            "bin_end": 52.599999999999994,
            "count": 72
           },
           {
            "bin_start": 52.599999999999994,
            "bin_end": 58.199999999999996,
            "count": 42
           },
           {
            "bin_start": 58.199999999999996,
            "bin_end": 63.8,
            "count": 26
           },
           {
            "bin_start": 63.8,
            "bin_end": 69.4,
            "count": 21
           },
           {
            "bin_start": 69.4,
            "bin_end": 75,
            "count": 7
           }
          ]
         }
        },
        {
         "name": "other_installment_plans",
         "dtype": "object",
         "stats": {
          "unique_count": 3,
          "nan_count": 0,
          "categories": [
           {
            "name": "none",
            "count": 814
           },
           {
            "name": "bank",
            "count": 139
           },
           {
            "name": "stores",
            "count": 47
           }
          ]
         }
        },
        {
         "name": "housing",
         "dtype": "object",
         "stats": {
          "unique_count": 3,
          "nan_count": 0,
          "categories": [
           {
            "name": "own",
            "count": 713
           },
           {
            "name": "rent",
            "count": 179
           },
           {
            "name": "for free",
            "count": 108
           }
          ]
         }
        },
        {
         "name": "number_of_existing_credits_at_this_bank",
         "dtype": "int64",
         "stats": {
          "unique_count": 4,
          "nan_count": 0,
          "min": "1",
          "max": "4",
          "histogram": [
           {
            "bin_start": 1,
            "bin_end": 1.3,
            "count": 633
           },
           {
            "bin_start": 1.3,
            "bin_end": 1.6,
            "count": 0
           },
           {
            "bin_start": 1.6,
            "bin_end": 1.9,
            "count": 0
           },
           {
            "bin_start": 1.9,
            "bin_end": 2.2,
            "count": 333
           },
           {
            "bin_start": 2.2,
            "bin_end": 2.5,
            "count": 0
           },
           {
            "bin_start": 2.5,
            "bin_end": 2.8,
            "count": 0
           },
           {
            "bin_start": 2.8,
            "bin_end": 3.1,
            "count": 28
           },
           {
            "bin_start": 3.1,
            "bin_end": 3.4,
            "count": 0
           },
           {
            "bin_start": 3.4,
            "bin_end": 3.6999999999999997,
            "count": 0
           },
           {
            "bin_start": 3.6999999999999997,
            "bin_end": 4,
            "count": 6
           }
          ]
         }
        },
        {
         "name": "job",
         "dtype": "int64",
         "stats": {
          "unique_count": 4,
          "nan_count": 0,
          "min": "0",
          "max": "3",
          "histogram": [
           {
            "bin_start": 0,
            "bin_end": 0.3,
            "count": 22
           },
           {
            "bin_start": 0.3,
            "bin_end": 0.6,
            "count": 0
           },
           {
            "bin_start": 0.6,
            "bin_end": 0.8999999999999999,
            "count": 0
           },
           {
            "bin_start": 0.8999999999999999,
            "bin_end": 1.2,
            "count": 200
           },
           {
            "bin_start": 1.2,
            "bin_end": 1.5,
            "count": 0
           },
           {
            "bin_start": 1.5,
            "bin_end": 1.7999999999999998,
            "count": 0
           },
           {
            "bin_start": 1.7999999999999998,
            "bin_end": 2.1,
            "count": 630
           },
           {
            "bin_start": 2.1,
            "bin_end": 2.4,
            "count": 0
           },
           {
            "bin_start": 2.4,
            "bin_end": 2.6999999999999997,
            "count": 0
           },
           {
            "bin_start": 2.6999999999999997,
            "bin_end": 3,
            "count": 148
           }
          ]
         }
        },
        {
         "name": "number_of_people_being_liable_to_provide_maintenance_for",
         "dtype": "int64",
         "stats": {
          "unique_count": 2,
          "nan_count": 0,
          "min": "1",
          "max": "2",
          "histogram": [
           {
            "bin_start": 1,
            "bin_end": 1.1,
            "count": 845
           },
           {
            "bin_start": 1.1,
            "bin_end": 1.2,
            "count": 0
           },
           {
            "bin_start": 1.2,
            "bin_end": 1.3,
            "count": 0
           },
           {
            "bin_start": 1.3,
            "bin_end": 1.4,
            "count": 0
           },
           {
            "bin_start": 1.4,
            "bin_end": 1.5,
            "count": 0
           },
           {
            "bin_start": 1.5,
            "bin_end": 1.6,
            "count": 0
           },
           {
            "bin_start": 1.6,
            "bin_end": 1.7000000000000002,
            "count": 0
           },
           {
            "bin_start": 1.7000000000000002,
            "bin_end": 1.8,
            "count": 0
           },
           {
            "bin_start": 1.8,
            "bin_end": 1.9,
            "count": 0
           },
           {
            "bin_start": 1.9,
            "bin_end": 2,
            "count": 155
           }
          ]
         }
        },
        {
         "name": "telephone",
         "dtype": "int64",
         "stats": {
          "unique_count": 2,
          "nan_count": 0,
          "min": "0",
          "max": "1",
          "histogram": [
           {
            "bin_start": 0,
            "bin_end": 0.1,
            "count": 596
           },
           {
            "bin_start": 0.1,
            "bin_end": 0.2,
            "count": 0
           },
           {
            "bin_start": 0.2,
            "bin_end": 0.30000000000000004,
            "count": 0
           },
           {
            "bin_start": 0.30000000000000004,
            "bin_end": 0.4,
            "count": 0
           },
           {
            "bin_start": 0.4,
            "bin_end": 0.5,
            "count": 0
           },
           {
            "bin_start": 0.5,
            "bin_end": 0.6000000000000001,
            "count": 0
           },
           {
            "bin_start": 0.6000000000000001,
            "bin_end": 0.7000000000000001,
            "count": 0
           },
           {
            "bin_start": 0.7000000000000001,
            "bin_end": 0.8,
            "count": 0
           },
           {
            "bin_start": 0.8,
            "bin_end": 0.9,
            "count": 0
           },
           {
            "bin_start": 0.9,
            "bin_end": 1,
            "count": 404
           }
          ]
         }
        },
        {
         "name": "foreign_worker",
         "dtype": "int64",
         "stats": {
          "unique_count": 2,
          "nan_count": 0,
          "min": "0",
          "max": "1",
          "histogram": [
           {
            "bin_start": 0,
            "bin_end": 0.1,
            "count": 37
           },
           {
            "bin_start": 0.1,
            "bin_end": 0.2,
            "count": 0
           },
           {
            "bin_start": 0.2,
            "bin_end": 0.30000000000000004,
            "count": 0
           },
           {
            "bin_start": 0.30000000000000004,
            "bin_end": 0.4,
            "count": 0
           },
           {
            "bin_start": 0.4,
            "bin_end": 0.5,
            "count": 0
           },
           {
            "bin_start": 0.5,
            "bin_end": 0.6000000000000001,
            "count": 0
           },
           {
            "bin_start": 0.6000000000000001,
            "bin_end": 0.7000000000000001,
            "count": 0
           },
           {
            "bin_start": 0.7000000000000001,
            "bin_end": 0.8,
            "count": 0
           },
           {
            "bin_start": 0.8,
            "bin_end": 0.9,
            "count": 0
           },
           {
            "bin_start": 0.9,
            "bin_end": 1,
            "count": 963
           }
          ]
         }
        },
        {
         "name": "credit_risk",
         "dtype": "int64",
         "stats": {
          "unique_count": 2,
          "nan_count": 0,
          "min": "0",
          "max": "1",
          "histogram": [
           {
            "bin_start": 0,
            "bin_end": 0.1,
            "count": 300
           },
           {
            "bin_start": 0.1,
            "bin_end": 0.2,
            "count": 0
           },
           {
            "bin_start": 0.2,
            "bin_end": 0.30000000000000004,
            "count": 0
           },
           {
            "bin_start": 0.30000000000000004,
            "bin_end": 0.4,
            "count": 0
           },
           {
            "bin_start": 0.4,
            "bin_end": 0.5,
            "count": 0
           },
           {
            "bin_start": 0.5,
            "bin_end": 0.6000000000000001,
            "count": 0
           },
           {
            "bin_start": 0.6000000000000001,
            "bin_end": 0.7000000000000001,
            "count": 0
           },
           {
            "bin_start": 0.7000000000000001,
            "bin_end": 0.8,
            "count": 0
           },
           {
            "bin_start": 0.8,
            "bin_end": 0.9,
            "count": 0
           },
           {
            "bin_start": 0.9,
            "bin_end": 1,
            "count": 700
           }
          ]
         }
        },
        {
         "name": "_deepnote_index_column",
         "dtype": "int64"
        }
       ],
       "rows_top": [
        {
         "status_of_existing_checking_account": 1,
         "duration_in_month": 6,
         "credit_history": "critical_account/other_credits_existing_not_at_this_bank",
         "purpose": "radio/television",
         "credit_amount": 1169,
         "savings_account/bonds": 0,
         "present_employment_since": 4,
         "installment_rate_in_percentage_of_disposable_income": 4,
         "personal_status_and_sex": "male_single",
         "other_debtors/guarantors": "none",
         "present_residence_since": 4,
         "property": "real_estate",
         "age_in_years": 67,
         "other_installment_plans": "none",
         "housing": "own",
         "number_of_existing_credits_at_this_bank": 2,
         "job": 2,
         "number_of_people_being_liable_to_provide_maintenance_for": 1,
         "telephone": 1,
         "foreign_worker": 1,
         "credit_risk": 1,
         "_deepnote_index_column": 0
        },
        {
         "status_of_existing_checking_account": 2,
         "duration_in_month": 48,
         "credit_history": "existing_credits_paid_back_duly_till_now",
         "purpose": "radio/television",
         "credit_amount": 5951,
         "savings_account/bonds": 1,
         "present_employment_since": 2,
         "installment_rate_in_percentage_of_disposable_income": 2,
         "personal_status_and_sex": "female_divorced/separated/married",
         "other_debtors/guarantors": "none",
         "present_residence_since": 2,
         "property": "real_estate",
         "age_in_years": 22,
         "other_installment_plans": "none",
         "housing": "own",
         "number_of_existing_credits_at_this_bank": 1,
         "job": 2,
         "number_of_people_being_liable_to_provide_maintenance_for": 1,
         "telephone": 0,
         "foreign_worker": 1,
         "credit_risk": 0,
         "_deepnote_index_column": 1
        },
        {
         "status_of_existing_checking_account": 0,
         "duration_in_month": 12,
         "credit_history": "critical_account/other_credits_existing_not_at_this_bank",
         "purpose": "education",
         "credit_amount": 2096,
         "savings_account/bonds": 1,
         "present_employment_since": 3,
         "installment_rate_in_percentage_of_disposable_income": 2,
         "personal_status_and_sex": "male_single",
         "other_debtors/guarantors": "none",
         "present_residence_since": 3,
         "property": "real_estate",
         "age_in_years": 49,
         "other_installment_plans": "none",
         "housing": "own",
         "number_of_existing_credits_at_this_bank": 1,
         "job": 1,
         "number_of_people_being_liable_to_provide_maintenance_for": 2,
         "telephone": 0,
         "foreign_worker": 1,
         "credit_risk": 1,
         "_deepnote_index_column": 2
        },
        {
         "status_of_existing_checking_account": 1,
         "duration_in_month": 42,
         "credit_history": "existing_credits_paid_back_duly_till_now",
         "purpose": "furniture/equipment",
         "credit_amount": 7882,
         "savings_account/bonds": 1,
         "present_employment_since": 3,
         "installment_rate_in_percentage_of_disposable_income": 2,
         "personal_status_and_sex": "male_single",
         "other_debtors/guarantors": "guarantor",
         "present_residence_since": 4,
         "property": "building_society_savings_agreement/life_insurance",
         "age_in_years": 45,
         "other_installment_plans": "none",
         "housing": "for free",
         "number_of_existing_credits_at_this_bank": 1,
         "job": 2,
         "number_of_people_being_liable_to_provide_maintenance_for": 2,
         "telephone": 0,
         "foreign_worker": 1,
         "credit_risk": 1,
         "_deepnote_index_column": 3
        },
        {
         "status_of_existing_checking_account": 1,
         "duration_in_month": 24,
         "credit_history": "delay_in_paying_off_in_the_past",
         "purpose": "car_(new)",
         "credit_amount": 4870,
         "savings_account/bonds": 1,
         "present_employment_since": 2,
         "installment_rate_in_percentage_of_disposable_income": 3,
         "personal_status_and_sex": "male_single",
         "other_debtors/guarantors": "none",
         "present_residence_since": 4,
         "property": "unknown/no_property",
         "age_in_years": 53,
         "other_installment_plans": "none",
         "housing": "for free",
         "number_of_existing_credits_at_this_bank": 2,
         "job": 2,
         "number_of_people_being_liable_to_provide_maintenance_for": 2,
         "telephone": 0,
         "foreign_worker": 1,
         "credit_risk": 0,
         "_deepnote_index_column": 4
        },
        {
         "status_of_existing_checking_account": 0,
         "duration_in_month": 36,
         "credit_history": "existing_credits_paid_back_duly_till_now",
         "purpose": "education",
         "credit_amount": 9055,
         "savings_account/bonds": 0,
         "present_employment_since": 2,
         "installment_rate_in_percentage_of_disposable_income": 2,
         "personal_status_and_sex": "male_single",
         "other_debtors/guarantors": "none",
         "present_residence_since": 4,
         "property": "unknown/no_property",
         "age_in_years": 35,
         "other_installment_plans": "none",
         "housing": "for free",
         "number_of_existing_credits_at_this_bank": 1,
         "job": 1,
         "number_of_people_being_liable_to_provide_maintenance_for": 2,
         "telephone": 1,
         "foreign_worker": 1,
         "credit_risk": 1,
         "_deepnote_index_column": 5
        },
        {
         "status_of_existing_checking_account": 0,
         "duration_in_month": 24,
         "credit_history": "existing_credits_paid_back_duly_till_now",
         "purpose": "furniture/equipment",
         "credit_amount": 2835,
         "savings_account/bonds": 3,
         "present_employment_since": 4,
         "installment_rate_in_percentage_of_disposable_income": 3,
         "personal_status_and_sex": "male_single",
         "other_debtors/guarantors": "none",
         "present_residence_since": 4,
         "property": "building_society_savings_agreement/life_insurance",
         "age_in_years": 53,
         "other_installment_plans": "none",
         "housing": "own",
         "number_of_existing_credits_at_this_bank": 1,
         "job": 2,
         "number_of_people_being_liable_to_provide_maintenance_for": 1,
         "telephone": 0,
         "foreign_worker": 1,
         "credit_risk": 1,
         "_deepnote_index_column": 6
        },
        {
         "status_of_existing_checking_account": 2,
         "duration_in_month": 36,
         "credit_history": "existing_credits_paid_back_duly_till_now",
         "purpose": "car_(used)",
         "credit_amount": 6948,
         "savings_account/bonds": 1,
         "present_employment_since": 2,
         "installment_rate_in_percentage_of_disposable_income": 2,
         "personal_status_and_sex": "male_single",
         "other_debtors/guarantors": "none",
         "present_residence_since": 2,
         "property": "car_or_other",
         "age_in_years": 35,
         "other_installment_plans": "none",
         "housing": "rent",
         "number_of_existing_credits_at_this_bank": 1,
         "job": 3,
         "number_of_people_being_liable_to_provide_maintenance_for": 1,
         "telephone": 1,
         "foreign_worker": 1,
         "credit_risk": 1,
         "_deepnote_index_column": 7
        },
        {
         "status_of_existing_checking_account": 0,
         "duration_in_month": 12,
         "credit_history": "existing_credits_paid_back_duly_till_now",
         "purpose": "radio/television",
         "credit_amount": 3059,
         "savings_account/bonds": 4,
         "present_employment_since": 3,
         "installment_rate_in_percentage_of_disposable_income": 2,
         "personal_status_and_sex": "male_divorced/separated",
         "other_debtors/guarantors": "none",
         "present_residence_since": 4,
         "property": "real_estate",
         "age_in_years": 61,
         "other_installment_plans": "none",
         "housing": "own",
         "number_of_existing_credits_at_this_bank": 1,
         "job": 1,
         "number_of_people_being_liable_to_provide_maintenance_for": 1,
         "telephone": 0,
         "foreign_worker": 1,
         "credit_risk": 1,
         "_deepnote_index_column": 8
        },
        {
         "status_of_existing_checking_account": 2,
         "duration_in_month": 30,
         "credit_history": "critical_account/other_credits_existing_not_at_this_bank",
         "purpose": "car_(new)",
         "credit_amount": 5234,
         "savings_account/bonds": 1,
         "present_employment_since": 0,
         "installment_rate_in_percentage_of_disposable_income": 4,
         "personal_status_and_sex": "male_married/widowed",
         "other_debtors/guarantors": "none",
         "present_residence_since": 2,
         "property": "car_or_other",
         "age_in_years": 28,
         "other_installment_plans": "none",
         "housing": "own",
         "number_of_existing_credits_at_this_bank": 2,
         "job": 3,
         "number_of_people_being_liable_to_provide_maintenance_for": 1,
         "telephone": 0,
         "foreign_worker": 1,
         "credit_risk": 0,
         "_deepnote_index_column": 9
        },
        {
         "status_of_existing_checking_account": 2,
         "duration_in_month": 12,
         "credit_history": "existing_credits_paid_back_duly_till_now",
         "purpose": "car_(new)",
         "credit_amount": 1295,
         "savings_account/bonds": 1,
         "present_employment_since": 1,
         "installment_rate_in_percentage_of_disposable_income": 3,
         "personal_status_and_sex": "female_divorced/separated/married",
         "other_debtors/guarantors": "none",
         "present_residence_since": 1,
         "property": "car_or_other",
         "age_in_years": 25,
         "other_installment_plans": "none",
         "housing": "rent",
         "number_of_existing_credits_at_this_bank": 1,
         "job": 2,
         "number_of_people_being_liable_to_provide_maintenance_for": 1,
         "telephone": 0,
         "foreign_worker": 1,
         "credit_risk": 0,
         "_deepnote_index_column": 10
        },
        {
         "status_of_existing_checking_account": 1,
         "duration_in_month": 48,
         "credit_history": "existing_credits_paid_back_duly_till_now",
         "purpose": "business",
         "credit_amount": 4308,
         "savings_account/bonds": 1,
         "present_employment_since": 1,
         "installment_rate_in_percentage_of_disposable_income": 3,
         "personal_status_and_sex": "female_divorced/separated/married",
         "other_debtors/guarantors": "none",
         "present_residence_since": 4,
         "property": "building_society_savings_agreement/life_insurance",
         "age_in_years": 24,
         "other_installment_plans": "none",
         "housing": "rent",
         "number_of_existing_credits_at_this_bank": 1,
         "job": 2,
         "number_of_people_being_liable_to_provide_maintenance_for": 1,
         "telephone": 0,
         "foreign_worker": 1,
         "credit_risk": 0,
         "_deepnote_index_column": 11
        },
        {
         "status_of_existing_checking_account": 2,
         "duration_in_month": 12,
         "credit_history": "existing_credits_paid_back_duly_till_now",
         "purpose": "radio/television",
         "credit_amount": 1567,
         "savings_account/bonds": 1,
         "present_employment_since": 2,
         "installment_rate_in_percentage_of_disposable_income": 1,
         "personal_status_and_sex": "female_divorced/separated/married",
         "other_debtors/guarantors": "none",
         "present_residence_since": 1,
         "property": "car_or_other",
         "age_in_years": 22,
         "other_installment_plans": "none",
         "housing": "own",
         "number_of_existing_credits_at_this_bank": 1,
         "job": 2,
         "number_of_people_being_liable_to_provide_maintenance_for": 1,
         "telephone": 1,
         "foreign_worker": 1,
         "credit_risk": 1,
         "_deepnote_index_column": 12
        },
        {
         "status_of_existing_checking_account": 1,
         "duration_in_month": 24,
         "credit_history": "critical_account/other_credits_existing_not_at_this_bank",
         "purpose": "car_(new)",
         "credit_amount": 1199,
         "savings_account/bonds": 1,
         "present_employment_since": 4,
         "installment_rate_in_percentage_of_disposable_income": 4,
         "personal_status_and_sex": "male_single",
         "other_debtors/guarantors": "none",
         "present_residence_since": 4,
         "property": "car_or_other",
         "age_in_years": 60,
         "other_installment_plans": "none",
         "housing": "own",
         "number_of_existing_credits_at_this_bank": 2,
         "job": 1,
         "number_of_people_being_liable_to_provide_maintenance_for": 1,
         "telephone": 0,
         "foreign_worker": 1,
         "credit_risk": 0,
         "_deepnote_index_column": 13
        },
        {
         "status_of_existing_checking_account": 1,
         "duration_in_month": 15,
         "credit_history": "existing_credits_paid_back_duly_till_now",
         "purpose": "car_(new)",
         "credit_amount": 1403,
         "savings_account/bonds": 1,
         "present_employment_since": 2,
         "installment_rate_in_percentage_of_disposable_income": 2,
         "personal_status_and_sex": "female_divorced/separated/married",
         "other_debtors/guarantors": "none",
         "present_residence_since": 4,
         "property": "car_or_other",
         "age_in_years": 28,
         "other_installment_plans": "none",
         "housing": "rent",
         "number_of_existing_credits_at_this_bank": 1,
         "job": 2,
         "number_of_people_being_liable_to_provide_maintenance_for": 1,
         "telephone": 0,
         "foreign_worker": 1,
         "credit_risk": 1,
         "_deepnote_index_column": 14
        },
        {
         "status_of_existing_checking_account": 1,
         "duration_in_month": 24,
         "credit_history": "existing_credits_paid_back_duly_till_now",
         "purpose": "radio/television",
         "credit_amount": 1282,
         "savings_account/bonds": 2,
         "present_employment_since": 2,
         "installment_rate_in_percentage_of_disposable_income": 4,
         "personal_status_and_sex": "female_divorced/separated/married",
         "other_debtors/guarantors": "none",
         "present_residence_since": 2,
         "property": "car_or_other",
         "age_in_years": 32,
         "other_installment_plans": "none",
         "housing": "own",
         "number_of_existing_credits_at_this_bank": 1,
         "job": 1,
         "number_of_people_being_liable_to_provide_maintenance_for": 1,
         "telephone": 0,
         "foreign_worker": 1,
         "credit_risk": 0,
         "_deepnote_index_column": 15
        },
        {
         "status_of_existing_checking_account": 0,
         "duration_in_month": 24,
         "credit_history": "critical_account/other_credits_existing_not_at_this_bank",
         "purpose": "radio/television",
         "credit_amount": 2424,
         "savings_account/bonds": 0,
         "present_employment_since": 4,
         "installment_rate_in_percentage_of_disposable_income": 4,
         "personal_status_and_sex": "male_single",
         "other_debtors/guarantors": "none",
         "present_residence_since": 4,
         "property": "building_society_savings_agreement/life_insurance",
         "age_in_years": 53,
         "other_installment_plans": "none",
         "housing": "own",
         "number_of_existing_credits_at_this_bank": 2,
         "job": 2,
         "number_of_people_being_liable_to_provide_maintenance_for": 1,
         "telephone": 0,
         "foreign_worker": 1,
         "credit_risk": 1,
         "_deepnote_index_column": 16
        },
        {
         "status_of_existing_checking_account": 1,
         "duration_in_month": 30,
         "credit_history": "no_credits_taken/all_credits_paid_back_duly",
         "purpose": "business",
         "credit_amount": 8072,
         "savings_account/bonds": 0,
         "present_employment_since": 1,
         "installment_rate_in_percentage_of_disposable_income": 2,
         "personal_status_and_sex": "male_single",
         "other_debtors/guarantors": "none",
         "present_residence_since": 3,
         "property": "car_or_other",
         "age_in_years": 25,
         "other_installment_plans": "bank",
         "housing": "own",
         "number_of_existing_credits_at_this_bank": 3,
         "job": 2,
         "number_of_people_being_liable_to_provide_maintenance_for": 1,
         "telephone": 0,
         "foreign_worker": 1,
         "credit_risk": 1,
         "_deepnote_index_column": 17
        },
        {
         "status_of_existing_checking_account": 2,
         "duration_in_month": 24,
         "credit_history": "existing_credits_paid_back_duly_till_now",
         "purpose": "car_(used)",
         "credit_amount": 12579,
         "savings_account/bonds": 1,
         "present_employment_since": 4,
         "installment_rate_in_percentage_of_disposable_income": 4,
         "personal_status_and_sex": "female_divorced/separated/married",
         "other_debtors/guarantors": "none",
         "present_residence_since": 2,
         "property": "unknown/no_property",
         "age_in_years": 44,
         "other_installment_plans": "none",
         "housing": "for free",
         "number_of_existing_credits_at_this_bank": 1,
         "job": 3,
         "number_of_people_being_liable_to_provide_maintenance_for": 1,
         "telephone": 1,
         "foreign_worker": 1,
         "credit_risk": 0,
         "_deepnote_index_column": 18
        },
        {
         "status_of_existing_checking_account": 0,
         "duration_in_month": 24,
         "credit_history": "existing_credits_paid_back_duly_till_now",
         "purpose": "radio/television",
         "credit_amount": 3430,
         "savings_account/bonds": 3,
         "present_employment_since": 4,
         "installment_rate_in_percentage_of_disposable_income": 3,
         "personal_status_and_sex": "male_single",
         "other_debtors/guarantors": "none",
         "present_residence_since": 2,
         "property": "car_or_other",
         "age_in_years": 31,
         "other_installment_plans": "none",
         "housing": "own",
         "number_of_existing_credits_at_this_bank": 1,
         "job": 2,
         "number_of_people_being_liable_to_provide_maintenance_for": 2,
         "telephone": 1,
         "foreign_worker": 1,
         "credit_risk": 1,
         "_deepnote_index_column": 19
        },
        {
         "status_of_existing_checking_account": 0,
         "duration_in_month": 9,
         "credit_history": "critical_account/other_credits_existing_not_at_this_bank",
         "purpose": "car_(new)",
         "credit_amount": 2134,
         "savings_account/bonds": 1,
         "present_employment_since": 2,
         "installment_rate_in_percentage_of_disposable_income": 4,
         "personal_status_and_sex": "male_single",
         "other_debtors/guarantors": "none",
         "present_residence_since": 4,
         "property": "car_or_other",
         "age_in_years": 48,
         "other_installment_plans": "none",
         "housing": "own",
         "number_of_existing_credits_at_this_bank": 3,
         "job": 2,
         "number_of_people_being_liable_to_provide_maintenance_for": 1,
         "telephone": 1,
         "foreign_worker": 1,
         "credit_risk": 1,
         "_deepnote_index_column": 20
        },
        {
         "status_of_existing_checking_account": 1,
         "duration_in_month": 6,
         "credit_history": "existing_credits_paid_back_duly_till_now",
         "purpose": "radio/television",
         "credit_amount": 2647,
         "savings_account/bonds": 3,
         "present_employment_since": 2,
         "installment_rate_in_percentage_of_disposable_income": 2,
         "personal_status_and_sex": "male_single",
         "other_debtors/guarantors": "none",
         "present_residence_since": 3,
         "property": "real_estate",
         "age_in_years": 44,
         "other_installment_plans": "none",
         "housing": "rent",
         "number_of_existing_credits_at_this_bank": 1,
         "job": 2,
         "number_of_people_being_liable_to_provide_maintenance_for": 2,
         "telephone": 0,
         "foreign_worker": 1,
         "credit_risk": 1,
         "_deepnote_index_column": 21
        },
        {
         "status_of_existing_checking_account": 1,
         "duration_in_month": 10,
         "credit_history": "critical_account/other_credits_existing_not_at_this_bank",
         "purpose": "car_(new)",
         "credit_amount": 2241,
         "savings_account/bonds": 1,
         "present_employment_since": 1,
         "installment_rate_in_percentage_of_disposable_income": 1,
         "personal_status_and_sex": "male_single",
         "other_debtors/guarantors": "none",
         "present_residence_since": 3,
         "property": "real_estate",
         "age_in_years": 48,
         "other_installment_plans": "none",
         "housing": "rent",
         "number_of_existing_credits_at_this_bank": 2,
         "job": 1,
         "number_of_people_being_liable_to_provide_maintenance_for": 2,
         "telephone": 0,
         "foreign_worker": 0,
         "credit_risk": 1,
         "_deepnote_index_column": 22
        }
       ],
       "rows_bottom": [
        {
         "status_of_existing_checking_account": 2,
         "duration_in_month": 6,
         "credit_history": "existing_credits_paid_back_duly_till_now",
         "purpose": "radio/television",
         "credit_amount": 753,
         "savings_account/bonds": 1,
         "present_employment_since": 2,
         "installment_rate_in_percentage_of_disposable_income": 2,
         "personal_status_and_sex": "female_divorced/separated/married",
         "other_debtors/guarantors": "guarantor",
         "present_residence_since": 3,
         "property": "real_estate",
         "age_in_years": 64,
         "other_installment_plans": "none",
         "housing": "own",
         "number_of_existing_credits_at_this_bank": 1,
         "job": 2,
         "number_of_people_being_liable_to_provide_maintenance_for": 1,
         "telephone": 0,
         "foreign_worker": 1,
         "credit_risk": 1,
         "_deepnote_index_column": 976
        },
        {
         "status_of_existing_checking_account": 2,
         "duration_in_month": 18,
         "credit_history": "delay_in_paying_off_in_the_past",
         "purpose": "business",
         "credit_amount": 2427,
         "savings_account/bonds": 0,
         "present_employment_since": 4,
         "installment_rate_in_percentage_of_disposable_income": 4,
         "personal_status_and_sex": "male_single",
         "other_debtors/guarantors": "none",
         "present_residence_since": 2,
         "property": "building_society_savings_agreement/life_insurance",
         "age_in_years": 42,
         "other_installment_plans": "none",
         "housing": "own",
         "number_of_existing_credits_at_this_bank": 2,
         "job": 2,
         "number_of_people_being_liable_to_provide_maintenance_for": 1,
         "telephone": 0,
         "foreign_worker": 1,
         "credit_risk": 1,
         "_deepnote_index_column": 977
        },
        {
         "status_of_existing_checking_account": 0,
         "duration_in_month": 24,
         "credit_history": "delay_in_paying_off_in_the_past",
         "purpose": "car_(new)",
         "credit_amount": 2538,
         "savings_account/bonds": 1,
         "present_employment_since": 4,
         "installment_rate_in_percentage_of_disposable_income": 4,
         "personal_status_and_sex": "male_single",
         "other_debtors/guarantors": "none",
         "present_residence_since": 4,
         "property": "car_or_other",
         "age_in_years": 47,
         "other_installment_plans": "none",
         "housing": "own",
         "number_of_existing_credits_at_this_bank": 2,
         "job": 1,
         "number_of_people_being_liable_to_provide_maintenance_for": 2,
         "telephone": 0,
         "foreign_worker": 1,
         "credit_risk": 0,
         "_deepnote_index_column": 978
        },
        {
         "status_of_existing_checking_account": 2,
         "duration_in_month": 15,
         "credit_history": "all_credits_at_this_bank_paid_back_duly",
         "purpose": "car_(new)",
         "credit_amount": 1264,
         "savings_account/bonds": 2,
         "present_employment_since": 2,
         "installment_rate_in_percentage_of_disposable_income": 2,
         "personal_status_and_sex": "male_married/widowed",
         "other_debtors/guarantors": "none",
         "present_residence_since": 2,
         "property": "building_society_savings_agreement/life_insurance",
         "age_in_years": 25,
         "other_installment_plans": "none",
         "housing": "rent",
         "number_of_existing_credits_at_this_bank": 1,
         "job": 2,
         "number_of_people_being_liable_to_provide_maintenance_for": 1,
         "telephone": 0,
         "foreign_worker": 1,
         "credit_risk": 0,
         "_deepnote_index_column": 979
        },
        {
         "status_of_existing_checking_account": 2,
         "duration_in_month": 30,
         "credit_history": "critical_account/other_credits_existing_not_at_this_bank",
         "purpose": "furniture/equipment",
         "credit_amount": 8386,
         "savings_account/bonds": 1,
         "present_employment_since": 3,
         "installment_rate_in_percentage_of_disposable_income": 2,
         "personal_status_and_sex": "male_single",
         "other_debtors/guarantors": "none",
         "present_residence_since": 2,
         "property": "building_society_savings_agreement/life_insurance",
         "age_in_years": 49,
         "other_installment_plans": "none",
         "housing": "own",
         "number_of_existing_credits_at_this_bank": 1,
         "job": 2,
         "number_of_people_being_liable_to_provide_maintenance_for": 1,
         "telephone": 0,
         "foreign_worker": 1,
         "credit_risk": 0,
         "_deepnote_index_column": 980
        },
        {
         "status_of_existing_checking_account": 0,
         "duration_in_month": 48,
         "credit_history": "existing_credits_paid_back_duly_till_now",
         "purpose": "business",
         "credit_amount": 4844,
         "savings_account/bonds": 1,
         "present_employment_since": 0,
         "installment_rate_in_percentage_of_disposable_income": 3,
         "personal_status_and_sex": "male_single",
         "other_debtors/guarantors": "none",
         "present_residence_since": 2,
         "property": "car_or_other",
         "age_in_years": 33,
         "other_installment_plans": "bank",
         "housing": "rent",
         "number_of_existing_credits_at_this_bank": 1,
         "job": 3,
         "number_of_people_being_liable_to_provide_maintenance_for": 1,
         "telephone": 1,
         "foreign_worker": 1,
         "credit_risk": 0,
         "_deepnote_index_column": 981
        },
        {
         "status_of_existing_checking_account": 3,
         "duration_in_month": 21,
         "credit_history": "existing_credits_paid_back_duly_till_now",
         "purpose": "car_(new)",
         "credit_amount": 2923,
         "savings_account/bonds": 2,
         "present_employment_since": 2,
         "installment_rate_in_percentage_of_disposable_income": 1,
         "personal_status_and_sex": "female_divorced/separated/married",
         "other_debtors/guarantors": "none",
         "present_residence_since": 1,
         "property": "car_or_other",
         "age_in_years": 28,
         "other_installment_plans": "bank",
         "housing": "own",
         "number_of_existing_credits_at_this_bank": 1,
         "job": 3,
         "number_of_people_being_liable_to_provide_maintenance_for": 1,
         "telephone": 1,
         "foreign_worker": 1,
         "credit_risk": 1,
         "_deepnote_index_column": 982
        },
        {
         "status_of_existing_checking_account": 1,
         "duration_in_month": 36,
         "credit_history": "existing_credits_paid_back_duly_till_now",
         "purpose": "car_(used)",
         "credit_amount": 8229,
         "savings_account/bonds": 1,
         "present_employment_since": 2,
         "installment_rate_in_percentage_of_disposable_income": 2,
         "personal_status_and_sex": "male_single",
         "other_debtors/guarantors": "none",
         "present_residence_since": 2,
         "property": "building_society_savings_agreement/life_insurance",
         "age_in_years": 26,
         "other_installment_plans": "none",
         "housing": "own",
         "number_of_existing_credits_at_this_bank": 1,
         "job": 2,
         "number_of_people_being_liable_to_provide_maintenance_for": 2,
         "telephone": 0,
         "foreign_worker": 1,
         "credit_risk": 0,
         "_deepnote_index_column": 983
        },
        {
         "status_of_existing_checking_account": 0,
         "duration_in_month": 24,
         "credit_history": "critical_account/other_credits_existing_not_at_this_bank",
         "purpose": "furniture/equipment",
         "credit_amount": 2028,
         "savings_account/bonds": 1,
         "present_employment_since": 3,
         "installment_rate_in_percentage_of_disposable_income": 2,
         "personal_status_and_sex": "male_single",
         "other_debtors/guarantors": "none",
         "present_residence_since": 2,
         "property": "building_society_savings_agreement/life_insurance",
         "age_in_years": 30,
         "other_installment_plans": "none",
         "housing": "own",
         "number_of_existing_credits_at_this_bank": 2,
         "job": 1,
         "number_of_people_being_liable_to_provide_maintenance_for": 1,
         "telephone": 0,
         "foreign_worker": 1,
         "credit_risk": 1,
         "_deepnote_index_column": 984
        },
        {
         "status_of_existing_checking_account": 1,
         "duration_in_month": 15,
         "credit_history": "critical_account/other_credits_existing_not_at_this_bank",
         "purpose": "furniture/equipment",
         "credit_amount": 1433,
         "savings_account/bonds": 1,
         "present_employment_since": 2,
         "installment_rate_in_percentage_of_disposable_income": 4,
         "personal_status_and_sex": "female_divorced/separated/married",
         "other_debtors/guarantors": "none",
         "present_residence_since": 3,
         "property": "building_society_savings_agreement/life_insurance",
         "age_in_years": 25,
         "other_installment_plans": "none",
         "housing": "rent",
         "number_of_existing_credits_at_this_bank": 2,
         "job": 2,
         "number_of_people_being_liable_to_provide_maintenance_for": 1,
         "telephone": 0,
         "foreign_worker": 1,
         "credit_risk": 1,
         "_deepnote_index_column": 985
        },
        {
         "status_of_existing_checking_account": 3,
         "duration_in_month": 42,
         "credit_history": "no_credits_taken/all_credits_paid_back_duly",
         "purpose": "business",
         "credit_amount": 6289,
         "savings_account/bonds": 1,
         "present_employment_since": 1,
         "installment_rate_in_percentage_of_disposable_income": 2,
         "personal_status_and_sex": "male_divorced/separated",
         "other_debtors/guarantors": "none",
         "present_residence_since": 1,
         "property": "building_society_savings_agreement/life_insurance",
         "age_in_years": 33,
         "other_installment_plans": "none",
         "housing": "own",
         "number_of_existing_credits_at_this_bank": 2,
         "job": 2,
         "number_of_people_being_liable_to_provide_maintenance_for": 1,
         "telephone": 0,
         "foreign_worker": 1,
         "credit_risk": 1,
         "_deepnote_index_column": 986
        },
        {
         "status_of_existing_checking_account": 0,
         "duration_in_month": 13,
         "credit_history": "existing_credits_paid_back_duly_till_now",
         "purpose": "radio/television",
         "credit_amount": 1409,
         "savings_account/bonds": 2,
         "present_employment_since": 0,
         "installment_rate_in_percentage_of_disposable_income": 2,
         "personal_status_and_sex": "female_divorced/separated/married",
         "other_debtors/guarantors": "none",
         "present_residence_since": 4,
         "property": "real_estate",
         "age_in_years": 64,
         "other_installment_plans": "none",
         "housing": "own",
         "number_of_existing_credits_at_this_bank": 1,
         "job": 2,
         "number_of_people_being_liable_to_provide_maintenance_for": 1,
         "telephone": 0,
         "foreign_worker": 1,
         "credit_risk": 1,
         "_deepnote_index_column": 987
        },
        {
         "status_of_existing_checking_account": 1,
         "duration_in_month": 24,
         "credit_history": "existing_credits_paid_back_duly_till_now",
         "purpose": "car_(used)",
         "credit_amount": 6579,
         "savings_account/bonds": 1,
         "present_employment_since": 0,
         "installment_rate_in_percentage_of_disposable_income": 4,
         "personal_status_and_sex": "male_single",
         "other_debtors/guarantors": "none",
         "present_residence_since": 2,
         "property": "unknown/no_property",
         "age_in_years": 29,
         "other_installment_plans": "none",
         "housing": "for free",
         "number_of_existing_credits_at_this_bank": 1,
         "job": 3,
         "number_of_people_being_liable_to_provide_maintenance_for": 1,
         "telephone": 1,
         "foreign_worker": 1,
         "credit_risk": 1,
         "_deepnote_index_column": 988
        },
        {
         "status_of_existing_checking_account": 2,
         "duration_in_month": 24,
         "credit_history": "critical_account/other_credits_existing_not_at_this_bank",
         "purpose": "radio/television",
         "credit_amount": 1743,
         "savings_account/bonds": 1,
         "present_employment_since": 4,
         "installment_rate_in_percentage_of_disposable_income": 4,
         "personal_status_and_sex": "male_single",
         "other_debtors/guarantors": "none",
         "present_residence_since": 2,
         "property": "building_society_savings_agreement/life_insurance",
         "age_in_years": 48,
         "other_installment_plans": "none",
         "housing": "own",
         "number_of_existing_credits_at_this_bank": 2,
         "job": 1,
         "number_of_people_being_liable_to_provide_maintenance_for": 1,
         "telephone": 0,
         "foreign_worker": 1,
         "credit_risk": 1,
         "_deepnote_index_column": 989
        },
        {
         "status_of_existing_checking_account": 0,
         "duration_in_month": 12,
         "credit_history": "critical_account/other_credits_existing_not_at_this_bank",
         "purpose": "education",
         "credit_amount": 3565,
         "savings_account/bonds": 0,
         "present_employment_since": 1,
         "installment_rate_in_percentage_of_disposable_income": 2,
         "personal_status_and_sex": "male_single",
         "other_debtors/guarantors": "none",
         "present_residence_since": 1,
         "property": "building_society_savings_agreement/life_insurance",
         "age_in_years": 37,
         "other_installment_plans": "none",
         "housing": "own",
         "number_of_existing_credits_at_this_bank": 2,
         "job": 1,
         "number_of_people_being_liable_to_provide_maintenance_for": 2,
         "telephone": 0,
         "foreign_worker": 1,
         "credit_risk": 1,
         "_deepnote_index_column": 990
        },
        {
         "status_of_existing_checking_account": 0,
         "duration_in_month": 15,
         "credit_history": "all_credits_at_this_bank_paid_back_duly",
         "purpose": "radio/television",
         "credit_amount": 1569,
         "savings_account/bonds": 2,
         "present_employment_since": 4,
         "installment_rate_in_percentage_of_disposable_income": 4,
         "personal_status_and_sex": "male_single",
         "other_debtors/guarantors": "none",
         "present_residence_since": 4,
         "property": "car_or_other",
         "age_in_years": 34,
         "other_installment_plans": "bank",
         "housing": "own",
         "number_of_existing_credits_at_this_bank": 1,
         "job": 1,
         "number_of_people_being_liable_to_provide_maintenance_for": 2,
         "telephone": 0,
         "foreign_worker": 1,
         "credit_risk": 1,
         "_deepnote_index_column": 991
        },
        {
         "status_of_existing_checking_account": 1,
         "duration_in_month": 18,
         "credit_history": "existing_credits_paid_back_duly_till_now",
         "purpose": "radio/television",
         "credit_amount": 1936,
         "savings_account/bonds": 0,
         "present_employment_since": 3,
         "installment_rate_in_percentage_of_disposable_income": 2,
         "personal_status_and_sex": "male_married/widowed",
         "other_debtors/guarantors": "none",
         "present_residence_since": 4,
         "property": "car_or_other",
         "age_in_years": 23,
         "other_installment_plans": "none",
         "housing": "rent",
         "number_of_existing_credits_at_this_bank": 2,
         "job": 1,
         "number_of_people_being_liable_to_provide_maintenance_for": 1,
         "telephone": 0,
         "foreign_worker": 1,
         "credit_risk": 1,
         "_deepnote_index_column": 992
        },
        {
         "status_of_existing_checking_account": 1,
         "duration_in_month": 36,
         "credit_history": "existing_credits_paid_back_duly_till_now",
         "purpose": "furniture/equipment",
         "credit_amount": 3959,
         "savings_account/bonds": 1,
         "present_employment_since": 0,
         "installment_rate_in_percentage_of_disposable_income": 4,
         "personal_status_and_sex": "male_single",
         "other_debtors/guarantors": "none",
         "present_residence_since": 3,
         "property": "building_society_savings_agreement/life_insurance",
         "age_in_years": 30,
         "other_installment_plans": "none",
         "housing": "own",
         "number_of_existing_credits_at_this_bank": 1,
         "job": 3,
         "number_of_people_being_liable_to_provide_maintenance_for": 1,
         "telephone": 1,
         "foreign_worker": 1,
         "credit_risk": 1,
         "_deepnote_index_column": 993
        },
        {
         "status_of_existing_checking_account": 0,
         "duration_in_month": 12,
         "credit_history": "existing_credits_paid_back_duly_till_now",
         "purpose": "car_(new)",
         "credit_amount": 2390,
         "savings_account/bonds": 0,
         "present_employment_since": 4,
         "installment_rate_in_percentage_of_disposable_income": 4,
         "personal_status_and_sex": "male_single",
         "other_debtors/guarantors": "none",
         "present_residence_since": 3,
         "property": "car_or_other",
         "age_in_years": 50,
         "other_installment_plans": "none",
         "housing": "own",
         "number_of_existing_credits_at_this_bank": 1,
         "job": 2,
         "number_of_people_being_liable_to_provide_maintenance_for": 1,
         "telephone": 1,
         "foreign_worker": 1,
         "credit_risk": 1,
         "_deepnote_index_column": 994
        },
        {
         "status_of_existing_checking_account": 0,
         "duration_in_month": 12,
         "credit_history": "existing_credits_paid_back_duly_till_now",
         "purpose": "furniture/equipment",
         "credit_amount": 1736,
         "savings_account/bonds": 1,
         "present_employment_since": 3,
         "installment_rate_in_percentage_of_disposable_income": 3,
         "personal_status_and_sex": "female_divorced/separated/married",
         "other_debtors/guarantors": "none",
         "present_residence_since": 4,
         "property": "real_estate",
         "age_in_years": 31,
         "other_installment_plans": "none",
         "housing": "own",
         "number_of_existing_credits_at_this_bank": 1,
         "job": 1,
         "number_of_people_being_liable_to_provide_maintenance_for": 1,
         "telephone": 0,
         "foreign_worker": 1,
         "credit_risk": 1,
         "_deepnote_index_column": 995
        },
        {
         "status_of_existing_checking_account": 1,
         "duration_in_month": 30,
         "credit_history": "existing_credits_paid_back_duly_till_now",
         "purpose": "car_(used)",
         "credit_amount": 3857,
         "savings_account/bonds": 1,
         "present_employment_since": 2,
         "installment_rate_in_percentage_of_disposable_income": 4,
         "personal_status_and_sex": "male_divorced/separated",
         "other_debtors/guarantors": "none",
         "present_residence_since": 4,
         "property": "building_society_savings_agreement/life_insurance",
         "age_in_years": 40,
         "other_installment_plans": "none",
         "housing": "own",
         "number_of_existing_credits_at_this_bank": 1,
         "job": 3,
         "number_of_people_being_liable_to_provide_maintenance_for": 1,
         "telephone": 1,
         "foreign_worker": 1,
         "credit_risk": 1,
         "_deepnote_index_column": 996
        },
        {
         "status_of_existing_checking_account": 0,
         "duration_in_month": 12,
         "credit_history": "existing_credits_paid_back_duly_till_now",
         "purpose": "radio/television",
         "credit_amount": 804,
         "savings_account/bonds": 1,
         "present_employment_since": 4,
         "installment_rate_in_percentage_of_disposable_income": 4,
         "personal_status_and_sex": "male_single",
         "other_debtors/guarantors": "none",
         "present_residence_since": 4,
         "property": "car_or_other",
         "age_in_years": 38,
         "other_installment_plans": "none",
         "housing": "own",
         "number_of_existing_credits_at_this_bank": 1,
         "job": 2,
         "number_of_people_being_liable_to_provide_maintenance_for": 1,
         "telephone": 0,
         "foreign_worker": 1,
         "credit_risk": 1,
         "_deepnote_index_column": 997
        },
        {
         "status_of_existing_checking_account": 1,
         "duration_in_month": 45,
         "credit_history": "existing_credits_paid_back_duly_till_now",
         "purpose": "radio/television",
         "credit_amount": 1845,
         "savings_account/bonds": 1,
         "present_employment_since": 2,
         "installment_rate_in_percentage_of_disposable_income": 4,
         "personal_status_and_sex": "male_single",
         "other_debtors/guarantors": "none",
         "present_residence_since": 4,
         "property": "unknown/no_property",
         "age_in_years": 23,
         "other_installment_plans": "none",
         "housing": "for free",
         "number_of_existing_credits_at_this_bank": 1,
         "job": 2,
         "number_of_people_being_liable_to_provide_maintenance_for": 1,
         "telephone": 1,
         "foreign_worker": 1,
         "credit_risk": 0,
         "_deepnote_index_column": 998
        },
        {
         "status_of_existing_checking_account": 2,
         "duration_in_month": 45,
         "credit_history": "critical_account/other_credits_existing_not_at_this_bank",
         "purpose": "car_(used)",
         "credit_amount": 4576,
         "savings_account/bonds": 2,
         "present_employment_since": 0,
         "installment_rate_in_percentage_of_disposable_income": 3,
         "personal_status_and_sex": "male_single",
         "other_debtors/guarantors": "none",
         "present_residence_since": 4,
         "property": "car_or_other",
         "age_in_years": 27,
         "other_installment_plans": "none",
         "housing": "own",
         "number_of_existing_credits_at_this_bank": 1,
         "job": 2,
         "number_of_people_being_liable_to_provide_maintenance_for": 1,
         "telephone": 0,
         "foreign_worker": 1,
         "credit_risk": 1,
         "_deepnote_index_column": 999
        }
       ]
      },
      "text/plain": "     status_of_existing_checking_account  duration_in_month  \\\n0                                      1                  6   \n1                                      2                 48   \n2                                      0                 12   \n3                                      1                 42   \n4                                      1                 24   \n..                                   ...                ...   \n995                                    0                 12   \n996                                    1                 30   \n997                                    0                 12   \n998                                    1                 45   \n999                                    2                 45   \n\n                                        credit_history              purpose  \\\n0    critical_account/other_credits_existing_not_at...     radio/television   \n1             existing_credits_paid_back_duly_till_now     radio/television   \n2    critical_account/other_credits_existing_not_at...            education   \n3             existing_credits_paid_back_duly_till_now  furniture/equipment   \n4                      delay_in_paying_off_in_the_past            car_(new)   \n..                                                 ...                  ...   \n995           existing_credits_paid_back_duly_till_now  furniture/equipment   \n996           existing_credits_paid_back_duly_till_now           car_(used)   \n997           existing_credits_paid_back_duly_till_now     radio/television   \n998           existing_credits_paid_back_duly_till_now     radio/television   \n999  critical_account/other_credits_existing_not_at...           car_(used)   \n\n     credit_amount  savings_account/bonds  present_employment_since  \\\n0             1169                      0                         4   \n1             5951                      1                         2   \n2             2096                      1                         3   \n3             7882                      1                         3   \n4             4870                      1                         2   \n..             ...                    ...                       ...   \n995           1736                      1                         3   \n996           3857                      1                         2   \n997            804                      1                         4   \n998           1845                      1                         2   \n999           4576                      2                         0   \n\n     installment_rate_in_percentage_of_disposable_income  \\\n0                                                    4     \n1                                                    2     \n2                                                    2     \n3                                                    2     \n4                                                    3     \n..                                                 ...     \n995                                                  3     \n996                                                  4     \n997                                                  4     \n998                                                  4     \n999                                                  3     \n\n               personal_status_and_sex other_debtors/guarantors  ...  \\\n0                          male_single                     none  ...   \n1    female_divorced/separated/married                     none  ...   \n2                          male_single                     none  ...   \n3                          male_single                guarantor  ...   \n4                          male_single                     none  ...   \n..                                 ...                      ...  ...   \n995  female_divorced/separated/married                     none  ...   \n996            male_divorced/separated                     none  ...   \n997                        male_single                     none  ...   \n998                        male_single                     none  ...   \n999                        male_single                     none  ...   \n\n                                              property age_in_years  \\\n0                                          real_estate           67   \n1                                          real_estate           22   \n2                                          real_estate           49   \n3    building_society_savings_agreement/life_insurance           45   \n4                                  unknown/no_property           53   \n..                                                 ...          ...   \n995                                        real_estate           31   \n996  building_society_savings_agreement/life_insurance           40   \n997                                       car_or_other           38   \n998                                unknown/no_property           23   \n999                                       car_or_other           27   \n\n     other_installment_plans   housing  \\\n0                       none       own   \n1                       none       own   \n2                       none       own   \n3                       none  for free   \n4                       none  for free   \n..                       ...       ...   \n995                     none       own   \n996                     none       own   \n997                     none       own   \n998                     none  for free   \n999                     none       own   \n\n    number_of_existing_credits_at_this_bank  job  \\\n0                                         2    2   \n1                                         1    2   \n2                                         1    1   \n3                                         1    2   \n4                                         2    2   \n..                                      ...  ...   \n995                                       1    1   \n996                                       1    3   \n997                                       1    2   \n998                                       1    2   \n999                                       1    2   \n\n     number_of_people_being_liable_to_provide_maintenance_for  telephone  \\\n0                                                    1                 1   \n1                                                    1                 0   \n2                                                    2                 0   \n3                                                    2                 0   \n4                                                    2                 0   \n..                                                 ...               ...   \n995                                                  1                 0   \n996                                                  1                 1   \n997                                                  1                 0   \n998                                                  1                 1   \n999                                                  1                 0   \n\n     foreign_worker  credit_risk  \n0                 1            1  \n1                 1            0  \n2                 1            1  \n3                 1            1  \n4                 1            0  \n..              ...          ...  \n995               1            1  \n996               1            1  \n997               1            1  \n998               1            0  \n999               1            1  \n\n[1000 rows x 21 columns]",
      "text/html": "<div>\n<style scoped>\n    .dataframe tbody tr th:only-of-type {\n        vertical-align: middle;\n    }\n\n    .dataframe tbody tr th {\n        vertical-align: top;\n    }\n\n    .dataframe thead th {\n        text-align: right;\n    }\n</style>\n<table border=\"1\" class=\"dataframe\">\n  <thead>\n    <tr style=\"text-align: right;\">\n      <th></th>\n      <th>status_of_existing_checking_account</th>\n      <th>duration_in_month</th>\n      <th>credit_history</th>\n      <th>purpose</th>\n      <th>credit_amount</th>\n      <th>savings_account/bonds</th>\n      <th>present_employment_since</th>\n      <th>installment_rate_in_percentage_of_disposable_income</th>\n      <th>personal_status_and_sex</th>\n      <th>other_debtors/guarantors</th>\n      <th>...</th>\n      <th>property</th>\n      <th>age_in_years</th>\n      <th>other_installment_plans</th>\n      <th>housing</th>\n      <th>number_of_existing_credits_at_this_bank</th>\n      <th>job</th>\n      <th>number_of_people_being_liable_to_provide_maintenance_for</th>\n      <th>telephone</th>\n      <th>foreign_worker</th>\n      <th>credit_risk</th>\n    </tr>\n  </thead>\n  <tbody>\n    <tr>\n      <th>0</th>\n      <td>1</td>\n      <td>6</td>\n      <td>critical_account/other_credits_existing_not_at...</td>\n      <td>radio/television</td>\n      <td>1169</td>\n      <td>0</td>\n      <td>4</td>\n      <td>4</td>\n      <td>male_single</td>\n      <td>none</td>\n      <td>...</td>\n      <td>real_estate</td>\n      <td>67</td>\n      <td>none</td>\n      <td>own</td>\n      <td>2</td>\n      <td>2</td>\n      <td>1</td>\n      <td>1</td>\n      <td>1</td>\n      <td>1</td>\n    </tr>\n    <tr>\n      <th>1</th>\n      <td>2</td>\n      <td>48</td>\n      <td>existing_credits_paid_back_duly_till_now</td>\n      <td>radio/television</td>\n      <td>5951</td>\n      <td>1</td>\n      <td>2</td>\n      <td>2</td>\n      <td>female_divorced/separated/married</td>\n      <td>none</td>\n      <td>...</td>\n      <td>real_estate</td>\n      <td>22</td>\n      <td>none</td>\n      <td>own</td>\n      <td>1</td>\n      <td>2</td>\n      <td>1</td>\n      <td>0</td>\n      <td>1</td>\n      <td>0</td>\n    </tr>\n    <tr>\n      <th>2</th>\n      <td>0</td>\n      <td>12</td>\n      <td>critical_account/other_credits_existing_not_at...</td>\n      <td>education</td>\n      <td>2096</td>\n      <td>1</td>\n      <td>3</td>\n      <td>2</td>\n      <td>male_single</td>\n      <td>none</td>\n      <td>...</td>\n      <td>real_estate</td>\n      <td>49</td>\n      <td>none</td>\n      <td>own</td>\n      <td>1</td>\n      <td>1</td>\n      <td>2</td>\n      <td>0</td>\n      <td>1</td>\n      <td>1</td>\n    </tr>\n    <tr>\n      <th>3</th>\n      <td>1</td>\n      <td>42</td>\n      <td>existing_credits_paid_back_duly_till_now</td>\n      <td>furniture/equipment</td>\n      <td>7882</td>\n      <td>1</td>\n      <td>3</td>\n      <td>2</td>\n      <td>male_single</td>\n      <td>guarantor</td>\n      <td>...</td>\n      <td>building_society_savings_agreement/life_insurance</td>\n      <td>45</td>\n      <td>none</td>\n      <td>for free</td>\n      <td>1</td>\n      <td>2</td>\n      <td>2</td>\n      <td>0</td>\n      <td>1</td>\n      <td>1</td>\n    </tr>\n    <tr>\n      <th>4</th>\n      <td>1</td>\n      <td>24</td>\n      <td>delay_in_paying_off_in_the_past</td>\n      <td>car_(new)</td>\n      <td>4870</td>\n      <td>1</td>\n      <td>2</td>\n      <td>3</td>\n      <td>male_single</td>\n      <td>none</td>\n      <td>...</td>\n      <td>unknown/no_property</td>\n      <td>53</td>\n      <td>none</td>\n      <td>for free</td>\n      <td>2</td>\n      <td>2</td>\n      <td>2</td>\n      <td>0</td>\n      <td>1</td>\n      <td>0</td>\n    </tr>\n    <tr>\n      <th>...</th>\n      <td>...</td>\n      <td>...</td>\n      <td>...</td>\n      <td>...</td>\n      <td>...</td>\n      <td>...</td>\n      <td>...</td>\n      <td>...</td>\n      <td>...</td>\n      <td>...</td>\n      <td>...</td>\n      <td>...</td>\n      <td>...</td>\n      <td>...</td>\n      <td>...</td>\n      <td>...</td>\n      <td>...</td>\n      <td>...</td>\n      <td>...</td>\n      <td>...</td>\n      <td>...</td>\n    </tr>\n    <tr>\n      <th>995</th>\n      <td>0</td>\n      <td>12</td>\n      <td>existing_credits_paid_back_duly_till_now</td>\n      <td>furniture/equipment</td>\n      <td>1736</td>\n      <td>1</td>\n      <td>3</td>\n      <td>3</td>\n      <td>female_divorced/separated/married</td>\n      <td>none</td>\n      <td>...</td>\n      <td>real_estate</td>\n      <td>31</td>\n      <td>none</td>\n      <td>own</td>\n      <td>1</td>\n      <td>1</td>\n      <td>1</td>\n      <td>0</td>\n      <td>1</td>\n      <td>1</td>\n    </tr>\n    <tr>\n      <th>996</th>\n      <td>1</td>\n      <td>30</td>\n      <td>existing_credits_paid_back_duly_till_now</td>\n      <td>car_(used)</td>\n      <td>3857</td>\n      <td>1</td>\n      <td>2</td>\n      <td>4</td>\n      <td>male_divorced/separated</td>\n      <td>none</td>\n      <td>...</td>\n      <td>building_society_savings_agreement/life_insurance</td>\n      <td>40</td>\n      <td>none</td>\n      <td>own</td>\n      <td>1</td>\n      <td>3</td>\n      <td>1</td>\n      <td>1</td>\n      <td>1</td>\n      <td>1</td>\n    </tr>\n    <tr>\n      <th>997</th>\n      <td>0</td>\n      <td>12</td>\n      <td>existing_credits_paid_back_duly_till_now</td>\n      <td>radio/television</td>\n      <td>804</td>\n      <td>1</td>\n      <td>4</td>\n      <td>4</td>\n      <td>male_single</td>\n      <td>none</td>\n      <td>...</td>\n      <td>car_or_other</td>\n      <td>38</td>\n      <td>none</td>\n      <td>own</td>\n      <td>1</td>\n      <td>2</td>\n      <td>1</td>\n      <td>0</td>\n      <td>1</td>\n      <td>1</td>\n    </tr>\n    <tr>\n      <th>998</th>\n      <td>1</td>\n      <td>45</td>\n      <td>existing_credits_paid_back_duly_till_now</td>\n      <td>radio/television</td>\n      <td>1845</td>\n      <td>1</td>\n      <td>2</td>\n      <td>4</td>\n      <td>male_single</td>\n      <td>none</td>\n      <td>...</td>\n      <td>unknown/no_property</td>\n      <td>23</td>\n      <td>none</td>\n      <td>for free</td>\n      <td>1</td>\n      <td>2</td>\n      <td>1</td>\n      <td>1</td>\n      <td>1</td>\n      <td>0</td>\n    </tr>\n    <tr>\n      <th>999</th>\n      <td>2</td>\n      <td>45</td>\n      <td>critical_account/other_credits_existing_not_at...</td>\n      <td>car_(used)</td>\n      <td>4576</td>\n      <td>2</td>\n      <td>0</td>\n      <td>3</td>\n      <td>male_single</td>\n      <td>none</td>\n      <td>...</td>\n      <td>car_or_other</td>\n      <td>27</td>\n      <td>none</td>\n      <td>own</td>\n      <td>1</td>\n      <td>2</td>\n      <td>1</td>\n      <td>0</td>\n      <td>1</td>\n      <td>1</td>\n    </tr>\n  </tbody>\n</table>\n<p>1000 rows × 21 columns</p>\n</div>"
     },
     "metadata": {}
    }
   ],
   "execution_count": null
  },
  {
   "cell_type": "code",
   "metadata": {
    "tags": [],
    "cell_id": "00003-637028e7-dfe3-4529-9f07-d39f6ce0abbe",
    "deepnote_to_be_reexecuted": false,
    "source_hash": "619b7098",
    "execution_start": 1636945796653,
    "execution_millis": 1,
    "deepnote_cell_type": "code"
   },
   "source": "credit.info()",
   "outputs": [
    {
     "name": "stdout",
     "text": "<class 'pandas.core.frame.DataFrame'>\nRangeIndex: 1000 entries, 0 to 999\nData columns (total 21 columns):\n #   Column                                                    Non-Null Count  Dtype \n---  ------                                                    --------------  ----- \n 0   status_of_existing_checking_account                       1000 non-null   int64 \n 1   duration_in_month                                         1000 non-null   int64 \n 2   credit_history                                            1000 non-null   object\n 3   purpose                                                   1000 non-null   object\n 4   credit_amount                                             1000 non-null   int64 \n 5   savings_account/bonds                                     1000 non-null   int64 \n 6   present_employment_since                                  1000 non-null   int64 \n 7   installment_rate_in_percentage_of_disposable_income       1000 non-null   int64 \n 8   personal_status_and_sex                                   1000 non-null   object\n 9   other_debtors/guarantors                                  1000 non-null   object\n 10  present_residence_since                                   1000 non-null   int64 \n 11  property                                                  1000 non-null   object\n 12  age_in_years                                              1000 non-null   int64 \n 13  other_installment_plans                                   1000 non-null   object\n 14  housing                                                   1000 non-null   object\n 15  number_of_existing_credits_at_this_bank                   1000 non-null   int64 \n 16  job                                                       1000 non-null   int64 \n 17  number_of_people_being_liable_to_provide_maintenance_for  1000 non-null   int64 \n 18  telephone                                                 1000 non-null   int64 \n 19  foreign_worker                                            1000 non-null   int64 \n 20  credit_risk                                               1000 non-null   int64 \ndtypes: int64(14), object(7)\nmemory usage: 164.2+ KB\n",
     "output_type": "stream"
    }
   ],
   "execution_count": null
  },
  {
   "cell_type": "code",
   "metadata": {
    "tags": [],
    "cell_id": "00004-94623377-d672-4ab2-ae11-9ca0a016c8f3",
    "deepnote_to_be_reexecuted": false,
    "source_hash": "1e3e5451",
    "execution_start": 1634159643387,
    "execution_millis": 26,
    "deepnote_cell_type": "code"
   },
   "source": "credit['credit_history'].unique()",
   "execution_count": null,
   "outputs": [
    {
     "output_type": "execute_result",
     "execution_count": 3,
     "data": {
      "text/plain": "array(['critical_account/other_credits_existing_not_at_this_bank',\n       'existing_credits_paid_back_duly_till_now',\n       'delay_in_paying_off_in_the_past',\n       'no_credits_taken/all_credits_paid_back_duly',\n       'all_credits_at_this_bank_paid_back_duly'], dtype=object)"
     },
     "metadata": {}
    }
   ]
  },
  {
   "cell_type": "code",
   "metadata": {
    "tags": [],
    "cell_id": "00005-fa554a0e-1dbc-4671-9ed3-dab6d55340ec",
    "deepnote_to_be_reexecuted": false,
    "source_hash": "b344b34f",
    "execution_start": 1634159694796,
    "execution_millis": 37,
    "deepnote_cell_type": "code"
   },
   "source": "credit['purpose'].unique()",
   "execution_count": null,
   "outputs": [
    {
     "output_type": "execute_result",
     "execution_count": 5,
     "data": {
      "text/plain": "array(['radio/television', 'education', 'furniture/equipment',\n       'car_(new)', 'car_(used)', 'business', 'domestic_appliances',\n       'repairs', 'others', 'retraining'], dtype=object)"
     },
     "metadata": {}
    }
   ]
  },
  {
   "cell_type": "code",
   "metadata": {
    "tags": [],
    "cell_id": "00006-f465acdc-b837-4468-8cd2-0b836e791a15",
    "deepnote_to_be_reexecuted": false,
    "source_hash": "47ccaba1",
    "execution_start": 1634159711194,
    "execution_millis": 15,
    "deepnote_cell_type": "code"
   },
   "source": "credit['housing'].unique()",
   "execution_count": null,
   "outputs": [
    {
     "output_type": "execute_result",
     "execution_count": 6,
     "data": {
      "text/plain": "array(['own', 'for free', 'rent'], dtype=object)"
     },
     "metadata": {}
    }
   ]
  },
  {
   "cell_type": "markdown",
   "source": "* Account_status: factor, status of existing checking account\n\n* Duration: numeric, loan duration in month\n\n* Credit_history: factor, previous credit history\n\n* Purpose: factor, loan purpose\n\n* Amount: numeric, credit amount\n\n* Savings: factor, savings account/bonds\n\n* Employment: factor, present employment since\n\n* Installment_rate: numeric, installment rate in percentage of disposable income\n\n* Guarantors: factor, other debtors / guarantors\n\n* Resident_since: factor, present residence since\n\n* Property: factor, property\n\n* Age: numeric, age in years\n\n* Other_plans: factor, other installment plans\n\n* Housing: factor, housing\n\n* Num_credits: numeric, Number of existing credits at this bank\n\n* Job: factor, job\n\n* People_maintenance: numeric, number of people being liable to provide maintenance for\n\n* Phone: factor, telephone\n\n* Foreign: factor, foreign worker\n\n* BAD: factor, GOOD/BAD for whether a customer has defaulted on a loan. This is the outcome or target in this dataset\n\n* Female: factor, female/male for gender\n\n* probability: numeric, predicted probabilities for default, ranges from 0 to 1\n\n* predicted: numeric, predicted values for default, 0/1 for no/yes",
   "metadata": {
    "tags": [],
    "cell_id": "00005-7e9cfd1d-fc68-4041-9cc0-1311bfdbded8",
    "deepnote_cell_type": "markdown"
   }
  },
  {
   "cell_type": "markdown",
   "source": "## 3.1 Literature Review",
   "metadata": {
    "tags": [],
    "cell_id": "00004-a7c19cd7-e8ab-48e8-8aae-815e89e6075d",
    "deepnote_cell_type": "markdown"
   }
  },
  {
   "cell_type": "markdown",
   "source": "The German Credit data set is a publically available data set downloaded from the UCI Machine Learning Repository\n\nPopular fairness metrics: \n* demographic parity\n* equal opportunity\n* equalized odds\n\nProtected attributes: \n\n* Gender(male: privileged; female: unprivileged);\n\n* Age(> 25: privileged; < 25 : unpreviledged)\n\n* Nationality(non-foreigners: privileged; foreigners: unpreviledged)",
   "metadata": {
    "tags": [],
    "cell_id": "00006-735a08a9-861b-48a5-afbe-86dc97a7b01c",
    "deepnote_cell_type": "markdown"
   }
  },
  {
   "cell_type": "markdown",
   "source": "## 3.2 Binary Classification Pipeline - Logistics Regression",
   "metadata": {
    "tags": [],
    "cell_id": "00005-df5bcc25-1ace-4a3a-be16-7723fac85525",
    "deepnote_cell_type": "markdown"
   }
  },
  {
   "cell_type": "code",
   "metadata": {
    "tags": [],
    "cell_id": "00008-4846fb32-a68a-4f97-8b39-3c24fa33ed03",
    "deepnote_to_be_reexecuted": false,
    "source_hash": "5b6d093f",
    "execution_start": 1636946266571,
    "execution_millis": 0,
    "deepnote_cell_type": "code"
   },
   "source": "def preprocessGermanCredit(temp_df):\n    df = temp_df.copy()\n    \n    df['credit_amount'] /= 500\n    df['credit_amount'] = df['credit_amount'].astype(int)\n    df.loc[df['age_in_years'] <= 25, 'age'] = 1 \n    df.loc[df['age_in_years'] > 25, 'age'] = 0\n    # categorical_features \n    housing = {2: 'for free', 1: 'own',  0: 'rent'}\n    credit_history = {0: 'no_credits_taken/all_credits_paid_back_duly', \n                        1: 'all_credits_at_this_bank_paid_back_duly',\n                        2: 'existing_credits_paid_back_duly_till_now', \n                        3: 'delay_in_paying_off_in_the_past',\n                        4: 'critical_account/other_credits_existing_not_at_this_bank',\n                    }\n    sex = {'male_married/widowed': 1,'male_single': 1,'male_divorced/separated': 1,\n           'female_divorced/separated/married': 0,\n        }\n    \n    df[\"credit_history\"] = df[\"credit_history\"].map({v: k for k, v in credit_history.items()})\n    df[\"housing\"] = df[\"housing\"].map({v: k for k,v in housing.items()})\n    df[\"sex\"] = df[\"personal_status_and_sex\"].map({v: k for v,k in sex.items()})\n    df['purpose'] = pd.factorize(df['purpose'])[0]\n\n    df = df[['credit_risk', 'duration_in_month', 'credit_amount', 'installment_rate_in_percentage_of_disposable_income', 'age', 'credit_history', 'housing','status_of_existing_checking_account','sex', 'present_employment_since','purpose']]\n    return df",
   "outputs": [],
   "execution_count": null
  },
  {
   "cell_type": "code",
   "metadata": {
    "tags": [],
    "cell_id": "00010-93c6b0d3-d359-4730-ad5a-183f4ef9b004",
    "deepnote_to_be_reexecuted": false,
    "source_hash": "a046cc2c",
    "execution_start": 1636946269843,
    "execution_millis": 23,
    "deepnote_cell_type": "code"
   },
   "source": "df = preprocessGermanCredit(credit)",
   "outputs": [],
   "execution_count": null
  },
  {
   "cell_type": "code",
   "metadata": {
    "tags": [],
    "cell_id": "00014-739f6579-c188-4c09-8910-5de2d4e6f08c",
    "deepnote_to_be_reexecuted": false,
    "source_hash": "1f2cab8a",
    "execution_start": 1636584861952,
    "execution_millis": 150,
    "deepnote_cell_type": "code"
   },
   "source": "df['age'].value_counts()",
   "execution_count": null,
   "outputs": [
    {
     "output_type": "execute_result",
     "execution_count": 14,
     "data": {
      "text/plain": "0.0    810\n1.0    190\nName: age, dtype: int64"
     },
     "metadata": {}
    }
   ]
  },
  {
   "cell_type": "code",
   "metadata": {
    "tags": [],
    "cell_id": "00015-63b6b241-7c55-4954-ab7f-d627e572948e",
    "deepnote_to_be_reexecuted": false,
    "source_hash": "b9e32f0b",
    "execution_start": 1636584894437,
    "execution_millis": 7,
    "deepnote_cell_type": "code"
   },
   "source": "df['personal_status_and_sex'].value_counts()",
   "execution_count": null,
   "outputs": [
    {
     "output_type": "execute_result",
     "execution_count": 15,
     "data": {
      "text/plain": "1    690\n0    310\nName: personal_status_and_sex, dtype: int64"
     },
     "metadata": {}
    }
   ]
  },
  {
   "cell_type": "code",
   "metadata": {
    "tags": [],
    "cell_id": "00011-91018ae3-6d77-4341-acbc-53561ae4509c",
    "deepnote_to_be_reexecuted": false,
    "source_hash": "6c30e6d4",
    "execution_start": 1636946293875,
    "execution_millis": 0,
    "deepnote_cell_type": "code"
   },
   "source": "def logisticRegression(x_train, y_train, x_test):\n    from sklearn.linear_model import LogisticRegression\n\n    logisticRegr = LogisticRegression(solver='lbfgs', max_iter=500)\n    logisticRegr.fit(x_train, y_train)\n\n    train_predictions = logisticRegr.predict(x_train)\n    test_predictions = logisticRegr.predict(x_test)\n    return train_predictions, test_predictions",
   "outputs": [],
   "execution_count": null
  },
  {
   "cell_type": "code",
   "metadata": {
    "tags": [],
    "cell_id": "00013-bcee8802-8b89-4b03-8205-3909381c09b0",
    "deepnote_to_be_reexecuted": false,
    "source_hash": "9120ab9e",
    "execution_start": 1636946296891,
    "execution_millis": 3,
    "deepnote_cell_type": "code"
   },
   "source": "def predictionSummary(temp_x, y_real, y_predict, df, var_name):\n    tn, fp, fn, tp = confusion_matrix(y_real, y_predict, labels=[0,1]).ravel()\n    # False Positive, False Negative, True Positive, True Negative, Overall Accuracy\n    overall = [fp/(fp+tn),fn/(fn+tp),tp/(tp+fn),tn/(tn+fp),(tp+tn)/(tp+fp+fn+tn)]\n    \n    x = temp_x.copy()\n    x['Predicted Creditability'] = y_predict\n    x['Real Creditability'] = y_real\n    x_protected = x[df[var_name] == 1].copy()\n    tn, fp, fn, tp  = confusion_matrix(x_protected['Real Creditability'], x_protected['Predicted Creditability'], labels=[0,1]).ravel()\n    protected = [fp/(fp+tn),fn/(fn+tp),tp/(tp+fn),tn/(tn+fp),(tp+tn)/(tp+fp+fn+tn)]\n\n    x_unprotected = x[df[var_name] == 0].copy()\n    tn, fp, fn, tp  = confusion_matrix(x_unprotected['Real Creditability'], x_unprotected['Predicted Creditability'], labels=[0,1]).ravel()\n    unprotected = [fp/(fp+tn),fn/(fn+tp),tp/(tp+fn),tn/(tn+fp),(tp+tn)/(tp+fp+fn+tn)]\n\n    return overall, unprotected, protected",
   "outputs": [],
   "execution_count": null
  },
  {
   "cell_type": "code",
   "metadata": {
    "tags": [],
    "cell_id": "00019-ee788949-9461-407d-a8bc-1efa395389fe",
    "deepnote_to_be_reexecuted": false,
    "source_hash": "e8670182",
    "execution_start": 1636946299758,
    "execution_millis": 4,
    "deepnote_cell_type": "code"
   },
   "source": "# Split processed data into train and test (fixed random seed)\ntrain_data, test_data = train_test_split(df, test_size=0.2, random_state=0)\nvar_name = 'sex'",
   "outputs": [],
   "execution_count": null
  },
  {
   "cell_type": "code",
   "metadata": {
    "tags": [],
    "cell_id": "00019-67861af5-e44a-460e-904d-2dc14ae6d955",
    "deepnote_to_be_reexecuted": false,
    "source_hash": "bcb1e818",
    "execution_start": 1636946301507,
    "execution_millis": 67,
    "deepnote_cell_type": "code"
   },
   "source": "# Split test data into X and y\nx_train, y_train = train_data.drop([\"credit_risk\", var_name], axis=1), train_data[\"credit_risk\"]\nx_test, y_test = test_data.drop([\"credit_risk\", var_name], axis=1), test_data[\"credit_risk\"]\n\n# Run the binary classification pipeline\ny_train_predict, y_test_predict = logisticRegression(x_train, y_train, x_test)\n# Save results for each i and for each epsilon\ntrain_overall, train_unprotected, train_protected = predictionSummary(x_train, y_train, y_train_predict, train_data, var_name)\ntest_overall, test_unprotected, test_protected = predictionSummary(x_test, y_test, y_test_predict, test_data, var_name)",
   "outputs": [],
   "execution_count": null
  },
  {
   "cell_type": "code",
   "metadata": {
    "tags": [],
    "cell_id": "00020-e0e54ad9-451d-485f-8ef4-bb1a53c18c0f",
    "deepnote_to_be_reexecuted": false,
    "source_hash": "d53128f2",
    "execution_start": 1636946304393,
    "execution_millis": 5,
    "deepnote_cell_type": "code"
   },
   "source": "# Gender Summary\nprint(\"Training Accuracy:\", train_overall[-1])\nprint(\"Testing Accuracy:\", test_overall[-1])\nprint(\"Training TPR diff\", train_protected[2]-train_unprotected[2])\nprint(\"Testing TPR diff\", test_protected[2]-test_unprotected[2])\nprint(\"Training FPR diff\", train_protected[0]-train_unprotected[0])\nprint(\"Testing FPR diff\", test_protected[0]-test_unprotected[0])",
   "outputs": [
    {
     "name": "stdout",
     "text": "Training Accuracy: 0.735\nTesting Accuracy: 0.695\nTraining TPR diff -0.026649093480776598\nTesting TPR diff -0.040985442329227295\nTraining FPR diff 0.07790837854128996\nTesting FPR diff -0.06303030303030299\n",
     "output_type": "stream"
    }
   ],
   "execution_count": null
  },
  {
   "cell_type": "code",
   "metadata": {
    "tags": [],
    "cell_id": "00021-c3c4735c-f497-45a6-ace4-10a57d99e831",
    "deepnote_to_be_reexecuted": false,
    "source_hash": "99aaf550",
    "execution_start": 1636946321707,
    "execution_millis": 0,
    "deepnote_cell_type": "code"
   },
   "source": "var_name = 'age'",
   "outputs": [],
   "execution_count": null
  },
  {
   "cell_type": "code",
   "metadata": {
    "tags": [],
    "cell_id": "00022-ddabd7a7-b05c-40ac-8e97-4a54798cb682",
    "deepnote_to_be_reexecuted": false,
    "source_hash": "bcb1e818",
    "execution_start": 1636946323392,
    "execution_millis": 53,
    "deepnote_cell_type": "code"
   },
   "source": "# Split test data into X and y\nx_train, y_train = train_data.drop([\"credit_risk\", var_name], axis=1), train_data[\"credit_risk\"]\nx_test, y_test = test_data.drop([\"credit_risk\", var_name], axis=1), test_data[\"credit_risk\"]\n\n# Run the binary classification pipeline\ny_train_predict, y_test_predict = logisticRegression(x_train, y_train, x_test)\n# Save results for each i and for each epsilon\ntrain_overall, train_unprotected, train_protected = predictionSummary(x_train, y_train, y_train_predict, train_data, var_name)\ntest_overall, test_unprotected, test_protected = predictionSummary(x_test, y_test, y_test_predict, test_data, var_name)",
   "outputs": [],
   "execution_count": null
  },
  {
   "cell_type": "code",
   "metadata": {
    "tags": [],
    "cell_id": "00023-34d8cf7c-144b-447d-9223-27f428dbb76f",
    "deepnote_to_be_reexecuted": false,
    "source_hash": "7787e371",
    "execution_start": 1636854933392,
    "execution_millis": 191,
    "deepnote_cell_type": "code"
   },
   "source": "# Age Summary\nprint(\"Training Accuracy:\", train_overall[-1])\nprint(\"Testing Accuracy:\", test_overall[-1])\nprint(\"Training TPR diff\", train_protected[2]-train_unprotected[2])\nprint(\"Testing TPR diff\", test_protected[2]-test_unprotected[2])\nprint(\"Training FPR diff\", train_protected[0]-train_unprotected[0])\nprint(\"Testing FPR diff\", test_protected[0]-test_unprotected[0])",
   "execution_count": null,
   "outputs": [
    {
     "name": "stdout",
     "text": "Training Accuracy: 0.73375\nTesting Accuracy: 0.685\nTraining TPR diff -0.05641025641025643\nTesting TPR diff 0.1057377049180327\nTraining FPR diff -0.07096774193548383\nTesting FPR diff 0.05277777777777781\n",
     "output_type": "stream"
    }
   ]
  },
  {
   "cell_type": "markdown",
   "source": "## 3.3 Hypothesis Test Pipeline",
   "metadata": {
    "tags": [],
    "cell_id": "00006-01cf1282-3c67-4cff-bcff-96488af3bdfe",
    "deepnote_cell_type": "markdown"
   }
  },
  {
   "cell_type": "code",
   "metadata": {
    "tags": [],
    "cell_id": "00010-201b8aaf-0901-41b7-bdca-8f110af861c2",
    "deepnote_to_be_reexecuted": false,
    "source_hash": "60df6c54",
    "execution_start": 1633560871960,
    "execution_millis": 16,
    "deepnote_cell_type": "code"
   },
   "source": "from scipy.stats import ttest_ind\ndef hypothesisTest(credit):\n\n    # H0: null hypothesis: the mean of the credit risk of people with age lower then 25 = the mean of the  credit risk of people with age high then 25\n    # H1: alternate hypothesis: the mean of the credit risk of people with age lower then 25 > the mean of the  credit risk of people with age high then 25\n    \n    young = credit[credit['age_in_years'] <25].copy()\n    old = credit[credit['age_in_years'] >=25].copy()\n    young_credit_risk =  young['credit_risk']\n    old_credit_risk = old['credit_risk']\n\n    stat, p = ttest_ind(old_credit_risk, young_credit_risk)\n    print('first:')\n    print('stat=%.3f, p=%.27f' % (stat, p))\n\n    if p > 0.05:\n        print('we are accepting null hypothesis, Probably the same distribution')\n    else:\n        print('we are rejecting null hypothesis, Probably different distributions')\n    \n    # so the result shows us the the mean rate are not the same \n    # Tests whether the means of two independent samples are significantly different.\n\n\n\n\n\n\n\n    # H0: null hypothesis: the mean of the credit risk of people with age lower then 25 = the mean of the  credit risk of people with age high then 25\n    # H1: alternate hypothesis: the mean of the credit risk of people with age lower then 25 > the mean of the  credit risk of people with age high then 25\n    \n    x_male = credit[(credit['personal_status_and_sex'] == 'male_single ')].copy()\n        # (credit['personal_status_and_sex'] == 'male_married/widowed')| \n        #        (credit['personal_status_and_sex'] == 'male_single ') |\n        #        (credit['personal_status_and_sex'] == 'male_divorced/separated')].copy()\n    x_female = credit[credit['personal_status_and_sex'] == 'female_divorced/separated/married'].copy()\n\n    female_credit_risk =  x_female['credit_risk']\n    male_credit_risk = x_male['credit_risk']\n\n    stat, p = ttest_ind(female_credit_risk, male_credit_risk)\n    print('first:')\n    print('stat=%.3f, p=%.27f' % (stat, p))\n\n    if p > 0.05:\n        print('we are accepting null hypothesis, Probably the same distribution')\n    else:\n        print('we are rejecting null hypothesis, Probably different distributions')\n    \n    # so the result shows us the the mean rate are not the same \n    # Tests whether the means of two independent samples are significantly different.\n\n\n\n\n\n\n\n\n    # H0: null hypothesis: the mean of the credit risk of foreign worker = the mean of the  credit risk of non-foreigner\n    # H1: alternate hypothesis: the mean of the credit risk of foreign worker < the mean of the  credit risk of non-foreigner\n\n    \n    non_foreign  = credit[credit['foreign_worker'] == 1].copy()\n\n    foreigner = credit[credit['foreign_worker'] == 0].copy()\n\n    foreign_credit_risk =  foreigner['credit_risk']\n    non_foreigner_credit_risk = non_foreign['credit_risk']\n\n    stat, p = ttest_ind(foreign_credit_risk, non_foreigner_credit_risk)\n    print('first:')\n    print('stat=%.3f, p=%.27f' % (stat, p))\n\n    if p > 0.05:\n        print('we are accepting null hypothesis, Probably the same distribution')\n    else:\n        print('we are rejecting null hypothesis, Probably different distributions')\n    \n    # so the result shows us the the mean rate are not the same \n    # Tests whether the means of two independent samples are significantly different.\n\nhypothesisTest(credit)\n",
   "execution_count": null,
   "outputs": [
    {
     "name": "stdout",
     "text": "first:\nstat=3.171, p=0.001562879701362014997489958\nwe are rejecting null hypothesis, Probably different distributions\nfirst:\nstat=nan, p=nan\nwe are rejecting null hypothesis, Probably different distributions\nfirst:\nstat=2.602, p=0.009411920075301638891063227\nwe are rejecting null hypothesis, Probably different distributions\n",
     "output_type": "stream"
    }
   ]
  },
  {
   "cell_type": "markdown",
   "source": "The above Hypothesis Testing corresponding with the following protected attributes:\n\nGender(male: privileged; female: unprivileged);\n\nAge(> 25: privileged; < 25 : unpreviledged)\n\nNationality(non-foreigners: privileged; foreigners: unpreviledged)",
   "metadata": {
    "tags": [],
    "cell_id": "00026-8904ef39-b90f-4248-a274-f4512d50e572",
    "deepnote_cell_type": "markdown"
   }
  },
  {
   "cell_type": "markdown",
   "source": "## 3.4 References",
   "metadata": {
    "tags": [],
    "cell_id": "00007-3ecf987f-76cb-472d-9572-f31fea635de3",
    "deepnote_cell_type": "markdown"
   }
  },
  {
   "cell_type": "markdown",
   "source": "",
   "metadata": {
    "tags": [],
    "cell_id": "00012-5272aee7-18aa-4048-84ed-810186abb555",
    "deepnote_cell_type": "markdown"
   }
  },
  {
   "cell_type": "markdown",
   "source": "<a style='text-decoration:none;line-height:16px;display:flex;color:#5B5B62;padding:10px;justify-content:end;' href='https://deepnote.com?utm_source=created-in-deepnote-cell&projectId=aa928c63-0856-4021-a156-02d09e35182a' target=\"_blank\">\n<img alt='Created in deepnote.com' style='display:inline;max-height:16px;margin:0px;margin-right:7.5px;' src='data:image/svg+xml;base64,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' > </img>\nCreated in <span style='font-weight:600;margin-left:4px;'>Deepnote</span></a>",
   "metadata": {
    "tags": [],
    "created_in_deepnote_cell": true,
    "deepnote_cell_type": "markdown"
   }
  }
 ],
 "nbformat": 4,
 "nbformat_minor": 2,
 "metadata": {
  "orig_nbformat": 2,
  "deepnote": {
   "is_reactive": false
  },
  "deepnote_notebook_id": "c3bb5648-a352-4660-8108-22631c8272ab",
  "deepnote_execution_queue": []
 }
}