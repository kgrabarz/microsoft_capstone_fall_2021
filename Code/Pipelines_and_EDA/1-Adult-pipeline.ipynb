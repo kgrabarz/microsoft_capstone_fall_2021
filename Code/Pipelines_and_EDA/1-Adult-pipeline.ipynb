{
 "cells": [
  {
   "cell_type": "code",
   "metadata": {
    "tags": [],
    "cell_id": "00002-6d29cdc0-d5fe-4f1c-84e7-805ca027d105",
    "deepnote_to_be_reexecuted": false,
    "source_hash": "59b5332",
    "execution_start": 1633366996136,
    "execution_millis": 18274,
    "deepnote_cell_type": "code"
   },
   "source": "!pip install statsmodels==0.13.0",
   "outputs": [
    {
     "name": "stdout",
     "text": "Collecting statsmodels==0.13.0\n  Downloading statsmodels-0.13.0-cp37-cp37m-manylinux_2_17_x86_64.manylinux2014_x86_64.whl (9.8 MB)\n\u001b[K     |████████████████████████████████| 9.8 MB 13.1 MB/s \n\u001b[?25hRequirement already satisfied: scipy>=1.3 in /shared-libs/python3.7/py/lib/python3.7/site-packages (from statsmodels==0.13.0) (1.7.1)\nCollecting patsy>=0.5.2\n  Downloading patsy-0.5.2-py2.py3-none-any.whl (233 kB)\n\u001b[K     |████████████████████████████████| 233 kB 5.7 MB/s \n\u001b[?25hRequirement already satisfied: numpy>=1.17 in /shared-libs/python3.7/py/lib/python3.7/site-packages (from statsmodels==0.13.0) (1.19.5)\nRequirement already satisfied: pandas>=0.25 in /root/venv/lib/python3.7/site-packages (from statsmodels==0.13.0) (0.25.3)\nRequirement already satisfied: python-dateutil>=2.6.1 in /shared-libs/python3.7/py-core/lib/python3.7/site-packages (from pandas>=0.25->statsmodels==0.13.0) (2.8.2)\nRequirement already satisfied: pytz>=2017.2 in /shared-libs/python3.7/py/lib/python3.7/site-packages (from pandas>=0.25->statsmodels==0.13.0) (2021.1)\nRequirement already satisfied: six in /shared-libs/python3.7/py-core/lib/python3.7/site-packages (from patsy>=0.5.2->statsmodels==0.13.0) (1.16.0)\nInstalling collected packages: patsy, statsmodels\nSuccessfully installed patsy-0.5.2 statsmodels-0.13.0\n",
     "output_type": "stream"
    }
   ],
   "execution_count": null
  },
  {
   "cell_type": "code",
   "metadata": {
    "tags": [],
    "cell_id": "00000-bffcf81e-a5ae-44df-803a-02b471b478b4",
    "deepnote_to_be_reexecuted": false,
    "source_hash": "c7d0a885",
    "execution_start": 1633367014426,
    "execution_millis": 43,
    "deepnote_cell_type": "code"
   },
   "source": "import numpy as np\nimport pandas as pd\nimport matplotlib.pyplot as plt\nimport seaborn as sns\nfrom sklearn.preprocessing import MinMaxScaler\nfrom sklearn.model_selection import train_test_split\nfrom sklearn.linear_model import LogisticRegression\nfrom sklearn.metrics import classification_report\nfrom sklearn.metrics import confusion_matrix\nfrom statsmodels.stats.proportion import proportions_ztest, proportion_confint\nimport math\nfrom scipy.stats import bernoulli, norm\nimport scipy as sp\nfrom tabulate import tabulate",
   "outputs": [],
   "execution_count": null
  },
  {
   "cell_type": "code",
   "metadata": {
    "tags": [],
    "cell_id": "00002-897d3711-54f1-4d92-a7a5-331a6ceb8ac6",
    "deepnote_to_be_reexecuted": false,
    "source_hash": "61c1bb5f",
    "execution_start": 1633367017488,
    "execution_millis": 0,
    "deepnote_cell_type": "code"
   },
   "source": "# disable chained assignments\npd.options.mode.chained_assignment = None ",
   "outputs": [],
   "execution_count": null
  },
  {
   "cell_type": "markdown",
   "source": "# 1. Adult dataset (Kristen+Blake)\n\n## 1.1 Fairness literature review\n\nThe paper \"Evaluating Fairness Using Permutation Tests\" uses the Adult data set and measures fairness using the **Equalized Odds** definition, which states that the true positive rates $TPR=(TP/P)$ for the protected group and the non-protected group should be equal, *and* that the false positive rates $FPR=(FP/N)$ for the two groups should be equal. Therefore, equalized odds is measured with respect to both $TPR$ and $FPR$, leading to two forms of the **Equalized Odds distance** that should be considered:\n\n$$\n\\delta_{a_1,a_2,y} = P(\\hat{y}=1|y=1,A=a_1)-P(\\hat{y}=1|y=1,A=a_2)\n$$\n$$\n\\delta_{a_1,a_2,y} = P(\\hat{y}=1|y=0,A=a_1)-P(\\hat{y}=1|y=0,A=a_2)\n$$\n\nwhere $\\hat{y}$ is the predicted outcome (whether someone earns more than \\$50k/year), $y$ is the true value of the outcome, and $a_1$ and $a_2$ are two subpopulations (male and female). This requires us to calculate four metrics: $TPR$ for male, $TPR$ for female, $FPR$ for male, and $FPR$ for female.\n\nThere is also the **Equalized Opportunity** definition, which is actually a relaxed version of Equalized Odds that requires non-discrimination only in the $y=1$ case, i.e.\n\n$$\nP(\\hat{y}=1|y=1,A=a_1)=P(\\hat{y}=1|y=1,A=a_2)\n$$\n\nLastly, there is **Statistical Parity** (or demographic parity), which is a simpler definition which requires that protected and non-protected groups have equal probability of being assigned to the positive predicted class, i.e.\n\n$$\nP(\\hat{y}=1|A=a_1)=P(\\hat{y}=1|A=a_2)\n$$",
   "metadata": {
    "tags": [],
    "cell_id": "00002-93fadc05-1eb8-46e7-8962-e31a201c5afd",
    "deepnote_cell_type": "markdown"
   }
  },
  {
   "cell_type": "markdown",
   "source": "## 1.2 Original data processing",
   "metadata": {
    "tags": [],
    "cell_id": "00002-d4541f1f-614d-4ede-b90b-65b2cbb51d52",
    "deepnote_cell_type": "markdown"
   }
  },
  {
   "cell_type": "code",
   "metadata": {
    "tags": [],
    "cell_id": "00003-aaedd01a-22e6-45fa-b448-a0285a6d2ae2",
    "deepnote_to_be_reexecuted": false,
    "source_hash": "45a1dee2",
    "execution_start": 1633367020314,
    "execution_millis": 1531,
    "deepnote_cell_type": "code"
   },
   "source": "# Read in the original data\nadult_cols = ['age','workclass', 'fnlwgt', 'education', 'education_num', 'marital', \n              'occupation', 'relationship', 'race', 'sex', 'capital_gain', 'capital_loss',\n              'hours_week', 'native_country', 'label']\nadult_path = 'https://archive.ics.uci.edu/ml/machine-learning-databases/adult/adult.data'\nadult_data = pd.read_csv(adult_path, skipinitialspace=True, names=adult_cols, index_col=False)\nadult_data.head()",
   "outputs": [
    {
     "output_type": "execute_result",
     "execution_count": 6,
     "data": {
      "application/vnd.deepnote.dataframe.v2+json": {
       "row_count": 5,
       "column_count": 15,
       "columns": [
        {
         "name": "age",
         "dtype": "int64",
         "stats": {
          "unique_count": 5,
          "nan_count": 0,
          "min": "28",
          "max": "53",
          "histogram": [
           {
            "bin_start": 28,
            "bin_end": 30.5,
            "count": 1
           },
           {
            "bin_start": 30.5,
            "bin_end": 33,
            "count": 0
           },
           {
            "bin_start": 33,
            "bin_end": 35.5,
            "count": 0
           },
           {
            "bin_start": 35.5,
            "bin_end": 38,
            "count": 0
           },
           {
            "bin_start": 38,
            "bin_end": 40.5,
            "count": 2
           },
           {
            "bin_start": 40.5,
            "bin_end": 43,
            "count": 0
           },
           {
            "bin_start": 43,
            "bin_end": 45.5,
            "count": 0
           },
           {
            "bin_start": 45.5,
            "bin_end": 48,
            "count": 0
           },
           {
            "bin_start": 48,
            "bin_end": 50.5,
            "count": 1
           },
           {
            "bin_start": 50.5,
            "bin_end": 53,
            "count": 1
           }
          ]
         }
        },
        {
         "name": "workclass",
         "dtype": "object",
         "stats": {
          "unique_count": 3,
          "nan_count": 0,
          "categories": [
           {
            "name": "Private",
            "count": 3
           },
           {
            "name": "State-gov",
            "count": 1
           },
           {
            "name": "Self-emp-not-inc",
            "count": 1
           }
          ]
         }
        },
        {
         "name": "fnlwgt",
         "dtype": "int64",
         "stats": {
          "unique_count": 5,
          "nan_count": 0,
          "min": "77516",
          "max": "338409",
          "histogram": [
           {
            "bin_start": 77516,
            "bin_end": 103605.3,
            "count": 2
           },
           {
            "bin_start": 103605.3,
            "bin_end": 129694.6,
            "count": 0
           },
           {
            "bin_start": 129694.6,
            "bin_end": 155783.9,
            "count": 0
           },
           {
            "bin_start": 155783.9,
            "bin_end": 181873.2,
            "count": 0
           },
           {
            "bin_start": 181873.2,
            "bin_end": 207962.5,
            "count": 0
           },
           {
            "bin_start": 207962.5,
            "bin_end": 234051.8,
            "count": 1
           },
           {
            "bin_start": 234051.8,
            "bin_end": 260141.1,
            "count": 1
           },
           {
            "bin_start": 260141.1,
            "bin_end": 286230.4,
            "count": 0
           },
           {
            "bin_start": 286230.4,
            "bin_end": 312319.69999999995,
            "count": 0
           },
           {
            "bin_start": 312319.69999999995,
            "bin_end": 338409,
            "count": 1
           }
          ]
         }
        },
        {
         "name": "education",
         "dtype": "object",
         "stats": {
          "unique_count": 3,
          "nan_count": 0,
          "categories": [
           {
            "name": "Bachelors",
            "count": 3
           },
           {
            "name": "HS-grad",
            "count": 1
           },
           {
            "name": "11th",
            "count": 1
           }
          ]
         }
        },
        {
         "name": "education_num",
         "dtype": "int64",
         "stats": {
          "unique_count": 3,
          "nan_count": 0,
          "min": "7",
          "max": "13",
          "histogram": [
           {
            "bin_start": 7,
            "bin_end": 7.6,
            "count": 1
           },
           {
            "bin_start": 7.6,
            "bin_end": 8.2,
            "count": 0
           },
           {
            "bin_start": 8.2,
            "bin_end": 8.8,
            "count": 0
           },
           {
            "bin_start": 8.8,
            "bin_end": 9.4,
            "count": 1
           },
           {
            "bin_start": 9.4,
            "bin_end": 10,
            "count": 0
           },
           {
            "bin_start": 10,
            "bin_end": 10.6,
            "count": 0
           },
           {
            "bin_start": 10.6,
            "bin_end": 11.2,
            "count": 0
           },
           {
            "bin_start": 11.2,
            "bin_end": 11.8,
            "count": 0
           },
           {
            "bin_start": 11.8,
            "bin_end": 12.399999999999999,
            "count": 0
           },
           {
            "bin_start": 12.399999999999999,
            "bin_end": 13,
            "count": 3
           }
          ]
         }
        },
        {
         "name": "marital",
         "dtype": "object",
         "stats": {
          "unique_count": 3,
          "nan_count": 0,
          "categories": [
           {
            "name": "Married-civ-spouse",
            "count": 3
           },
           {
            "name": "Never-married",
            "count": 1
           },
           {
            "name": "Divorced",
            "count": 1
           }
          ]
         }
        },
        {
         "name": "occupation",
         "dtype": "object",
         "stats": {
          "unique_count": 4,
          "nan_count": 0,
          "categories": [
           {
            "name": "Handlers-cleaners",
            "count": 2
           },
           {
            "name": "Adm-clerical",
            "count": 1
           },
           {
            "name": "2 others",
            "count": 2
           }
          ]
         }
        },
        {
         "name": "relationship",
         "dtype": "object",
         "stats": {
          "unique_count": 3,
          "nan_count": 0,
          "categories": [
           {
            "name": "Not-in-family",
            "count": 2
           },
           {
            "name": "Husband",
            "count": 2
           },
           {
            "name": "Wife",
            "count": 1
           }
          ]
         }
        },
        {
         "name": "race",
         "dtype": "object",
         "stats": {
          "unique_count": 2,
          "nan_count": 0,
          "categories": [
           {
            "name": "White",
            "count": 3
           },
           {
            "name": "Black",
            "count": 2
           }
          ]
         }
        },
        {
         "name": "sex",
         "dtype": "object",
         "stats": {
          "unique_count": 2,
          "nan_count": 0,
          "categories": [
           {
            "name": "Male",
            "count": 4
           },
           {
            "name": "Female",
            "count": 1
           }
          ]
         }
        },
        {
         "name": "capital_gain",
         "dtype": "int64",
         "stats": {
          "unique_count": 2,
          "nan_count": 0,
          "min": "0",
          "max": "2174",
          "histogram": [
           {
            "bin_start": 0,
            "bin_end": 217.4,
            "count": 4
           },
           {
            "bin_start": 217.4,
            "bin_end": 434.8,
            "count": 0
           },
           {
            "bin_start": 434.8,
            "bin_end": 652.2,
            "count": 0
           },
           {
            "bin_start": 652.2,
            "bin_end": 869.6,
            "count": 0
           },
           {
            "bin_start": 869.6,
            "bin_end": 1087,
            "count": 0
           },
           {
            "bin_start": 1087,
            "bin_end": 1304.4,
            "count": 0
           },
           {
            "bin_start": 1304.4,
            "bin_end": 1521.8,
            "count": 0
           },
           {
            "bin_start": 1521.8,
            "bin_end": 1739.2,
            "count": 0
           },
           {
            "bin_start": 1739.2,
            "bin_end": 1956.6000000000001,
            "count": 0
           },
           {
            "bin_start": 1956.6000000000001,
            "bin_end": 2174,
            "count": 1
           }
          ]
         }
        },
        {
         "name": "capital_loss",
         "dtype": "int64",
         "stats": {
          "unique_count": 1,
          "nan_count": 0,
          "min": "0",
          "max": "0",
          "histogram": [
           {
            "bin_start": -0.5,
            "bin_end": -0.4,
            "count": 0
           },
           {
            "bin_start": -0.4,
            "bin_end": -0.3,
            "count": 0
           },
           {
            "bin_start": -0.3,
            "bin_end": -0.19999999999999996,
            "count": 0
           },
           {
            "bin_start": -0.19999999999999996,
            "bin_end": -0.09999999999999998,
            "count": 0
           },
           {
            "bin_start": -0.09999999999999998,
            "bin_end": 0,
            "count": 0
           },
           {
            "bin_start": 0,
            "bin_end": 0.10000000000000009,
            "count": 5
           },
           {
            "bin_start": 0.10000000000000009,
            "bin_end": 0.20000000000000007,
            "count": 0
           },
           {
            "bin_start": 0.20000000000000007,
            "bin_end": 0.30000000000000004,
            "count": 0
           },
           {
            "bin_start": 0.30000000000000004,
            "bin_end": 0.4,
            "count": 0
           },
           {
            "bin_start": 0.4,
            "bin_end": 0.5,
            "count": 0
           }
          ]
         }
        },
        {
         "name": "hours_week",
         "dtype": "int64",
         "stats": {
          "unique_count": 2,
          "nan_count": 0,
          "min": "13",
          "max": "40",
          "histogram": [
           {
            "bin_start": 13,
            "bin_end": 15.7,
            "count": 1
           },
           {
            "bin_start": 15.7,
            "bin_end": 18.4,
            "count": 0
           },
           {
            "bin_start": 18.4,
            "bin_end": 21.1,
            "count": 0
           },
           {
            "bin_start": 21.1,
            "bin_end": 23.8,
            "count": 0
           },
           {
            "bin_start": 23.8,
            "bin_end": 26.5,
            "count": 0
           },
           {
            "bin_start": 26.5,
            "bin_end": 29.200000000000003,
            "count": 0
           },
           {
            "bin_start": 29.200000000000003,
            "bin_end": 31.900000000000002,
            "count": 0
           },
           {
            "bin_start": 31.900000000000002,
            "bin_end": 34.6,
            "count": 0
           },
           {
            "bin_start": 34.6,
            "bin_end": 37.3,
            "count": 0
           },
           {
            "bin_start": 37.3,
            "bin_end": 40,
            "count": 4
           }
          ]
         }
        },
        {
         "name": "native_country",
         "dtype": "object",
         "stats": {
          "unique_count": 2,
          "nan_count": 0,
          "categories": [
           {
            "name": "United-States",
            "count": 4
           },
           {
            "name": "Cuba",
            "count": 1
           }
          ]
         }
        },
        {
         "name": "label",
         "dtype": "object",
         "stats": {
          "unique_count": 1,
          "nan_count": 0,
          "categories": [
           {
            "name": "<=50K",
            "count": 5
           }
          ]
         }
        },
        {
         "name": "_deepnote_index_column",
         "dtype": "int64"
        }
       ],
       "rows_top": [
        {
         "age": 39,
         "workclass": "State-gov",
         "fnlwgt": 77516,
         "education": "Bachelors",
         "education_num": 13,
         "marital": "Never-married",
         "occupation": "Adm-clerical",
         "relationship": "Not-in-family",
         "race": "White",
         "sex": "Male",
         "capital_gain": 2174,
         "capital_loss": 0,
         "hours_week": 40,
         "native_country": "United-States",
         "label": "<=50K",
         "_deepnote_index_column": 0
        },
        {
         "age": 50,
         "workclass": "Self-emp-not-inc",
         "fnlwgt": 83311,
         "education": "Bachelors",
         "education_num": 13,
         "marital": "Married-civ-spouse",
         "occupation": "Exec-managerial",
         "relationship": "Husband",
         "race": "White",
         "sex": "Male",
         "capital_gain": 0,
         "capital_loss": 0,
         "hours_week": 13,
         "native_country": "United-States",
         "label": "<=50K",
         "_deepnote_index_column": 1
        },
        {
         "age": 38,
         "workclass": "Private",
         "fnlwgt": 215646,
         "education": "HS-grad",
         "education_num": 9,
         "marital": "Divorced",
         "occupation": "Handlers-cleaners",
         "relationship": "Not-in-family",
         "race": "White",
         "sex": "Male",
         "capital_gain": 0,
         "capital_loss": 0,
         "hours_week": 40,
         "native_country": "United-States",
         "label": "<=50K",
         "_deepnote_index_column": 2
        },
        {
         "age": 53,
         "workclass": "Private",
         "fnlwgt": 234721,
         "education": "11th",
         "education_num": 7,
         "marital": "Married-civ-spouse",
         "occupation": "Handlers-cleaners",
         "relationship": "Husband",
         "race": "Black",
         "sex": "Male",
         "capital_gain": 0,
         "capital_loss": 0,
         "hours_week": 40,
         "native_country": "United-States",
         "label": "<=50K",
         "_deepnote_index_column": 3
        },
        {
         "age": 28,
         "workclass": "Private",
         "fnlwgt": 338409,
         "education": "Bachelors",
         "education_num": 13,
         "marital": "Married-civ-spouse",
         "occupation": "Prof-specialty",
         "relationship": "Wife",
         "race": "Black",
         "sex": "Female",
         "capital_gain": 0,
         "capital_loss": 0,
         "hours_week": 40,
         "native_country": "Cuba",
         "label": "<=50K",
         "_deepnote_index_column": 4
        }
       ],
       "rows_bottom": null
      },
      "text/plain": "   age         workclass  fnlwgt  education  education_num  \\\n0   39         State-gov   77516  Bachelors             13   \n1   50  Self-emp-not-inc   83311  Bachelors             13   \n2   38           Private  215646    HS-grad              9   \n3   53           Private  234721       11th              7   \n4   28           Private  338409  Bachelors             13   \n\n              marital         occupation   relationship   race     sex  \\\n0       Never-married       Adm-clerical  Not-in-family  White    Male   \n1  Married-civ-spouse    Exec-managerial        Husband  White    Male   \n2            Divorced  Handlers-cleaners  Not-in-family  White    Male   \n3  Married-civ-spouse  Handlers-cleaners        Husband  Black    Male   \n4  Married-civ-spouse     Prof-specialty           Wife  Black  Female   \n\n   capital_gain  capital_loss  hours_week native_country  label  \n0          2174             0          40  United-States  <=50K  \n1             0             0          13  United-States  <=50K  \n2             0             0          40  United-States  <=50K  \n3             0             0          40  United-States  <=50K  \n4             0             0          40           Cuba  <=50K  ",
      "text/html": "<div>\n<style scoped>\n    .dataframe tbody tr th:only-of-type {\n        vertical-align: middle;\n    }\n\n    .dataframe tbody tr th {\n        vertical-align: top;\n    }\n\n    .dataframe thead th {\n        text-align: right;\n    }\n</style>\n<table border=\"1\" class=\"dataframe\">\n  <thead>\n    <tr style=\"text-align: right;\">\n      <th></th>\n      <th>age</th>\n      <th>workclass</th>\n      <th>fnlwgt</th>\n      <th>education</th>\n      <th>education_num</th>\n      <th>marital</th>\n      <th>occupation</th>\n      <th>relationship</th>\n      <th>race</th>\n      <th>sex</th>\n      <th>capital_gain</th>\n      <th>capital_loss</th>\n      <th>hours_week</th>\n      <th>native_country</th>\n      <th>label</th>\n    </tr>\n  </thead>\n  <tbody>\n    <tr>\n      <th>0</th>\n      <td>39</td>\n      <td>State-gov</td>\n      <td>77516</td>\n      <td>Bachelors</td>\n      <td>13</td>\n      <td>Never-married</td>\n      <td>Adm-clerical</td>\n      <td>Not-in-family</td>\n      <td>White</td>\n      <td>Male</td>\n      <td>2174</td>\n      <td>0</td>\n      <td>40</td>\n      <td>United-States</td>\n      <td>&lt;=50K</td>\n    </tr>\n    <tr>\n      <th>1</th>\n      <td>50</td>\n      <td>Self-emp-not-inc</td>\n      <td>83311</td>\n      <td>Bachelors</td>\n      <td>13</td>\n      <td>Married-civ-spouse</td>\n      <td>Exec-managerial</td>\n      <td>Husband</td>\n      <td>White</td>\n      <td>Male</td>\n      <td>0</td>\n      <td>0</td>\n      <td>13</td>\n      <td>United-States</td>\n      <td>&lt;=50K</td>\n    </tr>\n    <tr>\n      <th>2</th>\n      <td>38</td>\n      <td>Private</td>\n      <td>215646</td>\n      <td>HS-grad</td>\n      <td>9</td>\n      <td>Divorced</td>\n      <td>Handlers-cleaners</td>\n      <td>Not-in-family</td>\n      <td>White</td>\n      <td>Male</td>\n      <td>0</td>\n      <td>0</td>\n      <td>40</td>\n      <td>United-States</td>\n      <td>&lt;=50K</td>\n    </tr>\n    <tr>\n      <th>3</th>\n      <td>53</td>\n      <td>Private</td>\n      <td>234721</td>\n      <td>11th</td>\n      <td>7</td>\n      <td>Married-civ-spouse</td>\n      <td>Handlers-cleaners</td>\n      <td>Husband</td>\n      <td>Black</td>\n      <td>Male</td>\n      <td>0</td>\n      <td>0</td>\n      <td>40</td>\n      <td>United-States</td>\n      <td>&lt;=50K</td>\n    </tr>\n    <tr>\n      <th>4</th>\n      <td>28</td>\n      <td>Private</td>\n      <td>338409</td>\n      <td>Bachelors</td>\n      <td>13</td>\n      <td>Married-civ-spouse</td>\n      <td>Prof-specialty</td>\n      <td>Wife</td>\n      <td>Black</td>\n      <td>Female</td>\n      <td>0</td>\n      <td>0</td>\n      <td>40</td>\n      <td>Cuba</td>\n      <td>&lt;=50K</td>\n    </tr>\n  </tbody>\n</table>\n</div>"
     },
     "metadata": {}
    }
   ],
   "execution_count": null
  },
  {
   "cell_type": "code",
   "metadata": {
    "tags": [],
    "cell_id": "00004-755efdc7-3df3-4489-b1a3-5bb1bad366cd",
    "deepnote_to_be_reexecuted": false,
    "source_hash": "1b0da62",
    "execution_start": 1633367023989,
    "execution_millis": 34,
    "deepnote_cell_type": "code"
   },
   "source": "def process_adult(df):\n\n    # Remove fnlwgt and native_country column \n    df = df.drop([\"fnlwgt\", \"native_country\"], axis=1)\n    \n    # Remove missing values\n    df = df[~df.eq(\"?\").any(1)]\n    \n    # Normalize the numerical features\n    numerical_features = [\"age\", \"education_num\", \"capital_gain\", \"capital_loss\", \"hours_week\"]\n    scaler = MinMaxScaler()\n    df[numerical_features] = scaler.fit_transform(df[numerical_features])\n    \n    # One-hot encode the categorical features\n    categorical_features = [\"workclass\", \"education\", \"marital\", \"occupation\", \"relationship\", \"race\"]\n    df = pd.get_dummies(data=df, columns=categorical_features)\n    \n    # Keep separate variabels with labels of outcome + protected classes for downstream plots, tables, etc\n    df[\"gender_labs\"] = df[\"sex\"]\n    \n    # Map binary features to 0/1\n    df[\"sex\"] = df[\"sex\"].map({\"Female\":0, \"Male\":1})\n    df[\"label\"] = df[\"label\"].map({\"<=50K\":0, \">50K\":1})\n\n    df[\"over_under_50k\"] = df[\"label\"]\n\n    return df",
   "outputs": [],
   "execution_count": null
  },
  {
   "cell_type": "code",
   "metadata": {
    "tags": [],
    "cell_id": "00005-af6c7958-e4ab-4b19-b365-b8183ae8bbf7",
    "deepnote_to_be_reexecuted": false,
    "source_hash": "a559e8d4",
    "execution_start": 1633367026684,
    "execution_millis": 334,
    "deepnote_cell_type": "code"
   },
   "source": "# Get the processed adult data\nprocessed_adult = process_adult(adult_data)\n\n# Split processed data into train and test\nX, y = processed_adult.drop([\"label\", \"gender_labs\", \"over_under_50k\"], axis=1), processed_adult[\"label\"]\nX_train, X_test, y_train, y_test = train_test_split(X, y, test_size=0.2, random_state=0)",
   "outputs": [
    {
     "name": "stderr",
     "text": "/root/venv/lib/python3.7/site-packages/pandas/core/ops/__init__.py:1115: FutureWarning: elementwise comparison failed; returning scalar instead, but in the future will perform elementwise comparison\n  result = method(y)\n",
     "output_type": "stream"
    }
   ],
   "execution_count": null
  },
  {
   "cell_type": "markdown",
   "source": "## 1.3 EDA",
   "metadata": {
    "tags": [],
    "cell_id": "00008-3f48fed4-2271-40e6-aa63-e387007a832a",
    "deepnote_cell_type": "markdown"
   }
  },
  {
   "cell_type": "code",
   "metadata": {
    "tags": [],
    "cell_id": "00009-91515489-3c9d-4751-b01b-74ba189778dc",
    "deepnote_to_be_reexecuted": false,
    "source_hash": "abd56e8b",
    "execution_start": 1633367028862,
    "execution_millis": 427,
    "deepnote_cell_type": "code"
   },
   "source": "# Create age bucket\nadult_data['Age Bucket'] = '0-25'\nadult_data.loc[(adult_data['age'] > 25) & (adult_data['age'] < 40), 'Age Bucket'] = '26-39'\nadult_data.loc[(adult_data['age'] >= 40) & (adult_data['age'] < 60), 'Age Bucket'] = '40-59'\nadult_data.loc[(adult_data['age'] >= 60) & (adult_data['age'] < 65), 'Age Bucket'] = '60-64'\nadult_data.loc[(adult_data['age'] >= 65), 'Age Bucket'] = '65+'\n\n# Create white vs. nonwhite\nadult_data['Race Binary'] = 'White'\nadult_data.loc[(adult_data['race'] != 'White'), 'Race Binary'] = 'Nonwhite'\n\n# Create binary\nadult_data['Over_50k'] = 0\nadult_data.loc[(adult_data['label'] == '>50K'), 'Over_50k'] = 1\n\n# Create categorical hours worked\nadult_data['Hours Worked Bucket'] = '<20'\nadult_data.loc[(adult_data['hours_week'] >=20) & (adult_data['hours_week'] < 30), 'Hours Worked Bucket'] = '20-29'\nadult_data.loc[(adult_data['hours_week'] >=30) & (adult_data['hours_week'] < 40), 'Hours Worked Bucket'] = '30-39'\nadult_data.loc[(adult_data['hours_week'] >= 40), 'Hours Worked Bucket'] = '40+'\n\nadult_data.head()",
   "outputs": [
    {
     "output_type": "execute_result",
     "execution_count": 9,
     "data": {
      "application/vnd.deepnote.dataframe.v2+json": {
       "row_count": 5,
       "column_count": 19,
       "columns": [
        {
         "name": "age",
         "dtype": "int64",
         "stats": {
          "unique_count": 5,
          "nan_count": 0,
          "min": "28",
          "max": "53",
          "histogram": [
           {
            "bin_start": 28,
            "bin_end": 30.5,
            "count": 1
           },
           {
            "bin_start": 30.5,
            "bin_end": 33,
            "count": 0
           },
           {
            "bin_start": 33,
            "bin_end": 35.5,
            "count": 0
           },
           {
            "bin_start": 35.5,
            "bin_end": 38,
            "count": 0
           },
           {
            "bin_start": 38,
            "bin_end": 40.5,
            "count": 2
           },
           {
            "bin_start": 40.5,
            "bin_end": 43,
            "count": 0
           },
           {
            "bin_start": 43,
            "bin_end": 45.5,
            "count": 0
           },
           {
            "bin_start": 45.5,
            "bin_end": 48,
            "count": 0
           },
           {
            "bin_start": 48,
            "bin_end": 50.5,
            "count": 1
           },
           {
            "bin_start": 50.5,
            "bin_end": 53,
            "count": 1
           }
          ]
         }
        },
        {
         "name": "workclass",
         "dtype": "object",
         "stats": {
          "unique_count": 3,
          "nan_count": 0,
          "categories": [
           {
            "name": "Private",
            "count": 3
           },
           {
            "name": "State-gov",
            "count": 1
           },
           {
            "name": "Self-emp-not-inc",
            "count": 1
           }
          ]
         }
        },
        {
         "name": "fnlwgt",
         "dtype": "int64",
         "stats": {
          "unique_count": 5,
          "nan_count": 0,
          "min": "77516",
          "max": "338409",
          "histogram": [
           {
            "bin_start": 77516,
            "bin_end": 103605.3,
            "count": 2
           },
           {
            "bin_start": 103605.3,
            "bin_end": 129694.6,
            "count": 0
           },
           {
            "bin_start": 129694.6,
            "bin_end": 155783.9,
            "count": 0
           },
           {
            "bin_start": 155783.9,
            "bin_end": 181873.2,
            "count": 0
           },
           {
            "bin_start": 181873.2,
            "bin_end": 207962.5,
            "count": 0
           },
           {
            "bin_start": 207962.5,
            "bin_end": 234051.8,
            "count": 1
           },
           {
            "bin_start": 234051.8,
            "bin_end": 260141.1,
            "count": 1
           },
           {
            "bin_start": 260141.1,
            "bin_end": 286230.4,
            "count": 0
           },
           {
            "bin_start": 286230.4,
            "bin_end": 312319.69999999995,
            "count": 0
           },
           {
            "bin_start": 312319.69999999995,
            "bin_end": 338409,
            "count": 1
           }
          ]
         }
        },
        {
         "name": "education",
         "dtype": "object",
         "stats": {
          "unique_count": 3,
          "nan_count": 0,
          "categories": [
           {
            "name": "Bachelors",
            "count": 3
           },
           {
            "name": "HS-grad",
            "count": 1
           },
           {
            "name": "11th",
            "count": 1
           }
          ]
         }
        },
        {
         "name": "education_num",
         "dtype": "int64",
         "stats": {
          "unique_count": 3,
          "nan_count": 0,
          "min": "7",
          "max": "13",
          "histogram": [
           {
            "bin_start": 7,
            "bin_end": 7.6,
            "count": 1
           },
           {
            "bin_start": 7.6,
            "bin_end": 8.2,
            "count": 0
           },
           {
            "bin_start": 8.2,
            "bin_end": 8.8,
            "count": 0
           },
           {
            "bin_start": 8.8,
            "bin_end": 9.4,
            "count": 1
           },
           {
            "bin_start": 9.4,
            "bin_end": 10,
            "count": 0
           },
           {
            "bin_start": 10,
            "bin_end": 10.6,
            "count": 0
           },
           {
            "bin_start": 10.6,
            "bin_end": 11.2,
            "count": 0
           },
           {
            "bin_start": 11.2,
            "bin_end": 11.8,
            "count": 0
           },
           {
            "bin_start": 11.8,
            "bin_end": 12.399999999999999,
            "count": 0
           },
           {
            "bin_start": 12.399999999999999,
            "bin_end": 13,
            "count": 3
           }
          ]
         }
        },
        {
         "name": "marital",
         "dtype": "object",
         "stats": {
          "unique_count": 3,
          "nan_count": 0,
          "categories": [
           {
            "name": "Married-civ-spouse",
            "count": 3
           },
           {
            "name": "Never-married",
            "count": 1
           },
           {
            "name": "Divorced",
            "count": 1
           }
          ]
         }
        },
        {
         "name": "occupation",
         "dtype": "object",
         "stats": {
          "unique_count": 4,
          "nan_count": 0,
          "categories": [
           {
            "name": "Handlers-cleaners",
            "count": 2
           },
           {
            "name": "Adm-clerical",
            "count": 1
           },
           {
            "name": "2 others",
            "count": 2
           }
          ]
         }
        },
        {
         "name": "relationship",
         "dtype": "object",
         "stats": {
          "unique_count": 3,
          "nan_count": 0,
          "categories": [
           {
            "name": "Not-in-family",
            "count": 2
           },
           {
            "name": "Husband",
            "count": 2
           },
           {
            "name": "Wife",
            "count": 1
           }
          ]
         }
        },
        {
         "name": "race",
         "dtype": "object",
         "stats": {
          "unique_count": 2,
          "nan_count": 0,
          "categories": [
           {
            "name": "White",
            "count": 3
           },
           {
            "name": "Black",
            "count": 2
           }
          ]
         }
        },
        {
         "name": "sex",
         "dtype": "object",
         "stats": {
          "unique_count": 2,
          "nan_count": 0,
          "categories": [
           {
            "name": "Male",
            "count": 4
           },
           {
            "name": "Female",
            "count": 1
           }
          ]
         }
        },
        {
         "name": "capital_gain",
         "dtype": "int64",
         "stats": {
          "unique_count": 2,
          "nan_count": 0,
          "min": "0",
          "max": "2174",
          "histogram": [
           {
            "bin_start": 0,
            "bin_end": 217.4,
            "count": 4
           },
           {
            "bin_start": 217.4,
            "bin_end": 434.8,
            "count": 0
           },
           {
            "bin_start": 434.8,
            "bin_end": 652.2,
            "count": 0
           },
           {
            "bin_start": 652.2,
            "bin_end": 869.6,
            "count": 0
           },
           {
            "bin_start": 869.6,
            "bin_end": 1087,
            "count": 0
           },
           {
            "bin_start": 1087,
            "bin_end": 1304.4,
            "count": 0
           },
           {
            "bin_start": 1304.4,
            "bin_end": 1521.8,
            "count": 0
           },
           {
            "bin_start": 1521.8,
            "bin_end": 1739.2,
            "count": 0
           },
           {
            "bin_start": 1739.2,
            "bin_end": 1956.6000000000001,
            "count": 0
           },
           {
            "bin_start": 1956.6000000000001,
            "bin_end": 2174,
            "count": 1
           }
          ]
         }
        },
        {
         "name": "capital_loss",
         "dtype": "int64",
         "stats": {
          "unique_count": 1,
          "nan_count": 0,
          "min": "0",
          "max": "0",
          "histogram": [
           {
            "bin_start": -0.5,
            "bin_end": -0.4,
            "count": 0
           },
           {
            "bin_start": -0.4,
            "bin_end": -0.3,
            "count": 0
           },
           {
            "bin_start": -0.3,
            "bin_end": -0.19999999999999996,
            "count": 0
           },
           {
            "bin_start": -0.19999999999999996,
            "bin_end": -0.09999999999999998,
            "count": 0
           },
           {
            "bin_start": -0.09999999999999998,
            "bin_end": 0,
            "count": 0
           },
           {
            "bin_start": 0,
            "bin_end": 0.10000000000000009,
            "count": 5
           },
           {
            "bin_start": 0.10000000000000009,
            "bin_end": 0.20000000000000007,
            "count": 0
           },
           {
            "bin_start": 0.20000000000000007,
            "bin_end": 0.30000000000000004,
            "count": 0
           },
           {
            "bin_start": 0.30000000000000004,
            "bin_end": 0.4,
            "count": 0
           },
           {
            "bin_start": 0.4,
            "bin_end": 0.5,
            "count": 0
           }
          ]
         }
        },
        {
         "name": "hours_week",
         "dtype": "int64",
         "stats": {
          "unique_count": 2,
          "nan_count": 0,
          "min": "13",
          "max": "40",
          "histogram": [
           {
            "bin_start": 13,
            "bin_end": 15.7,
            "count": 1
           },
           {
            "bin_start": 15.7,
            "bin_end": 18.4,
            "count": 0
           },
           {
            "bin_start": 18.4,
            "bin_end": 21.1,
            "count": 0
           },
           {
            "bin_start": 21.1,
            "bin_end": 23.8,
            "count": 0
           },
           {
            "bin_start": 23.8,
            "bin_end": 26.5,
            "count": 0
           },
           {
            "bin_start": 26.5,
            "bin_end": 29.200000000000003,
            "count": 0
           },
           {
            "bin_start": 29.200000000000003,
            "bin_end": 31.900000000000002,
            "count": 0
           },
           {
            "bin_start": 31.900000000000002,
            "bin_end": 34.6,
            "count": 0
           },
           {
            "bin_start": 34.6,
            "bin_end": 37.3,
            "count": 0
           },
           {
            "bin_start": 37.3,
            "bin_end": 40,
            "count": 4
           }
          ]
         }
        },
        {
         "name": "native_country",
         "dtype": "object",
         "stats": {
          "unique_count": 2,
          "nan_count": 0,
          "categories": [
           {
            "name": "United-States",
            "count": 4
           },
           {
            "name": "Cuba",
            "count": 1
           }
          ]
         }
        },
        {
         "name": "label",
         "dtype": "object",
         "stats": {
          "unique_count": 1,
          "nan_count": 0,
          "categories": [
           {
            "name": "<=50K",
            "count": 5
           }
          ]
         }
        },
        {
         "name": "Age Bucket",
         "dtype": "object",
         "stats": {
          "unique_count": 2,
          "nan_count": 0,
          "categories": [
           {
            "name": "26-39",
            "count": 3
           },
           {
            "name": "40-59",
            "count": 2
           }
          ]
         }
        },
        {
         "name": "Race Binary",
         "dtype": "object",
         "stats": {
          "unique_count": 2,
          "nan_count": 0,
          "categories": [
           {
            "name": "White",
            "count": 3
           },
           {
            "name": "Nonwhite",
            "count": 2
           }
          ]
         }
        },
        {
         "name": "Over_50k",
         "dtype": "int64",
         "stats": {
          "unique_count": 1,
          "nan_count": 0,
          "min": "0",
          "max": "0",
          "histogram": [
           {
            "bin_start": -0.5,
            "bin_end": -0.4,
            "count": 0
           },
           {
            "bin_start": -0.4,
            "bin_end": -0.3,
            "count": 0
           },
           {
            "bin_start": -0.3,
            "bin_end": -0.19999999999999996,
            "count": 0
           },
           {
            "bin_start": -0.19999999999999996,
            "bin_end": -0.09999999999999998,
            "count": 0
           },
           {
            "bin_start": -0.09999999999999998,
            "bin_end": 0,
            "count": 0
           },
           {
            "bin_start": 0,
            "bin_end": 0.10000000000000009,
            "count": 5
           },
           {
            "bin_start": 0.10000000000000009,
            "bin_end": 0.20000000000000007,
            "count": 0
           },
           {
            "bin_start": 0.20000000000000007,
            "bin_end": 0.30000000000000004,
            "count": 0
           },
           {
            "bin_start": 0.30000000000000004,
            "bin_end": 0.4,
            "count": 0
           },
           {
            "bin_start": 0.4,
            "bin_end": 0.5,
            "count": 0
           }
          ]
         }
        },
        {
         "name": "Hours Worked Bucket",
         "dtype": "object",
         "stats": {
          "unique_count": 2,
          "nan_count": 0,
          "categories": [
           {
            "name": "40+",
            "count": 4
           },
           {
            "name": "<20",
            "count": 1
           }
          ]
         }
        },
        {
         "name": "_deepnote_index_column",
         "dtype": "int64"
        }
       ],
       "rows_top": [
        {
         "age": 39,
         "workclass": "State-gov",
         "fnlwgt": 77516,
         "education": "Bachelors",
         "education_num": 13,
         "marital": "Never-married",
         "occupation": "Adm-clerical",
         "relationship": "Not-in-family",
         "race": "White",
         "sex": "Male",
         "capital_gain": 2174,
         "capital_loss": 0,
         "hours_week": 40,
         "native_country": "United-States",
         "label": "<=50K",
         "Age Bucket": "26-39",
         "Race Binary": "White",
         "Over_50k": 0,
         "Hours Worked Bucket": "40+",
         "_deepnote_index_column": 0
        },
        {
         "age": 50,
         "workclass": "Self-emp-not-inc",
         "fnlwgt": 83311,
         "education": "Bachelors",
         "education_num": 13,
         "marital": "Married-civ-spouse",
         "occupation": "Exec-managerial",
         "relationship": "Husband",
         "race": "White",
         "sex": "Male",
         "capital_gain": 0,
         "capital_loss": 0,
         "hours_week": 13,
         "native_country": "United-States",
         "label": "<=50K",
         "Age Bucket": "40-59",
         "Race Binary": "White",
         "Over_50k": 0,
         "Hours Worked Bucket": "<20",
         "_deepnote_index_column": 1
        },
        {
         "age": 38,
         "workclass": "Private",
         "fnlwgt": 215646,
         "education": "HS-grad",
         "education_num": 9,
         "marital": "Divorced",
         "occupation": "Handlers-cleaners",
         "relationship": "Not-in-family",
         "race": "White",
         "sex": "Male",
         "capital_gain": 0,
         "capital_loss": 0,
         "hours_week": 40,
         "native_country": "United-States",
         "label": "<=50K",
         "Age Bucket": "26-39",
         "Race Binary": "White",
         "Over_50k": 0,
         "Hours Worked Bucket": "40+",
         "_deepnote_index_column": 2
        },
        {
         "age": 53,
         "workclass": "Private",
         "fnlwgt": 234721,
         "education": "11th",
         "education_num": 7,
         "marital": "Married-civ-spouse",
         "occupation": "Handlers-cleaners",
         "relationship": "Husband",
         "race": "Black",
         "sex": "Male",
         "capital_gain": 0,
         "capital_loss": 0,
         "hours_week": 40,
         "native_country": "United-States",
         "label": "<=50K",
         "Age Bucket": "40-59",
         "Race Binary": "Nonwhite",
         "Over_50k": 0,
         "Hours Worked Bucket": "40+",
         "_deepnote_index_column": 3
        },
        {
         "age": 28,
         "workclass": "Private",
         "fnlwgt": 338409,
         "education": "Bachelors",
         "education_num": 13,
         "marital": "Married-civ-spouse",
         "occupation": "Prof-specialty",
         "relationship": "Wife",
         "race": "Black",
         "sex": "Female",
         "capital_gain": 0,
         "capital_loss": 0,
         "hours_week": 40,
         "native_country": "Cuba",
         "label": "<=50K",
         "Age Bucket": "26-39",
         "Race Binary": "Nonwhite",
         "Over_50k": 0,
         "Hours Worked Bucket": "40+",
         "_deepnote_index_column": 4
        }
       ],
       "rows_bottom": null
      },
      "text/plain": "   age         workclass  fnlwgt  education  education_num  \\\n0   39         State-gov   77516  Bachelors             13   \n1   50  Self-emp-not-inc   83311  Bachelors             13   \n2   38           Private  215646    HS-grad              9   \n3   53           Private  234721       11th              7   \n4   28           Private  338409  Bachelors             13   \n\n              marital         occupation   relationship   race     sex  \\\n0       Never-married       Adm-clerical  Not-in-family  White    Male   \n1  Married-civ-spouse    Exec-managerial        Husband  White    Male   \n2            Divorced  Handlers-cleaners  Not-in-family  White    Male   \n3  Married-civ-spouse  Handlers-cleaners        Husband  Black    Male   \n4  Married-civ-spouse     Prof-specialty           Wife  Black  Female   \n\n   capital_gain  capital_loss  hours_week native_country  label Age Bucket  \\\n0          2174             0          40  United-States  <=50K      26-39   \n1             0             0          13  United-States  <=50K      40-59   \n2             0             0          40  United-States  <=50K      26-39   \n3             0             0          40  United-States  <=50K      40-59   \n4             0             0          40           Cuba  <=50K      26-39   \n\n  Race Binary  Over_50k Hours Worked Bucket  \n0       White         0                 40+  \n1       White         0                 <20  \n2       White         0                 40+  \n3    Nonwhite         0                 40+  \n4    Nonwhite         0                 40+  ",
      "text/html": "<div>\n<style scoped>\n    .dataframe tbody tr th:only-of-type {\n        vertical-align: middle;\n    }\n\n    .dataframe tbody tr th {\n        vertical-align: top;\n    }\n\n    .dataframe thead th {\n        text-align: right;\n    }\n</style>\n<table border=\"1\" class=\"dataframe\">\n  <thead>\n    <tr style=\"text-align: right;\">\n      <th></th>\n      <th>age</th>\n      <th>workclass</th>\n      <th>fnlwgt</th>\n      <th>education</th>\n      <th>education_num</th>\n      <th>marital</th>\n      <th>occupation</th>\n      <th>relationship</th>\n      <th>race</th>\n      <th>sex</th>\n      <th>capital_gain</th>\n      <th>capital_loss</th>\n      <th>hours_week</th>\n      <th>native_country</th>\n      <th>label</th>\n      <th>Age Bucket</th>\n      <th>Race Binary</th>\n      <th>Over_50k</th>\n      <th>Hours Worked Bucket</th>\n    </tr>\n  </thead>\n  <tbody>\n    <tr>\n      <th>0</th>\n      <td>39</td>\n      <td>State-gov</td>\n      <td>77516</td>\n      <td>Bachelors</td>\n      <td>13</td>\n      <td>Never-married</td>\n      <td>Adm-clerical</td>\n      <td>Not-in-family</td>\n      <td>White</td>\n      <td>Male</td>\n      <td>2174</td>\n      <td>0</td>\n      <td>40</td>\n      <td>United-States</td>\n      <td>&lt;=50K</td>\n      <td>26-39</td>\n      <td>White</td>\n      <td>0</td>\n      <td>40+</td>\n    </tr>\n    <tr>\n      <th>1</th>\n      <td>50</td>\n      <td>Self-emp-not-inc</td>\n      <td>83311</td>\n      <td>Bachelors</td>\n      <td>13</td>\n      <td>Married-civ-spouse</td>\n      <td>Exec-managerial</td>\n      <td>Husband</td>\n      <td>White</td>\n      <td>Male</td>\n      <td>0</td>\n      <td>0</td>\n      <td>13</td>\n      <td>United-States</td>\n      <td>&lt;=50K</td>\n      <td>40-59</td>\n      <td>White</td>\n      <td>0</td>\n      <td>&lt;20</td>\n    </tr>\n    <tr>\n      <th>2</th>\n      <td>38</td>\n      <td>Private</td>\n      <td>215646</td>\n      <td>HS-grad</td>\n      <td>9</td>\n      <td>Divorced</td>\n      <td>Handlers-cleaners</td>\n      <td>Not-in-family</td>\n      <td>White</td>\n      <td>Male</td>\n      <td>0</td>\n      <td>0</td>\n      <td>40</td>\n      <td>United-States</td>\n      <td>&lt;=50K</td>\n      <td>26-39</td>\n      <td>White</td>\n      <td>0</td>\n      <td>40+</td>\n    </tr>\n    <tr>\n      <th>3</th>\n      <td>53</td>\n      <td>Private</td>\n      <td>234721</td>\n      <td>11th</td>\n      <td>7</td>\n      <td>Married-civ-spouse</td>\n      <td>Handlers-cleaners</td>\n      <td>Husband</td>\n      <td>Black</td>\n      <td>Male</td>\n      <td>0</td>\n      <td>0</td>\n      <td>40</td>\n      <td>United-States</td>\n      <td>&lt;=50K</td>\n      <td>40-59</td>\n      <td>Nonwhite</td>\n      <td>0</td>\n      <td>40+</td>\n    </tr>\n    <tr>\n      <th>4</th>\n      <td>28</td>\n      <td>Private</td>\n      <td>338409</td>\n      <td>Bachelors</td>\n      <td>13</td>\n      <td>Married-civ-spouse</td>\n      <td>Prof-specialty</td>\n      <td>Wife</td>\n      <td>Black</td>\n      <td>Female</td>\n      <td>0</td>\n      <td>0</td>\n      <td>40</td>\n      <td>Cuba</td>\n      <td>&lt;=50K</td>\n      <td>26-39</td>\n      <td>Nonwhite</td>\n      <td>0</td>\n      <td>40+</td>\n    </tr>\n  </tbody>\n</table>\n</div>"
     },
     "metadata": {}
    }
   ],
   "execution_count": null
  },
  {
   "cell_type": "code",
   "metadata": {
    "tags": [],
    "cell_id": "00010-16c56c10-63c7-43cb-b8cb-6e0077459e32",
    "deepnote_to_be_reexecuted": false,
    "source_hash": "951c349e",
    "execution_start": 1633367031457,
    "execution_millis": 160,
    "deepnote_cell_type": "code"
   },
   "source": "print(adult_data.groupby('sex').Over_50k.value_counts(normalize=True))\n# What share is F vs. M\nprint(adult_data.sex.value_counts(normalize=True))\n\nprint(adult_data.groupby(['sex', 'Age Bucket']).Over_50k.value_counts(normalize=True))\n\nprint(adult_data.groupby('Race Binary').Over_50k.value_counts(normalize=True))\n# What share is W vs. NW\nprint(adult_data['Race Binary'].value_counts(normalize=True))\n\nprint(adult_data.groupby(['Race Binary', 'Age Bucket']).Over_50k.value_counts(normalize=True))",
   "outputs": [
    {
     "name": "stdout",
     "text": "sex     Over_50k\nFemale  0           0.890539\n        1           0.109461\nMale    0           0.694263\n        1           0.305737\nName: Over_50k, dtype: float64\nMale      0.669205\nFemale    0.330795\nName: sex, dtype: float64\nsex     Age Bucket  Over_50k\nFemale  0-25        0           0.988657\n                    1           0.011343\n        26-39       0           0.869554\n                    1           0.130446\n        40-59       0           0.825856\n                    1           0.174144\n        60-64       0           0.892105\n                    1           0.107895\n        65+         0           0.936508\n                    1           0.063492\nMale    0-25        0           0.977159\n                    1           0.022841\n        26-39       0           0.728585\n                    1           0.271415\n        40-59       0           0.539427\n                    1           0.460573\n        60-64       0           0.639009\n                    1           0.360991\n        65+         0           0.722905\n                    1           0.277095\nName: Over_50k, dtype: float64\nRace Binary  Over_50k\nNonwhite     0           0.847418\n             1           0.152582\nWhite        0           0.744140\n             1           0.255860\nName: Over_50k, dtype: float64\nWhite       0.854274\nNonwhite    0.145726\nName: Race Binary, dtype: float64\nRace Binary  Age Bucket  Over_50k\nNonwhite     0-25        0           0.982665\n                         1           0.017335\n             26-39       0           0.864469\n                         1           0.135531\n             40-59       0           0.748007\n                         1           0.251993\n             60-64       0           0.823129\n                         1           0.176871\n             65+         0           0.909774\n                         1           0.090226\nWhite        0-25        0           0.982143\n                         1           0.017857\n             26-39       0           0.755349\n                         1           0.244651\n             40-59       0           0.602690\n                         1           0.397310\n             60-64       0           0.698536\n                         1           0.301464\n             65+         0           0.780549\n                         1           0.219451\nName: Over_50k, dtype: float64\n",
     "output_type": "stream"
    }
   ],
   "execution_count": null
  },
  {
   "cell_type": "code",
   "metadata": {
    "tags": [],
    "cell_id": "00008-2c371c4f-798a-4cec-93c0-1ce063569960",
    "deepnote_to_be_reexecuted": false,
    "source_hash": "cb10754e",
    "execution_start": 1633367033822,
    "execution_millis": 3244,
    "deepnote_cell_type": "code"
   },
   "source": "# Plots\n# Male vs. Female rate of income >50k\n# White vs. nonwhite rate of income >50k\n# Male v. Female education\n# White vs. nonwhite education\n# Male vs. female age\n# White vs. nonwhite age\n\n# Create plots\nfig, axes = plt.subplots(3, 2, figsize=(10, 20))\nsns.boxplot(ax=axes[0,0], data=adult_data, x='sex', y='age').set_title('Age distribution by gender')\nsns.boxplot(ax=axes[0,1], data=adult_data, x='Race Binary', y='age').set_title('Age distribution by race')\nsns.boxplot(ax=axes[1,0], data=adult_data, x='sex', y='education_num').set_title('Education distribution by gender')\nsns.boxplot(ax=axes[1,1], data=adult_data, x='Race Binary', y='education_num').set_title('Education distribution by race')\nsns.boxplot(ax=axes[2,0], data=adult_data, x='sex', y='hours_week').set_title('Hours Worked distribution by gender')\nsns.boxplot(ax=axes[2,1], data=adult_data, x='Race Binary', y='hours_week').set_title('Hours Worked distribution by race')\n\n",
   "outputs": [
    {
     "output_type": "execute_result",
     "execution_count": 11,
     "data": {
      "text/plain": "Text(0.5, 1.0, 'Hours Worked distribution by race')"
     },
     "metadata": {}
    },
    {
     "data": {
      "text/plain": "<Figure size 720x1440 with 6 Axes>",
      "image/png": "[encoded data removed]"
     },
     "metadata": {
      "needs_background": "light",
      "image/png": {
       "width": 613,
       "height": 1148
      }
     },
     "output_type": "display_data"
    }
   ],
   "execution_count": null
  },
  {
   "cell_type": "code",
   "metadata": {
    "tags": [],
    "cell_id": "00012-488ff281-fdf2-410e-b8f7-fffcbb569d8c",
    "deepnote_to_be_reexecuted": false,
    "source_hash": "61e5287d",
    "execution_start": 1633367037123,
    "execution_millis": 19677,
    "deepnote_cell_type": "code"
   },
   "source": "# Plot outcome variable by Protected Attributes, also Age\nsns.catplot(x=\"sex\", y=\"Over_50k\", kind=\"bar\", data=adult_data)\nsns.catplot(x=\"Race Binary\", y=\"Over_50k\", kind=\"bar\", data=adult_data)\n\n# Intersection\nsns.catplot(x=\"Race Binary\", y=\"Over_50k\", kind=\"bar\", data=adult_data, col=\"sex\")\n\nsns.catplot(x=\"Age Bucket\", y=\"Over_50k\", kind=\"bar\", data=adult_data, col=\"sex\")\nsns.catplot(x=\"Age Bucket\", y=\"Over_50k\", kind=\"bar\", data=adult_data, col=\"Race Binary\")\n\nsns.catplot(x=\"Hours Worked Bucket\", y=\"Over_50k\", kind=\"bar\", data=adult_data, col=\"sex\")\nsns.catplot(x=\"Hours Worked Bucket\", y=\"Over_50k\", kind=\"bar\", data=adult_data, col=\"Race Binary\")\n",
   "outputs": [
    {
     "output_type": "execute_result",
     "execution_count": 12,
     "data": {
      "text/plain": "<seaborn.axisgrid.FacetGrid at 0x7f19bfc00650>"
     },
     "metadata": {}
    },
    {
     "data": {
      "text/plain": "<Figure size 360x360 with 1 Axes>",
      "image/png": "[encoded data removed]"
     },
     "metadata": {
      "needs_background": "light",
      "image/png": {
       "width": 352,
       "height": 352
      }
     },
     "output_type": "display_data"
    },
    {
     "data": {
      "text/plain": "<Figure size 360x360 with 1 Axes>",
      "image/png": "[encoded data removed]"
     },
     "metadata": {
      "needs_background": "light",
      "image/png": {
       "width": 352,
       "height": 352
      }
     },
     "output_type": "display_data"
    },
    {
     "data": {
      "text/plain": "<Figure size 720x360 with 2 Axes>",
      "image/png": "[encoded data removed]"
     },
     "metadata": {
      "needs_background": "light",
      "image/png": {
       "width": 712,
       "height": 352
      }
     },
     "output_type": "display_data"
    },
    {
     "data": {
      "text/plain": "<Figure size 720x360 with 2 Axes>",
      "image/png": "[encoded data removed]"
     },
     "metadata": {
      "needs_background": "light",
      "image/png": {
       "width": 712,
       "height": 352
      }
     },
     "output_type": "display_data"
    },
    {
     "data": {
      "text/plain": "<Figure size 720x360 with 2 Axes>",
      "image/png": "[encoded data removed]"
     },
     "metadata": {
      "needs_background": "light",
      "image/png": {
       "width": 712,
       "height": 352
      }
     },
     "output_type": "display_data"
    },
    {
     "data": {
      "text/plain": "<Figure size 720x360 with 2 Axes>",
      "image/png": "[encoded data removed]"
     },
     "metadata": {
      "needs_background": "light",
      "image/png": {
       "width": 712,
       "height": 352
      }
     },
     "output_type": "display_data"
    },
    {
     "data": {
      "text/plain": "<Figure size 720x360 with 2 Axes>",
      "image/png": "[encoded data removed]"
     },
     "metadata": {
      "needs_background": "light",
      "image/png": {
       "width": 712,
       "height": 352
      }
     },
     "output_type": "display_data"
    }
   ],
   "execution_count": null
  },
  {
   "cell_type": "markdown",
   "source": "## 1.4 Binary classification pipeline",
   "metadata": {
    "tags": [],
    "cell_id": "00006-e8651486-759d-4ba2-a038-c2dc3b9e2923",
    "deepnote_cell_type": "markdown"
   }
  },
  {
   "cell_type": "code",
   "metadata": {
    "tags": [],
    "cell_id": "00007-b74bae9f-1290-46d8-92f2-58849e9ba19c",
    "deepnote_to_be_reexecuted": false,
    "source_hash": "6b452f2c",
    "execution_start": 1633367056807,
    "execution_millis": 32,
    "deepnote_cell_type": "code"
   },
   "source": "def adult_binary_classification_pipeline(X_train, y_train, X_test, y_test, evaluate=\"test\", method=\"logistic\"):\n    '''\n    Binary classification pipeline for the\n    Adult dataset.\n\n    INPUTS\n    ======\n    X_train: input training data, pandas DataFrame\n    y_train: output training labels, 1-d array-like\n    X_test: input test data, pandas DataFrame\n    y_test: output test labels, 1-d array-like\n    evaluate: whether to evaluate on the train or\n    test set, default='test', str\n    method: binary classification method, \n    default='logistic', str\n\n    RETURNS\n    =======\n    Two tuples containing the number of true positive \n    predictions (TP), false positive predictions (FP), \n    true negative predictions (TN), and false negative (FN)\n    predictions on the test set for female and male, \n    respectively.\n    '''\n\n    if method == \"logistic\":\n\n        # Train logistic regression classifier\n        lr = LogisticRegression(max_iter=1000)\n        lr.fit(X_train, y_train)\n\n        # Predit on train and test\n        y_train_pred = lr.predict(X_train)\n        y_test_pred = lr.predict(X_test)\n\n    if evaluate == \"test\":\n        df = X_test.copy()\n        df[\"y\"] = y_test\n        df[\"y_pred\"] = y_test_pred\n    elif evaluate == \"train\":\n        df = X_train.copy()\n        df[\"y\"] = y_train\n        df[\"y_pred\"] = y_train_pred\n    else:\n        raise Exception(\"evaluate must be either 'train' or 'test'\")\n\n    # Count the number of true positive and true negative preds for men and women\n    TP_f = len(df[(df[\"sex\"]==0) & (df[\"y\"]==1) & (df[\"y_pred\"]==1)])\n    TP_m = len(df[(df[\"sex\"]==1) & (df[\"y\"]==1) & (df[\"y_pred\"]==1)])\n    FP_f = len(df[(df[\"sex\"]==0) & (df[\"y\"]==0) & (df[\"y_pred\"]==1)])\n    FP_m = len(df[(df[\"sex\"]==1) & (df[\"y\"]==0) & (df[\"y_pred\"]==1)])\n\n    # Count the number of true negative and false negative preds for men and women\n    TN_f = len(df[(df[\"sex\"]==0) & (df[\"y\"]==0) & (df[\"y_pred\"]==0)])\n    TN_m = len(df[(df[\"sex\"]==1) & (df[\"y\"]==0) & (df[\"y_pred\"]==0)])\n    FN_f = len(df[(df[\"sex\"]==0) & (df[\"y\"]==1) & (df[\"y_pred\"]==0)])\n    FN_m = len(df[(df[\"sex\"]==1) & (df[\"y\"]==1) & (df[\"y_pred\"]==0)])\n\n    return (TP_f, FP_f, TN_f, FN_f), (TP_m, FP_m, TN_m, FN_m)",
   "outputs": [],
   "execution_count": null
  },
  {
   "cell_type": "code",
   "metadata": {
    "tags": [],
    "cell_id": "00008-6156b24d-74fd-4fc0-a831-02dd08eeaaea",
    "deepnote_to_be_reexecuted": false,
    "source_hash": "e076691d",
    "execution_start": 1633367058808,
    "execution_millis": 18,
    "deepnote_cell_type": "code"
   },
   "source": "def adult_fairness_summary(female_tup, male_tup, show_plots=False, evaluate=\"test\"):\n    '''\n    Function to process and provide a summary \n    of fairness metrics for the Adult data set.\n\n    INPUTS\n    ======\n    female_tup: tuple or list containing TP, FP, \n    TN, FN for female\n    male_tup: tuple or list containing TP, FP, \n    TN, FN for male\n    show_plots: whether to display graphs showing \n    fairness metrics for male and female, default=False, \n    bool\n\n    RETURNS\n    =======\n    True positive rate for (TPR) and false positive\n    rate (FPR) for female and male, respectively.\n    '''\n\n    # Unpack tuples\n    TP_f, FP_f, TN_f, FN_f = female_tup\n    TP_m, FP_m, TN_m, FN_m = male_tup\n\n    # Calculate TPR, FPR for female and male\n    TPR_f = TP_f / (TP_f + FN_f)\n    TPR_m = TP_m / (TP_m + FN_m)\n    FPR_f = FP_f / (FP_f + TN_f)\n    FPR_m = FP_m / (FP_m + TN_m)\n\n    # Create summary plots\n    fig, axs = plt.subplots(1, 2, figsize=(10,5))\n    axs = axs.ravel()\n    axs[0].bar([\"female\", \"male\"], [TPR_f, TPR_m], color=[\"orange\", \"dodgerblue\"])\n    axs[0].set_ylabel(\"TPR\")\n    axs[1].bar([\"female\", \"male\"], [FPR_f, FPR_m], color=[\"orange\", \"dodgerblue\"])\n    axs[1].set_ylabel(\"FPR\")\n    fig.suptitle(f\"TPR and FPR for female vs male ({evaluate} data)\", fontsize=16)\n    fig.tight_layout(rect=[0, 0, 1, 0.95])\n\n    return TPR_f, TPR_m, FPR_f, FPR_m",
   "outputs": [],
   "execution_count": null
  },
  {
   "cell_type": "code",
   "metadata": {
    "tags": [],
    "cell_id": "00006-dae76543-ea64-4dba-966e-416fae875e43",
    "deepnote_to_be_reexecuted": false,
    "source_hash": "36f4c9b1",
    "execution_start": 1633367135683,
    "execution_millis": 4845,
    "deepnote_cell_type": "code"
   },
   "source": "# Run the binary classification pipeline on the original processed data and evaluation on training data\nfemale_tup, male_tup = adult_binary_classification_pipeline(X_train, y_train, X_test, y_test, evaluate=\"train\")\n\n# Calculate and visualize TPR and FPR on the training data for female and male\nTPR_f, TPR_m, FPR_f, FPR_m = adult_fairness_summary(female_tup, male_tup, show_plots=True, evaluate=\"train\")",
   "outputs": [
    {
     "data": {
      "text/plain": "<Figure size 720x360 with 2 Axes>",
      "image/png": "[encoded data removed]"
     },
     "metadata": {
      "needs_background": "light",
      "image/png": {
       "width": 712,
       "height": 356
      }
     },
     "output_type": "display_data"
    }
   ],
   "execution_count": null
  },
  {
   "cell_type": "code",
   "metadata": {
    "tags": [],
    "cell_id": "00010-18ebcf24-a9e4-4096-badc-c8ed3e8f6002",
    "deepnote_to_be_reexecuted": false,
    "source_hash": "f5e00fa3",
    "execution_start": 1633367140546,
    "execution_millis": 38,
    "deepnote_cell_type": "code"
   },
   "source": "# Calculate the difference in TPR (Equalized Opportunity distance)\nTPR_diff = abs(TPR_f-TPR_m)\n\n# Calculate the difference in FPR (second Equalized Odds distance)\nFPR_diff = abs(FPR_f-FPR_m)\n\n# Demographic parity (FP + TP rate difference)\ndem_parity = abs((FPR_f+TPR_f)-(FPR_m+TPR_m))\n\n# Calculate overall accuracy for female and male\nACC_f = (female_tup[0] + female_tup[2]) / sum(female_tup)\nACC_m = (male_tup[0] + male_tup[2]) / sum(male_tup)\n\nprint(\"TRAINING DATA METRICS:\")\nprint(f\"The difference in TPR (equalized opportunity) is: {TPR_diff:.4f}\")\nprint(f\"The difference in FPR (equalized odds) is: {FPR_diff:.4f}\")\nprint(f\"The difference in FP + TP rate (Demographic Parity) is: {dem_parity:.4f}\")\nprint(f\"The overall accuracy for female is: {ACC_f:.4f}\")\nprint(f\"The overall accuracy for male is: {ACC_m:.4f}\")",
   "outputs": [
    {
     "name": "stdout",
     "text": "TRAINING DATA METRICS:\nThe difference in TPR (equalized opportunity) is: 0.1259\nThe difference in FPR (equalized odds) is: 0.0774\nThe difference in FP + TP rate (Demographic Parity) is: 0.2033\nThe overall accuracy for female is: 0.9208\nThe overall accuracy for male is: 0.8100\n",
     "output_type": "stream"
    }
   ],
   "execution_count": null
  },
  {
   "cell_type": "code",
   "metadata": {
    "tags": [],
    "cell_id": "00011-a4741175-68ad-4f10-99c6-c8e82c05e67c",
    "deepnote_to_be_reexecuted": false,
    "source_hash": "2483492a",
    "execution_start": 1633367071240,
    "execution_millis": 4768,
    "deepnote_cell_type": "code"
   },
   "source": "# Run the binary classification pipeline on the original processed data and evaluation on test data\nfemale_tup, male_tup = adult_binary_classification_pipeline(X_train, y_train, X_test, y_test, evaluate=\"test\")\n\n# Calculate and visualize TPR and FPR on the test data for female and male\nTPR_f, TPR_m, FPR_f, FPR_m = adult_fairness_summary(female_tup, male_tup, show_plots=True, evaluate=\"test\")",
   "outputs": [
    {
     "data": {
      "text/plain": "<Figure size 720x360 with 2 Axes>",
      "image/png": "[encoded data removed]"
     },
     "metadata": {
      "needs_background": "light",
      "image/png": {
       "width": 712,
       "height": 356
      }
     },
     "output_type": "display_data"
    }
   ],
   "execution_count": null
  },
  {
   "cell_type": "code",
   "metadata": {
    "tags": [],
    "cell_id": "00013-14862def-2ec2-4b14-bce5-bf5c345846e2",
    "deepnote_to_be_reexecuted": false,
    "source_hash": "3e32f49e",
    "execution_start": 1633367093112,
    "execution_millis": 32,
    "deepnote_cell_type": "code"
   },
   "source": "# Calculate the difference in TPR (Equalized Opportunity distance)\nTPR_diff = abs(TPR_f-TPR_m)\n\n# Calculate the difference in FPR (second Equalized Odds distance)\nFPR_diff = abs(FPR_f-FPR_m)\n\n# Demographic parity (FP + TP rate difference)\ndem_parity = abs((FPR_f+TPR_f)-(FPR_m+TPR_m))\n\n# Calculate overall accuracy for female and male\nACC_f = (female_tup[0] + female_tup[2]) / sum(female_tup)\nACC_m = (male_tup[0] + male_tup[2]) / sum(male_tup)\n\nprint(\"TEST DATA METRICS:\")\nprint(f\"The difference in TPR (equalized opportunity) is: {TPR_diff:.4f}\")\nprint(f\"The difference in FPR (equalized odds) is: {FPR_diff:.4f}\")\nprint(f\"The difference in FP + TP rate (Demographic Parity) is: {dem_parity:.4f}\")\nprint(f\"The overall accuracy for female is: {ACC_f:.4f}\")\nprint(f\"The overall accuracy for male is: {ACC_m:.4f}\")",
   "outputs": [
    {
     "name": "stdout",
     "text": "TEST DATA METRICS:\nThe difference in TPR (equalized opportunity) is: 0.1198\nThe difference in FPR (equalized odds) is: 0.0811\nThe difference in FP+ TP rate (Demographic Parity) is: 0.2010\nThe overall accuracy for female is: 0.9233\nThe overall accuracy for male is: 0.8067\n",
     "output_type": "stream"
    }
   ],
   "execution_count": null
  },
  {
   "cell_type": "markdown",
   "source": "**Proposed methodology going forward:**\n\n$\\text{Input: processed Adult data }D.\\text{ Output: Lists of fairness distance metrics }\\delta_{y=0},\\delta_{y=1} \\text{ for each } \\epsilon.$ \n1. $\\text{Randomly perform 80/20 split on }D\\text{ into } D_{train},D_{test}.$ \n2. $\\textbf{for } \\epsilon=1.0,2.0,...,10.0:$\n3. $\\quad \\text{Generate private training data } D'_{train} \\text{ using synthesizer } S \\text{ with privacy loss }\\epsilon.$\n4. $\\quad \\text{Reformat private } D'_{train} \\text{ into } X'_{train},y'_{train} \\text{ and non-private } D_{test} \\text{ into } X_{test},y_{test}.$\n5. $\\quad \\text{Apply binary classification pipeline to calculate } \\delta_{y=0},\\delta_{y=1} \\text{ on test data}.$\n6. $\\textbf{end for}$\n7. $\\textbf{return} \\text{ lists of } \\delta_{y=0},\\delta_{y=1} \\text{ for each } \\epsilon$\n",
   "metadata": {
    "tags": [],
    "cell_id": "00013-d77d99a8-6696-4004-906c-8b96c121983f",
    "deepnote_cell_type": "markdown"
   }
  },
  {
   "cell_type": "code",
   "metadata": {
    "tags": [],
    "cell_id": "00014-23d35a1d-a853-44da-958f-cf0ccaf95c3a",
    "deepnote_cell_type": "code"
   },
   "source": "# in each loop, could generate 5 synthetic datasets and average the results (see how much it varies)\n# try running with balanced classes as well (not necessarily considered a pre-processing technique)",
   "execution_count": null,
   "outputs": []
  },
  {
   "cell_type": "markdown",
   "source": "## 1.5 Hypothesis Testing Pipeline",
   "metadata": {
    "tags": [],
    "cell_id": "00007-55b2de57-6282-46d8-8122-448404cb08c2",
    "deepnote_cell_type": "markdown"
   }
  },
  {
   "cell_type": "code",
   "metadata": {
    "tags": [],
    "cell_id": "00016-8cc00442-49f6-43dd-91c1-fe5c9fad8167",
    "deepnote_to_be_reexecuted": false,
    "source_hash": "60b51caa",
    "execution_start": 1633284878877,
    "execution_millis": 5,
    "deepnote_cell_type": "code"
   },
   "source": "# Hypothesis Testing: Difference in proportions across privileged vs. non-privileged groups\n\ndef adult_hypothesis_test_gender_single_df(processed_data, sampling_distr_plots = True):\n    '''\n    Takes in: Processed adult dataset\n\n    Returns: Hypothesis test results for difference in proportions between outcome (label) for groups\n\n    Proportion of Interest: Share of individuals making more than $50k\n    Null Hypothesis: Proportions from the two populations are the same\n    Alternative Hypothesis: Proportions from the two populations are different\n    '''\n    print(\"Contingency Tables:\")\n    print(\"Counts:\")\n    contingency_table = pd.crosstab(processed_data.over_under_50k, processed_data.gender_labs).apply(lambda r:r/r.sum(),axis=0)\n    print(tabulate(contingency_table, headers='keys', tablefmt='psql'))\n\n    print('Proportions:')\n    contingency_table_n = pd.crosstab(processed_data.over_under_50k, processed_data.gender_labs)\n    print(tabulate(contingency_table_n, headers='keys', tablefmt='psql'))\n\n    ns = processed_data.groupby('gender_labs').size()\n\n    # Assign variables\n    p_female = contingency_table['Female'][1]\n    p_male = contingency_table['Male'][1]\n    success_female = contingency_table_n['Female'][1]\n    success_male = contingency_table_n['Male'][1]\n    n_female = ns[0]\n    n_male = ns[1]\n\n    # Sampling distribution of sample proportions for men/women\n\n    # Men first\n    mu_male = p_male\n    variance_male = p_male*(1-p_male)/n_male\n    sigma_male = math.sqrt(variance_male)\n\n    # Female\n    mu_female = p_female\n    variance_female = p_female*(1-p_female)/n_female\n    sigma_female = math.sqrt(variance_female)\n\n    if sampling_distr_plots:\n\n        fig, axes = plt.subplots(1, 3, figsize=(20, 5))\n\n        x1 = np.linspace(mu_male - 3*sigma_male, mu_male + 3*sigma_male, 100)\n        x2 = np.linspace(mu_female - 3*sigma_female, mu_female + 3*sigma_female, 100)\n        sns.lineplot(x = x1, y = norm.pdf(x1, mu_male, sigma_male), label = 'Male', ax=axes[0]).set_title(\"Sampling Distr. of Sample Prop: Men\")\n        sns.lineplot(x = x2, y = norm.pdf(x2, mu_female, sigma_female), label = \"Female\", ax = axes[1]).set_title(\"Sampling Distr. of Sample Prop: Women\")\n\n        # Sampling distribution of sample proportion for the difference between men and women\n\n        mu = p_male-p_female\n        variance = p_male*(1-p_male)/n_male + p_female*(1-p_female)/n_female\n        sigma = math.sqrt(variance)\n        x = np.linspace(mu - 3*sigma, mu + 3*sigma, 100)\n        sns.lineplot(x = x, y = norm.pdf(x, mu, sigma), ax=axes[2]).set_title(\"Sampling Distr. of Sample Prop for the Dif between Men and Women\")\n\n    # Set significance level\n    significance = 0.05\n\n    # Assign samples\n    sample_success_f, sample_size_f = (success_female, n_female)\n    sample_success_m, sample_size_m = (success_male, n_male)\n\n    successes = np.array([sample_success_f, sample_success_m])\n    samples = np.array([sample_size_f, sample_size_m])\n    print(f'Mean Difference in Rate of >50k Across genders: {round(mu,4)}')\n    # Perform 2-sided test\n    stat, p_value = proportions_ztest(count=successes, nobs=samples,  alternative='two-sided')\n    # Print out results\n    print(\"Results of Difference in Proportions Test:\")\n    print('z_statistic: %0.3f, p_value: %0.3f' % (stat, p_value))\n    if p_value > significance:\n        print (\"Fail to reject the null hypothesis of no difference\")\n    else:\n        print (\"Reject the null hypothesis - Suggests proportions from the two populations are different\")\n\n    # Calculate confints\n    mean_dif = mu_male - mu_female\n    se_male = np.sqrt(mu_male * (1 - mu_male) / n_male)\n    se_female = np.sqrt(mu_female * (1 - mu_female) / n_female)\n    se_dif = np.sqrt(se_female**2 + se_male**2)\n    lcb = mean_dif - 1.96*se_dif  #lower limit of the CI\n    ucb = mean_dif + 1.96*se_dif  #upper limit of the CI\n    print('Confidence Interval for Dif. in Proportions:')\n    print((lcb, ucb))\n",
   "execution_count": null,
   "outputs": []
  },
  {
   "cell_type": "code",
   "metadata": {
    "tags": [],
    "cell_id": "00020-c7621a58-8aa7-44be-952d-f87ceb3ee1e3",
    "deepnote_to_be_reexecuted": false,
    "source_hash": "741723e4",
    "execution_start": 1633284913527,
    "execution_millis": 17,
    "deepnote_cell_type": "code"
   },
   "source": "# Hypothesis Testing: Difference in proportions across privileged vs. non-privileged groups\n\ndef adult_hypothesis_test_race_single_df(processed_data, sampling_distr_plots = True):\n    '''\n    Takes in: Processed adult dataset\n\n    Returns: Hypothesis test results for difference in proportions between outcome (label) for groups\n\n    Proportion of Interest: Share of individuals making more than $50k\n    Null Hypothesis: Proportions from the two populations are the same\n    Alternative Hypothesis: Proportions from the two populations are different\n    '''\n    print(\"Contingency Tables:\")\n    print(\"Counts:\")\n    contingency_table = pd.crosstab(processed_data.over_under_50k, processed_data.race_White).apply(lambda r:r/r.sum(),axis=0)\n    print(tabulate(contingency_table, headers='keys', tablefmt='psql'))\n\n    print('Proportions:')\n    contingency_table_n = pd.crosstab(processed_data.over_under_50k, processed_data.race_White)\n    print(tabulate(contingency_table_n, headers='keys', tablefmt='psql'))\n\n    ns = processed_data.groupby('race_White').size()\n\n    # Assign variables\n    p_white = contingency_table[1][1]\n    p_nonwhite = contingency_table[0][1]\n    success_white = contingency_table_n[1][1]\n    success_nonwhite = contingency_table_n[0][1]\n    n_white = ns[0]\n    n_nonwhite = ns[1]\n\n    # Sampling distribution of sample proportions for men/women\n\n    # White first\n    mu_white = p_white\n    variance_white = p_white*(1-p_white)/n_white\n    sigma_white = math.sqrt(variance_white)\n\n    # Nonwhite\n    mu_nonwhite = p_nonwhite\n    variance_nonwhite = p_nonwhite*(1-p_nonwhite)/n_nonwhite\n    sigma_nonwhite = math.sqrt(variance_nonwhite)\n\n    if sampling_distr_plots:\n\n        fig, axes = plt.subplots(1, 3, figsize=(20, 5))\n\n        x1 = np.linspace(mu_white - 3*sigma_white, mu_white + 3*sigma_white, 100)\n        x2 = np.linspace(mu_nonwhite - 3*sigma_nonwhite, mu_nonwhite + 3*sigma_nonwhite, 100)\n        sns.lineplot(x = x1, y = norm.pdf(x1, mu_white, sigma_white), label = 'White', ax=axes[0]).set_title(\"Sampling Distr. of Sample Prop: White\")\n        sns.lineplot(x = x2, y = norm.pdf(x2, mu_nonwhite, sigma_nonwhite), label = \"Nonwhite\", ax = axes[1]).set_title(\"Sampling Distr. of Sample Prop: Nonwhite\")\n\n        # Sampling distribution of sample proportion for the difference between men and women\n\n        mu = p_white-p_nonwhite\n        variance = p_white*(1-p_white)/n_white + p_nonwhite*(1-p_nonwhite)/n_nonwhite\n        sigma = math.sqrt(variance)\n        x = np.linspace(mu - 3*sigma, mu + 3*sigma, 100)\n        sns.lineplot(x = x, y = norm.pdf(x, mu, sigma), ax=axes[2]).set_title(\"Sampling Distr. of Sample Prop for the Dif between White and Nonwhite\")\n\n    # Set significance level\n    significance = 0.05\n\n    # Assign samples\n    sample_success_w, sample_size_w = (success_white, n_white)\n    sample_success_nw, sample_size_nw = (success_nonwhite, n_nonwhite)\n\n    successes = np.array([sample_success_w, sample_success_nw])\n    samples = np.array([sample_size_w, sample_size_nw])\n    print(f'Mean Difference in Rate of >50k Across White vs. Nonwhite: {round(mu,4)}')\n    # Perform 2-sided test\n    stat, p_value = proportions_ztest(count=successes, nobs=samples,  alternative='two-sided')\n    # Print out results\n    print(\"Results of Difference in Proportions Test:\")\n    print('z_statistic: %0.3f, p_value: %0.3f' % (stat, p_value))\n    if p_value > significance:\n        print (\"Fail to reject the null hypothesis of no difference\")\n    else:\n        print (\"Reject the null hypothesis - Suggests proportions from the two populations are different\")\n\n    # Calculate confints\n    mean_dif = mu_white - mu_nonwhite\n    se_white = np.sqrt(mu_white * (1 - mu_white) / n_white)\n    se_nonwhite = np.sqrt(mu_nonwhite * (1 - mu_nonwhite) / n_nonwhite)\n    se_dif = np.sqrt(se_nonwhite**2 + se_white**2)\n    lcb = mean_dif - 1.96*se_dif  #lower limit of the CI\n    ucb = mean_dif + 1.96*se_dif  #upper limit of the CI\n    print('Confidence Interval for Dif. in Proportions:')\n    print((lcb, ucb))",
   "execution_count": null,
   "outputs": []
  },
  {
   "cell_type": "code",
   "metadata": {
    "tags": [],
    "cell_id": "00021-e2aecfc8-f34c-4072-b856-9c79d9c08af0",
    "deepnote_to_be_reexecuted": false,
    "source_hash": "7139a240",
    "execution_start": 1633284835284,
    "execution_millis": 1237,
    "deepnote_cell_type": "code"
   },
   "source": "# Execute for gender\nadult_hypothesis_test_gender_single_df(processed_adult, sampling_distr_plots = True)",
   "execution_count": null,
   "outputs": [
    {
     "name": "stdout",
     "text": "Contingency Tables:\nCounts:\n+------------------+----------+----------+\n|   over_under_50k |   Female |     Male |\n|------------------+----------+----------|\n|                0 | 0.886506 | 0.686213 |\n|                1 | 0.113494 | 0.313787 |\n+------------------+----------+----------+\nProportions:\n+------------------+----------+--------+\n|   over_under_50k |   Female |   Male |\n|------------------+----------+--------|\n|                0 |     8803 |  14265 |\n|                1 |     1127 |   6523 |\n+------------------+----------+--------+\nMean Difference in Rate of >50k Across genders: 0.2003\nResults of Difference in Proportions Test:\nz_statistic: -37.967, p_value: 0.000\nReject the null hypothesis - Suggests proportions from the two populations are different\n0.1134944612286002\n0.31378680007696746\nConfidence Interval for Dif. in Proportions:\n(0.19142014062846108, 0.20916453706827348)\n",
     "output_type": "stream"
    },
    {
     "data": {
      "text/plain": "<Figure size 1440x360 with 3 Axes>",
      "image/png": "[encoded data removed]"
     },
     "metadata": {
      "image/png": {
       "width": 1202,
       "height": 321
      }
     },
     "output_type": "display_data"
    }
   ]
  },
  {
   "cell_type": "code",
   "metadata": {
    "tags": [],
    "cell_id": "00021-0d8306dd-9084-4dc2-b78f-dccc9a83a46d",
    "deepnote_to_be_reexecuted": false,
    "source_hash": "b5ff0636",
    "execution_start": 1633284895403,
    "execution_millis": 1166,
    "deepnote_cell_type": "code"
   },
   "source": "adult_hypothesis_test_race_single_df(processed_adult, sampling_distr_plots = True)",
   "execution_count": null,
   "outputs": [
    {
     "name": "stdout",
     "text": "Contingency Tables:\nCounts:\n+------------------+----------+---------+\n|   over_under_50k |        0 |       1 |\n|------------------+----------+---------|\n|                0 | 0.840163 | 0.73598 |\n|                1 | 0.159837 | 0.26402 |\n+------------------+----------+---------+\nProportions:\n+------------------+------+-------+\n|   over_under_50k |    0 |     1 |\n|------------------+------+-------|\n|                0 | 3711 | 19357 |\n|                1 |  706 |  6944 |\n+------------------+------+-------+\n0.26402037945325274\n0.15983699343445779\nMean Difference in Rate of >50k Across White vs. Nonwhite: 0.1042\nResults of Difference in Proportions Test:\nz_statistic: 219.742, p_value: 0.000\nReject the null hypothesis - Suggests proportions from the two populations are different\nConfidence Interval for Dif. in Proportions:\n(0.09044966272773486, 0.11791710930985505)\n",
     "output_type": "stream"
    },
    {
     "data": {
      "text/plain": "<Figure size 1440x360 with 3 Axes>",
      "image/png": "[encoded data removed]"
     },
     "metadata": {
      "image/png": {
       "width": 1206,
       "height": 321
      }
     },
     "output_type": "display_data"
    }
   ]
  },
  {
   "cell_type": "markdown",
   "source": "",
   "metadata": {
    "tags": [],
    "cell_id": "00009-3e6fc7f1-027b-42ae-8547-f64f324f4042",
    "deepnote_cell_type": "markdown"
   }
  },
  {
   "cell_type": "markdown",
   "source": "",
   "metadata": {
    "tags": [],
    "cell_id": "00008-16eb6812-4172-4748-81c5-430fe99cc4f5",
    "deepnote_cell_type": "markdown"
   }
  },
  {
   "cell_type": "markdown",
   "source": "<a style='text-decoration:none;line-height:16px;display:flex;color:#5B5B62;padding:10px;justify-content:end;' href='https://deepnote.com?utm_source=created-in-deepnote-cell&projectId=aa928c63-0856-4021-a156-02d09e35182a' target=\"_blank\">\n<img alt='Created in deepnote.com' style='display:inline;max-height:16px;margin:0px;margin-right:7.5px;' src='data:image/svg+xml;base64,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' > </img>\nCreated in <span style='font-weight:600;margin-left:4px;'>Deepnote</span></a>",
   "metadata": {
    "tags": [],
    "created_in_deepnote_cell": true,
    "deepnote_cell_type": "markdown"
   }
  }
 ],
 "nbformat": 4,
 "nbformat_minor": 2,
 "metadata": {
  "orig_nbformat": 2,
  "deepnote": {
   "is_reactive": false
  },
  "deepnote_notebook_id": "55555d13-3b3d-4555-b993-dae1c2e069f3",
  "deepnote_execution_queue": []
 }
}