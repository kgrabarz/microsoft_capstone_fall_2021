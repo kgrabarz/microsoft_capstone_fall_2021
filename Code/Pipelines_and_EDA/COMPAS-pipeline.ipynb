{
 "cells": [
  {
   "cell_type": "markdown",
   "source": "# 2. COMPAS dataset (Scarlett+Lily)",
   "metadata": {
    "tags": [],
    "cell_id": "00002-fd179f0c-e984-405d-a5a6-1cd8c6417aa2",
    "deepnote_cell_type": "markdown"
   }
  },
  {
   "cell_type": "code",
   "metadata": {
    "tags": [],
    "cell_id": "00001-dac6463c-18a2-48eb-be4f-949a58ed6e74",
    "deepnote_to_be_reexecuted": false,
    "source_hash": "1d4ba3bf",
    "execution_start": 1633372934452,
    "execution_millis": 1548,
    "deepnote_cell_type": "code"
   },
   "source": "import numpy as np\nimport pandas as pd\nimport matplotlib.pyplot as plt\nimport seaborn as sns\nfrom sklearn.metrics import confusion_matrix\nfrom sklearn.preprocessing import MinMaxScaler\nfrom sklearn.model_selection import train_test_split\nfrom sklearn.linear_model import LogisticRegression\nfrom sklearn.metrics import classification_report",
   "outputs": [],
   "execution_count": null
  },
  {
   "cell_type": "code",
   "metadata": {
    "tags": [],
    "cell_id": "00001-af0c5729-666e-471c-8c95-ad4724ed6828",
    "deepnote_to_be_reexecuted": false,
    "source_hash": "33f6b062",
    "execution_start": 1633372937681,
    "execution_millis": 269,
    "deepnote_cell_type": "code"
   },
   "source": "url = 'https://raw.githubusercontent.com/propublica/compas-analysis/master/compas-scores-two-years.csv'\ndf = pd.read_csv(url)\ndf.info()",
   "outputs": [
    {
     "name": "stdout",
     "text": "<class 'pandas.core.frame.DataFrame'>\nRangeIndex: 7214 entries, 0 to 7213\nData columns (total 53 columns):\nid                         7214 non-null int64\nname                       7214 non-null object\nfirst                      7214 non-null object\nlast                       7214 non-null object\ncompas_screening_date      7214 non-null object\nsex                        7214 non-null object\ndob                        7214 non-null object\nage                        7214 non-null int64\nage_cat                    7214 non-null object\nrace                       7214 non-null object\njuv_fel_count              7214 non-null int64\ndecile_score               7214 non-null int64\njuv_misd_count             7214 non-null int64\njuv_other_count            7214 non-null int64\npriors_count               7214 non-null int64\ndays_b_screening_arrest    6907 non-null float64\nc_jail_in                  6907 non-null object\nc_jail_out                 6907 non-null object\nc_case_number              7192 non-null object\nc_offense_date             6055 non-null object\nc_arrest_date              1137 non-null object\nc_days_from_compas         7192 non-null float64\nc_charge_degree            7214 non-null object\nc_charge_desc              7185 non-null object\nis_recid                   7214 non-null int64\nr_case_number              3471 non-null object\nr_charge_degree            3471 non-null object\nr_days_from_arrest         2316 non-null float64\nr_offense_date             3471 non-null object\nr_charge_desc              3413 non-null object\nr_jail_in                  2316 non-null object\nr_jail_out                 2316 non-null object\nviolent_recid              0 non-null float64\nis_violent_recid           7214 non-null int64\nvr_case_number             819 non-null object\nvr_charge_degree           819 non-null object\nvr_offense_date            819 non-null object\nvr_charge_desc             819 non-null object\ntype_of_assessment         7214 non-null object\ndecile_score.1             7214 non-null int64\nscore_text                 7214 non-null object\nscreening_date             7214 non-null object\nv_type_of_assessment       7214 non-null object\nv_decile_score             7214 non-null int64\nv_score_text               7214 non-null object\nv_screening_date           7214 non-null object\nin_custody                 6978 non-null object\nout_custody                6978 non-null object\npriors_count.1             7214 non-null int64\nstart                      7214 non-null int64\nend                        7214 non-null int64\nevent                      7214 non-null int64\ntwo_year_recid             7214 non-null int64\ndtypes: float64(4), int64(16), object(33)\nmemory usage: 2.9+ MB\n",
     "output_type": "stream"
    }
   ],
   "execution_count": null
  },
  {
   "cell_type": "markdown",
   "source": "* `Age`: The defendent's age in years\n* `c_charge_degree`: The type of crime a defendent has been charged with, either M (misdemeanor, less serious), or F(felony, more serious)\n* `race`: Defendent's race (categorical)\n* `sex`: Defendent's biological sex (M/F)\n* `length_of_stay`: How long between when a defendant was charged and when they were released \n* `priors_count`: Count for number of prior times a defendant has been charged\n* `juv_fel_count`: Count for number of times a defendant was charged with a felony as a juvenile\n* `juv_misd_count`: Count for number of times a defendant was charged with a misdemeanor as a juvenile\n* `juv_other_count`: Count for number of times a defendant was charged with something else as a juvenile\n* `c_charge_desc`: Specific text field with type of charge.\n\nVariables that are pre-processed data include:\n\n* `length_of_stay_thresh`: A thresholded version of `length_of_stay` variable, preprocessed such that values above 30 have been capped at 30\n* `priors_1`: Indicator variable derived from `priors_count`, preprocessed such that 1 if `priors_count`=1, 0 otherwise\n* `priors_234`: Indicator variable derived from `priors_count`, preprocessed such that 1 if `priors_count` is 2, 3, 4; 0 otherwise\n* `priors_5plus`: Another indicator variable derived from `priors_count`, preprocessed such that 1 if `priors_count`=5 or more, 0 otherwise\n* `juv_fel_1plus`: Indicator variable derived from `juv_fel_count`, 1 if `juv_fel_count`, is 1 or more; 0 otherwise\n* `juv_misd_1plus`: Indicator variable derived from `juv_misd_count`, 1 if `juv_misd_count`, is 1 or more; 0 otherwise\n* `juv_other_1plus`: Indicator variable derived from `juv_other_count`, 1 if `juv_other_count`, is 1 or more; 0 otherwise\n* `charge_any_drug`: Indicator variable derived from `c_charge_desc`, indicating our best guess as to whether the crime charged was drug-related\n* `charge_any_violence_aggression`: Indicator variable derived from `c_charge_desc`, indicating our best guess as to whether the crime charged was violence or aggression related\n* `charge_any_theft`: Indicator variable derived from `c_charge_desc`, indicating our best guess as to whether the crime charged was theft or burglary related\n\nThe target outcome variable is `two_year_recid`, which indicates whether or not a defendent recidivated within two years.\n\nThe variable `decile_score` is a 1-10 COMPAS score based on decile, and the variable `score_text` is a Low/Medium/High score category from COMPAS. Both of these variables should not be used in building our model.",
   "metadata": {
    "tags": [],
    "cell_id": "00003-bc08cdaf-b17f-4eac-a688-4be9b8a4e95a",
    "deepnote_cell_type": "markdown"
   }
  },
  {
   "cell_type": "code",
   "metadata": {
    "tags": [],
    "cell_id": "00003-d9a7ae66-86fc-4120-9b8f-5141f094a4dd",
    "deepnote_to_be_reexecuted": false,
    "source_hash": "5d18ef97",
    "execution_start": 1633295903793,
    "execution_millis": 21,
    "deepnote_cell_type": "code"
   },
   "source": "print(df.shape)\nprint(list(df.columns))",
   "execution_count": null,
   "outputs": [
    {
     "name": "stdout",
     "text": "(7214, 53)\n['id', 'name', 'first', 'last', 'compas_screening_date', 'sex', 'dob', 'age', 'age_cat', 'race', 'juv_fel_count', 'decile_score', 'juv_misd_count', 'juv_other_count', 'priors_count', 'days_b_screening_arrest', 'c_jail_in', 'c_jail_out', 'c_case_number', 'c_offense_date', 'c_arrest_date', 'c_days_from_compas', 'c_charge_degree', 'c_charge_desc', 'is_recid', 'r_case_number', 'r_charge_degree', 'r_days_from_arrest', 'r_offense_date', 'r_charge_desc', 'r_jail_in', 'r_jail_out', 'violent_recid', 'is_violent_recid', 'vr_case_number', 'vr_charge_degree', 'vr_offense_date', 'vr_charge_desc', 'type_of_assessment', 'decile_score.1', 'score_text', 'screening_date', 'v_type_of_assessment', 'v_decile_score', 'v_score_text', 'v_screening_date', 'in_custody', 'out_custody', 'priors_count.1', 'start', 'end', 'event', 'two_year_recid']\n",
     "output_type": "stream"
    }
   ]
  },
  {
   "cell_type": "code",
   "metadata": {
    "tags": [],
    "cell_id": "00004-747d93d5-76ec-449c-ba95-8298461063c6",
    "deepnote_to_be_reexecuted": false,
    "source_hash": "862cd870",
    "execution_start": 1633295907430,
    "execution_millis": 14,
    "deepnote_cell_type": "code"
   },
   "source": "# age is a numeric variable while age_cat \nprint(df[\"age\"].unique())\nprint(df[\"age_cat\"].unique())",
   "execution_count": null,
   "outputs": [
    {
     "name": "stdout",
     "text": "[69 34 24 23 43 44 41 39 21 27 37 47 31 25 64 32 36 26 33 30 55 49 29 51\n 35 28 48 63 53 38 22 62 56 45 40 50 20 71 66 54 19 59 42 52 61 46 58 78\n 57 70 60 68 65 83 67 75 72 74 96 73 18 77 80 76 79]\n['Greater than 45' '25 - 45' 'Less than 25']\n",
     "output_type": "stream"
    }
   ]
  },
  {
   "cell_type": "code",
   "metadata": {
    "tags": [],
    "cell_id": "00006-a5fc7bda-86d6-4d62-8e97-9d25ce9c0017",
    "deepnote_to_be_reexecuted": false,
    "source_hash": "adbc5d8d",
    "execution_start": 1633295908837,
    "execution_millis": 26,
    "deepnote_cell_type": "code"
   },
   "source": "print(df[\"priors_count.1\"].unique())\nprint(df[\"priors_count\"].unique())",
   "execution_count": null,
   "outputs": [
    {
     "name": "stdout",
     "text": "[ 0  4  1  2 14  3  7  6  5 13  8  9 21 20 15 10 12 28 19 11 22 23 25 24\n 36 18 16 33 17 30 27 38 26 37 29 35 31]\n[ 0  4  1  2 14  3  7  6  5 13  8  9 21 20 15 10 12 28 19 11 22 23 25 24\n 36 18 16 33 17 30 27 38 26 37 29 35 31]\n",
     "output_type": "stream"
    }
   ]
  },
  {
   "cell_type": "code",
   "metadata": {
    "tags": [],
    "cell_id": "00006-175adb46-4a58-4f1d-824e-72ed4a97e867",
    "deepnote_to_be_reexecuted": false,
    "source_hash": "9f704ec0",
    "execution_start": 1633295911210,
    "execution_millis": 31,
    "deepnote_cell_type": "code"
   },
   "source": "print(df[\"type_of_assessment\"].unique())",
   "execution_count": null,
   "outputs": [
    {
     "name": "stdout",
     "text": "['Risk of Recidivism']\n",
     "output_type": "stream"
    }
   ]
  },
  {
   "cell_type": "code",
   "metadata": {
    "tags": [],
    "cell_id": "00007-636de66d-cccc-4eca-b856-51672734ba31",
    "deepnote_to_be_reexecuted": false,
    "source_hash": "c9b7bdbf",
    "execution_start": 1633295913032,
    "execution_millis": 3,
    "deepnote_cell_type": "code"
   },
   "source": "print(df[\"score_text\"].unique())",
   "execution_count": null,
   "outputs": [
    {
     "name": "stdout",
     "text": "['Low' 'High' 'Medium']\n",
     "output_type": "stream"
    }
   ]
  },
  {
   "cell_type": "markdown",
   "source": "## 2.1 Literature Review\n\nCorrectional Offender Management Profiling for Alternative Sanctions(COMPAS) dataset, gathered by ProPublica [Angwin et al., 2016], contains information about the recidivism\nrisk predicted by the COMPAS tool, as well as the ground truth recidivism rates, for 7214 defendants who were arrested in Broward County, Florida, in the year of 2013 and 2014. The input used for prediction of recidivism is wide-scale and includes 137 factors like age, gender, and criminal history of the defendant. As COMPAS tool is helpful in ways that it provides scores from 1 to 10, classify the risk of recidivism as low-risk (1 to 4), medium-risk (5 to 7), or high-risk (8 to 10), it has been used to assess more than 1 million offenders since 1998. \n\nHowever, the tool suffers from machine bias and leads to racial disparities in the predictions. Black defendants who did not recidivate were incorrectly predicted to reoffend (False Positive) at a rate of 44.9%, nearly twice as high as their white counterparts at 23.5%; and white defendants who did recidivate were incorrectly predicted to not reoffend (False Negative) at a rate of 47.7%, nearly twice as high as their black counterparts at 28.0%. []\n\nThe popular fariness metrics are [Rahman, 2020]\n\n- True Positive Rate (TPR) also called recall or sensitivity\n- True Negative Rate (TNR) also called specificity\n- Positive Predictive Value (PPV) also called precision \n- False Negative Rate (FNR)\n- False Positive Rate (FPR) also called fall out \n\nAnd the formular are the followings: <br>\nTPR = $\\frac{TP}{Actual Positive}  = \\frac{TP}{TP + FN}$ <br>\nTNR = $\\frac{TP}{Actual Negative}  = \\frac{TN}{TN + FP}$ <br>\nPPV = $ \\frac{TP}{TP + FP}$ <br>\nFNR = $\\frac{FN}{Actual Positive} = \\frac{FN}{FN + TP}$ <br>\nFPR = $\\frac{FP}{Actual Negative} = \\frac{FP}{FP + TN}$ <br>\n\n\n",
   "metadata": {
    "tags": [],
    "cell_id": "00004-f7a22919-111c-4315-9309-2d9837807277",
    "deepnote_cell_type": "markdown"
   }
  },
  {
   "cell_type": "markdown",
   "source": "## 2.2 Data Analysis ",
   "metadata": {
    "tags": [],
    "cell_id": "00005-f643853d-be8b-4261-9f55-13c6eee40e17",
    "deepnote_cell_type": "markdown"
   }
  },
  {
   "cell_type": "markdown",
   "source": "According to Northpointe’s practitioners guide, COMPAS' scores in the medium and high range garner more interest from supervision agencies than low scores, as a low score would suggest there is little risk of general recidivism.” So when turning the problem into a binary classification problem, we assume any score 5 or higher (medium or high risk) means that a defendant is treated as a likely recividist (1), and a score of 4 or lower (low risk) means that a defendant is treated as unlikely to re-offend (0). ",
   "metadata": {
    "tags": [],
    "cell_id": "00006-88da52cf-455a-4375-8ebf-3ce638a37e0c",
    "deepnote_cell_type": "markdown"
   }
  },
  {
   "cell_type": "code",
   "metadata": {
    "tags": [],
    "cell_id": "00006-9dc35b88-4e45-4b36-ab89-f32e5d22bbe3",
    "deepnote_to_be_reexecuted": false,
    "source_hash": "1f4072e5",
    "execution_start": 1633372944898,
    "execution_millis": 2,
    "deepnote_cell_type": "code"
   },
   "source": "# turn into a binary classification problem\n# create feature is_med_or_high_risk\ndf['medium_or_high_risk']  = (df['decile_score']>=5).astype(int)",
   "outputs": [],
   "execution_count": null
  },
  {
   "cell_type": "markdown",
   "source": "The **“true”** recidivism value (whether or not the defendant committed another crime in the next two years) is in the two_year_recid column.",
   "metadata": {
    "tags": [],
    "cell_id": "00008-ceefa5a0-3a75-4987-a786-2db8426148f2",
    "deepnote_cell_type": "markdown"
   }
  },
  {
   "cell_type": "code",
   "metadata": {
    "tags": [],
    "cell_id": "00007-ea1eba52-c31b-4b51-8ae7-5a54b94a1ca3",
    "deepnote_to_be_reexecuted": false,
    "source_hash": "af38c88a",
    "execution_start": 1633295918983,
    "execution_millis": 237,
    "deepnote_cell_type": "code"
   },
   "source": "cm = pd.crosstab(df['medium_or_high_risk'], df['two_year_recid'], \n                               rownames=['Predicted'], colnames=['Actual'])\np = plt.figure(figsize=(5,5));\np = sns.heatmap(cm, annot=True, fmt=\"d\", cbar=False)",
   "execution_count": null,
   "outputs": [
    {
     "data": {
      "text/plain": "<Figure size 360x360 with 1 Axes>",
      "image/png": "[encoded data removed]"
     },
     "metadata": {
      "needs_background": "light",
      "image/png": {
       "width": 324,
       "height": 317
      }
     },
     "output_type": "display_data"
    }
   ]
  },
  {
   "cell_type": "code",
   "metadata": {
    "tags": [],
    "cell_id": "00010-87d0f34d-c9eb-4725-a050-db67bd60aee1",
    "deepnote_to_be_reexecuted": false,
    "source_hash": "5fcaa84",
    "execution_start": 1633295922055,
    "execution_millis": 28,
    "deepnote_cell_type": "code"
   },
   "source": "[[tn , fp],[fn , tp]]  = confusion_matrix(df['two_year_recid'], df['medium_or_high_risk'])\nprint(\"True negatives:  \", tn)\nprint(\"False positives: \", fp)\nprint(\"False negatives: \", fn)\nprint(\"True positives:  \", tp)",
   "execution_count": null,
   "outputs": [
    {
     "name": "stdout",
     "text": "True negatives:   2681\nFalse positives:  1282\nFalse negatives:  1216\nTrue positives:   2035\n",
     "output_type": "stream"
    }
   ]
  },
  {
   "cell_type": "code",
   "metadata": {
    "tags": [],
    "cell_id": "00012-957f9021-12e8-4a88-ac20-f99d24c00444",
    "deepnote_to_be_reexecuted": false,
    "source_hash": "aedc46cf",
    "execution_start": 1633295923744,
    "execution_millis": 12,
    "deepnote_cell_type": "code"
   },
   "source": "print(\"True positive rate (overall): \", tp/(tp+fn))\nprint(\"False positive rate (overall): \", fp/(fp+tn))\nprint(\"True negative rate (overall): \", tn/(tn+fp))\nprint(\"False negative rate (overall): \", fn/(fn+tp))\nprint(\"Positive predictive value (overall): \", tp/(tp+fp))",
   "execution_count": null,
   "outputs": [
    {
     "name": "stdout",
     "text": "True positive rate (overall):  0.6259612426945556\nFalse positive rate (overall):  0.32349230381024474\nTrue negative rate (overall):  0.6765076961897553\nFalse negative rate (overall):  0.3740387573054445\nPositive predictive value (overall):  0.6135061802833887\n",
     "output_type": "stream"
    }
   ]
  },
  {
   "cell_type": "code",
   "metadata": {
    "tags": [],
    "cell_id": "00014-578708c9-cc4b-46f4-98ca-326b40371c03",
    "deepnote_to_be_reexecuted": false,
    "source_hash": "cd9025f0",
    "execution_start": 1633295926339,
    "execution_millis": 313,
    "deepnote_cell_type": "code"
   },
   "source": "from sklearn.metrics import roc_curve, roc_auc_score\n\nfpr, tpr, thresholds = roc_curve(df['two_year_recid'], df['decile_score'])\nsns.scatterplot(x=fpr, y=tpr, )\nsns.lineplot(x=fpr, y=tpr)\nplt.title(\"ROC curve\")\nplt.ylabel(\"True Positive Rate\")\nplt.xlabel(\"False Positive Rate\")",
   "execution_count": null,
   "outputs": [
    {
     "output_type": "execute_result",
     "execution_count": 12,
     "data": {
      "text/plain": "Text(0.5, 0, 'False Positive Rate')"
     },
     "metadata": {}
    },
    {
     "data": {
      "text/plain": "<Figure size 432x288 with 1 Axes>",
      "image/png": "[encoded data removed]"
     },
     "metadata": {
      "needs_background": "light",
      "image/png": {
       "width": 386,
       "height": 278
      }
     },
     "output_type": "display_data"
    }
   ]
  },
  {
   "cell_type": "code",
   "metadata": {
    "tags": [],
    "cell_id": "00015-dac4dc5a-ea1d-4957-95da-2503d49091f6",
    "deepnote_to_be_reexecuted": false,
    "source_hash": "b6bc6cc6",
    "execution_start": 1633295930812,
    "execution_millis": 17,
    "deepnote_cell_type": "code"
   },
   "source": "print(\"AUC:\", roc_auc_score(df['two_year_recid'], df['decile_score']))",
   "execution_count": null,
   "outputs": [
    {
     "name": "stdout",
     "text": "AUC: 0.7021662544019724\n",
     "output_type": "stream"
    }
   ]
  },
  {
   "cell_type": "code",
   "metadata": {
    "tags": [],
    "cell_id": "00016-92ea919f-614e-4f66-8a54-a238ae6b7603",
    "deepnote_to_be_reexecuted": false,
    "source_hash": "9b52258e",
    "execution_start": 1633295932031,
    "execution_millis": 13,
    "deepnote_cell_type": "code"
   },
   "source": "df['race'].value_counts()",
   "execution_count": null,
   "outputs": [
    {
     "output_type": "execute_result",
     "execution_count": 14,
     "data": {
      "text/plain": "African-American    3696\nCaucasian           2454\nHispanic             637\nOther                377\nAsian                 32\nNative American       18\nName: race, dtype: int64"
     },
     "metadata": {}
    }
   ]
  },
  {
   "cell_type": "markdown",
   "source": "We will focus primarily on African-American or Caucasian defendants, since they are the subject of the ProPublica claim.",
   "metadata": {
    "tags": [],
    "cell_id": "00017-074f8550-6bdf-4542-be6a-4ed64d4df0a8",
    "deepnote_cell_type": "markdown"
   }
  },
  {
   "cell_type": "code",
   "metadata": {
    "tags": [],
    "cell_id": "00017-1843eeb8-3e94-4983-9626-f8ca6d1e064d",
    "deepnote_to_be_reexecuted": false,
    "source_hash": "cfaedeeb",
    "execution_start": 1633295934276,
    "execution_millis": 24,
    "deepnote_cell_type": "code"
   },
   "source": "df_black = df[df['race']==\"African-American\"].copy()\ndf_black['medium_or_high_risk'] = (df_black['decile_score']>=5).astype(int)\n[[tn , fp],[fn , tp]]  = confusion_matrix(df_black['two_year_recid'], df_black['medium_or_high_risk'])\nprint(\"False positive rate (Black)      : \", fp/(fp+tn))\nprint(\"False negative rate (Black)      : \", fn/(fn+tp))\nprint(\"True positive rate (overall): \", tp/(tp+fn))\nprint(\"True negative rate (Black): \", tn/(tn+fp))\nprint(\"Positive predictive value (Black): \", tp/(tp+fp))",
   "execution_count": null,
   "outputs": [
    {
     "name": "stdout",
     "text": "False positive rate (Black)      :  0.44846796657381616\nFalse negative rate (Black)      :  0.27985270910047344\nTrue positive rate (overall):  0.7201472908995266\nTrue negative rate (Black):  0.5515320334261838\nPositive predictive value (Black):  0.6297148114075437\n",
     "output_type": "stream"
    }
   ]
  },
  {
   "cell_type": "code",
   "metadata": {
    "tags": [],
    "cell_id": "00018-75e78d5a-e761-4a3b-a9b3-00e02cae5764",
    "deepnote_to_be_reexecuted": false,
    "source_hash": "5148284f",
    "execution_start": 1633295941122,
    "execution_millis": 26,
    "deepnote_cell_type": "code"
   },
   "source": "df_white = df[df['race']==\"Caucasian\"].copy()\ndf_white['medium_or_high_risk'] = (df_white['decile_score']>=5).astype(int)\n[[tn , fp],[fn , tp]]  = confusion_matrix(df_white['two_year_recid'], df_white['medium_or_high_risk'])\nprint(\"False positive rate (white)      : \", fp/(fp+tn))\nprint(\"False negative rate (white)      : \", fn/(fn+tp))\nprint(\"True positive rate (white): \", tp/(tp+fn))\nprint(\"True negative rate (white): \", tn/(tn+fp))\nprint(\"Positive predictive value (white): \", tp/(tp+fp))",
   "execution_count": null,
   "outputs": [
    {
     "name": "stdout",
     "text": "False positive rate (white)      :  0.23454301075268819\nFalse negative rate (white)      :  0.4772256728778468\nTrue positive rate (white):  0.5227743271221532\nTrue negative rate (white):  0.7654569892473119\nPositive predictive value (white):  0.5913348946135831\n",
     "output_type": "stream"
    }
   ]
  },
  {
   "cell_type": "markdown",
   "source": "This shows COMPAS scores appeared to favor white defendants over black defendants by underpredicting recidivism for white and overpredicting recidivism for black defendants.",
   "metadata": {
    "tags": [],
    "cell_id": "00019-5405c9a8-853e-48a1-b93c-f6acb343adcc",
    "deepnote_cell_type": "markdown"
   }
  },
  {
   "cell_type": "markdown",
   "source": "|  | Overall | White | Black |\n| ------ | ------- | ------ | ------ |\n| FPR | 0.352 | 0.235 | 0.448|\n| FNR | 0.346  | 0.477 | 0.280|\n| TPR | 0.654 | 0.523 | 0.630|\n| TNR | 0.648 | 0.765 | 0.552|\n| PPV | 0.619 | 0.591 | 0.630|",
   "metadata": {
    "tags": [],
    "cell_id": "00020-c1808cd2-cea4-4052-89a6-f916608c7470",
    "deepnote_cell_type": "markdown"
   }
  },
  {
   "cell_type": "code",
   "metadata": {
    "tags": [],
    "cell_id": "00019-7ef7d42a-79dd-4ba8-aabb-2a718a5ab81f",
    "deepnote_to_be_reexecuted": false,
    "source_hash": "bdac2e7e",
    "execution_start": 1633295948238,
    "execution_millis": 306,
    "deepnote_cell_type": "code"
   },
   "source": "metrics = [\"FPR\",\"FNR\",\"TPR\",\"TNR\",\"PPV\"]\noverall = [0.352,0.346,0.654,0.648,0.619]\nwhite = [0.235,0.477,0.523,0.765,0.591]\nblack = [0.448,0.280,0.630,0.552,0.630]\n\nbar_width = 0.3\nindex_overall = np.arange(len(metrics))\nindex_white = index_overall + bar_width\nindex_black = index_white + bar_width\n\nplt.bar(index_overall,height=overall,width=bar_width,label=\"overall\")\nplt.bar(index_white,height=white,width=bar_width,label=\"white\")\nplt.bar(index_black,height=black,width=bar_width,label=\"black\")\nplt.xticks(index_overall+bar_width/2,metrics)\nplt.legend()",
   "execution_count": null,
   "outputs": [
    {
     "output_type": "execute_result",
     "execution_count": 17,
     "data": {
      "text/plain": "<matplotlib.legend.Legend at 0x7f7f38ea1b50>"
     },
     "metadata": {}
    },
    {
     "data": {
      "text/plain": "<Figure size 432x288 with 1 Axes>",
      "image/png": "[encoded data removed]"
     },
     "metadata": {
      "needs_background": "light",
      "image/png": {
       "width": 372,
       "height": 251
      }
     },
     "output_type": "display_data"
    }
   ]
  },
  {
   "cell_type": "code",
   "source": "# frequency plot\ng = sns.FacetGrid(df, col=\"race\", margin_titles=True);\ng.map(plt.hist, \"decile_score\", bins=10);",
   "metadata": {
    "tags": [],
    "cell_id": "00026-dee2b459-afc6-45b7-a406-7d37ae48d9d1",
    "deepnote_to_be_reexecuted": false,
    "source_hash": "cbc2e463",
    "execution_start": 1633386392249,
    "execution_millis": 1499,
    "deepnote_cell_type": "code"
   },
   "outputs": [
    {
     "data": {
      "text/plain": "<Figure size 1296x216 with 6 Axes>",
      "image/png": "[encoded data removed]"
     },
     "metadata": {
      "needs_background": "light",
      "image/png": {
       "width": 1288,
       "height": 208
      }
     },
     "output_type": "display_data"
    }
   ],
   "execution_count": null
  },
  {
   "cell_type": "markdown",
   "source": "## 2.3 Binary Classification Pipeline - Logistics Regression",
   "metadata": {
    "tags": [],
    "cell_id": "00007-a25a0700-b608-4795-a5df-3fd3a85c6831",
    "deepnote_cell_type": "markdown"
   }
  },
  {
   "cell_type": "code",
   "metadata": {
    "tags": [],
    "cell_id": "00016-5d9eca69-04e2-4a15-95c6-3a0842935369",
    "deepnote_to_be_reexecuted": false,
    "source_hash": "40a9b739",
    "execution_start": 1633372955182,
    "execution_millis": 0,
    "deepnote_cell_type": "code"
   },
   "source": "def process_COMPAS(temp_df):\n    \"\"\"\n    Pick columns-\"age\",\"priors_count\",\"race\",\"two_year_recid\",\"sex\",\n    'juv_fel_count', 'juv_misd_count', 'juv_other_count', \n    'age_cat', 'c_charge_degree', 'c_charge_desc', 'length_of_stay' \n    from the dataframe. Scale the numeric values and split the dataframe \n    into training data (X,Y) and testing data (X,Y)\n    \n    Input: COMPAS data in dataframe\n    Output: \n           * x_train\n           * x_test\n           * y_train\n           * y_test\n    \"\"\"\n    # deepcopy\n    df = temp_df.copy()\n    cols = [\"age\",\"priors_count\",\"two_year_recid\",\"sex\",\n              'juv_fel_count', 'juv_misd_count', 'juv_other_count', \n              'age_cat', 'c_charge_degree', 'c_charge_desc', 'length_of_stay']\n    # remove invalid/null entries\n    df = df[(df['days_b_screening_arrest'] <= 30)\n                & (df['days_b_screening_arrest'] >= -30)\n                & (df['is_recid'] != -1)\n                & (df['c_charge_degree'] != 'O')\n                & (df['score_text'] != 'N/A')]\n    # calculate length_of_stay\n    df['c_jail_out'] = pd.to_datetime(df['c_jail_out'])\n    df['c_jail_in'] = pd.to_datetime(df['c_jail_in'])\n    df['length_of_stay'] = (df['c_jail_out'] - df['c_jail_in']).astype(int)\n    df = df.drop_duplicates()\n    df = df[cols]\n    \n    # scale\n    scaler = MinMaxScaler()\n    numerical_features = [\"age\", \"priors_count\",'juv_fel_count', 'juv_misd_count', 'juv_other_count', 'length_of_stay']\n    df[numerical_features] = scaler.fit_transform(df[numerical_features])\n    categorical_features = [\"age_cat\",\"sex\", 'c_charge_degree', 'c_charge_desc']\n    df = pd.get_dummies(data=df, columns=categorical_features)\n\n    # split data into training and testing\n    x, y = df.drop(\"two_year_recid\", axis=1), df[\"two_year_recid\"]\n    x_train, x_test, y_train, y_test = train_test_split(x, y, test_size=0.3, random_state=0)\n    \n    print(x_train.shape)\n    print(x_test.shape)\n    print(y_train.shape)\n    print(y_test.shape)\n    \n    return x_train, x_test, y_train, y_test",
   "outputs": [],
   "execution_count": null
  },
  {
   "cell_type": "code",
   "metadata": {
    "tags": [],
    "cell_id": "00027-9cc494ec-a29b-437a-8689-8fc8b202c365",
    "deepnote_to_be_reexecuted": false,
    "source_hash": "ad4e38a9",
    "execution_start": 1633374844288,
    "execution_millis": 96,
    "deepnote_cell_type": "code"
   },
   "source": "x_train, x_test, y_train, y_test = process_COMPAS(df)",
   "outputs": [
    {
     "name": "stdout",
     "text": "(4320, 402)\n(1852, 402)\n(4320,)\n(1852,)\n",
     "output_type": "stream"
    }
   ],
   "execution_count": null
  },
  {
   "cell_type": "code",
   "metadata": {
    "tags": [],
    "cell_id": "00028-4a221645-2837-4a9e-8656-ba3f70ab40e4",
    "deepnote_to_be_reexecuted": false,
    "source_hash": "438ac507",
    "execution_start": 1633372965352,
    "execution_millis": 1,
    "deepnote_cell_type": "code"
   },
   "source": "def logisticRegression(x_train, y_train, x_test):\n    from sklearn.linear_model import LogisticRegression\n\n    logisticRegr = LogisticRegression(solver='lbfgs', max_iter=500)\n    logisticRegr.fit(x_train, y_train)\n\n    predictions = logisticRegr.predict(x_test)\n    return predictions",
   "outputs": [],
   "execution_count": null
  },
  {
   "cell_type": "code",
   "metadata": {
    "tags": [],
    "cell_id": "00029-031a71b1-5c87-4ee9-bd96-891928742173",
    "deepnote_to_be_reexecuted": false,
    "source_hash": "89b2e4eb",
    "execution_start": 1633374846791,
    "execution_millis": 557,
    "deepnote_cell_type": "code"
   },
   "source": "# predictions of testing data\npredictions = logisticRegression(x_train, y_train, x_test)\npredictions.shape",
   "outputs": [
    {
     "output_type": "execute_result",
     "execution_count": 21,
     "data": {
      "text/plain": "(1852,)"
     },
     "metadata": {}
    }
   ],
   "execution_count": null
  },
  {
   "cell_type": "code",
   "metadata": {
    "tags": [],
    "cell_id": "00029-59ebebd2-66e7-4c2d-8a16-2457a80fae9f",
    "deepnote_to_be_reexecuted": false,
    "source_hash": "a223175f",
    "execution_start": 1633374849465,
    "execution_millis": 21,
    "deepnote_cell_type": "code"
   },
   "source": "def predictionSummary(x, y_real, y_predict):\n    [[tn , fp],[fn , tp]]  = confusion_matrix(y_real, y_predict)\n    overall = [fp/(fp+tn),fn/(fn+tp),tp/(tp+fn),tn/(tn+fp),tp/(tp+fp)]\n    print(\"True positive rate (overall): \", tp/(tp+fn))\n    print(\"False positive rate (overall): \", fp/(fp+tn))\n    print(\"True negative rate (overall): \", tn/(tn+fp))\n    print(\"False negative rate (overall): \", fn/(fn+tp))\n    print(\"Positive predictive value (overall): \", tp/(tp+fp),\"\\n\")\n\n    x['medium_or_high_risk'] = y_predict\n    x['two_year_recid'] = y_real\n    x_black = x[df['race']=='African-American'].copy()\n    [[tn , fp],[fn , tp]]  = confusion_matrix(x_black['two_year_recid'], x_black['medium_or_high_risk'])\n    black = [fp/(fp+tn),fn/(fn+tp),tp/(tp+fn),tn/(tn+fp),tp/(tp+fp)]\n    print(\"True positive rate (balck): \", tp/(tp+fn))\n    print(\"False positive rate (balck): \", fp/(fp+tn))\n    print(\"True negative rate (balck): \", tn/(tn+fp))\n    print(\"False negative rate (balck): \", fn/(fn+tp))\n    print(\"Positive predictive value (balck): \", tp/(tp+fp),\"\\n\")\n\n    x_white = x[df['race']=='Caucasian'].copy()\n    [[tn , fp],[fn , tp]]  = confusion_matrix(x_white['two_year_recid'], x_white['medium_or_high_risk'])\n    white = [fp/(fp+tn),fn/(fn+tp),tp/(tp+fn),tn/(tn+fp),tp/(tp+fp)]\n    print(\"True positive rate (white): \", tp/(tp+fn))\n    print(\"False positive rate (white): \", fp/(fp+tn))\n    print(\"True negative rate (white): \", tn/(tn+fp))\n    print(\"False negative rate (white): \", fn/(fn+tp))\n    print(\"Positive predictive value (white): \", tp/(tp+fp),\"\\n\")\n\n    metrics = [\"FPR\",\"FNR\",\"TPR\",\"TNR\",\"PPV\"]\n    bar_width = 0.3\n    index_overall = np.arange(len(metrics))\n    index_white = index_overall + bar_width\n    index_black = index_white + bar_width\n\n    plt.bar(index_overall,height=overall,width=bar_width,label=\"overall\")\n    plt.bar(index_white,height=white,width=bar_width,label=\"white\")\n    plt.bar(index_black,height=black,width=bar_width,label=\"black\")\n    plt.xticks(index_overall+bar_width/2,metrics)\n    plt.legend()\n\n    return",
   "outputs": [],
   "execution_count": null
  },
  {
   "cell_type": "code",
   "source": "df['race'].value_counts()",
   "metadata": {
    "tags": [],
    "cell_id": "00032-db2a2433-5df8-421d-a9bf-d497dadb0ec3",
    "deepnote_to_be_reexecuted": false,
    "source_hash": "9b52258e",
    "execution_start": 1633374754452,
    "execution_millis": 11,
    "deepnote_cell_type": "code"
   },
   "outputs": [
    {
     "output_type": "execute_result",
     "execution_count": 19,
     "data": {
      "text/plain": "African-American    3696\nCaucasian           2454\nHispanic             637\nOther                377\nAsian                 32\nNative American       18\nName: race, dtype: int64"
     },
     "metadata": {}
    }
   ],
   "execution_count": null
  },
  {
   "cell_type": "code",
   "metadata": {
    "tags": [],
    "cell_id": "00031-bb63c1fa-bbe9-44f2-a79a-879efab2016d",
    "deepnote_to_be_reexecuted": false,
    "source_hash": "baa4e14a",
    "execution_start": 1633374854156,
    "execution_millis": 401,
    "deepnote_cell_type": "code"
   },
   "source": "predictionSummary(x_test, y_test, predictions)",
   "outputs": [
    {
     "name": "stdout",
     "text": "True positive rate (overall):  0.5622775800711743\nFalse positive rate (overall):  0.2358771060455897\nTrue negative rate (overall):  0.7641228939544104\nFalse negative rate (overall):  0.4377224199288256\nPositive predictive value (overall):  0.6657303370786517 \n\nTrue positive rate (balck):  0.632\nFalse positive rate (balck):  0.26973684210526316\nTrue negative rate (balck):  0.7302631578947368\nFalse negative rate (balck):  0.368\nPositive predictive value (balck):  0.7198177676537585 \n\nTrue positive rate (white):  0.46586345381526106\nFalse positive rate (white):  0.20052770448548812\nTrue negative rate (white):  0.7994722955145118\nFalse negative rate (white):  0.5341365461847389\nPositive predictive value (white):  0.6041666666666666 \n\n/shared-libs/python3.7/py-core/lib/python3.7/site-packages/ipykernel_launcher.py:12: UserWarning: Boolean Series key will be reindexed to match DataFrame index.\n  if sys.path[0] == '':\n/shared-libs/python3.7/py-core/lib/python3.7/site-packages/ipykernel_launcher.py:21: UserWarning: Boolean Series key will be reindexed to match DataFrame index.\n",
     "output_type": "stream"
    },
    {
     "data": {
      "text/plain": "<Figure size 432x288 with 1 Axes>",
      "image/png": "[encoded data removed]"
     },
     "metadata": {
      "needs_background": "light",
      "image/png": {
       "width": 372,
       "height": 248
      }
     },
     "output_type": "display_data"
    }
   ],
   "execution_count": null
  },
  {
   "cell_type": "code",
   "metadata": {
    "tags": [],
    "cell_id": "00032-792ef011-0919-4410-8bc2-68f2f90f90d3",
    "deepnote_to_be_reexecuted": false,
    "source_hash": "7acbcb67",
    "execution_start": 1633374859996,
    "execution_millis": 962,
    "deepnote_cell_type": "code"
   },
   "source": "# predictions of training data\npredictions = logisticRegression(x_train, y_train, x_train)\npredictionSummary(x_train, y_train, predictions)",
   "outputs": [
    {
     "name": "stdout",
     "text": "True positive rate (overall):  0.6032553407934893\nFalse positive rate (overall):  0.20858113848768053\nTrue negative rate (overall):  0.7914188615123194\nFalse negative rate (overall):  0.3967446592065107\nPositive predictive value (overall):  0.7072152653548003 \n\nTrue positive rate (balck):  0.6950904392764858\nFalse positive rate (balck):  0.28638941398865786\nTrue negative rate (balck):  0.7136105860113422\nFalse negative rate (balck):  0.3049095607235142\nPositive predictive value (balck):  0.727027027027027 \n\nTrue positive rate (white):  0.4537521815008726\nFalse positive rate (white):  0.15188470066518847\nTrue negative rate (white):  0.8481152993348116\nFalse negative rate (white):  0.5462478184991274\nPositive predictive value (white):  0.654911838790932 \n\n/shared-libs/python3.7/py-core/lib/python3.7/site-packages/ipykernel_launcher.py:12: UserWarning: Boolean Series key will be reindexed to match DataFrame index.\n  if sys.path[0] == '':\n/shared-libs/python3.7/py-core/lib/python3.7/site-packages/ipykernel_launcher.py:21: UserWarning: Boolean Series key will be reindexed to match DataFrame index.\n",
     "output_type": "stream"
    },
    {
     "data": {
      "text/plain": "<Figure size 432x288 with 1 Axes>",
      "image/png": "[encoded data removed]"
     },
     "metadata": {
      "needs_background": "light",
      "image/png": {
       "width": 372,
       "height": 248
      }
     },
     "output_type": "display_data"
    }
   ],
   "execution_count": null
  },
  {
   "cell_type": "markdown",
   "source": "## 2.4 Binary Classification Pipeline - Decision Tree",
   "metadata": {
    "tags": [],
    "cell_id": "00034-ba40acb5-8cef-4624-afb2-707cad39b6cf",
    "deepnote_cell_type": "markdown"
   }
  },
  {
   "cell_type": "code",
   "metadata": {
    "tags": [],
    "cell_id": "00035-638b1cf0-1037-460f-86c6-22dcd26bfc78",
    "deepnote_to_be_reexecuted": false,
    "source_hash": "2cd948b3",
    "execution_start": 1633375120885,
    "execution_millis": 0,
    "deepnote_cell_type": "code"
   },
   "source": "def decisionTree(x_train, y_train, x_test):\n    from sklearn import tree\n    clf = tree.DecisionTreeClassifier(class_weight=None, criterion='gini', max_depth=8,\n            max_features=None, max_leaf_nodes=None, min_samples_leaf=1,\n            min_samples_split=2, min_weight_fraction_leaf=0.0,\n            presort=False, random_state=None, splitter='best')\n    clf = clf.fit(x_train, y_train)\n\n    predictions = clf.predict(x_test)\n    return predictions",
   "outputs": [],
   "execution_count": null
  },
  {
   "cell_type": "code",
   "metadata": {
    "tags": [],
    "cell_id": "00036-cc6230bd-11f9-4491-9057-30be51b70119",
    "deepnote_to_be_reexecuted": false,
    "source_hash": "67d9955a",
    "execution_start": 1633375112076,
    "execution_millis": 1,
    "deepnote_cell_type": "code"
   },
   "source": "def process_COMPAS_small(temp_df):\n    \"\"\"\n    Pick less columnds of df to reduce the dimention of tree\n    \"\"\"\n    # deepcopy\n    df = temp_df.copy()\n    cols = [\"age\",\"priors_count\",\"two_year_recid\",\"sex\",\n              'juv_fel_count', 'length_of_stay']\n    # remove invalid/null entries\n    df = df[(df['days_b_screening_arrest'] <= 30)\n                & (df['days_b_screening_arrest'] >= -30)\n                & (df['is_recid'] != -1)\n                & (df['c_charge_degree'] != 'O')\n                & (df['score_text'] != 'N/A')]\n    # calculate length_of_stay\n    df['c_jail_out'] = pd.to_datetime(df['c_jail_out'])\n    df['c_jail_in'] = pd.to_datetime(df['c_jail_in'])\n    df['length_of_stay'] = (df['c_jail_out'] - df['c_jail_in']).astype(int)\n    df = df.drop_duplicates()\n    df = df[cols]\n    \n    # scale\n    scaler = MinMaxScaler()\n    numerical_features = [\"age\", \"priors_count\",'juv_fel_count', 'length_of_stay']\n    df[numerical_features] = scaler.fit_transform(df[numerical_features])\n    categorical_features = [\"sex\"]\n    df = pd.get_dummies(data=df, columns=categorical_features)\n\n    # split data into training and testing\n    x, y = df.drop(\"two_year_recid\", axis=1), df[\"two_year_recid\"]\n    x_train, x_test, y_train, y_test = train_test_split(x, y, test_size=0.3, random_state=0)\n    \n    print(x_train.shape)\n    print(x_test.shape)\n    print(y_train.shape)\n    print(y_test.shape)\n    \n    return x_train, x_test, y_train, y_test",
   "outputs": [],
   "execution_count": null
  },
  {
   "cell_type": "code",
   "metadata": {
    "tags": [],
    "cell_id": "00036-99d07d93-9103-4b9d-adee-9bb75ea14797",
    "deepnote_to_be_reexecuted": false,
    "source_hash": "e389c698",
    "execution_start": 1633375123228,
    "execution_millis": 507,
    "deepnote_cell_type": "code"
   },
   "source": "# predictions of testing data\nx_train, x_test, y_train, y_test = process_COMPAS_small(df)\npredictions = decisionTree(x_train, y_train, x_test)\npredictionSummary(x_test, y_test, predictions)",
   "outputs": [
    {
     "name": "stdout",
     "text": "(4320, 6)\n(1852, 6)\n(4320,)\n(1852,)\nTrue positive rate (overall):  0.5871886120996441\nFalse positive rate (overall):  0.2547076313181368\nTrue negative rate (overall):  0.7452923686818632\nFalse negative rate (overall):  0.4128113879003559\nPositive predictive value (overall):  0.6582446808510638 \n\nTrue positive rate (balck):  0.632\nFalse positive rate (balck):  0.34210526315789475\nTrue negative rate (balck):  0.6578947368421053\nFalse negative rate (balck):  0.368\nPositive predictive value (balck):  0.6694915254237288 \n\nTrue positive rate (white):  0.5180722891566265\nFalse positive rate (white):  0.18997361477572558\nTrue negative rate (white):  0.8100263852242744\nFalse negative rate (white):  0.4819277108433735\nPositive predictive value (white):  0.6417910447761194 \n\n/root/venv/lib/python3.7/site-packages/sklearn/tree/_classes.py:319: FutureWarning: The parameter 'presort' is deprecated and has no effect. It will be removed in v0.24. You can suppress this warning by not passing any value to the 'presort' parameter.\n  FutureWarning)\n/shared-libs/python3.7/py-core/lib/python3.7/site-packages/ipykernel_launcher.py:12: UserWarning: Boolean Series key will be reindexed to match DataFrame index.\n  if sys.path[0] == '':\n/shared-libs/python3.7/py-core/lib/python3.7/site-packages/ipykernel_launcher.py:21: UserWarning: Boolean Series key will be reindexed to match DataFrame index.\n",
     "output_type": "stream"
    },
    {
     "data": {
      "text/plain": "<Figure size 432x288 with 1 Axes>",
      "image/png": "[encoded data removed]"
     },
     "metadata": {
      "needs_background": "light",
      "image/png": {
       "width": 372,
       "height": 248
      }
     },
     "output_type": "display_data"
    }
   ],
   "execution_count": null
  },
  {
   "cell_type": "code",
   "metadata": {
    "tags": [],
    "cell_id": "00037-ad5f04f2-0162-426d-b9dd-7037db2f65db",
    "deepnote_to_be_reexecuted": false,
    "source_hash": "9c8341e8",
    "execution_start": 1633375127949,
    "execution_millis": 450,
    "deepnote_cell_type": "code"
   },
   "source": "x_train, x_test, y_train, y_test = process_COMPAS_small(df)\npredictions = decisionTree(x_train, y_train, x_train)\npredictionSummary(x_train, y_train, predictions)",
   "outputs": [
    {
     "name": "stdout",
     "text": "(4320, 6)\n(1852, 6)\n(4320,)\n(1852,)\nTrue positive rate (overall):  0.667853509664293\nFalse positive rate (overall):  0.18394222599830076\nTrue negative rate (overall):  0.8160577740016992\nFalse negative rate (overall):  0.33214649033570703\nPositive predictive value (overall):  0.7520045819014891 \n\nTrue positive rate (balck):  0.7571059431524548\nFalse positive rate (balck):  0.2504725897920605\nTrue negative rate (balck):  0.7495274102079396\nFalse negative rate (balck):  0.24289405684754523\nPositive predictive value (balck):  0.7683566433566433 \n\nTrue positive rate (white):  0.5165794066317626\nFalse positive rate (white):  0.12527716186252771\nTrue negative rate (white):  0.8747228381374723\nFalse negative rate (white):  0.48342059336823734\nPositive predictive value (white):  0.7237163814180929 \n\n/root/venv/lib/python3.7/site-packages/sklearn/tree/_classes.py:319: FutureWarning: The parameter 'presort' is deprecated and has no effect. It will be removed in v0.24. You can suppress this warning by not passing any value to the 'presort' parameter.\n  FutureWarning)\n/shared-libs/python3.7/py-core/lib/python3.7/site-packages/ipykernel_launcher.py:12: UserWarning: Boolean Series key will be reindexed to match DataFrame index.\n  if sys.path[0] == '':\n/shared-libs/python3.7/py-core/lib/python3.7/site-packages/ipykernel_launcher.py:21: UserWarning: Boolean Series key will be reindexed to match DataFrame index.\n",
     "output_type": "stream"
    },
    {
     "data": {
      "text/plain": "<Figure size 432x288 with 1 Axes>",
      "image/png": "[encoded data removed]"
     },
     "metadata": {
      "needs_background": "light",
      "image/png": {
       "width": 372,
       "height": 248
      }
     },
     "output_type": "display_data"
    }
   ],
   "execution_count": null
  },
  {
   "cell_type": "markdown",
   "source": "## 2.5 Hypothesis Test Pipeline ",
   "metadata": {
    "tags": [],
    "cell_id": "00006-5de8111e-573b-4b69-b72f-623ec0ebb8dc",
    "deepnote_cell_type": "markdown"
   }
  },
  {
   "cell_type": "code",
   "source": "",
   "metadata": {
    "tags": [],
    "cell_id": "00041-649f1b97-d426-4eba-b388-342ef6f354b6",
    "deepnote_cell_type": "code"
   },
   "outputs": [],
   "execution_count": null
  },
  {
   "cell_type": "code",
   "metadata": {
    "tags": [],
    "cell_id": "00035-81e918ad-5405-4187-8192-6cbda0c5fa27",
    "deepnote_to_be_reexecuted": false,
    "source_hash": "7494cf02",
    "execution_start": 1633377821730,
    "execution_millis": 3,
    "deepnote_cell_type": "code"
   },
   "source": "# Assumptions\n\n# Observations in each sample are independent and identically distributed (iid).\n# Observations in each sample are normally distributed.\n# Observations in each sample have the same variance.\n# Interpretation\n# https://machinelearningmastery.com/statistical-hypothesis-tests-in-python-cheat-sheet/\n\nfrom scipy.stats import ttest_ind\ndef hypothesisTest(df):\n\tdf_black = df[df['race']==\"African-American\"].copy()\n\tblack_two_year_reci = df_black['two_year_recid']\n\n\n\tdf_white = df[df['race']==\"Caucasian\"].copy()\n\twhite_two_year_reci = df_white['two_year_recid']\n\twhite_is_reci = df_white['is_recid']\n\tblack_is_reci = df_black['is_recid']\n\n\t# H0: null hypothesis: the mean of the African American two year recidivism rate = the mean of the Caucasian two year  recidivism rate\n\t# H1: alternate hypothesis: the mean of the African American two year recidivism rate > the mean of the Caucasian two year  recidivism rate\n\tstat, p = ttest_ind(black_two_year_reci, white_two_year_reci)\n\tprint('first:')\n\tprint('stat=%.3f, p=%.27f' % (stat, p))\n\n\tif p > 0.05:\n\t\tprint('we are accepting null hypothesis, Probably the same distribution')\n\telse:\n\t\tprint('we are rejecting null hypothesis, Probably different distributions')\n\t\n\t# so the result shows us the the mean rate are not the same \n\t# Tests whether the means of two independent samples are significantly different.\n\n\n\t# H0: null hypothesis: the mean of the Caucasian recidivism rate = the mean of the Caucasian two year recidivism rate\n\t# H1: alternate hypothesis:  the mean of the Caucasian recidivism rate >= the mean of the Caucasian two year recidivism rate\n\tstat, p = ttest_ind(white_is_reci, white_two_year_reci)\n\tprint('second:')\n\tprint('stat=%.3f, p=%.27f' % (stat, p))\n\tif p > 0.05:\n\t\tprint('we are accepting null hypothesis, Probably the same distribution')\n\telse:\n\t\tprint('we are rejecting null hypothesis, Probably different distributions')\n\t# so the result shows us the the mean rate are the same \n\n\t# H0: null hypothesis: the mean of the black African American rate = the mean of the African American two year recidivism rate\n\t# H1: alternate hypothesis:  the mean of the African American recidivism rate >= the mean of the African American two year recidivism rate\n\tstat, p = ttest_ind(black_is_reci, black_two_year_reci)\n\tprint('third:')\n\tprint('stat=%.3f, p=%.27f' % (stat, p))\n\tif p > 0.05:\n\t\tprint('we are accepting null hypothesis, Probably the same distribution')\n\telse:\n\t\tprint('we are rejecting null hypothesis, Probably different distributions')\n\t# so the result shows us the the mean rate are not the same \n",
   "outputs": [],
   "execution_count": null
  },
  {
   "cell_type": "code",
   "source": "hypothesisTest(df)",
   "metadata": {
    "tags": [],
    "cell_id": "00043-c323afa4-2146-4eb3-8778-4c2911c68db6",
    "deepnote_to_be_reexecuted": false,
    "source_hash": "cdc42593",
    "execution_start": 1633377830766,
    "execution_millis": 26,
    "deepnote_cell_type": "code"
   },
   "outputs": [
    {
     "name": "stdout",
     "text": "first:\nstat=9.356, p=0.000000000000000000011363682\nwe are rejecting null hypothesis, Probably different distributions\nsecond:\nstat=1.715, p=0.086351904428614872921698975\nwe are accepting null hypothesis, Probably the same distribution\nthird:\nstat=3.149, p=0.001646144193052092100093553\nwe are rejecting null hypothesis, Probably different distributions\n",
     "output_type": "stream"
    }
   ],
   "execution_count": null
  },
  {
   "cell_type": "code",
   "metadata": {
    "tags": [],
    "cell_id": "00036-f2b87165-75cb-430d-acaa-5ef96097d42c",
    "deepnote_to_be_reexecuted": false,
    "source_hash": "e44ffb3e",
    "execution_start": 1633295796619,
    "execution_millis": 4,
    "deepnote_cell_type": "code"
   },
   "source": "# from scipy.stats import chi2_contingency\n# table = [[10, 20, 30],[6,  9,  17]]\n# stat, p, dof, expected = chi2_contingency(table)\n# print('stat=%.3f, p=%.3f' % (stat, p))\n# if p > 0.05:\n# \tprint('Probably independent')\n# else:\n# \tprint('Probably dependent')",
   "execution_count": null,
   "outputs": []
  },
  {
   "cell_type": "markdown",
   "source": "## 2.6 References\n\n[1] Julia Angwin, Jeff Larson, Surya Mattu, and Lauren Kirchner. Machine Bias: There’s Software Used Across\nthe Country to Predict Future Criminals. And it’s Biased Against Blacks. https://www.propublica.org/\narticle/machine-bias-risk-assessments-in-criminal-sentencing, 2016.\n\n[2] Rahman, F. (2020, September 8). Compas case study: Fairness of a Machine Learning Model. Medium. Retrieved September 28, 2021, from https://towardsdatascience.com/compas-case-study-fairness-of-a-machine-learning-model-f0f804108751. \n\n[3] The accuracy, fairness, and limits of ... - science advances. (n.d.). Retrieved September 28, 2021, from https://www.advances.sciencemag.org/content/4/1/eaao5580.full.  ",
   "metadata": {
    "tags": [],
    "cell_id": "00007-2dfb0d15-1a0c-4a75-a4c1-ea811aec8aa4",
    "deepnote_cell_type": "markdown"
   }
  },
  {
   "cell_type": "code",
   "metadata": {
    "tags": [],
    "cell_id": "00010-5d5d639d-2f53-4b9a-a27c-7569f6f383b7",
    "deepnote_to_be_reexecuted": false,
    "source_hash": "b623e53d",
    "execution_start": 1633295796629,
    "execution_millis": 0,
    "deepnote_cell_type": "code"
   },
   "source": "",
   "execution_count": null,
   "outputs": []
  },
  {
   "cell_type": "markdown",
   "source": "<a style='text-decoration:none;line-height:16px;display:flex;color:#5B5B62;padding:10px;justify-content:end;' href='https://deepnote.com?utm_source=created-in-deepnote-cell&projectId=aa928c63-0856-4021-a156-02d09e35182a' target=\"_blank\">\n<img alt='Created in deepnote.com' style='display:inline;max-height:16px;margin:0px;margin-right:7.5px;' src='data:image/svg+xml;base64,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' > </img>\nCreated in <span style='font-weight:600;margin-left:4px;'>Deepnote</span></a>",
   "metadata": {
    "tags": [],
    "created_in_deepnote_cell": true,
    "deepnote_cell_type": "markdown"
   }
  }
 ],
 "nbformat": 4,
 "nbformat_minor": 2,
 "metadata": {
  "orig_nbformat": 2,
  "deepnote": {
   "is_reactive": false
  },
  "deepnote_notebook_id": "5605aa85-5990-4591-931a-de0b30625bc0",
  "deepnote_execution_queue": []
 }
}