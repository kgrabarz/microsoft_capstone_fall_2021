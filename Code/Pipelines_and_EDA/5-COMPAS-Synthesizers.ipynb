{
  "nbformat": 4,
  "nbformat_minor": 0,
  "metadata": {
    "colab": {
      "name": "COMPAS-MWEM.ipynb",
      "provenance": [],
      "collapsed_sections": []
    },
    "kernelspec": {
      "display_name": "Python 3",
      "name": "python3"
    },
    "language_info": {
      "name": "python"
    }
  },
  "cells": [
    {
      "cell_type": "code",
      "metadata": {
        "colab": {
          "base_uri": "https://localhost:8080/"
        },
        "id": "CUlb2LWDOr43",
        "outputId": "fbebd879-b0b5-404c-bd96-27170de7dea2"
      },
      "source": [
        "!git clone https://github.com/opendp/smartnoise-sdk"
      ],
      "execution_count": 17,
      "outputs": [
        {
          "output_type": "stream",
          "name": "stdout",
          "text": [
            "Cloning into 'smartnoise-sdk'...\n",
            "remote: Enumerating objects: 6790, done.\u001b[K\n",
            "remote: Counting objects: 100% (2088/2088), done.\u001b[K\n",
            "remote: Compressing objects: 100% (1206/1206), done.\u001b[K\n",
            "remote: Total 6790 (delta 1162), reused 1600 (delta 783), pack-reused 4702\u001b[K\n",
            "Receiving objects: 100% (6790/6790), 12.92 MiB | 23.79 MiB/s, done.\n",
            "Resolving deltas: 100% (3970/3970), done.\n"
          ]
        }
      ]
    },
    {
      "cell_type": "markdown",
      "metadata": {
        "id": "5v3aII50PAhp"
      },
      "source": [
        "Check smartnoise-sdk is downloaded"
      ]
    },
    {
      "cell_type": "code",
      "metadata": {
        "colab": {
          "base_uri": "https://localhost:8080/"
        },
        "id": "_23Ono1qO9q-",
        "outputId": "0dfd28bb-af50-4ebe-9a71-863e88aec72d"
      },
      "source": [
        "!ls"
      ],
      "execution_count": null,
      "outputs": [
        {
          "name": "stdout",
          "output_type": "stream",
          "text": [
            "sample_data  smartnoise-sdk\n"
          ]
        }
      ]
    },
    {
      "cell_type": "markdown",
      "metadata": {
        "id": "IJj_CTt2PwTr"
      },
      "source": [
        "Go into the folder that setup.py located"
      ]
    },
    {
      "cell_type": "code",
      "metadata": {
        "colab": {
          "base_uri": "https://localhost:8080/"
        },
        "id": "8IFJHnDVO_qG",
        "outputId": "118073c6-65dc-4c31-81cf-a8d49ddd8edb"
      },
      "source": [
        "cd smartnoise-sdk/synth"
      ],
      "execution_count": 18,
      "outputs": [
        {
          "output_type": "stream",
          "name": "stdout",
          "text": [
            "/content/smartnoise-sdk/synth\n"
          ]
        }
      ]
    },
    {
      "cell_type": "code",
      "metadata": {
        "colab": {
          "base_uri": "https://localhost:8080/"
        },
        "id": "QD0IeC-YPR0C",
        "outputId": "8d4e5963-fdeb-4adf-8a22-7cbf754b21b0"
      },
      "source": [
        "!ls"
      ],
      "execution_count": null,
      "outputs": [
        {
          "name": "stdout",
          "output_type": "stream",
          "text": [
            "HISTORY.md  Makefile  pyproject.toml  README.md  setup.py  snsynth  tests\n"
          ]
        }
      ]
    },
    {
      "cell_type": "code",
      "metadata": {
        "colab": {
          "base_uri": "https://localhost:8080/"
        },
        "id": "TIX8Ow_8PHyC",
        "outputId": "87919987-2874-440d-91e8-54030462ae97"
      },
      "source": [
        "!python setup.py build"
      ],
      "execution_count": 19,
      "outputs": [
        {
          "output_type": "stream",
          "name": "stdout",
          "text": [
            "running build\n",
            "running build_py\n",
            "creating build\n",
            "creating build/lib\n",
            "creating build/lib/snsynth\n",
            "copying snsynth/quail.py -> build/lib/snsynth\n",
            "copying snsynth/__init__.py -> build/lib/snsynth\n",
            "copying snsynth/base.py -> build/lib/snsynth\n",
            "copying snsynth/mwem.py -> build/lib/snsynth\n",
            "creating build/lib/snsynth/models\n",
            "copying snsynth/models/linear_regression.py -> build/lib/snsynth/models\n",
            "copying snsynth/models/dp_covariance.py -> build/lib/snsynth/models\n",
            "copying snsynth/models/__init__.py -> build/lib/snsynth/models\n",
            "creating build/lib/snsynth/preprocessors\n",
            "copying snsynth/preprocessors/preprocessing.py -> build/lib/snsynth/preprocessors\n",
            "copying snsynth/preprocessors/__init__.py -> build/lib/snsynth/preprocessors\n",
            "creating build/lib/snsynth/pytorch\n",
            "copying snsynth/pytorch/pytorch_synthesizer.py -> build/lib/snsynth/pytorch\n",
            "copying snsynth/pytorch/__init__.py -> build/lib/snsynth/pytorch\n",
            "creating build/lib/snsynth/pytorch/nn\n",
            "copying snsynth/pytorch/nn/privacy_utils.py -> build/lib/snsynth/pytorch/nn\n",
            "copying snsynth/pytorch/nn/_generator.py -> build/lib/snsynth/pytorch/nn\n",
            "copying snsynth/pytorch/nn/patectgan.py -> build/lib/snsynth/pytorch/nn\n",
            "copying snsynth/pytorch/nn/pategan.py -> build/lib/snsynth/pytorch/nn\n",
            "copying snsynth/pytorch/nn/dpctgan.py -> build/lib/snsynth/pytorch/nn\n",
            "copying snsynth/pytorch/nn/dpgan.py -> build/lib/snsynth/pytorch/nn\n",
            "copying snsynth/pytorch/nn/__init__.py -> build/lib/snsynth/pytorch/nn\n",
            "copying snsynth/pytorch/nn/_discriminator.py -> build/lib/snsynth/pytorch/nn\n"
          ]
        }
      ]
    },
    {
      "cell_type": "code",
      "metadata": {
        "colab": {
          "base_uri": "https://localhost:8080/"
        },
        "id": "cKv0VaIRPZiG",
        "outputId": "906aad5f-ccdf-4590-b045-93fbd0f61ade"
      },
      "source": [
        "!python setup.py install"
      ],
      "execution_count": 20,
      "outputs": [
        {
          "output_type": "stream",
          "name": "stdout",
          "text": [
            "running install\n",
            "running bdist_egg\n",
            "running egg_info\n",
            "creating smartnoise_synth.egg-info\n",
            "writing smartnoise_synth.egg-info/PKG-INFO\n",
            "writing dependency_links to smartnoise_synth.egg-info/dependency_links.txt\n",
            "writing requirements to smartnoise_synth.egg-info/requires.txt\n",
            "writing top-level names to smartnoise_synth.egg-info/top_level.txt\n",
            "writing manifest file 'smartnoise_synth.egg-info/SOURCES.txt'\n",
            "writing manifest file 'smartnoise_synth.egg-info/SOURCES.txt'\n",
            "installing library code to build/bdist.linux-x86_64/egg\n",
            "running install_lib\n",
            "running build_py\n",
            "creating build/bdist.linux-x86_64\n",
            "creating build/bdist.linux-x86_64/egg\n",
            "creating build/bdist.linux-x86_64/egg/snsynth\n",
            "creating build/bdist.linux-x86_64/egg/snsynth/pytorch\n",
            "copying build/lib/snsynth/pytorch/pytorch_synthesizer.py -> build/bdist.linux-x86_64/egg/snsynth/pytorch\n",
            "creating build/bdist.linux-x86_64/egg/snsynth/pytorch/nn\n",
            "copying build/lib/snsynth/pytorch/nn/privacy_utils.py -> build/bdist.linux-x86_64/egg/snsynth/pytorch/nn\n",
            "copying build/lib/snsynth/pytorch/nn/_generator.py -> build/bdist.linux-x86_64/egg/snsynth/pytorch/nn\n",
            "copying build/lib/snsynth/pytorch/nn/patectgan.py -> build/bdist.linux-x86_64/egg/snsynth/pytorch/nn\n",
            "copying build/lib/snsynth/pytorch/nn/pategan.py -> build/bdist.linux-x86_64/egg/snsynth/pytorch/nn\n",
            "copying build/lib/snsynth/pytorch/nn/dpctgan.py -> build/bdist.linux-x86_64/egg/snsynth/pytorch/nn\n",
            "copying build/lib/snsynth/pytorch/nn/dpgan.py -> build/bdist.linux-x86_64/egg/snsynth/pytorch/nn\n",
            "copying build/lib/snsynth/pytorch/nn/__init__.py -> build/bdist.linux-x86_64/egg/snsynth/pytorch/nn\n",
            "copying build/lib/snsynth/pytorch/nn/_discriminator.py -> build/bdist.linux-x86_64/egg/snsynth/pytorch/nn\n",
            "copying build/lib/snsynth/pytorch/__init__.py -> build/bdist.linux-x86_64/egg/snsynth/pytorch\n",
            "creating build/bdist.linux-x86_64/egg/snsynth/models\n",
            "copying build/lib/snsynth/models/linear_regression.py -> build/bdist.linux-x86_64/egg/snsynth/models\n",
            "copying build/lib/snsynth/models/dp_covariance.py -> build/bdist.linux-x86_64/egg/snsynth/models\n",
            "copying build/lib/snsynth/models/__init__.py -> build/bdist.linux-x86_64/egg/snsynth/models\n",
            "copying build/lib/snsynth/quail.py -> build/bdist.linux-x86_64/egg/snsynth\n",
            "creating build/bdist.linux-x86_64/egg/snsynth/preprocessors\n",
            "copying build/lib/snsynth/preprocessors/preprocessing.py -> build/bdist.linux-x86_64/egg/snsynth/preprocessors\n",
            "copying build/lib/snsynth/preprocessors/__init__.py -> build/bdist.linux-x86_64/egg/snsynth/preprocessors\n",
            "copying build/lib/snsynth/__init__.py -> build/bdist.linux-x86_64/egg/snsynth\n",
            "copying build/lib/snsynth/base.py -> build/bdist.linux-x86_64/egg/snsynth\n",
            "copying build/lib/snsynth/mwem.py -> build/bdist.linux-x86_64/egg/snsynth\n",
            "byte-compiling build/bdist.linux-x86_64/egg/snsynth/pytorch/pytorch_synthesizer.py to pytorch_synthesizer.cpython-37.pyc\n",
            "byte-compiling build/bdist.linux-x86_64/egg/snsynth/pytorch/nn/privacy_utils.py to privacy_utils.cpython-37.pyc\n",
            "byte-compiling build/bdist.linux-x86_64/egg/snsynth/pytorch/nn/_generator.py to _generator.cpython-37.pyc\n",
            "byte-compiling build/bdist.linux-x86_64/egg/snsynth/pytorch/nn/patectgan.py to patectgan.cpython-37.pyc\n",
            "byte-compiling build/bdist.linux-x86_64/egg/snsynth/pytorch/nn/pategan.py to pategan.cpython-37.pyc\n",
            "byte-compiling build/bdist.linux-x86_64/egg/snsynth/pytorch/nn/dpctgan.py to dpctgan.cpython-37.pyc\n",
            "byte-compiling build/bdist.linux-x86_64/egg/snsynth/pytorch/nn/dpgan.py to dpgan.cpython-37.pyc\n",
            "byte-compiling build/bdist.linux-x86_64/egg/snsynth/pytorch/nn/__init__.py to __init__.cpython-37.pyc\n",
            "byte-compiling build/bdist.linux-x86_64/egg/snsynth/pytorch/nn/_discriminator.py to _discriminator.cpython-37.pyc\n",
            "byte-compiling build/bdist.linux-x86_64/egg/snsynth/pytorch/__init__.py to __init__.cpython-37.pyc\n",
            "byte-compiling build/bdist.linux-x86_64/egg/snsynth/models/linear_regression.py to linear_regression.cpython-37.pyc\n",
            "byte-compiling build/bdist.linux-x86_64/egg/snsynth/models/dp_covariance.py to dp_covariance.cpython-37.pyc\n",
            "byte-compiling build/bdist.linux-x86_64/egg/snsynth/models/__init__.py to __init__.cpython-37.pyc\n",
            "byte-compiling build/bdist.linux-x86_64/egg/snsynth/quail.py to quail.cpython-37.pyc\n",
            "byte-compiling build/bdist.linux-x86_64/egg/snsynth/preprocessors/preprocessing.py to preprocessing.cpython-37.pyc\n",
            "byte-compiling build/bdist.linux-x86_64/egg/snsynth/preprocessors/__init__.py to __init__.cpython-37.pyc\n",
            "byte-compiling build/bdist.linux-x86_64/egg/snsynth/__init__.py to __init__.cpython-37.pyc\n",
            "byte-compiling build/bdist.linux-x86_64/egg/snsynth/base.py to base.cpython-37.pyc\n",
            "byte-compiling build/bdist.linux-x86_64/egg/snsynth/mwem.py to mwem.cpython-37.pyc\n",
            "creating build/bdist.linux-x86_64/egg/EGG-INFO\n",
            "copying smartnoise_synth.egg-info/PKG-INFO -> build/bdist.linux-x86_64/egg/EGG-INFO\n",
            "copying smartnoise_synth.egg-info/SOURCES.txt -> build/bdist.linux-x86_64/egg/EGG-INFO\n",
            "copying smartnoise_synth.egg-info/dependency_links.txt -> build/bdist.linux-x86_64/egg/EGG-INFO\n",
            "copying smartnoise_synth.egg-info/requires.txt -> build/bdist.linux-x86_64/egg/EGG-INFO\n",
            "copying smartnoise_synth.egg-info/top_level.txt -> build/bdist.linux-x86_64/egg/EGG-INFO\n",
            "zip_safe flag not set; analyzing archive contents...\n",
            "creating dist\n",
            "creating 'dist/smartnoise_synth-0.2.2-py3.7.egg' and adding 'build/bdist.linux-x86_64/egg' to it\n",
            "removing 'build/bdist.linux-x86_64/egg' (and everything under it)\n",
            "Processing smartnoise_synth-0.2.2-py3.7.egg\n",
            "Copying smartnoise_synth-0.2.2-py3.7.egg to /usr/local/lib/python3.7/dist-packages\n",
            "Adding smartnoise-synth 0.2.2 to easy-install.pth file\n",
            "\n",
            "Installed /usr/local/lib/python3.7/dist-packages/smartnoise_synth-0.2.2-py3.7.egg\n",
            "Processing dependencies for smartnoise-synth==0.2.2\n",
            "Searching for opacus<0.15.0,>=0.14.0\n",
            "Reading https://pypi.org/simple/opacus/\n",
            "Downloading https://files.pythonhosted.org/packages/96/50/b15d32af6228355fe72c789cf977ebca3195bf08ed0cbaa6edc02e544900/opacus-0.14.0-py3-none-any.whl#sha256=4beb4519c86b4b8aec740cbe5ad97a12f0fb325044a8b2caeb74ce573a353276\n",
            "Best match: opacus 0.14.0\n",
            "Processing opacus-0.14.0-py3-none-any.whl\n",
            "Installing opacus-0.14.0-py3-none-any.whl to /usr/local/lib/python3.7/dist-packages\n",
            "Adding opacus 0.14.0 to easy-install.pth file\n",
            "\n",
            "Installed /usr/local/lib/python3.7/dist-packages/opacus-0.14.0-py3.7.egg\n",
            "Searching for ctgan<0.5.0,>=0.4.3\n",
            "Reading https://pypi.org/simple/ctgan/\n",
            "Downloading https://files.pythonhosted.org/packages/80/84/1b7d9d420e6b0f0db3a2030c5374a962a637e39f929cf339d2f7a2aa3f24/ctgan-0.4.3-py2.py3-none-any.whl#sha256=d451fc2c57ec2b040019afcc602f4e9eba0c7bf162797746a86a4aa5f74b1f74\n",
            "Best match: ctgan 0.4.3\n",
            "Processing ctgan-0.4.3-py2.py3-none-any.whl\n",
            "Installing ctgan-0.4.3-py2.py3-none-any.whl to /usr/local/lib/python3.7/dist-packages\n",
            "Adding ctgan 0.4.3 to easy-install.pth file\n",
            "Installing ctgan script to /usr/local/bin\n",
            "\n",
            "Installed /usr/local/lib/python3.7/dist-packages/ctgan-0.4.3-py3.7.egg\n",
            "Searching for scikit-learn<1,>=0.23\n",
            "Reading https://pypi.org/simple/scikit-learn/\n",
            "Downloading https://files.pythonhosted.org/packages/a8/eb/a48f25c967526b66d5f1fa7a984594f0bf0a5afafa94a8c4dbc317744620/scikit_learn-0.24.2-cp37-cp37m-manylinux2010_x86_64.whl#sha256=f3ec00f023d84526381ad0c0f2cff982852d035c921bbf8ceb994f4886c00c64\n",
            "Best match: scikit-learn 0.24.2\n",
            "Processing scikit_learn-0.24.2-cp37-cp37m-manylinux2010_x86_64.whl\n",
            "Installing scikit_learn-0.24.2-cp37-cp37m-manylinux2010_x86_64.whl to /usr/local/lib/python3.7/dist-packages\n",
            "Adding scikit-learn 0.24.2 to easy-install.pth file\n",
            "\n",
            "Installed /usr/local/lib/python3.7/dist-packages/scikit_learn-0.24.2-py3.7-linux-x86_64.egg\n",
            "Searching for rdt<0.6,>=0.5.0\n",
            "Reading https://pypi.org/simple/rdt/\n",
            "Downloading https://files.pythonhosted.org/packages/29/e4/b18ca746cc41dcb754f733700bc2a04cfc3108144f376f88786ec855dbea/rdt-0.5.3-py2.py3-none-any.whl#sha256=3025d762d6e975ca72060226fab433a2675527814ccc9010bb253568931449e6\n",
            "Best match: rdt 0.5.3\n",
            "Processing rdt-0.5.3-py2.py3-none-any.whl\n",
            "Installing rdt-0.5.3-py2.py3-none-any.whl to /usr/local/lib/python3.7/dist-packages\n",
            "Adding rdt 0.5.3 to easy-install.pth file\n",
            "\n",
            "Installed /usr/local/lib/python3.7/dist-packages/rdt-0.5.3-py3.7.egg\n",
            "Searching for pandas<1.1.5,>=1.1\n",
            "Reading https://pypi.org/simple/pandas/\n",
            "Downloading https://files.pythonhosted.org/packages/bf/4c/cb7da76f3a5e077e545f9cf8575b8f488a4e8ad60490838f89c5cdd5bb57/pandas-1.1.4-cp37-cp37m-manylinux1_x86_64.whl#sha256=c5a3597880a7a29a31ebd39b73b2c824316ae63a05c3c8a5ce2aea3fc68afe35\n",
            "Best match: pandas 1.1.4\n",
            "Processing pandas-1.1.4-cp37-cp37m-manylinux1_x86_64.whl\n",
            "Installing pandas-1.1.4-cp37-cp37m-manylinux1_x86_64.whl to /usr/local/lib/python3.7/dist-packages\n",
            "Adding pandas 1.1.4 to easy-install.pth file\n",
            "\n",
            "Installed /usr/local/lib/python3.7/dist-packages/pandas-1.1.4-py3.7-linux-x86_64.egg\n",
            "Searching for threadpoolctl>=2.0.0\n",
            "Reading https://pypi.org/simple/threadpoolctl/\n",
            "Downloading https://files.pythonhosted.org/packages/ff/fe/8aaca2a0db7fd80f0b2cf8a16a034d3eea8102d58ff9331d2aaf1f06766a/threadpoolctl-3.0.0-py3-none-any.whl#sha256=4fade5b3b48ae4b1c30f200b28f39180371104fccc642e039e0f2435ec8cc211\n",
            "Best match: threadpoolctl 3.0.0\n",
            "Processing threadpoolctl-3.0.0-py3-none-any.whl\n",
            "Installing threadpoolctl-3.0.0-py3-none-any.whl to /usr/local/lib/python3.7/dist-packages\n",
            "Adding threadpoolctl 3.0.0 to easy-install.pth file\n",
            "\n",
            "Installed /usr/local/lib/python3.7/dist-packages/threadpoolctl-3.0.0-py3.7.egg\n",
            "Searching for psutil<6,>=5.7\n",
            "Reading https://pypi.org/simple/psutil/\n",
            "Downloading https://files.pythonhosted.org/packages/84/da/f7efdcf012b51506938553dbe302aecc22f3f43abd5cffa8320e8e0588d5/psutil-5.8.0-cp37-cp37m-manylinux2010_x86_64.whl#sha256=0dd4465a039d343925cdc29023bb6960ccf4e74a65ad53e768403746a9207023\n",
            "Best match: psutil 5.8.0\n",
            "Processing psutil-5.8.0-cp37-cp37m-manylinux2010_x86_64.whl\n",
            "Installing psutil-5.8.0-cp37-cp37m-manylinux2010_x86_64.whl to /usr/local/lib/python3.7/dist-packages\n",
            "Adding psutil 5.8.0 to easy-install.pth file\n",
            "\n",
            "Installed /usr/local/lib/python3.7/dist-packages/psutil-5.8.0-py3.7-linux-x86_64.egg\n",
            "Searching for torch==1.9.0+cu111\n",
            "Best match: torch 1.9.0+cu111\n",
            "Adding torch 1.9.0+cu111 to easy-install.pth file\n",
            "Installing convert-caffe2-to-onnx script to /usr/local/bin\n",
            "Installing convert-onnx-to-caffe2 script to /usr/local/bin\n",
            "\n",
            "Using /usr/local/lib/python3.7/dist-packages\n",
            "Searching for scipy==1.4.1\n",
            "Best match: scipy 1.4.1\n",
            "Adding scipy 1.4.1 to easy-install.pth file\n",
            "\n",
            "Using /usr/local/lib/python3.7/dist-packages\n",
            "Searching for numpy==1.19.5\n",
            "Best match: numpy 1.19.5\n",
            "Adding numpy 1.19.5 to easy-install.pth file\n",
            "Installing f2py script to /usr/local/bin\n",
            "Installing f2py3 script to /usr/local/bin\n",
            "Installing f2py3.7 script to /usr/local/bin\n",
            "\n",
            "Using /usr/local/lib/python3.7/dist-packages\n",
            "Searching for torchvision==0.10.0+cu111\n",
            "Best match: torchvision 0.10.0+cu111\n",
            "Adding torchvision 0.10.0+cu111 to easy-install.pth file\n",
            "\n",
            "Using /usr/local/lib/python3.7/dist-packages\n",
            "Searching for packaging==21.0\n",
            "Best match: packaging 21.0\n",
            "Adding packaging 21.0 to easy-install.pth file\n",
            "\n",
            "Using /usr/local/lib/python3.7/dist-packages\n",
            "Searching for typing-extensions==3.7.4.3\n",
            "Best match: typing-extensions 3.7.4.3\n",
            "Adding typing-extensions 3.7.4.3 to easy-install.pth file\n",
            "\n",
            "Using /usr/local/lib/python3.7/dist-packages\n",
            "Searching for Pillow==7.1.2\n",
            "Best match: Pillow 7.1.2\n",
            "Adding Pillow 7.1.2 to easy-install.pth file\n",
            "\n",
            "Using /usr/local/lib/python3.7/dist-packages\n",
            "Searching for joblib==1.0.1\n",
            "Best match: joblib 1.0.1\n",
            "Adding joblib 1.0.1 to easy-install.pth file\n",
            "\n",
            "Using /usr/local/lib/python3.7/dist-packages\n",
            "Searching for pytz==2018.9\n",
            "Best match: pytz 2018.9\n",
            "Adding pytz 2018.9 to easy-install.pth file\n",
            "\n",
            "Using /usr/local/lib/python3.7/dist-packages\n",
            "Searching for python-dateutil==2.8.2\n",
            "Best match: python-dateutil 2.8.2\n",
            "Adding python-dateutil 2.8.2 to easy-install.pth file\n",
            "\n",
            "Using /usr/local/lib/python3.7/dist-packages\n",
            "Searching for pyparsing==2.4.7\n",
            "Best match: pyparsing 2.4.7\n",
            "Adding pyparsing 2.4.7 to easy-install.pth file\n",
            "\n",
            "Using /usr/local/lib/python3.7/dist-packages\n",
            "Searching for six==1.15.0\n",
            "Best match: six 1.15.0\n",
            "Adding six 1.15.0 to easy-install.pth file\n",
            "\n",
            "Using /usr/local/lib/python3.7/dist-packages\n",
            "Finished processing dependencies for smartnoise-synth==0.2.2\n"
          ]
        }
      ]
    },
    {
      "cell_type": "markdown",
      "metadata": {
        "id": "6TlDyR6MQAE9"
      },
      "source": [
        "Now we are able to import the synthesizer. Also, due to the previous `cd smartnoise-sdk/synth` command, our jupyter notebook is inside smartnoise-sdk/synth so importing `snsynth` shall not run into any problem!"
      ]
    },
    {
      "cell_type": "code",
      "metadata": {
        "id": "F4a2_O8wPr1n"
      },
      "source": [
        "import numpy as np\n",
        "import pandas as pd\n",
        "import time\n",
        "import math\n",
        "import matplotlib.pyplot as plt\n",
        "import seaborn as sns\n",
        "from sklearn.metrics import confusion_matrix\n",
        "from sklearn.preprocessing import MinMaxScaler\n",
        "from sklearn.model_selection import train_test_split\n",
        "from sklearn.linear_model import LogisticRegression\n",
        "from sklearn.metrics import classification_report\n",
        "from snsynth.mwem import MWEMSynthesizer\n",
        "\n",
        "import warnings\n",
        "warnings.filterwarnings(\"ignore\")"
      ],
      "execution_count": 21,
      "outputs": []
    },
    {
      "cell_type": "code",
      "metadata": {
        "id": "yUGUTrquQtsM"
      },
      "source": [
        "def process_COMPAS(temp_df):\n",
        "    \"\"\"\n",
        "    Pick columns = ['age_cat','priors_count','sex_numeric','juv_fel_count', 'juv_misd_count', \n",
        "    'juv_other_count', 'length_of_stay','race','two_year_recid', 'c_charge_degree', \n",
        "    'c_charge_desc'] from the dataframe. Convert category data into numeric and remove races \n",
        "    other than Caucasian or African-American. \n",
        "    \n",
        "    Input: COMPAS dataframe\n",
        "    Output: \n",
        "           COMPAS dataframe after cleaning\n",
        "    \"\"\"\n",
        "    # deepcopy\n",
        "    df = temp_df.copy()\n",
        "    \n",
        "    # remove invalid/null entries\n",
        "    df = df[(df['days_b_screening_arrest'] <= 30)\n",
        "                & (df['days_b_screening_arrest'] >= -30)\n",
        "                & (df['is_recid'] != -1)\n",
        "                & (df['c_charge_degree'] != 'O')\n",
        "                & (df['score_text'] != 'N/A')]\n",
        "    # remove races other than Caucasian or African-American\n",
        "    df = df[(df['race']=='Caucasian') | (df['race']=='African-American')]\n",
        "\n",
        "    # calculate length_of_stay\n",
        "    df['c_jail_out'] = pd.to_datetime(df['c_jail_out'])\n",
        "    df['c_jail_in'] = pd.to_datetime(df['c_jail_in'])\n",
        "    # the number of seconds to the unix epoch start\n",
        "    df['length_of_stay'] = (df['c_jail_out'] - df['c_jail_in']).astype(int) / 10**9 \n",
        "    # convert seconds into month\n",
        "    df['length_of_stay'] /= 60 * 60 * 24 * 31\n",
        "    df['length_of_stay'] = df['length_of_stay'].astype(int)\n",
        "    df = df.drop_duplicates()\n",
        "\n",
        "    # convert category data into numeric\n",
        "    df['sex_numeric'] = pd.factorize(df['sex'])[0]\n",
        "    df['c_charge_degree_numeric'] = pd.factorize(df['c_charge_degree'])[0]\n",
        "    race = {0: 'Caucasian', 1: 'African-American'}\n",
        "    df[\"race\"] = df[\"race\"].map({v: k for k, v in race.items()})\n",
        "    age = {1: 'Greater than 45', 0: '25 - 45', -1: 'Less than 25'}\n",
        "    df[\"age_cat\"] = df[\"age_cat\"].map({v: k for k, v in age.items()})\n",
        "\n",
        "    cols = ['age_cat','priors_count','sex_numeric','juv_fel_count', 'juv_misd_count', 'juv_other_count', 'c_charge_degree_numeric', 'length_of_stay','race','two_year_recid']\n",
        "    df = df[cols]\n",
        "    \n",
        "    return df"
      ],
      "execution_count": 33,
      "outputs": []
    },
    {
      "cell_type": "code",
      "metadata": {
        "id": "_qQzvMlZRn1Q"
      },
      "source": [
        "def logisticRegression(x_train, y_train, x_test):\n",
        "    from sklearn.linear_model import LogisticRegression\n",
        "\n",
        "    logisticRegr = LogisticRegression(solver='lbfgs', max_iter=500)\n",
        "    logisticRegr.fit(x_train, y_train)\n",
        "\n",
        "    train_predictions = logisticRegr.predict(x_train)\n",
        "    test_predictions = logisticRegr.predict(x_test)\n",
        "    return train_predictions, test_predictions"
      ],
      "execution_count": 34,
      "outputs": []
    },
    {
      "cell_type": "code",
      "metadata": {
        "id": "Tu0CBc-HRn6z"
      },
      "source": [
        "def predictionSummary(temp_x, y_real, y_predict, df):\n",
        "    tn, fp, fn, tp = confusion_matrix(y_real, y_predict, labels=[0, 1]).ravel()\n",
        "    # False Positive, False Negative, True Positive, True Negative, Overall Accuracy\n",
        "    overall = [fp/(fp+tn),fn/(fn+tp),tp/(tp+fn),tn/(tn+fp),(tp+tn)/y_real.shape[0]]\n",
        "\n",
        "    x = temp_x.copy()\n",
        "    x['medium_or_high_risk'] = y_predict\n",
        "    x['two_year_recid'] = y_real\n",
        "    \n",
        "    # African-American\n",
        "    x_black = x[df['race']==1].copy()\n",
        "    tn, fp, fn, tp = confusion_matrix(x_black['two_year_recid'], x_black['medium_or_high_risk'], labels=[0, 1]).ravel()\n",
        "    black = [fp/(fp+tn),fn/(fn+tp),tp/(tp+fn),tn/(tn+fp),(tp+tn)/(tp+fp+fn+tn)]\n",
        "\n",
        "    # Caucasian\n",
        "    x_white = x[df['race']==0].copy()\n",
        "    tn, fp, fn, tp = confusion_matrix(x_white['two_year_recid'], x_white['medium_or_high_risk'], labels=[0, 1]).ravel()\n",
        "    white = [fp/(fp+tn),fn/(fn+tp),tp/(tp+fn),tn/(tn+fp),(tp+tn)/(tp+fp+fn+tn)]\n",
        "\n",
        "    return overall, black, white"
      ],
      "execution_count": 35,
      "outputs": []
    },
    {
      "cell_type": "code",
      "metadata": {
        "id": "mQ7noG5n85DW"
      },
      "source": [
        "def synthesizer(train_data, test_data, x_test, y_test, epsilons, niteration = 15, synthesizer=\"MWEM\"):\n",
        "    test_results, train_results = [],[]\n",
        "    # Loop through range of epsilon values\n",
        "    for epsilon in epsilons:\n",
        "\n",
        "        train_overall, train_black, train_white = [0,0,0,0,0],[0,0,0,0,0],[0,0,0,0,0]\n",
        "        test_overall, test_black, test_white = [0,0,0,0,0],[0,0,0,0,0],[0,0,0,0,0]\n",
        "        print(str(epsilon)+\": \", end=\"\")\n",
        "        # Generate synthetic data many times (to average results)\n",
        "        for i in range(niteration):\n",
        "            print(i, end=\"\")\n",
        "            start = time.time()\n",
        "            # Generate synthetic training data\n",
        "            synth = MWEMSynthesizer(epsilon=epsilon, q_count=500, iterations=30, mult_weights_iterations=15,\n",
        "                                    splits=[], split_factor=6, max_bin_count=400) \n",
        "            # learn the distribution of the real data\n",
        "            fit = synth.fit(train_data.to_numpy())  \n",
        "            sample_size = train_data.shape[0]\n",
        "            train_synth = pd.DataFrame(synth.sample(sample_size), columns=train_data.columns) \n",
        "        \n",
        "            # Split synthetic training data into X and y\n",
        "            x_train, y_train = train_synth.drop([\"two_year_recid\",\"race\"], axis=1), train_synth[\"two_year_recid\"]\n",
        "\n",
        "            # Run the binary classification pipeline\n",
        "            start = time.time()\n",
        "            y_train_predict, y_test_predict = logisticRegression(x_train, y_train, x_test)\n",
        "\n",
        "            # Save results for each i and for each epsilon\n",
        "            curr_train_overall, curr_train_black, curr_train_white = predictionSummary(x_train, y_train, y_train_predict, train_synth)\n",
        "            curr_test_overall, curr_test_black, curr_test_white = predictionSummary(x_test, y_test, y_test_predict, test_data)\n",
        "            \n",
        "            train_overall = [rate1+rate2 for rate1,rate2 in zip(train_overall,curr_train_overall)]\n",
        "            train_white = [rate1+rate2 for rate1,rate2 in zip(train_white,curr_train_white)]\n",
        "            train_black = [rate1+rate2 for rate1,rate2 in zip(train_black,curr_train_black)]\n",
        "            test_overall = [rate1+rate2 for rate1,rate2 in zip(test_overall,curr_test_overall)]\n",
        "            test_white = [rate1+rate2 for rate1,rate2 in zip(test_white,curr_test_white)]\n",
        "            test_black = [rate1+rate2 for rate1,rate2 in zip(test_black,curr_test_black)]\n",
        "        print()\n",
        "        train_overall = [rate/niteration for rate in train_overall]\n",
        "        train_black = [rate/niteration for rate in train_black]\n",
        "        train_white = [rate/niteration for rate in train_white]\n",
        "        train_results.append([train_overall,train_black,train_white])\n",
        "        test_overall = [rate/niteration for rate in test_overall]\n",
        "        test_black = [rate/niteration for rate in test_black]\n",
        "        test_white = [rate/niteration for rate in test_white]\n",
        "        test_results.append([test_overall,test_black,test_white])\n",
        "    return test_results, train_results\n",
        "      "
      ],
      "execution_count": 31,
      "outputs": []
    },
    {
      "cell_type": "code",
      "metadata": {
        "id": "-AbvHhWSRn-r"
      },
      "source": [
        "url = 'https://raw.githubusercontent.com/propublica/compas-analysis/master/compas-scores-two-years.csv'\n",
        "df = pd.read_csv(url)"
      ],
      "execution_count": 36,
      "outputs": []
    },
    {
      "cell_type": "code",
      "metadata": {
        "id": "ZPmAHXGmRoBq"
      },
      "source": [
        "df = process_COMPAS(df)"
      ],
      "execution_count": 37,
      "outputs": []
    },
    {
      "cell_type": "code",
      "metadata": {
        "colab": {
          "base_uri": "https://localhost:8080/",
          "height": 408
        },
        "id": "_hT7DW2QDgHE",
        "outputId": "b87e1b67-633c-4ee5-9b31-d28966fa3891"
      },
      "source": [
        "df"
      ],
      "execution_count": 38,
      "outputs": [
        {
          "output_type": "execute_result",
          "data": {
            "text/html": [
              "<div>\n",
              "<style scoped>\n",
              "    .dataframe tbody tr th:only-of-type {\n",
              "        vertical-align: middle;\n",
              "    }\n",
              "\n",
              "    .dataframe tbody tr th {\n",
              "        vertical-align: top;\n",
              "    }\n",
              "\n",
              "    .dataframe thead th {\n",
              "        text-align: right;\n",
              "    }\n",
              "</style>\n",
              "<table border=\"1\" class=\"dataframe\">\n",
              "  <thead>\n",
              "    <tr style=\"text-align: right;\">\n",
              "      <th></th>\n",
              "      <th>age_cat</th>\n",
              "      <th>priors_count</th>\n",
              "      <th>sex_numeric</th>\n",
              "      <th>juv_fel_count</th>\n",
              "      <th>juv_misd_count</th>\n",
              "      <th>juv_other_count</th>\n",
              "      <th>c_charge_degree_numeric</th>\n",
              "      <th>length_of_stay</th>\n",
              "      <th>race</th>\n",
              "      <th>two_year_recid</th>\n",
              "    </tr>\n",
              "  </thead>\n",
              "  <tbody>\n",
              "    <tr>\n",
              "      <th>1</th>\n",
              "      <td>0</td>\n",
              "      <td>0</td>\n",
              "      <td>0</td>\n",
              "      <td>0</td>\n",
              "      <td>0</td>\n",
              "      <td>0</td>\n",
              "      <td>0</td>\n",
              "      <td>0</td>\n",
              "      <td>1</td>\n",
              "      <td>1</td>\n",
              "    </tr>\n",
              "    <tr>\n",
              "      <th>2</th>\n",
              "      <td>-1</td>\n",
              "      <td>4</td>\n",
              "      <td>0</td>\n",
              "      <td>0</td>\n",
              "      <td>0</td>\n",
              "      <td>1</td>\n",
              "      <td>0</td>\n",
              "      <td>0</td>\n",
              "      <td>1</td>\n",
              "      <td>1</td>\n",
              "    </tr>\n",
              "    <tr>\n",
              "      <th>6</th>\n",
              "      <td>0</td>\n",
              "      <td>14</td>\n",
              "      <td>0</td>\n",
              "      <td>0</td>\n",
              "      <td>0</td>\n",
              "      <td>0</td>\n",
              "      <td>0</td>\n",
              "      <td>0</td>\n",
              "      <td>0</td>\n",
              "      <td>1</td>\n",
              "    </tr>\n",
              "    <tr>\n",
              "      <th>8</th>\n",
              "      <td>0</td>\n",
              "      <td>0</td>\n",
              "      <td>1</td>\n",
              "      <td>0</td>\n",
              "      <td>0</td>\n",
              "      <td>0</td>\n",
              "      <td>1</td>\n",
              "      <td>0</td>\n",
              "      <td>0</td>\n",
              "      <td>0</td>\n",
              "    </tr>\n",
              "    <tr>\n",
              "      <th>10</th>\n",
              "      <td>0</td>\n",
              "      <td>0</td>\n",
              "      <td>0</td>\n",
              "      <td>0</td>\n",
              "      <td>0</td>\n",
              "      <td>0</td>\n",
              "      <td>0</td>\n",
              "      <td>0</td>\n",
              "      <td>0</td>\n",
              "      <td>0</td>\n",
              "    </tr>\n",
              "    <tr>\n",
              "      <th>...</th>\n",
              "      <td>...</td>\n",
              "      <td>...</td>\n",
              "      <td>...</td>\n",
              "      <td>...</td>\n",
              "      <td>...</td>\n",
              "      <td>...</td>\n",
              "      <td>...</td>\n",
              "      <td>...</td>\n",
              "      <td>...</td>\n",
              "      <td>...</td>\n",
              "    </tr>\n",
              "    <tr>\n",
              "      <th>7207</th>\n",
              "      <td>0</td>\n",
              "      <td>0</td>\n",
              "      <td>0</td>\n",
              "      <td>0</td>\n",
              "      <td>0</td>\n",
              "      <td>0</td>\n",
              "      <td>1</td>\n",
              "      <td>0</td>\n",
              "      <td>1</td>\n",
              "      <td>1</td>\n",
              "    </tr>\n",
              "    <tr>\n",
              "      <th>7208</th>\n",
              "      <td>-1</td>\n",
              "      <td>0</td>\n",
              "      <td>0</td>\n",
              "      <td>0</td>\n",
              "      <td>0</td>\n",
              "      <td>0</td>\n",
              "      <td>0</td>\n",
              "      <td>0</td>\n",
              "      <td>1</td>\n",
              "      <td>0</td>\n",
              "    </tr>\n",
              "    <tr>\n",
              "      <th>7209</th>\n",
              "      <td>-1</td>\n",
              "      <td>0</td>\n",
              "      <td>0</td>\n",
              "      <td>0</td>\n",
              "      <td>0</td>\n",
              "      <td>0</td>\n",
              "      <td>0</td>\n",
              "      <td>0</td>\n",
              "      <td>1</td>\n",
              "      <td>0</td>\n",
              "    </tr>\n",
              "    <tr>\n",
              "      <th>7210</th>\n",
              "      <td>-1</td>\n",
              "      <td>0</td>\n",
              "      <td>0</td>\n",
              "      <td>0</td>\n",
              "      <td>0</td>\n",
              "      <td>0</td>\n",
              "      <td>0</td>\n",
              "      <td>0</td>\n",
              "      <td>1</td>\n",
              "      <td>0</td>\n",
              "    </tr>\n",
              "    <tr>\n",
              "      <th>7212</th>\n",
              "      <td>0</td>\n",
              "      <td>3</td>\n",
              "      <td>1</td>\n",
              "      <td>0</td>\n",
              "      <td>0</td>\n",
              "      <td>0</td>\n",
              "      <td>1</td>\n",
              "      <td>0</td>\n",
              "      <td>1</td>\n",
              "      <td>0</td>\n",
              "    </tr>\n",
              "  </tbody>\n",
              "</table>\n",
              "<p>5278 rows × 10 columns</p>\n",
              "</div>"
            ],
            "text/plain": [
              "      age_cat  priors_count  sex_numeric  ...  length_of_stay  race  two_year_recid\n",
              "1           0             0            0  ...               0     1               1\n",
              "2          -1             4            0  ...               0     1               1\n",
              "6           0            14            0  ...               0     0               1\n",
              "8           0             0            1  ...               0     0               0\n",
              "10          0             0            0  ...               0     0               0\n",
              "...       ...           ...          ...  ...             ...   ...             ...\n",
              "7207        0             0            0  ...               0     1               1\n",
              "7208       -1             0            0  ...               0     1               0\n",
              "7209       -1             0            0  ...               0     1               0\n",
              "7210       -1             0            0  ...               0     1               0\n",
              "7212        0             3            1  ...               0     1               0\n",
              "\n",
              "[5278 rows x 10 columns]"
            ]
          },
          "metadata": {},
          "execution_count": 38
        }
      ]
    },
    {
      "cell_type": "code",
      "metadata": {
        "colab": {
          "base_uri": "https://localhost:8080/"
        },
        "id": "ZnUHRpmSRoGx",
        "outputId": "769d89cf-129f-426f-e005-3310604334b1"
      },
      "source": [
        "# Split processed data into train and test (fixed random seed)\n",
        "train_data, test_data = train_test_split(df, test_size=0.2, random_state=0)\n",
        "\n",
        "# Split test data into X and y\n",
        "x_test, y_test = test_data.drop([\"two_year_recid\",\"race\"], axis=1), test_data[\"two_year_recid\"]\n",
        "\n",
        "epsilons = np.linspace(0.5,5,10) # get slow after >=7 \n",
        "\n",
        "try:\n",
        "    # Try to load the dictionary with ten repetitions\n",
        "    COMPAS_fairness_mwem = np.load(\"COMPAS_fairness_mwem.npy\", allow_pickle=True).item()\n",
        "    train_results, test_results = COMPAS_fairness_mwem[\"train_results\"], COMPAS_fairness_mwem[\"test_results\"]\n",
        "except: \n",
        "    test_results, train_results = synthesizer(train_data, test_data, x_test, y_test, epsilons, niteration = 15, synthesizer=\"MWEM\")\n",
        "    np.save(\"COMPAS_fairness_mwem.npy\", {\"train_results\": train_results, \"test_results\": test_results})\n",
        "\n",
        "print(test_results, train_results)"
      ],
      "execution_count": 41,
      "outputs": [
        {
          "output_type": "stream",
          "name": "stdout",
          "text": [
            "[[[0.5070982396365702, 0.4639658848614073, 0.5360341151385927, 0.49290176036342986, 0.5120580808080808], [0.5172413793103449, 0.45544554455445546, 0.5445544554455446, 0.4827586206896552, 0.5128617363344051], [0.49502487562189046, 0.4795180722891566, 0.5204819277108435, 0.5049751243781094, 0.5109062980030722]], [[0.5453719477569564, 0.39758351101634687, 0.6024164889836532, 0.4546280522430437, 0.5202651515151515], [0.5682340647857889, 0.38173817381738173, 0.6182618261826183, 0.4317659352142111, 0.5226152197213291], [0.5181592039800996, 0.42650602409638555, 0.5734939759036145, 0.4818407960199005, 0.5168970814132104]], [[0.46042021578648495, 0.5094527363184079, 0.49054726368159196, 0.539579784213515, 0.5178030303030303], [0.47753396029258105, 0.5016501650165016, 0.49834983498349833, 0.5224660397074191, 0.5107181136120043], [0.4400497512437811, 0.5236947791164659, 0.4763052208835341, 0.5599502487562189, 0.5279569892473118]], [[0.21215218625780807, 0.7489694385216774, 0.2510305614783227, 0.787847813742192, 0.5494318181818182], [0.2271682340647858, 0.7324532453245324, 0.26754675467546757, 0.7728317659352143, 0.5266881028938907], [0.19427860696517416, 0.7791164658634538, 0.22088353413654618, 0.8057213930348258, 0.5820276497695852]], [[0.31538898353208406, 0.6398009950248756, 0.3601990049751243, 0.6846110164679159, 0.540530303030303], [0.3366771159874608, 0.621122112211221, 0.37887788778877884, 0.6633228840125392, 0.52475884244373], [0.29004975124378113, 0.6738955823293172, 0.3261044176706827, 0.7099502487562189, 0.5631336405529953]], [[0.3231118682566723, 0.6231698649609096, 0.3768301350390903, 0.6768881317433276, 0.5436237373737374], [0.3446185997910136, 0.6039603960396039, 0.3960396039603961, 0.6553814002089865, 0.5290460878885316], [0.29751243781094533, 0.6582329317269077, 0.3417670682730924, 0.7024875621890548, 0.564516129032258]], [[0.3309483248154457, 0.6024164889836532, 0.39758351101634687, 0.6690516751845541, 0.5484848484848486], [0.3517241379310345, 0.5837183718371838, 0.41628162816281633, 0.6482758620689656, 0.5352625937834942], [0.3062189054726368, 0.6365461847389559, 0.3634538152610442, 0.6937810945273633, 0.5674347158218126]], [[0.34071550255536626, 0.605543710021322, 0.39445628997867804, 0.6592844974446337, 0.5416666666666667], [0.36175548589341694, 0.5953795379537953, 0.40462046204620467, 0.6382445141065831, 0.5244372990353697], [0.3156716417910448, 0.6240963855421687, 0.3759036144578313, 0.6843283582089551, 0.5663594470046083]], [[0.3373083475298126, 0.613503909026297, 0.3864960909737029, 0.6626916524701875, 0.5400252525252526], [0.36280041797283175, 0.596039603960396, 0.40396039603960404, 0.6371995820271683, 0.5235798499464094], [0.30696517412935326, 0.6453815261044177, 0.35461847389558226, 0.6930348258706468, 0.563594470046083]], [[0.2991482112436116, 0.6479033404406539, 0.35209665955934605, 0.7008517887563884, 0.5459595959595959], [0.3212121212121212, 0.6336633663366337, 0.3663366336633664, 0.6787878787878787, 0.5265809217577706], [0.2728855721393035, 0.6738955823293172, 0.3261044176706827, 0.7271144278606965, 0.5737327188940092]]] [[[0.4064788872153891, 0.5330579497750002, 0.46694205022499974, 0.5935211127846108, 0.5421601136901941], [0.42040308597535364, 0.5165693848907634, 0.4834306151092366, 0.5795969140246465, 0.5437629377586526], [0.38892885471110866, 0.5569220777971496, 0.4430779222028504, 0.6110711452888913, 0.5404474053020096]], [[0.44433391284185836, 0.4948078880745868, 0.5051921119254131, 0.5556660871581417, 0.5373124901310596], [0.4599418142357145, 0.4871130536049539, 0.5128869463950462, 0.5400581857642857, 0.5282037758598087], [0.42486949804751717, 0.5089502873758628, 0.49104971262413716, 0.5751305019524828, 0.5502654529013246]], [[0.25780411341291704, 0.7092934128002352, 0.2907065871997648, 0.7421958865870829, 0.5356860887415127], [0.2638838977930617, 0.7007690222101841, 0.2992309777898159, 0.7361161022069385, 0.5183687957302705], [0.24962794396454982, 0.7232582957214474, 0.2767417042785525, 0.7503720560354502, 0.5603428637456004]], [[0.3050541802479633, 0.6374663525730658, 0.3625336474269341, 0.6949458197520366, 0.5410074214432338], [0.31773469106376867, 0.6221254676316118, 0.3778745323683883, 0.6822653089362314, 0.5306047528235167], [0.28981518191903094, 0.6632279190779783, 0.33677208092202165, 0.7101848180809691, 0.5563976558234399]], [[0.3336471889894499, 0.6115897984629118, 0.3884102015370882, 0.6663528110105502, 0.5438180956892468], [0.34523754841043636, 0.5991616503001126, 0.40083834969988735, 0.6547624515895636, 0.5343339428735994], [0.3192128187330355, 0.6327441714428309, 0.36725582855716904, 0.6807871812669645, 0.5567568452947161]], [[0.2714551353803669, 0.6689029018791622, 0.3310970981208378, 0.7285448646196331, 0.5422232749092059], [0.28566086078099856, 0.659733068564337, 0.340266931435663, 0.7143391392190015, 0.5227956681406004], [0.25433038339217773, 0.6842523999975564, 0.3157476000024435, 0.7456696166078224, 0.5710604199325386]], [[0.3428186999801748, 0.5798136909581441, 0.420186309041856, 0.6571813000198252, 0.5483972840675825], [0.36536167845195133, 0.5601588822510118, 0.4398411177489881, 0.6346383215480488, 0.5416128420679417], [0.3137187406992104, 0.6132146875878367, 0.38678531241216324, 0.6862812593007895, 0.5582414168549236]], [[0.2887162991810713, 0.641107186728587, 0.35889281327141304, 0.7112837008189287, 0.5503079109426813], [0.3044318873269624, 0.6238409957414238, 0.3761590042585761, 0.6955681126730378, 0.5356126811636122], [0.27026760374221404, 0.6709065150242962, 0.3290934849757037, 0.729732396257786, 0.5710737671875981]], [[0.3363653162315326, 0.5826175636597893, 0.4173824363402107, 0.6636346837684673, 0.5505131849044687], [0.3533127177012893, 0.5672267306202715, 0.43277326937972854, 0.6466872822987108, 0.5393486767566544], [0.3159333284619723, 0.6086253166766747, 0.3913746833233251, 0.6840666715380276, 0.5665566968162062]], [[0.24932215816791506, 0.6923531181318835, 0.3076468818681165, 0.750677841832085, 0.5484446549818411], [0.2627751105087811, 0.6805211142629305, 0.3194788857370694, 0.7372248894912189, 0.5275093826234069], [0.23271383752506672, 0.7128993712272816, 0.28710062877271836, 0.7672861624749331, 0.5784621867974162]]]\n"
          ]
        }
      ]
    },
    {
      "cell_type": "code",
      "metadata": {
        "colab": {
          "base_uri": "https://localhost:8080/"
        },
        "id": "fXaMpiOi46hu",
        "outputId": "274d0ad3-9484-4e4e-90a2-f948c04f4c0b"
      },
      "source": [
        "# test_results and train_results are list of list of list. The most outer list is based on different epsilon, \n",
        "# like [epsilon=0.5, epsilon=1, epsilon = 1.5, ...] \n",
        "# The middle list has three lists inside and they are in ther order of [overall, black, white] \n",
        "# The inner list has five values inside and they are [FPR, FNR, TPR, TNR, accuracy]\n",
        "\n",
        "print(len(test_results))\n",
        "print(len(test_results[0]))\n",
        "print(len(test_results[0][0]))"
      ],
      "execution_count": 42,
      "outputs": [
        {
          "output_type": "stream",
          "name": "stdout",
          "text": [
            "10\n",
            "3\n",
            "5\n"
          ]
        }
      ]
    },
    {
      "cell_type": "code",
      "metadata": {
        "id": "mJ6bk-j49R2-",
        "colab": {
          "base_uri": "https://localhost:8080/",
          "height": 311
        },
        "outputId": "9630a6d2-1aba-47e5-ff13-e1253c4ce840"
      },
      "source": [
        "f = plt.figure(figsize=(16,4))\n",
        "ax = f.add_subplot(121)\n",
        "ax2 = f.add_subplot(122)\n",
        "\n",
        "ax.plot(epsilons,[result[0][0] for result in test_results],label=\"overall\")\n",
        "ax.plot(epsilons,[result[1][0] for result in test_results],label=\"black\")\n",
        "ax.plot(epsilons,[result[2][0] for result in test_results],label=\"white\")\n",
        "ax.legend()\n",
        "ax.set_title(\"Testing: False Positive Rate versus epsilons\")\n",
        "ax.set_ylabel(\"False Positive Rate\")\n",
        "ax.set_xlabel(\"Epsilon\")\n",
        "\n",
        "ax2.plot(epsilons,[result[0][0] for result in train_results],label=\"overall\")\n",
        "ax2.plot(epsilons,[result[1][0] for result in train_results],label=\"black\")\n",
        "ax2.plot(epsilons,[result[2][0] for result in train_results],label=\"white\")\n",
        "ax2.legend()\n",
        "ax2.set_title(\"Training: False Positive Rate versus epsilons\")\n",
        "ax2.set_ylabel(\"False Positive Rate\")\n",
        "ax2.set_xlabel(\"Epsilon\")"
      ],
      "execution_count": 43,
      "outputs": [
        {
          "output_type": "execute_result",
          "data": {
            "text/plain": [
              "Text(0.5, 0, 'Epsilon')"
            ]
          },
          "metadata": {},
          "execution_count": 43
        },
        {
          "output_type": "display_data",
          "data": {
            "image/png": "[encoded data removed]",
            "text/plain": [
              "<Figure size 1152x288 with 2 Axes>"
            ]
          },
          "metadata": {
            "needs_background": "light"
          }
        }
      ]
    },
    {
      "cell_type": "code",
      "metadata": {
        "id": "A16yKV7P-Kr_",
        "colab": {
          "base_uri": "https://localhost:8080/",
          "height": 311
        },
        "outputId": "b42ce459-2273-4a35-c31c-e3d52d17a453"
      },
      "source": [
        "plt.plot(epsilons,[result[0][4] for result in test_results],label=\"testing\")\n",
        "plt.plot(epsilons,[result[0][4] for result in train_results],label=\"training\")\n",
        "plt.legend()\n",
        "plt.title(\"Accuracy versus epsilons\")\n",
        "plt.ylabel(\"Accuracy\")\n",
        "plt.xlabel(\"Epsilon\")"
      ],
      "execution_count": 25,
      "outputs": [
        {
          "output_type": "execute_result",
          "data": {
            "text/plain": [
              "Text(0.5, 0, 'Epsilon')"
            ]
          },
          "metadata": {},
          "execution_count": 25
        },
        {
          "output_type": "display_data",
          "data": {
            "image/png": "[encoded data removed]",
            "text/plain": [
              "<Figure size 432x288 with 1 Axes>"
            ]
          },
          "metadata": {
            "needs_background": "light"
          }
        }
      ]
    },
    {
      "cell_type": "code",
      "metadata": {
        "id": "gCA7mTU9CV2k",
        "colab": {
          "base_uri": "https://localhost:8080/",
          "height": 323
        },
        "outputId": "c9398c4a-e791-43a2-bc23-7c30c0d4b38c"
      },
      "source": [
        "f = plt.figure(figsize=(16,4))\n",
        "ax = f.add_subplot(121)\n",
        "ax2 = f.add_subplot(122)\n",
        "plt.suptitle(\"Equalized odds distances versus epsilons\")\n",
        "\n",
        "# black TPR - white TPR\n",
        "ax.plot(epsilons,[result[1][2]-result[2][2] for result in test_results],label=\"testing TPR diff\")\n",
        "ax.plot(epsilons,[result[1][2]-result[2][2] for result in train_results],label=\"training TPR diff\")\n",
        "ax.hlines(0,xmin=min(epsilons), xmax=max(epsilons),label=\"perfect fairness\",linestyles=\"--\")\n",
        "ax.hlines(0.24133825777,xmin=min(epsilons), xmax=max(epsilons),label=\"non-private TPR diff\",linestyles=\"--\",color=\"red\")\n",
        "ax.legend()\n",
        "ax.set_xlabel(\"Epsilon\")\n",
        "ax.set_ylabel(\"Equalized odds distance\")\n",
        "\n",
        "# black FPR - white FPR\n",
        "ax2.plot(epsilons,[result[1][0]-result[2][0] for result in test_results],label=\"testing FPR diff\")\n",
        "ax2.plot(epsilons,[result[1][0]-result[2][0] for result in train_results],label=\"training FPR diff\")\n",
        "ax2.hlines(0,xmin=min(epsilons), xmax=max(epsilons),label=\"perfect fairness\",linestyles=\"--\")\n",
        "ax2.hlines(0.13450471332,xmin=min(epsilons), xmax=max(epsilons),label=\"non-private FPR diff\",linestyles=\"--\",color=\"red\")\n",
        "ax2.legend()\n",
        "ax2.set_xlabel(\"Epsilon\")\n",
        "ax2.set_ylabel(\"Equalized odds distance\")"
      ],
      "execution_count": 26,
      "outputs": [
        {
          "output_type": "execute_result",
          "data": {
            "text/plain": [
              "Text(0, 0.5, 'Equalized odds distance')"
            ]
          },
          "metadata": {},
          "execution_count": 26
        },
        {
          "output_type": "display_data",
          "data": {
            "image/png": "[encoded data removed]",
            "text/plain": [
              "<Figure size 1152x288 with 2 Axes>"
            ]
          },
          "metadata": {
            "needs_background": "light"
          }
        }
      ]
    }
  ]
}