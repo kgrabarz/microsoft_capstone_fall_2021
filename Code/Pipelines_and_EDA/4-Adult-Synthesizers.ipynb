{
 "cells": [
  {
   "cell_type": "code",
   "metadata": {
    "cell_id": "00000-8d8818f2-be0c-4a4a-941e-a00cb6395cd4",
    "deepnote_to_be_reexecuted": false,
    "source_hash": "973bb74b",
    "execution_start": 1634153075478,
    "execution_millis": 2894,
    "deepnote_cell_type": "code"
   },
   "source": "import numpy as np\nimport pandas as pd\nimport matplotlib.pyplot as plt\nimport seaborn as sns\nfrom sklearn.preprocessing import MinMaxScaler\nfrom sklearn.model_selection import train_test_split\nfrom sklearn.linear_model import LogisticRegression\nfrom sklearn.metrics import classification_report",
   "outputs": [],
   "execution_count": null
  },
  {
   "cell_type": "code",
   "metadata": {
    "cell_id": "00001-217b4f3c-a33e-4e9f-bff6-c81e4508e1a8",
    "deepnote_to_be_reexecuted": false,
    "source_hash": "9a88f86a",
    "execution_start": 1634165147989,
    "execution_millis": 8,
    "deepnote_cell_type": "code"
   },
   "source": "# from opendp.smartnoise.synthesizers.mwem import MWEMSynthesizer\nfrom snsynth import MWEMSynthesizer\nfrom snsynth import QUAILSynthesizer\nfrom snsynth.pytorch import PytorchDPSynthesizer\nfrom snsynth.pytorch.nn import DPCTGAN\n\nfrom diffprivlib.models import LogisticRegression as DPLR\n\n# from opendp.smartnoise.synthesizers.quail import QUAILSynthesizer\n\n# from opendp.smartnoise.synthesizers.pytorch.pytorch_synthesizer import PytorchDPSynthesizer\n# from opendp.smartnoise.synthesizers.preprocessors.preprocessing import GeneralTransformer\n# from opendp.smartnoise.synthesizers.pytorch.nn.dpctgan import DPCTGAN\n# from opendp.smartnoise.synthesizers.pytorch.nn.patectgan import PATECTGAN",
   "outputs": [],
   "execution_count": null
  },
  {
   "cell_type": "markdown",
   "source": "# 4.1. Adult dataset\n\n## 4.1.1 Non-private data processing",
   "metadata": {
    "cell_id": "00004-2384c0d2-f177-48ec-ac0a-1f5558ba7706",
    "deepnote_cell_type": "markdown"
   }
  },
  {
   "cell_type": "code",
   "metadata": {
    "cell_id": "00005-f2fed029-b030-4892-bddc-7f738fcaf81c",
    "deepnote_to_be_reexecuted": false,
    "source_hash": "45a1dee2",
    "execution_start": 1634153594602,
    "execution_millis": 1596,
    "deepnote_cell_type": "code"
   },
   "source": "# Read in the original data\nadult_cols = ['age','workclass', 'fnlwgt', 'education', 'education_num', 'marital', \n              'occupation', 'relationship', 'race', 'sex', 'capital_gain', 'capital_loss',\n              'hours_week', 'native_country', 'label']\nadult_path = 'https://archive.ics.uci.edu/ml/machine-learning-databases/adult/adult.data'\nadult_data = pd.read_csv(adult_path, skipinitialspace=True, names=adult_cols, index_col=False)\nadult_data.head()",
   "outputs": [
    {
     "output_type": "execute_result",
     "execution_count": 8,
     "data": {
      "application/vnd.deepnote.dataframe.v2+json": {
       "row_count": 5,
       "column_count": 15,
       "columns": [
        {
         "name": "age",
         "dtype": "int64",
         "stats": {
          "unique_count": 5,
          "nan_count": 0,
          "min": "28",
          "max": "53",
          "histogram": [
           {
            "bin_start": 28,
            "bin_end": 30.5,
            "count": 1
           },
           {
            "bin_start": 30.5,
            "bin_end": 33,
            "count": 0
           },
           {
            "bin_start": 33,
            "bin_end": 35.5,
            "count": 0
           },
           {
            "bin_start": 35.5,
            "bin_end": 38,
            "count": 0
           },
           {
            "bin_start": 38,
            "bin_end": 40.5,
            "count": 2
           },
           {
            "bin_start": 40.5,
            "bin_end": 43,
            "count": 0
           },
           {
            "bin_start": 43,
            "bin_end": 45.5,
            "count": 0
           },
           {
            "bin_start": 45.5,
            "bin_end": 48,
            "count": 0
           },
           {
            "bin_start": 48,
            "bin_end": 50.5,
            "count": 1
           },
           {
            "bin_start": 50.5,
            "bin_end": 53,
            "count": 1
           }
          ]
         }
        },
        {
         "name": "workclass",
         "dtype": "object",
         "stats": {
          "unique_count": 3,
          "nan_count": 0,
          "categories": [
           {
            "name": "Private",
            "count": 3
           },
           {
            "name": "State-gov",
            "count": 1
           },
           {
            "name": "Self-emp-not-inc",
            "count": 1
           }
          ]
         }
        },
        {
         "name": "fnlwgt",
         "dtype": "int64",
         "stats": {
          "unique_count": 5,
          "nan_count": 0,
          "min": "77516",
          "max": "338409",
          "histogram": [
           {
            "bin_start": 77516,
            "bin_end": 103605.3,
            "count": 2
           },
           {
            "bin_start": 103605.3,
            "bin_end": 129694.6,
            "count": 0
           },
           {
            "bin_start": 129694.6,
            "bin_end": 155783.9,
            "count": 0
           },
           {
            "bin_start": 155783.9,
            "bin_end": 181873.2,
            "count": 0
           },
           {
            "bin_start": 181873.2,
            "bin_end": 207962.5,
            "count": 0
           },
           {
            "bin_start": 207962.5,
            "bin_end": 234051.8,
            "count": 1
           },
           {
            "bin_start": 234051.8,
            "bin_end": 260141.1,
            "count": 1
           },
           {
            "bin_start": 260141.1,
            "bin_end": 286230.4,
            "count": 0
           },
           {
            "bin_start": 286230.4,
            "bin_end": 312319.69999999995,
            "count": 0
           },
           {
            "bin_start": 312319.69999999995,
            "bin_end": 338409,
            "count": 1
           }
          ]
         }
        },
        {
         "name": "education",
         "dtype": "object",
         "stats": {
          "unique_count": 3,
          "nan_count": 0,
          "categories": [
           {
            "name": "Bachelors",
            "count": 3
           },
           {
            "name": "HS-grad",
            "count": 1
           },
           {
            "name": "11th",
            "count": 1
           }
          ]
         }
        },
        {
         "name": "education_num",
         "dtype": "int64",
         "stats": {
          "unique_count": 3,
          "nan_count": 0,
          "min": "7",
          "max": "13",
          "histogram": [
           {
            "bin_start": 7,
            "bin_end": 7.6,
            "count": 1
           },
           {
            "bin_start": 7.6,
            "bin_end": 8.2,
            "count": 0
           },
           {
            "bin_start": 8.2,
            "bin_end": 8.8,
            "count": 0
           },
           {
            "bin_start": 8.8,
            "bin_end": 9.4,
            "count": 1
           },
           {
            "bin_start": 9.4,
            "bin_end": 10,
            "count": 0
           },
           {
            "bin_start": 10,
            "bin_end": 10.6,
            "count": 0
           },
           {
            "bin_start": 10.6,
            "bin_end": 11.2,
            "count": 0
           },
           {
            "bin_start": 11.2,
            "bin_end": 11.8,
            "count": 0
           },
           {
            "bin_start": 11.8,
            "bin_end": 12.399999999999999,
            "count": 0
           },
           {
            "bin_start": 12.399999999999999,
            "bin_end": 13,
            "count": 3
           }
          ]
         }
        },
        {
         "name": "marital",
         "dtype": "object",
         "stats": {
          "unique_count": 3,
          "nan_count": 0,
          "categories": [
           {
            "name": "Married-civ-spouse",
            "count": 3
           },
           {
            "name": "Never-married",
            "count": 1
           },
           {
            "name": "Divorced",
            "count": 1
           }
          ]
         }
        },
        {
         "name": "occupation",
         "dtype": "object",
         "stats": {
          "unique_count": 4,
          "nan_count": 0,
          "categories": [
           {
            "name": "Handlers-cleaners",
            "count": 2
           },
           {
            "name": "Adm-clerical",
            "count": 1
           },
           {
            "name": "2 others",
            "count": 2
           }
          ]
         }
        },
        {
         "name": "relationship",
         "dtype": "object",
         "stats": {
          "unique_count": 3,
          "nan_count": 0,
          "categories": [
           {
            "name": "Not-in-family",
            "count": 2
           },
           {
            "name": "Husband",
            "count": 2
           },
           {
            "name": "Wife",
            "count": 1
           }
          ]
         }
        },
        {
         "name": "race",
         "dtype": "object",
         "stats": {
          "unique_count": 2,
          "nan_count": 0,
          "categories": [
           {
            "name": "White",
            "count": 3
           },
           {
            "name": "Black",
            "count": 2
           }
          ]
         }
        },
        {
         "name": "sex",
         "dtype": "object",
         "stats": {
          "unique_count": 2,
          "nan_count": 0,
          "categories": [
           {
            "name": "Male",
            "count": 4
           },
           {
            "name": "Female",
            "count": 1
           }
          ]
         }
        },
        {
         "name": "capital_gain",
         "dtype": "int64",
         "stats": {
          "unique_count": 2,
          "nan_count": 0,
          "min": "0",
          "max": "2174",
          "histogram": [
           {
            "bin_start": 0,
            "bin_end": 217.4,
            "count": 4
           },
           {
            "bin_start": 217.4,
            "bin_end": 434.8,
            "count": 0
           },
           {
            "bin_start": 434.8,
            "bin_end": 652.2,
            "count": 0
           },
           {
            "bin_start": 652.2,
            "bin_end": 869.6,
            "count": 0
           },
           {
            "bin_start": 869.6,
            "bin_end": 1087,
            "count": 0
           },
           {
            "bin_start": 1087,
            "bin_end": 1304.4,
            "count": 0
           },
           {
            "bin_start": 1304.4,
            "bin_end": 1521.8,
            "count": 0
           },
           {
            "bin_start": 1521.8,
            "bin_end": 1739.2,
            "count": 0
           },
           {
            "bin_start": 1739.2,
            "bin_end": 1956.6000000000001,
            "count": 0
           },
           {
            "bin_start": 1956.6000000000001,
            "bin_end": 2174,
            "count": 1
           }
          ]
         }
        },
        {
         "name": "capital_loss",
         "dtype": "int64",
         "stats": {
          "unique_count": 1,
          "nan_count": 0,
          "min": "0",
          "max": "0",
          "histogram": [
           {
            "bin_start": -0.5,
            "bin_end": -0.4,
            "count": 0
           },
           {
            "bin_start": -0.4,
            "bin_end": -0.3,
            "count": 0
           },
           {
            "bin_start": -0.3,
            "bin_end": -0.19999999999999996,
            "count": 0
           },
           {
            "bin_start": -0.19999999999999996,
            "bin_end": -0.09999999999999998,
            "count": 0
           },
           {
            "bin_start": -0.09999999999999998,
            "bin_end": 0,
            "count": 0
           },
           {
            "bin_start": 0,
            "bin_end": 0.10000000000000009,
            "count": 5
           },
           {
            "bin_start": 0.10000000000000009,
            "bin_end": 0.20000000000000007,
            "count": 0
           },
           {
            "bin_start": 0.20000000000000007,
            "bin_end": 0.30000000000000004,
            "count": 0
           },
           {
            "bin_start": 0.30000000000000004,
            "bin_end": 0.4,
            "count": 0
           },
           {
            "bin_start": 0.4,
            "bin_end": 0.5,
            "count": 0
           }
          ]
         }
        },
        {
         "name": "hours_week",
         "dtype": "int64",
         "stats": {
          "unique_count": 2,
          "nan_count": 0,
          "min": "13",
          "max": "40",
          "histogram": [
           {
            "bin_start": 13,
            "bin_end": 15.7,
            "count": 1
           },
           {
            "bin_start": 15.7,
            "bin_end": 18.4,
            "count": 0
           },
           {
            "bin_start": 18.4,
            "bin_end": 21.1,
            "count": 0
           },
           {
            "bin_start": 21.1,
            "bin_end": 23.8,
            "count": 0
           },
           {
            "bin_start": 23.8,
            "bin_end": 26.5,
            "count": 0
           },
           {
            "bin_start": 26.5,
            "bin_end": 29.200000000000003,
            "count": 0
           },
           {
            "bin_start": 29.200000000000003,
            "bin_end": 31.900000000000002,
            "count": 0
           },
           {
            "bin_start": 31.900000000000002,
            "bin_end": 34.6,
            "count": 0
           },
           {
            "bin_start": 34.6,
            "bin_end": 37.3,
            "count": 0
           },
           {
            "bin_start": 37.3,
            "bin_end": 40,
            "count": 4
           }
          ]
         }
        },
        {
         "name": "native_country",
         "dtype": "object",
         "stats": {
          "unique_count": 2,
          "nan_count": 0,
          "categories": [
           {
            "name": "United-States",
            "count": 4
           },
           {
            "name": "Cuba",
            "count": 1
           }
          ]
         }
        },
        {
         "name": "label",
         "dtype": "object",
         "stats": {
          "unique_count": 1,
          "nan_count": 0,
          "categories": [
           {
            "name": "<=50K",
            "count": 5
           }
          ]
         }
        },
        {
         "name": "_deepnote_index_column",
         "dtype": "int64"
        }
       ],
       "rows_top": [
        {
         "age": 39,
         "workclass": "State-gov",
         "fnlwgt": 77516,
         "education": "Bachelors",
         "education_num": 13,
         "marital": "Never-married",
         "occupation": "Adm-clerical",
         "relationship": "Not-in-family",
         "race": "White",
         "sex": "Male",
         "capital_gain": 2174,
         "capital_loss": 0,
         "hours_week": 40,
         "native_country": "United-States",
         "label": "<=50K",
         "_deepnote_index_column": 0
        },
        {
         "age": 50,
         "workclass": "Self-emp-not-inc",
         "fnlwgt": 83311,
         "education": "Bachelors",
         "education_num": 13,
         "marital": "Married-civ-spouse",
         "occupation": "Exec-managerial",
         "relationship": "Husband",
         "race": "White",
         "sex": "Male",
         "capital_gain": 0,
         "capital_loss": 0,
         "hours_week": 13,
         "native_country": "United-States",
         "label": "<=50K",
         "_deepnote_index_column": 1
        },
        {
         "age": 38,
         "workclass": "Private",
         "fnlwgt": 215646,
         "education": "HS-grad",
         "education_num": 9,
         "marital": "Divorced",
         "occupation": "Handlers-cleaners",
         "relationship": "Not-in-family",
         "race": "White",
         "sex": "Male",
         "capital_gain": 0,
         "capital_loss": 0,
         "hours_week": 40,
         "native_country": "United-States",
         "label": "<=50K",
         "_deepnote_index_column": 2
        },
        {
         "age": 53,
         "workclass": "Private",
         "fnlwgt": 234721,
         "education": "11th",
         "education_num": 7,
         "marital": "Married-civ-spouse",
         "occupation": "Handlers-cleaners",
         "relationship": "Husband",
         "race": "Black",
         "sex": "Male",
         "capital_gain": 0,
         "capital_loss": 0,
         "hours_week": 40,
         "native_country": "United-States",
         "label": "<=50K",
         "_deepnote_index_column": 3
        },
        {
         "age": 28,
         "workclass": "Private",
         "fnlwgt": 338409,
         "education": "Bachelors",
         "education_num": 13,
         "marital": "Married-civ-spouse",
         "occupation": "Prof-specialty",
         "relationship": "Wife",
         "race": "Black",
         "sex": "Female",
         "capital_gain": 0,
         "capital_loss": 0,
         "hours_week": 40,
         "native_country": "Cuba",
         "label": "<=50K",
         "_deepnote_index_column": 4
        }
       ],
       "rows_bottom": null
      },
      "text/plain": "   age         workclass  fnlwgt  education  education_num  \\\n0   39         State-gov   77516  Bachelors             13   \n1   50  Self-emp-not-inc   83311  Bachelors             13   \n2   38           Private  215646    HS-grad              9   \n3   53           Private  234721       11th              7   \n4   28           Private  338409  Bachelors             13   \n\n              marital         occupation   relationship   race     sex  \\\n0       Never-married       Adm-clerical  Not-in-family  White    Male   \n1  Married-civ-spouse    Exec-managerial        Husband  White    Male   \n2            Divorced  Handlers-cleaners  Not-in-family  White    Male   \n3  Married-civ-spouse  Handlers-cleaners        Husband  Black    Male   \n4  Married-civ-spouse     Prof-specialty           Wife  Black  Female   \n\n   capital_gain  capital_loss  hours_week native_country  label  \n0          2174             0          40  United-States  <=50K  \n1             0             0          13  United-States  <=50K  \n2             0             0          40  United-States  <=50K  \n3             0             0          40  United-States  <=50K  \n4             0             0          40           Cuba  <=50K  ",
      "text/html": "<div>\n<style scoped>\n    .dataframe tbody tr th:only-of-type {\n        vertical-align: middle;\n    }\n\n    .dataframe tbody tr th {\n        vertical-align: top;\n    }\n\n    .dataframe thead th {\n        text-align: right;\n    }\n</style>\n<table border=\"1\" class=\"dataframe\">\n  <thead>\n    <tr style=\"text-align: right;\">\n      <th></th>\n      <th>age</th>\n      <th>workclass</th>\n      <th>fnlwgt</th>\n      <th>education</th>\n      <th>education_num</th>\n      <th>marital</th>\n      <th>occupation</th>\n      <th>relationship</th>\n      <th>race</th>\n      <th>sex</th>\n      <th>capital_gain</th>\n      <th>capital_loss</th>\n      <th>hours_week</th>\n      <th>native_country</th>\n      <th>label</th>\n    </tr>\n  </thead>\n  <tbody>\n    <tr>\n      <th>0</th>\n      <td>39</td>\n      <td>State-gov</td>\n      <td>77516</td>\n      <td>Bachelors</td>\n      <td>13</td>\n      <td>Never-married</td>\n      <td>Adm-clerical</td>\n      <td>Not-in-family</td>\n      <td>White</td>\n      <td>Male</td>\n      <td>2174</td>\n      <td>0</td>\n      <td>40</td>\n      <td>United-States</td>\n      <td>&lt;=50K</td>\n    </tr>\n    <tr>\n      <th>1</th>\n      <td>50</td>\n      <td>Self-emp-not-inc</td>\n      <td>83311</td>\n      <td>Bachelors</td>\n      <td>13</td>\n      <td>Married-civ-spouse</td>\n      <td>Exec-managerial</td>\n      <td>Husband</td>\n      <td>White</td>\n      <td>Male</td>\n      <td>0</td>\n      <td>0</td>\n      <td>13</td>\n      <td>United-States</td>\n      <td>&lt;=50K</td>\n    </tr>\n    <tr>\n      <th>2</th>\n      <td>38</td>\n      <td>Private</td>\n      <td>215646</td>\n      <td>HS-grad</td>\n      <td>9</td>\n      <td>Divorced</td>\n      <td>Handlers-cleaners</td>\n      <td>Not-in-family</td>\n      <td>White</td>\n      <td>Male</td>\n      <td>0</td>\n      <td>0</td>\n      <td>40</td>\n      <td>United-States</td>\n      <td>&lt;=50K</td>\n    </tr>\n    <tr>\n      <th>3</th>\n      <td>53</td>\n      <td>Private</td>\n      <td>234721</td>\n      <td>11th</td>\n      <td>7</td>\n      <td>Married-civ-spouse</td>\n      <td>Handlers-cleaners</td>\n      <td>Husband</td>\n      <td>Black</td>\n      <td>Male</td>\n      <td>0</td>\n      <td>0</td>\n      <td>40</td>\n      <td>United-States</td>\n      <td>&lt;=50K</td>\n    </tr>\n    <tr>\n      <th>4</th>\n      <td>28</td>\n      <td>Private</td>\n      <td>338409</td>\n      <td>Bachelors</td>\n      <td>13</td>\n      <td>Married-civ-spouse</td>\n      <td>Prof-specialty</td>\n      <td>Wife</td>\n      <td>Black</td>\n      <td>Female</td>\n      <td>0</td>\n      <td>0</td>\n      <td>40</td>\n      <td>Cuba</td>\n      <td>&lt;=50K</td>\n    </tr>\n  </tbody>\n</table>\n</div>"
     },
     "metadata": {}
    }
   ],
   "execution_count": null
  },
  {
   "cell_type": "code",
   "metadata": {
    "cell_id": "00006-f0d98e1f-587e-4d40-9fcd-83b36c2d7fa6",
    "deepnote_to_be_reexecuted": false,
    "source_hash": "7ddc5282",
    "execution_start": 1634153604163,
    "execution_millis": 13,
    "deepnote_cell_type": "code"
   },
   "source": "workclass = {\n    0:\"Private\",\n    -1:\"Self-emp-not-inc\",\n    1:\"Local-gov\",\n    -2:\"State-gov\",\n    2:\"Self-emp-inc\",\n    -3:\"Federal-gov\",\n    3:\"Without-pay\",\n    -4:\"Never-worked\"\n}\n\neducation = {\n    0:\"HS-grad\",\n    -1:\"Some-college\",\n    1:\"Bachelors\",\n    -2:\"Masters\",\n    2:\"Assoc-voc\",\n    -3:\"11th\",\n    3:\"Assoc-acdm\",\n    -4:\"10th\",\n    4:\"7th-8th\",\n    -5:\"Prof-school\",\n    5:\"9th\",\n    -6:\"12th\",\n    6:\"Doctorate\",\n    -7:\"5th-6th\",\n    7:\"1st-4th\",\n    -8:\"Preschool\"\n}\n\noccupation = {\n    0:\"Prof-specialty\",\n    -1:\"Craft-repair\",\n    1:\"Exec-managerial\",\n    -2:\"Adm-clerical\",\n    2:\"Sales\",\n    -3:\"Other-service\",\n    3:\"Machine-op-inspct\",\n    -4:\"Transport-moving\",\n    4:\"Handlers-cleaners\",\n    -5:\"Farming-fishing\",\n    5:\"Tech-support\",\n    -6:\"Protective-serv\",\n    6:\"Priv-house-serv\",\n    -7:\"Armed-Forces\"\n}\n\nrelationship = {\n    0:\"Husband\",\n    -1:\"Not-in-family\",\n    1:\"Own-child\",\n    -2:\"Unmarried\",\n    2:\"Wife\",\n    -3:\"Other-relative\"\n}\n\nrace = {\n    0:\"White\",\n    -1:\"Black\",\n    1:\"Asian-Pac-Islander\",\n    -2:\"Amer-Indian-Eskimo\",\n    2:\"Other\"\n}",
   "outputs": [],
   "execution_count": null
  },
  {
   "cell_type": "code",
   "metadata": {
    "cell_id": "00007-395a2ac9-adb7-40a7-b10f-6351aecc595b",
    "deepnote_to_be_reexecuted": false,
    "source_hash": "323d56d1",
    "execution_start": 1634153607166,
    "execution_millis": 15,
    "deepnote_cell_type": "code"
   },
   "source": "def process_adult(df):\n\n    # Remove fnlwgt and native_country column \n    df = df.drop([\"fnlwgt\", \"native_country\", \"capital_gain\", \"capital_loss\", \"marital\"], axis=1)\n    \n    # Remove missing values\n    df = df[~df.eq(\"?\").any(1)]\n    \n    # Normalize the numerical features\n    #numerical_features = [\"age\", \"education_num\", \"hours_week\"]\n    #scaler = MinMaxScaler()\n    #df[numerical_features] = scaler.fit_transform(df[numerical_features])\n    \n    # Encode the categorical features\n    categorical_features = [\"workclass\", \"education\", \"occupation\", \"relationship\", \"race\"]\n    df[\"workclass\"] = df[\"workclass\"].map({v: k for k, v in workclass.items()})\n    df[\"education\"] = df[\"education\"].map({v: k for k, v in education.items()})\n    df[\"occupation\"] = df[\"occupation\"].map({v: k for k, v in occupation.items()})\n    df[\"relationship\"] = df[\"relationship\"].map({v: k for k, v in relationship.items()})\n    df[\"race\"] = df[\"race\"].map({v: k for k, v in race.items()})\n    \n    # Keep separate variabels with labels of outcome + protected classes for downstream plots, tables, etc\n    df[\"gender_labs\"] = df[\"sex\"]\n    df[\"over_under_50k\"] = df[\"label\"]\n    \n    # Map binary features to 0/1\n    df[\"sex\"] = df[\"sex\"].map({\"Female\":0, \"Male\":1})\n    df[\"label\"] = df[\"label\"].map({\"<=50K\":0, \">50K\":1})\n\n    return df",
   "outputs": [],
   "execution_count": null
  },
  {
   "cell_type": "code",
   "metadata": {
    "cell_id": "00008-b9cb5ebe-14e3-4f70-902b-49c2f96db4c6",
    "deepnote_to_be_reexecuted": false,
    "source_hash": "85cfbbee",
    "execution_start": 1634156194704,
    "execution_millis": 430,
    "deepnote_cell_type": "code"
   },
   "source": "# Get the processed adult data\nprocessed_adult = process_adult(adult_data)\nprocessed_adult",
   "outputs": [
    {
     "output_type": "execute_result",
     "execution_count": 25,
     "data": {
      "application/vnd.deepnote.dataframe.v2+json": {
       "row_count": 30718,
       "column_count": 12,
       "columns": [
        {
         "name": "age",
         "dtype": "int64",
         "stats": {
          "unique_count": 72,
          "nan_count": 0,
          "min": "17",
          "max": "90",
          "histogram": [
           {
            "bin_start": 17,
            "bin_end": 24.3,
            "count": 4932
           },
           {
            "bin_start": 24.3,
            "bin_end": 31.6,
            "count": 5686
           },
           {
            "bin_start": 31.6,
            "bin_end": 38.9,
            "count": 5890
           },
           {
            "bin_start": 38.9,
            "bin_end": 46.2,
            "count": 6056
           },
           {
            "bin_start": 46.2,
            "bin_end": 53.5,
            "count": 3862
           },
           {
            "bin_start": 53.5,
            "bin_end": 60.8,
            "count": 2453
           },
           {
            "bin_start": 60.8,
            "bin_end": 68.1,
            "count": 1304
           },
           {
            "bin_start": 68.1,
            "bin_end": 75.4,
            "count": 363
           },
           {
            "bin_start": 75.4,
            "bin_end": 82.7,
            "count": 116
           },
           {
            "bin_start": 82.7,
            "bin_end": 90,
            "count": 56
           }
          ]
         }
        },
        {
         "name": "workclass",
         "dtype": "int64",
         "stats": {
          "unique_count": 7,
          "nan_count": 0,
          "min": "-3",
          "max": "3",
          "histogram": [
           {
            "bin_start": -3,
            "bin_end": -2.4,
            "count": 960
           },
           {
            "bin_start": -2.4,
            "bin_end": -1.8,
            "count": 1298
           },
           {
            "bin_start": -1.8,
            "bin_end": -1.2000000000000002,
            "count": 0
           },
           {
            "bin_start": -1.2000000000000002,
            "bin_end": -0.6000000000000001,
            "count": 2541
           },
           {
            "bin_start": -0.6000000000000001,
            "bin_end": 0,
            "count": 0
           },
           {
            "bin_start": 0,
            "bin_end": 0.5999999999999996,
            "count": 22696
           },
           {
            "bin_start": 0.5999999999999996,
            "bin_end": 1.2000000000000002,
            "count": 2093
           },
           {
            "bin_start": 1.2000000000000002,
            "bin_end": 1.7999999999999998,
            "count": 0
           },
           {
            "bin_start": 1.7999999999999998,
            "bin_end": 2.3999999999999995,
            "count": 1116
           },
           {
            "bin_start": 2.3999999999999995,
            "bin_end": 3,
            "count": 14
           }
          ]
         }
        },
        {
         "name": "education",
         "dtype": "int64",
         "stats": {
          "unique_count": 16,
          "nan_count": 0,
          "min": "-8",
          "max": "7",
          "histogram": [
           {
            "bin_start": -8,
            "bin_end": -6.5,
            "count": 349
           },
           {
            "bin_start": -6.5,
            "bin_end": -5,
            "count": 393
           },
           {
            "bin_start": -5,
            "bin_end": -3.5,
            "count": 1389
           },
           {
            "bin_start": -3.5,
            "bin_end": -2,
            "count": 1056
           },
           {
            "bin_start": -2,
            "bin_end": -0.5,
            "count": 8450
           },
           {
            "bin_start": -0.5,
            "bin_end": 1,
            "count": 9968
           },
           {
            "bin_start": 1,
            "bin_end": 2.5,
            "count": 6503
           },
           {
            "bin_start": 2.5,
            "bin_end": 4,
            "count": 1020
           },
           {
            "bin_start": 4,
            "bin_end": 5.5,
            "count": 1036
           },
           {
            "bin_start": 5.5,
            "bin_end": 7,
            "count": 554
           }
          ]
         }
        },
        {
         "name": "education_num",
         "dtype": "int64"
        },
        {
         "name": "occupation",
         "dtype": "int64"
        },
        {
         "name": "relationship",
         "dtype": "int64"
        },
        {
         "name": "race",
         "dtype": "int64"
        },
        {
         "name": "sex",
         "dtype": "int64"
        },
        {
         "name": "hours_week",
         "dtype": "int64"
        },
        {
         "name": "label",
         "dtype": "int64"
        },
        {
         "name": "gender_labs",
         "dtype": "object"
        },
        {
         "name": "over_under_50k",
         "dtype": "object"
        },
        {
         "name": "_deepnote_index_column",
         "dtype": "int64"
        }
       ],
       "rows_top": [
        {
         "age": 39,
         "workclass": -2,
         "education": 1,
         "education_num": 13,
         "occupation": -2,
         "relationship": -1,
         "race": 0,
         "sex": 1,
         "hours_week": 40,
         "label": 0,
         "gender_labs": "Male",
         "over_under_50k": "<=50K",
         "_deepnote_index_column": 0
        },
        {
         "age": 50,
         "workclass": -1,
         "education": 1,
         "education_num": 13,
         "occupation": 1,
         "relationship": 0,
         "race": 0,
         "sex": 1,
         "hours_week": 13,
         "label": 0,
         "gender_labs": "Male",
         "over_under_50k": "<=50K",
         "_deepnote_index_column": 1
        },
        {
         "age": 38,
         "workclass": 0,
         "education": 0,
         "education_num": 9,
         "occupation": 4,
         "relationship": -1,
         "race": 0,
         "sex": 1,
         "hours_week": 40,
         "label": 0,
         "gender_labs": "Male",
         "over_under_50k": "<=50K",
         "_deepnote_index_column": 2
        },
        {
         "age": 53,
         "workclass": 0,
         "education": -3,
         "education_num": 7,
         "occupation": 4,
         "relationship": 0,
         "race": -1,
         "sex": 1,
         "hours_week": 40,
         "label": 0,
         "gender_labs": "Male",
         "over_under_50k": "<=50K",
         "_deepnote_index_column": 3
        },
        {
         "age": 28,
         "workclass": 0,
         "education": 1,
         "education_num": 13,
         "occupation": 0,
         "relationship": 2,
         "race": -1,
         "sex": 0,
         "hours_week": 40,
         "label": 0,
         "gender_labs": "Female",
         "over_under_50k": "<=50K",
         "_deepnote_index_column": 4
        },
        {
         "age": 37,
         "workclass": 0,
         "education": -2,
         "education_num": 14,
         "occupation": 1,
         "relationship": 2,
         "race": 0,
         "sex": 0,
         "hours_week": 40,
         "label": 0,
         "gender_labs": "Female",
         "over_under_50k": "<=50K",
         "_deepnote_index_column": 5
        },
        {
         "age": 49,
         "workclass": 0,
         "education": 5,
         "education_num": 5,
         "occupation": -3,
         "relationship": -1,
         "race": -1,
         "sex": 0,
         "hours_week": 16,
         "label": 0,
         "gender_labs": "Female",
         "over_under_50k": "<=50K",
         "_deepnote_index_column": 6
        },
        {
         "age": 52,
         "workclass": -1,
         "education": 0,
         "education_num": 9,
         "occupation": 1,
         "relationship": 0,
         "race": 0,
         "sex": 1,
         "hours_week": 45,
         "label": 1,
         "gender_labs": "Male",
         "over_under_50k": ">50K",
         "_deepnote_index_column": 7
        },
        {
         "age": 31,
         "workclass": 0,
         "education": -2,
         "education_num": 14,
         "occupation": 0,
         "relationship": -1,
         "race": 0,
         "sex": 0,
         "hours_week": 50,
         "label": 1,
         "gender_labs": "Female",
         "over_under_50k": ">50K",
         "_deepnote_index_column": 8
        },
        {
         "age": 42,
         "workclass": 0,
         "education": 1,
         "education_num": 13,
         "occupation": 1,
         "relationship": 0,
         "race": 0,
         "sex": 1,
         "hours_week": 40,
         "label": 1,
         "gender_labs": "Male",
         "over_under_50k": ">50K",
         "_deepnote_index_column": 9
        },
        {
         "age": 37,
         "workclass": 0,
         "education": -1,
         "education_num": 10,
         "occupation": 1,
         "relationship": 0,
         "race": -1,
         "sex": 1,
         "hours_week": 80,
         "label": 1,
         "gender_labs": "Male",
         "over_under_50k": ">50K",
         "_deepnote_index_column": 10
        },
        {
         "age": 30,
         "workclass": -2,
         "education": 1,
         "education_num": 13,
         "occupation": 0,
         "relationship": 0,
         "race": 1,
         "sex": 1,
         "hours_week": 40,
         "label": 1,
         "gender_labs": "Male",
         "over_under_50k": ">50K",
         "_deepnote_index_column": 11
        },
        {
         "age": 23,
         "workclass": 0,
         "education": 1,
         "education_num": 13,
         "occupation": -2,
         "relationship": 1,
         "race": 0,
         "sex": 0,
         "hours_week": 30,
         "label": 0,
         "gender_labs": "Female",
         "over_under_50k": "<=50K",
         "_deepnote_index_column": 12
        },
        {
         "age": 32,
         "workclass": 0,
         "education": 3,
         "education_num": 12,
         "occupation": 2,
         "relationship": -1,
         "race": -1,
         "sex": 1,
         "hours_week": 50,
         "label": 0,
         "gender_labs": "Male",
         "over_under_50k": "<=50K",
         "_deepnote_index_column": 13
        },
        {
         "age": 40,
         "workclass": 0,
         "education": 2,
         "education_num": 11,
         "occupation": -1,
         "relationship": 0,
         "race": 1,
         "sex": 1,
         "hours_week": 40,
         "label": 1,
         "gender_labs": "Male",
         "over_under_50k": ">50K",
         "_deepnote_index_column": 14
        },
        {
         "age": 34,
         "workclass": 0,
         "education": 4,
         "education_num": 4,
         "occupation": -4,
         "relationship": 0,
         "race": -2,
         "sex": 1,
         "hours_week": 45,
         "label": 0,
         "gender_labs": "Male",
         "over_under_50k": "<=50K",
         "_deepnote_index_column": 15
        },
        {
         "age": 25,
         "workclass": -1,
         "education": 0,
         "education_num": 9,
         "occupation": -5,
         "relationship": 1,
         "race": 0,
         "sex": 1,
         "hours_week": 35,
         "label": 0,
         "gender_labs": "Male",
         "over_under_50k": "<=50K",
         "_deepnote_index_column": 16
        },
        {
         "age": 32,
         "workclass": 0,
         "education": 0,
         "education_num": 9,
         "occupation": 3,
         "relationship": -2,
         "race": 0,
         "sex": 1,
         "hours_week": 40,
         "label": 0,
         "gender_labs": "Male",
         "over_under_50k": "<=50K",
         "_deepnote_index_column": 17
        },
        {
         "age": 38,
         "workclass": 0,
         "education": -3,
         "education_num": 7,
         "occupation": 2,
         "relationship": 0,
         "race": 0,
         "sex": 1,
         "hours_week": 50,
         "label": 0,
         "gender_labs": "Male",
         "over_under_50k": "<=50K",
         "_deepnote_index_column": 18
        },
        {
         "age": 43,
         "workclass": -1,
         "education": -2,
         "education_num": 14,
         "occupation": 1,
         "relationship": -2,
         "race": 0,
         "sex": 0,
         "hours_week": 45,
         "label": 1,
         "gender_labs": "Female",
         "over_under_50k": ">50K",
         "_deepnote_index_column": 19
        },
        {
         "age": 40,
         "workclass": 0,
         "education": 6,
         "education_num": 16,
         "occupation": 0,
         "relationship": 0,
         "race": 0,
         "sex": 1,
         "hours_week": 60,
         "label": 1,
         "gender_labs": "Male",
         "over_under_50k": ">50K",
         "_deepnote_index_column": 20
        },
        {
         "age": 54,
         "workclass": 0,
         "education": 0,
         "education_num": 9,
         "occupation": -3,
         "relationship": -2,
         "race": -1,
         "sex": 0,
         "hours_week": 20,
         "label": 0,
         "gender_labs": "Female",
         "over_under_50k": "<=50K",
         "_deepnote_index_column": 21
        },
        {
         "age": 35,
         "workclass": -3,
         "education": 5,
         "education_num": 5,
         "occupation": -5,
         "relationship": 0,
         "race": -1,
         "sex": 1,
         "hours_week": 40,
         "label": 0,
         "gender_labs": "Male",
         "over_under_50k": "<=50K",
         "_deepnote_index_column": 22
        },
        {
         "age": 43,
         "workclass": 0,
         "education": -3,
         "education_num": 7,
         "occupation": -4,
         "relationship": 0,
         "race": 0,
         "sex": 1,
         "hours_week": 40,
         "label": 0,
         "gender_labs": "Male",
         "over_under_50k": "<=50K",
         "_deepnote_index_column": 23
        },
        {
         "age": 59,
         "workclass": 0,
         "education": 0,
         "education_num": 9,
         "occupation": 5,
         "relationship": -2,
         "race": 0,
         "sex": 0,
         "hours_week": 40,
         "label": 0,
         "gender_labs": "Female",
         "over_under_50k": "<=50K",
         "_deepnote_index_column": 24
        },
        {
         "age": 56,
         "workclass": 1,
         "education": 1,
         "education_num": 13,
         "occupation": 5,
         "relationship": 0,
         "race": 0,
         "sex": 1,
         "hours_week": 40,
         "label": 1,
         "gender_labs": "Male",
         "over_under_50k": ">50K",
         "_deepnote_index_column": 25
        },
        {
         "age": 19,
         "workclass": 0,
         "education": 0,
         "education_num": 9,
         "occupation": -1,
         "relationship": 1,
         "race": 0,
         "sex": 1,
         "hours_week": 40,
         "label": 0,
         "gender_labs": "Male",
         "over_under_50k": "<=50K",
         "_deepnote_index_column": 26
        },
        {
         "age": 39,
         "workclass": 0,
         "education": 0,
         "education_num": 9,
         "occupation": 1,
         "relationship": -1,
         "race": 0,
         "sex": 1,
         "hours_week": 80,
         "label": 0,
         "gender_labs": "Male",
         "over_under_50k": "<=50K",
         "_deepnote_index_column": 28
        },
        {
         "age": 49,
         "workclass": 0,
         "education": 0,
         "education_num": 9,
         "occupation": -1,
         "relationship": 0,
         "race": 0,
         "sex": 1,
         "hours_week": 40,
         "label": 0,
         "gender_labs": "Male",
         "over_under_50k": "<=50K",
         "_deepnote_index_column": 29
        },
        {
         "age": 23,
         "workclass": 1,
         "education": 3,
         "education_num": 12,
         "occupation": -6,
         "relationship": -1,
         "race": 0,
         "sex": 1,
         "hours_week": 52,
         "label": 0,
         "gender_labs": "Male",
         "over_under_50k": "<=50K",
         "_deepnote_index_column": 30
        },
        {
         "age": 20,
         "workclass": 0,
         "education": -1,
         "education_num": 10,
         "occupation": 2,
         "relationship": 1,
         "race": -1,
         "sex": 1,
         "hours_week": 44,
         "label": 0,
         "gender_labs": "Male",
         "over_under_50k": "<=50K",
         "_deepnote_index_column": 31
        },
        {
         "age": 45,
         "workclass": 0,
         "education": 1,
         "education_num": 13,
         "occupation": 1,
         "relationship": 1,
         "race": 0,
         "sex": 1,
         "hours_week": 40,
         "label": 0,
         "gender_labs": "Male",
         "over_under_50k": "<=50K",
         "_deepnote_index_column": 32
        },
        {
         "age": 30,
         "workclass": -3,
         "education": -1,
         "education_num": 10,
         "occupation": -2,
         "relationship": 1,
         "race": 0,
         "sex": 1,
         "hours_week": 40,
         "label": 0,
         "gender_labs": "Male",
         "over_under_50k": "<=50K",
         "_deepnote_index_column": 33
        },
        {
         "age": 22,
         "workclass": -2,
         "education": -1,
         "education_num": 10,
         "occupation": -3,
         "relationship": 0,
         "race": -1,
         "sex": 1,
         "hours_week": 15,
         "label": 0,
         "gender_labs": "Male",
         "over_under_50k": "<=50K",
         "_deepnote_index_column": 34
        },
        {
         "age": 48,
         "workclass": 0,
         "education": -3,
         "education_num": 7,
         "occupation": 3,
         "relationship": -2,
         "race": 0,
         "sex": 1,
         "hours_week": 40,
         "label": 0,
         "gender_labs": "Male",
         "over_under_50k": "<=50K",
         "_deepnote_index_column": 35
        },
        {
         "age": 21,
         "workclass": 0,
         "education": -1,
         "education_num": 10,
         "occupation": 3,
         "relationship": 1,
         "race": 0,
         "sex": 1,
         "hours_week": 40,
         "label": 0,
         "gender_labs": "Male",
         "over_under_50k": "<=50K",
         "_deepnote_index_column": 36
        },
        {
         "age": 19,
         "workclass": 0,
         "education": 0,
         "education_num": 9,
         "occupation": -2,
         "relationship": 2,
         "race": 0,
         "sex": 0,
         "hours_week": 25,
         "label": 0,
         "gender_labs": "Female",
         "over_under_50k": "<=50K",
         "_deepnote_index_column": 37
        },
        {
         "age": 31,
         "workclass": 0,
         "education": -1,
         "education_num": 10,
         "occupation": 2,
         "relationship": 0,
         "race": 0,
         "sex": 1,
         "hours_week": 38,
         "label": 1,
         "gender_labs": "Male",
         "over_under_50k": ">50K",
         "_deepnote_index_column": 38
        },
        {
         "age": 48,
         "workclass": -1,
         "education": 3,
         "education_num": 12,
         "occupation": 0,
         "relationship": 0,
         "race": 0,
         "sex": 1,
         "hours_week": 40,
         "label": 0,
         "gender_labs": "Male",
         "over_under_50k": "<=50K",
         "_deepnote_index_column": 39
        },
        {
         "age": 31,
         "workclass": 0,
         "education": 5,
         "education_num": 5,
         "occupation": 3,
         "relationship": 0,
         "race": 0,
         "sex": 1,
         "hours_week": 43,
         "label": 0,
         "gender_labs": "Male",
         "over_under_50k": "<=50K",
         "_deepnote_index_column": 40
        },
        {
         "age": 53,
         "workclass": -1,
         "education": 1,
         "education_num": 13,
         "occupation": 0,
         "relationship": 0,
         "race": 0,
         "sex": 1,
         "hours_week": 40,
         "label": 0,
         "gender_labs": "Male",
         "over_under_50k": "<=50K",
         "_deepnote_index_column": 41
        }
       ],
       "rows_bottom": [
        {
         "age": 46,
         "workclass": 0,
         "education": -2,
         "education_num": 14,
         "occupation": 0,
         "relationship": 2,
         "race": 0,
         "sex": 0,
         "hours_week": 22,
         "label": 1,
         "gender_labs": "Female",
         "over_under_50k": ">50K",
         "_deepnote_index_column": 32513
        },
        {
         "age": 40,
         "workclass": 0,
         "education": 2,
         "education_num": 11,
         "occupation": -1,
         "relationship": 0,
         "race": -1,
         "sex": 1,
         "hours_week": 45,
         "label": 0,
         "gender_labs": "Male",
         "over_under_50k": "<=50K",
         "_deepnote_index_column": 32514
        },
        {
         "age": 66,
         "workclass": -3,
         "education": -4,
         "education_num": 6,
         "occupation": -1,
         "relationship": 0,
         "race": 0,
         "sex": 1,
         "hours_week": 40,
         "label": 0,
         "gender_labs": "Male",
         "over_under_50k": "<=50K",
         "_deepnote_index_column": 32515
        },
        {
         "age": 30,
         "workclass": 0,
         "education": 2,
         "education_num": 11,
         "occupation": -2,
         "relationship": -2,
         "race": 0,
         "sex": 0,
         "hours_week": 24,
         "label": 0,
         "gender_labs": "Female",
         "over_under_50k": "<=50K",
         "_deepnote_index_column": 32516
        },
        {
         "age": 36,
         "workclass": 0,
         "education": 4,
         "education_num": 4,
         "occupation": -1,
         "relationship": 0,
         "race": 0,
         "sex": 1,
         "hours_week": 40,
         "label": 0,
         "gender_labs": "Male",
         "over_under_50k": "<=50K",
         "_deepnote_index_column": 32517
        },
        {
         "age": 57,
         "workclass": 1,
         "education": 0,
         "education_num": 9,
         "occupation": -1,
         "relationship": 0,
         "race": 0,
         "sex": 1,
         "hours_week": 40,
         "label": 1,
         "gender_labs": "Male",
         "over_under_50k": ">50K",
         "_deepnote_index_column": 32518
        },
        {
         "age": 46,
         "workclass": 0,
         "education": -1,
         "education_num": 10,
         "occupation": 1,
         "relationship": 0,
         "race": 0,
         "sex": 1,
         "hours_week": 48,
         "label": 1,
         "gender_labs": "Male",
         "over_under_50k": ">50K",
         "_deepnote_index_column": 32519
        },
        {
         "age": 27,
         "workclass": 0,
         "education": 0,
         "education_num": 9,
         "occupation": -3,
         "relationship": -2,
         "race": 0,
         "sex": 0,
         "hours_week": 64,
         "label": 0,
         "gender_labs": "Female",
         "over_under_50k": "<=50K",
         "_deepnote_index_column": 32520
        },
        {
         "age": 33,
         "workclass": 0,
         "education": 0,
         "education_num": 9,
         "occupation": -1,
         "relationship": 0,
         "race": -1,
         "sex": 1,
         "hours_week": 40,
         "label": 0,
         "gender_labs": "Male",
         "over_under_50k": "<=50K",
         "_deepnote_index_column": 32521
        },
        {
         "age": 58,
         "workclass": 0,
         "education": -3,
         "education_num": 7,
         "occupation": 2,
         "relationship": 0,
         "race": 0,
         "sex": 1,
         "hours_week": 40,
         "label": 0,
         "gender_labs": "Male",
         "over_under_50k": "<=50K",
         "_deepnote_index_column": 32522
        },
        {
         "age": 30,
         "workclass": 0,
         "education": 0,
         "education_num": 9,
         "occupation": -4,
         "relationship": -1,
         "race": 0,
         "sex": 1,
         "hours_week": 55,
         "label": 0,
         "gender_labs": "Male",
         "over_under_50k": "<=50K",
         "_deepnote_index_column": 32523
        },
        {
         "age": 26,
         "workclass": 0,
         "education": 3,
         "education_num": 12,
         "occupation": 3,
         "relationship": -3,
         "race": 0,
         "sex": 0,
         "hours_week": 15,
         "label": 0,
         "gender_labs": "Female",
         "over_under_50k": "<=50K",
         "_deepnote_index_column": 32524
        },
        {
         "age": 32,
         "workclass": 0,
         "education": -4,
         "education_num": 6,
         "occupation": -4,
         "relationship": 0,
         "race": 0,
         "sex": 1,
         "hours_week": 40,
         "label": 0,
         "gender_labs": "Male",
         "over_under_50k": "<=50K",
         "_deepnote_index_column": 32526
        },
        {
         "age": 22,
         "workclass": 0,
         "education": -1,
         "education_num": 10,
         "occupation": -2,
         "relationship": 1,
         "race": 0,
         "sex": 1,
         "hours_week": 40,
         "label": 0,
         "gender_labs": "Male",
         "over_under_50k": "<=50K",
         "_deepnote_index_column": 32527
        },
        {
         "age": 31,
         "workclass": 0,
         "education": 0,
         "education_num": 9,
         "occupation": 3,
         "relationship": 2,
         "race": 0,
         "sex": 0,
         "hours_week": 40,
         "label": 0,
         "gender_labs": "Female",
         "over_under_50k": "<=50K",
         "_deepnote_index_column": 32528
        },
        {
         "age": 29,
         "workclass": 0,
         "education": 0,
         "education_num": 9,
         "occupation": 2,
         "relationship": -2,
         "race": 0,
         "sex": 0,
         "hours_week": 35,
         "label": 0,
         "gender_labs": "Female",
         "over_under_50k": "<=50K",
         "_deepnote_index_column": 32529
        },
        {
         "age": 34,
         "workclass": 0,
         "education": 6,
         "education_num": 16,
         "occupation": 0,
         "relationship": 0,
         "race": 0,
         "sex": 1,
         "hours_week": 60,
         "label": 1,
         "gender_labs": "Male",
         "over_under_50k": ">50K",
         "_deepnote_index_column": 32532
        },
        {
         "age": 54,
         "workclass": 0,
         "education": 1,
         "education_num": 13,
         "occupation": 1,
         "relationship": 0,
         "race": 1,
         "sex": 1,
         "hours_week": 50,
         "label": 1,
         "gender_labs": "Male",
         "over_under_50k": ">50K",
         "_deepnote_index_column": 32533
        },
        {
         "age": 37,
         "workclass": 0,
         "education": -1,
         "education_num": 10,
         "occupation": -2,
         "relationship": -2,
         "race": 0,
         "sex": 0,
         "hours_week": 39,
         "label": 0,
         "gender_labs": "Female",
         "over_under_50k": "<=50K",
         "_deepnote_index_column": 32534
        },
        {
         "age": 22,
         "workclass": 0,
         "education": -6,
         "education_num": 8,
         "occupation": -6,
         "relationship": 1,
         "race": -1,
         "sex": 1,
         "hours_week": 35,
         "label": 0,
         "gender_labs": "Male",
         "over_under_50k": "<=50K",
         "_deepnote_index_column": 32535
        },
        {
         "age": 34,
         "workclass": 0,
         "education": 1,
         "education_num": 13,
         "occupation": 1,
         "relationship": -1,
         "race": 0,
         "sex": 0,
         "hours_week": 55,
         "label": 1,
         "gender_labs": "Female",
         "over_under_50k": ">50K",
         "_deepnote_index_column": 32536
        },
        {
         "age": 30,
         "workclass": 0,
         "education": 0,
         "education_num": 9,
         "occupation": -1,
         "relationship": -1,
         "race": -1,
         "sex": 1,
         "hours_week": 46,
         "label": 0,
         "gender_labs": "Male",
         "over_under_50k": "<=50K",
         "_deepnote_index_column": 32537
        },
        {
         "age": 38,
         "workclass": 0,
         "education": 1,
         "education_num": 13,
         "occupation": 0,
         "relationship": -2,
         "race": -1,
         "sex": 0,
         "hours_week": 45,
         "label": 1,
         "gender_labs": "Female",
         "over_under_50k": ">50K",
         "_deepnote_index_column": 32538
        },
        {
         "age": 45,
         "workclass": -2,
         "education": 0,
         "education_num": 9,
         "occupation": -2,
         "relationship": 1,
         "race": 0,
         "sex": 0,
         "hours_week": 40,
         "label": 0,
         "gender_labs": "Female",
         "over_under_50k": "<=50K",
         "_deepnote_index_column": 32540
        },
        {
         "age": 45,
         "workclass": 1,
         "education": 3,
         "education_num": 12,
         "occupation": 0,
         "relationship": -2,
         "race": 0,
         "sex": 0,
         "hours_week": 48,
         "label": 0,
         "gender_labs": "Female",
         "over_under_50k": "<=50K",
         "_deepnote_index_column": 32543
        },
        {
         "age": 31,
         "workclass": 0,
         "education": -2,
         "education_num": 14,
         "occupation": -3,
         "relationship": -1,
         "race": 2,
         "sex": 0,
         "hours_week": 30,
         "label": 0,
         "gender_labs": "Female",
         "over_under_50k": "<=50K",
         "_deepnote_index_column": 32544
        },
        {
         "age": 39,
         "workclass": 1,
         "education": 3,
         "education_num": 12,
         "occupation": -2,
         "relationship": 2,
         "race": 0,
         "sex": 0,
         "hours_week": 20,
         "label": 1,
         "gender_labs": "Female",
         "over_under_50k": ">50K",
         "_deepnote_index_column": 32545
        },
        {
         "age": 37,
         "workclass": 0,
         "education": 3,
         "education_num": 12,
         "occupation": 5,
         "relationship": -1,
         "race": 0,
         "sex": 0,
         "hours_week": 40,
         "label": 0,
         "gender_labs": "Female",
         "over_under_50k": "<=50K",
         "_deepnote_index_column": 32546
        },
        {
         "age": 43,
         "workclass": 0,
         "education": 0,
         "education_num": 9,
         "occupation": 3,
         "relationship": 0,
         "race": 0,
         "sex": 1,
         "hours_week": 40,
         "label": 0,
         "gender_labs": "Male",
         "over_under_50k": "<=50K",
         "_deepnote_index_column": 32547
        },
        {
         "age": 65,
         "workclass": -1,
         "education": -5,
         "education_num": 15,
         "occupation": 0,
         "relationship": -1,
         "race": 0,
         "sex": 1,
         "hours_week": 60,
         "label": 0,
         "gender_labs": "Male",
         "over_under_50k": "<=50K",
         "_deepnote_index_column": 32548
        },
        {
         "age": 43,
         "workclass": -2,
         "education": -1,
         "education_num": 10,
         "occupation": -2,
         "relationship": -3,
         "race": 0,
         "sex": 0,
         "hours_week": 40,
         "label": 0,
         "gender_labs": "Female",
         "over_under_50k": "<=50K",
         "_deepnote_index_column": 32549
        },
        {
         "age": 43,
         "workclass": -1,
         "education": -1,
         "education_num": 10,
         "occupation": -1,
         "relationship": 0,
         "race": 0,
         "sex": 1,
         "hours_week": 50,
         "label": 0,
         "gender_labs": "Male",
         "over_under_50k": "<=50K",
         "_deepnote_index_column": 32550
        },
        {
         "age": 32,
         "workclass": 0,
         "education": -4,
         "education_num": 6,
         "occupation": 4,
         "relationship": 0,
         "race": -2,
         "sex": 1,
         "hours_week": 40,
         "label": 0,
         "gender_labs": "Male",
         "over_under_50k": "<=50K",
         "_deepnote_index_column": 32551
        },
        {
         "age": 43,
         "workclass": 0,
         "education": 2,
         "education_num": 11,
         "occupation": 2,
         "relationship": 0,
         "race": 0,
         "sex": 1,
         "hours_week": 45,
         "label": 0,
         "gender_labs": "Male",
         "over_under_50k": "<=50K",
         "_deepnote_index_column": 32552
        },
        {
         "age": 32,
         "workclass": 0,
         "education": -2,
         "education_num": 14,
         "occupation": 5,
         "relationship": -1,
         "race": 1,
         "sex": 1,
         "hours_week": 11,
         "label": 0,
         "gender_labs": "Male",
         "over_under_50k": "<=50K",
         "_deepnote_index_column": 32553
        },
        {
         "age": 53,
         "workclass": 0,
         "education": -2,
         "education_num": 14,
         "occupation": 1,
         "relationship": 0,
         "race": 0,
         "sex": 1,
         "hours_week": 40,
         "label": 1,
         "gender_labs": "Male",
         "over_under_50k": ">50K",
         "_deepnote_index_column": 32554
        },
        {
         "age": 22,
         "workclass": 0,
         "education": -1,
         "education_num": 10,
         "occupation": -6,
         "relationship": -1,
         "race": 0,
         "sex": 1,
         "hours_week": 40,
         "label": 0,
         "gender_labs": "Male",
         "over_under_50k": "<=50K",
         "_deepnote_index_column": 32555
        },
        {
         "age": 27,
         "workclass": 0,
         "education": 3,
         "education_num": 12,
         "occupation": 5,
         "relationship": 2,
         "race": 0,
         "sex": 0,
         "hours_week": 38,
         "label": 0,
         "gender_labs": "Female",
         "over_under_50k": "<=50K",
         "_deepnote_index_column": 32556
        },
        {
         "age": 40,
         "workclass": 0,
         "education": 0,
         "education_num": 9,
         "occupation": 3,
         "relationship": 0,
         "race": 0,
         "sex": 1,
         "hours_week": 40,
         "label": 1,
         "gender_labs": "Male",
         "over_under_50k": ">50K",
         "_deepnote_index_column": 32557
        },
        {
         "age": 58,
         "workclass": 0,
         "education": 0,
         "education_num": 9,
         "occupation": -2,
         "relationship": -2,
         "race": 0,
         "sex": 0,
         "hours_week": 40,
         "label": 0,
         "gender_labs": "Female",
         "over_under_50k": "<=50K",
         "_deepnote_index_column": 32558
        },
        {
         "age": 22,
         "workclass": 0,
         "education": 0,
         "education_num": 9,
         "occupation": -2,
         "relationship": 1,
         "race": 0,
         "sex": 1,
         "hours_week": 20,
         "label": 0,
         "gender_labs": "Male",
         "over_under_50k": "<=50K",
         "_deepnote_index_column": 32559
        },
        {
         "age": 52,
         "workclass": 2,
         "education": 0,
         "education_num": 9,
         "occupation": 1,
         "relationship": 2,
         "race": 0,
         "sex": 0,
         "hours_week": 40,
         "label": 1,
         "gender_labs": "Female",
         "over_under_50k": ">50K",
         "_deepnote_index_column": 32560
        }
       ]
      },
      "text/plain": "       age  workclass  education  education_num  occupation  relationship  \\\n0       39         -2          1             13          -2            -1   \n1       50         -1          1             13           1             0   \n2       38          0          0              9           4            -1   \n3       53          0         -3              7           4             0   \n4       28          0          1             13           0             2   \n...    ...        ...        ...            ...         ...           ...   \n32556   27          0          3             12           5             2   \n32557   40          0          0              9           3             0   \n32558   58          0          0              9          -2            -2   \n32559   22          0          0              9          -2             1   \n32560   52          2          0              9           1             2   \n\n       race  sex  hours_week  label gender_labs over_under_50k  \n0         0    1          40      0        Male          <=50K  \n1         0    1          13      0        Male          <=50K  \n2         0    1          40      0        Male          <=50K  \n3        -1    1          40      0        Male          <=50K  \n4        -1    0          40      0      Female          <=50K  \n...     ...  ...         ...    ...         ...            ...  \n32556     0    0          38      0      Female          <=50K  \n32557     0    1          40      1        Male           >50K  \n32558     0    0          40      0      Female          <=50K  \n32559     0    1          20      0        Male          <=50K  \n32560     0    0          40      1      Female           >50K  \n\n[30718 rows x 12 columns]",
      "text/html": "<div>\n<style scoped>\n    .dataframe tbody tr th:only-of-type {\n        vertical-align: middle;\n    }\n\n    .dataframe tbody tr th {\n        vertical-align: top;\n    }\n\n    .dataframe thead th {\n        text-align: right;\n    }\n</style>\n<table border=\"1\" class=\"dataframe\">\n  <thead>\n    <tr style=\"text-align: right;\">\n      <th></th>\n      <th>age</th>\n      <th>workclass</th>\n      <th>education</th>\n      <th>education_num</th>\n      <th>occupation</th>\n      <th>relationship</th>\n      <th>race</th>\n      <th>sex</th>\n      <th>hours_week</th>\n      <th>label</th>\n      <th>gender_labs</th>\n      <th>over_under_50k</th>\n    </tr>\n  </thead>\n  <tbody>\n    <tr>\n      <th>0</th>\n      <td>39</td>\n      <td>-2</td>\n      <td>1</td>\n      <td>13</td>\n      <td>-2</td>\n      <td>-1</td>\n      <td>0</td>\n      <td>1</td>\n      <td>40</td>\n      <td>0</td>\n      <td>Male</td>\n      <td>&lt;=50K</td>\n    </tr>\n    <tr>\n      <th>1</th>\n      <td>50</td>\n      <td>-1</td>\n      <td>1</td>\n      <td>13</td>\n      <td>1</td>\n      <td>0</td>\n      <td>0</td>\n      <td>1</td>\n      <td>13</td>\n      <td>0</td>\n      <td>Male</td>\n      <td>&lt;=50K</td>\n    </tr>\n    <tr>\n      <th>2</th>\n      <td>38</td>\n      <td>0</td>\n      <td>0</td>\n      <td>9</td>\n      <td>4</td>\n      <td>-1</td>\n      <td>0</td>\n      <td>1</td>\n      <td>40</td>\n      <td>0</td>\n      <td>Male</td>\n      <td>&lt;=50K</td>\n    </tr>\n    <tr>\n      <th>3</th>\n      <td>53</td>\n      <td>0</td>\n      <td>-3</td>\n      <td>7</td>\n      <td>4</td>\n      <td>0</td>\n      <td>-1</td>\n      <td>1</td>\n      <td>40</td>\n      <td>0</td>\n      <td>Male</td>\n      <td>&lt;=50K</td>\n    </tr>\n    <tr>\n      <th>4</th>\n      <td>28</td>\n      <td>0</td>\n      <td>1</td>\n      <td>13</td>\n      <td>0</td>\n      <td>2</td>\n      <td>-1</td>\n      <td>0</td>\n      <td>40</td>\n      <td>0</td>\n      <td>Female</td>\n      <td>&lt;=50K</td>\n    </tr>\n    <tr>\n      <th>...</th>\n      <td>...</td>\n      <td>...</td>\n      <td>...</td>\n      <td>...</td>\n      <td>...</td>\n      <td>...</td>\n      <td>...</td>\n      <td>...</td>\n      <td>...</td>\n      <td>...</td>\n      <td>...</td>\n      <td>...</td>\n    </tr>\n    <tr>\n      <th>32556</th>\n      <td>27</td>\n      <td>0</td>\n      <td>3</td>\n      <td>12</td>\n      <td>5</td>\n      <td>2</td>\n      <td>0</td>\n      <td>0</td>\n      <td>38</td>\n      <td>0</td>\n      <td>Female</td>\n      <td>&lt;=50K</td>\n    </tr>\n    <tr>\n      <th>32557</th>\n      <td>40</td>\n      <td>0</td>\n      <td>0</td>\n      <td>9</td>\n      <td>3</td>\n      <td>0</td>\n      <td>0</td>\n      <td>1</td>\n      <td>40</td>\n      <td>1</td>\n      <td>Male</td>\n      <td>&gt;50K</td>\n    </tr>\n    <tr>\n      <th>32558</th>\n      <td>58</td>\n      <td>0</td>\n      <td>0</td>\n      <td>9</td>\n      <td>-2</td>\n      <td>-2</td>\n      <td>0</td>\n      <td>0</td>\n      <td>40</td>\n      <td>0</td>\n      <td>Female</td>\n      <td>&lt;=50K</td>\n    </tr>\n    <tr>\n      <th>32559</th>\n      <td>22</td>\n      <td>0</td>\n      <td>0</td>\n      <td>9</td>\n      <td>-2</td>\n      <td>1</td>\n      <td>0</td>\n      <td>1</td>\n      <td>20</td>\n      <td>0</td>\n      <td>Male</td>\n      <td>&lt;=50K</td>\n    </tr>\n    <tr>\n      <th>32560</th>\n      <td>52</td>\n      <td>2</td>\n      <td>0</td>\n      <td>9</td>\n      <td>1</td>\n      <td>2</td>\n      <td>0</td>\n      <td>0</td>\n      <td>40</td>\n      <td>1</td>\n      <td>Female</td>\n      <td>&gt;50K</td>\n    </tr>\n  </tbody>\n</table>\n<p>30718 rows × 12 columns</p>\n</div>"
     },
     "metadata": {}
    }
   ],
   "execution_count": null
  },
  {
   "cell_type": "code",
   "metadata": {
    "cell_id": "00009-dc528148-4a8a-442f-bff0-fbcc67831dec",
    "deepnote_to_be_reexecuted": false,
    "source_hash": "2c6bae37",
    "execution_start": 1634156197822,
    "execution_millis": 56,
    "deepnote_cell_type": "code"
   },
   "source": "# Split processed data into train and test\nX, y = processed_adult.drop([\"label\", \"gender_labs\", \"over_under_50k\"], axis=1), processed_adult[\"label\"]\nX_train, X_test, y_train, y_test = train_test_split(X, y, test_size=0.2, random_state=0)",
   "outputs": [],
   "execution_count": null
  },
  {
   "cell_type": "code",
   "metadata": {
    "cell_id": "00010-3b561934-eec5-4c80-8304-c875d228c15f",
    "deepnote_to_be_reexecuted": false,
    "source_hash": "6b452f2c",
    "execution_start": 1634156201197,
    "execution_millis": 28,
    "deepnote_cell_type": "code"
   },
   "source": "def adult_binary_classification_pipeline(X_train, y_train, X_test, y_test, evaluate=\"test\", method=\"logistic\"):\n    '''\n    Binary classification pipeline for the\n    Adult dataset.\n\n    INPUTS\n    ======\n    X_train: input training data, pandas DataFrame\n    y_train: output training labels, 1-d array-like\n    X_test: input test data, pandas DataFrame\n    y_test: output test labels, 1-d array-like\n    evaluate: whether to evaluate on the train or\n    test set, default='test', str\n    method: binary classification method, \n    default='logistic', str\n\n    RETURNS\n    =======\n    Two tuples containing the number of true positive \n    predictions (TP), false positive predictions (FP), \n    true negative predictions (TN), and false negative (FN)\n    predictions on the test set for female and male, \n    respectively.\n    '''\n\n    if method == \"logistic\":\n\n        # Train logistic regression classifier\n        lr = LogisticRegression(max_iter=1000)\n        lr.fit(X_train, y_train)\n\n        # Predit on train and test\n        y_train_pred = lr.predict(X_train)\n        y_test_pred = lr.predict(X_test)\n\n    if evaluate == \"test\":\n        df = X_test.copy()\n        df[\"y\"] = y_test\n        df[\"y_pred\"] = y_test_pred\n    elif evaluate == \"train\":\n        df = X_train.copy()\n        df[\"y\"] = y_train\n        df[\"y_pred\"] = y_train_pred\n    else:\n        raise Exception(\"evaluate must be either 'train' or 'test'\")\n\n    # Count the number of true positive and true negative preds for men and women\n    TP_f = len(df[(df[\"sex\"]==0) & (df[\"y\"]==1) & (df[\"y_pred\"]==1)])\n    TP_m = len(df[(df[\"sex\"]==1) & (df[\"y\"]==1) & (df[\"y_pred\"]==1)])\n    FP_f = len(df[(df[\"sex\"]==0) & (df[\"y\"]==0) & (df[\"y_pred\"]==1)])\n    FP_m = len(df[(df[\"sex\"]==1) & (df[\"y\"]==0) & (df[\"y_pred\"]==1)])\n\n    # Count the number of true negative and false negative preds for men and women\n    TN_f = len(df[(df[\"sex\"]==0) & (df[\"y\"]==0) & (df[\"y_pred\"]==0)])\n    TN_m = len(df[(df[\"sex\"]==1) & (df[\"y\"]==0) & (df[\"y_pred\"]==0)])\n    FN_f = len(df[(df[\"sex\"]==0) & (df[\"y\"]==1) & (df[\"y_pred\"]==0)])\n    FN_m = len(df[(df[\"sex\"]==1) & (df[\"y\"]==1) & (df[\"y_pred\"]==0)])\n\n    return (TP_f, FP_f, TN_f, FN_f), (TP_m, FP_m, TN_m, FN_m)",
   "outputs": [],
   "execution_count": null
  },
  {
   "cell_type": "code",
   "metadata": {
    "cell_id": "00011-bf635b5b-4287-44b1-9f59-d9218fb92dbd",
    "deepnote_to_be_reexecuted": false,
    "source_hash": "6af2805d",
    "execution_start": 1634156205348,
    "execution_millis": 11,
    "deepnote_cell_type": "code"
   },
   "source": "def adult_fairness_summary(female_tup, male_tup, show_plots=False, evaluate=\"test\"):\n    '''\n    Function to process and provide a summary \n    of fairness metrics for the Adult data set.\n\n    INPUTS\n    ======\n    female_tup: tuple or list containing TP, FP, \n    TN, FN for female\n    male_tup: tuple or list containing TP, FP, \n    TN, FN for male\n    show_plots: whether to display graphs showing \n    fairness metrics for male and female, default=False, \n    bool\n\n    RETURNS\n    =======\n    True positive rate for (TPR) and false positive\n    rate (FPR) for female and male, respectively.\n    '''\n\n    # Unpack tuples\n    TP_f, FP_f, TN_f, FN_f = female_tup\n    TP_m, FP_m, TN_m, FN_m = male_tup\n\n    # Calculate TPR, FPR for female and male\n    TPR_f = TP_f / (TP_f + FN_f)\n    TPR_m = TP_m / (TP_m + FN_m)\n    FPR_f = FP_f / (FP_f + TN_f)\n    FPR_m = FP_m / (FP_m + TN_m)\n\n    # Create summary plots\n    if show_plots:\n        fig, axs = plt.subplots(1, 2, figsize=(10,5))\n        axs = axs.ravel()\n        axs[0].bar([\"female\", \"male\"], [TPR_f, TPR_m], color=[\"orange\", \"dodgerblue\"])\n        axs[0].set_ylabel(\"TPR\")\n        axs[1].bar([\"female\", \"male\"], [FPR_f, FPR_m], color=[\"orange\", \"dodgerblue\"])\n        axs[1].set_ylabel(\"FPR\")\n        fig.suptitle(f\"TPR and FPR for female vs male ({evaluate} data)\", fontsize=16)\n        fig.tight_layout(rect=[0, 0, 1, 0.95])\n\n    return TPR_f, TPR_m, FPR_f, FPR_m",
   "outputs": [],
   "execution_count": null
  },
  {
   "cell_type": "code",
   "metadata": {
    "cell_id": "00012-63929ced-6a70-4aec-9456-0bfc9f707ed3",
    "deepnote_to_be_reexecuted": false,
    "source_hash": "491d26bc",
    "execution_start": 1634156208326,
    "execution_millis": 3794,
    "deepnote_cell_type": "code"
   },
   "source": "# Run the binary classification pipeline on the original processed data and evaluation on training data\nfemale_tup, male_tup = adult_binary_classification_pipeline(X_train, y_train, X_test, y_test, evaluate=\"test\")\n\n# Calculate and visualize TPR and FPR on the training data for female and male\nTPR_f, TPR_m, FPR_f, FPR_m = adult_fairness_summary(female_tup, male_tup, show_plots=True, evaluate=\"test\")",
   "outputs": [
    {
     "data": {
      "text/plain": "<Figure size 720x360 with 2 Axes>",
      "image/png": "[encoded data removed]"
     },
     "metadata": {
      "needs_background": "light",
      "image/png": {
       "width": 712,
       "height": 356
      }
     },
     "output_type": "display_data"
    }
   ],
   "execution_count": null
  },
  {
   "cell_type": "code",
   "metadata": {
    "cell_id": "00013-a4d2066b-b378-4642-bafa-b91c632aff9a",
    "deepnote_to_be_reexecuted": false,
    "source_hash": "2a9dd48e",
    "execution_start": 1634156215601,
    "execution_millis": 13,
    "deepnote_cell_type": "code"
   },
   "source": "# Calculate the difference in TPR (Equalized Opportunity distance)\nTPR_diff_non_private = TPR_m-TPR_f\n\n# Calculate the difference in FPR (second Equalized Odds distance)\nFPR_diff_non_private = FPR_m-FPR_f\n\n# Demographic parity (FP + TP rate difference)\ndem_parity_non_private = (FPR_m+TPR_m)-(FPR_f+TPR_f)\n\n# Calculate overall accuracy for female and male\nACC_f_non_private = (female_tup[0] + female_tup[2]) / sum(female_tup)\nACC_m_non_private = (male_tup[0] + male_tup[2]) / sum(male_tup)\n\nprint(\"TRAINING DATA METRICS:\")\nprint(f\"The difference in TPR (equalized opportunity) is: {TPR_diff_non_private:.4f}\")\nprint(f\"The difference in FPR (equalized odds) is: {FPR_diff_non_private:.4f}\")\nprint(f\"The difference in FP + TP rate (Demographic Parity) is: {dem_parity_non_private:.4f}\")\nprint(f\"The overall accuracy for female is: {ACC_f_non_private:.4f}\")\nprint(f\"The overall accuracy for male is: {ACC_m_non_private:.4f}\")",
   "outputs": [
    {
     "name": "stdout",
     "text": "TRAINING DATA METRICS:\nThe difference in TPR (equalized opportunity) is: 0.2725\nThe difference in FPR (equalized odds) is: 0.0963\nThe difference in FP + TP rate (Demographic Parity) is: 0.3688\nThe overall accuracy for female is: 0.8971\nThe overall accuracy for male is: 0.7638\n",
     "output_type": "stream"
    }
   ],
   "execution_count": null
  },
  {
   "cell_type": "markdown",
   "source": "## 4.1.2 MWEM\n\n### 4.1.2.1 Testing\n\nBased on multiplicative weight update mechanism; requires binning of continuous data.",
   "metadata": {
    "cell_id": "00014-11307642-73b8-4b54-b239-ac97e2b524b5",
    "deepnote_cell_type": "markdown"
   }
  },
  {
   "cell_type": "code",
   "metadata": {
    "cell_id": "00015-7af24893-d571-4489-ae75-c79e90284691",
    "deepnote_to_be_reexecuted": false,
    "source_hash": "4cd77f3a",
    "execution_start": 1634155376005,
    "execution_millis": 207,
    "deepnote_cell_type": "code"
   },
   "source": "# Recombine X_train and y_train for synthesis\nadult_train = pd.concat([X_train, y_train], axis=1)\nadult_train",
   "outputs": [
    {
     "output_type": "execute_result",
     "execution_count": 22,
     "data": {
      "application/vnd.deepnote.dataframe.v2+json": {
       "row_count": 24574,
       "column_count": 10,
       "columns": [
        {
         "name": "age",
         "dtype": "int64",
         "stats": {
          "unique_count": 72,
          "nan_count": 0,
          "min": "17",
          "max": "90",
          "histogram": [
           {
            "bin_start": 17,
            "bin_end": 24.3,
            "count": 3963
           },
           {
            "bin_start": 24.3,
            "bin_end": 31.6,
            "count": 4560
           },
           {
            "bin_start": 31.6,
            "bin_end": 38.9,
            "count": 4711
           },
           {
            "bin_start": 38.9,
            "bin_end": 46.2,
            "count": 4822
           },
           {
            "bin_start": 46.2,
            "bin_end": 53.5,
            "count": 3079
           },
           {
            "bin_start": 53.5,
            "bin_end": 60.8,
            "count": 1957
           },
           {
            "bin_start": 60.8,
            "bin_end": 68.1,
            "count": 1050
           },
           {
            "bin_start": 68.1,
            "bin_end": 75.4,
            "count": 289
           },
           {
            "bin_start": 75.4,
            "bin_end": 82.7,
            "count": 96
           },
           {
            "bin_start": 82.7,
            "bin_end": 90,
            "count": 47
           }
          ]
         }
        },
        {
         "name": "workclass",
         "dtype": "int64",
         "stats": {
          "unique_count": 7,
          "nan_count": 0,
          "min": "-3",
          "max": "3",
          "histogram": [
           {
            "bin_start": -3,
            "bin_end": -2.4,
            "count": 769
           },
           {
            "bin_start": -2.4,
            "bin_end": -1.8,
            "count": 1031
           },
           {
            "bin_start": -1.8,
            "bin_end": -1.2000000000000002,
            "count": 0
           },
           {
            "bin_start": -1.2000000000000002,
            "bin_end": -0.6000000000000001,
            "count": 2066
           },
           {
            "bin_start": -0.6000000000000001,
            "bin_end": 0,
            "count": 0
           },
           {
            "bin_start": 0,
            "bin_end": 0.5999999999999996,
            "count": 18143
           },
           {
            "bin_start": 0.5999999999999996,
            "bin_end": 1.2000000000000002,
            "count": 1674
           },
           {
            "bin_start": 1.2000000000000002,
            "bin_end": 1.7999999999999998,
            "count": 0
           },
           {
            "bin_start": 1.7999999999999998,
            "bin_end": 2.3999999999999995,
            "count": 880
           },
           {
            "bin_start": 2.3999999999999995,
            "bin_end": 3,
            "count": 11
           }
          ]
         }
        },
        {
         "name": "education",
         "dtype": "int64",
         "stats": {
          "unique_count": 16,
          "nan_count": 0,
          "min": "-8",
          "max": "7",
          "histogram": [
           {
            "bin_start": -8,
            "bin_end": -6.5,
            "count": 279
           },
           {
            "bin_start": -6.5,
            "bin_end": -5,
            "count": 317
           },
           {
            "bin_start": -5,
            "bin_end": -3.5,
            "count": 1149
           },
           {
            "bin_start": -3.5,
            "bin_end": -2,
            "count": 826
           },
           {
            "bin_start": -2,
            "bin_end": -0.5,
            "count": 6708
           },
           {
            "bin_start": -0.5,
            "bin_end": 1,
            "count": 7984
           },
           {
            "bin_start": 1,
            "bin_end": 2.5,
            "count": 5219
           },
           {
            "bin_start": 2.5,
            "bin_end": 4,
            "count": 817
           },
           {
            "bin_start": 4,
            "bin_end": 5.5,
            "count": 825
           },
           {
            "bin_start": 5.5,
            "bin_end": 7,
            "count": 450
           }
          ]
         }
        },
        {
         "name": "education_num",
         "dtype": "int64",
         "stats": {
          "unique_count": 16,
          "nan_count": 0,
          "min": "1",
          "max": "16",
          "histogram": [
           {
            "bin_start": 1,
            "bin_end": 2.5,
            "count": 175
           },
           {
            "bin_start": 2.5,
            "bin_end": 4,
            "count": 238
           },
           {
            "bin_start": 4,
            "bin_end": 5.5,
            "count": 825
           },
           {
            "bin_start": 5.5,
            "bin_end": 7,
            "count": 679
           },
           {
            "bin_start": 7,
            "bin_end": 8.5,
            "count": 1143
           },
           {
            "bin_start": 8.5,
            "bin_end": 10,
            "count": 7984
           },
           {
            "bin_start": 10,
            "bin_end": 11.5,
            "count": 6463
           },
           {
            "bin_start": 11.5,
            "bin_end": 13,
            "count": 817
           },
           {
            "bin_start": 13,
            "bin_end": 14.5,
            "count": 5464
           },
           {
            "bin_start": 14.5,
            "bin_end": 16,
            "count": 786
           }
          ]
         }
        },
        {
         "name": "occupation",
         "dtype": "int64"
        },
        {
         "name": "relationship",
         "dtype": "int64"
        },
        {
         "name": "race",
         "dtype": "int64"
        },
        {
         "name": "sex",
         "dtype": "int64"
        },
        {
         "name": "hours_week",
         "dtype": "int64"
        },
        {
         "name": "label",
         "dtype": "int64"
        },
        {
         "name": "_deepnote_index_column",
         "dtype": "int64"
        }
       ],
       "rows_top": [
        {
         "age": 24,
         "workclass": 0,
         "education": 1,
         "education_num": 13,
         "occupation": -2,
         "relationship": 2,
         "race": 0,
         "sex": 0,
         "hours_week": 50,
         "label": 0,
         "_deepnote_index_column": 15213
        },
        {
         "age": 50,
         "workclass": 0,
         "education": -2,
         "education_num": 14,
         "occupation": 0,
         "relationship": -3,
         "race": 0,
         "sex": 1,
         "hours_week": 60,
         "label": 0,
         "_deepnote_index_column": 5841
        },
        {
         "age": 41,
         "workclass": 1,
         "education": -1,
         "education_num": 10,
         "occupation": -2,
         "relationship": 2,
         "race": -1,
         "sex": 0,
         "hours_week": 40,
         "label": 0,
         "_deepnote_index_column": 26610
        },
        {
         "age": 39,
         "workclass": 0,
         "education": 0,
         "education_num": 9,
         "occupation": 3,
         "relationship": -1,
         "race": -1,
         "sex": 1,
         "hours_week": 40,
         "label": 0,
         "_deepnote_index_column": 30332
        },
        {
         "age": 46,
         "workclass": 0,
         "education": 0,
         "education_num": 9,
         "occupation": -3,
         "relationship": 0,
         "race": 0,
         "sex": 1,
         "hours_week": 50,
         "label": 0,
         "_deepnote_index_column": 26117
        },
        {
         "age": 57,
         "workclass": -1,
         "education": -1,
         "education_num": 10,
         "occupation": 1,
         "relationship": -3,
         "race": 0,
         "sex": 1,
         "hours_week": 25,
         "label": 0,
         "_deepnote_index_column": 31063
        },
        {
         "age": 38,
         "workclass": 0,
         "education": 0,
         "education_num": 9,
         "occupation": 1,
         "relationship": -2,
         "race": 0,
         "sex": 0,
         "hours_week": 40,
         "label": 0,
         "_deepnote_index_column": 16774
        },
        {
         "age": 26,
         "workclass": -2,
         "education": -5,
         "education_num": 15,
         "occupation": 0,
         "relationship": -1,
         "race": 1,
         "sex": 1,
         "hours_week": 50,
         "label": 0,
         "_deepnote_index_column": 6560
        },
        {
         "age": 35,
         "workclass": 0,
         "education": 0,
         "education_num": 9,
         "occupation": 1,
         "relationship": -2,
         "race": 0,
         "sex": 0,
         "hours_week": 55,
         "label": 0,
         "_deepnote_index_column": 17103
        },
        {
         "age": 58,
         "workclass": 0,
         "education": -1,
         "education_num": 10,
         "occupation": 0,
         "relationship": 0,
         "race": 0,
         "sex": 1,
         "hours_week": 42,
         "label": 0,
         "_deepnote_index_column": 16461
        },
        {
         "age": 40,
         "workclass": 0,
         "education": -2,
         "education_num": 14,
         "occupation": 1,
         "relationship": 0,
         "race": 0,
         "sex": 1,
         "hours_week": 40,
         "label": 1,
         "_deepnote_index_column": 6205
        },
        {
         "age": 26,
         "workclass": 0,
         "education": -1,
         "education_num": 10,
         "occupation": -3,
         "relationship": -3,
         "race": 0,
         "sex": 1,
         "hours_week": 40,
         "label": 0,
         "_deepnote_index_column": 7960
        },
        {
         "age": 33,
         "workclass": 0,
         "education": 7,
         "education_num": 2,
         "occupation": -1,
         "relationship": 0,
         "race": 0,
         "sex": 1,
         "hours_week": 35,
         "label": 0,
         "_deepnote_index_column": 11874
        },
        {
         "age": 53,
         "workclass": 0,
         "education": -3,
         "education_num": 7,
         "occupation": -3,
         "relationship": 1,
         "race": 0,
         "sex": 0,
         "hours_week": 47,
         "label": 0,
         "_deepnote_index_column": 25814
        },
        {
         "age": 52,
         "workclass": 0,
         "education": -4,
         "education_num": 6,
         "occupation": -1,
         "relationship": 0,
         "race": 0,
         "sex": 1,
         "hours_week": 40,
         "label": 0,
         "_deepnote_index_column": 31530
        },
        {
         "age": 49,
         "workclass": 0,
         "education": 1,
         "education_num": 13,
         "occupation": -1,
         "relationship": 0,
         "race": 0,
         "sex": 1,
         "hours_week": 40,
         "label": 1,
         "_deepnote_index_column": 4267
        },
        {
         "age": 25,
         "workclass": 0,
         "education": 1,
         "education_num": 13,
         "occupation": 0,
         "relationship": 0,
         "race": 0,
         "sex": 1,
         "hours_week": 40,
         "label": 0,
         "_deepnote_index_column": 17107
        },
        {
         "age": 44,
         "workclass": 0,
         "education": 1,
         "education_num": 13,
         "occupation": 3,
         "relationship": 0,
         "race": 0,
         "sex": 1,
         "hours_week": 40,
         "label": 1,
         "_deepnote_index_column": 29113
        },
        {
         "age": 17,
         "workclass": 1,
         "education": -3,
         "education_num": 7,
         "occupation": 0,
         "relationship": 1,
         "race": 0,
         "sex": 0,
         "hours_week": 20,
         "label": 0,
         "_deepnote_index_column": 4960
        },
        {
         "age": 26,
         "workclass": 0,
         "education": 2,
         "education_num": 11,
         "occupation": 1,
         "relationship": -1,
         "race": -1,
         "sex": 0,
         "hours_week": 40,
         "label": 0,
         "_deepnote_index_column": 31541
        },
        {
         "age": 30,
         "workclass": 0,
         "education": -1,
         "education_num": 10,
         "occupation": 2,
         "relationship": -1,
         "race": 0,
         "sex": 0,
         "hours_week": 48,
         "label": 0,
         "_deepnote_index_column": 12747
        },
        {
         "age": 44,
         "workclass": -3,
         "education": 2,
         "education_num": 11,
         "occupation": -6,
         "relationship": 0,
         "race": 0,
         "sex": 1,
         "hours_week": 48,
         "label": 1,
         "_deepnote_index_column": 21566
        },
        {
         "age": 37,
         "workclass": 0,
         "education": 1,
         "education_num": 13,
         "occupation": -2,
         "relationship": -3,
         "race": -1,
         "sex": 0,
         "hours_week": 40,
         "label": 0,
         "_deepnote_index_column": 20330
        },
        {
         "age": 27,
         "workclass": 0,
         "education": 1,
         "education_num": 13,
         "occupation": 0,
         "relationship": -1,
         "race": 1,
         "sex": 1,
         "hours_week": 40,
         "label": 1,
         "_deepnote_index_column": 23721
        },
        {
         "age": 56,
         "workclass": 0,
         "education": 4,
         "education_num": 4,
         "occupation": -3,
         "relationship": 1,
         "race": 0,
         "sex": 0,
         "hours_week": 30,
         "label": 0,
         "_deepnote_index_column": 30531
        },
        {
         "age": 38,
         "workclass": 1,
         "education": -1,
         "education_num": 10,
         "occupation": -2,
         "relationship": 1,
         "race": -2,
         "sex": 0,
         "hours_week": 40,
         "label": 0,
         "_deepnote_index_column": 9825
        },
        {
         "age": 24,
         "workclass": -1,
         "education": 0,
         "education_num": 9,
         "occupation": -2,
         "relationship": 2,
         "race": 0,
         "sex": 0,
         "hours_week": 40,
         "label": 0,
         "_deepnote_index_column": 2453
        },
        {
         "age": 35,
         "workclass": -1,
         "education": 0,
         "education_num": 9,
         "occupation": 1,
         "relationship": 0,
         "race": 0,
         "sex": 1,
         "hours_week": 60,
         "label": 0,
         "_deepnote_index_column": 24897
        },
        {
         "age": 36,
         "workclass": -2,
         "education": -2,
         "education_num": 14,
         "occupation": 0,
         "relationship": -1,
         "race": 0,
         "sex": 0,
         "hours_week": 40,
         "label": 0,
         "_deepnote_index_column": 8832
        },
        {
         "age": 34,
         "workclass": 0,
         "education": 1,
         "education_num": 13,
         "occupation": 1,
         "relationship": 1,
         "race": 0,
         "sex": 1,
         "hours_week": 40,
         "label": 0,
         "_deepnote_index_column": 25521
        },
        {
         "age": 52,
         "workclass": 0,
         "education": 5,
         "education_num": 5,
         "occupation": -2,
         "relationship": -2,
         "race": 0,
         "sex": 0,
         "hours_week": 40,
         "label": 0,
         "_deepnote_index_column": 24468
        },
        {
         "age": 55,
         "workclass": 0,
         "education": 0,
         "education_num": 9,
         "occupation": -4,
         "relationship": 0,
         "race": 0,
         "sex": 1,
         "hours_week": 65,
         "label": 0,
         "_deepnote_index_column": 6699
        },
        {
         "age": 37,
         "workclass": 1,
         "education": -1,
         "education_num": 10,
         "occupation": 5,
         "relationship": 0,
         "race": 0,
         "sex": 1,
         "hours_week": 45,
         "label": 1,
         "_deepnote_index_column": 523
        },
        {
         "age": 38,
         "workclass": -2,
         "education": 1,
         "education_num": 13,
         "occupation": 0,
         "relationship": -1,
         "race": 0,
         "sex": 0,
         "hours_week": 40,
         "label": 0,
         "_deepnote_index_column": 5675
        },
        {
         "age": 19,
         "workclass": 0,
         "education": 0,
         "education_num": 9,
         "occupation": -1,
         "relationship": 1,
         "race": 0,
         "sex": 1,
         "hours_week": 20,
         "label": 0,
         "_deepnote_index_column": 10293
        },
        {
         "age": 64,
         "workclass": 1,
         "education": -3,
         "education_num": 7,
         "occupation": -1,
         "relationship": 0,
         "race": -1,
         "sex": 1,
         "hours_week": 40,
         "label": 1,
         "_deepnote_index_column": 2986
        },
        {
         "age": 26,
         "workclass": 0,
         "education": 0,
         "education_num": 9,
         "occupation": 1,
         "relationship": 1,
         "race": 0,
         "sex": 0,
         "hours_week": 40,
         "label": 0,
         "_deepnote_index_column": 20402
        },
        {
         "age": 37,
         "workclass": 1,
         "education": 3,
         "education_num": 12,
         "occupation": 1,
         "relationship": 0,
         "race": 0,
         "sex": 1,
         "hours_week": 40,
         "label": 1,
         "_deepnote_index_column": 23249
        },
        {
         "age": 20,
         "workclass": -2,
         "education": -1,
         "education_num": 10,
         "occupation": -3,
         "relationship": 1,
         "race": 0,
         "sex": 0,
         "hours_week": 20,
         "label": 0,
         "_deepnote_index_column": 9133
        },
        {
         "age": 42,
         "workclass": 1,
         "education": 1,
         "education_num": 13,
         "occupation": 0,
         "relationship": -1,
         "race": 0,
         "sex": 0,
         "hours_week": 50,
         "label": 0,
         "_deepnote_index_column": 2641
        },
        {
         "age": 25,
         "workclass": 0,
         "education": -1,
         "education_num": 10,
         "occupation": -3,
         "relationship": 1,
         "race": 0,
         "sex": 0,
         "hours_week": 25,
         "label": 0,
         "_deepnote_index_column": 12160
        },
        {
         "age": 44,
         "workclass": 0,
         "education": 0,
         "education_num": 9,
         "occupation": 3,
         "relationship": -1,
         "race": 0,
         "sex": 1,
         "hours_week": 55,
         "label": 0,
         "_deepnote_index_column": 11174
        },
        {
         "age": 33,
         "workclass": 0,
         "education": 0,
         "education_num": 9,
         "occupation": 3,
         "relationship": 0,
         "race": 0,
         "sex": 1,
         "hours_week": 40,
         "label": 0,
         "_deepnote_index_column": 24277
        },
        {
         "age": 18,
         "workclass": 0,
         "education": -1,
         "education_num": 10,
         "occupation": -2,
         "relationship": 1,
         "race": 0,
         "sex": 1,
         "hours_week": 30,
         "label": 0,
         "_deepnote_index_column": 30548
        },
        {
         "age": 28,
         "workclass": 0,
         "education": 5,
         "education_num": 5,
         "occupation": 3,
         "relationship": 0,
         "race": 0,
         "sex": 1,
         "hours_week": 42,
         "label": 0,
         "_deepnote_index_column": 20372
        },
        {
         "age": 51,
         "workclass": 0,
         "education": 4,
         "education_num": 4,
         "occupation": 4,
         "relationship": 1,
         "race": 0,
         "sex": 1,
         "hours_week": 19,
         "label": 0,
         "_deepnote_index_column": 24369
        },
        {
         "age": 40,
         "workclass": 0,
         "education": 0,
         "education_num": 9,
         "occupation": -1,
         "relationship": 0,
         "race": -1,
         "sex": 1,
         "hours_week": 40,
         "label": 1,
         "_deepnote_index_column": 18039
        },
        {
         "age": 51,
         "workclass": 1,
         "education": 1,
         "education_num": 13,
         "occupation": -2,
         "relationship": -1,
         "race": 0,
         "sex": 0,
         "hours_week": 40,
         "label": 0,
         "_deepnote_index_column": 25600
        },
        {
         "age": 40,
         "workclass": 0,
         "education": -1,
         "education_num": 10,
         "occupation": 5,
         "relationship": 0,
         "race": 0,
         "sex": 1,
         "hours_week": 48,
         "label": 1,
         "_deepnote_index_column": 3599
        },
        {
         "age": 23,
         "workclass": 0,
         "education": -1,
         "education_num": 10,
         "occupation": -5,
         "relationship": -2,
         "race": 0,
         "sex": 1,
         "hours_week": 45,
         "label": 0,
         "_deepnote_index_column": 12653
        }
       ],
       "rows_bottom": [
        {
         "age": 22,
         "workclass": 0,
         "education": 0,
         "education_num": 9,
         "occupation": -2,
         "relationship": -1,
         "race": 0,
         "sex": 0,
         "hours_week": 39,
         "label": 0,
         "_deepnote_index_column": 20901
        },
        {
         "age": 66,
         "workclass": 0,
         "education": 0,
         "education_num": 9,
         "occupation": 2,
         "relationship": 0,
         "race": 0,
         "sex": 1,
         "hours_week": 50,
         "label": 0,
         "_deepnote_index_column": 17293
        },
        {
         "age": 50,
         "workclass": 2,
         "education": 6,
         "education_num": 16,
         "occupation": 0,
         "relationship": 0,
         "race": 0,
         "sex": 1,
         "hours_week": 60,
         "label": 1,
         "_deepnote_index_column": 25261
        },
        {
         "age": 39,
         "workclass": 0,
         "education": -1,
         "education_num": 10,
         "occupation": -2,
         "relationship": 1,
         "race": -1,
         "sex": 0,
         "hours_week": 50,
         "label": 1,
         "_deepnote_index_column": 26490
        },
        {
         "age": 55,
         "workclass": 0,
         "education": 0,
         "education_num": 9,
         "occupation": -4,
         "relationship": 0,
         "race": 0,
         "sex": 1,
         "hours_week": 32,
         "label": 0,
         "_deepnote_index_column": 16159
        },
        {
         "age": 38,
         "workclass": 0,
         "education": 0,
         "education_num": 9,
         "occupation": -1,
         "relationship": 0,
         "race": 0,
         "sex": 1,
         "hours_week": 40,
         "label": 0,
         "_deepnote_index_column": 3436
        },
        {
         "age": 28,
         "workclass": 0,
         "education": 0,
         "education_num": 9,
         "occupation": 5,
         "relationship": -1,
         "race": 1,
         "sex": 1,
         "hours_week": 50,
         "label": 0,
         "_deepnote_index_column": 18055
        },
        {
         "age": 46,
         "workclass": -1,
         "education": 0,
         "education_num": 9,
         "occupation": 2,
         "relationship": 0,
         "race": 0,
         "sex": 1,
         "hours_week": 50,
         "label": 0,
         "_deepnote_index_column": 852
        },
        {
         "age": 33,
         "workclass": 0,
         "education": 1,
         "education_num": 13,
         "occupation": 0,
         "relationship": 0,
         "race": 0,
         "sex": 1,
         "hours_week": 47,
         "label": 1,
         "_deepnote_index_column": 807
        },
        {
         "age": 30,
         "workclass": 0,
         "education": 1,
         "education_num": 13,
         "occupation": -3,
         "relationship": 2,
         "race": 1,
         "sex": 0,
         "hours_week": 40,
         "label": 0,
         "_deepnote_index_column": 10835
        },
        {
         "age": 49,
         "workclass": 1,
         "education": -3,
         "education_num": 7,
         "occupation": 4,
         "relationship": -2,
         "race": 0,
         "sex": 1,
         "hours_week": 40,
         "label": 0,
         "_deepnote_index_column": 26148
        },
        {
         "age": 43,
         "workclass": 0,
         "education": -1,
         "education_num": 10,
         "occupation": 1,
         "relationship": -2,
         "race": 0,
         "sex": 0,
         "hours_week": 45,
         "label": 0,
         "_deepnote_index_column": 16091
        },
        {
         "age": 43,
         "workclass": 0,
         "education": 7,
         "education_num": 2,
         "occupation": 2,
         "relationship": 1,
         "race": 0,
         "sex": 1,
         "hours_week": 40,
         "label": 0,
         "_deepnote_index_column": 2671
        },
        {
         "age": 55,
         "workclass": 0,
         "education": -2,
         "education_num": 14,
         "occupation": 2,
         "relationship": 0,
         "race": 0,
         "sex": 1,
         "hours_week": 50,
         "label": 1,
         "_deepnote_index_column": 8084
        },
        {
         "age": 30,
         "workclass": 0,
         "education": 1,
         "education_num": 13,
         "occupation": 1,
         "relationship": -2,
         "race": 0,
         "sex": 0,
         "hours_week": 45,
         "label": 1,
         "_deepnote_index_column": 1994
        },
        {
         "age": 47,
         "workclass": 0,
         "education": -4,
         "education_num": 6,
         "occupation": 3,
         "relationship": 0,
         "race": 0,
         "sex": 1,
         "hours_week": 46,
         "label": 1,
         "_deepnote_index_column": 19525
        },
        {
         "age": 43,
         "workclass": 0,
         "education": 1,
         "education_num": 13,
         "occupation": -5,
         "relationship": 0,
         "race": 0,
         "sex": 1,
         "hours_week": 50,
         "label": 1,
         "_deepnote_index_column": 8377
        },
        {
         "age": 66,
         "workclass": 0,
         "education": 2,
         "education_num": 11,
         "occupation": 0,
         "relationship": -1,
         "race": 0,
         "sex": 0,
         "hours_week": 35,
         "label": 0,
         "_deepnote_index_column": 5187
        },
        {
         "age": 29,
         "workclass": -2,
         "education": -2,
         "education_num": 14,
         "occupation": -2,
         "relationship": 0,
         "race": 0,
         "sex": 1,
         "hours_week": 36,
         "label": 0,
         "_deepnote_index_column": 5427
        },
        {
         "age": 42,
         "workclass": 0,
         "education": -1,
         "education_num": 10,
         "occupation": -1,
         "relationship": 0,
         "race": 0,
         "sex": 1,
         "hours_week": 40,
         "label": 0,
         "_deepnote_index_column": 2306
        },
        {
         "age": 27,
         "workclass": 0,
         "education": -8,
         "education_num": 1,
         "occupation": -5,
         "relationship": -3,
         "race": 0,
         "sex": 1,
         "hours_week": 24,
         "label": 0,
         "_deepnote_index_column": 6433
        },
        {
         "age": 28,
         "workclass": 0,
         "education": -1,
         "education_num": 10,
         "occupation": -2,
         "relationship": 1,
         "race": 0,
         "sex": 1,
         "hours_week": 40,
         "label": 0,
         "_deepnote_index_column": 7364
        },
        {
         "age": 46,
         "workclass": 0,
         "education": 0,
         "education_num": 9,
         "occupation": 2,
         "relationship": 0,
         "race": 0,
         "sex": 1,
         "hours_week": 36,
         "label": 0,
         "_deepnote_index_column": 6622
        },
        {
         "age": 33,
         "workclass": 0,
         "education": -1,
         "education_num": 10,
         "occupation": 3,
         "relationship": -1,
         "race": 0,
         "sex": 1,
         "hours_week": 40,
         "label": 0,
         "_deepnote_index_column": 29105
        },
        {
         "age": 19,
         "workclass": 0,
         "education": -1,
         "education_num": 10,
         "occupation": 2,
         "relationship": 1,
         "race": 0,
         "sex": 1,
         "hours_week": 30,
         "label": 0,
         "_deepnote_index_column": 17929
        },
        {
         "age": 24,
         "workclass": 0,
         "education": -1,
         "education_num": 10,
         "occupation": 2,
         "relationship": 1,
         "race": 0,
         "sex": 0,
         "hours_week": 20,
         "label": 0,
         "_deepnote_index_column": 27842
        },
        {
         "age": 48,
         "workclass": 2,
         "education": 1,
         "education_num": 13,
         "occupation": 1,
         "relationship": 0,
         "race": 0,
         "sex": 1,
         "hours_week": 40,
         "label": 1,
         "_deepnote_index_column": 3095
        },
        {
         "age": 26,
         "workclass": 0,
         "education": 1,
         "education_num": 13,
         "occupation": 0,
         "relationship": -1,
         "race": 0,
         "sex": 1,
         "hours_week": 50,
         "label": 0,
         "_deepnote_index_column": 25592
        },
        {
         "age": 60,
         "workclass": -1,
         "education": -2,
         "education_num": 14,
         "occupation": 0,
         "relationship": -2,
         "race": 0,
         "sex": 0,
         "hours_week": 10,
         "label": 0,
         "_deepnote_index_column": 19710
        },
        {
         "age": 21,
         "workclass": 0,
         "education": 0,
         "education_num": 9,
         "occupation": 2,
         "relationship": 1,
         "race": 0,
         "sex": 0,
         "hours_week": 30,
         "label": 0,
         "_deepnote_index_column": 10970
        },
        {
         "age": 49,
         "workclass": 0,
         "education": 4,
         "education_num": 4,
         "occupation": 3,
         "relationship": 0,
         "race": 0,
         "sex": 1,
         "hours_week": 40,
         "label": 0,
         "_deepnote_index_column": 20115
        },
        {
         "age": 25,
         "workclass": -1,
         "education": 2,
         "education_num": 11,
         "occupation": -5,
         "relationship": 0,
         "race": 0,
         "sex": 1,
         "hours_week": 40,
         "label": 0,
         "_deepnote_index_column": 18103
        },
        {
         "age": 18,
         "workclass": 0,
         "education": -3,
         "education_num": 7,
         "occupation": -3,
         "relationship": 1,
         "race": -2,
         "sex": 1,
         "hours_week": 20,
         "label": 0,
         "_deepnote_index_column": 15527
        },
        {
         "age": 34,
         "workclass": 0,
         "education": 1,
         "education_num": 13,
         "occupation": -1,
         "relationship": 0,
         "race": 0,
         "sex": 1,
         "hours_week": 45,
         "label": 1,
         "_deepnote_index_column": 21038
        },
        {
         "age": 24,
         "workclass": -1,
         "education": -1,
         "education_num": 10,
         "occupation": -3,
         "relationship": -1,
         "race": 0,
         "sex": 0,
         "hours_week": 75,
         "label": 0,
         "_deepnote_index_column": 7181
        },
        {
         "age": 33,
         "workclass": -1,
         "education": -3,
         "education_num": 7,
         "occupation": -1,
         "relationship": 0,
         "race": 0,
         "sex": 1,
         "hours_week": 50,
         "label": 0,
         "_deepnote_index_column": 16781
        },
        {
         "age": 54,
         "workclass": 0,
         "education": 1,
         "education_num": 13,
         "occupation": 2,
         "relationship": 0,
         "race": 0,
         "sex": 1,
         "hours_week": 50,
         "label": 1,
         "_deepnote_index_column": 16352
        },
        {
         "age": 44,
         "workclass": 0,
         "education": 0,
         "education_num": 9,
         "occupation": -1,
         "relationship": 2,
         "race": 0,
         "sex": 0,
         "hours_week": 40,
         "label": 1,
         "_deepnote_index_column": 15829
        },
        {
         "age": 22,
         "workclass": 0,
         "education": 2,
         "education_num": 11,
         "occupation": 5,
         "relationship": -1,
         "race": 0,
         "sex": 1,
         "hours_week": 60,
         "label": 0,
         "_deepnote_index_column": 14965
        },
        {
         "age": 64,
         "workclass": 0,
         "education": 0,
         "education_num": 9,
         "occupation": 2,
         "relationship": 0,
         "race": 0,
         "sex": 1,
         "hours_week": 65,
         "label": 1,
         "_deepnote_index_column": 23585
        },
        {
         "age": 22,
         "workclass": 0,
         "education": 0,
         "education_num": 9,
         "occupation": -3,
         "relationship": 0,
         "race": 0,
         "sex": 1,
         "hours_week": 20,
         "label": 0,
         "_deepnote_index_column": 22001
        },
        {
         "age": 23,
         "workclass": 0,
         "education": 0,
         "education_num": 9,
         "occupation": -2,
         "relationship": -1,
         "race": 0,
         "sex": 0,
         "hours_week": 40,
         "label": 0,
         "_deepnote_index_column": 25719
        },
        {
         "age": 17,
         "workclass": 0,
         "education": -4,
         "education_num": 6,
         "occupation": -3,
         "relationship": 1,
         "race": 0,
         "sex": 0,
         "hours_week": 6,
         "label": 0,
         "_deepnote_index_column": 9803
        },
        {
         "age": 40,
         "workclass": 0,
         "education": 2,
         "education_num": 11,
         "occupation": 1,
         "relationship": 0,
         "race": 0,
         "sex": 1,
         "hours_week": 44,
         "label": 1,
         "_deepnote_index_column": 32228
        },
        {
         "age": 39,
         "workclass": 1,
         "education": -2,
         "education_num": 14,
         "occupation": 0,
         "relationship": -1,
         "race": 0,
         "sex": 0,
         "hours_week": 40,
         "label": 0,
         "_deepnote_index_column": 22514
        },
        {
         "age": 55,
         "workclass": 0,
         "education": 1,
         "education_num": 13,
         "occupation": 3,
         "relationship": -2,
         "race": 0,
         "sex": 0,
         "hours_week": 40,
         "label": 0,
         "_deepnote_index_column": 13918
        },
        {
         "age": 50,
         "workclass": 2,
         "education": -1,
         "education_num": 10,
         "occupation": 1,
         "relationship": -2,
         "race": 0,
         "sex": 0,
         "hours_week": 75,
         "label": 0,
         "_deepnote_index_column": 20822
        },
        {
         "age": 27,
         "workclass": 0,
         "education": 2,
         "education_num": 11,
         "occupation": 3,
         "relationship": -1,
         "race": 0,
         "sex": 1,
         "hours_week": 40,
         "label": 0,
         "_deepnote_index_column": 10456
        },
        {
         "age": 28,
         "workclass": 1,
         "education": -1,
         "education_num": 10,
         "occupation": 1,
         "relationship": 0,
         "race": 0,
         "sex": 1,
         "hours_week": 65,
         "label": 0,
         "_deepnote_index_column": 11475
        },
        {
         "age": 33,
         "workclass": 0,
         "education": 1,
         "education_num": 13,
         "occupation": 1,
         "relationship": 0,
         "race": 0,
         "sex": 1,
         "hours_week": 50,
         "label": 0,
         "_deepnote_index_column": 2918
        }
       ]
      },
      "text/plain": "       age  workclass  education  education_num  occupation  relationship  \\\n15213   24          0          1             13          -2             2   \n5841    50          0         -2             14           0            -3   \n26610   41          1         -1             10          -2             2   \n30332   39          0          0              9           3            -1   \n26117   46          0          0              9          -3             0   \n...    ...        ...        ...            ...         ...           ...   \n13918   55          0          1             13           3            -2   \n20822   50          2         -1             10           1            -2   \n10456   27          0          2             11           3            -1   \n11475   28          1         -1             10           1             0   \n2918    33          0          1             13           1             0   \n\n       race  sex  hours_week  label  \n15213     0    0          50      0  \n5841      0    1          60      0  \n26610    -1    0          40      0  \n30332    -1    1          40      0  \n26117     0    1          50      0  \n...     ...  ...         ...    ...  \n13918     0    0          40      0  \n20822     0    0          75      0  \n10456     0    1          40      0  \n11475     0    1          65      0  \n2918      0    1          50      0  \n\n[24574 rows x 10 columns]",
      "text/html": "<div>\n<style scoped>\n    .dataframe tbody tr th:only-of-type {\n        vertical-align: middle;\n    }\n\n    .dataframe tbody tr th {\n        vertical-align: top;\n    }\n\n    .dataframe thead th {\n        text-align: right;\n    }\n</style>\n<table border=\"1\" class=\"dataframe\">\n  <thead>\n    <tr style=\"text-align: right;\">\n      <th></th>\n      <th>age</th>\n      <th>workclass</th>\n      <th>education</th>\n      <th>education_num</th>\n      <th>occupation</th>\n      <th>relationship</th>\n      <th>race</th>\n      <th>sex</th>\n      <th>hours_week</th>\n      <th>label</th>\n    </tr>\n  </thead>\n  <tbody>\n    <tr>\n      <th>15213</th>\n      <td>24</td>\n      <td>0</td>\n      <td>1</td>\n      <td>13</td>\n      <td>-2</td>\n      <td>2</td>\n      <td>0</td>\n      <td>0</td>\n      <td>50</td>\n      <td>0</td>\n    </tr>\n    <tr>\n      <th>5841</th>\n      <td>50</td>\n      <td>0</td>\n      <td>-2</td>\n      <td>14</td>\n      <td>0</td>\n      <td>-3</td>\n      <td>0</td>\n      <td>1</td>\n      <td>60</td>\n      <td>0</td>\n    </tr>\n    <tr>\n      <th>26610</th>\n      <td>41</td>\n      <td>1</td>\n      <td>-1</td>\n      <td>10</td>\n      <td>-2</td>\n      <td>2</td>\n      <td>-1</td>\n      <td>0</td>\n      <td>40</td>\n      <td>0</td>\n    </tr>\n    <tr>\n      <th>30332</th>\n      <td>39</td>\n      <td>0</td>\n      <td>0</td>\n      <td>9</td>\n      <td>3</td>\n      <td>-1</td>\n      <td>-1</td>\n      <td>1</td>\n      <td>40</td>\n      <td>0</td>\n    </tr>\n    <tr>\n      <th>26117</th>\n      <td>46</td>\n      <td>0</td>\n      <td>0</td>\n      <td>9</td>\n      <td>-3</td>\n      <td>0</td>\n      <td>0</td>\n      <td>1</td>\n      <td>50</td>\n      <td>0</td>\n    </tr>\n    <tr>\n      <th>...</th>\n      <td>...</td>\n      <td>...</td>\n      <td>...</td>\n      <td>...</td>\n      <td>...</td>\n      <td>...</td>\n      <td>...</td>\n      <td>...</td>\n      <td>...</td>\n      <td>...</td>\n    </tr>\n    <tr>\n      <th>13918</th>\n      <td>55</td>\n      <td>0</td>\n      <td>1</td>\n      <td>13</td>\n      <td>3</td>\n      <td>-2</td>\n      <td>0</td>\n      <td>0</td>\n      <td>40</td>\n      <td>0</td>\n    </tr>\n    <tr>\n      <th>20822</th>\n      <td>50</td>\n      <td>2</td>\n      <td>-1</td>\n      <td>10</td>\n      <td>1</td>\n      <td>-2</td>\n      <td>0</td>\n      <td>0</td>\n      <td>75</td>\n      <td>0</td>\n    </tr>\n    <tr>\n      <th>10456</th>\n      <td>27</td>\n      <td>0</td>\n      <td>2</td>\n      <td>11</td>\n      <td>3</td>\n      <td>-1</td>\n      <td>0</td>\n      <td>1</td>\n      <td>40</td>\n      <td>0</td>\n    </tr>\n    <tr>\n      <th>11475</th>\n      <td>28</td>\n      <td>1</td>\n      <td>-1</td>\n      <td>10</td>\n      <td>1</td>\n      <td>0</td>\n      <td>0</td>\n      <td>1</td>\n      <td>65</td>\n      <td>0</td>\n    </tr>\n    <tr>\n      <th>2918</th>\n      <td>33</td>\n      <td>0</td>\n      <td>1</td>\n      <td>13</td>\n      <td>1</td>\n      <td>0</td>\n      <td>0</td>\n      <td>1</td>\n      <td>50</td>\n      <td>0</td>\n    </tr>\n  </tbody>\n</table>\n<p>24574 rows × 10 columns</p>\n</div>"
     },
     "metadata": {}
    }
   ],
   "execution_count": null
  },
  {
   "cell_type": "code",
   "metadata": {
    "cell_id": "00016-7997200f-3896-4e09-824c-75b4eb7052ef",
    "deepnote_to_be_reexecuted": false,
    "source_hash": "20f62cfd",
    "execution_start": 1634155379961,
    "execution_millis": 12,
    "deepnote_cell_type": "code"
   },
   "source": "# Recombine X_test and y_test for synthesis\nadult_test = pd.concat([X_test, y_test], axis=1)",
   "outputs": [],
   "execution_count": null
  },
  {
   "cell_type": "code",
   "metadata": {
    "cell_id": "00017-26b0fbf0-0d28-49d5-aef7-499f34614506",
    "deepnote_to_be_reexecuted": false,
    "source_hash": "ed2abd7c",
    "execution_start": 1634081942000,
    "execution_millis": 5063,
    "deepnote_cell_type": "code"
   },
   "source": "# Create a MWEM synthesizer\nmwem = MWEMSynthesizer(epsilon=1, q_count=500, iterations=30, mult_weights_iterations=15, \n                       splits=[], split_factor=2, max_bin_count=400)\n\n# Fit synthesizer to the training data\nmwem.fit(adult_train.to_numpy())",
   "execution_count": null,
   "outputs": [
    {
     "name": "stderr",
     "text": "/work/smartnoise-sdk/synth/snsynth/mwem.py:229: Warning: Flattened dimensionality of synthetic histogram is less than the number of iterations. This is a privacy risk. Consider increasing your split_factor (especially if it is 1), or decreasing the number of iterations. Dim: 10 Split: [6 7]\n  Warning,\n",
     "output_type": "stream"
    }
   ]
  },
  {
   "cell_type": "code",
   "metadata": {
    "cell_id": "00018-7fd4e5d4-1211-4806-b01c-d1f7758d2f5a",
    "deepnote_to_be_reexecuted": false,
    "source_hash": "db761ecd",
    "execution_start": 1634059647736,
    "execution_millis": 8415,
    "deepnote_cell_type": "code"
   },
   "source": "# Create private synthetic data using MWEM\nadult_train_synth = pd.DataFrame(mwem.sample(int(adult_train.shape[0])), columns=adult_train.columns)\nadult_train_synth",
   "execution_count": null,
   "outputs": [
    {
     "output_type": "execute_result",
     "execution_count": 17,
     "data": {
      "application/vnd.deepnote.dataframe.v2+json": {
       "row_count": 24574,
       "column_count": 10,
       "columns": [
        {
         "name": "age",
         "dtype": "int64",
         "stats": {
          "unique_count": 74,
          "nan_count": 0,
          "min": "17",
          "max": "90",
          "histogram": [
           {
            "bin_start": 17,
            "bin_end": 24.3,
            "count": 4075
           },
           {
            "bin_start": 24.3,
            "bin_end": 31.6,
            "count": 2110
           },
           {
            "bin_start": 31.6,
            "bin_end": 38.9,
            "count": 2157
           },
           {
            "bin_start": 38.9,
            "bin_end": 46.2,
            "count": 2535
           },
           {
            "bin_start": 46.2,
            "bin_end": 53.5,
            "count": 2226
           },
           {
            "bin_start": 53.5,
            "bin_end": 60.8,
            "count": 2257
           },
           {
            "bin_start": 60.8,
            "bin_end": 68.1,
            "count": 2526
           },
           {
            "bin_start": 68.1,
            "bin_end": 75.4,
            "count": 2110
           },
           {
            "bin_start": 75.4,
            "bin_end": 82.7,
            "count": 2096
           },
           {
            "bin_start": 82.7,
            "bin_end": 90,
            "count": 2482
           }
          ]
         }
        },
        {
         "name": "workclass",
         "dtype": "int64",
         "stats": {
          "unique_count": 7,
          "nan_count": 0,
          "min": "-3",
          "max": "3",
          "histogram": [
           {
            "bin_start": -3,
            "bin_end": -2.4,
            "count": 3266
           },
           {
            "bin_start": -2.4,
            "bin_end": -1.8,
            "count": 3264
           },
           {
            "bin_start": -1.8,
            "bin_end": -1.2000000000000002,
            "count": 0
           },
           {
            "bin_start": -1.2000000000000002,
            "bin_end": -0.6000000000000001,
            "count": 3444
           },
           {
            "bin_start": -0.6000000000000001,
            "bin_end": 0,
            "count": 0
           },
           {
            "bin_start": 0,
            "bin_end": 0.5999999999999996,
            "count": 4680
           },
           {
            "bin_start": 0.5999999999999996,
            "bin_end": 1.2000000000000002,
            "count": 3547
           },
           {
            "bin_start": 1.2000000000000002,
            "bin_end": 1.7999999999999998,
            "count": 0
           },
           {
            "bin_start": 1.7999999999999998,
            "bin_end": 2.3999999999999995,
            "count": 3153
           },
           {
            "bin_start": 2.3999999999999995,
            "bin_end": 3,
            "count": 3220
           }
          ]
         }
        },
        {
         "name": "education",
         "dtype": "int64",
         "stats": {
          "unique_count": 16,
          "nan_count": 0,
          "min": "-8",
          "max": "7",
          "histogram": [
           {
            "bin_start": -8,
            "bin_end": -6.5,
            "count": 302
           },
           {
            "bin_start": -6.5,
            "bin_end": -5,
            "count": 302
           },
           {
            "bin_start": -5,
            "bin_end": -3.5,
            "count": 1253
           },
           {
            "bin_start": -3.5,
            "bin_end": -2,
            "count": 1231
           },
           {
            "bin_start": -2,
            "bin_end": -0.5,
            "count": 6647
           },
           {
            "bin_start": -0.5,
            "bin_end": 1,
            "count": 8182
           },
           {
            "bin_start": 1,
            "bin_end": 2.5,
            "count": 4805
           },
           {
            "bin_start": 2.5,
            "bin_end": 4,
            "count": 1014
           },
           {
            "bin_start": 4,
            "bin_end": 5.5,
            "count": 660
           },
           {
            "bin_start": 5.5,
            "bin_end": 7,
            "count": 178
           }
          ]
         }
        },
        {
         "name": "education_num",
         "dtype": "int64",
         "stats": {
          "unique_count": 16,
          "nan_count": 0,
          "min": "1",
          "max": "16",
          "histogram": [
           {
            "bin_start": 1,
            "bin_end": 2.5,
            "count": 74
           },
           {
            "bin_start": 2.5,
            "bin_end": 4,
            "count": 317
           },
           {
            "bin_start": 4,
            "bin_end": 5.5,
            "count": 928
           },
           {
            "bin_start": 5.5,
            "bin_end": 7,
            "count": 629
           },
           {
            "bin_start": 7,
            "bin_end": 8.5,
            "count": 1190
           },
           {
            "bin_start": 8.5,
            "bin_end": 10,
            "count": 7775
           },
           {
            "bin_start": 10,
            "bin_end": 11.5,
            "count": 6598
           },
           {
            "bin_start": 11.5,
            "bin_end": 13,
            "count": 759
           },
           {
            "bin_start": 13,
            "bin_end": 14.5,
            "count": 5450
           },
           {
            "bin_start": 14.5,
            "bin_end": 16,
            "count": 854
           }
          ]
         }
        },
        {
         "name": "occupation",
         "dtype": "int64"
        },
        {
         "name": "relationship",
         "dtype": "int64"
        },
        {
         "name": "race",
         "dtype": "int64"
        },
        {
         "name": "sex",
         "dtype": "int64"
        },
        {
         "name": "hours_week",
         "dtype": "int64"
        },
        {
         "name": "label",
         "dtype": "int64"
        },
        {
         "name": "_deepnote_index_column",
         "dtype": "int64"
        }
       ],
       "rows_top": [
        {
         "age": 62,
         "workclass": -1,
         "education": -1,
         "education_num": 10,
         "occupation": -2,
         "relationship": 1,
         "race": 1,
         "sex": 0,
         "hours_week": 53,
         "label": 0,
         "_deepnote_index_column": 0
        },
        {
         "age": 69,
         "workclass": 2,
         "education": 2,
         "education_num": 12,
         "occupation": -3,
         "relationship": -1,
         "race": 1,
         "sex": 0,
         "hours_week": 70,
         "label": 1,
         "_deepnote_index_column": 1
        },
        {
         "age": 89,
         "workclass": 0,
         "education": 0,
         "education_num": 9,
         "occupation": 5,
         "relationship": -3,
         "race": 0,
         "sex": 0,
         "hours_week": 30,
         "label": 0,
         "_deepnote_index_column": 2
        },
        {
         "age": 90,
         "workclass": -3,
         "education": -1,
         "education_num": 10,
         "occupation": 2,
         "relationship": -1,
         "race": 0,
         "sex": 1,
         "hours_week": 99,
         "label": 0,
         "_deepnote_index_column": 3
        },
        {
         "age": 26,
         "workclass": 0,
         "education": -4,
         "education_num": 14,
         "occupation": -3,
         "relationship": 1,
         "race": 1,
         "sex": 0,
         "hours_week": 75,
         "label": 0,
         "_deepnote_index_column": 4
        },
        {
         "age": 62,
         "workclass": 0,
         "education": 0,
         "education_num": 9,
         "occupation": 3,
         "relationship": 0,
         "race": -1,
         "sex": 0,
         "hours_week": 86,
         "label": 1,
         "_deepnote_index_column": 5
        },
        {
         "age": 75,
         "workclass": 2,
         "education": 1,
         "education_num": 12,
         "occupation": -3,
         "relationship": 0,
         "race": 0,
         "sex": 0,
         "hours_week": 58,
         "label": 0,
         "_deepnote_index_column": 6
        },
        {
         "age": 20,
         "workclass": 1,
         "education": 2,
         "education_num": 12,
         "occupation": 1,
         "relationship": -1,
         "race": 1,
         "sex": 1,
         "hours_week": 30,
         "label": 0,
         "_deepnote_index_column": 7
        },
        {
         "age": 20,
         "workclass": 0,
         "education": -3,
         "education_num": 7,
         "occupation": 6,
         "relationship": -3,
         "race": 2,
         "sex": 0,
         "hours_week": 71,
         "label": 0,
         "_deepnote_index_column": 8
        },
        {
         "age": 20,
         "workclass": 0,
         "education": -1,
         "education_num": 10,
         "occupation": 0,
         "relationship": -3,
         "race": 1,
         "sex": 1,
         "hours_week": 15,
         "label": 0,
         "_deepnote_index_column": 9
        },
        {
         "age": 90,
         "workclass": 3,
         "education": -1,
         "education_num": 10,
         "occupation": -2,
         "relationship": 1,
         "race": 1,
         "sex": 1,
         "hours_week": 37,
         "label": 1,
         "_deepnote_index_column": 10
        },
        {
         "age": 20,
         "workclass": -2,
         "education": 0,
         "education_num": 9,
         "occupation": -2,
         "relationship": 1,
         "race": 2,
         "sex": 1,
         "hours_week": 69,
         "label": 1,
         "_deepnote_index_column": 11
        },
        {
         "age": 46,
         "workclass": 2,
         "education": 0,
         "education_num": 10,
         "occupation": 4,
         "relationship": 0,
         "race": 2,
         "sex": 0,
         "hours_week": 76,
         "label": 1,
         "_deepnote_index_column": 12
        },
        {
         "age": 36,
         "workclass": 3,
         "education": 1,
         "education_num": 13,
         "occupation": 6,
         "relationship": 2,
         "race": 1,
         "sex": 1,
         "hours_week": 68,
         "label": 0,
         "_deepnote_index_column": 13
        },
        {
         "age": 79,
         "workclass": 3,
         "education": -7,
         "education_num": 6,
         "occupation": 6,
         "relationship": 0,
         "race": 2,
         "sex": 0,
         "hours_week": 7,
         "label": 1,
         "_deepnote_index_column": 14
        },
        {
         "age": 44,
         "workclass": 0,
         "education": -1,
         "education_num": 10,
         "occupation": 0,
         "relationship": -2,
         "race": 1,
         "sex": 1,
         "hours_week": 30,
         "label": 1,
         "_deepnote_index_column": 15
        },
        {
         "age": 28,
         "workclass": -2,
         "education": 2,
         "education_num": 13,
         "occupation": -3,
         "relationship": 1,
         "race": 1,
         "sex": 1,
         "hours_week": 37,
         "label": 0,
         "_deepnote_index_column": 16
        },
        {
         "age": 79,
         "workclass": 3,
         "education": 0,
         "education_num": 10,
         "occupation": -1,
         "relationship": 2,
         "race": 0,
         "sex": 1,
         "hours_week": 52,
         "label": 0,
         "_deepnote_index_column": 17
        },
        {
         "age": 86,
         "workclass": -1,
         "education": 2,
         "education_num": 13,
         "occupation": -2,
         "relationship": -2,
         "race": 1,
         "sex": 1,
         "hours_week": 29,
         "label": 1,
         "_deepnote_index_column": 18
        },
        {
         "age": 54,
         "workclass": 2,
         "education": 0,
         "education_num": 9,
         "occupation": -2,
         "relationship": -2,
         "race": 2,
         "sex": 1,
         "hours_week": 11,
         "label": 1,
         "_deepnote_index_column": 19
        },
        {
         "age": 74,
         "workclass": -3,
         "education": 0,
         "education_num": 9,
         "occupation": 4,
         "relationship": 0,
         "race": 1,
         "sex": 0,
         "hours_week": 91,
         "label": 0,
         "_deepnote_index_column": 20
        },
        {
         "age": 38,
         "workclass": -2,
         "education": -2,
         "education_num": 6,
         "occupation": 6,
         "relationship": 1,
         "race": -1,
         "sex": 1,
         "hours_week": 83,
         "label": 0,
         "_deepnote_index_column": 21
        },
        {
         "age": 88,
         "workclass": 3,
         "education": 0,
         "education_num": 9,
         "occupation": 4,
         "relationship": -1,
         "race": -1,
         "sex": 1,
         "hours_week": 67,
         "label": 1,
         "_deepnote_index_column": 22
        },
        {
         "age": 62,
         "workclass": 2,
         "education": 3,
         "education_num": 12,
         "occupation": 5,
         "relationship": -2,
         "race": -1,
         "sex": 1,
         "hours_week": 51,
         "label": 1,
         "_deepnote_index_column": 23
        },
        {
         "age": 39,
         "workclass": -1,
         "education": 0,
         "education_num": 9,
         "occupation": 6,
         "relationship": 1,
         "race": 1,
         "sex": 1,
         "hours_week": 11,
         "label": 0,
         "_deepnote_index_column": 24
        },
        {
         "age": 44,
         "workclass": -3,
         "education": 0,
         "education_num": 9,
         "occupation": 6,
         "relationship": 2,
         "race": 2,
         "sex": 1,
         "hours_week": 11,
         "label": 0,
         "_deepnote_index_column": 25
        },
        {
         "age": 19,
         "workclass": -3,
         "education": -1,
         "education_num": 13,
         "occupation": 2,
         "relationship": 1,
         "race": 1,
         "sex": 1,
         "hours_week": 57,
         "label": 0,
         "_deepnote_index_column": 26
        },
        {
         "age": 20,
         "workclass": 0,
         "education": 1,
         "education_num": 13,
         "occupation": -5,
         "relationship": -2,
         "race": 2,
         "sex": 1,
         "hours_week": 58,
         "label": 0,
         "_deepnote_index_column": 27
        },
        {
         "age": 50,
         "workclass": -2,
         "education": 0,
         "education_num": 9,
         "occupation": -3,
         "relationship": -1,
         "race": 1,
         "sex": 1,
         "hours_week": 86,
         "label": 1,
         "_deepnote_index_column": 28
        },
        {
         "age": 54,
         "workclass": -1,
         "education": 0,
         "education_num": 9,
         "occupation": 2,
         "relationship": 1,
         "race": 2,
         "sex": 1,
         "hours_week": 67,
         "label": 1,
         "_deepnote_index_column": 29
        },
        {
         "age": 77,
         "workclass": -1,
         "education": 1,
         "education_num": 9,
         "occupation": -1,
         "relationship": 0,
         "race": 1,
         "sex": 1,
         "hours_week": 84,
         "label": 1,
         "_deepnote_index_column": 30
        },
        {
         "age": 46,
         "workclass": 1,
         "education": -1,
         "education_num": 10,
         "occupation": -3,
         "relationship": 1,
         "race": 0,
         "sex": 1,
         "hours_week": 44,
         "label": 1,
         "_deepnote_index_column": 31
        },
        {
         "age": 56,
         "workclass": -3,
         "education": 0,
         "education_num": 9,
         "occupation": 4,
         "relationship": -2,
         "race": 0,
         "sex": 1,
         "hours_week": 53,
         "label": 0,
         "_deepnote_index_column": 32
        },
        {
         "age": 49,
         "workclass": 2,
         "education": -1,
         "education_num": 13,
         "occupation": -4,
         "relationship": 0,
         "race": 2,
         "sex": 0,
         "hours_week": 71,
         "label": 1,
         "_deepnote_index_column": 33
        },
        {
         "age": 65,
         "workclass": -3,
         "education": 0,
         "education_num": 9,
         "occupation": -5,
         "relationship": -1,
         "race": 1,
         "sex": 0,
         "hours_week": 88,
         "label": 0,
         "_deepnote_index_column": 34
        },
        {
         "age": 31,
         "workclass": 3,
         "education": -1,
         "education_num": 10,
         "occupation": 6,
         "relationship": 0,
         "race": 0,
         "sex": 1,
         "hours_week": 48,
         "label": 0,
         "_deepnote_index_column": 35
        },
        {
         "age": 30,
         "workclass": 3,
         "education": -1,
         "education_num": 10,
         "occupation": 6,
         "relationship": 1,
         "race": 0,
         "sex": 1,
         "hours_week": 92,
         "label": 0,
         "_deepnote_index_column": 36
        },
        {
         "age": 69,
         "workclass": -2,
         "education": 0,
         "education_num": 9,
         "occupation": 5,
         "relationship": 0,
         "race": 1,
         "sex": 0,
         "hours_week": 95,
         "label": 0,
         "_deepnote_index_column": 37
        },
        {
         "age": 58,
         "workclass": 1,
         "education": -6,
         "education_num": 6,
         "occupation": 6,
         "relationship": 2,
         "race": 1,
         "sex": 0,
         "hours_week": 59,
         "label": 1,
         "_deepnote_index_column": 38
        },
        {
         "age": 20,
         "workclass": 1,
         "education": 0,
         "education_num": 9,
         "occupation": -2,
         "relationship": -3,
         "race": 2,
         "sex": 0,
         "hours_week": 23,
         "label": 0,
         "_deepnote_index_column": 39
        },
        {
         "age": 58,
         "workclass": -2,
         "education": 0,
         "education_num": 10,
         "occupation": 5,
         "relationship": 0,
         "race": 1,
         "sex": 1,
         "hours_week": 92,
         "label": 1,
         "_deepnote_index_column": 40
        },
        {
         "age": 72,
         "workclass": 2,
         "education": -4,
         "education_num": 8,
         "occupation": -1,
         "relationship": -2,
         "race": 1,
         "sex": 0,
         "hours_week": 88,
         "label": 0,
         "_deepnote_index_column": 41
        },
        {
         "age": 75,
         "workclass": -3,
         "education": -8,
         "education_num": 2,
         "occupation": -4,
         "relationship": 1,
         "race": 0,
         "sex": 1,
         "hours_week": 40,
         "label": 1,
         "_deepnote_index_column": 42
        },
        {
         "age": 90,
         "workclass": 1,
         "education": 5,
         "education_num": 10,
         "occupation": 3,
         "relationship": -3,
         "race": 1,
         "sex": 0,
         "hours_week": 12,
         "label": 1,
         "_deepnote_index_column": 43
        },
        {
         "age": 46,
         "workclass": -1,
         "education": 0,
         "education_num": 9,
         "occupation": -5,
         "relationship": 0,
         "race": 2,
         "sex": 0,
         "hours_week": 27,
         "label": 1,
         "_deepnote_index_column": 44
        },
        {
         "age": 89,
         "workclass": 2,
         "education": 0,
         "education_num": 9,
         "occupation": 4,
         "relationship": 1,
         "race": 2,
         "sex": 1,
         "hours_week": 33,
         "label": 1,
         "_deepnote_index_column": 45
        },
        {
         "age": 61,
         "workclass": 0,
         "education": 0,
         "education_num": 9,
         "occupation": 5,
         "relationship": 2,
         "race": 0,
         "sex": 0,
         "hours_week": 59,
         "label": 1,
         "_deepnote_index_column": 46
        },
        {
         "age": 64,
         "workclass": 2,
         "education": -7,
         "education_num": 16,
         "occupation": 5,
         "relationship": 0,
         "race": 2,
         "sex": 1,
         "hours_week": 88,
         "label": 1,
         "_deepnote_index_column": 47
        },
        {
         "age": 27,
         "workclass": 1,
         "education": 4,
         "education_num": 3,
         "occupation": -1,
         "relationship": -3,
         "race": -1,
         "sex": 1,
         "hours_week": 98,
         "label": 1,
         "_deepnote_index_column": 48
        },
        {
         "age": 62,
         "workclass": 1,
         "education": 1,
         "education_num": 13,
         "occupation": -4,
         "relationship": 1,
         "race": 1,
         "sex": 1,
         "hours_week": 39,
         "label": 0,
         "_deepnote_index_column": 49
        }
       ],
       "rows_bottom": [
        {
         "age": 62,
         "workclass": -3,
         "education": -1,
         "education_num": 9,
         "occupation": -1,
         "relationship": -3,
         "race": -1,
         "sex": 1,
         "hours_week": 62,
         "label": 0,
         "_deepnote_index_column": 24524
        },
        {
         "age": 79,
         "workclass": 2,
         "education": -5,
         "education_num": 6,
         "occupation": -4,
         "relationship": 0,
         "race": 2,
         "sex": 1,
         "hours_week": 46,
         "label": 1,
         "_deepnote_index_column": 24525
        },
        {
         "age": 38,
         "workclass": -3,
         "education": 1,
         "education_num": 13,
         "occupation": -3,
         "relationship": 1,
         "race": 0,
         "sex": 0,
         "hours_week": 74,
         "label": 0,
         "_deepnote_index_column": 24526
        },
        {
         "age": 39,
         "workclass": 2,
         "education": -3,
         "education_num": 6,
         "occupation": 2,
         "relationship": 2,
         "race": 0,
         "sex": 0,
         "hours_week": 42,
         "label": 0,
         "_deepnote_index_column": 24527
        },
        {
         "age": 38,
         "workclass": -3,
         "education": -1,
         "education_num": 10,
         "occupation": -5,
         "relationship": -1,
         "race": 0,
         "sex": 1,
         "hours_week": 78,
         "label": 1,
         "_deepnote_index_column": 24528
        },
        {
         "age": 44,
         "workclass": -1,
         "education": -1,
         "education_num": 10,
         "occupation": 6,
         "relationship": -2,
         "race": 1,
         "sex": 0,
         "hours_week": 20,
         "label": 0,
         "_deepnote_index_column": 24529
        },
        {
         "age": 17,
         "workclass": -3,
         "education": 0,
         "education_num": 9,
         "occupation": 6,
         "relationship": 0,
         "race": 0,
         "sex": 1,
         "hours_week": 71,
         "label": 0,
         "_deepnote_index_column": 24530
        },
        {
         "age": 60,
         "workclass": 0,
         "education": 1,
         "education_num": 13,
         "occupation": -3,
         "relationship": 0,
         "race": -1,
         "sex": 0,
         "hours_week": 7,
         "label": 1,
         "_deepnote_index_column": 24531
        },
        {
         "age": 23,
         "workclass": -2,
         "education": -1,
         "education_num": 10,
         "occupation": 4,
         "relationship": 1,
         "race": 1,
         "sex": 0,
         "hours_week": 69,
         "label": 0,
         "_deepnote_index_column": 24532
        },
        {
         "age": 40,
         "workclass": -1,
         "education": 0,
         "education_num": 9,
         "occupation": 4,
         "relationship": 1,
         "race": 1,
         "sex": 1,
         "hours_week": 27,
         "label": 1,
         "_deepnote_index_column": 24533
        },
        {
         "age": 21,
         "workclass": 0,
         "education": -1,
         "education_num": 10,
         "occupation": 5,
         "relationship": -2,
         "race": 1,
         "sex": 1,
         "hours_week": 47,
         "label": 1,
         "_deepnote_index_column": 24534
        },
        {
         "age": 38,
         "workclass": -1,
         "education": -1,
         "education_num": 9,
         "occupation": -3,
         "relationship": 1,
         "race": 1,
         "sex": 0,
         "hours_week": 86,
         "label": 1,
         "_deepnote_index_column": 24535
        },
        {
         "age": 81,
         "workclass": 1,
         "education": 0,
         "education_num": 9,
         "occupation": -2,
         "relationship": 1,
         "race": -2,
         "sex": 1,
         "hours_week": 22,
         "label": 1,
         "_deepnote_index_column": 24536
        },
        {
         "age": 82,
         "workclass": -2,
         "education": -4,
         "education_num": 16,
         "occupation": -4,
         "relationship": -1,
         "race": 0,
         "sex": 0,
         "hours_week": 29,
         "label": 0,
         "_deepnote_index_column": 24537
        },
        {
         "age": 35,
         "workclass": -3,
         "education": -1,
         "education_num": 10,
         "occupation": 4,
         "relationship": 0,
         "race": 1,
         "sex": 0,
         "hours_week": 33,
         "label": 0,
         "_deepnote_index_column": 24538
        },
        {
         "age": 29,
         "workclass": 3,
         "education": 1,
         "education_num": 13,
         "occupation": 4,
         "relationship": 0,
         "race": 0,
         "sex": 1,
         "hours_week": 13,
         "label": 0,
         "_deepnote_index_column": 24539
        },
        {
         "age": 28,
         "workclass": -2,
         "education": 0,
         "education_num": 9,
         "occupation": 4,
         "relationship": -1,
         "race": 1,
         "sex": 1,
         "hours_week": 48,
         "label": 0,
         "_deepnote_index_column": 24540
        },
        {
         "age": 25,
         "workclass": -3,
         "education": 0,
         "education_num": 9,
         "occupation": -2,
         "relationship": -1,
         "race": 2,
         "sex": 1,
         "hours_week": 12,
         "label": 1,
         "_deepnote_index_column": 24541
        },
        {
         "age": 41,
         "workclass": 1,
         "education": -1,
         "education_num": 10,
         "occupation": -2,
         "relationship": 2,
         "race": 1,
         "sex": 1,
         "hours_week": 9,
         "label": 0,
         "_deepnote_index_column": 24542
        },
        {
         "age": 63,
         "workclass": 2,
         "education": 1,
         "education_num": 10,
         "occupation": -3,
         "relationship": 0,
         "race": 2,
         "sex": 0,
         "hours_week": 37,
         "label": 1,
         "_deepnote_index_column": 24543
        },
        {
         "age": 41,
         "workclass": -3,
         "education": -3,
         "education_num": 15,
         "occupation": 0,
         "relationship": -1,
         "race": 2,
         "sex": 0,
         "hours_week": 81,
         "label": 1,
         "_deepnote_index_column": 24544
        },
        {
         "age": 64,
         "workclass": 3,
         "education": -1,
         "education_num": 10,
         "occupation": -3,
         "relationship": 1,
         "race": 2,
         "sex": 0,
         "hours_week": 31,
         "label": 1,
         "_deepnote_index_column": 24545
        },
        {
         "age": 41,
         "workclass": 3,
         "education": -1,
         "education_num": 10,
         "occupation": -2,
         "relationship": -1,
         "race": 2,
         "sex": 1,
         "hours_week": 96,
         "label": 1,
         "_deepnote_index_column": 24546
        },
        {
         "age": 73,
         "workclass": 2,
         "education": 0,
         "education_num": 9,
         "occupation": 3,
         "relationship": 2,
         "race": -2,
         "sex": 1,
         "hours_week": 82,
         "label": 0,
         "_deepnote_index_column": 24547
        },
        {
         "age": 76,
         "workclass": -1,
         "education": 1,
         "education_num": 13,
         "occupation": 6,
         "relationship": 0,
         "race": 2,
         "sex": 1,
         "hours_week": 20,
         "label": 0,
         "_deepnote_index_column": 24548
        },
        {
         "age": 53,
         "workclass": -3,
         "education": 0,
         "education_num": 9,
         "occupation": 0,
         "relationship": 1,
         "race": 1,
         "sex": 0,
         "hours_week": 13,
         "label": 1,
         "_deepnote_index_column": 24549
        },
        {
         "age": 59,
         "workclass": -2,
         "education": 0,
         "education_num": 9,
         "occupation": 2,
         "relationship": 2,
         "race": 2,
         "sex": 1,
         "hours_week": 80,
         "label": 0,
         "_deepnote_index_column": 24550
        },
        {
         "age": 87,
         "workclass": -1,
         "education": 0,
         "education_num": 9,
         "occupation": -2,
         "relationship": 1,
         "race": 0,
         "sex": 0,
         "hours_week": 3,
         "label": 0,
         "_deepnote_index_column": 24551
        },
        {
         "age": 85,
         "workclass": 3,
         "education": 2,
         "education_num": 13,
         "occupation": -6,
         "relationship": 0,
         "race": 0,
         "sex": 0,
         "hours_week": 46,
         "label": 1,
         "_deepnote_index_column": 24552
        },
        {
         "age": 21,
         "workclass": -3,
         "education": 0,
         "education_num": 9,
         "occupation": 2,
         "relationship": 2,
         "race": 2,
         "sex": 1,
         "hours_week": 8,
         "label": 0,
         "_deepnote_index_column": 24553
        },
        {
         "age": 40,
         "workclass": 1,
         "education": 0,
         "education_num": 9,
         "occupation": -4,
         "relationship": 1,
         "race": 1,
         "sex": 1,
         "hours_week": 29,
         "label": 1,
         "_deepnote_index_column": 24554
        },
        {
         "age": 21,
         "workclass": -3,
         "education": 0,
         "education_num": 9,
         "occupation": 6,
         "relationship": 0,
         "race": 1,
         "sex": 0,
         "hours_week": 54,
         "label": 1,
         "_deepnote_index_column": 24555
        },
        {
         "age": 54,
         "workclass": -1,
         "education": 0,
         "education_num": 9,
         "occupation": -3,
         "relationship": 0,
         "race": 1,
         "sex": 1,
         "hours_week": 95,
         "label": 1,
         "_deepnote_index_column": 24556
        },
        {
         "age": 84,
         "workclass": 2,
         "education": 1,
         "education_num": 3,
         "occupation": 2,
         "relationship": -3,
         "race": 2,
         "sex": 1,
         "hours_week": 78,
         "label": 1,
         "_deepnote_index_column": 24557
        },
        {
         "age": 65,
         "workclass": 3,
         "education": -1,
         "education_num": 10,
         "occupation": -2,
         "relationship": -2,
         "race": 1,
         "sex": 0,
         "hours_week": 98,
         "label": 1,
         "_deepnote_index_column": 24558
        },
        {
         "age": 62,
         "workclass": -3,
         "education": 0,
         "education_num": 9,
         "occupation": -1,
         "relationship": 1,
         "race": 0,
         "sex": 0,
         "hours_week": 22,
         "label": 1,
         "_deepnote_index_column": 24559
        },
        {
         "age": 59,
         "workclass": 0,
         "education": 0,
         "education_num": 9,
         "occupation": 5,
         "relationship": 0,
         "race": 1,
         "sex": 1,
         "hours_week": 4,
         "label": 1,
         "_deepnote_index_column": 24560
        },
        {
         "age": 49,
         "workclass": -3,
         "education": 0,
         "education_num": 9,
         "occupation": 3,
         "relationship": -2,
         "race": 0,
         "sex": 0,
         "hours_week": 44,
         "label": 1,
         "_deepnote_index_column": 24561
        },
        {
         "age": 79,
         "workclass": 2,
         "education": 3,
         "education_num": 10,
         "occupation": -2,
         "relationship": -1,
         "race": 1,
         "sex": 0,
         "hours_week": 74,
         "label": 0,
         "_deepnote_index_column": 24562
        },
        {
         "age": 43,
         "workclass": 0,
         "education": 0,
         "education_num": 9,
         "occupation": -2,
         "relationship": -2,
         "race": 0,
         "sex": 0,
         "hours_week": 31,
         "label": 1,
         "_deepnote_index_column": 24563
        },
        {
         "age": 21,
         "workclass": -3,
         "education": -1,
         "education_num": 10,
         "occupation": 2,
         "relationship": -3,
         "race": 1,
         "sex": 1,
         "hours_week": 33,
         "label": 1,
         "_deepnote_index_column": 24564
        },
        {
         "age": 59,
         "workclass": 2,
         "education": -1,
         "education_num": 11,
         "occupation": 1,
         "relationship": -2,
         "race": 2,
         "sex": 0,
         "hours_week": 60,
         "label": 0,
         "_deepnote_index_column": 24565
        },
        {
         "age": 67,
         "workclass": -1,
         "education": 2,
         "education_num": 13,
         "occupation": -2,
         "relationship": 1,
         "race": -1,
         "sex": 1,
         "hours_week": 70,
         "label": 0,
         "_deepnote_index_column": 24566
        },
        {
         "age": 81,
         "workclass": 0,
         "education": -3,
         "education_num": 11,
         "occupation": -3,
         "relationship": -3,
         "race": 0,
         "sex": 1,
         "hours_week": 26,
         "label": 1,
         "_deepnote_index_column": 24567
        },
        {
         "age": 87,
         "workclass": -3,
         "education": 0,
         "education_num": 9,
         "occupation": 6,
         "relationship": -3,
         "race": 0,
         "sex": 1,
         "hours_week": 89,
         "label": 1,
         "_deepnote_index_column": 24568
        },
        {
         "age": 25,
         "workclass": -3,
         "education": 3,
         "education_num": 5,
         "occupation": -4,
         "relationship": 0,
         "race": 0,
         "sex": 1,
         "hours_week": 59,
         "label": 1,
         "_deepnote_index_column": 24569
        },
        {
         "age": 49,
         "workclass": 1,
         "education": -1,
         "education_num": 10,
         "occupation": -2,
         "relationship": -2,
         "race": 1,
         "sex": 0,
         "hours_week": 80,
         "label": 1,
         "_deepnote_index_column": 24570
        },
        {
         "age": 80,
         "workclass": -2,
         "education": 1,
         "education_num": 13,
         "occupation": -2,
         "relationship": 1,
         "race": -1,
         "sex": 0,
         "hours_week": 46,
         "label": 1,
         "_deepnote_index_column": 24571
        },
        {
         "age": 75,
         "workclass": 2,
         "education": -1,
         "education_num": 10,
         "occupation": -2,
         "relationship": 1,
         "race": 1,
         "sex": 0,
         "hours_week": 68,
         "label": 1,
         "_deepnote_index_column": 24572
        },
        {
         "age": 64,
         "workclass": -2,
         "education": 3,
         "education_num": 11,
         "occupation": -1,
         "relationship": 0,
         "race": 2,
         "sex": 0,
         "hours_week": 49,
         "label": 1,
         "_deepnote_index_column": 24573
        }
       ]
      },
      "text/plain": "       age  workclass  education  education_num  occupation  relationship  \\\n0       62         -1         -1             10          -2             1   \n1       69          2          2             12          -3            -1   \n2       89          0          0              9           5            -3   \n3       90         -3         -1             10           2            -1   \n4       26          0         -4             14          -3             1   \n...    ...        ...        ...            ...         ...           ...   \n24569   25         -3          3              5          -4             0   \n24570   49          1         -1             10          -2            -2   \n24571   80         -2          1             13          -2             1   \n24572   75          2         -1             10          -2             1   \n24573   64         -2          3             11          -1             0   \n\n       race  sex  hours_week  label  \n0         1    0          53      0  \n1         1    0          70      1  \n2         0    0          30      0  \n3         0    1          99      0  \n4         1    0          75      0  \n...     ...  ...         ...    ...  \n24569     0    1          59      1  \n24570     1    0          80      1  \n24571    -1    0          46      1  \n24572     1    0          68      1  \n24573     2    0          49      1  \n\n[24574 rows x 10 columns]",
      "text/html": "<div>\n<style scoped>\n    .dataframe tbody tr th:only-of-type {\n        vertical-align: middle;\n    }\n\n    .dataframe tbody tr th {\n        vertical-align: top;\n    }\n\n    .dataframe thead th {\n        text-align: right;\n    }\n</style>\n<table border=\"1\" class=\"dataframe\">\n  <thead>\n    <tr style=\"text-align: right;\">\n      <th></th>\n      <th>age</th>\n      <th>workclass</th>\n      <th>education</th>\n      <th>education_num</th>\n      <th>occupation</th>\n      <th>relationship</th>\n      <th>race</th>\n      <th>sex</th>\n      <th>hours_week</th>\n      <th>label</th>\n    </tr>\n  </thead>\n  <tbody>\n    <tr>\n      <th>0</th>\n      <td>62</td>\n      <td>-1</td>\n      <td>-1</td>\n      <td>10</td>\n      <td>-2</td>\n      <td>1</td>\n      <td>1</td>\n      <td>0</td>\n      <td>53</td>\n      <td>0</td>\n    </tr>\n    <tr>\n      <th>1</th>\n      <td>69</td>\n      <td>2</td>\n      <td>2</td>\n      <td>12</td>\n      <td>-3</td>\n      <td>-1</td>\n      <td>1</td>\n      <td>0</td>\n      <td>70</td>\n      <td>1</td>\n    </tr>\n    <tr>\n      <th>2</th>\n      <td>89</td>\n      <td>0</td>\n      <td>0</td>\n      <td>9</td>\n      <td>5</td>\n      <td>-3</td>\n      <td>0</td>\n      <td>0</td>\n      <td>30</td>\n      <td>0</td>\n    </tr>\n    <tr>\n      <th>3</th>\n      <td>90</td>\n      <td>-3</td>\n      <td>-1</td>\n      <td>10</td>\n      <td>2</td>\n      <td>-1</td>\n      <td>0</td>\n      <td>1</td>\n      <td>99</td>\n      <td>0</td>\n    </tr>\n    <tr>\n      <th>4</th>\n      <td>26</td>\n      <td>0</td>\n      <td>-4</td>\n      <td>14</td>\n      <td>-3</td>\n      <td>1</td>\n      <td>1</td>\n      <td>0</td>\n      <td>75</td>\n      <td>0</td>\n    </tr>\n    <tr>\n      <th>...</th>\n      <td>...</td>\n      <td>...</td>\n      <td>...</td>\n      <td>...</td>\n      <td>...</td>\n      <td>...</td>\n      <td>...</td>\n      <td>...</td>\n      <td>...</td>\n      <td>...</td>\n    </tr>\n    <tr>\n      <th>24569</th>\n      <td>25</td>\n      <td>-3</td>\n      <td>3</td>\n      <td>5</td>\n      <td>-4</td>\n      <td>0</td>\n      <td>0</td>\n      <td>1</td>\n      <td>59</td>\n      <td>1</td>\n    </tr>\n    <tr>\n      <th>24570</th>\n      <td>49</td>\n      <td>1</td>\n      <td>-1</td>\n      <td>10</td>\n      <td>-2</td>\n      <td>-2</td>\n      <td>1</td>\n      <td>0</td>\n      <td>80</td>\n      <td>1</td>\n    </tr>\n    <tr>\n      <th>24571</th>\n      <td>80</td>\n      <td>-2</td>\n      <td>1</td>\n      <td>13</td>\n      <td>-2</td>\n      <td>1</td>\n      <td>-1</td>\n      <td>0</td>\n      <td>46</td>\n      <td>1</td>\n    </tr>\n    <tr>\n      <th>24572</th>\n      <td>75</td>\n      <td>2</td>\n      <td>-1</td>\n      <td>10</td>\n      <td>-2</td>\n      <td>1</td>\n      <td>1</td>\n      <td>0</td>\n      <td>68</td>\n      <td>1</td>\n    </tr>\n    <tr>\n      <th>24573</th>\n      <td>64</td>\n      <td>-2</td>\n      <td>3</td>\n      <td>11</td>\n      <td>-1</td>\n      <td>0</td>\n      <td>2</td>\n      <td>0</td>\n      <td>49</td>\n      <td>1</td>\n    </tr>\n  </tbody>\n</table>\n<p>24574 rows × 10 columns</p>\n</div>"
     },
     "metadata": {}
    }
   ]
  },
  {
   "cell_type": "markdown",
   "source": "### 4.1.2.2 Varying $\\varepsilon$",
   "metadata": {
    "cell_id": "00019-d6759cfc-3501-437d-b9c8-b37efd435c65",
    "deepnote_cell_type": "markdown"
   }
  },
  {
   "cell_type": "code",
   "source": "def get_synthesizer(synthesizer, epsilon):\n\n    # Instantiate an MWEM synthesizer\n    if synthesizer == \"MWEM\":\n        synth = MWEMSynthesizer(epsilon=epsilon, q_count=500, iterations=30, mult_weights_iterations=15, \n        splits=[], split_factor=2, max_bin_count=400)\n\n    return synth",
   "metadata": {
    "tags": [],
    "cell_id": "00018-7c4869f5-d813-49d5-bbb2-17764d4d90d8",
    "deepnote_to_be_reexecuted": false,
    "source_hash": "5df42e85",
    "execution_start": 1634159933923,
    "execution_millis": 0,
    "deepnote_cell_type": "code"
   },
   "outputs": [],
   "execution_count": null
  },
  {
   "cell_type": "code",
   "source": "def get_quail_synthesizer(synthesizer, classifier, epsilon, eps_split, target):\n\n    # Instantiate an MWEM synthesizer\n    if synthesizer == \"MWEM\":\n        def QuailSynth(epsilon):\n            return MWEMSynthesizer(epsilon=epsilon, q_count=500, iterations=30, mult_weights_iterations=15, \n                                    splits=[], split_factor=2, max_bin_count=400)\n    \n    # Instantiate a DPLR classifier\n    if classifier == \"DPLR\":\n        def QuailClassifier(epsilon):\n            return DPLR(epsilon=epsilon)\n\n    # Create a QUAIL synthesizer with base synthesizer and DP classifier\n    quail = QUAILSynthesizer(epsilon, QuailSynth, QuailClassifier, target, eps_split)\n\n    return quail",
   "metadata": {
    "tags": [],
    "cell_id": "00021-117ac92f-9085-4768-b833-98675dddf9cd",
    "deepnote_to_be_reexecuted": false,
    "source_hash": "237b5f9f",
    "execution_start": 1634162672451,
    "execution_millis": 0,
    "deepnote_cell_type": "code"
   },
   "outputs": [],
   "execution_count": null
  },
  {
   "cell_type": "code",
   "metadata": {
    "cell_id": "00020-21349021-9c5b-481e-bda4-a2b7e910842c",
    "deepnote_to_be_reexecuted": false,
    "source_hash": "8ef8bec7",
    "execution_start": 1634162412597,
    "execution_millis": 22,
    "deepnote_cell_type": "code"
   },
   "source": "def adult_fairness_privacy_range(epsilon_vals, adult_train, adult_test, synthesizer=\"MWEM\", \n                                    quail=False, classifier=None, eps_split=None, n_reps=1):\n    '''\n    Calculates fairness metrics for binary\n    classification on Adult data obtained by\n    training classifier on synthetic training\n    data and testing on non-private test data.\n    \n    INPUTS\n    ======\n    epsilon_vals: list containing privacy loss\n    parameter values to apply, array-like\n    adult_train: non-private training data (X and \n    y) to train synthesizer, pandas DataFrame\n    adult_test: non-private test data (X and y)\n    synthesizer: the type of synthesizer to use, str\n    n_reps: the number of synthetic data sets to\n    generate for each epsilon, int\n    \n    RETURNS\n    =======\n    Dictionary where each key is an epsilon and \n    each value is a list of two tuples containing\n    the average fairness metrics for female and male\n    across the repetitions, i.e. the average values of\n    (TP_f, FP_f, TN_f, FN_f), (TP_m, FP_m, TN_m, FN_m)\n    '''\n    \n    # Initialize dictionary of fairness metrics\n    fairness_dict = {}\n    \n    for epsilon in epsilon_vals:\n\n        avg_female_tup, avg_male_tup = np.array([0,0,0,0]), np.array([0,0,0,0])\n\n        for _ in range(n_reps):\n\n            if quail:  \n                # Create a QUAIL-wrapped synthesizer\n                quail = get_quail_synthesizer(synthesizer, classifier, epsilon, eps_split, target=\"label\")\n\n                # Fit synthesizer to the training data\n                quail.fit(adult_train)\n\n                # Create private synthetic data\n                adult_train_synth = quail.sample(int(adult_train.shape[0]))\n\n            else:\n                # Create a regular synthesizer\n                synth = get_synthesizer(synthesizer, epsilon)\n        \n                # Fit synthesizer to the training data\n                synth.fit(adult_train.to_numpy())\n                \n                # Create private synthetic data\n                adult_train_synth = pd.DataFrame(synth.sample(int(adult_train.shape[0])), columns=adult_train.columns)\n            \n            # Split synthetic training data into X and y\n            X_train, y_train = adult_train_synth.drop([\"label\"], axis=1), adult_train_synth[\"label\"]\n            \n            # Split the non-private test data into X and y\n            X_test, y_test = adult_test.drop([\"label\"], axis=1), adult_test[\"label\"]\n            \n            # Run the binary classification pipeline\n            female_tup, male_tup = adult_binary_classification_pipeline(X_train, y_train, X_test, y_test)\n            female_tup = np.array(female_tup)\n            male_tup = np.array(male_tup)\n\n            # Add values to the average tuples\n            avg_female_tup = np.sum([avg_female_tup, female_tup], axis=0)\n            avg_male_tup = np.sum([avg_male_tup, male_tup], axis=0)\n        \n        # Calculate the averaged values\n        avg_female_tup = np.divide(avg_female_tup, n_reps)\n        avg_male_tup = np.divide(avg_male_tup, n_reps)\n\n        # Add the tuples to dictionary\n        fairness_dict[epsilon] = [avg_female_tup, avg_male_tup]\n        \n    return fairness_dict",
   "outputs": [],
   "execution_count": null
  },
  {
   "cell_type": "code",
   "metadata": {
    "cell_id": "00021-8c29f080-f636-46df-88a0-1377d8bbcd76",
    "deepnote_to_be_reexecuted": false,
    "source_hash": "153eabc5",
    "execution_start": 1634155386965,
    "execution_millis": 738177,
    "deepnote_cell_type": "code"
   },
   "source": "# Set range of epsilon values\nepsilon_vals = [1.0, 2.0, 3.0, 4.0, 5.0, 6.0, 7.0, 8.0]\n\n# Get dictionary of averaged fairness metrics across 5 repetitions for range of values\nadult_fairness_dict = adult_fairness_privacy_range(epsilon_vals, adult_train, adult_test, synthesizer=\"MWEM\", n_reps=5)",
   "outputs": [
    {
     "name": "stderr",
     "text": "/work/smartnoise-sdk/synth/snsynth/mwem.py:229: Warning: Flattened dimensionality of synthetic histogram is less than the number of iterations. This is a privacy risk. Consider increasing your split_factor (especially if it is 1), or decreasing the number of iterations. Dim: 10 Split: [6 7]\n  Warning,\n/work/smartnoise-sdk/synth/snsynth/mwem.py:229: Warning: Flattened dimensionality of synthetic histogram is less than the number of iterations. This is a privacy risk. Consider increasing your split_factor (especially if it is 1), or decreasing the number of iterations. Dim: 10 Split: [6 7]\n  Warning,\n/work/smartnoise-sdk/synth/snsynth/mwem.py:229: Warning: Flattened dimensionality of synthetic histogram is less than the number of iterations. This is a privacy risk. Consider increasing your split_factor (especially if it is 1), or decreasing the number of iterations. Dim: 10 Split: [6 7]\n  Warning,\n/work/smartnoise-sdk/synth/snsynth/mwem.py:229: Warning: Flattened dimensionality of synthetic histogram is less than the number of iterations. This is a privacy risk. Consider increasing your split_factor (especially if it is 1), or decreasing the number of iterations. Dim: 10 Split: [6 7]\n  Warning,\n/work/smartnoise-sdk/synth/snsynth/mwem.py:229: Warning: Flattened dimensionality of synthetic histogram is less than the number of iterations. This is a privacy risk. Consider increasing your split_factor (especially if it is 1), or decreasing the number of iterations. Dim: 10 Split: [6 7]\n  Warning,\n/work/smartnoise-sdk/synth/snsynth/mwem.py:229: Warning: Flattened dimensionality of synthetic histogram is less than the number of iterations. This is a privacy risk. Consider increasing your split_factor (especially if it is 1), or decreasing the number of iterations. Dim: 10 Split: [6 7]\n  Warning,\n/work/smartnoise-sdk/synth/snsynth/mwem.py:229: Warning: Flattened dimensionality of synthetic histogram is less than the number of iterations. This is a privacy risk. Consider increasing your split_factor (especially if it is 1), or decreasing the number of iterations. Dim: 10 Split: [6 7]\n  Warning,\n/work/smartnoise-sdk/synth/snsynth/mwem.py:229: Warning: Flattened dimensionality of synthetic histogram is less than the number of iterations. This is a privacy risk. Consider increasing your split_factor (especially if it is 1), or decreasing the number of iterations. Dim: 10 Split: [6 7]\n  Warning,\n/work/smartnoise-sdk/synth/snsynth/mwem.py:229: Warning: Flattened dimensionality of synthetic histogram is less than the number of iterations. This is a privacy risk. Consider increasing your split_factor (especially if it is 1), or decreasing the number of iterations. Dim: 10 Split: [6 7]\n  Warning,\n/work/smartnoise-sdk/synth/snsynth/mwem.py:229: Warning: Flattened dimensionality of synthetic histogram is less than the number of iterations. This is a privacy risk. Consider increasing your split_factor (especially if it is 1), or decreasing the number of iterations. Dim: 10 Split: [6 7]\n  Warning,\n/work/smartnoise-sdk/synth/snsynth/mwem.py:229: Warning: Flattened dimensionality of synthetic histogram is less than the number of iterations. This is a privacy risk. Consider increasing your split_factor (especially if it is 1), or decreasing the number of iterations. Dim: 10 Split: [6 7]\n  Warning,\n/work/smartnoise-sdk/synth/snsynth/mwem.py:229: Warning: Flattened dimensionality of synthetic histogram is less than the number of iterations. This is a privacy risk. Consider increasing your split_factor (especially if it is 1), or decreasing the number of iterations. Dim: 10 Split: [6 7]\n  Warning,\n/work/smartnoise-sdk/synth/snsynth/mwem.py:229: Warning: Flattened dimensionality of synthetic histogram is less than the number of iterations. This is a privacy risk. Consider increasing your split_factor (especially if it is 1), or decreasing the number of iterations. Dim: 10 Split: [6 7]\n  Warning,\n/work/smartnoise-sdk/synth/snsynth/mwem.py:229: Warning: Flattened dimensionality of synthetic histogram is less than the number of iterations. This is a privacy risk. Consider increasing your split_factor (especially if it is 1), or decreasing the number of iterations. Dim: 10 Split: [6 7]\n  Warning,\n/work/smartnoise-sdk/synth/snsynth/mwem.py:229: Warning: Flattened dimensionality of synthetic histogram is less than the number of iterations. This is a privacy risk. Consider increasing your split_factor (especially if it is 1), or decreasing the number of iterations. Dim: 10 Split: [6 7]\n  Warning,\n/work/smartnoise-sdk/synth/snsynth/mwem.py:229: Warning: Flattened dimensionality of synthetic histogram is less than the number of iterations. This is a privacy risk. Consider increasing your split_factor (especially if it is 1), or decreasing the number of iterations. Dim: 10 Split: [6 7]\n  Warning,\n/work/smartnoise-sdk/synth/snsynth/mwem.py:229: Warning: Flattened dimensionality of synthetic histogram is less than the number of iterations. This is a privacy risk. Consider increasing your split_factor (especially if it is 1), or decreasing the number of iterations. Dim: 10 Split: [6 7]\n  Warning,\n/work/smartnoise-sdk/synth/snsynth/mwem.py:229: Warning: Flattened dimensionality of synthetic histogram is less than the number of iterations. This is a privacy risk. Consider increasing your split_factor (especially if it is 1), or decreasing the number of iterations. Dim: 10 Split: [6 7]\n  Warning,\n/work/smartnoise-sdk/synth/snsynth/mwem.py:229: Warning: Flattened dimensionality of synthetic histogram is less than the number of iterations. This is a privacy risk. Consider increasing your split_factor (especially if it is 1), or decreasing the number of iterations. Dim: 10 Split: [6 7]\n  Warning,\n/work/smartnoise-sdk/synth/snsynth/mwem.py:229: Warning: Flattened dimensionality of synthetic histogram is less than the number of iterations. This is a privacy risk. Consider increasing your split_factor (especially if it is 1), or decreasing the number of iterations. Dim: 10 Split: [6 7]\n  Warning,\n/work/smartnoise-sdk/synth/snsynth/mwem.py:229: Warning: Flattened dimensionality of synthetic histogram is less than the number of iterations. This is a privacy risk. Consider increasing your split_factor (especially if it is 1), or decreasing the number of iterations. Dim: 10 Split: [6 7]\n  Warning,\n/work/smartnoise-sdk/synth/snsynth/mwem.py:229: Warning: Flattened dimensionality of synthetic histogram is less than the number of iterations. This is a privacy risk. Consider increasing your split_factor (especially if it is 1), or decreasing the number of iterations. Dim: 10 Split: [6 7]\n  Warning,\n/work/smartnoise-sdk/synth/snsynth/mwem.py:229: Warning: Flattened dimensionality of synthetic histogram is less than the number of iterations. This is a privacy risk. Consider increasing your split_factor (especially if it is 1), or decreasing the number of iterations. Dim: 10 Split: [6 7]\n  Warning,\n/work/smartnoise-sdk/synth/snsynth/mwem.py:229: Warning: Flattened dimensionality of synthetic histogram is less than the number of iterations. This is a privacy risk. Consider increasing your split_factor (especially if it is 1), or decreasing the number of iterations. Dim: 10 Split: [6 7]\n  Warning,\n/work/smartnoise-sdk/synth/snsynth/mwem.py:229: Warning: Flattened dimensionality of synthetic histogram is less than the number of iterations. This is a privacy risk. Consider increasing your split_factor (especially if it is 1), or decreasing the number of iterations. Dim: 10 Split: [6 7]\n  Warning,\n/work/smartnoise-sdk/synth/snsynth/mwem.py:229: Warning: Flattened dimensionality of synthetic histogram is less than the number of iterations. This is a privacy risk. Consider increasing your split_factor (especially if it is 1), or decreasing the number of iterations. Dim: 10 Split: [6 7]\n  Warning,\n/work/smartnoise-sdk/synth/snsynth/mwem.py:229: Warning: Flattened dimensionality of synthetic histogram is less than the number of iterations. This is a privacy risk. Consider increasing your split_factor (especially if it is 1), or decreasing the number of iterations. Dim: 10 Split: [6 7]\n  Warning,\n/work/smartnoise-sdk/synth/snsynth/mwem.py:229: Warning: Flattened dimensionality of synthetic histogram is less than the number of iterations. This is a privacy risk. Consider increasing your split_factor (especially if it is 1), or decreasing the number of iterations. Dim: 10 Split: [6 7]\n  Warning,\n/work/smartnoise-sdk/synth/snsynth/mwem.py:229: Warning: Flattened dimensionality of synthetic histogram is less than the number of iterations. This is a privacy risk. Consider increasing your split_factor (especially if it is 1), or decreasing the number of iterations. Dim: 10 Split: [6 7]\n  Warning,\n/work/smartnoise-sdk/synth/snsynth/mwem.py:229: Warning: Flattened dimensionality of synthetic histogram is less than the number of iterations. This is a privacy risk. Consider increasing your split_factor (especially if it is 1), or decreasing the number of iterations. Dim: 10 Split: [6 7]\n  Warning,\n/work/smartnoise-sdk/synth/snsynth/mwem.py:229: Warning: Flattened dimensionality of synthetic histogram is less than the number of iterations. This is a privacy risk. Consider increasing your split_factor (especially if it is 1), or decreasing the number of iterations. Dim: 10 Split: [6 7]\n  Warning,\n/work/smartnoise-sdk/synth/snsynth/mwem.py:229: Warning: Flattened dimensionality of synthetic histogram is less than the number of iterations. This is a privacy risk. Consider increasing your split_factor (especially if it is 1), or decreasing the number of iterations. Dim: 10 Split: [6 7]\n  Warning,\n/work/smartnoise-sdk/synth/snsynth/mwem.py:229: Warning: Flattened dimensionality of synthetic histogram is less than the number of iterations. This is a privacy risk. Consider increasing your split_factor (especially if it is 1), or decreasing the number of iterations. Dim: 10 Split: [6 7]\n  Warning,\n/work/smartnoise-sdk/synth/snsynth/mwem.py:229: Warning: Flattened dimensionality of synthetic histogram is less than the number of iterations. This is a privacy risk. Consider increasing your split_factor (especially if it is 1), or decreasing the number of iterations. Dim: 10 Split: [6 7]\n  Warning,\n/work/smartnoise-sdk/synth/snsynth/mwem.py:229: Warning: Flattened dimensionality of synthetic histogram is less than the number of iterations. This is a privacy risk. Consider increasing your split_factor (especially if it is 1), or decreasing the number of iterations. Dim: 10 Split: [6 7]\n  Warning,\n/work/smartnoise-sdk/synth/snsynth/mwem.py:229: Warning: Flattened dimensionality of synthetic histogram is less than the number of iterations. This is a privacy risk. Consider increasing your split_factor (especially if it is 1), or decreasing the number of iterations. Dim: 10 Split: [6 7]\n  Warning,\n/work/smartnoise-sdk/synth/snsynth/mwem.py:229: Warning: Flattened dimensionality of synthetic histogram is less than the number of iterations. This is a privacy risk. Consider increasing your split_factor (especially if it is 1), or decreasing the number of iterations. Dim: 10 Split: [6 7]\n  Warning,\n/work/smartnoise-sdk/synth/snsynth/mwem.py:229: Warning: Flattened dimensionality of synthetic histogram is less than the number of iterations. This is a privacy risk. Consider increasing your split_factor (especially if it is 1), or decreasing the number of iterations. Dim: 10 Split: [6 7]\n  Warning,\n/work/smartnoise-sdk/synth/snsynth/mwem.py:229: Warning: Flattened dimensionality of synthetic histogram is less than the number of iterations. This is a privacy risk. Consider increasing your split_factor (especially if it is 1), or decreasing the number of iterations. Dim: 10 Split: [6 7]\n  Warning,\n/work/smartnoise-sdk/synth/snsynth/mwem.py:229: Warning: Flattened dimensionality of synthetic histogram is less than the number of iterations. This is a privacy risk. Consider increasing your split_factor (especially if it is 1), or decreasing the number of iterations. Dim: 10 Split: [6 7]\n  Warning,\n",
     "output_type": "stream"
    }
   ],
   "execution_count": null
  },
  {
   "cell_type": "code",
   "metadata": {
    "cell_id": "00022-52c97741-9b29-46ef-ab8a-8610d749d02d",
    "deepnote_to_be_reexecuted": false,
    "source_hash": "73a01a4f",
    "execution_start": 1634163545761,
    "execution_millis": 13,
    "deepnote_cell_type": "code"
   },
   "source": "def plot_fairness_dict(fairness_dict, plot_non_private=False):\n\n    # Initialize a figure\n    fig, axs = plt.subplots(2, 1, figsize=(12,16))\n    axs = axs.ravel()\n\n    # Initialize lists to hold epsilon and averaged metrics\n    epsilon_list = []\n    tpr_diff_list = []\n    fpr_diff_list = []\n    acc_f_list = []\n    acc_m_list = []\n\n    # Loop through the dictionary of results\n    for epsilon, metric_list in fairness_dict.items():\n\n        # Get the average true positive and false positive rates\n        female_tup, male_tup = metric_list\n        TPR_f, TPR_m, FPR_f, FPR_m = adult_fairness_summary(female_tup, male_tup)\n\n        # Get the average equalized odds distances\n        tpr_diff = TPR_m-TPR_f\n        fpr_diff = FPR_m-FPR_f\n\n        # Get the average accuracies\n        ACC_f = (female_tup[0] + female_tup[2]) / sum(female_tup)\n        ACC_m = (male_tup[0] + male_tup[2]) / sum(male_tup)\n\n        # Add average metrics to lists\n        epsilon_list.append(epsilon)\n        tpr_diff_list.append(tpr_diff)\n        fpr_diff_list.append(fpr_diff)\n        acc_f_list.append(ACC_f)\n        acc_m_list.append(ACC_m)\n\n    # Plot the results\n    min_eps = np.min(epsilon_list)\n    max_eps = np.max(epsilon_list)\n    if plot_non_private:\n        axs[0].hlines(TPR_diff_non_private, xmin=min_eps, xmax=max_eps, colors=\"darkorange\", linestyles=\"--\", label=\"Non-private TPR\")\n        axs[0].hlines(FPR_diff_non_private, xmin=min_eps, xmax=max_eps, colors=\"royalblue\", linestyles=\"--\", label=\"Non-private FPR\")\n        axs[1].hlines(ACC_f_non_private, xmin=min_eps, xmax=max_eps, colors=\"darkorange\", linestyles=\"--\", label=\"Non-private Female\")\n        axs[1].hlines(ACC_m_non_private, xmin=min_eps, xmax=max_eps, colors=\"royalblue\", linestyles=\"--\", label=\"Non-private Male\")\n    axs[0].hlines(0, xmin=min_eps, xmax=max_eps, colors=\"grey\", linestyles=\"--\", label=\"Perfect fairness\")\n    axs[0].plot(epsilon_list, tpr_diff_list, label=\"TPR\", c=\"darkorange\", marker='o')\n    axs[0].plot(epsilon_list, fpr_diff_list, label=\"FPR\", c=\"royalblue\", marker='o')\n    axs[0].set_xlabel(\"Privacy loss (epsilon)\")\n    axs[0].set_ylabel(\"Equalized odds distance\")\n    axs[0].set_title(\"Equalized odds distances for female vs male\")\n    axs[0].legend()\n    axs[1].plot(epsilon_list, acc_f_list, label=\"Female\", c=\"darkorange\", marker='o')\n    axs[1].plot(epsilon_list, acc_m_list, label=\"Male\", c=\"royalblue\", marker='o')\n    axs[1].set_xlabel(\"Privacy loss (epsilon)\")\n    axs[1].set_ylabel(\"Overall accuracy\")\n    axs[1].set_title(\"Classification accuracies for female vs male\")\n    axs[1].legend()",
   "outputs": [],
   "execution_count": null
  },
  {
   "cell_type": "code",
   "metadata": {
    "cell_id": "00023-de280535-30c2-484a-be4f-eff4402e83ad",
    "deepnote_to_be_reexecuted": false,
    "source_hash": "b34d6d66",
    "execution_start": 1634163547094,
    "execution_millis": 992,
    "deepnote_cell_type": "code"
   },
   "source": "# Plot the fairness and accuracy metrics for female vs male\nplot_fairness_dict(adult_fairness_dict, plot_non_private=True)",
   "outputs": [
    {
     "data": {
      "text/plain": "<Figure size 864x1152 with 2 Axes>",
      "image/png": "[encoded data removed]"
     },
     "metadata": {
      "needs_background": "light",
      "image/png": {
       "width": 729,
       "height": 931
      }
     },
     "output_type": "display_data"
    }
   ],
   "execution_count": null
  },
  {
   "cell_type": "code",
   "source": "# Set range of epsilon values\nepsilon_vals = [0.01, 0.1, 0.5, 1.0, 3.0, 6.0, 9.0]\n\n# Get dictionary of averaged fairness metrics across 10 repetitions for range of values\nadult_fairness_dict_2 = adult_fairness_privacy_range(epsilon_vals, adult_train, adult_test, synthesizer=\"MWEM\", n_reps=10)",
   "metadata": {
    "tags": [],
    "cell_id": "00022-06d00568-0e7a-4b66-a0ac-9bec2b254338",
    "deepnote_to_be_reexecuted": false,
    "source_hash": "1d0811a9",
    "execution_start": 1634156918279,
    "execution_millis": 2096940,
    "deepnote_cell_type": "code"
   },
   "outputs": [
    {
     "name": "stderr",
     "text": "/work/smartnoise-sdk/synth/snsynth/mwem.py:229: Warning: Flattened dimensionality of synthetic histogram is less than the number of iterations. This is a privacy risk. Consider increasing your split_factor (especially if it is 1), or decreasing the number of iterations. Dim: 10 Split: [6 7]\n  Warning,\n/work/smartnoise-sdk/synth/snsynth/mwem.py:229: Warning: Flattened dimensionality of synthetic histogram is less than the number of iterations. This is a privacy risk. Consider increasing your split_factor (especially if it is 1), or decreasing the number of iterations. Dim: 10 Split: [6 7]\n  Warning,\n/work/smartnoise-sdk/synth/snsynth/mwem.py:229: Warning: Flattened dimensionality of synthetic histogram is less than the number of iterations. This is a privacy risk. Consider increasing your split_factor (especially if it is 1), or decreasing the number of iterations. Dim: 10 Split: [6 7]\n  Warning,\n/work/smartnoise-sdk/synth/snsynth/mwem.py:229: Warning: Flattened dimensionality of synthetic histogram is less than the number of iterations. This is a privacy risk. Consider increasing your split_factor (especially if it is 1), or decreasing the number of iterations. Dim: 10 Split: [6 7]\n  Warning,\n/work/smartnoise-sdk/synth/snsynth/mwem.py:229: Warning: Flattened dimensionality of synthetic histogram is less than the number of iterations. This is a privacy risk. Consider increasing your split_factor (especially if it is 1), or decreasing the number of iterations. Dim: 10 Split: [6 7]\n  Warning,\n/work/smartnoise-sdk/synth/snsynth/mwem.py:229: Warning: Flattened dimensionality of synthetic histogram is less than the number of iterations. This is a privacy risk. Consider increasing your split_factor (especially if it is 1), or decreasing the number of iterations. Dim: 10 Split: [6 7]\n  Warning,\n/work/smartnoise-sdk/synth/snsynth/mwem.py:229: Warning: Flattened dimensionality of synthetic histogram is less than the number of iterations. This is a privacy risk. Consider increasing your split_factor (especially if it is 1), or decreasing the number of iterations. Dim: 10 Split: [6 7]\n  Warning,\n/work/smartnoise-sdk/synth/snsynth/mwem.py:229: Warning: Flattened dimensionality of synthetic histogram is less than the number of iterations. This is a privacy risk. Consider increasing your split_factor (especially if it is 1), or decreasing the number of iterations. Dim: 10 Split: [6 7]\n  Warning,\n/work/smartnoise-sdk/synth/snsynth/mwem.py:229: Warning: Flattened dimensionality of synthetic histogram is less than the number of iterations. This is a privacy risk. Consider increasing your split_factor (especially if it is 1), or decreasing the number of iterations. Dim: 10 Split: [6 7]\n  Warning,\n/work/smartnoise-sdk/synth/snsynth/mwem.py:229: Warning: Flattened dimensionality of synthetic histogram is less than the number of iterations. This is a privacy risk. Consider increasing your split_factor (especially if it is 1), or decreasing the number of iterations. Dim: 10 Split: [6 7]\n  Warning,\n/work/smartnoise-sdk/synth/snsynth/mwem.py:229: Warning: Flattened dimensionality of synthetic histogram is less than the number of iterations. This is a privacy risk. Consider increasing your split_factor (especially if it is 1), or decreasing the number of iterations. Dim: 10 Split: [6 7]\n  Warning,\n/work/smartnoise-sdk/synth/snsynth/mwem.py:229: Warning: Flattened dimensionality of synthetic histogram is less than the number of iterations. This is a privacy risk. Consider increasing your split_factor (especially if it is 1), or decreasing the number of iterations. Dim: 10 Split: [6 7]\n  Warning,\n/work/smartnoise-sdk/synth/snsynth/mwem.py:229: Warning: Flattened dimensionality of synthetic histogram is less than the number of iterations. This is a privacy risk. Consider increasing your split_factor (especially if it is 1), or decreasing the number of iterations. Dim: 10 Split: [6 7]\n  Warning,\n/work/smartnoise-sdk/synth/snsynth/mwem.py:229: Warning: Flattened dimensionality of synthetic histogram is less than the number of iterations. This is a privacy risk. Consider increasing your split_factor (especially if it is 1), or decreasing the number of iterations. Dim: 10 Split: [6 7]\n  Warning,\n/work/smartnoise-sdk/synth/snsynth/mwem.py:229: Warning: Flattened dimensionality of synthetic histogram is less than the number of iterations. This is a privacy risk. Consider increasing your split_factor (especially if it is 1), or decreasing the number of iterations. Dim: 10 Split: [6 7]\n  Warning,\n/work/smartnoise-sdk/synth/snsynth/mwem.py:229: Warning: Flattened dimensionality of synthetic histogram is less than the number of iterations. This is a privacy risk. Consider increasing your split_factor (especially if it is 1), or decreasing the number of iterations. Dim: 10 Split: [6 7]\n  Warning,\n/work/smartnoise-sdk/synth/snsynth/mwem.py:229: Warning: Flattened dimensionality of synthetic histogram is less than the number of iterations. This is a privacy risk. Consider increasing your split_factor (especially if it is 1), or decreasing the number of iterations. Dim: 10 Split: [6 7]\n  Warning,\n/work/smartnoise-sdk/synth/snsynth/mwem.py:229: Warning: Flattened dimensionality of synthetic histogram is less than the number of iterations. This is a privacy risk. Consider increasing your split_factor (especially if it is 1), or decreasing the number of iterations. Dim: 10 Split: [6 7]\n  Warning,\n/work/smartnoise-sdk/synth/snsynth/mwem.py:229: Warning: Flattened dimensionality of synthetic histogram is less than the number of iterations. This is a privacy risk. Consider increasing your split_factor (especially if it is 1), or decreasing the number of iterations. Dim: 10 Split: [6 7]\n  Warning,\n/work/smartnoise-sdk/synth/snsynth/mwem.py:229: Warning: Flattened dimensionality of synthetic histogram is less than the number of iterations. This is a privacy risk. Consider increasing your split_factor (especially if it is 1), or decreasing the number of iterations. Dim: 10 Split: [6 7]\n  Warning,\n/work/smartnoise-sdk/synth/snsynth/mwem.py:229: Warning: Flattened dimensionality of synthetic histogram is less than the number of iterations. This is a privacy risk. Consider increasing your split_factor (especially if it is 1), or decreasing the number of iterations. Dim: 10 Split: [6 7]\n  Warning,\n/work/smartnoise-sdk/synth/snsynth/mwem.py:229: Warning: Flattened dimensionality of synthetic histogram is less than the number of iterations. This is a privacy risk. Consider increasing your split_factor (especially if it is 1), or decreasing the number of iterations. Dim: 10 Split: [6 7]\n  Warning,\n/work/smartnoise-sdk/synth/snsynth/mwem.py:229: Warning: Flattened dimensionality of synthetic histogram is less than the number of iterations. This is a privacy risk. Consider increasing your split_factor (especially if it is 1), or decreasing the number of iterations. Dim: 10 Split: [6 7]\n  Warning,\n/work/smartnoise-sdk/synth/snsynth/mwem.py:229: Warning: Flattened dimensionality of synthetic histogram is less than the number of iterations. This is a privacy risk. Consider increasing your split_factor (especially if it is 1), or decreasing the number of iterations. Dim: 10 Split: [6 7]\n  Warning,\n/work/smartnoise-sdk/synth/snsynth/mwem.py:229: Warning: Flattened dimensionality of synthetic histogram is less than the number of iterations. This is a privacy risk. Consider increasing your split_factor (especially if it is 1), or decreasing the number of iterations. Dim: 10 Split: [6 7]\n  Warning,\n/work/smartnoise-sdk/synth/snsynth/mwem.py:229: Warning: Flattened dimensionality of synthetic histogram is less than the number of iterations. This is a privacy risk. Consider increasing your split_factor (especially if it is 1), or decreasing the number of iterations. Dim: 10 Split: [6 7]\n  Warning,\n/work/smartnoise-sdk/synth/snsynth/mwem.py:229: Warning: Flattened dimensionality of synthetic histogram is less than the number of iterations. This is a privacy risk. Consider increasing your split_factor (especially if it is 1), or decreasing the number of iterations. Dim: 10 Split: [6 7]\n  Warning,\n/work/smartnoise-sdk/synth/snsynth/mwem.py:229: Warning: Flattened dimensionality of synthetic histogram is less than the number of iterations. This is a privacy risk. Consider increasing your split_factor (especially if it is 1), or decreasing the number of iterations. Dim: 10 Split: [6 7]\n  Warning,\n/work/smartnoise-sdk/synth/snsynth/mwem.py:229: Warning: Flattened dimensionality of synthetic histogram is less than the number of iterations. This is a privacy risk. Consider increasing your split_factor (especially if it is 1), or decreasing the number of iterations. Dim: 10 Split: [6 7]\n  Warning,\n/work/smartnoise-sdk/synth/snsynth/mwem.py:229: Warning: Flattened dimensionality of synthetic histogram is less than the number of iterations. This is a privacy risk. Consider increasing your split_factor (especially if it is 1), or decreasing the number of iterations. Dim: 10 Split: [6 7]\n  Warning,\n/work/smartnoise-sdk/synth/snsynth/mwem.py:229: Warning: Flattened dimensionality of synthetic histogram is less than the number of iterations. This is a privacy risk. Consider increasing your split_factor (especially if it is 1), or decreasing the number of iterations. Dim: 10 Split: [6 7]\n  Warning,\n/work/smartnoise-sdk/synth/snsynth/mwem.py:229: Warning: Flattened dimensionality of synthetic histogram is less than the number of iterations. This is a privacy risk. Consider increasing your split_factor (especially if it is 1), or decreasing the number of iterations. Dim: 10 Split: [6 7]\n  Warning,\n/work/smartnoise-sdk/synth/snsynth/mwem.py:229: Warning: Flattened dimensionality of synthetic histogram is less than the number of iterations. This is a privacy risk. Consider increasing your split_factor (especially if it is 1), or decreasing the number of iterations. Dim: 10 Split: [6 7]\n  Warning,\n/work/smartnoise-sdk/synth/snsynth/mwem.py:229: Warning: Flattened dimensionality of synthetic histogram is less than the number of iterations. This is a privacy risk. Consider increasing your split_factor (especially if it is 1), or decreasing the number of iterations. Dim: 10 Split: [6 7]\n  Warning,\n/work/smartnoise-sdk/synth/snsynth/mwem.py:229: Warning: Flattened dimensionality of synthetic histogram is less than the number of iterations. This is a privacy risk. Consider increasing your split_factor (especially if it is 1), or decreasing the number of iterations. Dim: 10 Split: [6 7]\n  Warning,\n/work/smartnoise-sdk/synth/snsynth/mwem.py:229: Warning: Flattened dimensionality of synthetic histogram is less than the number of iterations. This is a privacy risk. Consider increasing your split_factor (especially if it is 1), or decreasing the number of iterations. Dim: 10 Split: [6 7]\n  Warning,\n/work/smartnoise-sdk/synth/snsynth/mwem.py:229: Warning: Flattened dimensionality of synthetic histogram is less than the number of iterations. This is a privacy risk. Consider increasing your split_factor (especially if it is 1), or decreasing the number of iterations. Dim: 10 Split: [6 7]\n  Warning,\n/work/smartnoise-sdk/synth/snsynth/mwem.py:229: Warning: Flattened dimensionality of synthetic histogram is less than the number of iterations. This is a privacy risk. Consider increasing your split_factor (especially if it is 1), or decreasing the number of iterations. Dim: 10 Split: [6 7]\n  Warning,\n/work/smartnoise-sdk/synth/snsynth/mwem.py:229: Warning: Flattened dimensionality of synthetic histogram is less than the number of iterations. This is a privacy risk. Consider increasing your split_factor (especially if it is 1), or decreasing the number of iterations. Dim: 10 Split: [6 7]\n  Warning,\n/work/smartnoise-sdk/synth/snsynth/mwem.py:229: Warning: Flattened dimensionality of synthetic histogram is less than the number of iterations. This is a privacy risk. Consider increasing your split_factor (especially if it is 1), or decreasing the number of iterations. Dim: 10 Split: [6 7]\n  Warning,\n/work/smartnoise-sdk/synth/snsynth/mwem.py:229: Warning: Flattened dimensionality of synthetic histogram is less than the number of iterations. This is a privacy risk. Consider increasing your split_factor (especially if it is 1), or decreasing the number of iterations. Dim: 10 Split: [6 7]\n  Warning,\n/work/smartnoise-sdk/synth/snsynth/mwem.py:229: Warning: Flattened dimensionality of synthetic histogram is less than the number of iterations. This is a privacy risk. Consider increasing your split_factor (especially if it is 1), or decreasing the number of iterations. Dim: 10 Split: [6 7]\n  Warning,\n/work/smartnoise-sdk/synth/snsynth/mwem.py:229: Warning: Flattened dimensionality of synthetic histogram is less than the number of iterations. This is a privacy risk. Consider increasing your split_factor (especially if it is 1), or decreasing the number of iterations. Dim: 10 Split: [6 7]\n  Warning,\n/work/smartnoise-sdk/synth/snsynth/mwem.py:229: Warning: Flattened dimensionality of synthetic histogram is less than the number of iterations. This is a privacy risk. Consider increasing your split_factor (especially if it is 1), or decreasing the number of iterations. Dim: 10 Split: [6 7]\n  Warning,\n/work/smartnoise-sdk/synth/snsynth/mwem.py:229: Warning: Flattened dimensionality of synthetic histogram is less than the number of iterations. This is a privacy risk. Consider increasing your split_factor (especially if it is 1), or decreasing the number of iterations. Dim: 10 Split: [6 7]\n  Warning,\n/work/smartnoise-sdk/synth/snsynth/mwem.py:229: Warning: Flattened dimensionality of synthetic histogram is less than the number of iterations. This is a privacy risk. Consider increasing your split_factor (especially if it is 1), or decreasing the number of iterations. Dim: 10 Split: [6 7]\n  Warning,\n/work/smartnoise-sdk/synth/snsynth/mwem.py:229: Warning: Flattened dimensionality of synthetic histogram is less than the number of iterations. This is a privacy risk. Consider increasing your split_factor (especially if it is 1), or decreasing the number of iterations. Dim: 10 Split: [6 7]\n  Warning,\n/work/smartnoise-sdk/synth/snsynth/mwem.py:229: Warning: Flattened dimensionality of synthetic histogram is less than the number of iterations. This is a privacy risk. Consider increasing your split_factor (especially if it is 1), or decreasing the number of iterations. Dim: 10 Split: [6 7]\n  Warning,\n/work/smartnoise-sdk/synth/snsynth/mwem.py:229: Warning: Flattened dimensionality of synthetic histogram is less than the number of iterations. This is a privacy risk. Consider increasing your split_factor (especially if it is 1), or decreasing the number of iterations. Dim: 10 Split: [6 7]\n  Warning,\n/work/smartnoise-sdk/synth/snsynth/mwem.py:229: Warning: Flattened dimensionality of synthetic histogram is less than the number of iterations. This is a privacy risk. Consider increasing your split_factor (especially if it is 1), or decreasing the number of iterations. Dim: 10 Split: [6 7]\n  Warning,\n/work/smartnoise-sdk/synth/snsynth/mwem.py:229: Warning: Flattened dimensionality of synthetic histogram is less than the number of iterations. This is a privacy risk. Consider increasing your split_factor (especially if it is 1), or decreasing the number of iterations. Dim: 10 Split: [6 7]\n  Warning,\n/work/smartnoise-sdk/synth/snsynth/mwem.py:229: Warning: Flattened dimensionality of synthetic histogram is less than the number of iterations. This is a privacy risk. Consider increasing your split_factor (especially if it is 1), or decreasing the number of iterations. Dim: 10 Split: [6 7]\n  Warning,\n/work/smartnoise-sdk/synth/snsynth/mwem.py:229: Warning: Flattened dimensionality of synthetic histogram is less than the number of iterations. This is a privacy risk. Consider increasing your split_factor (especially if it is 1), or decreasing the number of iterations. Dim: 10 Split: [6 7]\n  Warning,\n/work/smartnoise-sdk/synth/snsynth/mwem.py:229: Warning: Flattened dimensionality of synthetic histogram is less than the number of iterations. This is a privacy risk. Consider increasing your split_factor (especially if it is 1), or decreasing the number of iterations. Dim: 10 Split: [6 7]\n  Warning,\n/work/smartnoise-sdk/synth/snsynth/mwem.py:229: Warning: Flattened dimensionality of synthetic histogram is less than the number of iterations. This is a privacy risk. Consider increasing your split_factor (especially if it is 1), or decreasing the number of iterations. Dim: 10 Split: [6 7]\n  Warning,\n/work/smartnoise-sdk/synth/snsynth/mwem.py:229: Warning: Flattened dimensionality of synthetic histogram is less than the number of iterations. This is a privacy risk. Consider increasing your split_factor (especially if it is 1), or decreasing the number of iterations. Dim: 10 Split: [6 7]\n  Warning,\n/work/smartnoise-sdk/synth/snsynth/mwem.py:229: Warning: Flattened dimensionality of synthetic histogram is less than the number of iterations. This is a privacy risk. Consider increasing your split_factor (especially if it is 1), or decreasing the number of iterations. Dim: 10 Split: [6 7]\n  Warning,\n/work/smartnoise-sdk/synth/snsynth/mwem.py:229: Warning: Flattened dimensionality of synthetic histogram is less than the number of iterations. This is a privacy risk. Consider increasing your split_factor (especially if it is 1), or decreasing the number of iterations. Dim: 10 Split: [6 7]\n  Warning,\n/work/smartnoise-sdk/synth/snsynth/mwem.py:229: Warning: Flattened dimensionality of synthetic histogram is less than the number of iterations. This is a privacy risk. Consider increasing your split_factor (especially if it is 1), or decreasing the number of iterations. Dim: 10 Split: [6 7]\n  Warning,\n/work/smartnoise-sdk/synth/snsynth/mwem.py:229: Warning: Flattened dimensionality of synthetic histogram is less than the number of iterations. This is a privacy risk. Consider increasing your split_factor (especially if it is 1), or decreasing the number of iterations. Dim: 10 Split: [6 7]\n  Warning,\n/work/smartnoise-sdk/synth/snsynth/mwem.py:229: Warning: Flattened dimensionality of synthetic histogram is less than the number of iterations. This is a privacy risk. Consider increasing your split_factor (especially if it is 1), or decreasing the number of iterations. Dim: 10 Split: [6 7]\n  Warning,\n/work/smartnoise-sdk/synth/snsynth/mwem.py:229: Warning: Flattened dimensionality of synthetic histogram is less than the number of iterations. This is a privacy risk. Consider increasing your split_factor (especially if it is 1), or decreasing the number of iterations. Dim: 10 Split: [6 7]\n  Warning,\n/work/smartnoise-sdk/synth/snsynth/mwem.py:229: Warning: Flattened dimensionality of synthetic histogram is less than the number of iterations. This is a privacy risk. Consider increasing your split_factor (especially if it is 1), or decreasing the number of iterations. Dim: 10 Split: [6 7]\n  Warning,\n/work/smartnoise-sdk/synth/snsynth/mwem.py:229: Warning: Flattened dimensionality of synthetic histogram is less than the number of iterations. This is a privacy risk. Consider increasing your split_factor (especially if it is 1), or decreasing the number of iterations. Dim: 10 Split: [6 7]\n  Warning,\n/work/smartnoise-sdk/synth/snsynth/mwem.py:229: Warning: Flattened dimensionality of synthetic histogram is less than the number of iterations. This is a privacy risk. Consider increasing your split_factor (especially if it is 1), or decreasing the number of iterations. Dim: 10 Split: [6 7]\n  Warning,\n/work/smartnoise-sdk/synth/snsynth/mwem.py:229: Warning: Flattened dimensionality of synthetic histogram is less than the number of iterations. This is a privacy risk. Consider increasing your split_factor (especially if it is 1), or decreasing the number of iterations. Dim: 10 Split: [6 7]\n  Warning,\n/work/smartnoise-sdk/synth/snsynth/mwem.py:229: Warning: Flattened dimensionality of synthetic histogram is less than the number of iterations. This is a privacy risk. Consider increasing your split_factor (especially if it is 1), or decreasing the number of iterations. Dim: 10 Split: [6 7]\n  Warning,\n/work/smartnoise-sdk/synth/snsynth/mwem.py:229: Warning: Flattened dimensionality of synthetic histogram is less than the number of iterations. This is a privacy risk. Consider increasing your split_factor (especially if it is 1), or decreasing the number of iterations. Dim: 10 Split: [6 7]\n  Warning,\n/work/smartnoise-sdk/synth/snsynth/mwem.py:229: Warning: Flattened dimensionality of synthetic histogram is less than the number of iterations. This is a privacy risk. Consider increasing your split_factor (especially if it is 1), or decreasing the number of iterations. Dim: 10 Split: [6 7]\n  Warning,\n/work/smartnoise-sdk/synth/snsynth/mwem.py:229: Warning: Flattened dimensionality of synthetic histogram is less than the number of iterations. This is a privacy risk. Consider increasing your split_factor (especially if it is 1), or decreasing the number of iterations. Dim: 10 Split: [6 7]\n  Warning,\n",
     "output_type": "stream"
    }
   ],
   "execution_count": null
  },
  {
   "cell_type": "code",
   "source": "# Plot the fairness and accuracy metrics for female vs male\nplot_fairness_dict(adult_fairness_dict_2, plot_non_private=True)",
   "metadata": {
    "tags": [],
    "cell_id": "00023-07a735e7-ae30-4dde-8c33-9f37fdf0ea31",
    "deepnote_to_be_reexecuted": false,
    "source_hash": "8cc14ee9",
    "execution_start": 1634163587418,
    "execution_millis": 933,
    "deepnote_cell_type": "code"
   },
   "outputs": [
    {
     "data": {
      "text/plain": "<Figure size 864x1152 with 2 Axes>",
      "image/png": "[encoded data removed]"
     },
     "metadata": {
      "needs_background": "light",
      "image/png": {
       "width": 735,
       "height": 931
      }
     },
     "output_type": "display_data"
    }
   ],
   "execution_count": null
  },
  {
   "cell_type": "markdown",
   "source": "- visualize the distribution at each epsilon (boxplots / error bars)",
   "metadata": {
    "tags": [],
    "cell_id": "00026-2520536b-56a6-4c3a-bb7b-ecf587113d59",
    "deepnote_cell_type": "markdown"
   }
  },
  {
   "cell_type": "markdown",
   "source": "## 4.3 QUAIL",
   "metadata": {
    "tags": [],
    "cell_id": "00024-c8fa18d1-e517-4493-a1c4-ed5f14646666",
    "deepnote_cell_type": "markdown"
   }
  },
  {
   "cell_type": "code",
   "source": "adult_fairness_privacy_range(epsilon_vals, adult_train, adult_test, synthesizer=\"MWEM\", \n                                    quail=False, classifier=None, eps_split=None, n_reps=1)",
   "metadata": {
    "tags": [],
    "cell_id": "00025-a143608b-70d7-4ae0-972d-798eeef189c7",
    "deepnote_cell_type": "code"
   },
   "outputs": [],
   "execution_count": null
  },
  {
   "cell_type": "code",
   "source": "# Set range of epsilon values\nepsilon_vals = [0.01]#, 0.1, 0.5, 1.0, 3.0, 6.0, 9.0]\n\n# Get dictionary of averaged fairness metrics across 10 repetitions for range of values using QUAIL+MWEM\nadult_fairness_dict_quail = adult_fairness_privacy_range(epsilon_vals, adult_train, adult_test, synthesizer=\"MWEM\", \n                                                        quail=True, classifier=\"DPLR\", eps_split=0.8, n_reps=1)",
   "metadata": {
    "tags": [],
    "cell_id": "00026-859158a2-643d-4d31-b3f4-fc9a0ccac69b",
    "deepnote_to_be_reexecuted": false,
    "source_hash": "c936b3b5",
    "execution_start": 1634163055954,
    "execution_millis": 10546,
    "deepnote_cell_type": "code"
   },
   "outputs": [
    {
     "name": "stderr",
     "text": "/root/venv/lib/python3.7/site-packages/diffprivlib/models/logistic_regression.py:223: PrivacyLeakWarning: Data norm has not been specified and will be calculated on the data provided.  This will result in additional privacy leakage. To ensure differential privacy and no additional privacy leakage, specify `data_norm` at initialisation.\n  \"privacy leakage, specify `data_norm` at initialisation.\", PrivacyLeakWarning)\n/work/smartnoise-sdk/synth/snsynth/mwem.py:116: SettingWithCopyWarning: \nA value is trying to be set on a copy of a slice from a DataFrame.\nTry using .loc[row_indexer,col_indexer] = value instead\n\nSee the caveats in the documentation: https://pandas.pydata.org/pandas-docs/stable/user_guide/indexing.html#returning-a-view-versus-a-copy\n  data[col] = pd.to_numeric(data[col], errors=\"ignore\")\n/work/smartnoise-sdk/synth/snsynth/mwem.py:229: Warning: Flattened dimensionality of synthetic histogram is less than the number of iterations. This is a privacy risk. Consider increasing your split_factor (especially if it is 1), or decreasing the number of iterations. Dim: 10 Split: [6 7]\n  Warning,\n",
     "output_type": "stream"
    },
    {
     "output_type": "error",
     "ename": "ValueError",
     "evalue": "Shape of passed values is (24574, 8), indices imply (24574, 9)",
     "traceback": [
      "\u001b[0;31m---------------------------------------------------------------------------\u001b[0m",
      "\u001b[0;31mValueError\u001b[0m                                Traceback (most recent call last)",
      "\u001b[0;32m/shared-libs/python3.7/py/lib/python3.7/site-packages/pandas/core/internals/managers.py\u001b[0m in \u001b[0;36mcreate_block_manager_from_blocks\u001b[0;34m(blocks, axes)\u001b[0m\n\u001b[1;32m   1675\u001b[0m                     make_block(\n\u001b[0;32m-> 1676\u001b[0;31m                         \u001b[0mvalues\u001b[0m\u001b[0;34m=\u001b[0m\u001b[0mblocks\u001b[0m\u001b[0;34m[\u001b[0m\u001b[0;36m0\u001b[0m\u001b[0;34m]\u001b[0m\u001b[0;34m,\u001b[0m \u001b[0mplacement\u001b[0m\u001b[0;34m=\u001b[0m\u001b[0mslice\u001b[0m\u001b[0;34m(\u001b[0m\u001b[0;36m0\u001b[0m\u001b[0;34m,\u001b[0m \u001b[0mlen\u001b[0m\u001b[0;34m(\u001b[0m\u001b[0maxes\u001b[0m\u001b[0;34m[\u001b[0m\u001b[0;36m0\u001b[0m\u001b[0;34m]\u001b[0m\u001b[0;34m)\u001b[0m\u001b[0;34m)\u001b[0m\u001b[0;34m,\u001b[0m \u001b[0mndim\u001b[0m\u001b[0;34m=\u001b[0m\u001b[0;36m2\u001b[0m\u001b[0;34m\u001b[0m\u001b[0;34m\u001b[0m\u001b[0m\n\u001b[0m\u001b[1;32m   1677\u001b[0m                     )\n",
      "\u001b[0;32m/shared-libs/python3.7/py/lib/python3.7/site-packages/pandas/core/internals/blocks.py\u001b[0m in \u001b[0;36mmake_block\u001b[0;34m(values, placement, klass, ndim, dtype)\u001b[0m\n\u001b[1;32m   2750\u001b[0m \u001b[0;34m\u001b[0m\u001b[0m\n\u001b[0;32m-> 2751\u001b[0;31m     \u001b[0;32mreturn\u001b[0m \u001b[0mklass\u001b[0m\u001b[0;34m(\u001b[0m\u001b[0mvalues\u001b[0m\u001b[0;34m,\u001b[0m \u001b[0mndim\u001b[0m\u001b[0;34m=\u001b[0m\u001b[0mndim\u001b[0m\u001b[0;34m,\u001b[0m \u001b[0mplacement\u001b[0m\u001b[0;34m=\u001b[0m\u001b[0mplacement\u001b[0m\u001b[0;34m)\u001b[0m\u001b[0;34m\u001b[0m\u001b[0;34m\u001b[0m\u001b[0m\n\u001b[0m\u001b[1;32m   2752\u001b[0m \u001b[0;34m\u001b[0m\u001b[0m\n",
      "\u001b[0;32m/shared-libs/python3.7/py/lib/python3.7/site-packages/pandas/core/internals/blocks.py\u001b[0m in \u001b[0;36m__init__\u001b[0;34m(self, values, placement, ndim)\u001b[0m\n\u001b[1;32m    142\u001b[0m             raise ValueError(\n\u001b[0;32m--> 143\u001b[0;31m                 \u001b[0;34mf\"Wrong number of items passed {len(self.values)}, \"\u001b[0m\u001b[0;34m\u001b[0m\u001b[0;34m\u001b[0m\u001b[0m\n\u001b[0m\u001b[1;32m    144\u001b[0m                 \u001b[0;34mf\"placement implies {len(self.mgr_locs)}\"\u001b[0m\u001b[0;34m\u001b[0m\u001b[0;34m\u001b[0m\u001b[0m\n",
      "\u001b[0;31mValueError\u001b[0m: Wrong number of items passed 8, placement implies 9",
      "\nDuring handling of the above exception, another exception occurred:\n",
      "\u001b[0;31mValueError\u001b[0m                                Traceback (most recent call last)",
      "\u001b[0;32m<ipython-input-68-f8d2bee607c9>\u001b[0m in \u001b[0;36m<module>\u001b[0;34m\u001b[0m\n\u001b[1;32m      4\u001b[0m \u001b[0;31m# Get dictionary of averaged fairness metrics across 10 repetitions for range of values using QUAIL+MWEM\u001b[0m\u001b[0;34m\u001b[0m\u001b[0;34m\u001b[0m\u001b[0;34m\u001b[0m\u001b[0m\n\u001b[1;32m      5\u001b[0m adult_fairness_dict_quail = adult_fairness_privacy_range(epsilon_vals, adult_train, adult_test, synthesizer=\"MWEM\", \n\u001b[0;32m----> 6\u001b[0;31m                                                         quail=True, classifier=\"DPLR\", eps_split=0.8, n_reps=1)\n\u001b[0m",
      "\u001b[0;32m<ipython-input-65-79eaa6083ff6>\u001b[0m in \u001b[0;36madult_fairness_privacy_range\u001b[0;34m(epsilon_vals, adult_train, adult_test, synthesizer, quail, classifier, eps_split, n_reps)\u001b[0m\n\u001b[1;32m     44\u001b[0m \u001b[0;34m\u001b[0m\u001b[0m\n\u001b[1;32m     45\u001b[0m                 \u001b[0;31m# Create private synthetic data\u001b[0m\u001b[0;34m\u001b[0m\u001b[0;34m\u001b[0m\u001b[0;34m\u001b[0m\u001b[0m\n\u001b[0;32m---> 46\u001b[0;31m                 \u001b[0madult_train_synth\u001b[0m \u001b[0;34m=\u001b[0m \u001b[0mquail\u001b[0m\u001b[0;34m.\u001b[0m\u001b[0msample\u001b[0m\u001b[0;34m(\u001b[0m\u001b[0mint\u001b[0m\u001b[0;34m(\u001b[0m\u001b[0madult_train\u001b[0m\u001b[0;34m.\u001b[0m\u001b[0mshape\u001b[0m\u001b[0;34m[\u001b[0m\u001b[0;36m0\u001b[0m\u001b[0;34m]\u001b[0m\u001b[0;34m)\u001b[0m\u001b[0;34m)\u001b[0m\u001b[0;34m\u001b[0m\u001b[0;34m\u001b[0m\u001b[0m\n\u001b[0m\u001b[1;32m     47\u001b[0m \u001b[0;34m\u001b[0m\u001b[0m\n\u001b[1;32m     48\u001b[0m             \u001b[0;32melse\u001b[0m\u001b[0;34m:\u001b[0m\u001b[0;34m\u001b[0m\u001b[0;34m\u001b[0m\u001b[0m\n",
      "\u001b[0;32m/work/smartnoise-sdk/synth/snsynth/quail.py\u001b[0m in \u001b[0;36msample\u001b[0;34m(self, samples)\u001b[0m\n\u001b[1;32m    143\u001b[0m         \u001b[0;34m:\u001b[0m\u001b[0mrtype\u001b[0m\u001b[0;34m:\u001b[0m \u001b[0mpd\u001b[0m\u001b[0;34m.\u001b[0m\u001b[0mDataframe\u001b[0m\u001b[0;34m\u001b[0m\u001b[0;34m\u001b[0m\u001b[0m\n\u001b[1;32m    144\u001b[0m         \"\"\"\n\u001b[0;32m--> 145\u001b[0;31m         \u001b[0msampled_features\u001b[0m \u001b[0;34m=\u001b[0m \u001b[0mself\u001b[0m\u001b[0;34m.\u001b[0m\u001b[0mprivate_synth\u001b[0m\u001b[0;34m.\u001b[0m\u001b[0msample\u001b[0m\u001b[0;34m(\u001b[0m\u001b[0msamples\u001b[0m\u001b[0;34m)\u001b[0m\u001b[0;34m\u001b[0m\u001b[0;34m\u001b[0m\u001b[0m\n\u001b[0m\u001b[1;32m    146\u001b[0m         \u001b[0my_values\u001b[0m \u001b[0;34m=\u001b[0m \u001b[0mself\u001b[0m\u001b[0;34m.\u001b[0m\u001b[0mprivate_model\u001b[0m\u001b[0;34m.\u001b[0m\u001b[0mpredict\u001b[0m\u001b[0;34m(\u001b[0m\u001b[0msampled_features\u001b[0m\u001b[0;34m)\u001b[0m\u001b[0;34m\u001b[0m\u001b[0;34m\u001b[0m\u001b[0m\n\u001b[1;32m    147\u001b[0m \u001b[0;34m\u001b[0m\u001b[0m\n",
      "\u001b[0;32m/work/smartnoise-sdk/synth/snsynth/mwem.py\u001b[0m in \u001b[0;36msample\u001b[0;34m(self, samples)\u001b[0m\n\u001b[1;32m    184\u001b[0m         \u001b[0mr\u001b[0m \u001b[0;34m=\u001b[0m \u001b[0mself\u001b[0m\u001b[0;34m.\u001b[0m\u001b[0m_reorder\u001b[0m\u001b[0;34m(\u001b[0m\u001b[0mself\u001b[0m\u001b[0;34m.\u001b[0m\u001b[0msplits\u001b[0m\u001b[0;34m)\u001b[0m\u001b[0;34m\u001b[0m\u001b[0;34m\u001b[0m\u001b[0m\n\u001b[1;32m    185\u001b[0m         \u001b[0;32mif\u001b[0m \u001b[0mself\u001b[0m\u001b[0;34m.\u001b[0m\u001b[0mpandas\u001b[0m\u001b[0;34m:\u001b[0m\u001b[0;34m\u001b[0m\u001b[0;34m\u001b[0m\u001b[0m\n\u001b[0;32m--> 186\u001b[0;31m             \u001b[0mdf\u001b[0m \u001b[0;34m=\u001b[0m \u001b[0mpd\u001b[0m\u001b[0;34m.\u001b[0m\u001b[0mDataFrame\u001b[0m\u001b[0;34m(\u001b[0m\u001b[0mcombined\u001b[0m\u001b[0;34m[\u001b[0m\u001b[0;34m:\u001b[0m\u001b[0;34m,\u001b[0m \u001b[0mr\u001b[0m\u001b[0;34m]\u001b[0m\u001b[0;34m,\u001b[0m \u001b[0mindex\u001b[0m\u001b[0;34m=\u001b[0m\u001b[0mself\u001b[0m\u001b[0;34m.\u001b[0m\u001b[0mpd_index\u001b[0m\u001b[0;34m,\u001b[0m \u001b[0mcolumns\u001b[0m\u001b[0;34m=\u001b[0m\u001b[0mself\u001b[0m\u001b[0;34m.\u001b[0m\u001b[0mpd_cols\u001b[0m\u001b[0;34m)\u001b[0m\u001b[0;34m\u001b[0m\u001b[0;34m\u001b[0m\u001b[0m\n\u001b[0m\u001b[1;32m    187\u001b[0m             \u001b[0;32mreturn\u001b[0m \u001b[0mdf\u001b[0m\u001b[0;34m\u001b[0m\u001b[0;34m\u001b[0m\u001b[0m\n\u001b[1;32m    188\u001b[0m         \u001b[0;32melse\u001b[0m\u001b[0;34m:\u001b[0m\u001b[0;34m\u001b[0m\u001b[0;34m\u001b[0m\u001b[0m\n",
      "\u001b[0;32m/shared-libs/python3.7/py/lib/python3.7/site-packages/pandas/core/frame.py\u001b[0m in \u001b[0;36m__init__\u001b[0;34m(self, data, index, columns, dtype, copy)\u001b[0m\n\u001b[1;32m    556\u001b[0m                 \u001b[0mmgr\u001b[0m \u001b[0;34m=\u001b[0m \u001b[0minit_dict\u001b[0m\u001b[0;34m(\u001b[0m\u001b[0;34m{\u001b[0m\u001b[0mdata\u001b[0m\u001b[0;34m.\u001b[0m\u001b[0mname\u001b[0m\u001b[0;34m:\u001b[0m \u001b[0mdata\u001b[0m\u001b[0;34m}\u001b[0m\u001b[0;34m,\u001b[0m \u001b[0mindex\u001b[0m\u001b[0;34m,\u001b[0m \u001b[0mcolumns\u001b[0m\u001b[0;34m,\u001b[0m \u001b[0mdtype\u001b[0m\u001b[0;34m=\u001b[0m\u001b[0mdtype\u001b[0m\u001b[0;34m)\u001b[0m\u001b[0;34m\u001b[0m\u001b[0;34m\u001b[0m\u001b[0m\n\u001b[1;32m    557\u001b[0m             \u001b[0;32melse\u001b[0m\u001b[0;34m:\u001b[0m\u001b[0;34m\u001b[0m\u001b[0;34m\u001b[0m\u001b[0m\n\u001b[0;32m--> 558\u001b[0;31m                 \u001b[0mmgr\u001b[0m \u001b[0;34m=\u001b[0m \u001b[0minit_ndarray\u001b[0m\u001b[0;34m(\u001b[0m\u001b[0mdata\u001b[0m\u001b[0;34m,\u001b[0m \u001b[0mindex\u001b[0m\u001b[0;34m,\u001b[0m \u001b[0mcolumns\u001b[0m\u001b[0;34m,\u001b[0m \u001b[0mdtype\u001b[0m\u001b[0;34m=\u001b[0m\u001b[0mdtype\u001b[0m\u001b[0;34m,\u001b[0m \u001b[0mcopy\u001b[0m\u001b[0;34m=\u001b[0m\u001b[0mcopy\u001b[0m\u001b[0;34m)\u001b[0m\u001b[0;34m\u001b[0m\u001b[0;34m\u001b[0m\u001b[0m\n\u001b[0m\u001b[1;32m    559\u001b[0m \u001b[0;34m\u001b[0m\u001b[0m\n\u001b[1;32m    560\u001b[0m         \u001b[0;31m# For data is list-like, or Iterable (will consume into list)\u001b[0m\u001b[0;34m\u001b[0m\u001b[0;34m\u001b[0m\u001b[0;34m\u001b[0m\u001b[0m\n",
      "\u001b[0;32m/shared-libs/python3.7/py/lib/python3.7/site-packages/pandas/core/internals/construction.py\u001b[0m in \u001b[0;36minit_ndarray\u001b[0;34m(values, index, columns, dtype, copy)\u001b[0m\n\u001b[1;32m    236\u001b[0m         \u001b[0mblock_values\u001b[0m \u001b[0;34m=\u001b[0m \u001b[0;34m[\u001b[0m\u001b[0mvalues\u001b[0m\u001b[0;34m]\u001b[0m\u001b[0;34m\u001b[0m\u001b[0;34m\u001b[0m\u001b[0m\n\u001b[1;32m    237\u001b[0m \u001b[0;34m\u001b[0m\u001b[0m\n\u001b[0;32m--> 238\u001b[0;31m     \u001b[0;32mreturn\u001b[0m \u001b[0mcreate_block_manager_from_blocks\u001b[0m\u001b[0;34m(\u001b[0m\u001b[0mblock_values\u001b[0m\u001b[0;34m,\u001b[0m \u001b[0;34m[\u001b[0m\u001b[0mcolumns\u001b[0m\u001b[0;34m,\u001b[0m \u001b[0mindex\u001b[0m\u001b[0;34m]\u001b[0m\u001b[0;34m)\u001b[0m\u001b[0;34m\u001b[0m\u001b[0;34m\u001b[0m\u001b[0m\n\u001b[0m\u001b[1;32m    239\u001b[0m \u001b[0;34m\u001b[0m\u001b[0m\n\u001b[1;32m    240\u001b[0m \u001b[0;34m\u001b[0m\u001b[0m\n",
      "\u001b[0;32m/shared-libs/python3.7/py/lib/python3.7/site-packages/pandas/core/internals/managers.py\u001b[0m in \u001b[0;36mcreate_block_manager_from_blocks\u001b[0;34m(blocks, axes)\u001b[0m\n\u001b[1;32m   1685\u001b[0m         \u001b[0mblocks\u001b[0m \u001b[0;34m=\u001b[0m \u001b[0;34m[\u001b[0m\u001b[0mgetattr\u001b[0m\u001b[0;34m(\u001b[0m\u001b[0mb\u001b[0m\u001b[0;34m,\u001b[0m \u001b[0;34m\"values\"\u001b[0m\u001b[0;34m,\u001b[0m \u001b[0mb\u001b[0m\u001b[0;34m)\u001b[0m \u001b[0;32mfor\u001b[0m \u001b[0mb\u001b[0m \u001b[0;32min\u001b[0m \u001b[0mblocks\u001b[0m\u001b[0;34m]\u001b[0m\u001b[0;34m\u001b[0m\u001b[0;34m\u001b[0m\u001b[0m\n\u001b[1;32m   1686\u001b[0m         \u001b[0mtot_items\u001b[0m \u001b[0;34m=\u001b[0m \u001b[0msum\u001b[0m\u001b[0;34m(\u001b[0m\u001b[0mb\u001b[0m\u001b[0;34m.\u001b[0m\u001b[0mshape\u001b[0m\u001b[0;34m[\u001b[0m\u001b[0;36m0\u001b[0m\u001b[0;34m]\u001b[0m \u001b[0;32mfor\u001b[0m \u001b[0mb\u001b[0m \u001b[0;32min\u001b[0m \u001b[0mblocks\u001b[0m\u001b[0;34m)\u001b[0m\u001b[0;34m\u001b[0m\u001b[0;34m\u001b[0m\u001b[0m\n\u001b[0;32m-> 1687\u001b[0;31m         \u001b[0;32mraise\u001b[0m \u001b[0mconstruction_error\u001b[0m\u001b[0;34m(\u001b[0m\u001b[0mtot_items\u001b[0m\u001b[0;34m,\u001b[0m \u001b[0mblocks\u001b[0m\u001b[0;34m[\u001b[0m\u001b[0;36m0\u001b[0m\u001b[0;34m]\u001b[0m\u001b[0;34m.\u001b[0m\u001b[0mshape\u001b[0m\u001b[0;34m[\u001b[0m\u001b[0;36m1\u001b[0m\u001b[0;34m:\u001b[0m\u001b[0;34m]\u001b[0m\u001b[0;34m,\u001b[0m \u001b[0maxes\u001b[0m\u001b[0;34m,\u001b[0m \u001b[0me\u001b[0m\u001b[0;34m)\u001b[0m\u001b[0;34m\u001b[0m\u001b[0;34m\u001b[0m\u001b[0m\n\u001b[0m\u001b[1;32m   1688\u001b[0m \u001b[0;34m\u001b[0m\u001b[0m\n\u001b[1;32m   1689\u001b[0m \u001b[0;34m\u001b[0m\u001b[0m\n",
      "\u001b[0;31mValueError\u001b[0m: Shape of passed values is (24574, 8), indices imply (24574, 9)"
     ]
    }
   ],
   "execution_count": null
  },
  {
   "cell_type": "markdown",
   "source": "## 4.4 DPCTGAN",
   "metadata": {
    "tags": [],
    "cell_id": "00029-0ecfae9d-1365-4e25-8203-29190c5e027d",
    "deepnote_cell_type": "markdown"
   }
  },
  {
   "cell_type": "code",
   "source": "dpctgan = PytorchDPSynthesizer(3.0, DPCTGAN(), None)\ndpctgan.fit(adult_train, categorical_columns=[\"workclass\", \"education\", \"occupation\", \"relationship\", \"race\", \"sex\", \"label\"])",
   "metadata": {
    "tags": [],
    "cell_id": "00031-67119be2-d4c0-4c1f-8ee8-c4891bff62e1",
    "deepnote_to_be_reexecuted": false,
    "source_hash": "a71ac469",
    "execution_start": 1634165294780,
    "execution_millis": 45,
    "deepnote_cell_type": "code"
   },
   "outputs": [
    {
     "output_type": "error",
     "ename": "TypeError",
     "evalue": "__init__() takes 1 positional argument but 2 positional arguments (and 3 keyword-only arguments) were given",
     "traceback": [
      "\u001b[0;31m---------------------------------------------------------------------------\u001b[0m",
      "\u001b[0;31mTypeError\u001b[0m                                 Traceback (most recent call last)",
      "\u001b[0;32m<ipython-input-78-3d89aeb7f996>\u001b[0m in \u001b[0;36m<module>\u001b[0;34m\u001b[0m\n\u001b[1;32m      1\u001b[0m \u001b[0mdpctgan\u001b[0m \u001b[0;34m=\u001b[0m \u001b[0mPytorchDPSynthesizer\u001b[0m\u001b[0;34m(\u001b[0m\u001b[0;36m3.0\u001b[0m\u001b[0;34m,\u001b[0m \u001b[0mDPCTGAN\u001b[0m\u001b[0;34m(\u001b[0m\u001b[0;34m)\u001b[0m\u001b[0;34m,\u001b[0m \u001b[0;32mNone\u001b[0m\u001b[0;34m)\u001b[0m\u001b[0;34m\u001b[0m\u001b[0;34m\u001b[0m\u001b[0m\n\u001b[0;32m----> 2\u001b[0;31m \u001b[0mdpctgan\u001b[0m\u001b[0;34m.\u001b[0m\u001b[0mfit\u001b[0m\u001b[0;34m(\u001b[0m\u001b[0madult_train\u001b[0m\u001b[0;34m,\u001b[0m \u001b[0mcategorical_columns\u001b[0m\u001b[0;34m=\u001b[0m\u001b[0;34m[\u001b[0m\u001b[0;34m\"workclass\"\u001b[0m\u001b[0;34m,\u001b[0m \u001b[0;34m\"education\"\u001b[0m\u001b[0;34m,\u001b[0m \u001b[0;34m\"occupation\"\u001b[0m\u001b[0;34m,\u001b[0m \u001b[0;34m\"relationship\"\u001b[0m\u001b[0;34m,\u001b[0m \u001b[0;34m\"race\"\u001b[0m\u001b[0;34m,\u001b[0m \u001b[0;34m\"sex\"\u001b[0m\u001b[0;34m,\u001b[0m \u001b[0;34m\"label\"\u001b[0m\u001b[0;34m]\u001b[0m\u001b[0;34m)\u001b[0m\u001b[0;34m\u001b[0m\u001b[0;34m\u001b[0m\u001b[0m\n\u001b[0m",
      "\u001b[0;32m/work/smartnoise-sdk/synth/snsynth/pytorch/pytorch_synthesizer.py\u001b[0m in \u001b[0;36mfit\u001b[0;34m(self, data, categorical_columns, ordinal_columns)\u001b[0m\n\u001b[1;32m     47\u001b[0m             \u001b[0mcategorical_columns\u001b[0m\u001b[0;34m=\u001b[0m\u001b[0mcategorical_columns\u001b[0m\u001b[0;34m,\u001b[0m\u001b[0;34m\u001b[0m\u001b[0;34m\u001b[0m\u001b[0m\n\u001b[1;32m     48\u001b[0m             \u001b[0mordinal_columns\u001b[0m\u001b[0;34m=\u001b[0m\u001b[0mordinal_columns\u001b[0m\u001b[0;34m,\u001b[0m\u001b[0;34m\u001b[0m\u001b[0;34m\u001b[0m\u001b[0m\n\u001b[0;32m---> 49\u001b[0;31m             \u001b[0mupdate_epsilon\u001b[0m\u001b[0;34m=\u001b[0m\u001b[0mself\u001b[0m\u001b[0;34m.\u001b[0m\u001b[0mepsilon\u001b[0m\u001b[0;34m,\u001b[0m\u001b[0;34m\u001b[0m\u001b[0;34m\u001b[0m\u001b[0m\n\u001b[0m\u001b[1;32m     50\u001b[0m         )\n\u001b[1;32m     51\u001b[0m \u001b[0;34m\u001b[0m\u001b[0m\n",
      "\u001b[0;32m/work/smartnoise-sdk/synth/snsynth/pytorch/nn/dpctgan.py\u001b[0m in \u001b[0;36mtrain\u001b[0;34m(self, data, categorical_columns, ordinal_columns, update_epsilon)\u001b[0m\n\u001b[1;32m    189\u001b[0m \u001b[0;34m\u001b[0m\u001b[0m\n\u001b[1;32m    190\u001b[0m         \u001b[0mself\u001b[0m\u001b[0;34m.\u001b[0m\u001b[0m_transformer\u001b[0m \u001b[0;34m=\u001b[0m \u001b[0mDataTransformer\u001b[0m\u001b[0;34m(\u001b[0m\u001b[0;34m)\u001b[0m\u001b[0;34m\u001b[0m\u001b[0;34m\u001b[0m\u001b[0m\n\u001b[0;32m--> 191\u001b[0;31m         \u001b[0mself\u001b[0m\u001b[0;34m.\u001b[0m\u001b[0m_transformer\u001b[0m\u001b[0;34m.\u001b[0m\u001b[0mfit\u001b[0m\u001b[0;34m(\u001b[0m\u001b[0mdata\u001b[0m\u001b[0;34m,\u001b[0m \u001b[0mdiscrete_columns\u001b[0m\u001b[0;34m=\u001b[0m\u001b[0mcategorical_columns\u001b[0m\u001b[0;34m)\u001b[0m\u001b[0;34m\u001b[0m\u001b[0;34m\u001b[0m\u001b[0m\n\u001b[0m\u001b[1;32m    192\u001b[0m \u001b[0;34m\u001b[0m\u001b[0m\n\u001b[1;32m    193\u001b[0m         \u001b[0mtrain_data\u001b[0m \u001b[0;34m=\u001b[0m \u001b[0mself\u001b[0m\u001b[0;34m.\u001b[0m\u001b[0m_transformer\u001b[0m\u001b[0;34m.\u001b[0m\u001b[0mtransform\u001b[0m\u001b[0;34m(\u001b[0m\u001b[0mdata\u001b[0m\u001b[0;34m)\u001b[0m\u001b[0;34m\u001b[0m\u001b[0;34m\u001b[0m\u001b[0m\n",
      "\u001b[0;32m~/venv/lib/python3.7/site-packages/ctgan/data_transformer.py\u001b[0m in \u001b[0;36mfit\u001b[0;34m(self, raw_data, discrete_columns)\u001b[0m\n\u001b[1;32m     87\u001b[0m             \u001b[0;32melse\u001b[0m\u001b[0;34m:\u001b[0m\u001b[0;34m\u001b[0m\u001b[0;34m\u001b[0m\u001b[0m\n\u001b[1;32m     88\u001b[0m                 column_transform_info = self._fit_continuous(\n\u001b[0;32m---> 89\u001b[0;31m                     column_name, raw_column_data)\n\u001b[0m\u001b[1;32m     90\u001b[0m \u001b[0;34m\u001b[0m\u001b[0m\n\u001b[1;32m     91\u001b[0m             \u001b[0mself\u001b[0m\u001b[0;34m.\u001b[0m\u001b[0moutput_info_list\u001b[0m\u001b[0;34m.\u001b[0m\u001b[0mappend\u001b[0m\u001b[0;34m(\u001b[0m\u001b[0mcolumn_transform_info\u001b[0m\u001b[0;34m.\u001b[0m\u001b[0moutput_info\u001b[0m\u001b[0;34m)\u001b[0m\u001b[0;34m\u001b[0m\u001b[0;34m\u001b[0m\u001b[0m\n",
      "\u001b[0;32m~/venv/lib/python3.7/site-packages/ctgan/data_transformer.py\u001b[0m in \u001b[0;36m_fit_continuous\u001b[0;34m(self, column_name, raw_column_data)\u001b[0m\n\u001b[1;32m     38\u001b[0m             \u001b[0mweight_concentration_prior_type\u001b[0m\u001b[0;34m=\u001b[0m\u001b[0;34m'dirichlet_process'\u001b[0m\u001b[0;34m,\u001b[0m\u001b[0;34m\u001b[0m\u001b[0;34m\u001b[0m\u001b[0m\n\u001b[1;32m     39\u001b[0m             \u001b[0mweight_concentration_prior\u001b[0m\u001b[0;34m=\u001b[0m\u001b[0;36m0.001\u001b[0m\u001b[0;34m,\u001b[0m\u001b[0;34m\u001b[0m\u001b[0;34m\u001b[0m\u001b[0m\n\u001b[0;32m---> 40\u001b[0;31m             \u001b[0mn_init\u001b[0m\u001b[0;34m=\u001b[0m\u001b[0;36m1\u001b[0m\u001b[0;34m\u001b[0m\u001b[0;34m\u001b[0m\u001b[0m\n\u001b[0m\u001b[1;32m     41\u001b[0m         )\n\u001b[1;32m     42\u001b[0m \u001b[0;34m\u001b[0m\u001b[0m\n",
      "\u001b[0;31mTypeError\u001b[0m: __init__() takes 1 positional argument but 2 positional arguments (and 3 keyword-only arguments) were given"
     ]
    }
   ],
   "execution_count": null
  },
  {
   "cell_type": "code",
   "source": "",
   "metadata": {
    "tags": [],
    "cell_id": "00032-bb73ddfb-a0d9-4a26-bf54-7a4a831fac5c",
    "deepnote_cell_type": "code"
   },
   "outputs": [],
   "execution_count": null
  },
  {
   "cell_type": "markdown",
   "source": "<a style='text-decoration:none;line-height:16px;display:flex;color:#5B5B62;padding:10px;justify-content:end;' href='https://deepnote.com?utm_source=created-in-deepnote-cell&projectId=aa928c63-0856-4021-a156-02d09e35182a' target=\"_blank\">\n<img alt='Created in deepnote.com' style='display:inline;max-height:16px;margin:0px;margin-right:7.5px;' src='data:image/svg+xml;base64,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' > </img>\nCreated in <span style='font-weight:600;margin-left:4px;'>Deepnote</span></a>",
   "metadata": {
    "tags": [],
    "created_in_deepnote_cell": true,
    "deepnote_cell_type": "markdown"
   }
  }
 ],
 "nbformat": 4,
 "nbformat_minor": 4,
 "metadata": {
  "kernelspec": {
   "display_name": "Python 3",
   "language": "python",
   "name": "python3"
  },
  "language_info": {
   "codemirror_mode": {
    "name": "ipython",
    "version": 3
   },
   "file_extension": ".py",
   "mimetype": "text/x-python",
   "name": "python",
   "nbconvert_exporter": "python",
   "pygments_lexer": "ipython3",
   "version": "3.8.3"
  },
  "deepnote_notebook_id": "41fe13f3-dabb-4895-9171-f67d41724cdd",
  "deepnote": {},
  "deepnote_execution_queue": []
 }
}