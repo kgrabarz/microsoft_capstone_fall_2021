{
 "cells": [
  {
   "cell_type": "code",
   "execution_count": 1,
   "metadata": {
    "cell_id": "00000-8d8818f2-be0c-4a4a-941e-a00cb6395cd4",
    "deepnote_cell_type": "code",
    "deepnote_to_be_reexecuted": false,
    "execution_millis": 2894,
    "execution_start": 1634153075478,
    "source_hash": "973bb74b"
   },
   "outputs": [],
   "source": [
    "import numpy as np\n",
    "import pandas as pd\n",
    "import matplotlib.pyplot as plt\n",
    "import seaborn as sns\n",
    "from sklearn.preprocessing import MinMaxScaler\n",
    "from sklearn.model_selection import train_test_split\n",
    "from sklearn.linear_model import LogisticRegression\n",
    "from sklearn.metrics import classification_report"
   ]
  },
  {
   "cell_type": "code",
   "execution_count": 2,
   "metadata": {
    "cell_id": "00001-217b4f3c-a33e-4e9f-bff6-c81e4508e1a8",
    "deepnote_cell_type": "code",
    "deepnote_to_be_reexecuted": false,
    "execution_millis": 8,
    "execution_start": 1634165147989,
    "source_hash": "9a88f86a"
   },
   "outputs": [],
   "source": [
    "# from opendp.smartnoise.synthesizers.mwem import MWEMSynthesizer\n",
    "from snsynth import MWEMSynthesizer\n",
    "from snsynth import QUAILSynthesizer\n",
    "from snsynth.pytorch import PytorchDPSynthesizer\n",
    "from snsynth.pytorch.nn import DPCTGAN\n",
    "\n",
    "from diffprivlib.models import LogisticRegression as DPLR"
   ]
  },
  {
   "cell_type": "markdown",
   "metadata": {
    "cell_id": "00004-2384c0d2-f177-48ec-ac0a-1f5558ba7706",
    "deepnote_cell_type": "markdown"
   },
   "source": [
    "# 4. Adult dataset\n",
    "\n",
    "## 4.1 Non-private data processing"
   ]
  },
  {
   "cell_type": "code",
   "execution_count": 3,
   "metadata": {
    "cell_id": "00005-f2fed029-b030-4892-bddc-7f738fcaf81c",
    "deepnote_cell_type": "code",
    "deepnote_to_be_reexecuted": false,
    "execution_millis": 1596,
    "execution_start": 1634153594602,
    "source_hash": "45a1dee2"
   },
   "outputs": [
    {
     "data": {
      "text/html": [
       "<div>\n",
       "<style scoped>\n",
       "    .dataframe tbody tr th:only-of-type {\n",
       "        vertical-align: middle;\n",
       "    }\n",
       "\n",
       "    .dataframe tbody tr th {\n",
       "        vertical-align: top;\n",
       "    }\n",
       "\n",
       "    .dataframe thead th {\n",
       "        text-align: right;\n",
       "    }\n",
       "</style>\n",
       "<table border=\"1\" class=\"dataframe\">\n",
       "  <thead>\n",
       "    <tr style=\"text-align: right;\">\n",
       "      <th></th>\n",
       "      <th>age</th>\n",
       "      <th>workclass</th>\n",
       "      <th>fnlwgt</th>\n",
       "      <th>education</th>\n",
       "      <th>education_num</th>\n",
       "      <th>marital</th>\n",
       "      <th>occupation</th>\n",
       "      <th>relationship</th>\n",
       "      <th>race</th>\n",
       "      <th>sex</th>\n",
       "      <th>capital_gain</th>\n",
       "      <th>capital_loss</th>\n",
       "      <th>hours_week</th>\n",
       "      <th>native_country</th>\n",
       "      <th>label</th>\n",
       "    </tr>\n",
       "  </thead>\n",
       "  <tbody>\n",
       "    <tr>\n",
       "      <th>0</th>\n",
       "      <td>39</td>\n",
       "      <td>State-gov</td>\n",
       "      <td>77516</td>\n",
       "      <td>Bachelors</td>\n",
       "      <td>13</td>\n",
       "      <td>Never-married</td>\n",
       "      <td>Adm-clerical</td>\n",
       "      <td>Not-in-family</td>\n",
       "      <td>White</td>\n",
       "      <td>Male</td>\n",
       "      <td>2174</td>\n",
       "      <td>0</td>\n",
       "      <td>40</td>\n",
       "      <td>United-States</td>\n",
       "      <td>&lt;=50K</td>\n",
       "    </tr>\n",
       "    <tr>\n",
       "      <th>1</th>\n",
       "      <td>50</td>\n",
       "      <td>Self-emp-not-inc</td>\n",
       "      <td>83311</td>\n",
       "      <td>Bachelors</td>\n",
       "      <td>13</td>\n",
       "      <td>Married-civ-spouse</td>\n",
       "      <td>Exec-managerial</td>\n",
       "      <td>Husband</td>\n",
       "      <td>White</td>\n",
       "      <td>Male</td>\n",
       "      <td>0</td>\n",
       "      <td>0</td>\n",
       "      <td>13</td>\n",
       "      <td>United-States</td>\n",
       "      <td>&lt;=50K</td>\n",
       "    </tr>\n",
       "    <tr>\n",
       "      <th>2</th>\n",
       "      <td>38</td>\n",
       "      <td>Private</td>\n",
       "      <td>215646</td>\n",
       "      <td>HS-grad</td>\n",
       "      <td>9</td>\n",
       "      <td>Divorced</td>\n",
       "      <td>Handlers-cleaners</td>\n",
       "      <td>Not-in-family</td>\n",
       "      <td>White</td>\n",
       "      <td>Male</td>\n",
       "      <td>0</td>\n",
       "      <td>0</td>\n",
       "      <td>40</td>\n",
       "      <td>United-States</td>\n",
       "      <td>&lt;=50K</td>\n",
       "    </tr>\n",
       "    <tr>\n",
       "      <th>3</th>\n",
       "      <td>53</td>\n",
       "      <td>Private</td>\n",
       "      <td>234721</td>\n",
       "      <td>11th</td>\n",
       "      <td>7</td>\n",
       "      <td>Married-civ-spouse</td>\n",
       "      <td>Handlers-cleaners</td>\n",
       "      <td>Husband</td>\n",
       "      <td>Black</td>\n",
       "      <td>Male</td>\n",
       "      <td>0</td>\n",
       "      <td>0</td>\n",
       "      <td>40</td>\n",
       "      <td>United-States</td>\n",
       "      <td>&lt;=50K</td>\n",
       "    </tr>\n",
       "    <tr>\n",
       "      <th>4</th>\n",
       "      <td>28</td>\n",
       "      <td>Private</td>\n",
       "      <td>338409</td>\n",
       "      <td>Bachelors</td>\n",
       "      <td>13</td>\n",
       "      <td>Married-civ-spouse</td>\n",
       "      <td>Prof-specialty</td>\n",
       "      <td>Wife</td>\n",
       "      <td>Black</td>\n",
       "      <td>Female</td>\n",
       "      <td>0</td>\n",
       "      <td>0</td>\n",
       "      <td>40</td>\n",
       "      <td>Cuba</td>\n",
       "      <td>&lt;=50K</td>\n",
       "    </tr>\n",
       "  </tbody>\n",
       "</table>\n",
       "</div>"
      ],
      "text/plain": [
       "   age         workclass  fnlwgt  education  education_num  \\\n",
       "0   39         State-gov   77516  Bachelors             13   \n",
       "1   50  Self-emp-not-inc   83311  Bachelors             13   \n",
       "2   38           Private  215646    HS-grad              9   \n",
       "3   53           Private  234721       11th              7   \n",
       "4   28           Private  338409  Bachelors             13   \n",
       "\n",
       "              marital         occupation   relationship   race     sex  \\\n",
       "0       Never-married       Adm-clerical  Not-in-family  White    Male   \n",
       "1  Married-civ-spouse    Exec-managerial        Husband  White    Male   \n",
       "2            Divorced  Handlers-cleaners  Not-in-family  White    Male   \n",
       "3  Married-civ-spouse  Handlers-cleaners        Husband  Black    Male   \n",
       "4  Married-civ-spouse     Prof-specialty           Wife  Black  Female   \n",
       "\n",
       "   capital_gain  capital_loss  hours_week native_country  label  \n",
       "0          2174             0          40  United-States  <=50K  \n",
       "1             0             0          13  United-States  <=50K  \n",
       "2             0             0          40  United-States  <=50K  \n",
       "3             0             0          40  United-States  <=50K  \n",
       "4             0             0          40           Cuba  <=50K  "
      ]
     },
     "execution_count": 3,
     "metadata": {},
     "output_type": "execute_result"
    }
   ],
   "source": [
    "# Read in the original data\n",
    "adult_cols = ['age','workclass', 'fnlwgt', 'education', 'education_num', 'marital', \n",
    "              'occupation', 'relationship', 'race', 'sex', 'capital_gain', 'capital_loss',\n",
    "              'hours_week', 'native_country', 'label']\n",
    "adult_path = 'https://archive.ics.uci.edu/ml/machine-learning-databases/adult/adult.data'\n",
    "adult_data = pd.read_csv(adult_path, skipinitialspace=True, names=adult_cols, index_col=False)\n",
    "adult_data.head()"
   ]
  },
  {
   "cell_type": "code",
   "execution_count": 4,
   "metadata": {
    "cell_id": "00006-f0d98e1f-587e-4d40-9fcd-83b36c2d7fa6",
    "deepnote_cell_type": "code",
    "deepnote_to_be_reexecuted": false,
    "execution_millis": 13,
    "execution_start": 1634153604163,
    "source_hash": "7ddc5282"
   },
   "outputs": [],
   "source": [
    "workclass = {\n",
    "    0:\"Private\",\n",
    "    -1:\"Self-emp-not-inc\",\n",
    "    1:\"Local-gov\",\n",
    "    -2:\"State-gov\",\n",
    "    2:\"Self-emp-inc\",\n",
    "    -3:\"Federal-gov\",\n",
    "    3:\"Without-pay\",\n",
    "    -4:\"Never-worked\"\n",
    "}\n",
    "\n",
    "education = {\n",
    "    0:\"HS-grad\",\n",
    "    -1:\"Some-college\",\n",
    "    1:\"Bachelors\",\n",
    "    -2:\"Masters\",\n",
    "    2:\"Assoc-voc\",\n",
    "    -3:\"11th\",\n",
    "    3:\"Assoc-acdm\",\n",
    "    -4:\"10th\",\n",
    "    4:\"7th-8th\",\n",
    "    -5:\"Prof-school\",\n",
    "    5:\"9th\",\n",
    "    -6:\"12th\",\n",
    "    6:\"Doctorate\",\n",
    "    -7:\"5th-6th\",\n",
    "    7:\"1st-4th\",\n",
    "    -8:\"Preschool\"\n",
    "}\n",
    "\n",
    "occupation = {\n",
    "    0:\"Prof-specialty\",\n",
    "    -1:\"Craft-repair\",\n",
    "    1:\"Exec-managerial\",\n",
    "    -2:\"Adm-clerical\",\n",
    "    2:\"Sales\",\n",
    "    -3:\"Other-service\",\n",
    "    3:\"Machine-op-inspct\",\n",
    "    -4:\"Transport-moving\",\n",
    "    4:\"Handlers-cleaners\",\n",
    "    -5:\"Farming-fishing\",\n",
    "    5:\"Tech-support\",\n",
    "    -6:\"Protective-serv\",\n",
    "    6:\"Priv-house-serv\",\n",
    "    -7:\"Armed-Forces\"\n",
    "}\n",
    "\n",
    "relationship = {\n",
    "    0:\"Husband\",\n",
    "    -1:\"Not-in-family\",\n",
    "    1:\"Own-child\",\n",
    "    -2:\"Unmarried\",\n",
    "    2:\"Wife\",\n",
    "    -3:\"Other-relative\"\n",
    "}\n",
    "\n",
    "race = {\n",
    "    0:\"White\",\n",
    "    -1:\"Black\",\n",
    "    1:\"Asian-Pac-Islander\",\n",
    "    -2:\"Amer-Indian-Eskimo\",\n",
    "    2:\"Other\"\n",
    "}"
   ]
  },
  {
   "cell_type": "code",
   "execution_count": 5,
   "metadata": {
    "cell_id": "00007-395a2ac9-adb7-40a7-b10f-6351aecc595b",
    "deepnote_cell_type": "code",
    "deepnote_to_be_reexecuted": false,
    "execution_millis": 15,
    "execution_start": 1634153607166,
    "source_hash": "323d56d1"
   },
   "outputs": [],
   "source": [
    "def process_adult(df):\n",
    "\n",
    "    # Remove fnlwgt and native_country column \n",
    "    df = df.drop([\"fnlwgt\", \"native_country\", \"capital_gain\", \"capital_loss\", \"marital\"], axis=1)\n",
    "    \n",
    "    # Remove missing values\n",
    "    df = df[~df.eq(\"?\").any(1)]\n",
    "    \n",
    "    # Normalize the numerical features\n",
    "    #numerical_features = [\"age\", \"education_num\", \"hours_week\"]\n",
    "    #scaler = MinMaxScaler()\n",
    "    #df[numerical_features] = scaler.fit_transform(df[numerical_features])\n",
    "    \n",
    "    # Encode the categorical features\n",
    "    categorical_features = [\"workclass\", \"education\", \"occupation\", \"relationship\", \"race\"]\n",
    "    df[\"workclass\"] = df[\"workclass\"].map({v: k for k, v in workclass.items()})\n",
    "    df[\"education\"] = df[\"education\"].map({v: k for k, v in education.items()})\n",
    "    df[\"occupation\"] = df[\"occupation\"].map({v: k for k, v in occupation.items()})\n",
    "    df[\"relationship\"] = df[\"relationship\"].map({v: k for k, v in relationship.items()})\n",
    "    df[\"race\"] = df[\"race\"].map({v: k for k, v in race.items()})\n",
    "    \n",
    "    # Keep separate variabels with labels of outcome + protected classes for downstream plots, tables, etc\n",
    "    df[\"gender_labs\"] = df[\"sex\"]\n",
    "    df[\"over_under_50k\"] = df[\"label\"]\n",
    "    \n",
    "    # Map binary features to 0/1\n",
    "    df[\"sex\"] = df[\"sex\"].map({\"Female\":0, \"Male\":1})\n",
    "    df[\"label\"] = df[\"label\"].map({\"<=50K\":0, \">50K\":1})\n",
    "\n",
    "    return df"
   ]
  },
  {
   "cell_type": "code",
   "execution_count": 6,
   "metadata": {
    "cell_id": "00008-b9cb5ebe-14e3-4f70-902b-49c2f96db4c6",
    "deepnote_cell_type": "code",
    "deepnote_to_be_reexecuted": false,
    "execution_millis": 430,
    "execution_start": 1634156194704,
    "source_hash": "85cfbbee"
   },
   "outputs": [
    {
     "data": {
      "text/html": [
       "<div>\n",
       "<style scoped>\n",
       "    .dataframe tbody tr th:only-of-type {\n",
       "        vertical-align: middle;\n",
       "    }\n",
       "\n",
       "    .dataframe tbody tr th {\n",
       "        vertical-align: top;\n",
       "    }\n",
       "\n",
       "    .dataframe thead th {\n",
       "        text-align: right;\n",
       "    }\n",
       "</style>\n",
       "<table border=\"1\" class=\"dataframe\">\n",
       "  <thead>\n",
       "    <tr style=\"text-align: right;\">\n",
       "      <th></th>\n",
       "      <th>age</th>\n",
       "      <th>workclass</th>\n",
       "      <th>education</th>\n",
       "      <th>education_num</th>\n",
       "      <th>occupation</th>\n",
       "      <th>relationship</th>\n",
       "      <th>race</th>\n",
       "      <th>sex</th>\n",
       "      <th>hours_week</th>\n",
       "      <th>label</th>\n",
       "      <th>gender_labs</th>\n",
       "      <th>over_under_50k</th>\n",
       "    </tr>\n",
       "  </thead>\n",
       "  <tbody>\n",
       "    <tr>\n",
       "      <th>0</th>\n",
       "      <td>39</td>\n",
       "      <td>-2</td>\n",
       "      <td>1</td>\n",
       "      <td>13</td>\n",
       "      <td>-2</td>\n",
       "      <td>-1</td>\n",
       "      <td>0</td>\n",
       "      <td>1</td>\n",
       "      <td>40</td>\n",
       "      <td>0</td>\n",
       "      <td>Male</td>\n",
       "      <td>&lt;=50K</td>\n",
       "    </tr>\n",
       "    <tr>\n",
       "      <th>1</th>\n",
       "      <td>50</td>\n",
       "      <td>-1</td>\n",
       "      <td>1</td>\n",
       "      <td>13</td>\n",
       "      <td>1</td>\n",
       "      <td>0</td>\n",
       "      <td>0</td>\n",
       "      <td>1</td>\n",
       "      <td>13</td>\n",
       "      <td>0</td>\n",
       "      <td>Male</td>\n",
       "      <td>&lt;=50K</td>\n",
       "    </tr>\n",
       "    <tr>\n",
       "      <th>2</th>\n",
       "      <td>38</td>\n",
       "      <td>0</td>\n",
       "      <td>0</td>\n",
       "      <td>9</td>\n",
       "      <td>4</td>\n",
       "      <td>-1</td>\n",
       "      <td>0</td>\n",
       "      <td>1</td>\n",
       "      <td>40</td>\n",
       "      <td>0</td>\n",
       "      <td>Male</td>\n",
       "      <td>&lt;=50K</td>\n",
       "    </tr>\n",
       "    <tr>\n",
       "      <th>3</th>\n",
       "      <td>53</td>\n",
       "      <td>0</td>\n",
       "      <td>-3</td>\n",
       "      <td>7</td>\n",
       "      <td>4</td>\n",
       "      <td>0</td>\n",
       "      <td>-1</td>\n",
       "      <td>1</td>\n",
       "      <td>40</td>\n",
       "      <td>0</td>\n",
       "      <td>Male</td>\n",
       "      <td>&lt;=50K</td>\n",
       "    </tr>\n",
       "    <tr>\n",
       "      <th>4</th>\n",
       "      <td>28</td>\n",
       "      <td>0</td>\n",
       "      <td>1</td>\n",
       "      <td>13</td>\n",
       "      <td>0</td>\n",
       "      <td>2</td>\n",
       "      <td>-1</td>\n",
       "      <td>0</td>\n",
       "      <td>40</td>\n",
       "      <td>0</td>\n",
       "      <td>Female</td>\n",
       "      <td>&lt;=50K</td>\n",
       "    </tr>\n",
       "    <tr>\n",
       "      <th>...</th>\n",
       "      <td>...</td>\n",
       "      <td>...</td>\n",
       "      <td>...</td>\n",
       "      <td>...</td>\n",
       "      <td>...</td>\n",
       "      <td>...</td>\n",
       "      <td>...</td>\n",
       "      <td>...</td>\n",
       "      <td>...</td>\n",
       "      <td>...</td>\n",
       "      <td>...</td>\n",
       "      <td>...</td>\n",
       "    </tr>\n",
       "    <tr>\n",
       "      <th>32556</th>\n",
       "      <td>27</td>\n",
       "      <td>0</td>\n",
       "      <td>3</td>\n",
       "      <td>12</td>\n",
       "      <td>5</td>\n",
       "      <td>2</td>\n",
       "      <td>0</td>\n",
       "      <td>0</td>\n",
       "      <td>38</td>\n",
       "      <td>0</td>\n",
       "      <td>Female</td>\n",
       "      <td>&lt;=50K</td>\n",
       "    </tr>\n",
       "    <tr>\n",
       "      <th>32557</th>\n",
       "      <td>40</td>\n",
       "      <td>0</td>\n",
       "      <td>0</td>\n",
       "      <td>9</td>\n",
       "      <td>3</td>\n",
       "      <td>0</td>\n",
       "      <td>0</td>\n",
       "      <td>1</td>\n",
       "      <td>40</td>\n",
       "      <td>1</td>\n",
       "      <td>Male</td>\n",
       "      <td>&gt;50K</td>\n",
       "    </tr>\n",
       "    <tr>\n",
       "      <th>32558</th>\n",
       "      <td>58</td>\n",
       "      <td>0</td>\n",
       "      <td>0</td>\n",
       "      <td>9</td>\n",
       "      <td>-2</td>\n",
       "      <td>-2</td>\n",
       "      <td>0</td>\n",
       "      <td>0</td>\n",
       "      <td>40</td>\n",
       "      <td>0</td>\n",
       "      <td>Female</td>\n",
       "      <td>&lt;=50K</td>\n",
       "    </tr>\n",
       "    <tr>\n",
       "      <th>32559</th>\n",
       "      <td>22</td>\n",
       "      <td>0</td>\n",
       "      <td>0</td>\n",
       "      <td>9</td>\n",
       "      <td>-2</td>\n",
       "      <td>1</td>\n",
       "      <td>0</td>\n",
       "      <td>1</td>\n",
       "      <td>20</td>\n",
       "      <td>0</td>\n",
       "      <td>Male</td>\n",
       "      <td>&lt;=50K</td>\n",
       "    </tr>\n",
       "    <tr>\n",
       "      <th>32560</th>\n",
       "      <td>52</td>\n",
       "      <td>2</td>\n",
       "      <td>0</td>\n",
       "      <td>9</td>\n",
       "      <td>1</td>\n",
       "      <td>2</td>\n",
       "      <td>0</td>\n",
       "      <td>0</td>\n",
       "      <td>40</td>\n",
       "      <td>1</td>\n",
       "      <td>Female</td>\n",
       "      <td>&gt;50K</td>\n",
       "    </tr>\n",
       "  </tbody>\n",
       "</table>\n",
       "<p>30718 rows × 12 columns</p>\n",
       "</div>"
      ],
      "text/plain": [
       "       age  workclass  education  education_num  occupation  relationship  \\\n",
       "0       39         -2          1             13          -2            -1   \n",
       "1       50         -1          1             13           1             0   \n",
       "2       38          0          0              9           4            -1   \n",
       "3       53          0         -3              7           4             0   \n",
       "4       28          0          1             13           0             2   \n",
       "...    ...        ...        ...            ...         ...           ...   \n",
       "32556   27          0          3             12           5             2   \n",
       "32557   40          0          0              9           3             0   \n",
       "32558   58          0          0              9          -2            -2   \n",
       "32559   22          0          0              9          -2             1   \n",
       "32560   52          2          0              9           1             2   \n",
       "\n",
       "       race  sex  hours_week  label gender_labs over_under_50k  \n",
       "0         0    1          40      0        Male          <=50K  \n",
       "1         0    1          13      0        Male          <=50K  \n",
       "2         0    1          40      0        Male          <=50K  \n",
       "3        -1    1          40      0        Male          <=50K  \n",
       "4        -1    0          40      0      Female          <=50K  \n",
       "...     ...  ...         ...    ...         ...            ...  \n",
       "32556     0    0          38      0      Female          <=50K  \n",
       "32557     0    1          40      1        Male           >50K  \n",
       "32558     0    0          40      0      Female          <=50K  \n",
       "32559     0    1          20      0        Male          <=50K  \n",
       "32560     0    0          40      1      Female           >50K  \n",
       "\n",
       "[30718 rows x 12 columns]"
      ]
     },
     "execution_count": 6,
     "metadata": {},
     "output_type": "execute_result"
    }
   ],
   "source": [
    "# Get the processed adult data\n",
    "processed_adult = process_adult(adult_data)\n",
    "processed_adult"
   ]
  },
  {
   "cell_type": "code",
   "execution_count": 7,
   "metadata": {
    "cell_id": "00009-dc528148-4a8a-442f-bff0-fbcc67831dec",
    "deepnote_cell_type": "code",
    "deepnote_to_be_reexecuted": false,
    "execution_millis": 56,
    "execution_start": 1634156197822,
    "source_hash": "2c6bae37"
   },
   "outputs": [],
   "source": [
    "# Split processed data into train and test\n",
    "X, y = processed_adult.drop([\"label\", \"gender_labs\", \"over_under_50k\"], axis=1), processed_adult[\"label\"]\n",
    "X_train, X_test, y_train, y_test = train_test_split(X, y, test_size=0.2, random_state=0)"
   ]
  },
  {
   "cell_type": "code",
   "execution_count": 8,
   "metadata": {
    "cell_id": "00010-3b561934-eec5-4c80-8304-c875d228c15f",
    "deepnote_cell_type": "code",
    "deepnote_to_be_reexecuted": false,
    "execution_millis": 28,
    "execution_start": 1634156201197,
    "source_hash": "6b452f2c"
   },
   "outputs": [],
   "source": [
    "def adult_binary_classification_pipeline(X_train, y_train, X_test, y_test, evaluate=\"test\", method=\"logistic\"):\n",
    "    '''\n",
    "    Binary classification pipeline for the\n",
    "    Adult dataset.\n",
    "\n",
    "    INPUTS\n",
    "    ======\n",
    "    X_train: input training data, pandas DataFrame\n",
    "    y_train: output training labels, 1-d array-like\n",
    "    X_test: input test data, pandas DataFrame\n",
    "    y_test: output test labels, 1-d array-like\n",
    "    evaluate: whether to evaluate on the train or\n",
    "    test set, default='test', str\n",
    "    method: binary classification method, \n",
    "    default='logistic', str\n",
    "\n",
    "    RETURNS\n",
    "    =======\n",
    "    Two tuples containing the number of true positive \n",
    "    predictions (TP), false positive predictions (FP), \n",
    "    true negative predictions (TN), and false negative (FN)\n",
    "    predictions on the test set for female and male, \n",
    "    respectively.\n",
    "    '''\n",
    "\n",
    "    if method == \"logistic\":\n",
    "\n",
    "        # Train logistic regression classifier\n",
    "        lr = LogisticRegression(max_iter=1000)\n",
    "        lr.fit(X_train, y_train)\n",
    "\n",
    "        # Predit on train and test\n",
    "        y_train_pred = lr.predict(X_train)\n",
    "        y_test_pred = lr.predict(X_test)\n",
    "\n",
    "    if evaluate == \"test\":\n",
    "        df = X_test.copy()\n",
    "        df[\"y\"] = y_test\n",
    "        df[\"y_pred\"] = y_test_pred\n",
    "    elif evaluate == \"train\":\n",
    "        df = X_train.copy()\n",
    "        df[\"y\"] = y_train\n",
    "        df[\"y_pred\"] = y_train_pred\n",
    "    else:\n",
    "        raise Exception(\"evaluate must be either 'train' or 'test'\")\n",
    "\n",
    "    # Count the number of true positive and true negative preds for men and women\n",
    "    TP_f = len(df[(df[\"sex\"]==0) & (df[\"y\"]==1) & (df[\"y_pred\"]==1)])\n",
    "    TP_m = len(df[(df[\"sex\"]==1) & (df[\"y\"]==1) & (df[\"y_pred\"]==1)])\n",
    "    FP_f = len(df[(df[\"sex\"]==0) & (df[\"y\"]==0) & (df[\"y_pred\"]==1)])\n",
    "    FP_m = len(df[(df[\"sex\"]==1) & (df[\"y\"]==0) & (df[\"y_pred\"]==1)])\n",
    "\n",
    "    # Count the number of true negative and false negative preds for men and women\n",
    "    TN_f = len(df[(df[\"sex\"]==0) & (df[\"y\"]==0) & (df[\"y_pred\"]==0)])\n",
    "    TN_m = len(df[(df[\"sex\"]==1) & (df[\"y\"]==0) & (df[\"y_pred\"]==0)])\n",
    "    FN_f = len(df[(df[\"sex\"]==0) & (df[\"y\"]==1) & (df[\"y_pred\"]==0)])\n",
    "    FN_m = len(df[(df[\"sex\"]==1) & (df[\"y\"]==1) & (df[\"y_pred\"]==0)])\n",
    "\n",
    "    return (TP_f, FP_f, TN_f, FN_f), (TP_m, FP_m, TN_m, FN_m)"
   ]
  },
  {
   "cell_type": "code",
   "execution_count": 9,
   "metadata": {
    "cell_id": "00011-bf635b5b-4287-44b1-9f59-d9218fb92dbd",
    "deepnote_cell_type": "code",
    "deepnote_to_be_reexecuted": false,
    "execution_millis": 11,
    "execution_start": 1634156205348,
    "source_hash": "6af2805d"
   },
   "outputs": [],
   "source": [
    "def adult_fairness_summary(female_tup, male_tup, show_plots=False, evaluate=\"test\"):\n",
    "    '''\n",
    "    Function to process and provide a summary \n",
    "    of fairness metrics for the Adult data set.\n",
    "\n",
    "    INPUTS\n",
    "    ======\n",
    "    female_tup: tuple or list containing TP, FP, \n",
    "    TN, FN for female\n",
    "    male_tup: tuple or list containing TP, FP, \n",
    "    TN, FN for male\n",
    "    show_plots: whether to display graphs showing \n",
    "    fairness metrics for male and female, default=False, \n",
    "    bool\n",
    "\n",
    "    RETURNS\n",
    "    =======\n",
    "    True positive rate for (TPR) and false positive\n",
    "    rate (FPR) for female and male, respectively.\n",
    "    '''\n",
    "\n",
    "    # Unpack tuples\n",
    "    TP_f, FP_f, TN_f, FN_f = female_tup\n",
    "    TP_m, FP_m, TN_m, FN_m = male_tup\n",
    "\n",
    "    # Calculate TPR, FPR for female and male\n",
    "    TPR_f = TP_f / (TP_f + FN_f)\n",
    "    TPR_m = TP_m / (TP_m + FN_m)\n",
    "    FPR_f = FP_f / (FP_f + TN_f)\n",
    "    FPR_m = FP_m / (FP_m + TN_m)\n",
    "\n",
    "    # Create summary plots\n",
    "    if show_plots:\n",
    "        fig, axs = plt.subplots(1, 2, figsize=(10,5))\n",
    "        axs = axs.ravel()\n",
    "        axs[0].bar([\"female\", \"male\"], [TPR_f, TPR_m], color=[\"orange\", \"dodgerblue\"])\n",
    "        axs[0].set_ylabel(\"TPR\")\n",
    "        axs[1].bar([\"female\", \"male\"], [FPR_f, FPR_m], color=[\"orange\", \"dodgerblue\"])\n",
    "        axs[1].set_ylabel(\"FPR\")\n",
    "        fig.suptitle(f\"TPR and FPR for female vs male ({evaluate} data)\", fontsize=16)\n",
    "        fig.tight_layout(rect=[0, 0, 1, 0.95])\n",
    "\n",
    "    return TPR_f, TPR_m, FPR_f, FPR_m"
   ]
  },
  {
   "cell_type": "code",
   "execution_count": 10,
   "metadata": {
    "cell_id": "00012-63929ced-6a70-4aec-9456-0bfc9f707ed3",
    "deepnote_cell_type": "code",
    "deepnote_to_be_reexecuted": false,
    "execution_millis": 3794,
    "execution_start": 1634156208326,
    "source_hash": "491d26bc"
   },
   "outputs": [
    {
     "data": {
      "image/png": "[encoded data removed]",
      "text/plain": [
       "<Figure size 720x360 with 2 Axes>"
      ]
     },
     "metadata": {
      "needs_background": "light"
     },
     "output_type": "display_data"
    }
   ],
   "source": [
    "# Run the binary classification pipeline on the original processed data and evaluation on training data\n",
    "female_tup, male_tup = adult_binary_classification_pipeline(X_train, y_train, X_test, y_test, evaluate=\"test\")\n",
    "\n",
    "# Calculate and visualize TPR and FPR on the training data for female and male\n",
    "TPR_f_non_priv, TPR_m_non_priv, FPR_f_non_priv, FPR_m_non_priv = adult_fairness_summary(female_tup, male_tup, show_plots=True, evaluate=\"test\")"
   ]
  },
  {
   "cell_type": "code",
   "execution_count": 11,
   "metadata": {
    "cell_id": "00013-a4d2066b-b378-4642-bafa-b91c632aff9a",
    "deepnote_cell_type": "code",
    "deepnote_to_be_reexecuted": false,
    "execution_millis": 13,
    "execution_start": 1634156215601,
    "source_hash": "2a9dd48e"
   },
   "outputs": [
    {
     "name": "stdout",
     "output_type": "stream",
     "text": [
      "TRAINING DATA METRICS:\n",
      "The difference in TPR (equalized opportunity) is: 0.2681\n",
      "The difference in FPR (equalized odds) is: 0.0954\n",
      "The difference in FP + TP rate (Demographic Parity) is: 0.3635\n",
      "The overall accuracy for female is: 0.8971\n",
      "The overall accuracy for male is: 0.7640\n"
     ]
    }
   ],
   "source": [
    "# Calculate the difference in TPR (Equalized Opportunity distance)\n",
    "TPR_diff_non_priv = TPR_m_non_priv-TPR_f_non_priv\n",
    "\n",
    "# Calculate the difference in FPR (second Equalized Odds distance)\n",
    "FPR_diff_non_priv = FPR_m_non_priv-FPR_f_non_priv\n",
    "\n",
    "# Demographic parity (FP + TP rate difference)\n",
    "dem_parity_non_priv = (FPR_m_non_priv+TPR_m_non_priv)-(FPR_f_non_priv+TPR_f_non_priv)\n",
    "\n",
    "# Calculate overall accuracy for female and male\n",
    "ACC_f_non_priv = (female_tup[0] + female_tup[2]) / sum(female_tup)\n",
    "ACC_m_non_priv = (male_tup[0] + male_tup[2]) / sum(male_tup)\n",
    "\n",
    "print(\"TRAINING DATA METRICS:\")\n",
    "print(f\"The difference in TPR (equalized opportunity) is: {TPR_diff_non_priv:.4f}\")\n",
    "print(f\"The difference in FPR (equalized odds) is: {FPR_diff_non_priv:.4f}\")\n",
    "print(f\"The difference in FP + TP rate (Demographic Parity) is: {dem_parity_non_priv:.4f}\")\n",
    "print(f\"The overall accuracy for female is: {ACC_f_non_priv:.4f}\")\n",
    "print(f\"The overall accuracy for male is: {ACC_m_non_priv:.4f}\")"
   ]
  },
  {
   "cell_type": "markdown",
   "metadata": {
    "cell_id": "00014-11307642-73b8-4b54-b239-ac97e2b524b5",
    "deepnote_cell_type": "markdown"
   },
   "source": [
    "## 4.2 MWEM\n",
    "\n",
    "### 4.2.1 Data preparation\n",
    "\n",
    "Based on multiplicative weight update mechanism; requires binning of continuous data."
   ]
  },
  {
   "cell_type": "code",
   "execution_count": 12,
   "metadata": {
    "cell_id": "00015-7af24893-d571-4489-ae75-c79e90284691",
    "deepnote_cell_type": "code",
    "deepnote_to_be_reexecuted": false,
    "execution_millis": 207,
    "execution_start": 1634155376005,
    "source_hash": "4cd77f3a"
   },
   "outputs": [
    {
     "data": {
      "text/html": [
       "<div>\n",
       "<style scoped>\n",
       "    .dataframe tbody tr th:only-of-type {\n",
       "        vertical-align: middle;\n",
       "    }\n",
       "\n",
       "    .dataframe tbody tr th {\n",
       "        vertical-align: top;\n",
       "    }\n",
       "\n",
       "    .dataframe thead th {\n",
       "        text-align: right;\n",
       "    }\n",
       "</style>\n",
       "<table border=\"1\" class=\"dataframe\">\n",
       "  <thead>\n",
       "    <tr style=\"text-align: right;\">\n",
       "      <th></th>\n",
       "      <th>age</th>\n",
       "      <th>workclass</th>\n",
       "      <th>education</th>\n",
       "      <th>education_num</th>\n",
       "      <th>occupation</th>\n",
       "      <th>relationship</th>\n",
       "      <th>race</th>\n",
       "      <th>sex</th>\n",
       "      <th>hours_week</th>\n",
       "      <th>label</th>\n",
       "    </tr>\n",
       "  </thead>\n",
       "  <tbody>\n",
       "    <tr>\n",
       "      <th>15213</th>\n",
       "      <td>24</td>\n",
       "      <td>0</td>\n",
       "      <td>1</td>\n",
       "      <td>13</td>\n",
       "      <td>-2</td>\n",
       "      <td>2</td>\n",
       "      <td>0</td>\n",
       "      <td>0</td>\n",
       "      <td>50</td>\n",
       "      <td>0</td>\n",
       "    </tr>\n",
       "    <tr>\n",
       "      <th>5841</th>\n",
       "      <td>50</td>\n",
       "      <td>0</td>\n",
       "      <td>-2</td>\n",
       "      <td>14</td>\n",
       "      <td>0</td>\n",
       "      <td>-3</td>\n",
       "      <td>0</td>\n",
       "      <td>1</td>\n",
       "      <td>60</td>\n",
       "      <td>0</td>\n",
       "    </tr>\n",
       "    <tr>\n",
       "      <th>26610</th>\n",
       "      <td>41</td>\n",
       "      <td>1</td>\n",
       "      <td>-1</td>\n",
       "      <td>10</td>\n",
       "      <td>-2</td>\n",
       "      <td>2</td>\n",
       "      <td>-1</td>\n",
       "      <td>0</td>\n",
       "      <td>40</td>\n",
       "      <td>0</td>\n",
       "    </tr>\n",
       "    <tr>\n",
       "      <th>30332</th>\n",
       "      <td>39</td>\n",
       "      <td>0</td>\n",
       "      <td>0</td>\n",
       "      <td>9</td>\n",
       "      <td>3</td>\n",
       "      <td>-1</td>\n",
       "      <td>-1</td>\n",
       "      <td>1</td>\n",
       "      <td>40</td>\n",
       "      <td>0</td>\n",
       "    </tr>\n",
       "    <tr>\n",
       "      <th>26117</th>\n",
       "      <td>46</td>\n",
       "      <td>0</td>\n",
       "      <td>0</td>\n",
       "      <td>9</td>\n",
       "      <td>-3</td>\n",
       "      <td>0</td>\n",
       "      <td>0</td>\n",
       "      <td>1</td>\n",
       "      <td>50</td>\n",
       "      <td>0</td>\n",
       "    </tr>\n",
       "    <tr>\n",
       "      <th>...</th>\n",
       "      <td>...</td>\n",
       "      <td>...</td>\n",
       "      <td>...</td>\n",
       "      <td>...</td>\n",
       "      <td>...</td>\n",
       "      <td>...</td>\n",
       "      <td>...</td>\n",
       "      <td>...</td>\n",
       "      <td>...</td>\n",
       "      <td>...</td>\n",
       "    </tr>\n",
       "    <tr>\n",
       "      <th>13918</th>\n",
       "      <td>55</td>\n",
       "      <td>0</td>\n",
       "      <td>1</td>\n",
       "      <td>13</td>\n",
       "      <td>3</td>\n",
       "      <td>-2</td>\n",
       "      <td>0</td>\n",
       "      <td>0</td>\n",
       "      <td>40</td>\n",
       "      <td>0</td>\n",
       "    </tr>\n",
       "    <tr>\n",
       "      <th>20822</th>\n",
       "      <td>50</td>\n",
       "      <td>2</td>\n",
       "      <td>-1</td>\n",
       "      <td>10</td>\n",
       "      <td>1</td>\n",
       "      <td>-2</td>\n",
       "      <td>0</td>\n",
       "      <td>0</td>\n",
       "      <td>75</td>\n",
       "      <td>0</td>\n",
       "    </tr>\n",
       "    <tr>\n",
       "      <th>10456</th>\n",
       "      <td>27</td>\n",
       "      <td>0</td>\n",
       "      <td>2</td>\n",
       "      <td>11</td>\n",
       "      <td>3</td>\n",
       "      <td>-1</td>\n",
       "      <td>0</td>\n",
       "      <td>1</td>\n",
       "      <td>40</td>\n",
       "      <td>0</td>\n",
       "    </tr>\n",
       "    <tr>\n",
       "      <th>11475</th>\n",
       "      <td>28</td>\n",
       "      <td>1</td>\n",
       "      <td>-1</td>\n",
       "      <td>10</td>\n",
       "      <td>1</td>\n",
       "      <td>0</td>\n",
       "      <td>0</td>\n",
       "      <td>1</td>\n",
       "      <td>65</td>\n",
       "      <td>0</td>\n",
       "    </tr>\n",
       "    <tr>\n",
       "      <th>2918</th>\n",
       "      <td>33</td>\n",
       "      <td>0</td>\n",
       "      <td>1</td>\n",
       "      <td>13</td>\n",
       "      <td>1</td>\n",
       "      <td>0</td>\n",
       "      <td>0</td>\n",
       "      <td>1</td>\n",
       "      <td>50</td>\n",
       "      <td>0</td>\n",
       "    </tr>\n",
       "  </tbody>\n",
       "</table>\n",
       "<p>24574 rows × 10 columns</p>\n",
       "</div>"
      ],
      "text/plain": [
       "       age  workclass  education  education_num  occupation  relationship  \\\n",
       "15213   24          0          1             13          -2             2   \n",
       "5841    50          0         -2             14           0            -3   \n",
       "26610   41          1         -1             10          -2             2   \n",
       "30332   39          0          0              9           3            -1   \n",
       "26117   46          0          0              9          -3             0   \n",
       "...    ...        ...        ...            ...         ...           ...   \n",
       "13918   55          0          1             13           3            -2   \n",
       "20822   50          2         -1             10           1            -2   \n",
       "10456   27          0          2             11           3            -1   \n",
       "11475   28          1         -1             10           1             0   \n",
       "2918    33          0          1             13           1             0   \n",
       "\n",
       "       race  sex  hours_week  label  \n",
       "15213     0    0          50      0  \n",
       "5841      0    1          60      0  \n",
       "26610    -1    0          40      0  \n",
       "30332    -1    1          40      0  \n",
       "26117     0    1          50      0  \n",
       "...     ...  ...         ...    ...  \n",
       "13918     0    0          40      0  \n",
       "20822     0    0          75      0  \n",
       "10456     0    1          40      0  \n",
       "11475     0    1          65      0  \n",
       "2918      0    1          50      0  \n",
       "\n",
       "[24574 rows x 10 columns]"
      ]
     },
     "execution_count": 12,
     "metadata": {},
     "output_type": "execute_result"
    }
   ],
   "source": [
    "# Recombine X_train and y_train for synthesis\n",
    "adult_train = pd.concat([X_train, y_train], axis=1)\n",
    "adult_train"
   ]
  },
  {
   "cell_type": "code",
   "execution_count": 13,
   "metadata": {
    "cell_id": "00016-7997200f-3896-4e09-824c-75b4eb7052ef",
    "deepnote_cell_type": "code",
    "deepnote_to_be_reexecuted": false,
    "execution_millis": 12,
    "execution_start": 1634155379961,
    "source_hash": "20f62cfd"
   },
   "outputs": [],
   "source": [
    "# Recombine X_test and y_test for synthesis\n",
    "adult_test = pd.concat([X_test, y_test], axis=1)"
   ]
  },
  {
   "cell_type": "markdown",
   "metadata": {
    "cell_id": "00019-d6759cfc-3501-437d-b9c8-b37efd435c65",
    "deepnote_cell_type": "markdown"
   },
   "source": [
    "### 4.2.2 Varying $\\varepsilon$"
   ]
  },
  {
   "cell_type": "code",
   "execution_count": 14,
   "metadata": {
    "cell_id": "00018-7c4869f5-d813-49d5-bbb2-17764d4d90d8",
    "deepnote_cell_type": "code",
    "deepnote_to_be_reexecuted": false,
    "execution_millis": 0,
    "execution_start": 1634159933923,
    "source_hash": "5df42e85",
    "tags": []
   },
   "outputs": [],
   "source": [
    "def get_synthesizer(synthesizer, epsilon):\n",
    "\n",
    "    # Instantiate an MWEM synthesizer\n",
    "    if synthesizer == \"MWEM\":\n",
    "        synth = MWEMSynthesizer(epsilon=epsilon, q_count=500, iterations=30, mult_weights_iterations=15, \n",
    "        splits=[], split_factor=2, max_bin_count=400)\n",
    "\n",
    "    return synth"
   ]
  },
  {
   "cell_type": "code",
   "execution_count": 15,
   "metadata": {
    "cell_id": "00021-117ac92f-9085-4768-b833-98675dddf9cd",
    "deepnote_cell_type": "code",
    "deepnote_to_be_reexecuted": false,
    "execution_millis": 0,
    "execution_start": 1634162672451,
    "source_hash": "237b5f9f",
    "tags": []
   },
   "outputs": [],
   "source": [
    "def get_quail_synthesizer(synthesizer, classifier, epsilon, eps_split, target):\n",
    "\n",
    "    # Instantiate an MWEM synthesizer\n",
    "    if synthesizer == \"MWEM\":\n",
    "        def QuailSynth(epsilon):\n",
    "            return MWEMSynthesizer(epsilon=epsilon, q_count=500, iterations=30, mult_weights_iterations=15, \n",
    "                                    splits=[], split_factor=2, max_bin_count=400)\n",
    "    \n",
    "    # Instantiate a DPLR classifier\n",
    "    if classifier == \"DPLR\":\n",
    "        def QuailClassifier(epsilon):\n",
    "            return DPLR(epsilon=epsilon)\n",
    "\n",
    "    # Create a QUAIL synthesizer with base synthesizer and DP classifier\n",
    "    quail = QUAILSynthesizer(epsilon, QuailSynth, QuailClassifier, target, eps_split)\n",
    "\n",
    "    return quail"
   ]
  },
  {
   "cell_type": "code",
   "execution_count": 16,
   "metadata": {
    "cell_id": "00020-21349021-9c5b-481e-bda4-a2b7e910842c",
    "deepnote_cell_type": "code",
    "deepnote_to_be_reexecuted": false,
    "execution_millis": 22,
    "execution_start": 1634162412597,
    "source_hash": "8ef8bec7"
   },
   "outputs": [],
   "source": [
    "def adult_fairness_privacy_range(epsilon_vals, adult_train, adult_test, synthesizer=\"MWEM\", \n",
    "                                    quail=False, classifier=None, eps_split=None, n_reps=1):\n",
    "    '''\n",
    "    Calculates fairness metrics for binary\n",
    "    classification on Adult data obtained by\n",
    "    training classifier on synthetic training\n",
    "    data and testing on non-private test data.\n",
    "    \n",
    "    INPUTS\n",
    "    ======\n",
    "    epsilon_vals: list containing privacy loss\n",
    "    parameter values to apply, array-like\n",
    "    adult_train: non-private training data (X and \n",
    "    y) to train synthesizer, pandas DataFrame\n",
    "    adult_test: non-private test data (X and y)\n",
    "    synthesizer: the type of synthesizer to use, str\n",
    "    n_reps: the number of synthetic data sets to\n",
    "    generate for each epsilon, int\n",
    "    \n",
    "    RETURNS\n",
    "    =======\n",
    "    Dictionary where each key is an epsilon and \n",
    "    each value is a list of four lists containing\n",
    "    the TPR_f, TPR_m, FPR_f, FPR_m values obtained\n",
    "    (e.g. each list will have two values if n_reps=2)\n",
    "    '''\n",
    "    \n",
    "    # Initialize dictionary of fairness metrics\n",
    "    fairness_dict = {}\n",
    "    \n",
    "    for epsilon in epsilon_vals:\n",
    "        \n",
    "        for i in range(n_reps):\n",
    "\n",
    "            if quail:  \n",
    "                # Create a QUAIL-wrapped synthesizer\n",
    "                quail = get_quail_synthesizer(synthesizer, classifier, epsilon, eps_split, target=\"label\")\n",
    "\n",
    "                # Fit synthesizer to the training data\n",
    "                quail.fit(adult_train)\n",
    "\n",
    "                # Create private synthetic data\n",
    "                adult_train_synth = quail.sample(int(adult_train.shape[0]))\n",
    "\n",
    "            else:\n",
    "                # Create a regular synthesizer\n",
    "                synth = get_synthesizer(synthesizer, epsilon)\n",
    "        \n",
    "                # Fit synthesizer to the training data\n",
    "                synth.fit(adult_train.to_numpy())\n",
    "                \n",
    "                # Create private synthetic data\n",
    "                adult_train_synth = pd.DataFrame(synth.sample(int(adult_train.shape[0])), columns=adult_train.columns)\n",
    "            \n",
    "            # Split synthetic training data into X and y\n",
    "            X_train, y_train = adult_train_synth.drop([\"label\"], axis=1), adult_train_synth[\"label\"]\n",
    "            \n",
    "            # Split the non-private test data into X and y\n",
    "            X_test, y_test = adult_test.drop([\"label\"], axis=1), adult_test[\"label\"]\n",
    "            \n",
    "            # Run the binary classification pipeline\n",
    "            female_tup, male_tup = adult_binary_classification_pipeline(X_train, y_train, X_test, y_test)\n",
    "            \n",
    "            # Add female and male tuples to dictionary\n",
    "            if epsilon not in fairness_dict.keys():\n",
    "                fairness_dict[epsilon] = [[female_tup], [male_tup]]\n",
    "            else:\n",
    "                fairness_dict[epsilon][0].append(female_tup)\n",
    "                fairness_dict[epsilon][1].append(male_tup)\n",
    "                \n",
    "            print(f\"Completed eps={epsilon}, rep={i+1}.\")\n",
    "        \n",
    "    return fairness_dict"
   ]
  },
  {
   "cell_type": "code",
   "execution_count": 17,
   "metadata": {
    "cell_id": "00021-8c29f080-f636-46df-88a0-1377d8bbcd76",
    "deepnote_cell_type": "code",
    "deepnote_to_be_reexecuted": false,
    "execution_millis": 738177,
    "execution_start": 1634155386965,
    "source_hash": "153eabc5"
   },
   "outputs": [],
   "source": [
    "try:\n",
    "    # Try to load the dictionary with one repetition\n",
    "    adult_fairness_mwem_1 = np.load(\"adult_fairness_mwem_1.npy\", allow_pickle=True).item()\n",
    "    \n",
    "except:\n",
    "    # Set range of epsilon values\n",
    "    epsilon_vals = [1.0, 2.0, 3.0, 4.0, 5.0, 6.0, 7.0, 8.0]\n",
    "\n",
    "    # Get dictionary of fairness metrics with 1 repetition for range of values\n",
    "    adult_fairness_mwem_1 = adult_fairness_privacy_range(epsilon_vals, adult_train, adult_test, synthesizer=\"MWEM\", n_reps=1)\n",
    "    \n",
    "    # Save dictionary\n",
    "    np.save(\"adult_fairness_mwem_1.npy\", adult_fairness_mwem_1)"
   ]
  },
  {
   "cell_type": "code",
   "execution_count": 18,
   "metadata": {},
   "outputs": [],
   "source": [
    "def get_fairness_arrays(fairness_dict):\n",
    "    \n",
    "    # Initialize lists to hold epsilon and fairness metrics\n",
    "    epsilon_vals = []\n",
    "    tpr_f_arr = []\n",
    "    tpr_m_arr = []\n",
    "    fpr_f_arr = []\n",
    "    fpr_m_arr = []\n",
    "    tpr_diff_arr = []\n",
    "    fpr_diff_arr = []\n",
    "    acc_f_arr = []\n",
    "    acc_m_arr = []\n",
    "\n",
    "    # Loop through the dictionary of results\n",
    "    for epsilon, metric_list in fairness_dict.items():\n",
    "\n",
    "        # Get the metrics for female and male\n",
    "        female_arr, male_arr = metric_list\n",
    "        n_reps = len(female_arr)\n",
    "        epsilon_vals.append(epsilon)\n",
    "\n",
    "        # Initialize more lists\n",
    "        if n_reps > 1:\n",
    "            tpr_f_vals = []\n",
    "            tpr_m_vals = []\n",
    "            fpr_f_vals = []\n",
    "            fpr_m_vals = []\n",
    "            tpr_diff_vals = []\n",
    "            fpr_diff_vals = []\n",
    "            acc_f_vals = []\n",
    "            acc_m_vals = []\n",
    "        \n",
    "        # Loop through the tuples\n",
    "        for female_tup, male_tup in zip(female_arr, male_arr):\n",
    "        \n",
    "            # Get the fairness metrics\n",
    "            TPR_f, TPR_m, FPR_f, FPR_m = adult_fairness_summary(female_tup, male_tup)\n",
    "\n",
    "            # Calculate the equalized odds distances\n",
    "            tpr_diff = TPR_m-TPR_f\n",
    "            fpr_diff = FPR_m-FPR_f\n",
    "            \n",
    "            # Calculate the accuracies\n",
    "            acc_f = (female_tup[0] + female_tup[2]) / sum(female_tup)\n",
    "            acc_m = (male_tup[0] + male_tup[2]) / sum(male_tup)\n",
    "            \n",
    "            # Append metrics to arrays\n",
    "            if n_reps > 1:\n",
    "                tpr_f_vals.append(TPR_f)\n",
    "                tpr_m_vals.append(TPR_m)\n",
    "                fpr_f_vals.append(FPR_f)\n",
    "                fpr_m_vals.append(FPR_m)\n",
    "                tpr_diff_vals.append(tpr_diff)\n",
    "                fpr_diff_vals.append(fpr_diff)\n",
    "                acc_f_vals.append(acc_f)\n",
    "                acc_m_vals.append(acc_m)\n",
    "            else:\n",
    "                tpr_f_arr.append(TPR_f)\n",
    "                tpr_m_arr.append(TPR_m)\n",
    "                fpr_f_arr.append(FPR_f)\n",
    "                fpr_m_arr.append(FPR_m)\n",
    "                tpr_diff_arr.append(tpr_diff)\n",
    "                fpr_diff_arr.append(fpr_diff)\n",
    "                acc_f_arr.append(acc_f)\n",
    "                acc_m_arr.append(acc_m)\n",
    "            \n",
    "        # Add lists to arrays\n",
    "        if n_reps > 1:\n",
    "            tpr_f_arr.append(tpr_f_vals)\n",
    "            tpr_m_arr.append(tpr_m_vals)\n",
    "            fpr_f_arr.append(fpr_f_vals)\n",
    "            fpr_m_arr.append(fpr_m_vals)\n",
    "            tpr_diff_arr.append(tpr_diff_vals)\n",
    "            fpr_diff_arr.append(fpr_diff_vals)\n",
    "            acc_f_arr.append(acc_f_vals)\n",
    "            acc_m_arr.append(acc_m_vals)\n",
    "        \n",
    "    return epsilon_vals, tpr_f_arr, tpr_m_arr, fpr_f_arr, fpr_m_arr, tpr_diff_arr, fpr_diff_arr, acc_f_arr, acc_m_arr"
   ]
  },
  {
   "cell_type": "code",
   "execution_count": 19,
   "metadata": {
    "cell_id": "00022-52c97741-9b29-46ef-ab8a-8610d749d02d",
    "deepnote_cell_type": "code",
    "deepnote_to_be_reexecuted": false,
    "execution_millis": 13,
    "execution_start": 1634163545761,
    "source_hash": "73a01a4f"
   },
   "outputs": [],
   "source": [
    "def plot_fairness_dict(fairness_dict, plot_non_private=False):\n",
    "\n",
    "    # Get fairness arrays for plotting\n",
    "    epsilon_vals, tpr_f_arr, tpr_m_arr, fpr_f_arr, fpr_m_arr, tpr_diff_arr, fpr_diff_arr, acc_f_arr, acc_m_arr = get_fairness_arrays(fairness_dict)    \n",
    "\n",
    "    # Line plot if there was only one repetition\n",
    "    if isinstance(tpr_f_arr[0], float):\n",
    "        \n",
    "        # Initialize a figure\n",
    "        fig, axs = plt.subplots(2, 2, figsize=(15,12))\n",
    "        axs = axs.ravel()\n",
    "        \n",
    "        if plot_non_private:\n",
    "            min_eps = np.min(epsilon_vals)\n",
    "            max_eps = np.max(epsilon_vals)\n",
    "            axs[0].hlines(TPR_f_non_priv, xmin=min_eps, xmax=max_eps, colors=\"darkorange\", linestyles=\"--\", label=\"Non-private female TPR\")\n",
    "            axs[0].hlines(TPR_m_non_priv, xmin=min_eps, xmax=max_eps, colors=\"royalblue\", linestyles=\"--\", label=\"Non-private male TPR\")            \n",
    "            axs[1].hlines(FPR_f_non_priv, xmin=min_eps, xmax=max_eps, colors=\"darkorange\", linestyles=\"--\", label=\"Non-private female FPR\")\n",
    "            axs[1].hlines(FPR_m_non_priv, xmin=min_eps, xmax=max_eps, colors=\"royalblue\", linestyles=\"--\", label=\"Non-private male FPR\")    \n",
    "            axs[2].hlines(TPR_diff_non_priv, xmin=min_eps, xmax=max_eps, colors=\"darkorange\", linestyles=\"--\", label=\"Non-private TPR dist\")\n",
    "            axs[2].hlines(FPR_diff_non_priv, xmin=min_eps, xmax=max_eps, colors=\"royalblue\", linestyles=\"--\", label=\"Non-private FPR dist\")\n",
    "            axs[3].hlines(ACC_f_non_priv, xmin=min_eps, xmax=max_eps, colors=\"darkorange\", linestyles=\"--\", label=\"Non-private Female\")\n",
    "            axs[3].hlines(ACC_m_non_priv, xmin=min_eps, xmax=max_eps, colors=\"royalblue\", linestyles=\"--\", label=\"Non-private Male\")\n",
    "        axs[0].plot(epsilon_vals, tpr_f_arr, label=\"Female TPR\", c=\"darkorange\", marker='o')\n",
    "        axs[0].plot(epsilon_vals, tpr_m_arr, label=\"Male TPR\", c=\"royalblue\", marker='o')\n",
    "        axs[0].set_ylabel(\"True positive rate\")\n",
    "        axs[0].set_title(\"True positive rates for female vs male\")\n",
    "        axs[1].plot(epsilon_vals, fpr_f_arr, label=\"Female FPR\", c=\"darkorange\", marker='o')\n",
    "        axs[1].plot(epsilon_vals, fpr_m_arr, label=\"Male FPR\", c=\"royalblue\", marker='o')\n",
    "        axs[1].set_ylabel(\"False positive rate\")\n",
    "        axs[1].set_title(\"False positive rates for female vs male\")\n",
    "        axs[2].hlines(0, xmin=min_eps, xmax=max_eps, colors=\"grey\", linestyles=\"--\", label=\"Perfect fairness\")\n",
    "        axs[2].plot(epsilon_vals, tpr_diff_arr, label=\"TPR dist\", c=\"darkorange\", marker='o')\n",
    "        axs[2].plot(epsilon_vals, fpr_diff_arr, label=\"FPR dist\", c=\"royalblue\", marker='o')\n",
    "        axs[2].set_ylabel(\"Equalized odds distance\")\n",
    "        axs[2].set_title(\"Equalized odds distances for female vs male\")\n",
    "        axs[3].plot(epsilon_vals, acc_f_arr, label=\"Female\", c=\"darkorange\", marker='o')\n",
    "        axs[3].plot(epsilon_vals, acc_m_arr, label=\"Male\", c=\"royalblue\", marker='o')\n",
    "        axs[3].set_ylabel(\"Overall accuracy\")\n",
    "        axs[3].set_title(\"Classification accuracies for female vs male\")\n",
    "        fig.suptitle(\"Adult dataset fairness metrics (1 repetition)\", fontsize=16)\n",
    "        for i in range(4):\n",
    "            axs[i].set_xlabel(\"Privacy loss (epsilon)\")\n",
    "            axs[i].legend()\n",
    "    else:\n",
    "        \n",
    "        # Initialize a figure\n",
    "        fig, axs = plt.subplots(4, 2, figsize=(15,20))\n",
    "        axs = axs.ravel()\n",
    "        \n",
    "        # Prepare for plotting\n",
    "        n_reps = len(tpr_f_arr[0])\n",
    "        medianprops_f = dict(color='darkorange')\n",
    "        medianprops_m = dict(color='royalblue')\n",
    "        \n",
    "        if plot_non_private:\n",
    "            min_eps = 0.5\n",
    "            max_eps = len(epsilon_vals)+0.5\n",
    "            axs[0].hlines(TPR_f_non_priv, xmin=min_eps, xmax=max_eps, colors=\"darkorange\", linestyles=\"--\", label=\"Non-private female TPR\")\n",
    "            axs[1].hlines(TPR_m_non_priv, xmin=min_eps, xmax=max_eps, colors=\"royalblue\", linestyles=\"--\", label=\"Non-private male TPR\")            \n",
    "            axs[2].hlines(FPR_f_non_priv, xmin=min_eps, xmax=max_eps, colors=\"darkorange\", linestyles=\"--\", label=\"Non-private female FPR\")\n",
    "            axs[3].hlines(FPR_m_non_priv, xmin=min_eps, xmax=max_eps, colors=\"royalblue\", linestyles=\"--\", label=\"Non-private male FPR\")    \n",
    "            axs[4].hlines(TPR_diff_non_priv, xmin=min_eps, xmax=max_eps, colors=\"red\", linestyles=\"--\", label=\"Non-private TPR dist\")\n",
    "            axs[5].hlines(FPR_diff_non_priv, xmin=min_eps, xmax=max_eps, colors=\"red\", linestyles=\"--\", label=\"Non-private FPR dist\")\n",
    "            axs[6].hlines(ACC_f_non_priv, xmin=min_eps, xmax=max_eps, colors=\"darkorange\", linestyles=\"--\", label=\"Non-private Female\")\n",
    "            axs[7].hlines(ACC_m_non_priv, xmin=min_eps, xmax=max_eps, colors=\"royalblue\", linestyles=\"--\", label=\"Non-private Male\")\n",
    "        axs[0].boxplot(tpr_f_arr, medianprops=medianprops_f)\n",
    "        axs[0].set_ylabel(\"True positive rate\")\n",
    "        axs[0].set_title(\"True positive rates for female\")\n",
    "        axs[1].boxplot(tpr_m_arr, medianprops=medianprops_m)\n",
    "        axs[1].set_ylabel(\"True positive rate\")\n",
    "        axs[1].set_title(\"True positive rates for male\")  \n",
    "        axs[2].boxplot(fpr_f_arr, medianprops=medianprops_f)\n",
    "        axs[2].set_ylabel(\"False positive rate\")\n",
    "        axs[2].set_title(\"False positive rates for female\")        \n",
    "        axs[3].boxplot(fpr_m_arr, medianprops=medianprops_m)\n",
    "        axs[3].set_ylabel(\"False positive rate\")\n",
    "        axs[3].set_title(\"False positive rates for male\")\n",
    "        axs[4].boxplot(tpr_diff_arr, medianprops=dict(color=\"red\"))\n",
    "        axs[4].set_ylabel(\"Equalized odds distance (y=1)\")\n",
    "        axs[4].set_title(\"Equalized odds distances (y=1)\")\n",
    "        axs[4].hlines(0, xmin=min_eps, xmax=max_eps, colors=\"grey\", linestyles=\"--\", label=\"Perfect fairness\")       \n",
    "        axs[5].boxplot(fpr_diff_arr, medianprops=dict(color=\"red\"))\n",
    "        axs[5].set_ylabel(\"Equalized odds distances (y=0)\")\n",
    "        axs[5].set_title(\"Equalized odds distances (y=0)\")\n",
    "        axs[5].hlines(0, xmin=min_eps, xmax=max_eps, colors=\"grey\", linestyles=\"--\", label=\"Perfect fairness\")\n",
    "        axs[6].boxplot(acc_f_arr, medianprops=medianprops_f)\n",
    "        axs[6].set_ylabel(\"Overall accuracy\")\n",
    "        axs[6].set_title(\"Classification accuracies for female\")  \n",
    "        axs[7].boxplot(acc_m_arr, medianprops=medianprops_m)\n",
    "        axs[7].set_ylabel(\"Overall accuracy\")\n",
    "        axs[7].set_title(\"Classification accuracies for male\")\n",
    "        fig.suptitle(f\"Adult dataset fairness metrics ({n_reps} repetitions)\", fontsize=16)\n",
    "        for i in range(8):\n",
    "            axs[i].set_xticklabels(epsilon_vals)\n",
    "            axs[i].set_xlabel(\"Privacy loss (epsilon)\")\n",
    "            axs[i].legend()\n",
    "    fig.tight_layout(rect=[0, 0.03, 1, 0.95])"
   ]
  },
  {
   "cell_type": "code",
   "execution_count": 20,
   "metadata": {
    "cell_id": "00023-de280535-30c2-484a-be4f-eff4402e83ad",
    "deepnote_cell_type": "code",
    "deepnote_to_be_reexecuted": false,
    "execution_millis": 992,
    "execution_start": 1634163547094,
    "source_hash": "b34d6d66"
   },
   "outputs": [
    {
     "data": {
      "image/png": "[encoded data removed]",
      "text/plain": [
       "<Figure size 1080x864 with 4 Axes>"
      ]
     },
     "metadata": {
      "needs_background": "light"
     },
     "output_type": "display_data"
    }
   ],
   "source": [
    "# Plot the fairness and accuracy metrics for 1 repetition\n",
    "plot_fairness_dict(adult_fairness_mwem_1, plot_non_private=True)"
   ]
  },
  {
   "cell_type": "code",
   "execution_count": 21,
   "metadata": {
    "cell_id": "00022-06d00568-0e7a-4b66-a0ac-9bec2b254338",
    "deepnote_cell_type": "code",
    "deepnote_to_be_reexecuted": false,
    "execution_millis": 2096940,
    "execution_start": 1634156918279,
    "source_hash": "1d0811a9",
    "tags": []
   },
   "outputs": [],
   "source": [
    "try:\n",
    "    # Try to load the dictionary with ten repetitions\n",
    "    adult_fairness_mwem_2 = np.load(\"adult_fairness_mwem_2.npy\", allow_pickle=True).item()\n",
    "    \n",
    "except:\n",
    "    # Set range of epsilon values\n",
    "    epsilon_vals = [1.0, 2.0, 3.0, 4.0, 5.0, 6.0, 7.0, 8.0]\n",
    "\n",
    "    # Get dictionary of averaged fairness metrics across 10 repetitions for range of values\n",
    "    adult_fairness_mwem_2 = adult_fairness_privacy_range(epsilon_vals, adult_train, adult_test, synthesizer=\"MWEM\", n_reps=15)\n",
    "    \n",
    "    # Save dictionary\n",
    "    np.save(\"adult_fairness_mwem_2.npy\", adult_fairness_mwem_2)"
   ]
  },
  {
   "cell_type": "code",
   "execution_count": 22,
   "metadata": {
    "cell_id": "00023-07a735e7-ae30-4dde-8c33-9f37fdf0ea31",
    "deepnote_cell_type": "code",
    "deepnote_to_be_reexecuted": false,
    "execution_millis": 933,
    "execution_start": 1634163587418,
    "source_hash": "8cc14ee9",
    "tags": []
   },
   "outputs": [
    {
     "data": {
      "image/png": "[encoded data removed]",
      "text/plain": [
       "<Figure size 1080x1440 with 8 Axes>"
      ]
     },
     "metadata": {
      "needs_background": "light"
     },
     "output_type": "display_data"
    }
   ],
   "source": [
    "# Plot the fairness and accuracy metrics for female vs male\n",
    "plot_fairness_dict(adult_fairness_mwem_2, plot_non_private=True)"
   ]
  },
  {
   "cell_type": "markdown",
   "metadata": {},
   "source": [
    "- orders of magnitude trend of epsilons would show a more clear trend"
   ]
  },
  {
   "cell_type": "markdown",
   "metadata": {
    "cell_id": "00024-c8fa18d1-e517-4493-a1c4-ed5f14646666",
    "deepnote_cell_type": "markdown",
    "tags": []
   },
   "source": [
    "## 4.3 QUAIL-MWEM"
   ]
  },
  {
   "cell_type": "code",
   "execution_count": 23,
   "metadata": {
    "cell_id": "00026-859158a2-643d-4d31-b3f4-fc9a0ccac69b",
    "deepnote_cell_type": "code",
    "deepnote_to_be_reexecuted": false,
    "execution_millis": 10546,
    "execution_start": 1634163055954,
    "source_hash": "c936b3b5",
    "tags": []
   },
   "outputs": [
    {
     "name": "stderr",
     "output_type": "stream",
     "text": [
      "C:\\Users\\Public\\anaconda3\\lib\\site-packages\\diffprivlib\\models\\logistic_regression.py:221: PrivacyLeakWarning: Data norm has not been specified and will be calculated on the data provided.  This will result in additional privacy leakage. To ensure differential privacy and no additional privacy leakage, specify `data_norm` at initialisation.\n",
      "  warnings.warn(\"Data norm has not been specified and will be calculated on the data provided.  This will \"\n",
      "C:\\Users\\Blake Bullwinkel\\Documents\\Harvard\\Fall 2021\\Capstone\\smartnoise-sdk\\synth\\snsynth\\mwem.py:116: SettingWithCopyWarning: \n",
      "A value is trying to be set on a copy of a slice from a DataFrame.\n",
      "Try using .loc[row_indexer,col_indexer] = value instead\n",
      "\n",
      "See the caveats in the documentation: https://pandas.pydata.org/pandas-docs/stable/user_guide/indexing.html#returning-a-view-versus-a-copy\n",
      "  data[col] = pd.to_numeric(data[col], errors=\"ignore\")\n",
      "C:\\Users\\Blake Bullwinkel\\Documents\\Harvard\\Fall 2021\\Capstone\\smartnoise-sdk\\synth\\snsynth\\mwem.py:530: VisibleDeprecationWarning: Creating an ndarray from ragged nested sequences (which is a list-or-tuple of lists-or-tuples-or ndarrays with different lengths or shapes) is deprecated. If you meant to do this, you must specify 'dtype=object' when creating the ndarray\n",
      "  return np.array(s2)\n",
      "C:\\Users\\Blake Bullwinkel\\Documents\\Harvard\\Fall 2021\\Capstone\\smartnoise-sdk\\synth\\snsynth\\mwem.py:223: Warning: Flattened dimensionality of synthetic histogram is less than the number of iterations. This is a privacy risk. Consider increasing your split_factor (especially if it is 1), or decreasing the number of iterations. Dim: 10 Split: [6 7]\n",
      "  warnings.warn(\n"
     ]
    },
    {
     "name": "stdout",
     "output_type": "stream",
     "text": [
      "Completed eps=1.0, rep=1.\n"
     ]
    },
    {
     "name": "stderr",
     "output_type": "stream",
     "text": [
      "C:\\Users\\Public\\anaconda3\\lib\\site-packages\\diffprivlib\\models\\logistic_regression.py:221: PrivacyLeakWarning: Data norm has not been specified and will be calculated on the data provided.  This will result in additional privacy leakage. To ensure differential privacy and no additional privacy leakage, specify `data_norm` at initialisation.\n",
      "  warnings.warn(\"Data norm has not been specified and will be calculated on the data provided.  This will \"\n",
      "C:\\Users\\Blake Bullwinkel\\Documents\\Harvard\\Fall 2021\\Capstone\\smartnoise-sdk\\synth\\snsynth\\mwem.py:116: SettingWithCopyWarning: \n",
      "A value is trying to be set on a copy of a slice from a DataFrame.\n",
      "Try using .loc[row_indexer,col_indexer] = value instead\n",
      "\n",
      "See the caveats in the documentation: https://pandas.pydata.org/pandas-docs/stable/user_guide/indexing.html#returning-a-view-versus-a-copy\n",
      "  data[col] = pd.to_numeric(data[col], errors=\"ignore\")\n",
      "C:\\Users\\Blake Bullwinkel\\Documents\\Harvard\\Fall 2021\\Capstone\\smartnoise-sdk\\synth\\snsynth\\mwem.py:530: VisibleDeprecationWarning: Creating an ndarray from ragged nested sequences (which is a list-or-tuple of lists-or-tuples-or ndarrays with different lengths or shapes) is deprecated. If you meant to do this, you must specify 'dtype=object' when creating the ndarray\n",
      "  return np.array(s2)\n",
      "C:\\Users\\Blake Bullwinkel\\Documents\\Harvard\\Fall 2021\\Capstone\\smartnoise-sdk\\synth\\snsynth\\mwem.py:223: Warning: Flattened dimensionality of synthetic histogram is less than the number of iterations. This is a privacy risk. Consider increasing your split_factor (especially if it is 1), or decreasing the number of iterations. Dim: 10 Split: [6 7]\n",
      "  warnings.warn(\n"
     ]
    },
    {
     "name": "stdout",
     "output_type": "stream",
     "text": [
      "Completed eps=1.0, rep=2.\n"
     ]
    },
    {
     "name": "stderr",
     "output_type": "stream",
     "text": [
      "C:\\Users\\Public\\anaconda3\\lib\\site-packages\\diffprivlib\\models\\logistic_regression.py:221: PrivacyLeakWarning: Data norm has not been specified and will be calculated on the data provided.  This will result in additional privacy leakage. To ensure differential privacy and no additional privacy leakage, specify `data_norm` at initialisation.\n",
      "  warnings.warn(\"Data norm has not been specified and will be calculated on the data provided.  This will \"\n",
      "C:\\Users\\Blake Bullwinkel\\Documents\\Harvard\\Fall 2021\\Capstone\\smartnoise-sdk\\synth\\snsynth\\mwem.py:116: SettingWithCopyWarning: \n",
      "A value is trying to be set on a copy of a slice from a DataFrame.\n",
      "Try using .loc[row_indexer,col_indexer] = value instead\n",
      "\n",
      "See the caveats in the documentation: https://pandas.pydata.org/pandas-docs/stable/user_guide/indexing.html#returning-a-view-versus-a-copy\n",
      "  data[col] = pd.to_numeric(data[col], errors=\"ignore\")\n",
      "C:\\Users\\Blake Bullwinkel\\Documents\\Harvard\\Fall 2021\\Capstone\\smartnoise-sdk\\synth\\snsynth\\mwem.py:530: VisibleDeprecationWarning: Creating an ndarray from ragged nested sequences (which is a list-or-tuple of lists-or-tuples-or ndarrays with different lengths or shapes) is deprecated. If you meant to do this, you must specify 'dtype=object' when creating the ndarray\n",
      "  return np.array(s2)\n",
      "C:\\Users\\Blake Bullwinkel\\Documents\\Harvard\\Fall 2021\\Capstone\\smartnoise-sdk\\synth\\snsynth\\mwem.py:223: Warning: Flattened dimensionality of synthetic histogram is less than the number of iterations. This is a privacy risk. Consider increasing your split_factor (especially if it is 1), or decreasing the number of iterations. Dim: 10 Split: [6 7]\n",
      "  warnings.warn(\n"
     ]
    },
    {
     "name": "stdout",
     "output_type": "stream",
     "text": [
      "Completed eps=1.0, rep=3.\n"
     ]
    },
    {
     "name": "stderr",
     "output_type": "stream",
     "text": [
      "C:\\Users\\Public\\anaconda3\\lib\\site-packages\\diffprivlib\\models\\logistic_regression.py:221: PrivacyLeakWarning: Data norm has not been specified and will be calculated on the data provided.  This will result in additional privacy leakage. To ensure differential privacy and no additional privacy leakage, specify `data_norm` at initialisation.\n",
      "  warnings.warn(\"Data norm has not been specified and will be calculated on the data provided.  This will \"\n",
      "C:\\Users\\Blake Bullwinkel\\Documents\\Harvard\\Fall 2021\\Capstone\\smartnoise-sdk\\synth\\snsynth\\mwem.py:116: SettingWithCopyWarning: \n",
      "A value is trying to be set on a copy of a slice from a DataFrame.\n",
      "Try using .loc[row_indexer,col_indexer] = value instead\n",
      "\n",
      "See the caveats in the documentation: https://pandas.pydata.org/pandas-docs/stable/user_guide/indexing.html#returning-a-view-versus-a-copy\n",
      "  data[col] = pd.to_numeric(data[col], errors=\"ignore\")\n",
      "C:\\Users\\Blake Bullwinkel\\Documents\\Harvard\\Fall 2021\\Capstone\\smartnoise-sdk\\synth\\snsynth\\mwem.py:530: VisibleDeprecationWarning: Creating an ndarray from ragged nested sequences (which is a list-or-tuple of lists-or-tuples-or ndarrays with different lengths or shapes) is deprecated. If you meant to do this, you must specify 'dtype=object' when creating the ndarray\n",
      "  return np.array(s2)\n",
      "C:\\Users\\Blake Bullwinkel\\Documents\\Harvard\\Fall 2021\\Capstone\\smartnoise-sdk\\synth\\snsynth\\mwem.py:223: Warning: Flattened dimensionality of synthetic histogram is less than the number of iterations. This is a privacy risk. Consider increasing your split_factor (especially if it is 1), or decreasing the number of iterations. Dim: 10 Split: [6 7]\n",
      "  warnings.warn(\n"
     ]
    },
    {
     "name": "stdout",
     "output_type": "stream",
     "text": [
      "Completed eps=1.0, rep=4.\n"
     ]
    },
    {
     "name": "stderr",
     "output_type": "stream",
     "text": [
      "C:\\Users\\Public\\anaconda3\\lib\\site-packages\\diffprivlib\\models\\logistic_regression.py:221: PrivacyLeakWarning: Data norm has not been specified and will be calculated on the data provided.  This will result in additional privacy leakage. To ensure differential privacy and no additional privacy leakage, specify `data_norm` at initialisation.\n",
      "  warnings.warn(\"Data norm has not been specified and will be calculated on the data provided.  This will \"\n",
      "C:\\Users\\Blake Bullwinkel\\Documents\\Harvard\\Fall 2021\\Capstone\\smartnoise-sdk\\synth\\snsynth\\mwem.py:116: SettingWithCopyWarning: \n",
      "A value is trying to be set on a copy of a slice from a DataFrame.\n",
      "Try using .loc[row_indexer,col_indexer] = value instead\n",
      "\n",
      "See the caveats in the documentation: https://pandas.pydata.org/pandas-docs/stable/user_guide/indexing.html#returning-a-view-versus-a-copy\n",
      "  data[col] = pd.to_numeric(data[col], errors=\"ignore\")\n",
      "C:\\Users\\Blake Bullwinkel\\Documents\\Harvard\\Fall 2021\\Capstone\\smartnoise-sdk\\synth\\snsynth\\mwem.py:530: VisibleDeprecationWarning: Creating an ndarray from ragged nested sequences (which is a list-or-tuple of lists-or-tuples-or ndarrays with different lengths or shapes) is deprecated. If you meant to do this, you must specify 'dtype=object' when creating the ndarray\n",
      "  return np.array(s2)\n",
      "C:\\Users\\Blake Bullwinkel\\Documents\\Harvard\\Fall 2021\\Capstone\\smartnoise-sdk\\synth\\snsynth\\mwem.py:223: Warning: Flattened dimensionality of synthetic histogram is less than the number of iterations. This is a privacy risk. Consider increasing your split_factor (especially if it is 1), or decreasing the number of iterations. Dim: 10 Split: [6 7]\n",
      "  warnings.warn(\n"
     ]
    },
    {
     "name": "stdout",
     "output_type": "stream",
     "text": [
      "Completed eps=1.0, rep=5.\n"
     ]
    },
    {
     "name": "stderr",
     "output_type": "stream",
     "text": [
      "C:\\Users\\Public\\anaconda3\\lib\\site-packages\\diffprivlib\\models\\logistic_regression.py:221: PrivacyLeakWarning: Data norm has not been specified and will be calculated on the data provided.  This will result in additional privacy leakage. To ensure differential privacy and no additional privacy leakage, specify `data_norm` at initialisation.\n",
      "  warnings.warn(\"Data norm has not been specified and will be calculated on the data provided.  This will \"\n",
      "C:\\Users\\Blake Bullwinkel\\Documents\\Harvard\\Fall 2021\\Capstone\\smartnoise-sdk\\synth\\snsynth\\mwem.py:116: SettingWithCopyWarning: \n",
      "A value is trying to be set on a copy of a slice from a DataFrame.\n",
      "Try using .loc[row_indexer,col_indexer] = value instead\n",
      "\n",
      "See the caveats in the documentation: https://pandas.pydata.org/pandas-docs/stable/user_guide/indexing.html#returning-a-view-versus-a-copy\n",
      "  data[col] = pd.to_numeric(data[col], errors=\"ignore\")\n",
      "C:\\Users\\Blake Bullwinkel\\Documents\\Harvard\\Fall 2021\\Capstone\\smartnoise-sdk\\synth\\snsynth\\mwem.py:530: VisibleDeprecationWarning: Creating an ndarray from ragged nested sequences (which is a list-or-tuple of lists-or-tuples-or ndarrays with different lengths or shapes) is deprecated. If you meant to do this, you must specify 'dtype=object' when creating the ndarray\n",
      "  return np.array(s2)\n",
      "C:\\Users\\Blake Bullwinkel\\Documents\\Harvard\\Fall 2021\\Capstone\\smartnoise-sdk\\synth\\snsynth\\mwem.py:223: Warning: Flattened dimensionality of synthetic histogram is less than the number of iterations. This is a privacy risk. Consider increasing your split_factor (especially if it is 1), or decreasing the number of iterations. Dim: 10 Split: [6 7]\n",
      "  warnings.warn(\n"
     ]
    },
    {
     "name": "stdout",
     "output_type": "stream",
     "text": [
      "Completed eps=1.0, rep=6.\n"
     ]
    },
    {
     "name": "stderr",
     "output_type": "stream",
     "text": [
      "C:\\Users\\Public\\anaconda3\\lib\\site-packages\\diffprivlib\\models\\logistic_regression.py:221: PrivacyLeakWarning: Data norm has not been specified and will be calculated on the data provided.  This will result in additional privacy leakage. To ensure differential privacy and no additional privacy leakage, specify `data_norm` at initialisation.\n",
      "  warnings.warn(\"Data norm has not been specified and will be calculated on the data provided.  This will \"\n",
      "C:\\Users\\Blake Bullwinkel\\Documents\\Harvard\\Fall 2021\\Capstone\\smartnoise-sdk\\synth\\snsynth\\mwem.py:116: SettingWithCopyWarning: \n",
      "A value is trying to be set on a copy of a slice from a DataFrame.\n",
      "Try using .loc[row_indexer,col_indexer] = value instead\n",
      "\n",
      "See the caveats in the documentation: https://pandas.pydata.org/pandas-docs/stable/user_guide/indexing.html#returning-a-view-versus-a-copy\n",
      "  data[col] = pd.to_numeric(data[col], errors=\"ignore\")\n",
      "C:\\Users\\Blake Bullwinkel\\Documents\\Harvard\\Fall 2021\\Capstone\\smartnoise-sdk\\synth\\snsynth\\mwem.py:530: VisibleDeprecationWarning: Creating an ndarray from ragged nested sequences (which is a list-or-tuple of lists-or-tuples-or ndarrays with different lengths or shapes) is deprecated. If you meant to do this, you must specify 'dtype=object' when creating the ndarray\n",
      "  return np.array(s2)\n",
      "C:\\Users\\Blake Bullwinkel\\Documents\\Harvard\\Fall 2021\\Capstone\\smartnoise-sdk\\synth\\snsynth\\mwem.py:223: Warning: Flattened dimensionality of synthetic histogram is less than the number of iterations. This is a privacy risk. Consider increasing your split_factor (especially if it is 1), or decreasing the number of iterations. Dim: 10 Split: [6 7]\n",
      "  warnings.warn(\n"
     ]
    },
    {
     "name": "stdout",
     "output_type": "stream",
     "text": [
      "Completed eps=1.0, rep=7.\n"
     ]
    },
    {
     "name": "stderr",
     "output_type": "stream",
     "text": [
      "C:\\Users\\Public\\anaconda3\\lib\\site-packages\\diffprivlib\\models\\logistic_regression.py:221: PrivacyLeakWarning: Data norm has not been specified and will be calculated on the data provided.  This will result in additional privacy leakage. To ensure differential privacy and no additional privacy leakage, specify `data_norm` at initialisation.\n",
      "  warnings.warn(\"Data norm has not been specified and will be calculated on the data provided.  This will \"\n",
      "C:\\Users\\Blake Bullwinkel\\Documents\\Harvard\\Fall 2021\\Capstone\\smartnoise-sdk\\synth\\snsynth\\mwem.py:116: SettingWithCopyWarning: \n",
      "A value is trying to be set on a copy of a slice from a DataFrame.\n",
      "Try using .loc[row_indexer,col_indexer] = value instead\n",
      "\n",
      "See the caveats in the documentation: https://pandas.pydata.org/pandas-docs/stable/user_guide/indexing.html#returning-a-view-versus-a-copy\n",
      "  data[col] = pd.to_numeric(data[col], errors=\"ignore\")\n",
      "C:\\Users\\Blake Bullwinkel\\Documents\\Harvard\\Fall 2021\\Capstone\\smartnoise-sdk\\synth\\snsynth\\mwem.py:530: VisibleDeprecationWarning: Creating an ndarray from ragged nested sequences (which is a list-or-tuple of lists-or-tuples-or ndarrays with different lengths or shapes) is deprecated. If you meant to do this, you must specify 'dtype=object' when creating the ndarray\n",
      "  return np.array(s2)\n",
      "C:\\Users\\Blake Bullwinkel\\Documents\\Harvard\\Fall 2021\\Capstone\\smartnoise-sdk\\synth\\snsynth\\mwem.py:223: Warning: Flattened dimensionality of synthetic histogram is less than the number of iterations. This is a privacy risk. Consider increasing your split_factor (especially if it is 1), or decreasing the number of iterations. Dim: 10 Split: [6 7]\n",
      "  warnings.warn(\n"
     ]
    },
    {
     "name": "stdout",
     "output_type": "stream",
     "text": [
      "Completed eps=1.0, rep=8.\n"
     ]
    },
    {
     "name": "stderr",
     "output_type": "stream",
     "text": [
      "C:\\Users\\Public\\anaconda3\\lib\\site-packages\\diffprivlib\\models\\logistic_regression.py:221: PrivacyLeakWarning: Data norm has not been specified and will be calculated on the data provided.  This will result in additional privacy leakage. To ensure differential privacy and no additional privacy leakage, specify `data_norm` at initialisation.\n",
      "  warnings.warn(\"Data norm has not been specified and will be calculated on the data provided.  This will \"\n",
      "C:\\Users\\Blake Bullwinkel\\Documents\\Harvard\\Fall 2021\\Capstone\\smartnoise-sdk\\synth\\snsynth\\mwem.py:116: SettingWithCopyWarning: \n",
      "A value is trying to be set on a copy of a slice from a DataFrame.\n",
      "Try using .loc[row_indexer,col_indexer] = value instead\n",
      "\n",
      "See the caveats in the documentation: https://pandas.pydata.org/pandas-docs/stable/user_guide/indexing.html#returning-a-view-versus-a-copy\n",
      "  data[col] = pd.to_numeric(data[col], errors=\"ignore\")\n",
      "C:\\Users\\Blake Bullwinkel\\Documents\\Harvard\\Fall 2021\\Capstone\\smartnoise-sdk\\synth\\snsynth\\mwem.py:530: VisibleDeprecationWarning: Creating an ndarray from ragged nested sequences (which is a list-or-tuple of lists-or-tuples-or ndarrays with different lengths or shapes) is deprecated. If you meant to do this, you must specify 'dtype=object' when creating the ndarray\n",
      "  return np.array(s2)\n",
      "C:\\Users\\Blake Bullwinkel\\Documents\\Harvard\\Fall 2021\\Capstone\\smartnoise-sdk\\synth\\snsynth\\mwem.py:223: Warning: Flattened dimensionality of synthetic histogram is less than the number of iterations. This is a privacy risk. Consider increasing your split_factor (especially if it is 1), or decreasing the number of iterations. Dim: 10 Split: [6 7]\n",
      "  warnings.warn(\n"
     ]
    },
    {
     "name": "stdout",
     "output_type": "stream",
     "text": [
      "Completed eps=1.0, rep=9.\n"
     ]
    },
    {
     "name": "stderr",
     "output_type": "stream",
     "text": [
      "C:\\Users\\Public\\anaconda3\\lib\\site-packages\\diffprivlib\\models\\logistic_regression.py:221: PrivacyLeakWarning: Data norm has not been specified and will be calculated on the data provided.  This will result in additional privacy leakage. To ensure differential privacy and no additional privacy leakage, specify `data_norm` at initialisation.\n",
      "  warnings.warn(\"Data norm has not been specified and will be calculated on the data provided.  This will \"\n",
      "C:\\Users\\Blake Bullwinkel\\Documents\\Harvard\\Fall 2021\\Capstone\\smartnoise-sdk\\synth\\snsynth\\mwem.py:116: SettingWithCopyWarning: \n",
      "A value is trying to be set on a copy of a slice from a DataFrame.\n",
      "Try using .loc[row_indexer,col_indexer] = value instead\n",
      "\n",
      "See the caveats in the documentation: https://pandas.pydata.org/pandas-docs/stable/user_guide/indexing.html#returning-a-view-versus-a-copy\n",
      "  data[col] = pd.to_numeric(data[col], errors=\"ignore\")\n",
      "C:\\Users\\Blake Bullwinkel\\Documents\\Harvard\\Fall 2021\\Capstone\\smartnoise-sdk\\synth\\snsynth\\mwem.py:530: VisibleDeprecationWarning: Creating an ndarray from ragged nested sequences (which is a list-or-tuple of lists-or-tuples-or ndarrays with different lengths or shapes) is deprecated. If you meant to do this, you must specify 'dtype=object' when creating the ndarray\n",
      "  return np.array(s2)\n",
      "C:\\Users\\Blake Bullwinkel\\Documents\\Harvard\\Fall 2021\\Capstone\\smartnoise-sdk\\synth\\snsynth\\mwem.py:223: Warning: Flattened dimensionality of synthetic histogram is less than the number of iterations. This is a privacy risk. Consider increasing your split_factor (especially if it is 1), or decreasing the number of iterations. Dim: 10 Split: [6 7]\n",
      "  warnings.warn(\n"
     ]
    },
    {
     "name": "stdout",
     "output_type": "stream",
     "text": [
      "Completed eps=1.0, rep=10.\n"
     ]
    },
    {
     "name": "stderr",
     "output_type": "stream",
     "text": [
      "C:\\Users\\Public\\anaconda3\\lib\\site-packages\\diffprivlib\\models\\logistic_regression.py:221: PrivacyLeakWarning: Data norm has not been specified and will be calculated on the data provided.  This will result in additional privacy leakage. To ensure differential privacy and no additional privacy leakage, specify `data_norm` at initialisation.\n",
      "  warnings.warn(\"Data norm has not been specified and will be calculated on the data provided.  This will \"\n",
      "C:\\Users\\Blake Bullwinkel\\Documents\\Harvard\\Fall 2021\\Capstone\\smartnoise-sdk\\synth\\snsynth\\mwem.py:116: SettingWithCopyWarning: \n",
      "A value is trying to be set on a copy of a slice from a DataFrame.\n",
      "Try using .loc[row_indexer,col_indexer] = value instead\n",
      "\n",
      "See the caveats in the documentation: https://pandas.pydata.org/pandas-docs/stable/user_guide/indexing.html#returning-a-view-versus-a-copy\n",
      "  data[col] = pd.to_numeric(data[col], errors=\"ignore\")\n",
      "C:\\Users\\Blake Bullwinkel\\Documents\\Harvard\\Fall 2021\\Capstone\\smartnoise-sdk\\synth\\snsynth\\mwem.py:530: VisibleDeprecationWarning: Creating an ndarray from ragged nested sequences (which is a list-or-tuple of lists-or-tuples-or ndarrays with different lengths or shapes) is deprecated. If you meant to do this, you must specify 'dtype=object' when creating the ndarray\n",
      "  return np.array(s2)\n",
      "C:\\Users\\Blake Bullwinkel\\Documents\\Harvard\\Fall 2021\\Capstone\\smartnoise-sdk\\synth\\snsynth\\mwem.py:223: Warning: Flattened dimensionality of synthetic histogram is less than the number of iterations. This is a privacy risk. Consider increasing your split_factor (especially if it is 1), or decreasing the number of iterations. Dim: 10 Split: [6 7]\n",
      "  warnings.warn(\n"
     ]
    },
    {
     "name": "stdout",
     "output_type": "stream",
     "text": [
      "Completed eps=1.0, rep=11.\n"
     ]
    },
    {
     "name": "stderr",
     "output_type": "stream",
     "text": [
      "C:\\Users\\Public\\anaconda3\\lib\\site-packages\\diffprivlib\\models\\logistic_regression.py:221: PrivacyLeakWarning: Data norm has not been specified and will be calculated on the data provided.  This will result in additional privacy leakage. To ensure differential privacy and no additional privacy leakage, specify `data_norm` at initialisation.\n",
      "  warnings.warn(\"Data norm has not been specified and will be calculated on the data provided.  This will \"\n",
      "C:\\Users\\Blake Bullwinkel\\Documents\\Harvard\\Fall 2021\\Capstone\\smartnoise-sdk\\synth\\snsynth\\mwem.py:116: SettingWithCopyWarning: \n",
      "A value is trying to be set on a copy of a slice from a DataFrame.\n",
      "Try using .loc[row_indexer,col_indexer] = value instead\n",
      "\n",
      "See the caveats in the documentation: https://pandas.pydata.org/pandas-docs/stable/user_guide/indexing.html#returning-a-view-versus-a-copy\n",
      "  data[col] = pd.to_numeric(data[col], errors=\"ignore\")\n",
      "C:\\Users\\Blake Bullwinkel\\Documents\\Harvard\\Fall 2021\\Capstone\\smartnoise-sdk\\synth\\snsynth\\mwem.py:530: VisibleDeprecationWarning: Creating an ndarray from ragged nested sequences (which is a list-or-tuple of lists-or-tuples-or ndarrays with different lengths or shapes) is deprecated. If you meant to do this, you must specify 'dtype=object' when creating the ndarray\n",
      "  return np.array(s2)\n",
      "C:\\Users\\Blake Bullwinkel\\Documents\\Harvard\\Fall 2021\\Capstone\\smartnoise-sdk\\synth\\snsynth\\mwem.py:223: Warning: Flattened dimensionality of synthetic histogram is less than the number of iterations. This is a privacy risk. Consider increasing your split_factor (especially if it is 1), or decreasing the number of iterations. Dim: 10 Split: [6 7]\n",
      "  warnings.warn(\n"
     ]
    },
    {
     "name": "stdout",
     "output_type": "stream",
     "text": [
      "Completed eps=1.0, rep=12.\n"
     ]
    },
    {
     "name": "stderr",
     "output_type": "stream",
     "text": [
      "C:\\Users\\Public\\anaconda3\\lib\\site-packages\\diffprivlib\\models\\logistic_regression.py:221: PrivacyLeakWarning: Data norm has not been specified and will be calculated on the data provided.  This will result in additional privacy leakage. To ensure differential privacy and no additional privacy leakage, specify `data_norm` at initialisation.\n",
      "  warnings.warn(\"Data norm has not been specified and will be calculated on the data provided.  This will \"\n",
      "C:\\Users\\Blake Bullwinkel\\Documents\\Harvard\\Fall 2021\\Capstone\\smartnoise-sdk\\synth\\snsynth\\mwem.py:116: SettingWithCopyWarning: \n",
      "A value is trying to be set on a copy of a slice from a DataFrame.\n",
      "Try using .loc[row_indexer,col_indexer] = value instead\n",
      "\n",
      "See the caveats in the documentation: https://pandas.pydata.org/pandas-docs/stable/user_guide/indexing.html#returning-a-view-versus-a-copy\n",
      "  data[col] = pd.to_numeric(data[col], errors=\"ignore\")\n",
      "C:\\Users\\Blake Bullwinkel\\Documents\\Harvard\\Fall 2021\\Capstone\\smartnoise-sdk\\synth\\snsynth\\mwem.py:530: VisibleDeprecationWarning: Creating an ndarray from ragged nested sequences (which is a list-or-tuple of lists-or-tuples-or ndarrays with different lengths or shapes) is deprecated. If you meant to do this, you must specify 'dtype=object' when creating the ndarray\n",
      "  return np.array(s2)\n",
      "C:\\Users\\Blake Bullwinkel\\Documents\\Harvard\\Fall 2021\\Capstone\\smartnoise-sdk\\synth\\snsynth\\mwem.py:223: Warning: Flattened dimensionality of synthetic histogram is less than the number of iterations. This is a privacy risk. Consider increasing your split_factor (especially if it is 1), or decreasing the number of iterations. Dim: 10 Split: [6 7]\n",
      "  warnings.warn(\n"
     ]
    },
    {
     "name": "stdout",
     "output_type": "stream",
     "text": [
      "Completed eps=1.0, rep=13.\n"
     ]
    },
    {
     "name": "stderr",
     "output_type": "stream",
     "text": [
      "C:\\Users\\Public\\anaconda3\\lib\\site-packages\\diffprivlib\\models\\logistic_regression.py:221: PrivacyLeakWarning: Data norm has not been specified and will be calculated on the data provided.  This will result in additional privacy leakage. To ensure differential privacy and no additional privacy leakage, specify `data_norm` at initialisation.\n",
      "  warnings.warn(\"Data norm has not been specified and will be calculated on the data provided.  This will \"\n",
      "C:\\Users\\Blake Bullwinkel\\Documents\\Harvard\\Fall 2021\\Capstone\\smartnoise-sdk\\synth\\snsynth\\mwem.py:116: SettingWithCopyWarning: \n",
      "A value is trying to be set on a copy of a slice from a DataFrame.\n",
      "Try using .loc[row_indexer,col_indexer] = value instead\n",
      "\n",
      "See the caveats in the documentation: https://pandas.pydata.org/pandas-docs/stable/user_guide/indexing.html#returning-a-view-versus-a-copy\n",
      "  data[col] = pd.to_numeric(data[col], errors=\"ignore\")\n",
      "C:\\Users\\Blake Bullwinkel\\Documents\\Harvard\\Fall 2021\\Capstone\\smartnoise-sdk\\synth\\snsynth\\mwem.py:530: VisibleDeprecationWarning: Creating an ndarray from ragged nested sequences (which is a list-or-tuple of lists-or-tuples-or ndarrays with different lengths or shapes) is deprecated. If you meant to do this, you must specify 'dtype=object' when creating the ndarray\n",
      "  return np.array(s2)\n",
      "C:\\Users\\Blake Bullwinkel\\Documents\\Harvard\\Fall 2021\\Capstone\\smartnoise-sdk\\synth\\snsynth\\mwem.py:223: Warning: Flattened dimensionality of synthetic histogram is less than the number of iterations. This is a privacy risk. Consider increasing your split_factor (especially if it is 1), or decreasing the number of iterations. Dim: 10 Split: [6 7]\n",
      "  warnings.warn(\n"
     ]
    },
    {
     "name": "stdout",
     "output_type": "stream",
     "text": [
      "Completed eps=1.0, rep=14.\n"
     ]
    },
    {
     "name": "stderr",
     "output_type": "stream",
     "text": [
      "C:\\Users\\Public\\anaconda3\\lib\\site-packages\\diffprivlib\\models\\logistic_regression.py:221: PrivacyLeakWarning: Data norm has not been specified and will be calculated on the data provided.  This will result in additional privacy leakage. To ensure differential privacy and no additional privacy leakage, specify `data_norm` at initialisation.\n",
      "  warnings.warn(\"Data norm has not been specified and will be calculated on the data provided.  This will \"\n",
      "C:\\Users\\Blake Bullwinkel\\Documents\\Harvard\\Fall 2021\\Capstone\\smartnoise-sdk\\synth\\snsynth\\mwem.py:116: SettingWithCopyWarning: \n",
      "A value is trying to be set on a copy of a slice from a DataFrame.\n",
      "Try using .loc[row_indexer,col_indexer] = value instead\n",
      "\n",
      "See the caveats in the documentation: https://pandas.pydata.org/pandas-docs/stable/user_guide/indexing.html#returning-a-view-versus-a-copy\n",
      "  data[col] = pd.to_numeric(data[col], errors=\"ignore\")\n",
      "C:\\Users\\Blake Bullwinkel\\Documents\\Harvard\\Fall 2021\\Capstone\\smartnoise-sdk\\synth\\snsynth\\mwem.py:530: VisibleDeprecationWarning: Creating an ndarray from ragged nested sequences (which is a list-or-tuple of lists-or-tuples-or ndarrays with different lengths or shapes) is deprecated. If you meant to do this, you must specify 'dtype=object' when creating the ndarray\n",
      "  return np.array(s2)\n",
      "C:\\Users\\Blake Bullwinkel\\Documents\\Harvard\\Fall 2021\\Capstone\\smartnoise-sdk\\synth\\snsynth\\mwem.py:223: Warning: Flattened dimensionality of synthetic histogram is less than the number of iterations. This is a privacy risk. Consider increasing your split_factor (especially if it is 1), or decreasing the number of iterations. Dim: 10 Split: [6 7]\n",
      "  warnings.warn(\n"
     ]
    },
    {
     "name": "stdout",
     "output_type": "stream",
     "text": [
      "Completed eps=1.0, rep=15.\n"
     ]
    },
    {
     "name": "stderr",
     "output_type": "stream",
     "text": [
      "C:\\Users\\Public\\anaconda3\\lib\\site-packages\\diffprivlib\\models\\logistic_regression.py:221: PrivacyLeakWarning: Data norm has not been specified and will be calculated on the data provided.  This will result in additional privacy leakage. To ensure differential privacy and no additional privacy leakage, specify `data_norm` at initialisation.\n",
      "  warnings.warn(\"Data norm has not been specified and will be calculated on the data provided.  This will \"\n",
      "C:\\Users\\Public\\anaconda3\\lib\\site-packages\\diffprivlib\\models\\logistic_regression.py:394: ConvergenceWarning: lbfgs failed to converge. Increase the number of iterations.\n",
      "  warnings.warn(\"lbfgs failed to converge. Increase the number of iterations.\", ConvergenceWarning)\n",
      "C:\\Users\\Blake Bullwinkel\\Documents\\Harvard\\Fall 2021\\Capstone\\smartnoise-sdk\\synth\\snsynth\\mwem.py:116: SettingWithCopyWarning: \n",
      "A value is trying to be set on a copy of a slice from a DataFrame.\n",
      "Try using .loc[row_indexer,col_indexer] = value instead\n",
      "\n",
      "See the caveats in the documentation: https://pandas.pydata.org/pandas-docs/stable/user_guide/indexing.html#returning-a-view-versus-a-copy\n",
      "  data[col] = pd.to_numeric(data[col], errors=\"ignore\")\n",
      "C:\\Users\\Blake Bullwinkel\\Documents\\Harvard\\Fall 2021\\Capstone\\smartnoise-sdk\\synth\\snsynth\\mwem.py:530: VisibleDeprecationWarning: Creating an ndarray from ragged nested sequences (which is a list-or-tuple of lists-or-tuples-or ndarrays with different lengths or shapes) is deprecated. If you meant to do this, you must specify 'dtype=object' when creating the ndarray\n",
      "  return np.array(s2)\n",
      "C:\\Users\\Blake Bullwinkel\\Documents\\Harvard\\Fall 2021\\Capstone\\smartnoise-sdk\\synth\\snsynth\\mwem.py:223: Warning: Flattened dimensionality of synthetic histogram is less than the number of iterations. This is a privacy risk. Consider increasing your split_factor (especially if it is 1), or decreasing the number of iterations. Dim: 10 Split: [6 7]\n",
      "  warnings.warn(\n"
     ]
    },
    {
     "name": "stdout",
     "output_type": "stream",
     "text": [
      "Completed eps=2.0, rep=1.\n"
     ]
    },
    {
     "name": "stderr",
     "output_type": "stream",
     "text": [
      "C:\\Users\\Public\\anaconda3\\lib\\site-packages\\diffprivlib\\models\\logistic_regression.py:221: PrivacyLeakWarning: Data norm has not been specified and will be calculated on the data provided.  This will result in additional privacy leakage. To ensure differential privacy and no additional privacy leakage, specify `data_norm` at initialisation.\n",
      "  warnings.warn(\"Data norm has not been specified and will be calculated on the data provided.  This will \"\n",
      "C:\\Users\\Public\\anaconda3\\lib\\site-packages\\diffprivlib\\models\\logistic_regression.py:394: ConvergenceWarning: lbfgs failed to converge. Increase the number of iterations.\n",
      "  warnings.warn(\"lbfgs failed to converge. Increase the number of iterations.\", ConvergenceWarning)\n",
      "C:\\Users\\Blake Bullwinkel\\Documents\\Harvard\\Fall 2021\\Capstone\\smartnoise-sdk\\synth\\snsynth\\mwem.py:116: SettingWithCopyWarning: \n",
      "A value is trying to be set on a copy of a slice from a DataFrame.\n",
      "Try using .loc[row_indexer,col_indexer] = value instead\n",
      "\n",
      "See the caveats in the documentation: https://pandas.pydata.org/pandas-docs/stable/user_guide/indexing.html#returning-a-view-versus-a-copy\n",
      "  data[col] = pd.to_numeric(data[col], errors=\"ignore\")\n",
      "C:\\Users\\Blake Bullwinkel\\Documents\\Harvard\\Fall 2021\\Capstone\\smartnoise-sdk\\synth\\snsynth\\mwem.py:530: VisibleDeprecationWarning: Creating an ndarray from ragged nested sequences (which is a list-or-tuple of lists-or-tuples-or ndarrays with different lengths or shapes) is deprecated. If you meant to do this, you must specify 'dtype=object' when creating the ndarray\n",
      "  return np.array(s2)\n",
      "C:\\Users\\Blake Bullwinkel\\Documents\\Harvard\\Fall 2021\\Capstone\\smartnoise-sdk\\synth\\snsynth\\mwem.py:223: Warning: Flattened dimensionality of synthetic histogram is less than the number of iterations. This is a privacy risk. Consider increasing your split_factor (especially if it is 1), or decreasing the number of iterations. Dim: 10 Split: [6 7]\n",
      "  warnings.warn(\n"
     ]
    },
    {
     "name": "stdout",
     "output_type": "stream",
     "text": [
      "Completed eps=2.0, rep=2.\n"
     ]
    },
    {
     "name": "stderr",
     "output_type": "stream",
     "text": [
      "C:\\Users\\Public\\anaconda3\\lib\\site-packages\\diffprivlib\\models\\logistic_regression.py:221: PrivacyLeakWarning: Data norm has not been specified and will be calculated on the data provided.  This will result in additional privacy leakage. To ensure differential privacy and no additional privacy leakage, specify `data_norm` at initialisation.\n",
      "  warnings.warn(\"Data norm has not been specified and will be calculated on the data provided.  This will \"\n",
      "C:\\Users\\Public\\anaconda3\\lib\\site-packages\\diffprivlib\\models\\logistic_regression.py:394: ConvergenceWarning: lbfgs failed to converge. Increase the number of iterations.\n",
      "  warnings.warn(\"lbfgs failed to converge. Increase the number of iterations.\", ConvergenceWarning)\n",
      "C:\\Users\\Blake Bullwinkel\\Documents\\Harvard\\Fall 2021\\Capstone\\smartnoise-sdk\\synth\\snsynth\\mwem.py:116: SettingWithCopyWarning: \n",
      "A value is trying to be set on a copy of a slice from a DataFrame.\n",
      "Try using .loc[row_indexer,col_indexer] = value instead\n",
      "\n",
      "See the caveats in the documentation: https://pandas.pydata.org/pandas-docs/stable/user_guide/indexing.html#returning-a-view-versus-a-copy\n",
      "  data[col] = pd.to_numeric(data[col], errors=\"ignore\")\n",
      "C:\\Users\\Blake Bullwinkel\\Documents\\Harvard\\Fall 2021\\Capstone\\smartnoise-sdk\\synth\\snsynth\\mwem.py:530: VisibleDeprecationWarning: Creating an ndarray from ragged nested sequences (which is a list-or-tuple of lists-or-tuples-or ndarrays with different lengths or shapes) is deprecated. If you meant to do this, you must specify 'dtype=object' when creating the ndarray\n",
      "  return np.array(s2)\n",
      "C:\\Users\\Blake Bullwinkel\\Documents\\Harvard\\Fall 2021\\Capstone\\smartnoise-sdk\\synth\\snsynth\\mwem.py:223: Warning: Flattened dimensionality of synthetic histogram is less than the number of iterations. This is a privacy risk. Consider increasing your split_factor (especially if it is 1), or decreasing the number of iterations. Dim: 10 Split: [6 7]\n",
      "  warnings.warn(\n"
     ]
    },
    {
     "name": "stdout",
     "output_type": "stream",
     "text": [
      "Completed eps=2.0, rep=3.\n"
     ]
    },
    {
     "name": "stderr",
     "output_type": "stream",
     "text": [
      "C:\\Users\\Public\\anaconda3\\lib\\site-packages\\diffprivlib\\models\\logistic_regression.py:221: PrivacyLeakWarning: Data norm has not been specified and will be calculated on the data provided.  This will result in additional privacy leakage. To ensure differential privacy and no additional privacy leakage, specify `data_norm` at initialisation.\n",
      "  warnings.warn(\"Data norm has not been specified and will be calculated on the data provided.  This will \"\n",
      "C:\\Users\\Blake Bullwinkel\\Documents\\Harvard\\Fall 2021\\Capstone\\smartnoise-sdk\\synth\\snsynth\\mwem.py:116: SettingWithCopyWarning: \n",
      "A value is trying to be set on a copy of a slice from a DataFrame.\n",
      "Try using .loc[row_indexer,col_indexer] = value instead\n",
      "\n",
      "See the caveats in the documentation: https://pandas.pydata.org/pandas-docs/stable/user_guide/indexing.html#returning-a-view-versus-a-copy\n",
      "  data[col] = pd.to_numeric(data[col], errors=\"ignore\")\n",
      "C:\\Users\\Blake Bullwinkel\\Documents\\Harvard\\Fall 2021\\Capstone\\smartnoise-sdk\\synth\\snsynth\\mwem.py:530: VisibleDeprecationWarning: Creating an ndarray from ragged nested sequences (which is a list-or-tuple of lists-or-tuples-or ndarrays with different lengths or shapes) is deprecated. If you meant to do this, you must specify 'dtype=object' when creating the ndarray\n",
      "  return np.array(s2)\n",
      "C:\\Users\\Blake Bullwinkel\\Documents\\Harvard\\Fall 2021\\Capstone\\smartnoise-sdk\\synth\\snsynth\\mwem.py:223: Warning: Flattened dimensionality of synthetic histogram is less than the number of iterations. This is a privacy risk. Consider increasing your split_factor (especially if it is 1), or decreasing the number of iterations. Dim: 10 Split: [6 7]\n",
      "  warnings.warn(\n"
     ]
    },
    {
     "name": "stdout",
     "output_type": "stream",
     "text": [
      "Completed eps=2.0, rep=4.\n"
     ]
    },
    {
     "name": "stderr",
     "output_type": "stream",
     "text": [
      "C:\\Users\\Public\\anaconda3\\lib\\site-packages\\diffprivlib\\models\\logistic_regression.py:221: PrivacyLeakWarning: Data norm has not been specified and will be calculated on the data provided.  This will result in additional privacy leakage. To ensure differential privacy and no additional privacy leakage, specify `data_norm` at initialisation.\n",
      "  warnings.warn(\"Data norm has not been specified and will be calculated on the data provided.  This will \"\n",
      "C:\\Users\\Blake Bullwinkel\\Documents\\Harvard\\Fall 2021\\Capstone\\smartnoise-sdk\\synth\\snsynth\\mwem.py:116: SettingWithCopyWarning: \n",
      "A value is trying to be set on a copy of a slice from a DataFrame.\n",
      "Try using .loc[row_indexer,col_indexer] = value instead\n",
      "\n",
      "See the caveats in the documentation: https://pandas.pydata.org/pandas-docs/stable/user_guide/indexing.html#returning-a-view-versus-a-copy\n",
      "  data[col] = pd.to_numeric(data[col], errors=\"ignore\")\n",
      "C:\\Users\\Blake Bullwinkel\\Documents\\Harvard\\Fall 2021\\Capstone\\smartnoise-sdk\\synth\\snsynth\\mwem.py:530: VisibleDeprecationWarning: Creating an ndarray from ragged nested sequences (which is a list-or-tuple of lists-or-tuples-or ndarrays with different lengths or shapes) is deprecated. If you meant to do this, you must specify 'dtype=object' when creating the ndarray\n",
      "  return np.array(s2)\n",
      "C:\\Users\\Blake Bullwinkel\\Documents\\Harvard\\Fall 2021\\Capstone\\smartnoise-sdk\\synth\\snsynth\\mwem.py:223: Warning: Flattened dimensionality of synthetic histogram is less than the number of iterations. This is a privacy risk. Consider increasing your split_factor (especially if it is 1), or decreasing the number of iterations. Dim: 10 Split: [6 7]\n",
      "  warnings.warn(\n"
     ]
    },
    {
     "name": "stdout",
     "output_type": "stream",
     "text": [
      "Completed eps=2.0, rep=5.\n"
     ]
    },
    {
     "name": "stderr",
     "output_type": "stream",
     "text": [
      "C:\\Users\\Public\\anaconda3\\lib\\site-packages\\diffprivlib\\models\\logistic_regression.py:221: PrivacyLeakWarning: Data norm has not been specified and will be calculated on the data provided.  This will result in additional privacy leakage. To ensure differential privacy and no additional privacy leakage, specify `data_norm` at initialisation.\n",
      "  warnings.warn(\"Data norm has not been specified and will be calculated on the data provided.  This will \"\n",
      "C:\\Users\\Blake Bullwinkel\\Documents\\Harvard\\Fall 2021\\Capstone\\smartnoise-sdk\\synth\\snsynth\\mwem.py:116: SettingWithCopyWarning: \n",
      "A value is trying to be set on a copy of a slice from a DataFrame.\n",
      "Try using .loc[row_indexer,col_indexer] = value instead\n",
      "\n",
      "See the caveats in the documentation: https://pandas.pydata.org/pandas-docs/stable/user_guide/indexing.html#returning-a-view-versus-a-copy\n",
      "  data[col] = pd.to_numeric(data[col], errors=\"ignore\")\n",
      "C:\\Users\\Blake Bullwinkel\\Documents\\Harvard\\Fall 2021\\Capstone\\smartnoise-sdk\\synth\\snsynth\\mwem.py:530: VisibleDeprecationWarning: Creating an ndarray from ragged nested sequences (which is a list-or-tuple of lists-or-tuples-or ndarrays with different lengths or shapes) is deprecated. If you meant to do this, you must specify 'dtype=object' when creating the ndarray\n",
      "  return np.array(s2)\n",
      "C:\\Users\\Blake Bullwinkel\\Documents\\Harvard\\Fall 2021\\Capstone\\smartnoise-sdk\\synth\\snsynth\\mwem.py:223: Warning: Flattened dimensionality of synthetic histogram is less than the number of iterations. This is a privacy risk. Consider increasing your split_factor (especially if it is 1), or decreasing the number of iterations. Dim: 10 Split: [6 7]\n",
      "  warnings.warn(\n"
     ]
    },
    {
     "name": "stdout",
     "output_type": "stream",
     "text": [
      "Completed eps=2.0, rep=6.\n"
     ]
    },
    {
     "name": "stderr",
     "output_type": "stream",
     "text": [
      "C:\\Users\\Public\\anaconda3\\lib\\site-packages\\diffprivlib\\models\\logistic_regression.py:221: PrivacyLeakWarning: Data norm has not been specified and will be calculated on the data provided.  This will result in additional privacy leakage. To ensure differential privacy and no additional privacy leakage, specify `data_norm` at initialisation.\n",
      "  warnings.warn(\"Data norm has not been specified and will be calculated on the data provided.  This will \"\n",
      "C:\\Users\\Public\\anaconda3\\lib\\site-packages\\diffprivlib\\models\\logistic_regression.py:394: ConvergenceWarning: lbfgs failed to converge. Increase the number of iterations.\n",
      "  warnings.warn(\"lbfgs failed to converge. Increase the number of iterations.\", ConvergenceWarning)\n",
      "C:\\Users\\Blake Bullwinkel\\Documents\\Harvard\\Fall 2021\\Capstone\\smartnoise-sdk\\synth\\snsynth\\mwem.py:116: SettingWithCopyWarning: \n",
      "A value is trying to be set on a copy of a slice from a DataFrame.\n",
      "Try using .loc[row_indexer,col_indexer] = value instead\n",
      "\n",
      "See the caveats in the documentation: https://pandas.pydata.org/pandas-docs/stable/user_guide/indexing.html#returning-a-view-versus-a-copy\n",
      "  data[col] = pd.to_numeric(data[col], errors=\"ignore\")\n",
      "C:\\Users\\Blake Bullwinkel\\Documents\\Harvard\\Fall 2021\\Capstone\\smartnoise-sdk\\synth\\snsynth\\mwem.py:530: VisibleDeprecationWarning: Creating an ndarray from ragged nested sequences (which is a list-or-tuple of lists-or-tuples-or ndarrays with different lengths or shapes) is deprecated. If you meant to do this, you must specify 'dtype=object' when creating the ndarray\n",
      "  return np.array(s2)\n",
      "C:\\Users\\Blake Bullwinkel\\Documents\\Harvard\\Fall 2021\\Capstone\\smartnoise-sdk\\synth\\snsynth\\mwem.py:223: Warning: Flattened dimensionality of synthetic histogram is less than the number of iterations. This is a privacy risk. Consider increasing your split_factor (especially if it is 1), or decreasing the number of iterations. Dim: 10 Split: [6 7]\n",
      "  warnings.warn(\n"
     ]
    },
    {
     "name": "stdout",
     "output_type": "stream",
     "text": [
      "Completed eps=2.0, rep=7.\n"
     ]
    },
    {
     "name": "stderr",
     "output_type": "stream",
     "text": [
      "C:\\Users\\Public\\anaconda3\\lib\\site-packages\\diffprivlib\\models\\logistic_regression.py:221: PrivacyLeakWarning: Data norm has not been specified and will be calculated on the data provided.  This will result in additional privacy leakage. To ensure differential privacy and no additional privacy leakage, specify `data_norm` at initialisation.\n",
      "  warnings.warn(\"Data norm has not been specified and will be calculated on the data provided.  This will \"\n",
      "C:\\Users\\Public\\anaconda3\\lib\\site-packages\\diffprivlib\\models\\logistic_regression.py:394: ConvergenceWarning: lbfgs failed to converge. Increase the number of iterations.\n",
      "  warnings.warn(\"lbfgs failed to converge. Increase the number of iterations.\", ConvergenceWarning)\n",
      "C:\\Users\\Blake Bullwinkel\\Documents\\Harvard\\Fall 2021\\Capstone\\smartnoise-sdk\\synth\\snsynth\\mwem.py:116: SettingWithCopyWarning: \n",
      "A value is trying to be set on a copy of a slice from a DataFrame.\n",
      "Try using .loc[row_indexer,col_indexer] = value instead\n",
      "\n",
      "See the caveats in the documentation: https://pandas.pydata.org/pandas-docs/stable/user_guide/indexing.html#returning-a-view-versus-a-copy\n",
      "  data[col] = pd.to_numeric(data[col], errors=\"ignore\")\n",
      "C:\\Users\\Blake Bullwinkel\\Documents\\Harvard\\Fall 2021\\Capstone\\smartnoise-sdk\\synth\\snsynth\\mwem.py:530: VisibleDeprecationWarning: Creating an ndarray from ragged nested sequences (which is a list-or-tuple of lists-or-tuples-or ndarrays with different lengths or shapes) is deprecated. If you meant to do this, you must specify 'dtype=object' when creating the ndarray\n",
      "  return np.array(s2)\n",
      "C:\\Users\\Blake Bullwinkel\\Documents\\Harvard\\Fall 2021\\Capstone\\smartnoise-sdk\\synth\\snsynth\\mwem.py:223: Warning: Flattened dimensionality of synthetic histogram is less than the number of iterations. This is a privacy risk. Consider increasing your split_factor (especially if it is 1), or decreasing the number of iterations. Dim: 10 Split: [6 7]\n",
      "  warnings.warn(\n"
     ]
    },
    {
     "name": "stdout",
     "output_type": "stream",
     "text": [
      "Completed eps=2.0, rep=8.\n"
     ]
    },
    {
     "name": "stderr",
     "output_type": "stream",
     "text": [
      "C:\\Users\\Public\\anaconda3\\lib\\site-packages\\diffprivlib\\models\\logistic_regression.py:221: PrivacyLeakWarning: Data norm has not been specified and will be calculated on the data provided.  This will result in additional privacy leakage. To ensure differential privacy and no additional privacy leakage, specify `data_norm` at initialisation.\n",
      "  warnings.warn(\"Data norm has not been specified and will be calculated on the data provided.  This will \"\n",
      "C:\\Users\\Blake Bullwinkel\\Documents\\Harvard\\Fall 2021\\Capstone\\smartnoise-sdk\\synth\\snsynth\\mwem.py:116: SettingWithCopyWarning: \n",
      "A value is trying to be set on a copy of a slice from a DataFrame.\n",
      "Try using .loc[row_indexer,col_indexer] = value instead\n",
      "\n",
      "See the caveats in the documentation: https://pandas.pydata.org/pandas-docs/stable/user_guide/indexing.html#returning-a-view-versus-a-copy\n",
      "  data[col] = pd.to_numeric(data[col], errors=\"ignore\")\n",
      "C:\\Users\\Blake Bullwinkel\\Documents\\Harvard\\Fall 2021\\Capstone\\smartnoise-sdk\\synth\\snsynth\\mwem.py:530: VisibleDeprecationWarning: Creating an ndarray from ragged nested sequences (which is a list-or-tuple of lists-or-tuples-or ndarrays with different lengths or shapes) is deprecated. If you meant to do this, you must specify 'dtype=object' when creating the ndarray\n",
      "  return np.array(s2)\n",
      "C:\\Users\\Blake Bullwinkel\\Documents\\Harvard\\Fall 2021\\Capstone\\smartnoise-sdk\\synth\\snsynth\\mwem.py:223: Warning: Flattened dimensionality of synthetic histogram is less than the number of iterations. This is a privacy risk. Consider increasing your split_factor (especially if it is 1), or decreasing the number of iterations. Dim: 10 Split: [6 7]\n",
      "  warnings.warn(\n"
     ]
    },
    {
     "name": "stdout",
     "output_type": "stream",
     "text": [
      "Completed eps=2.0, rep=9.\n"
     ]
    },
    {
     "name": "stderr",
     "output_type": "stream",
     "text": [
      "C:\\Users\\Public\\anaconda3\\lib\\site-packages\\diffprivlib\\models\\logistic_regression.py:221: PrivacyLeakWarning: Data norm has not been specified and will be calculated on the data provided.  This will result in additional privacy leakage. To ensure differential privacy and no additional privacy leakage, specify `data_norm` at initialisation.\n",
      "  warnings.warn(\"Data norm has not been specified and will be calculated on the data provided.  This will \"\n",
      "C:\\Users\\Public\\anaconda3\\lib\\site-packages\\diffprivlib\\models\\logistic_regression.py:394: ConvergenceWarning: lbfgs failed to converge. Increase the number of iterations.\n",
      "  warnings.warn(\"lbfgs failed to converge. Increase the number of iterations.\", ConvergenceWarning)\n",
      "C:\\Users\\Blake Bullwinkel\\Documents\\Harvard\\Fall 2021\\Capstone\\smartnoise-sdk\\synth\\snsynth\\mwem.py:116: SettingWithCopyWarning: \n",
      "A value is trying to be set on a copy of a slice from a DataFrame.\n",
      "Try using .loc[row_indexer,col_indexer] = value instead\n",
      "\n",
      "See the caveats in the documentation: https://pandas.pydata.org/pandas-docs/stable/user_guide/indexing.html#returning-a-view-versus-a-copy\n",
      "  data[col] = pd.to_numeric(data[col], errors=\"ignore\")\n",
      "C:\\Users\\Blake Bullwinkel\\Documents\\Harvard\\Fall 2021\\Capstone\\smartnoise-sdk\\synth\\snsynth\\mwem.py:530: VisibleDeprecationWarning: Creating an ndarray from ragged nested sequences (which is a list-or-tuple of lists-or-tuples-or ndarrays with different lengths or shapes) is deprecated. If you meant to do this, you must specify 'dtype=object' when creating the ndarray\n",
      "  return np.array(s2)\n",
      "C:\\Users\\Blake Bullwinkel\\Documents\\Harvard\\Fall 2021\\Capstone\\smartnoise-sdk\\synth\\snsynth\\mwem.py:223: Warning: Flattened dimensionality of synthetic histogram is less than the number of iterations. This is a privacy risk. Consider increasing your split_factor (especially if it is 1), or decreasing the number of iterations. Dim: 10 Split: [6 7]\n",
      "  warnings.warn(\n"
     ]
    },
    {
     "name": "stdout",
     "output_type": "stream",
     "text": [
      "Completed eps=2.0, rep=10.\n"
     ]
    },
    {
     "name": "stderr",
     "output_type": "stream",
     "text": [
      "C:\\Users\\Public\\anaconda3\\lib\\site-packages\\diffprivlib\\models\\logistic_regression.py:221: PrivacyLeakWarning: Data norm has not been specified and will be calculated on the data provided.  This will result in additional privacy leakage. To ensure differential privacy and no additional privacy leakage, specify `data_norm` at initialisation.\n",
      "  warnings.warn(\"Data norm has not been specified and will be calculated on the data provided.  This will \"\n",
      "C:\\Users\\Public\\anaconda3\\lib\\site-packages\\diffprivlib\\models\\logistic_regression.py:394: ConvergenceWarning: lbfgs failed to converge. Increase the number of iterations.\n",
      "  warnings.warn(\"lbfgs failed to converge. Increase the number of iterations.\", ConvergenceWarning)\n",
      "C:\\Users\\Blake Bullwinkel\\Documents\\Harvard\\Fall 2021\\Capstone\\smartnoise-sdk\\synth\\snsynth\\mwem.py:116: SettingWithCopyWarning: \n",
      "A value is trying to be set on a copy of a slice from a DataFrame.\n",
      "Try using .loc[row_indexer,col_indexer] = value instead\n",
      "\n",
      "See the caveats in the documentation: https://pandas.pydata.org/pandas-docs/stable/user_guide/indexing.html#returning-a-view-versus-a-copy\n",
      "  data[col] = pd.to_numeric(data[col], errors=\"ignore\")\n",
      "C:\\Users\\Blake Bullwinkel\\Documents\\Harvard\\Fall 2021\\Capstone\\smartnoise-sdk\\synth\\snsynth\\mwem.py:530: VisibleDeprecationWarning: Creating an ndarray from ragged nested sequences (which is a list-or-tuple of lists-or-tuples-or ndarrays with different lengths or shapes) is deprecated. If you meant to do this, you must specify 'dtype=object' when creating the ndarray\n",
      "  return np.array(s2)\n",
      "C:\\Users\\Blake Bullwinkel\\Documents\\Harvard\\Fall 2021\\Capstone\\smartnoise-sdk\\synth\\snsynth\\mwem.py:223: Warning: Flattened dimensionality of synthetic histogram is less than the number of iterations. This is a privacy risk. Consider increasing your split_factor (especially if it is 1), or decreasing the number of iterations. Dim: 10 Split: [6 7]\n",
      "  warnings.warn(\n"
     ]
    },
    {
     "name": "stdout",
     "output_type": "stream",
     "text": [
      "Completed eps=2.0, rep=11.\n"
     ]
    },
    {
     "name": "stderr",
     "output_type": "stream",
     "text": [
      "C:\\Users\\Public\\anaconda3\\lib\\site-packages\\diffprivlib\\models\\logistic_regression.py:221: PrivacyLeakWarning: Data norm has not been specified and will be calculated on the data provided.  This will result in additional privacy leakage. To ensure differential privacy and no additional privacy leakage, specify `data_norm` at initialisation.\n",
      "  warnings.warn(\"Data norm has not been specified and will be calculated on the data provided.  This will \"\n",
      "C:\\Users\\Public\\anaconda3\\lib\\site-packages\\diffprivlib\\models\\logistic_regression.py:394: ConvergenceWarning: lbfgs failed to converge. Increase the number of iterations.\n",
      "  warnings.warn(\"lbfgs failed to converge. Increase the number of iterations.\", ConvergenceWarning)\n",
      "C:\\Users\\Blake Bullwinkel\\Documents\\Harvard\\Fall 2021\\Capstone\\smartnoise-sdk\\synth\\snsynth\\mwem.py:116: SettingWithCopyWarning: \n",
      "A value is trying to be set on a copy of a slice from a DataFrame.\n",
      "Try using .loc[row_indexer,col_indexer] = value instead\n",
      "\n",
      "See the caveats in the documentation: https://pandas.pydata.org/pandas-docs/stable/user_guide/indexing.html#returning-a-view-versus-a-copy\n",
      "  data[col] = pd.to_numeric(data[col], errors=\"ignore\")\n",
      "C:\\Users\\Blake Bullwinkel\\Documents\\Harvard\\Fall 2021\\Capstone\\smartnoise-sdk\\synth\\snsynth\\mwem.py:530: VisibleDeprecationWarning: Creating an ndarray from ragged nested sequences (which is a list-or-tuple of lists-or-tuples-or ndarrays with different lengths or shapes) is deprecated. If you meant to do this, you must specify 'dtype=object' when creating the ndarray\n",
      "  return np.array(s2)\n",
      "C:\\Users\\Blake Bullwinkel\\Documents\\Harvard\\Fall 2021\\Capstone\\smartnoise-sdk\\synth\\snsynth\\mwem.py:223: Warning: Flattened dimensionality of synthetic histogram is less than the number of iterations. This is a privacy risk. Consider increasing your split_factor (especially if it is 1), or decreasing the number of iterations. Dim: 10 Split: [6 7]\n",
      "  warnings.warn(\n"
     ]
    },
    {
     "name": "stdout",
     "output_type": "stream",
     "text": [
      "Completed eps=2.0, rep=12.\n"
     ]
    },
    {
     "name": "stderr",
     "output_type": "stream",
     "text": [
      "C:\\Users\\Public\\anaconda3\\lib\\site-packages\\diffprivlib\\models\\logistic_regression.py:221: PrivacyLeakWarning: Data norm has not been specified and will be calculated on the data provided.  This will result in additional privacy leakage. To ensure differential privacy and no additional privacy leakage, specify `data_norm` at initialisation.\n",
      "  warnings.warn(\"Data norm has not been specified and will be calculated on the data provided.  This will \"\n",
      "C:\\Users\\Public\\anaconda3\\lib\\site-packages\\diffprivlib\\models\\logistic_regression.py:394: ConvergenceWarning: lbfgs failed to converge. Increase the number of iterations.\n",
      "  warnings.warn(\"lbfgs failed to converge. Increase the number of iterations.\", ConvergenceWarning)\n",
      "C:\\Users\\Blake Bullwinkel\\Documents\\Harvard\\Fall 2021\\Capstone\\smartnoise-sdk\\synth\\snsynth\\mwem.py:116: SettingWithCopyWarning: \n",
      "A value is trying to be set on a copy of a slice from a DataFrame.\n",
      "Try using .loc[row_indexer,col_indexer] = value instead\n",
      "\n",
      "See the caveats in the documentation: https://pandas.pydata.org/pandas-docs/stable/user_guide/indexing.html#returning-a-view-versus-a-copy\n",
      "  data[col] = pd.to_numeric(data[col], errors=\"ignore\")\n",
      "C:\\Users\\Blake Bullwinkel\\Documents\\Harvard\\Fall 2021\\Capstone\\smartnoise-sdk\\synth\\snsynth\\mwem.py:530: VisibleDeprecationWarning: Creating an ndarray from ragged nested sequences (which is a list-or-tuple of lists-or-tuples-or ndarrays with different lengths or shapes) is deprecated. If you meant to do this, you must specify 'dtype=object' when creating the ndarray\n",
      "  return np.array(s2)\n",
      "C:\\Users\\Blake Bullwinkel\\Documents\\Harvard\\Fall 2021\\Capstone\\smartnoise-sdk\\synth\\snsynth\\mwem.py:223: Warning: Flattened dimensionality of synthetic histogram is less than the number of iterations. This is a privacy risk. Consider increasing your split_factor (especially if it is 1), or decreasing the number of iterations. Dim: 10 Split: [6 7]\n",
      "  warnings.warn(\n"
     ]
    },
    {
     "name": "stdout",
     "output_type": "stream",
     "text": [
      "Completed eps=2.0, rep=13.\n"
     ]
    },
    {
     "name": "stderr",
     "output_type": "stream",
     "text": [
      "C:\\Users\\Public\\anaconda3\\lib\\site-packages\\diffprivlib\\models\\logistic_regression.py:221: PrivacyLeakWarning: Data norm has not been specified and will be calculated on the data provided.  This will result in additional privacy leakage. To ensure differential privacy and no additional privacy leakage, specify `data_norm` at initialisation.\n",
      "  warnings.warn(\"Data norm has not been specified and will be calculated on the data provided.  This will \"\n",
      "C:\\Users\\Public\\anaconda3\\lib\\site-packages\\diffprivlib\\models\\logistic_regression.py:394: ConvergenceWarning: lbfgs failed to converge. Increase the number of iterations.\n",
      "  warnings.warn(\"lbfgs failed to converge. Increase the number of iterations.\", ConvergenceWarning)\n",
      "C:\\Users\\Blake Bullwinkel\\Documents\\Harvard\\Fall 2021\\Capstone\\smartnoise-sdk\\synth\\snsynth\\mwem.py:116: SettingWithCopyWarning: \n",
      "A value is trying to be set on a copy of a slice from a DataFrame.\n",
      "Try using .loc[row_indexer,col_indexer] = value instead\n",
      "\n",
      "See the caveats in the documentation: https://pandas.pydata.org/pandas-docs/stable/user_guide/indexing.html#returning-a-view-versus-a-copy\n",
      "  data[col] = pd.to_numeric(data[col], errors=\"ignore\")\n",
      "C:\\Users\\Blake Bullwinkel\\Documents\\Harvard\\Fall 2021\\Capstone\\smartnoise-sdk\\synth\\snsynth\\mwem.py:530: VisibleDeprecationWarning: Creating an ndarray from ragged nested sequences (which is a list-or-tuple of lists-or-tuples-or ndarrays with different lengths or shapes) is deprecated. If you meant to do this, you must specify 'dtype=object' when creating the ndarray\n",
      "  return np.array(s2)\n",
      "C:\\Users\\Blake Bullwinkel\\Documents\\Harvard\\Fall 2021\\Capstone\\smartnoise-sdk\\synth\\snsynth\\mwem.py:223: Warning: Flattened dimensionality of synthetic histogram is less than the number of iterations. This is a privacy risk. Consider increasing your split_factor (especially if it is 1), or decreasing the number of iterations. Dim: 10 Split: [6 7]\n",
      "  warnings.warn(\n"
     ]
    },
    {
     "name": "stdout",
     "output_type": "stream",
     "text": [
      "Completed eps=2.0, rep=14.\n"
     ]
    },
    {
     "name": "stderr",
     "output_type": "stream",
     "text": [
      "C:\\Users\\Public\\anaconda3\\lib\\site-packages\\diffprivlib\\models\\logistic_regression.py:221: PrivacyLeakWarning: Data norm has not been specified and will be calculated on the data provided.  This will result in additional privacy leakage. To ensure differential privacy and no additional privacy leakage, specify `data_norm` at initialisation.\n",
      "  warnings.warn(\"Data norm has not been specified and will be calculated on the data provided.  This will \"\n",
      "C:\\Users\\Public\\anaconda3\\lib\\site-packages\\diffprivlib\\models\\logistic_regression.py:394: ConvergenceWarning: lbfgs failed to converge. Increase the number of iterations.\n",
      "  warnings.warn(\"lbfgs failed to converge. Increase the number of iterations.\", ConvergenceWarning)\n",
      "C:\\Users\\Blake Bullwinkel\\Documents\\Harvard\\Fall 2021\\Capstone\\smartnoise-sdk\\synth\\snsynth\\mwem.py:116: SettingWithCopyWarning: \n",
      "A value is trying to be set on a copy of a slice from a DataFrame.\n",
      "Try using .loc[row_indexer,col_indexer] = value instead\n",
      "\n",
      "See the caveats in the documentation: https://pandas.pydata.org/pandas-docs/stable/user_guide/indexing.html#returning-a-view-versus-a-copy\n",
      "  data[col] = pd.to_numeric(data[col], errors=\"ignore\")\n",
      "C:\\Users\\Blake Bullwinkel\\Documents\\Harvard\\Fall 2021\\Capstone\\smartnoise-sdk\\synth\\snsynth\\mwem.py:530: VisibleDeprecationWarning: Creating an ndarray from ragged nested sequences (which is a list-or-tuple of lists-or-tuples-or ndarrays with different lengths or shapes) is deprecated. If you meant to do this, you must specify 'dtype=object' when creating the ndarray\n",
      "  return np.array(s2)\n",
      "C:\\Users\\Blake Bullwinkel\\Documents\\Harvard\\Fall 2021\\Capstone\\smartnoise-sdk\\synth\\snsynth\\mwem.py:223: Warning: Flattened dimensionality of synthetic histogram is less than the number of iterations. This is a privacy risk. Consider increasing your split_factor (especially if it is 1), or decreasing the number of iterations. Dim: 10 Split: [6 7]\n",
      "  warnings.warn(\n"
     ]
    },
    {
     "name": "stdout",
     "output_type": "stream",
     "text": [
      "Completed eps=2.0, rep=15.\n"
     ]
    },
    {
     "name": "stderr",
     "output_type": "stream",
     "text": [
      "C:\\Users\\Public\\anaconda3\\lib\\site-packages\\diffprivlib\\models\\logistic_regression.py:221: PrivacyLeakWarning: Data norm has not been specified and will be calculated on the data provided.  This will result in additional privacy leakage. To ensure differential privacy and no additional privacy leakage, specify `data_norm` at initialisation.\n",
      "  warnings.warn(\"Data norm has not been specified and will be calculated on the data provided.  This will \"\n",
      "C:\\Users\\Public\\anaconda3\\lib\\site-packages\\diffprivlib\\models\\logistic_regression.py:394: ConvergenceWarning: lbfgs failed to converge. Increase the number of iterations.\n",
      "  warnings.warn(\"lbfgs failed to converge. Increase the number of iterations.\", ConvergenceWarning)\n",
      "C:\\Users\\Blake Bullwinkel\\Documents\\Harvard\\Fall 2021\\Capstone\\smartnoise-sdk\\synth\\snsynth\\mwem.py:116: SettingWithCopyWarning: \n",
      "A value is trying to be set on a copy of a slice from a DataFrame.\n",
      "Try using .loc[row_indexer,col_indexer] = value instead\n",
      "\n",
      "See the caveats in the documentation: https://pandas.pydata.org/pandas-docs/stable/user_guide/indexing.html#returning-a-view-versus-a-copy\n",
      "  data[col] = pd.to_numeric(data[col], errors=\"ignore\")\n",
      "C:\\Users\\Blake Bullwinkel\\Documents\\Harvard\\Fall 2021\\Capstone\\smartnoise-sdk\\synth\\snsynth\\mwem.py:530: VisibleDeprecationWarning: Creating an ndarray from ragged nested sequences (which is a list-or-tuple of lists-or-tuples-or ndarrays with different lengths or shapes) is deprecated. If you meant to do this, you must specify 'dtype=object' when creating the ndarray\n",
      "  return np.array(s2)\n",
      "C:\\Users\\Blake Bullwinkel\\Documents\\Harvard\\Fall 2021\\Capstone\\smartnoise-sdk\\synth\\snsynth\\mwem.py:223: Warning: Flattened dimensionality of synthetic histogram is less than the number of iterations. This is a privacy risk. Consider increasing your split_factor (especially if it is 1), or decreasing the number of iterations. Dim: 10 Split: [6 7]\n",
      "  warnings.warn(\n"
     ]
    },
    {
     "name": "stdout",
     "output_type": "stream",
     "text": [
      "Completed eps=3.0, rep=1.\n"
     ]
    },
    {
     "name": "stderr",
     "output_type": "stream",
     "text": [
      "C:\\Users\\Public\\anaconda3\\lib\\site-packages\\diffprivlib\\models\\logistic_regression.py:221: PrivacyLeakWarning: Data norm has not been specified and will be calculated on the data provided.  This will result in additional privacy leakage. To ensure differential privacy and no additional privacy leakage, specify `data_norm` at initialisation.\n",
      "  warnings.warn(\"Data norm has not been specified and will be calculated on the data provided.  This will \"\n",
      "C:\\Users\\Public\\anaconda3\\lib\\site-packages\\diffprivlib\\models\\logistic_regression.py:394: ConvergenceWarning: lbfgs failed to converge. Increase the number of iterations.\n",
      "  warnings.warn(\"lbfgs failed to converge. Increase the number of iterations.\", ConvergenceWarning)\n",
      "C:\\Users\\Blake Bullwinkel\\Documents\\Harvard\\Fall 2021\\Capstone\\smartnoise-sdk\\synth\\snsynth\\mwem.py:116: SettingWithCopyWarning: \n",
      "A value is trying to be set on a copy of a slice from a DataFrame.\n",
      "Try using .loc[row_indexer,col_indexer] = value instead\n",
      "\n",
      "See the caveats in the documentation: https://pandas.pydata.org/pandas-docs/stable/user_guide/indexing.html#returning-a-view-versus-a-copy\n",
      "  data[col] = pd.to_numeric(data[col], errors=\"ignore\")\n",
      "C:\\Users\\Blake Bullwinkel\\Documents\\Harvard\\Fall 2021\\Capstone\\smartnoise-sdk\\synth\\snsynth\\mwem.py:530: VisibleDeprecationWarning: Creating an ndarray from ragged nested sequences (which is a list-or-tuple of lists-or-tuples-or ndarrays with different lengths or shapes) is deprecated. If you meant to do this, you must specify 'dtype=object' when creating the ndarray\n",
      "  return np.array(s2)\n",
      "C:\\Users\\Blake Bullwinkel\\Documents\\Harvard\\Fall 2021\\Capstone\\smartnoise-sdk\\synth\\snsynth\\mwem.py:223: Warning: Flattened dimensionality of synthetic histogram is less than the number of iterations. This is a privacy risk. Consider increasing your split_factor (especially if it is 1), or decreasing the number of iterations. Dim: 10 Split: [6 7]\n",
      "  warnings.warn(\n"
     ]
    },
    {
     "name": "stdout",
     "output_type": "stream",
     "text": [
      "Completed eps=3.0, rep=2.\n"
     ]
    },
    {
     "name": "stderr",
     "output_type": "stream",
     "text": [
      "C:\\Users\\Public\\anaconda3\\lib\\site-packages\\diffprivlib\\models\\logistic_regression.py:221: PrivacyLeakWarning: Data norm has not been specified and will be calculated on the data provided.  This will result in additional privacy leakage. To ensure differential privacy and no additional privacy leakage, specify `data_norm` at initialisation.\n",
      "  warnings.warn(\"Data norm has not been specified and will be calculated on the data provided.  This will \"\n",
      "C:\\Users\\Public\\anaconda3\\lib\\site-packages\\diffprivlib\\models\\logistic_regression.py:394: ConvergenceWarning: lbfgs failed to converge. Increase the number of iterations.\n",
      "  warnings.warn(\"lbfgs failed to converge. Increase the number of iterations.\", ConvergenceWarning)\n",
      "C:\\Users\\Blake Bullwinkel\\Documents\\Harvard\\Fall 2021\\Capstone\\smartnoise-sdk\\synth\\snsynth\\mwem.py:116: SettingWithCopyWarning: \n",
      "A value is trying to be set on a copy of a slice from a DataFrame.\n",
      "Try using .loc[row_indexer,col_indexer] = value instead\n",
      "\n",
      "See the caveats in the documentation: https://pandas.pydata.org/pandas-docs/stable/user_guide/indexing.html#returning-a-view-versus-a-copy\n",
      "  data[col] = pd.to_numeric(data[col], errors=\"ignore\")\n",
      "C:\\Users\\Blake Bullwinkel\\Documents\\Harvard\\Fall 2021\\Capstone\\smartnoise-sdk\\synth\\snsynth\\mwem.py:530: VisibleDeprecationWarning: Creating an ndarray from ragged nested sequences (which is a list-or-tuple of lists-or-tuples-or ndarrays with different lengths or shapes) is deprecated. If you meant to do this, you must specify 'dtype=object' when creating the ndarray\n",
      "  return np.array(s2)\n",
      "C:\\Users\\Blake Bullwinkel\\Documents\\Harvard\\Fall 2021\\Capstone\\smartnoise-sdk\\synth\\snsynth\\mwem.py:223: Warning: Flattened dimensionality of synthetic histogram is less than the number of iterations. This is a privacy risk. Consider increasing your split_factor (especially if it is 1), or decreasing the number of iterations. Dim: 10 Split: [6 7]\n",
      "  warnings.warn(\n"
     ]
    },
    {
     "name": "stdout",
     "output_type": "stream",
     "text": [
      "Completed eps=3.0, rep=3.\n"
     ]
    },
    {
     "name": "stderr",
     "output_type": "stream",
     "text": [
      "C:\\Users\\Public\\anaconda3\\lib\\site-packages\\diffprivlib\\models\\logistic_regression.py:221: PrivacyLeakWarning: Data norm has not been specified and will be calculated on the data provided.  This will result in additional privacy leakage. To ensure differential privacy and no additional privacy leakage, specify `data_norm` at initialisation.\n",
      "  warnings.warn(\"Data norm has not been specified and will be calculated on the data provided.  This will \"\n",
      "C:\\Users\\Public\\anaconda3\\lib\\site-packages\\diffprivlib\\models\\logistic_regression.py:394: ConvergenceWarning: lbfgs failed to converge. Increase the number of iterations.\n",
      "  warnings.warn(\"lbfgs failed to converge. Increase the number of iterations.\", ConvergenceWarning)\n",
      "C:\\Users\\Blake Bullwinkel\\Documents\\Harvard\\Fall 2021\\Capstone\\smartnoise-sdk\\synth\\snsynth\\mwem.py:116: SettingWithCopyWarning: \n",
      "A value is trying to be set on a copy of a slice from a DataFrame.\n",
      "Try using .loc[row_indexer,col_indexer] = value instead\n",
      "\n",
      "See the caveats in the documentation: https://pandas.pydata.org/pandas-docs/stable/user_guide/indexing.html#returning-a-view-versus-a-copy\n",
      "  data[col] = pd.to_numeric(data[col], errors=\"ignore\")\n",
      "C:\\Users\\Blake Bullwinkel\\Documents\\Harvard\\Fall 2021\\Capstone\\smartnoise-sdk\\synth\\snsynth\\mwem.py:530: VisibleDeprecationWarning: Creating an ndarray from ragged nested sequences (which is a list-or-tuple of lists-or-tuples-or ndarrays with different lengths or shapes) is deprecated. If you meant to do this, you must specify 'dtype=object' when creating the ndarray\n",
      "  return np.array(s2)\n",
      "C:\\Users\\Blake Bullwinkel\\Documents\\Harvard\\Fall 2021\\Capstone\\smartnoise-sdk\\synth\\snsynth\\mwem.py:223: Warning: Flattened dimensionality of synthetic histogram is less than the number of iterations. This is a privacy risk. Consider increasing your split_factor (especially if it is 1), or decreasing the number of iterations. Dim: 10 Split: [6 7]\n",
      "  warnings.warn(\n"
     ]
    },
    {
     "name": "stdout",
     "output_type": "stream",
     "text": [
      "Completed eps=3.0, rep=4.\n"
     ]
    },
    {
     "name": "stderr",
     "output_type": "stream",
     "text": [
      "C:\\Users\\Public\\anaconda3\\lib\\site-packages\\diffprivlib\\models\\logistic_regression.py:221: PrivacyLeakWarning: Data norm has not been specified and will be calculated on the data provided.  This will result in additional privacy leakage. To ensure differential privacy and no additional privacy leakage, specify `data_norm` at initialisation.\n",
      "  warnings.warn(\"Data norm has not been specified and will be calculated on the data provided.  This will \"\n",
      "C:\\Users\\Public\\anaconda3\\lib\\site-packages\\diffprivlib\\models\\logistic_regression.py:394: ConvergenceWarning: lbfgs failed to converge. Increase the number of iterations.\n",
      "  warnings.warn(\"lbfgs failed to converge. Increase the number of iterations.\", ConvergenceWarning)\n",
      "C:\\Users\\Blake Bullwinkel\\Documents\\Harvard\\Fall 2021\\Capstone\\smartnoise-sdk\\synth\\snsynth\\mwem.py:116: SettingWithCopyWarning: \n",
      "A value is trying to be set on a copy of a slice from a DataFrame.\n",
      "Try using .loc[row_indexer,col_indexer] = value instead\n",
      "\n",
      "See the caveats in the documentation: https://pandas.pydata.org/pandas-docs/stable/user_guide/indexing.html#returning-a-view-versus-a-copy\n",
      "  data[col] = pd.to_numeric(data[col], errors=\"ignore\")\n",
      "C:\\Users\\Blake Bullwinkel\\Documents\\Harvard\\Fall 2021\\Capstone\\smartnoise-sdk\\synth\\snsynth\\mwem.py:530: VisibleDeprecationWarning: Creating an ndarray from ragged nested sequences (which is a list-or-tuple of lists-or-tuples-or ndarrays with different lengths or shapes) is deprecated. If you meant to do this, you must specify 'dtype=object' when creating the ndarray\n",
      "  return np.array(s2)\n",
      "C:\\Users\\Blake Bullwinkel\\Documents\\Harvard\\Fall 2021\\Capstone\\smartnoise-sdk\\synth\\snsynth\\mwem.py:223: Warning: Flattened dimensionality of synthetic histogram is less than the number of iterations. This is a privacy risk. Consider increasing your split_factor (especially if it is 1), or decreasing the number of iterations. Dim: 10 Split: [6 7]\n",
      "  warnings.warn(\n"
     ]
    },
    {
     "name": "stdout",
     "output_type": "stream",
     "text": [
      "Completed eps=3.0, rep=5.\n"
     ]
    },
    {
     "name": "stderr",
     "output_type": "stream",
     "text": [
      "C:\\Users\\Public\\anaconda3\\lib\\site-packages\\diffprivlib\\models\\logistic_regression.py:221: PrivacyLeakWarning: Data norm has not been specified and will be calculated on the data provided.  This will result in additional privacy leakage. To ensure differential privacy and no additional privacy leakage, specify `data_norm` at initialisation.\n",
      "  warnings.warn(\"Data norm has not been specified and will be calculated on the data provided.  This will \"\n",
      "C:\\Users\\Public\\anaconda3\\lib\\site-packages\\diffprivlib\\models\\logistic_regression.py:394: ConvergenceWarning: lbfgs failed to converge. Increase the number of iterations.\n",
      "  warnings.warn(\"lbfgs failed to converge. Increase the number of iterations.\", ConvergenceWarning)\n",
      "C:\\Users\\Blake Bullwinkel\\Documents\\Harvard\\Fall 2021\\Capstone\\smartnoise-sdk\\synth\\snsynth\\mwem.py:116: SettingWithCopyWarning: \n",
      "A value is trying to be set on a copy of a slice from a DataFrame.\n",
      "Try using .loc[row_indexer,col_indexer] = value instead\n",
      "\n",
      "See the caveats in the documentation: https://pandas.pydata.org/pandas-docs/stable/user_guide/indexing.html#returning-a-view-versus-a-copy\n",
      "  data[col] = pd.to_numeric(data[col], errors=\"ignore\")\n",
      "C:\\Users\\Blake Bullwinkel\\Documents\\Harvard\\Fall 2021\\Capstone\\smartnoise-sdk\\synth\\snsynth\\mwem.py:530: VisibleDeprecationWarning: Creating an ndarray from ragged nested sequences (which is a list-or-tuple of lists-or-tuples-or ndarrays with different lengths or shapes) is deprecated. If you meant to do this, you must specify 'dtype=object' when creating the ndarray\n",
      "  return np.array(s2)\n",
      "C:\\Users\\Blake Bullwinkel\\Documents\\Harvard\\Fall 2021\\Capstone\\smartnoise-sdk\\synth\\snsynth\\mwem.py:223: Warning: Flattened dimensionality of synthetic histogram is less than the number of iterations. This is a privacy risk. Consider increasing your split_factor (especially if it is 1), or decreasing the number of iterations. Dim: 10 Split: [6 7]\n",
      "  warnings.warn(\n"
     ]
    },
    {
     "name": "stdout",
     "output_type": "stream",
     "text": [
      "Completed eps=3.0, rep=6.\n"
     ]
    },
    {
     "name": "stderr",
     "output_type": "stream",
     "text": [
      "C:\\Users\\Public\\anaconda3\\lib\\site-packages\\diffprivlib\\models\\logistic_regression.py:221: PrivacyLeakWarning: Data norm has not been specified and will be calculated on the data provided.  This will result in additional privacy leakage. To ensure differential privacy and no additional privacy leakage, specify `data_norm` at initialisation.\n",
      "  warnings.warn(\"Data norm has not been specified and will be calculated on the data provided.  This will \"\n",
      "C:\\Users\\Public\\anaconda3\\lib\\site-packages\\diffprivlib\\models\\logistic_regression.py:394: ConvergenceWarning: lbfgs failed to converge. Increase the number of iterations.\n",
      "  warnings.warn(\"lbfgs failed to converge. Increase the number of iterations.\", ConvergenceWarning)\n",
      "C:\\Users\\Blake Bullwinkel\\Documents\\Harvard\\Fall 2021\\Capstone\\smartnoise-sdk\\synth\\snsynth\\mwem.py:116: SettingWithCopyWarning: \n",
      "A value is trying to be set on a copy of a slice from a DataFrame.\n",
      "Try using .loc[row_indexer,col_indexer] = value instead\n",
      "\n",
      "See the caveats in the documentation: https://pandas.pydata.org/pandas-docs/stable/user_guide/indexing.html#returning-a-view-versus-a-copy\n",
      "  data[col] = pd.to_numeric(data[col], errors=\"ignore\")\n",
      "C:\\Users\\Blake Bullwinkel\\Documents\\Harvard\\Fall 2021\\Capstone\\smartnoise-sdk\\synth\\snsynth\\mwem.py:530: VisibleDeprecationWarning: Creating an ndarray from ragged nested sequences (which is a list-or-tuple of lists-or-tuples-or ndarrays with different lengths or shapes) is deprecated. If you meant to do this, you must specify 'dtype=object' when creating the ndarray\n",
      "  return np.array(s2)\n",
      "C:\\Users\\Blake Bullwinkel\\Documents\\Harvard\\Fall 2021\\Capstone\\smartnoise-sdk\\synth\\snsynth\\mwem.py:223: Warning: Flattened dimensionality of synthetic histogram is less than the number of iterations. This is a privacy risk. Consider increasing your split_factor (especially if it is 1), or decreasing the number of iterations. Dim: 10 Split: [6 7]\n",
      "  warnings.warn(\n"
     ]
    },
    {
     "name": "stdout",
     "output_type": "stream",
     "text": [
      "Completed eps=3.0, rep=7.\n"
     ]
    },
    {
     "name": "stderr",
     "output_type": "stream",
     "text": [
      "C:\\Users\\Public\\anaconda3\\lib\\site-packages\\diffprivlib\\models\\logistic_regression.py:221: PrivacyLeakWarning: Data norm has not been specified and will be calculated on the data provided.  This will result in additional privacy leakage. To ensure differential privacy and no additional privacy leakage, specify `data_norm` at initialisation.\n",
      "  warnings.warn(\"Data norm has not been specified and will be calculated on the data provided.  This will \"\n",
      "C:\\Users\\Public\\anaconda3\\lib\\site-packages\\diffprivlib\\models\\logistic_regression.py:394: ConvergenceWarning: lbfgs failed to converge. Increase the number of iterations.\n",
      "  warnings.warn(\"lbfgs failed to converge. Increase the number of iterations.\", ConvergenceWarning)\n",
      "C:\\Users\\Blake Bullwinkel\\Documents\\Harvard\\Fall 2021\\Capstone\\smartnoise-sdk\\synth\\snsynth\\mwem.py:116: SettingWithCopyWarning: \n",
      "A value is trying to be set on a copy of a slice from a DataFrame.\n",
      "Try using .loc[row_indexer,col_indexer] = value instead\n",
      "\n",
      "See the caveats in the documentation: https://pandas.pydata.org/pandas-docs/stable/user_guide/indexing.html#returning-a-view-versus-a-copy\n",
      "  data[col] = pd.to_numeric(data[col], errors=\"ignore\")\n",
      "C:\\Users\\Blake Bullwinkel\\Documents\\Harvard\\Fall 2021\\Capstone\\smartnoise-sdk\\synth\\snsynth\\mwem.py:530: VisibleDeprecationWarning: Creating an ndarray from ragged nested sequences (which is a list-or-tuple of lists-or-tuples-or ndarrays with different lengths or shapes) is deprecated. If you meant to do this, you must specify 'dtype=object' when creating the ndarray\n",
      "  return np.array(s2)\n",
      "C:\\Users\\Blake Bullwinkel\\Documents\\Harvard\\Fall 2021\\Capstone\\smartnoise-sdk\\synth\\snsynth\\mwem.py:223: Warning: Flattened dimensionality of synthetic histogram is less than the number of iterations. This is a privacy risk. Consider increasing your split_factor (especially if it is 1), or decreasing the number of iterations. Dim: 10 Split: [6 7]\n",
      "  warnings.warn(\n"
     ]
    },
    {
     "name": "stdout",
     "output_type": "stream",
     "text": [
      "Completed eps=3.0, rep=8.\n"
     ]
    },
    {
     "name": "stderr",
     "output_type": "stream",
     "text": [
      "C:\\Users\\Public\\anaconda3\\lib\\site-packages\\diffprivlib\\models\\logistic_regression.py:221: PrivacyLeakWarning: Data norm has not been specified and will be calculated on the data provided.  This will result in additional privacy leakage. To ensure differential privacy and no additional privacy leakage, specify `data_norm` at initialisation.\n",
      "  warnings.warn(\"Data norm has not been specified and will be calculated on the data provided.  This will \"\n",
      "C:\\Users\\Public\\anaconda3\\lib\\site-packages\\diffprivlib\\models\\logistic_regression.py:394: ConvergenceWarning: lbfgs failed to converge. Increase the number of iterations.\n",
      "  warnings.warn(\"lbfgs failed to converge. Increase the number of iterations.\", ConvergenceWarning)\n",
      "C:\\Users\\Blake Bullwinkel\\Documents\\Harvard\\Fall 2021\\Capstone\\smartnoise-sdk\\synth\\snsynth\\mwem.py:116: SettingWithCopyWarning: \n",
      "A value is trying to be set on a copy of a slice from a DataFrame.\n",
      "Try using .loc[row_indexer,col_indexer] = value instead\n",
      "\n",
      "See the caveats in the documentation: https://pandas.pydata.org/pandas-docs/stable/user_guide/indexing.html#returning-a-view-versus-a-copy\n",
      "  data[col] = pd.to_numeric(data[col], errors=\"ignore\")\n",
      "C:\\Users\\Blake Bullwinkel\\Documents\\Harvard\\Fall 2021\\Capstone\\smartnoise-sdk\\synth\\snsynth\\mwem.py:530: VisibleDeprecationWarning: Creating an ndarray from ragged nested sequences (which is a list-or-tuple of lists-or-tuples-or ndarrays with different lengths or shapes) is deprecated. If you meant to do this, you must specify 'dtype=object' when creating the ndarray\n",
      "  return np.array(s2)\n",
      "C:\\Users\\Blake Bullwinkel\\Documents\\Harvard\\Fall 2021\\Capstone\\smartnoise-sdk\\synth\\snsynth\\mwem.py:223: Warning: Flattened dimensionality of synthetic histogram is less than the number of iterations. This is a privacy risk. Consider increasing your split_factor (especially if it is 1), or decreasing the number of iterations. Dim: 10 Split: [6 7]\n",
      "  warnings.warn(\n"
     ]
    },
    {
     "name": "stdout",
     "output_type": "stream",
     "text": [
      "Completed eps=3.0, rep=9.\n"
     ]
    },
    {
     "name": "stderr",
     "output_type": "stream",
     "text": [
      "C:\\Users\\Public\\anaconda3\\lib\\site-packages\\diffprivlib\\models\\logistic_regression.py:221: PrivacyLeakWarning: Data norm has not been specified and will be calculated on the data provided.  This will result in additional privacy leakage. To ensure differential privacy and no additional privacy leakage, specify `data_norm` at initialisation.\n",
      "  warnings.warn(\"Data norm has not been specified and will be calculated on the data provided.  This will \"\n",
      "C:\\Users\\Public\\anaconda3\\lib\\site-packages\\diffprivlib\\models\\logistic_regression.py:394: ConvergenceWarning: lbfgs failed to converge. Increase the number of iterations.\n",
      "  warnings.warn(\"lbfgs failed to converge. Increase the number of iterations.\", ConvergenceWarning)\n",
      "C:\\Users\\Blake Bullwinkel\\Documents\\Harvard\\Fall 2021\\Capstone\\smartnoise-sdk\\synth\\snsynth\\mwem.py:116: SettingWithCopyWarning: \n",
      "A value is trying to be set on a copy of a slice from a DataFrame.\n",
      "Try using .loc[row_indexer,col_indexer] = value instead\n",
      "\n",
      "See the caveats in the documentation: https://pandas.pydata.org/pandas-docs/stable/user_guide/indexing.html#returning-a-view-versus-a-copy\n",
      "  data[col] = pd.to_numeric(data[col], errors=\"ignore\")\n",
      "C:\\Users\\Blake Bullwinkel\\Documents\\Harvard\\Fall 2021\\Capstone\\smartnoise-sdk\\synth\\snsynth\\mwem.py:530: VisibleDeprecationWarning: Creating an ndarray from ragged nested sequences (which is a list-or-tuple of lists-or-tuples-or ndarrays with different lengths or shapes) is deprecated. If you meant to do this, you must specify 'dtype=object' when creating the ndarray\n",
      "  return np.array(s2)\n",
      "C:\\Users\\Blake Bullwinkel\\Documents\\Harvard\\Fall 2021\\Capstone\\smartnoise-sdk\\synth\\snsynth\\mwem.py:223: Warning: Flattened dimensionality of synthetic histogram is less than the number of iterations. This is a privacy risk. Consider increasing your split_factor (especially if it is 1), or decreasing the number of iterations. Dim: 10 Split: [6 7]\n",
      "  warnings.warn(\n"
     ]
    },
    {
     "name": "stdout",
     "output_type": "stream",
     "text": [
      "Completed eps=3.0, rep=10.\n"
     ]
    },
    {
     "name": "stderr",
     "output_type": "stream",
     "text": [
      "C:\\Users\\Public\\anaconda3\\lib\\site-packages\\diffprivlib\\models\\logistic_regression.py:221: PrivacyLeakWarning: Data norm has not been specified and will be calculated on the data provided.  This will result in additional privacy leakage. To ensure differential privacy and no additional privacy leakage, specify `data_norm` at initialisation.\n",
      "  warnings.warn(\"Data norm has not been specified and will be calculated on the data provided.  This will \"\n",
      "C:\\Users\\Public\\anaconda3\\lib\\site-packages\\diffprivlib\\models\\logistic_regression.py:394: ConvergenceWarning: lbfgs failed to converge. Increase the number of iterations.\n",
      "  warnings.warn(\"lbfgs failed to converge. Increase the number of iterations.\", ConvergenceWarning)\n",
      "C:\\Users\\Blake Bullwinkel\\Documents\\Harvard\\Fall 2021\\Capstone\\smartnoise-sdk\\synth\\snsynth\\mwem.py:116: SettingWithCopyWarning: \n",
      "A value is trying to be set on a copy of a slice from a DataFrame.\n",
      "Try using .loc[row_indexer,col_indexer] = value instead\n",
      "\n",
      "See the caveats in the documentation: https://pandas.pydata.org/pandas-docs/stable/user_guide/indexing.html#returning-a-view-versus-a-copy\n",
      "  data[col] = pd.to_numeric(data[col], errors=\"ignore\")\n",
      "C:\\Users\\Blake Bullwinkel\\Documents\\Harvard\\Fall 2021\\Capstone\\smartnoise-sdk\\synth\\snsynth\\mwem.py:530: VisibleDeprecationWarning: Creating an ndarray from ragged nested sequences (which is a list-or-tuple of lists-or-tuples-or ndarrays with different lengths or shapes) is deprecated. If you meant to do this, you must specify 'dtype=object' when creating the ndarray\n",
      "  return np.array(s2)\n",
      "C:\\Users\\Blake Bullwinkel\\Documents\\Harvard\\Fall 2021\\Capstone\\smartnoise-sdk\\synth\\snsynth\\mwem.py:223: Warning: Flattened dimensionality of synthetic histogram is less than the number of iterations. This is a privacy risk. Consider increasing your split_factor (especially if it is 1), or decreasing the number of iterations. Dim: 10 Split: [6 7]\n",
      "  warnings.warn(\n"
     ]
    },
    {
     "name": "stdout",
     "output_type": "stream",
     "text": [
      "Completed eps=3.0, rep=11.\n"
     ]
    },
    {
     "name": "stderr",
     "output_type": "stream",
     "text": [
      "C:\\Users\\Public\\anaconda3\\lib\\site-packages\\diffprivlib\\models\\logistic_regression.py:221: PrivacyLeakWarning: Data norm has not been specified and will be calculated on the data provided.  This will result in additional privacy leakage. To ensure differential privacy and no additional privacy leakage, specify `data_norm` at initialisation.\n",
      "  warnings.warn(\"Data norm has not been specified and will be calculated on the data provided.  This will \"\n",
      "C:\\Users\\Public\\anaconda3\\lib\\site-packages\\diffprivlib\\models\\logistic_regression.py:394: ConvergenceWarning: lbfgs failed to converge. Increase the number of iterations.\n",
      "  warnings.warn(\"lbfgs failed to converge. Increase the number of iterations.\", ConvergenceWarning)\n",
      "C:\\Users\\Blake Bullwinkel\\Documents\\Harvard\\Fall 2021\\Capstone\\smartnoise-sdk\\synth\\snsynth\\mwem.py:116: SettingWithCopyWarning: \n",
      "A value is trying to be set on a copy of a slice from a DataFrame.\n",
      "Try using .loc[row_indexer,col_indexer] = value instead\n",
      "\n",
      "See the caveats in the documentation: https://pandas.pydata.org/pandas-docs/stable/user_guide/indexing.html#returning-a-view-versus-a-copy\n",
      "  data[col] = pd.to_numeric(data[col], errors=\"ignore\")\n",
      "C:\\Users\\Blake Bullwinkel\\Documents\\Harvard\\Fall 2021\\Capstone\\smartnoise-sdk\\synth\\snsynth\\mwem.py:530: VisibleDeprecationWarning: Creating an ndarray from ragged nested sequences (which is a list-or-tuple of lists-or-tuples-or ndarrays with different lengths or shapes) is deprecated. If you meant to do this, you must specify 'dtype=object' when creating the ndarray\n",
      "  return np.array(s2)\n",
      "C:\\Users\\Blake Bullwinkel\\Documents\\Harvard\\Fall 2021\\Capstone\\smartnoise-sdk\\synth\\snsynth\\mwem.py:223: Warning: Flattened dimensionality of synthetic histogram is less than the number of iterations. This is a privacy risk. Consider increasing your split_factor (especially if it is 1), or decreasing the number of iterations. Dim: 10 Split: [6 7]\n",
      "  warnings.warn(\n"
     ]
    },
    {
     "name": "stdout",
     "output_type": "stream",
     "text": [
      "Completed eps=3.0, rep=12.\n"
     ]
    },
    {
     "name": "stderr",
     "output_type": "stream",
     "text": [
      "C:\\Users\\Public\\anaconda3\\lib\\site-packages\\diffprivlib\\models\\logistic_regression.py:221: PrivacyLeakWarning: Data norm has not been specified and will be calculated on the data provided.  This will result in additional privacy leakage. To ensure differential privacy and no additional privacy leakage, specify `data_norm` at initialisation.\n",
      "  warnings.warn(\"Data norm has not been specified and will be calculated on the data provided.  This will \"\n",
      "C:\\Users\\Public\\anaconda3\\lib\\site-packages\\diffprivlib\\models\\logistic_regression.py:394: ConvergenceWarning: lbfgs failed to converge. Increase the number of iterations.\n",
      "  warnings.warn(\"lbfgs failed to converge. Increase the number of iterations.\", ConvergenceWarning)\n",
      "C:\\Users\\Blake Bullwinkel\\Documents\\Harvard\\Fall 2021\\Capstone\\smartnoise-sdk\\synth\\snsynth\\mwem.py:116: SettingWithCopyWarning: \n",
      "A value is trying to be set on a copy of a slice from a DataFrame.\n",
      "Try using .loc[row_indexer,col_indexer] = value instead\n",
      "\n",
      "See the caveats in the documentation: https://pandas.pydata.org/pandas-docs/stable/user_guide/indexing.html#returning-a-view-versus-a-copy\n",
      "  data[col] = pd.to_numeric(data[col], errors=\"ignore\")\n",
      "C:\\Users\\Blake Bullwinkel\\Documents\\Harvard\\Fall 2021\\Capstone\\smartnoise-sdk\\synth\\snsynth\\mwem.py:530: VisibleDeprecationWarning: Creating an ndarray from ragged nested sequences (which is a list-or-tuple of lists-or-tuples-or ndarrays with different lengths or shapes) is deprecated. If you meant to do this, you must specify 'dtype=object' when creating the ndarray\n",
      "  return np.array(s2)\n",
      "C:\\Users\\Blake Bullwinkel\\Documents\\Harvard\\Fall 2021\\Capstone\\smartnoise-sdk\\synth\\snsynth\\mwem.py:223: Warning: Flattened dimensionality of synthetic histogram is less than the number of iterations. This is a privacy risk. Consider increasing your split_factor (especially if it is 1), or decreasing the number of iterations. Dim: 10 Split: [6 7]\n",
      "  warnings.warn(\n"
     ]
    },
    {
     "name": "stdout",
     "output_type": "stream",
     "text": [
      "Completed eps=3.0, rep=13.\n"
     ]
    },
    {
     "name": "stderr",
     "output_type": "stream",
     "text": [
      "C:\\Users\\Public\\anaconda3\\lib\\site-packages\\diffprivlib\\models\\logistic_regression.py:221: PrivacyLeakWarning: Data norm has not been specified and will be calculated on the data provided.  This will result in additional privacy leakage. To ensure differential privacy and no additional privacy leakage, specify `data_norm` at initialisation.\n",
      "  warnings.warn(\"Data norm has not been specified and will be calculated on the data provided.  This will \"\n",
      "C:\\Users\\Public\\anaconda3\\lib\\site-packages\\diffprivlib\\models\\logistic_regression.py:394: ConvergenceWarning: lbfgs failed to converge. Increase the number of iterations.\n",
      "  warnings.warn(\"lbfgs failed to converge. Increase the number of iterations.\", ConvergenceWarning)\n",
      "C:\\Users\\Blake Bullwinkel\\Documents\\Harvard\\Fall 2021\\Capstone\\smartnoise-sdk\\synth\\snsynth\\mwem.py:116: SettingWithCopyWarning: \n",
      "A value is trying to be set on a copy of a slice from a DataFrame.\n",
      "Try using .loc[row_indexer,col_indexer] = value instead\n",
      "\n",
      "See the caveats in the documentation: https://pandas.pydata.org/pandas-docs/stable/user_guide/indexing.html#returning-a-view-versus-a-copy\n",
      "  data[col] = pd.to_numeric(data[col], errors=\"ignore\")\n",
      "C:\\Users\\Blake Bullwinkel\\Documents\\Harvard\\Fall 2021\\Capstone\\smartnoise-sdk\\synth\\snsynth\\mwem.py:530: VisibleDeprecationWarning: Creating an ndarray from ragged nested sequences (which is a list-or-tuple of lists-or-tuples-or ndarrays with different lengths or shapes) is deprecated. If you meant to do this, you must specify 'dtype=object' when creating the ndarray\n",
      "  return np.array(s2)\n",
      "C:\\Users\\Blake Bullwinkel\\Documents\\Harvard\\Fall 2021\\Capstone\\smartnoise-sdk\\synth\\snsynth\\mwem.py:223: Warning: Flattened dimensionality of synthetic histogram is less than the number of iterations. This is a privacy risk. Consider increasing your split_factor (especially if it is 1), or decreasing the number of iterations. Dim: 10 Split: [6 7]\n",
      "  warnings.warn(\n"
     ]
    },
    {
     "name": "stdout",
     "output_type": "stream",
     "text": [
      "Completed eps=3.0, rep=14.\n"
     ]
    },
    {
     "name": "stderr",
     "output_type": "stream",
     "text": [
      "C:\\Users\\Public\\anaconda3\\lib\\site-packages\\diffprivlib\\models\\logistic_regression.py:221: PrivacyLeakWarning: Data norm has not been specified and will be calculated on the data provided.  This will result in additional privacy leakage. To ensure differential privacy and no additional privacy leakage, specify `data_norm` at initialisation.\n",
      "  warnings.warn(\"Data norm has not been specified and will be calculated on the data provided.  This will \"\n",
      "C:\\Users\\Public\\anaconda3\\lib\\site-packages\\diffprivlib\\models\\logistic_regression.py:394: ConvergenceWarning: lbfgs failed to converge. Increase the number of iterations.\n",
      "  warnings.warn(\"lbfgs failed to converge. Increase the number of iterations.\", ConvergenceWarning)\n",
      "C:\\Users\\Blake Bullwinkel\\Documents\\Harvard\\Fall 2021\\Capstone\\smartnoise-sdk\\synth\\snsynth\\mwem.py:116: SettingWithCopyWarning: \n",
      "A value is trying to be set on a copy of a slice from a DataFrame.\n",
      "Try using .loc[row_indexer,col_indexer] = value instead\n",
      "\n",
      "See the caveats in the documentation: https://pandas.pydata.org/pandas-docs/stable/user_guide/indexing.html#returning-a-view-versus-a-copy\n",
      "  data[col] = pd.to_numeric(data[col], errors=\"ignore\")\n",
      "C:\\Users\\Blake Bullwinkel\\Documents\\Harvard\\Fall 2021\\Capstone\\smartnoise-sdk\\synth\\snsynth\\mwem.py:530: VisibleDeprecationWarning: Creating an ndarray from ragged nested sequences (which is a list-or-tuple of lists-or-tuples-or ndarrays with different lengths or shapes) is deprecated. If you meant to do this, you must specify 'dtype=object' when creating the ndarray\n",
      "  return np.array(s2)\n",
      "C:\\Users\\Blake Bullwinkel\\Documents\\Harvard\\Fall 2021\\Capstone\\smartnoise-sdk\\synth\\snsynth\\mwem.py:223: Warning: Flattened dimensionality of synthetic histogram is less than the number of iterations. This is a privacy risk. Consider increasing your split_factor (especially if it is 1), or decreasing the number of iterations. Dim: 10 Split: [6 7]\n",
      "  warnings.warn(\n"
     ]
    },
    {
     "name": "stdout",
     "output_type": "stream",
     "text": [
      "Completed eps=3.0, rep=15.\n"
     ]
    },
    {
     "name": "stderr",
     "output_type": "stream",
     "text": [
      "C:\\Users\\Public\\anaconda3\\lib\\site-packages\\diffprivlib\\models\\logistic_regression.py:221: PrivacyLeakWarning: Data norm has not been specified and will be calculated on the data provided.  This will result in additional privacy leakage. To ensure differential privacy and no additional privacy leakage, specify `data_norm` at initialisation.\n",
      "  warnings.warn(\"Data norm has not been specified and will be calculated on the data provided.  This will \"\n",
      "C:\\Users\\Public\\anaconda3\\lib\\site-packages\\diffprivlib\\models\\logistic_regression.py:394: ConvergenceWarning: lbfgs failed to converge. Increase the number of iterations.\n",
      "  warnings.warn(\"lbfgs failed to converge. Increase the number of iterations.\", ConvergenceWarning)\n",
      "C:\\Users\\Blake Bullwinkel\\Documents\\Harvard\\Fall 2021\\Capstone\\smartnoise-sdk\\synth\\snsynth\\mwem.py:116: SettingWithCopyWarning: \n",
      "A value is trying to be set on a copy of a slice from a DataFrame.\n",
      "Try using .loc[row_indexer,col_indexer] = value instead\n",
      "\n",
      "See the caveats in the documentation: https://pandas.pydata.org/pandas-docs/stable/user_guide/indexing.html#returning-a-view-versus-a-copy\n",
      "  data[col] = pd.to_numeric(data[col], errors=\"ignore\")\n",
      "C:\\Users\\Blake Bullwinkel\\Documents\\Harvard\\Fall 2021\\Capstone\\smartnoise-sdk\\synth\\snsynth\\mwem.py:530: VisibleDeprecationWarning: Creating an ndarray from ragged nested sequences (which is a list-or-tuple of lists-or-tuples-or ndarrays with different lengths or shapes) is deprecated. If you meant to do this, you must specify 'dtype=object' when creating the ndarray\n",
      "  return np.array(s2)\n",
      "C:\\Users\\Blake Bullwinkel\\Documents\\Harvard\\Fall 2021\\Capstone\\smartnoise-sdk\\synth\\snsynth\\mwem.py:223: Warning: Flattened dimensionality of synthetic histogram is less than the number of iterations. This is a privacy risk. Consider increasing your split_factor (especially if it is 1), or decreasing the number of iterations. Dim: 10 Split: [6 7]\n",
      "  warnings.warn(\n"
     ]
    },
    {
     "name": "stdout",
     "output_type": "stream",
     "text": [
      "Completed eps=4.0, rep=1.\n"
     ]
    },
    {
     "name": "stderr",
     "output_type": "stream",
     "text": [
      "C:\\Users\\Public\\anaconda3\\lib\\site-packages\\diffprivlib\\models\\logistic_regression.py:221: PrivacyLeakWarning: Data norm has not been specified and will be calculated on the data provided.  This will result in additional privacy leakage. To ensure differential privacy and no additional privacy leakage, specify `data_norm` at initialisation.\n",
      "  warnings.warn(\"Data norm has not been specified and will be calculated on the data provided.  This will \"\n",
      "C:\\Users\\Public\\anaconda3\\lib\\site-packages\\diffprivlib\\models\\logistic_regression.py:394: ConvergenceWarning: lbfgs failed to converge. Increase the number of iterations.\n",
      "  warnings.warn(\"lbfgs failed to converge. Increase the number of iterations.\", ConvergenceWarning)\n",
      "C:\\Users\\Blake Bullwinkel\\Documents\\Harvard\\Fall 2021\\Capstone\\smartnoise-sdk\\synth\\snsynth\\mwem.py:116: SettingWithCopyWarning: \n",
      "A value is trying to be set on a copy of a slice from a DataFrame.\n",
      "Try using .loc[row_indexer,col_indexer] = value instead\n",
      "\n",
      "See the caveats in the documentation: https://pandas.pydata.org/pandas-docs/stable/user_guide/indexing.html#returning-a-view-versus-a-copy\n",
      "  data[col] = pd.to_numeric(data[col], errors=\"ignore\")\n",
      "C:\\Users\\Blake Bullwinkel\\Documents\\Harvard\\Fall 2021\\Capstone\\smartnoise-sdk\\synth\\snsynth\\mwem.py:530: VisibleDeprecationWarning: Creating an ndarray from ragged nested sequences (which is a list-or-tuple of lists-or-tuples-or ndarrays with different lengths or shapes) is deprecated. If you meant to do this, you must specify 'dtype=object' when creating the ndarray\n",
      "  return np.array(s2)\n",
      "C:\\Users\\Blake Bullwinkel\\Documents\\Harvard\\Fall 2021\\Capstone\\smartnoise-sdk\\synth\\snsynth\\mwem.py:223: Warning: Flattened dimensionality of synthetic histogram is less than the number of iterations. This is a privacy risk. Consider increasing your split_factor (especially if it is 1), or decreasing the number of iterations. Dim: 10 Split: [6 7]\n",
      "  warnings.warn(\n"
     ]
    },
    {
     "name": "stdout",
     "output_type": "stream",
     "text": [
      "Completed eps=4.0, rep=2.\n"
     ]
    },
    {
     "name": "stderr",
     "output_type": "stream",
     "text": [
      "C:\\Users\\Public\\anaconda3\\lib\\site-packages\\diffprivlib\\models\\logistic_regression.py:221: PrivacyLeakWarning: Data norm has not been specified and will be calculated on the data provided.  This will result in additional privacy leakage. To ensure differential privacy and no additional privacy leakage, specify `data_norm` at initialisation.\n",
      "  warnings.warn(\"Data norm has not been specified and will be calculated on the data provided.  This will \"\n",
      "C:\\Users\\Public\\anaconda3\\lib\\site-packages\\diffprivlib\\models\\logistic_regression.py:394: ConvergenceWarning: lbfgs failed to converge. Increase the number of iterations.\n",
      "  warnings.warn(\"lbfgs failed to converge. Increase the number of iterations.\", ConvergenceWarning)\n",
      "C:\\Users\\Blake Bullwinkel\\Documents\\Harvard\\Fall 2021\\Capstone\\smartnoise-sdk\\synth\\snsynth\\mwem.py:116: SettingWithCopyWarning: \n",
      "A value is trying to be set on a copy of a slice from a DataFrame.\n",
      "Try using .loc[row_indexer,col_indexer] = value instead\n",
      "\n",
      "See the caveats in the documentation: https://pandas.pydata.org/pandas-docs/stable/user_guide/indexing.html#returning-a-view-versus-a-copy\n",
      "  data[col] = pd.to_numeric(data[col], errors=\"ignore\")\n",
      "C:\\Users\\Blake Bullwinkel\\Documents\\Harvard\\Fall 2021\\Capstone\\smartnoise-sdk\\synth\\snsynth\\mwem.py:530: VisibleDeprecationWarning: Creating an ndarray from ragged nested sequences (which is a list-or-tuple of lists-or-tuples-or ndarrays with different lengths or shapes) is deprecated. If you meant to do this, you must specify 'dtype=object' when creating the ndarray\n",
      "  return np.array(s2)\n",
      "C:\\Users\\Blake Bullwinkel\\Documents\\Harvard\\Fall 2021\\Capstone\\smartnoise-sdk\\synth\\snsynth\\mwem.py:223: Warning: Flattened dimensionality of synthetic histogram is less than the number of iterations. This is a privacy risk. Consider increasing your split_factor (especially if it is 1), or decreasing the number of iterations. Dim: 10 Split: [6 7]\n",
      "  warnings.warn(\n"
     ]
    },
    {
     "name": "stdout",
     "output_type": "stream",
     "text": [
      "Completed eps=4.0, rep=3.\n"
     ]
    },
    {
     "name": "stderr",
     "output_type": "stream",
     "text": [
      "C:\\Users\\Public\\anaconda3\\lib\\site-packages\\diffprivlib\\models\\logistic_regression.py:221: PrivacyLeakWarning: Data norm has not been specified and will be calculated on the data provided.  This will result in additional privacy leakage. To ensure differential privacy and no additional privacy leakage, specify `data_norm` at initialisation.\n",
      "  warnings.warn(\"Data norm has not been specified and will be calculated on the data provided.  This will \"\n",
      "C:\\Users\\Public\\anaconda3\\lib\\site-packages\\diffprivlib\\models\\logistic_regression.py:394: ConvergenceWarning: lbfgs failed to converge. Increase the number of iterations.\n",
      "  warnings.warn(\"lbfgs failed to converge. Increase the number of iterations.\", ConvergenceWarning)\n",
      "C:\\Users\\Blake Bullwinkel\\Documents\\Harvard\\Fall 2021\\Capstone\\smartnoise-sdk\\synth\\snsynth\\mwem.py:116: SettingWithCopyWarning: \n",
      "A value is trying to be set on a copy of a slice from a DataFrame.\n",
      "Try using .loc[row_indexer,col_indexer] = value instead\n",
      "\n",
      "See the caveats in the documentation: https://pandas.pydata.org/pandas-docs/stable/user_guide/indexing.html#returning-a-view-versus-a-copy\n",
      "  data[col] = pd.to_numeric(data[col], errors=\"ignore\")\n",
      "C:\\Users\\Blake Bullwinkel\\Documents\\Harvard\\Fall 2021\\Capstone\\smartnoise-sdk\\synth\\snsynth\\mwem.py:530: VisibleDeprecationWarning: Creating an ndarray from ragged nested sequences (which is a list-or-tuple of lists-or-tuples-or ndarrays with different lengths or shapes) is deprecated. If you meant to do this, you must specify 'dtype=object' when creating the ndarray\n",
      "  return np.array(s2)\n",
      "C:\\Users\\Blake Bullwinkel\\Documents\\Harvard\\Fall 2021\\Capstone\\smartnoise-sdk\\synth\\snsynth\\mwem.py:223: Warning: Flattened dimensionality of synthetic histogram is less than the number of iterations. This is a privacy risk. Consider increasing your split_factor (especially if it is 1), or decreasing the number of iterations. Dim: 10 Split: [6 7]\n",
      "  warnings.warn(\n"
     ]
    },
    {
     "name": "stdout",
     "output_type": "stream",
     "text": [
      "Completed eps=4.0, rep=4.\n"
     ]
    },
    {
     "name": "stderr",
     "output_type": "stream",
     "text": [
      "C:\\Users\\Public\\anaconda3\\lib\\site-packages\\diffprivlib\\models\\logistic_regression.py:221: PrivacyLeakWarning: Data norm has not been specified and will be calculated on the data provided.  This will result in additional privacy leakage. To ensure differential privacy and no additional privacy leakage, specify `data_norm` at initialisation.\n",
      "  warnings.warn(\"Data norm has not been specified and will be calculated on the data provided.  This will \"\n",
      "C:\\Users\\Public\\anaconda3\\lib\\site-packages\\diffprivlib\\models\\logistic_regression.py:394: ConvergenceWarning: lbfgs failed to converge. Increase the number of iterations.\n",
      "  warnings.warn(\"lbfgs failed to converge. Increase the number of iterations.\", ConvergenceWarning)\n",
      "C:\\Users\\Blake Bullwinkel\\Documents\\Harvard\\Fall 2021\\Capstone\\smartnoise-sdk\\synth\\snsynth\\mwem.py:116: SettingWithCopyWarning: \n",
      "A value is trying to be set on a copy of a slice from a DataFrame.\n",
      "Try using .loc[row_indexer,col_indexer] = value instead\n",
      "\n",
      "See the caveats in the documentation: https://pandas.pydata.org/pandas-docs/stable/user_guide/indexing.html#returning-a-view-versus-a-copy\n",
      "  data[col] = pd.to_numeric(data[col], errors=\"ignore\")\n",
      "C:\\Users\\Blake Bullwinkel\\Documents\\Harvard\\Fall 2021\\Capstone\\smartnoise-sdk\\synth\\snsynth\\mwem.py:530: VisibleDeprecationWarning: Creating an ndarray from ragged nested sequences (which is a list-or-tuple of lists-or-tuples-or ndarrays with different lengths or shapes) is deprecated. If you meant to do this, you must specify 'dtype=object' when creating the ndarray\n",
      "  return np.array(s2)\n",
      "C:\\Users\\Blake Bullwinkel\\Documents\\Harvard\\Fall 2021\\Capstone\\smartnoise-sdk\\synth\\snsynth\\mwem.py:223: Warning: Flattened dimensionality of synthetic histogram is less than the number of iterations. This is a privacy risk. Consider increasing your split_factor (especially if it is 1), or decreasing the number of iterations. Dim: 10 Split: [6 7]\n",
      "  warnings.warn(\n"
     ]
    },
    {
     "name": "stdout",
     "output_type": "stream",
     "text": [
      "Completed eps=4.0, rep=5.\n"
     ]
    },
    {
     "name": "stderr",
     "output_type": "stream",
     "text": [
      "C:\\Users\\Public\\anaconda3\\lib\\site-packages\\diffprivlib\\models\\logistic_regression.py:221: PrivacyLeakWarning: Data norm has not been specified and will be calculated on the data provided.  This will result in additional privacy leakage. To ensure differential privacy and no additional privacy leakage, specify `data_norm` at initialisation.\n",
      "  warnings.warn(\"Data norm has not been specified and will be calculated on the data provided.  This will \"\n",
      "C:\\Users\\Public\\anaconda3\\lib\\site-packages\\diffprivlib\\models\\logistic_regression.py:394: ConvergenceWarning: lbfgs failed to converge. Increase the number of iterations.\n",
      "  warnings.warn(\"lbfgs failed to converge. Increase the number of iterations.\", ConvergenceWarning)\n",
      "C:\\Users\\Blake Bullwinkel\\Documents\\Harvard\\Fall 2021\\Capstone\\smartnoise-sdk\\synth\\snsynth\\mwem.py:116: SettingWithCopyWarning: \n",
      "A value is trying to be set on a copy of a slice from a DataFrame.\n",
      "Try using .loc[row_indexer,col_indexer] = value instead\n",
      "\n",
      "See the caveats in the documentation: https://pandas.pydata.org/pandas-docs/stable/user_guide/indexing.html#returning-a-view-versus-a-copy\n",
      "  data[col] = pd.to_numeric(data[col], errors=\"ignore\")\n",
      "C:\\Users\\Blake Bullwinkel\\Documents\\Harvard\\Fall 2021\\Capstone\\smartnoise-sdk\\synth\\snsynth\\mwem.py:530: VisibleDeprecationWarning: Creating an ndarray from ragged nested sequences (which is a list-or-tuple of lists-or-tuples-or ndarrays with different lengths or shapes) is deprecated. If you meant to do this, you must specify 'dtype=object' when creating the ndarray\n",
      "  return np.array(s2)\n",
      "C:\\Users\\Blake Bullwinkel\\Documents\\Harvard\\Fall 2021\\Capstone\\smartnoise-sdk\\synth\\snsynth\\mwem.py:223: Warning: Flattened dimensionality of synthetic histogram is less than the number of iterations. This is a privacy risk. Consider increasing your split_factor (especially if it is 1), or decreasing the number of iterations. Dim: 10 Split: [6 7]\n",
      "  warnings.warn(\n"
     ]
    },
    {
     "name": "stdout",
     "output_type": "stream",
     "text": [
      "Completed eps=4.0, rep=6.\n"
     ]
    },
    {
     "name": "stderr",
     "output_type": "stream",
     "text": [
      "C:\\Users\\Public\\anaconda3\\lib\\site-packages\\diffprivlib\\models\\logistic_regression.py:221: PrivacyLeakWarning: Data norm has not been specified and will be calculated on the data provided.  This will result in additional privacy leakage. To ensure differential privacy and no additional privacy leakage, specify `data_norm` at initialisation.\n",
      "  warnings.warn(\"Data norm has not been specified and will be calculated on the data provided.  This will \"\n",
      "C:\\Users\\Public\\anaconda3\\lib\\site-packages\\diffprivlib\\models\\logistic_regression.py:394: ConvergenceWarning: lbfgs failed to converge. Increase the number of iterations.\n",
      "  warnings.warn(\"lbfgs failed to converge. Increase the number of iterations.\", ConvergenceWarning)\n",
      "C:\\Users\\Blake Bullwinkel\\Documents\\Harvard\\Fall 2021\\Capstone\\smartnoise-sdk\\synth\\snsynth\\mwem.py:116: SettingWithCopyWarning: \n",
      "A value is trying to be set on a copy of a slice from a DataFrame.\n",
      "Try using .loc[row_indexer,col_indexer] = value instead\n",
      "\n",
      "See the caveats in the documentation: https://pandas.pydata.org/pandas-docs/stable/user_guide/indexing.html#returning-a-view-versus-a-copy\n",
      "  data[col] = pd.to_numeric(data[col], errors=\"ignore\")\n",
      "C:\\Users\\Blake Bullwinkel\\Documents\\Harvard\\Fall 2021\\Capstone\\smartnoise-sdk\\synth\\snsynth\\mwem.py:530: VisibleDeprecationWarning: Creating an ndarray from ragged nested sequences (which is a list-or-tuple of lists-or-tuples-or ndarrays with different lengths or shapes) is deprecated. If you meant to do this, you must specify 'dtype=object' when creating the ndarray\n",
      "  return np.array(s2)\n",
      "C:\\Users\\Blake Bullwinkel\\Documents\\Harvard\\Fall 2021\\Capstone\\smartnoise-sdk\\synth\\snsynth\\mwem.py:223: Warning: Flattened dimensionality of synthetic histogram is less than the number of iterations. This is a privacy risk. Consider increasing your split_factor (especially if it is 1), or decreasing the number of iterations. Dim: 10 Split: [6 7]\n",
      "  warnings.warn(\n"
     ]
    },
    {
     "name": "stdout",
     "output_type": "stream",
     "text": [
      "Completed eps=4.0, rep=7.\n"
     ]
    },
    {
     "name": "stderr",
     "output_type": "stream",
     "text": [
      "C:\\Users\\Public\\anaconda3\\lib\\site-packages\\diffprivlib\\models\\logistic_regression.py:221: PrivacyLeakWarning: Data norm has not been specified and will be calculated on the data provided.  This will result in additional privacy leakage. To ensure differential privacy and no additional privacy leakage, specify `data_norm` at initialisation.\n",
      "  warnings.warn(\"Data norm has not been specified and will be calculated on the data provided.  This will \"\n",
      "C:\\Users\\Public\\anaconda3\\lib\\site-packages\\diffprivlib\\models\\logistic_regression.py:394: ConvergenceWarning: lbfgs failed to converge. Increase the number of iterations.\n",
      "  warnings.warn(\"lbfgs failed to converge. Increase the number of iterations.\", ConvergenceWarning)\n",
      "C:\\Users\\Blake Bullwinkel\\Documents\\Harvard\\Fall 2021\\Capstone\\smartnoise-sdk\\synth\\snsynth\\mwem.py:116: SettingWithCopyWarning: \n",
      "A value is trying to be set on a copy of a slice from a DataFrame.\n",
      "Try using .loc[row_indexer,col_indexer] = value instead\n",
      "\n",
      "See the caveats in the documentation: https://pandas.pydata.org/pandas-docs/stable/user_guide/indexing.html#returning-a-view-versus-a-copy\n",
      "  data[col] = pd.to_numeric(data[col], errors=\"ignore\")\n",
      "C:\\Users\\Blake Bullwinkel\\Documents\\Harvard\\Fall 2021\\Capstone\\smartnoise-sdk\\synth\\snsynth\\mwem.py:530: VisibleDeprecationWarning: Creating an ndarray from ragged nested sequences (which is a list-or-tuple of lists-or-tuples-or ndarrays with different lengths or shapes) is deprecated. If you meant to do this, you must specify 'dtype=object' when creating the ndarray\n",
      "  return np.array(s2)\n",
      "C:\\Users\\Blake Bullwinkel\\Documents\\Harvard\\Fall 2021\\Capstone\\smartnoise-sdk\\synth\\snsynth\\mwem.py:223: Warning: Flattened dimensionality of synthetic histogram is less than the number of iterations. This is a privacy risk. Consider increasing your split_factor (especially if it is 1), or decreasing the number of iterations. Dim: 10 Split: [6 7]\n",
      "  warnings.warn(\n"
     ]
    },
    {
     "name": "stdout",
     "output_type": "stream",
     "text": [
      "Completed eps=4.0, rep=8.\n"
     ]
    },
    {
     "name": "stderr",
     "output_type": "stream",
     "text": [
      "C:\\Users\\Public\\anaconda3\\lib\\site-packages\\diffprivlib\\models\\logistic_regression.py:221: PrivacyLeakWarning: Data norm has not been specified and will be calculated on the data provided.  This will result in additional privacy leakage. To ensure differential privacy and no additional privacy leakage, specify `data_norm` at initialisation.\n",
      "  warnings.warn(\"Data norm has not been specified and will be calculated on the data provided.  This will \"\n",
      "C:\\Users\\Public\\anaconda3\\lib\\site-packages\\diffprivlib\\models\\logistic_regression.py:394: ConvergenceWarning: lbfgs failed to converge. Increase the number of iterations.\n",
      "  warnings.warn(\"lbfgs failed to converge. Increase the number of iterations.\", ConvergenceWarning)\n",
      "C:\\Users\\Blake Bullwinkel\\Documents\\Harvard\\Fall 2021\\Capstone\\smartnoise-sdk\\synth\\snsynth\\mwem.py:116: SettingWithCopyWarning: \n",
      "A value is trying to be set on a copy of a slice from a DataFrame.\n",
      "Try using .loc[row_indexer,col_indexer] = value instead\n",
      "\n",
      "See the caveats in the documentation: https://pandas.pydata.org/pandas-docs/stable/user_guide/indexing.html#returning-a-view-versus-a-copy\n",
      "  data[col] = pd.to_numeric(data[col], errors=\"ignore\")\n",
      "C:\\Users\\Blake Bullwinkel\\Documents\\Harvard\\Fall 2021\\Capstone\\smartnoise-sdk\\synth\\snsynth\\mwem.py:530: VisibleDeprecationWarning: Creating an ndarray from ragged nested sequences (which is a list-or-tuple of lists-or-tuples-or ndarrays with different lengths or shapes) is deprecated. If you meant to do this, you must specify 'dtype=object' when creating the ndarray\n",
      "  return np.array(s2)\n",
      "C:\\Users\\Blake Bullwinkel\\Documents\\Harvard\\Fall 2021\\Capstone\\smartnoise-sdk\\synth\\snsynth\\mwem.py:223: Warning: Flattened dimensionality of synthetic histogram is less than the number of iterations. This is a privacy risk. Consider increasing your split_factor (especially if it is 1), or decreasing the number of iterations. Dim: 10 Split: [6 7]\n",
      "  warnings.warn(\n"
     ]
    },
    {
     "name": "stdout",
     "output_type": "stream",
     "text": [
      "Completed eps=4.0, rep=9.\n"
     ]
    },
    {
     "name": "stderr",
     "output_type": "stream",
     "text": [
      "C:\\Users\\Public\\anaconda3\\lib\\site-packages\\diffprivlib\\models\\logistic_regression.py:221: PrivacyLeakWarning: Data norm has not been specified and will be calculated on the data provided.  This will result in additional privacy leakage. To ensure differential privacy and no additional privacy leakage, specify `data_norm` at initialisation.\n",
      "  warnings.warn(\"Data norm has not been specified and will be calculated on the data provided.  This will \"\n",
      "C:\\Users\\Public\\anaconda3\\lib\\site-packages\\diffprivlib\\models\\logistic_regression.py:394: ConvergenceWarning: lbfgs failed to converge. Increase the number of iterations.\n",
      "  warnings.warn(\"lbfgs failed to converge. Increase the number of iterations.\", ConvergenceWarning)\n",
      "C:\\Users\\Blake Bullwinkel\\Documents\\Harvard\\Fall 2021\\Capstone\\smartnoise-sdk\\synth\\snsynth\\mwem.py:116: SettingWithCopyWarning: \n",
      "A value is trying to be set on a copy of a slice from a DataFrame.\n",
      "Try using .loc[row_indexer,col_indexer] = value instead\n",
      "\n",
      "See the caveats in the documentation: https://pandas.pydata.org/pandas-docs/stable/user_guide/indexing.html#returning-a-view-versus-a-copy\n",
      "  data[col] = pd.to_numeric(data[col], errors=\"ignore\")\n",
      "C:\\Users\\Blake Bullwinkel\\Documents\\Harvard\\Fall 2021\\Capstone\\smartnoise-sdk\\synth\\snsynth\\mwem.py:530: VisibleDeprecationWarning: Creating an ndarray from ragged nested sequences (which is a list-or-tuple of lists-or-tuples-or ndarrays with different lengths or shapes) is deprecated. If you meant to do this, you must specify 'dtype=object' when creating the ndarray\n",
      "  return np.array(s2)\n",
      "C:\\Users\\Blake Bullwinkel\\Documents\\Harvard\\Fall 2021\\Capstone\\smartnoise-sdk\\synth\\snsynth\\mwem.py:223: Warning: Flattened dimensionality of synthetic histogram is less than the number of iterations. This is a privacy risk. Consider increasing your split_factor (especially if it is 1), or decreasing the number of iterations. Dim: 10 Split: [6 7]\n",
      "  warnings.warn(\n"
     ]
    },
    {
     "name": "stdout",
     "output_type": "stream",
     "text": [
      "Completed eps=4.0, rep=10.\n"
     ]
    },
    {
     "name": "stderr",
     "output_type": "stream",
     "text": [
      "C:\\Users\\Public\\anaconda3\\lib\\site-packages\\diffprivlib\\models\\logistic_regression.py:221: PrivacyLeakWarning: Data norm has not been specified and will be calculated on the data provided.  This will result in additional privacy leakage. To ensure differential privacy and no additional privacy leakage, specify `data_norm` at initialisation.\n",
      "  warnings.warn(\"Data norm has not been specified and will be calculated on the data provided.  This will \"\n",
      "C:\\Users\\Public\\anaconda3\\lib\\site-packages\\diffprivlib\\models\\logistic_regression.py:394: ConvergenceWarning: lbfgs failed to converge. Increase the number of iterations.\n",
      "  warnings.warn(\"lbfgs failed to converge. Increase the number of iterations.\", ConvergenceWarning)\n",
      "C:\\Users\\Blake Bullwinkel\\Documents\\Harvard\\Fall 2021\\Capstone\\smartnoise-sdk\\synth\\snsynth\\mwem.py:116: SettingWithCopyWarning: \n",
      "A value is trying to be set on a copy of a slice from a DataFrame.\n",
      "Try using .loc[row_indexer,col_indexer] = value instead\n",
      "\n",
      "See the caveats in the documentation: https://pandas.pydata.org/pandas-docs/stable/user_guide/indexing.html#returning-a-view-versus-a-copy\n",
      "  data[col] = pd.to_numeric(data[col], errors=\"ignore\")\n",
      "C:\\Users\\Blake Bullwinkel\\Documents\\Harvard\\Fall 2021\\Capstone\\smartnoise-sdk\\synth\\snsynth\\mwem.py:530: VisibleDeprecationWarning: Creating an ndarray from ragged nested sequences (which is a list-or-tuple of lists-or-tuples-or ndarrays with different lengths or shapes) is deprecated. If you meant to do this, you must specify 'dtype=object' when creating the ndarray\n",
      "  return np.array(s2)\n",
      "C:\\Users\\Blake Bullwinkel\\Documents\\Harvard\\Fall 2021\\Capstone\\smartnoise-sdk\\synth\\snsynth\\mwem.py:223: Warning: Flattened dimensionality of synthetic histogram is less than the number of iterations. This is a privacy risk. Consider increasing your split_factor (especially if it is 1), or decreasing the number of iterations. Dim: 10 Split: [6 7]\n",
      "  warnings.warn(\n"
     ]
    },
    {
     "name": "stdout",
     "output_type": "stream",
     "text": [
      "Completed eps=4.0, rep=11.\n"
     ]
    },
    {
     "name": "stderr",
     "output_type": "stream",
     "text": [
      "C:\\Users\\Public\\anaconda3\\lib\\site-packages\\diffprivlib\\models\\logistic_regression.py:221: PrivacyLeakWarning: Data norm has not been specified and will be calculated on the data provided.  This will result in additional privacy leakage. To ensure differential privacy and no additional privacy leakage, specify `data_norm` at initialisation.\n",
      "  warnings.warn(\"Data norm has not been specified and will be calculated on the data provided.  This will \"\n",
      "C:\\Users\\Public\\anaconda3\\lib\\site-packages\\diffprivlib\\models\\logistic_regression.py:394: ConvergenceWarning: lbfgs failed to converge. Increase the number of iterations.\n",
      "  warnings.warn(\"lbfgs failed to converge. Increase the number of iterations.\", ConvergenceWarning)\n",
      "C:\\Users\\Blake Bullwinkel\\Documents\\Harvard\\Fall 2021\\Capstone\\smartnoise-sdk\\synth\\snsynth\\mwem.py:116: SettingWithCopyWarning: \n",
      "A value is trying to be set on a copy of a slice from a DataFrame.\n",
      "Try using .loc[row_indexer,col_indexer] = value instead\n",
      "\n",
      "See the caveats in the documentation: https://pandas.pydata.org/pandas-docs/stable/user_guide/indexing.html#returning-a-view-versus-a-copy\n",
      "  data[col] = pd.to_numeric(data[col], errors=\"ignore\")\n",
      "C:\\Users\\Blake Bullwinkel\\Documents\\Harvard\\Fall 2021\\Capstone\\smartnoise-sdk\\synth\\snsynth\\mwem.py:530: VisibleDeprecationWarning: Creating an ndarray from ragged nested sequences (which is a list-or-tuple of lists-or-tuples-or ndarrays with different lengths or shapes) is deprecated. If you meant to do this, you must specify 'dtype=object' when creating the ndarray\n",
      "  return np.array(s2)\n",
      "C:\\Users\\Blake Bullwinkel\\Documents\\Harvard\\Fall 2021\\Capstone\\smartnoise-sdk\\synth\\snsynth\\mwem.py:223: Warning: Flattened dimensionality of synthetic histogram is less than the number of iterations. This is a privacy risk. Consider increasing your split_factor (especially if it is 1), or decreasing the number of iterations. Dim: 10 Split: [6 7]\n",
      "  warnings.warn(\n"
     ]
    },
    {
     "name": "stdout",
     "output_type": "stream",
     "text": [
      "Completed eps=4.0, rep=12.\n"
     ]
    },
    {
     "name": "stderr",
     "output_type": "stream",
     "text": [
      "C:\\Users\\Public\\anaconda3\\lib\\site-packages\\diffprivlib\\models\\logistic_regression.py:221: PrivacyLeakWarning: Data norm has not been specified and will be calculated on the data provided.  This will result in additional privacy leakage. To ensure differential privacy and no additional privacy leakage, specify `data_norm` at initialisation.\n",
      "  warnings.warn(\"Data norm has not been specified and will be calculated on the data provided.  This will \"\n",
      "C:\\Users\\Public\\anaconda3\\lib\\site-packages\\diffprivlib\\models\\logistic_regression.py:394: ConvergenceWarning: lbfgs failed to converge. Increase the number of iterations.\n",
      "  warnings.warn(\"lbfgs failed to converge. Increase the number of iterations.\", ConvergenceWarning)\n",
      "C:\\Users\\Blake Bullwinkel\\Documents\\Harvard\\Fall 2021\\Capstone\\smartnoise-sdk\\synth\\snsynth\\mwem.py:116: SettingWithCopyWarning: \n",
      "A value is trying to be set on a copy of a slice from a DataFrame.\n",
      "Try using .loc[row_indexer,col_indexer] = value instead\n",
      "\n",
      "See the caveats in the documentation: https://pandas.pydata.org/pandas-docs/stable/user_guide/indexing.html#returning-a-view-versus-a-copy\n",
      "  data[col] = pd.to_numeric(data[col], errors=\"ignore\")\n",
      "C:\\Users\\Blake Bullwinkel\\Documents\\Harvard\\Fall 2021\\Capstone\\smartnoise-sdk\\synth\\snsynth\\mwem.py:530: VisibleDeprecationWarning: Creating an ndarray from ragged nested sequences (which is a list-or-tuple of lists-or-tuples-or ndarrays with different lengths or shapes) is deprecated. If you meant to do this, you must specify 'dtype=object' when creating the ndarray\n",
      "  return np.array(s2)\n",
      "C:\\Users\\Blake Bullwinkel\\Documents\\Harvard\\Fall 2021\\Capstone\\smartnoise-sdk\\synth\\snsynth\\mwem.py:223: Warning: Flattened dimensionality of synthetic histogram is less than the number of iterations. This is a privacy risk. Consider increasing your split_factor (especially if it is 1), or decreasing the number of iterations. Dim: 10 Split: [6 7]\n",
      "  warnings.warn(\n"
     ]
    },
    {
     "name": "stdout",
     "output_type": "stream",
     "text": [
      "Completed eps=4.0, rep=13.\n"
     ]
    },
    {
     "name": "stderr",
     "output_type": "stream",
     "text": [
      "C:\\Users\\Public\\anaconda3\\lib\\site-packages\\diffprivlib\\models\\logistic_regression.py:221: PrivacyLeakWarning: Data norm has not been specified and will be calculated on the data provided.  This will result in additional privacy leakage. To ensure differential privacy and no additional privacy leakage, specify `data_norm` at initialisation.\n",
      "  warnings.warn(\"Data norm has not been specified and will be calculated on the data provided.  This will \"\n",
      "C:\\Users\\Public\\anaconda3\\lib\\site-packages\\diffprivlib\\models\\logistic_regression.py:394: ConvergenceWarning: lbfgs failed to converge. Increase the number of iterations.\n",
      "  warnings.warn(\"lbfgs failed to converge. Increase the number of iterations.\", ConvergenceWarning)\n",
      "C:\\Users\\Blake Bullwinkel\\Documents\\Harvard\\Fall 2021\\Capstone\\smartnoise-sdk\\synth\\snsynth\\mwem.py:116: SettingWithCopyWarning: \n",
      "A value is trying to be set on a copy of a slice from a DataFrame.\n",
      "Try using .loc[row_indexer,col_indexer] = value instead\n",
      "\n",
      "See the caveats in the documentation: https://pandas.pydata.org/pandas-docs/stable/user_guide/indexing.html#returning-a-view-versus-a-copy\n",
      "  data[col] = pd.to_numeric(data[col], errors=\"ignore\")\n",
      "C:\\Users\\Blake Bullwinkel\\Documents\\Harvard\\Fall 2021\\Capstone\\smartnoise-sdk\\synth\\snsynth\\mwem.py:530: VisibleDeprecationWarning: Creating an ndarray from ragged nested sequences (which is a list-or-tuple of lists-or-tuples-or ndarrays with different lengths or shapes) is deprecated. If you meant to do this, you must specify 'dtype=object' when creating the ndarray\n",
      "  return np.array(s2)\n",
      "C:\\Users\\Blake Bullwinkel\\Documents\\Harvard\\Fall 2021\\Capstone\\smartnoise-sdk\\synth\\snsynth\\mwem.py:223: Warning: Flattened dimensionality of synthetic histogram is less than the number of iterations. This is a privacy risk. Consider increasing your split_factor (especially if it is 1), or decreasing the number of iterations. Dim: 10 Split: [6 7]\n",
      "  warnings.warn(\n"
     ]
    },
    {
     "name": "stdout",
     "output_type": "stream",
     "text": [
      "Completed eps=4.0, rep=14.\n"
     ]
    },
    {
     "name": "stderr",
     "output_type": "stream",
     "text": [
      "C:\\Users\\Public\\anaconda3\\lib\\site-packages\\diffprivlib\\models\\logistic_regression.py:221: PrivacyLeakWarning: Data norm has not been specified and will be calculated on the data provided.  This will result in additional privacy leakage. To ensure differential privacy and no additional privacy leakage, specify `data_norm` at initialisation.\n",
      "  warnings.warn(\"Data norm has not been specified and will be calculated on the data provided.  This will \"\n",
      "C:\\Users\\Public\\anaconda3\\lib\\site-packages\\diffprivlib\\models\\logistic_regression.py:394: ConvergenceWarning: lbfgs failed to converge. Increase the number of iterations.\n",
      "  warnings.warn(\"lbfgs failed to converge. Increase the number of iterations.\", ConvergenceWarning)\n",
      "C:\\Users\\Blake Bullwinkel\\Documents\\Harvard\\Fall 2021\\Capstone\\smartnoise-sdk\\synth\\snsynth\\mwem.py:116: SettingWithCopyWarning: \n",
      "A value is trying to be set on a copy of a slice from a DataFrame.\n",
      "Try using .loc[row_indexer,col_indexer] = value instead\n",
      "\n",
      "See the caveats in the documentation: https://pandas.pydata.org/pandas-docs/stable/user_guide/indexing.html#returning-a-view-versus-a-copy\n",
      "  data[col] = pd.to_numeric(data[col], errors=\"ignore\")\n",
      "C:\\Users\\Blake Bullwinkel\\Documents\\Harvard\\Fall 2021\\Capstone\\smartnoise-sdk\\synth\\snsynth\\mwem.py:530: VisibleDeprecationWarning: Creating an ndarray from ragged nested sequences (which is a list-or-tuple of lists-or-tuples-or ndarrays with different lengths or shapes) is deprecated. If you meant to do this, you must specify 'dtype=object' when creating the ndarray\n",
      "  return np.array(s2)\n",
      "C:\\Users\\Blake Bullwinkel\\Documents\\Harvard\\Fall 2021\\Capstone\\smartnoise-sdk\\synth\\snsynth\\mwem.py:223: Warning: Flattened dimensionality of synthetic histogram is less than the number of iterations. This is a privacy risk. Consider increasing your split_factor (especially if it is 1), or decreasing the number of iterations. Dim: 10 Split: [6 7]\n",
      "  warnings.warn(\n"
     ]
    },
    {
     "name": "stdout",
     "output_type": "stream",
     "text": [
      "Completed eps=4.0, rep=15.\n"
     ]
    },
    {
     "name": "stderr",
     "output_type": "stream",
     "text": [
      "C:\\Users\\Public\\anaconda3\\lib\\site-packages\\diffprivlib\\models\\logistic_regression.py:221: PrivacyLeakWarning: Data norm has not been specified and will be calculated on the data provided.  This will result in additional privacy leakage. To ensure differential privacy and no additional privacy leakage, specify `data_norm` at initialisation.\n",
      "  warnings.warn(\"Data norm has not been specified and will be calculated on the data provided.  This will \"\n",
      "C:\\Users\\Public\\anaconda3\\lib\\site-packages\\diffprivlib\\models\\logistic_regression.py:394: ConvergenceWarning: lbfgs failed to converge. Increase the number of iterations.\n",
      "  warnings.warn(\"lbfgs failed to converge. Increase the number of iterations.\", ConvergenceWarning)\n",
      "C:\\Users\\Blake Bullwinkel\\Documents\\Harvard\\Fall 2021\\Capstone\\smartnoise-sdk\\synth\\snsynth\\mwem.py:116: SettingWithCopyWarning: \n",
      "A value is trying to be set on a copy of a slice from a DataFrame.\n",
      "Try using .loc[row_indexer,col_indexer] = value instead\n",
      "\n",
      "See the caveats in the documentation: https://pandas.pydata.org/pandas-docs/stable/user_guide/indexing.html#returning-a-view-versus-a-copy\n",
      "  data[col] = pd.to_numeric(data[col], errors=\"ignore\")\n",
      "C:\\Users\\Blake Bullwinkel\\Documents\\Harvard\\Fall 2021\\Capstone\\smartnoise-sdk\\synth\\snsynth\\mwem.py:530: VisibleDeprecationWarning: Creating an ndarray from ragged nested sequences (which is a list-or-tuple of lists-or-tuples-or ndarrays with different lengths or shapes) is deprecated. If you meant to do this, you must specify 'dtype=object' when creating the ndarray\n",
      "  return np.array(s2)\n",
      "C:\\Users\\Blake Bullwinkel\\Documents\\Harvard\\Fall 2021\\Capstone\\smartnoise-sdk\\synth\\snsynth\\mwem.py:223: Warning: Flattened dimensionality of synthetic histogram is less than the number of iterations. This is a privacy risk. Consider increasing your split_factor (especially if it is 1), or decreasing the number of iterations. Dim: 10 Split: [6 7]\n",
      "  warnings.warn(\n"
     ]
    },
    {
     "name": "stdout",
     "output_type": "stream",
     "text": [
      "Completed eps=5.0, rep=1.\n"
     ]
    },
    {
     "name": "stderr",
     "output_type": "stream",
     "text": [
      "C:\\Users\\Public\\anaconda3\\lib\\site-packages\\diffprivlib\\models\\logistic_regression.py:221: PrivacyLeakWarning: Data norm has not been specified and will be calculated on the data provided.  This will result in additional privacy leakage. To ensure differential privacy and no additional privacy leakage, specify `data_norm` at initialisation.\n",
      "  warnings.warn(\"Data norm has not been specified and will be calculated on the data provided.  This will \"\n",
      "C:\\Users\\Public\\anaconda3\\lib\\site-packages\\diffprivlib\\models\\logistic_regression.py:394: ConvergenceWarning: lbfgs failed to converge. Increase the number of iterations.\n",
      "  warnings.warn(\"lbfgs failed to converge. Increase the number of iterations.\", ConvergenceWarning)\n",
      "C:\\Users\\Blake Bullwinkel\\Documents\\Harvard\\Fall 2021\\Capstone\\smartnoise-sdk\\synth\\snsynth\\mwem.py:116: SettingWithCopyWarning: \n",
      "A value is trying to be set on a copy of a slice from a DataFrame.\n",
      "Try using .loc[row_indexer,col_indexer] = value instead\n",
      "\n",
      "See the caveats in the documentation: https://pandas.pydata.org/pandas-docs/stable/user_guide/indexing.html#returning-a-view-versus-a-copy\n",
      "  data[col] = pd.to_numeric(data[col], errors=\"ignore\")\n",
      "C:\\Users\\Blake Bullwinkel\\Documents\\Harvard\\Fall 2021\\Capstone\\smartnoise-sdk\\synth\\snsynth\\mwem.py:530: VisibleDeprecationWarning: Creating an ndarray from ragged nested sequences (which is a list-or-tuple of lists-or-tuples-or ndarrays with different lengths or shapes) is deprecated. If you meant to do this, you must specify 'dtype=object' when creating the ndarray\n",
      "  return np.array(s2)\n",
      "C:\\Users\\Blake Bullwinkel\\Documents\\Harvard\\Fall 2021\\Capstone\\smartnoise-sdk\\synth\\snsynth\\mwem.py:223: Warning: Flattened dimensionality of synthetic histogram is less than the number of iterations. This is a privacy risk. Consider increasing your split_factor (especially if it is 1), or decreasing the number of iterations. Dim: 10 Split: [6 7]\n",
      "  warnings.warn(\n"
     ]
    },
    {
     "name": "stdout",
     "output_type": "stream",
     "text": [
      "Completed eps=5.0, rep=2.\n"
     ]
    },
    {
     "name": "stderr",
     "output_type": "stream",
     "text": [
      "C:\\Users\\Public\\anaconda3\\lib\\site-packages\\diffprivlib\\models\\logistic_regression.py:221: PrivacyLeakWarning: Data norm has not been specified and will be calculated on the data provided.  This will result in additional privacy leakage. To ensure differential privacy and no additional privacy leakage, specify `data_norm` at initialisation.\n",
      "  warnings.warn(\"Data norm has not been specified and will be calculated on the data provided.  This will \"\n",
      "C:\\Users\\Public\\anaconda3\\lib\\site-packages\\diffprivlib\\models\\logistic_regression.py:394: ConvergenceWarning: lbfgs failed to converge. Increase the number of iterations.\n",
      "  warnings.warn(\"lbfgs failed to converge. Increase the number of iterations.\", ConvergenceWarning)\n",
      "C:\\Users\\Blake Bullwinkel\\Documents\\Harvard\\Fall 2021\\Capstone\\smartnoise-sdk\\synth\\snsynth\\mwem.py:116: SettingWithCopyWarning: \n",
      "A value is trying to be set on a copy of a slice from a DataFrame.\n",
      "Try using .loc[row_indexer,col_indexer] = value instead\n",
      "\n",
      "See the caveats in the documentation: https://pandas.pydata.org/pandas-docs/stable/user_guide/indexing.html#returning-a-view-versus-a-copy\n",
      "  data[col] = pd.to_numeric(data[col], errors=\"ignore\")\n",
      "C:\\Users\\Blake Bullwinkel\\Documents\\Harvard\\Fall 2021\\Capstone\\smartnoise-sdk\\synth\\snsynth\\mwem.py:530: VisibleDeprecationWarning: Creating an ndarray from ragged nested sequences (which is a list-or-tuple of lists-or-tuples-or ndarrays with different lengths or shapes) is deprecated. If you meant to do this, you must specify 'dtype=object' when creating the ndarray\n",
      "  return np.array(s2)\n",
      "C:\\Users\\Blake Bullwinkel\\Documents\\Harvard\\Fall 2021\\Capstone\\smartnoise-sdk\\synth\\snsynth\\mwem.py:223: Warning: Flattened dimensionality of synthetic histogram is less than the number of iterations. This is a privacy risk. Consider increasing your split_factor (especially if it is 1), or decreasing the number of iterations. Dim: 10 Split: [6 7]\n",
      "  warnings.warn(\n"
     ]
    },
    {
     "name": "stdout",
     "output_type": "stream",
     "text": [
      "Completed eps=5.0, rep=3.\n"
     ]
    },
    {
     "name": "stderr",
     "output_type": "stream",
     "text": [
      "C:\\Users\\Public\\anaconda3\\lib\\site-packages\\diffprivlib\\models\\logistic_regression.py:221: PrivacyLeakWarning: Data norm has not been specified and will be calculated on the data provided.  This will result in additional privacy leakage. To ensure differential privacy and no additional privacy leakage, specify `data_norm` at initialisation.\n",
      "  warnings.warn(\"Data norm has not been specified and will be calculated on the data provided.  This will \"\n",
      "C:\\Users\\Public\\anaconda3\\lib\\site-packages\\diffprivlib\\models\\logistic_regression.py:394: ConvergenceWarning: lbfgs failed to converge. Increase the number of iterations.\n",
      "  warnings.warn(\"lbfgs failed to converge. Increase the number of iterations.\", ConvergenceWarning)\n",
      "C:\\Users\\Blake Bullwinkel\\Documents\\Harvard\\Fall 2021\\Capstone\\smartnoise-sdk\\synth\\snsynth\\mwem.py:116: SettingWithCopyWarning: \n",
      "A value is trying to be set on a copy of a slice from a DataFrame.\n",
      "Try using .loc[row_indexer,col_indexer] = value instead\n",
      "\n",
      "See the caveats in the documentation: https://pandas.pydata.org/pandas-docs/stable/user_guide/indexing.html#returning-a-view-versus-a-copy\n",
      "  data[col] = pd.to_numeric(data[col], errors=\"ignore\")\n",
      "C:\\Users\\Blake Bullwinkel\\Documents\\Harvard\\Fall 2021\\Capstone\\smartnoise-sdk\\synth\\snsynth\\mwem.py:530: VisibleDeprecationWarning: Creating an ndarray from ragged nested sequences (which is a list-or-tuple of lists-or-tuples-or ndarrays with different lengths or shapes) is deprecated. If you meant to do this, you must specify 'dtype=object' when creating the ndarray\n",
      "  return np.array(s2)\n",
      "C:\\Users\\Blake Bullwinkel\\Documents\\Harvard\\Fall 2021\\Capstone\\smartnoise-sdk\\synth\\snsynth\\mwem.py:223: Warning: Flattened dimensionality of synthetic histogram is less than the number of iterations. This is a privacy risk. Consider increasing your split_factor (especially if it is 1), or decreasing the number of iterations. Dim: 10 Split: [6 7]\n",
      "  warnings.warn(\n"
     ]
    },
    {
     "name": "stdout",
     "output_type": "stream",
     "text": [
      "Completed eps=5.0, rep=4.\n"
     ]
    },
    {
     "name": "stderr",
     "output_type": "stream",
     "text": [
      "C:\\Users\\Public\\anaconda3\\lib\\site-packages\\diffprivlib\\models\\logistic_regression.py:221: PrivacyLeakWarning: Data norm has not been specified and will be calculated on the data provided.  This will result in additional privacy leakage. To ensure differential privacy and no additional privacy leakage, specify `data_norm` at initialisation.\n",
      "  warnings.warn(\"Data norm has not been specified and will be calculated on the data provided.  This will \"\n",
      "C:\\Users\\Public\\anaconda3\\lib\\site-packages\\diffprivlib\\models\\logistic_regression.py:394: ConvergenceWarning: lbfgs failed to converge. Increase the number of iterations.\n",
      "  warnings.warn(\"lbfgs failed to converge. Increase the number of iterations.\", ConvergenceWarning)\n",
      "C:\\Users\\Blake Bullwinkel\\Documents\\Harvard\\Fall 2021\\Capstone\\smartnoise-sdk\\synth\\snsynth\\mwem.py:116: SettingWithCopyWarning: \n",
      "A value is trying to be set on a copy of a slice from a DataFrame.\n",
      "Try using .loc[row_indexer,col_indexer] = value instead\n",
      "\n",
      "See the caveats in the documentation: https://pandas.pydata.org/pandas-docs/stable/user_guide/indexing.html#returning-a-view-versus-a-copy\n",
      "  data[col] = pd.to_numeric(data[col], errors=\"ignore\")\n",
      "C:\\Users\\Blake Bullwinkel\\Documents\\Harvard\\Fall 2021\\Capstone\\smartnoise-sdk\\synth\\snsynth\\mwem.py:530: VisibleDeprecationWarning: Creating an ndarray from ragged nested sequences (which is a list-or-tuple of lists-or-tuples-or ndarrays with different lengths or shapes) is deprecated. If you meant to do this, you must specify 'dtype=object' when creating the ndarray\n",
      "  return np.array(s2)\n",
      "C:\\Users\\Blake Bullwinkel\\Documents\\Harvard\\Fall 2021\\Capstone\\smartnoise-sdk\\synth\\snsynth\\mwem.py:223: Warning: Flattened dimensionality of synthetic histogram is less than the number of iterations. This is a privacy risk. Consider increasing your split_factor (especially if it is 1), or decreasing the number of iterations. Dim: 10 Split: [6 7]\n",
      "  warnings.warn(\n"
     ]
    },
    {
     "name": "stdout",
     "output_type": "stream",
     "text": [
      "Completed eps=5.0, rep=5.\n"
     ]
    },
    {
     "name": "stderr",
     "output_type": "stream",
     "text": [
      "C:\\Users\\Public\\anaconda3\\lib\\site-packages\\diffprivlib\\models\\logistic_regression.py:221: PrivacyLeakWarning: Data norm has not been specified and will be calculated on the data provided.  This will result in additional privacy leakage. To ensure differential privacy and no additional privacy leakage, specify `data_norm` at initialisation.\n",
      "  warnings.warn(\"Data norm has not been specified and will be calculated on the data provided.  This will \"\n",
      "C:\\Users\\Public\\anaconda3\\lib\\site-packages\\diffprivlib\\models\\logistic_regression.py:394: ConvergenceWarning: lbfgs failed to converge. Increase the number of iterations.\n",
      "  warnings.warn(\"lbfgs failed to converge. Increase the number of iterations.\", ConvergenceWarning)\n",
      "C:\\Users\\Blake Bullwinkel\\Documents\\Harvard\\Fall 2021\\Capstone\\smartnoise-sdk\\synth\\snsynth\\mwem.py:116: SettingWithCopyWarning: \n",
      "A value is trying to be set on a copy of a slice from a DataFrame.\n",
      "Try using .loc[row_indexer,col_indexer] = value instead\n",
      "\n",
      "See the caveats in the documentation: https://pandas.pydata.org/pandas-docs/stable/user_guide/indexing.html#returning-a-view-versus-a-copy\n",
      "  data[col] = pd.to_numeric(data[col], errors=\"ignore\")\n",
      "C:\\Users\\Blake Bullwinkel\\Documents\\Harvard\\Fall 2021\\Capstone\\smartnoise-sdk\\synth\\snsynth\\mwem.py:530: VisibleDeprecationWarning: Creating an ndarray from ragged nested sequences (which is a list-or-tuple of lists-or-tuples-or ndarrays with different lengths or shapes) is deprecated. If you meant to do this, you must specify 'dtype=object' when creating the ndarray\n",
      "  return np.array(s2)\n",
      "C:\\Users\\Blake Bullwinkel\\Documents\\Harvard\\Fall 2021\\Capstone\\smartnoise-sdk\\synth\\snsynth\\mwem.py:223: Warning: Flattened dimensionality of synthetic histogram is less than the number of iterations. This is a privacy risk. Consider increasing your split_factor (especially if it is 1), or decreasing the number of iterations. Dim: 10 Split: [6 7]\n",
      "  warnings.warn(\n"
     ]
    },
    {
     "name": "stdout",
     "output_type": "stream",
     "text": [
      "Completed eps=5.0, rep=6.\n"
     ]
    },
    {
     "name": "stderr",
     "output_type": "stream",
     "text": [
      "C:\\Users\\Public\\anaconda3\\lib\\site-packages\\diffprivlib\\models\\logistic_regression.py:221: PrivacyLeakWarning: Data norm has not been specified and will be calculated on the data provided.  This will result in additional privacy leakage. To ensure differential privacy and no additional privacy leakage, specify `data_norm` at initialisation.\n",
      "  warnings.warn(\"Data norm has not been specified and will be calculated on the data provided.  This will \"\n",
      "C:\\Users\\Public\\anaconda3\\lib\\site-packages\\diffprivlib\\models\\logistic_regression.py:394: ConvergenceWarning: lbfgs failed to converge. Increase the number of iterations.\n",
      "  warnings.warn(\"lbfgs failed to converge. Increase the number of iterations.\", ConvergenceWarning)\n",
      "C:\\Users\\Blake Bullwinkel\\Documents\\Harvard\\Fall 2021\\Capstone\\smartnoise-sdk\\synth\\snsynth\\mwem.py:116: SettingWithCopyWarning: \n",
      "A value is trying to be set on a copy of a slice from a DataFrame.\n",
      "Try using .loc[row_indexer,col_indexer] = value instead\n",
      "\n",
      "See the caveats in the documentation: https://pandas.pydata.org/pandas-docs/stable/user_guide/indexing.html#returning-a-view-versus-a-copy\n",
      "  data[col] = pd.to_numeric(data[col], errors=\"ignore\")\n",
      "C:\\Users\\Blake Bullwinkel\\Documents\\Harvard\\Fall 2021\\Capstone\\smartnoise-sdk\\synth\\snsynth\\mwem.py:530: VisibleDeprecationWarning: Creating an ndarray from ragged nested sequences (which is a list-or-tuple of lists-or-tuples-or ndarrays with different lengths or shapes) is deprecated. If you meant to do this, you must specify 'dtype=object' when creating the ndarray\n",
      "  return np.array(s2)\n",
      "C:\\Users\\Blake Bullwinkel\\Documents\\Harvard\\Fall 2021\\Capstone\\smartnoise-sdk\\synth\\snsynth\\mwem.py:223: Warning: Flattened dimensionality of synthetic histogram is less than the number of iterations. This is a privacy risk. Consider increasing your split_factor (especially if it is 1), or decreasing the number of iterations. Dim: 10 Split: [6 7]\n",
      "  warnings.warn(\n"
     ]
    },
    {
     "name": "stdout",
     "output_type": "stream",
     "text": [
      "Completed eps=5.0, rep=7.\n"
     ]
    },
    {
     "name": "stderr",
     "output_type": "stream",
     "text": [
      "C:\\Users\\Public\\anaconda3\\lib\\site-packages\\diffprivlib\\models\\logistic_regression.py:221: PrivacyLeakWarning: Data norm has not been specified and will be calculated on the data provided.  This will result in additional privacy leakage. To ensure differential privacy and no additional privacy leakage, specify `data_norm` at initialisation.\n",
      "  warnings.warn(\"Data norm has not been specified and will be calculated on the data provided.  This will \"\n",
      "C:\\Users\\Public\\anaconda3\\lib\\site-packages\\diffprivlib\\models\\logistic_regression.py:394: ConvergenceWarning: lbfgs failed to converge. Increase the number of iterations.\n",
      "  warnings.warn(\"lbfgs failed to converge. Increase the number of iterations.\", ConvergenceWarning)\n",
      "C:\\Users\\Blake Bullwinkel\\Documents\\Harvard\\Fall 2021\\Capstone\\smartnoise-sdk\\synth\\snsynth\\mwem.py:116: SettingWithCopyWarning: \n",
      "A value is trying to be set on a copy of a slice from a DataFrame.\n",
      "Try using .loc[row_indexer,col_indexer] = value instead\n",
      "\n",
      "See the caveats in the documentation: https://pandas.pydata.org/pandas-docs/stable/user_guide/indexing.html#returning-a-view-versus-a-copy\n",
      "  data[col] = pd.to_numeric(data[col], errors=\"ignore\")\n",
      "C:\\Users\\Blake Bullwinkel\\Documents\\Harvard\\Fall 2021\\Capstone\\smartnoise-sdk\\synth\\snsynth\\mwem.py:530: VisibleDeprecationWarning: Creating an ndarray from ragged nested sequences (which is a list-or-tuple of lists-or-tuples-or ndarrays with different lengths or shapes) is deprecated. If you meant to do this, you must specify 'dtype=object' when creating the ndarray\n",
      "  return np.array(s2)\n",
      "C:\\Users\\Blake Bullwinkel\\Documents\\Harvard\\Fall 2021\\Capstone\\smartnoise-sdk\\synth\\snsynth\\mwem.py:223: Warning: Flattened dimensionality of synthetic histogram is less than the number of iterations. This is a privacy risk. Consider increasing your split_factor (especially if it is 1), or decreasing the number of iterations. Dim: 10 Split: [6 7]\n",
      "  warnings.warn(\n"
     ]
    },
    {
     "name": "stdout",
     "output_type": "stream",
     "text": [
      "Completed eps=5.0, rep=8.\n"
     ]
    },
    {
     "name": "stderr",
     "output_type": "stream",
     "text": [
      "C:\\Users\\Public\\anaconda3\\lib\\site-packages\\diffprivlib\\models\\logistic_regression.py:221: PrivacyLeakWarning: Data norm has not been specified and will be calculated on the data provided.  This will result in additional privacy leakage. To ensure differential privacy and no additional privacy leakage, specify `data_norm` at initialisation.\n",
      "  warnings.warn(\"Data norm has not been specified and will be calculated on the data provided.  This will \"\n",
      "C:\\Users\\Public\\anaconda3\\lib\\site-packages\\diffprivlib\\models\\logistic_regression.py:394: ConvergenceWarning: lbfgs failed to converge. Increase the number of iterations.\n",
      "  warnings.warn(\"lbfgs failed to converge. Increase the number of iterations.\", ConvergenceWarning)\n",
      "C:\\Users\\Blake Bullwinkel\\Documents\\Harvard\\Fall 2021\\Capstone\\smartnoise-sdk\\synth\\snsynth\\mwem.py:116: SettingWithCopyWarning: \n",
      "A value is trying to be set on a copy of a slice from a DataFrame.\n",
      "Try using .loc[row_indexer,col_indexer] = value instead\n",
      "\n",
      "See the caveats in the documentation: https://pandas.pydata.org/pandas-docs/stable/user_guide/indexing.html#returning-a-view-versus-a-copy\n",
      "  data[col] = pd.to_numeric(data[col], errors=\"ignore\")\n",
      "C:\\Users\\Blake Bullwinkel\\Documents\\Harvard\\Fall 2021\\Capstone\\smartnoise-sdk\\synth\\snsynth\\mwem.py:530: VisibleDeprecationWarning: Creating an ndarray from ragged nested sequences (which is a list-or-tuple of lists-or-tuples-or ndarrays with different lengths or shapes) is deprecated. If you meant to do this, you must specify 'dtype=object' when creating the ndarray\n",
      "  return np.array(s2)\n",
      "C:\\Users\\Blake Bullwinkel\\Documents\\Harvard\\Fall 2021\\Capstone\\smartnoise-sdk\\synth\\snsynth\\mwem.py:223: Warning: Flattened dimensionality of synthetic histogram is less than the number of iterations. This is a privacy risk. Consider increasing your split_factor (especially if it is 1), or decreasing the number of iterations. Dim: 10 Split: [6 7]\n",
      "  warnings.warn(\n"
     ]
    },
    {
     "name": "stdout",
     "output_type": "stream",
     "text": [
      "Completed eps=5.0, rep=9.\n"
     ]
    },
    {
     "name": "stderr",
     "output_type": "stream",
     "text": [
      "C:\\Users\\Public\\anaconda3\\lib\\site-packages\\diffprivlib\\models\\logistic_regression.py:221: PrivacyLeakWarning: Data norm has not been specified and will be calculated on the data provided.  This will result in additional privacy leakage. To ensure differential privacy and no additional privacy leakage, specify `data_norm` at initialisation.\n",
      "  warnings.warn(\"Data norm has not been specified and will be calculated on the data provided.  This will \"\n",
      "C:\\Users\\Public\\anaconda3\\lib\\site-packages\\diffprivlib\\models\\logistic_regression.py:394: ConvergenceWarning: lbfgs failed to converge. Increase the number of iterations.\n",
      "  warnings.warn(\"lbfgs failed to converge. Increase the number of iterations.\", ConvergenceWarning)\n",
      "C:\\Users\\Blake Bullwinkel\\Documents\\Harvard\\Fall 2021\\Capstone\\smartnoise-sdk\\synth\\snsynth\\mwem.py:116: SettingWithCopyWarning: \n",
      "A value is trying to be set on a copy of a slice from a DataFrame.\n",
      "Try using .loc[row_indexer,col_indexer] = value instead\n",
      "\n",
      "See the caveats in the documentation: https://pandas.pydata.org/pandas-docs/stable/user_guide/indexing.html#returning-a-view-versus-a-copy\n",
      "  data[col] = pd.to_numeric(data[col], errors=\"ignore\")\n",
      "C:\\Users\\Blake Bullwinkel\\Documents\\Harvard\\Fall 2021\\Capstone\\smartnoise-sdk\\synth\\snsynth\\mwem.py:530: VisibleDeprecationWarning: Creating an ndarray from ragged nested sequences (which is a list-or-tuple of lists-or-tuples-or ndarrays with different lengths or shapes) is deprecated. If you meant to do this, you must specify 'dtype=object' when creating the ndarray\n",
      "  return np.array(s2)\n",
      "C:\\Users\\Blake Bullwinkel\\Documents\\Harvard\\Fall 2021\\Capstone\\smartnoise-sdk\\synth\\snsynth\\mwem.py:223: Warning: Flattened dimensionality of synthetic histogram is less than the number of iterations. This is a privacy risk. Consider increasing your split_factor (especially if it is 1), or decreasing the number of iterations. Dim: 10 Split: [6 7]\n",
      "  warnings.warn(\n"
     ]
    },
    {
     "name": "stdout",
     "output_type": "stream",
     "text": [
      "Completed eps=5.0, rep=10.\n"
     ]
    },
    {
     "name": "stderr",
     "output_type": "stream",
     "text": [
      "C:\\Users\\Public\\anaconda3\\lib\\site-packages\\diffprivlib\\models\\logistic_regression.py:221: PrivacyLeakWarning: Data norm has not been specified and will be calculated on the data provided.  This will result in additional privacy leakage. To ensure differential privacy and no additional privacy leakage, specify `data_norm` at initialisation.\n",
      "  warnings.warn(\"Data norm has not been specified and will be calculated on the data provided.  This will \"\n",
      "C:\\Users\\Public\\anaconda3\\lib\\site-packages\\diffprivlib\\models\\logistic_regression.py:394: ConvergenceWarning: lbfgs failed to converge. Increase the number of iterations.\n",
      "  warnings.warn(\"lbfgs failed to converge. Increase the number of iterations.\", ConvergenceWarning)\n",
      "C:\\Users\\Blake Bullwinkel\\Documents\\Harvard\\Fall 2021\\Capstone\\smartnoise-sdk\\synth\\snsynth\\mwem.py:116: SettingWithCopyWarning: \n",
      "A value is trying to be set on a copy of a slice from a DataFrame.\n",
      "Try using .loc[row_indexer,col_indexer] = value instead\n",
      "\n",
      "See the caveats in the documentation: https://pandas.pydata.org/pandas-docs/stable/user_guide/indexing.html#returning-a-view-versus-a-copy\n",
      "  data[col] = pd.to_numeric(data[col], errors=\"ignore\")\n",
      "C:\\Users\\Blake Bullwinkel\\Documents\\Harvard\\Fall 2021\\Capstone\\smartnoise-sdk\\synth\\snsynth\\mwem.py:530: VisibleDeprecationWarning: Creating an ndarray from ragged nested sequences (which is a list-or-tuple of lists-or-tuples-or ndarrays with different lengths or shapes) is deprecated. If you meant to do this, you must specify 'dtype=object' when creating the ndarray\n",
      "  return np.array(s2)\n",
      "C:\\Users\\Blake Bullwinkel\\Documents\\Harvard\\Fall 2021\\Capstone\\smartnoise-sdk\\synth\\snsynth\\mwem.py:223: Warning: Flattened dimensionality of synthetic histogram is less than the number of iterations. This is a privacy risk. Consider increasing your split_factor (especially if it is 1), or decreasing the number of iterations. Dim: 10 Split: [6 7]\n",
      "  warnings.warn(\n"
     ]
    },
    {
     "name": "stdout",
     "output_type": "stream",
     "text": [
      "Completed eps=5.0, rep=11.\n"
     ]
    },
    {
     "name": "stderr",
     "output_type": "stream",
     "text": [
      "C:\\Users\\Public\\anaconda3\\lib\\site-packages\\diffprivlib\\models\\logistic_regression.py:221: PrivacyLeakWarning: Data norm has not been specified and will be calculated on the data provided.  This will result in additional privacy leakage. To ensure differential privacy and no additional privacy leakage, specify `data_norm` at initialisation.\n",
      "  warnings.warn(\"Data norm has not been specified and will be calculated on the data provided.  This will \"\n",
      "C:\\Users\\Public\\anaconda3\\lib\\site-packages\\diffprivlib\\models\\logistic_regression.py:394: ConvergenceWarning: lbfgs failed to converge. Increase the number of iterations.\n",
      "  warnings.warn(\"lbfgs failed to converge. Increase the number of iterations.\", ConvergenceWarning)\n",
      "C:\\Users\\Blake Bullwinkel\\Documents\\Harvard\\Fall 2021\\Capstone\\smartnoise-sdk\\synth\\snsynth\\mwem.py:116: SettingWithCopyWarning: \n",
      "A value is trying to be set on a copy of a slice from a DataFrame.\n",
      "Try using .loc[row_indexer,col_indexer] = value instead\n",
      "\n",
      "See the caveats in the documentation: https://pandas.pydata.org/pandas-docs/stable/user_guide/indexing.html#returning-a-view-versus-a-copy\n",
      "  data[col] = pd.to_numeric(data[col], errors=\"ignore\")\n",
      "C:\\Users\\Blake Bullwinkel\\Documents\\Harvard\\Fall 2021\\Capstone\\smartnoise-sdk\\synth\\snsynth\\mwem.py:530: VisibleDeprecationWarning: Creating an ndarray from ragged nested sequences (which is a list-or-tuple of lists-or-tuples-or ndarrays with different lengths or shapes) is deprecated. If you meant to do this, you must specify 'dtype=object' when creating the ndarray\n",
      "  return np.array(s2)\n",
      "C:\\Users\\Blake Bullwinkel\\Documents\\Harvard\\Fall 2021\\Capstone\\smartnoise-sdk\\synth\\snsynth\\mwem.py:223: Warning: Flattened dimensionality of synthetic histogram is less than the number of iterations. This is a privacy risk. Consider increasing your split_factor (especially if it is 1), or decreasing the number of iterations. Dim: 10 Split: [6 7]\n",
      "  warnings.warn(\n"
     ]
    },
    {
     "name": "stdout",
     "output_type": "stream",
     "text": [
      "Completed eps=5.0, rep=12.\n"
     ]
    },
    {
     "name": "stderr",
     "output_type": "stream",
     "text": [
      "C:\\Users\\Public\\anaconda3\\lib\\site-packages\\diffprivlib\\models\\logistic_regression.py:221: PrivacyLeakWarning: Data norm has not been specified and will be calculated on the data provided.  This will result in additional privacy leakage. To ensure differential privacy and no additional privacy leakage, specify `data_norm` at initialisation.\n",
      "  warnings.warn(\"Data norm has not been specified and will be calculated on the data provided.  This will \"\n",
      "C:\\Users\\Public\\anaconda3\\lib\\site-packages\\diffprivlib\\models\\logistic_regression.py:394: ConvergenceWarning: lbfgs failed to converge. Increase the number of iterations.\n",
      "  warnings.warn(\"lbfgs failed to converge. Increase the number of iterations.\", ConvergenceWarning)\n",
      "C:\\Users\\Blake Bullwinkel\\Documents\\Harvard\\Fall 2021\\Capstone\\smartnoise-sdk\\synth\\snsynth\\mwem.py:116: SettingWithCopyWarning: \n",
      "A value is trying to be set on a copy of a slice from a DataFrame.\n",
      "Try using .loc[row_indexer,col_indexer] = value instead\n",
      "\n",
      "See the caveats in the documentation: https://pandas.pydata.org/pandas-docs/stable/user_guide/indexing.html#returning-a-view-versus-a-copy\n",
      "  data[col] = pd.to_numeric(data[col], errors=\"ignore\")\n",
      "C:\\Users\\Blake Bullwinkel\\Documents\\Harvard\\Fall 2021\\Capstone\\smartnoise-sdk\\synth\\snsynth\\mwem.py:530: VisibleDeprecationWarning: Creating an ndarray from ragged nested sequences (which is a list-or-tuple of lists-or-tuples-or ndarrays with different lengths or shapes) is deprecated. If you meant to do this, you must specify 'dtype=object' when creating the ndarray\n",
      "  return np.array(s2)\n",
      "C:\\Users\\Blake Bullwinkel\\Documents\\Harvard\\Fall 2021\\Capstone\\smartnoise-sdk\\synth\\snsynth\\mwem.py:223: Warning: Flattened dimensionality of synthetic histogram is less than the number of iterations. This is a privacy risk. Consider increasing your split_factor (especially if it is 1), or decreasing the number of iterations. Dim: 10 Split: [6 7]\n",
      "  warnings.warn(\n"
     ]
    },
    {
     "name": "stdout",
     "output_type": "stream",
     "text": [
      "Completed eps=5.0, rep=13.\n"
     ]
    },
    {
     "name": "stderr",
     "output_type": "stream",
     "text": [
      "C:\\Users\\Public\\anaconda3\\lib\\site-packages\\diffprivlib\\models\\logistic_regression.py:221: PrivacyLeakWarning: Data norm has not been specified and will be calculated on the data provided.  This will result in additional privacy leakage. To ensure differential privacy and no additional privacy leakage, specify `data_norm` at initialisation.\n",
      "  warnings.warn(\"Data norm has not been specified and will be calculated on the data provided.  This will \"\n",
      "C:\\Users\\Public\\anaconda3\\lib\\site-packages\\diffprivlib\\models\\logistic_regression.py:394: ConvergenceWarning: lbfgs failed to converge. Increase the number of iterations.\n",
      "  warnings.warn(\"lbfgs failed to converge. Increase the number of iterations.\", ConvergenceWarning)\n",
      "C:\\Users\\Blake Bullwinkel\\Documents\\Harvard\\Fall 2021\\Capstone\\smartnoise-sdk\\synth\\snsynth\\mwem.py:116: SettingWithCopyWarning: \n",
      "A value is trying to be set on a copy of a slice from a DataFrame.\n",
      "Try using .loc[row_indexer,col_indexer] = value instead\n",
      "\n",
      "See the caveats in the documentation: https://pandas.pydata.org/pandas-docs/stable/user_guide/indexing.html#returning-a-view-versus-a-copy\n",
      "  data[col] = pd.to_numeric(data[col], errors=\"ignore\")\n",
      "C:\\Users\\Blake Bullwinkel\\Documents\\Harvard\\Fall 2021\\Capstone\\smartnoise-sdk\\synth\\snsynth\\mwem.py:530: VisibleDeprecationWarning: Creating an ndarray from ragged nested sequences (which is a list-or-tuple of lists-or-tuples-or ndarrays with different lengths or shapes) is deprecated. If you meant to do this, you must specify 'dtype=object' when creating the ndarray\n",
      "  return np.array(s2)\n",
      "C:\\Users\\Blake Bullwinkel\\Documents\\Harvard\\Fall 2021\\Capstone\\smartnoise-sdk\\synth\\snsynth\\mwem.py:223: Warning: Flattened dimensionality of synthetic histogram is less than the number of iterations. This is a privacy risk. Consider increasing your split_factor (especially if it is 1), or decreasing the number of iterations. Dim: 10 Split: [6 7]\n",
      "  warnings.warn(\n"
     ]
    },
    {
     "name": "stdout",
     "output_type": "stream",
     "text": [
      "Completed eps=5.0, rep=14.\n"
     ]
    },
    {
     "name": "stderr",
     "output_type": "stream",
     "text": [
      "C:\\Users\\Public\\anaconda3\\lib\\site-packages\\diffprivlib\\models\\logistic_regression.py:221: PrivacyLeakWarning: Data norm has not been specified and will be calculated on the data provided.  This will result in additional privacy leakage. To ensure differential privacy and no additional privacy leakage, specify `data_norm` at initialisation.\n",
      "  warnings.warn(\"Data norm has not been specified and will be calculated on the data provided.  This will \"\n",
      "C:\\Users\\Public\\anaconda3\\lib\\site-packages\\diffprivlib\\models\\logistic_regression.py:394: ConvergenceWarning: lbfgs failed to converge. Increase the number of iterations.\n",
      "  warnings.warn(\"lbfgs failed to converge. Increase the number of iterations.\", ConvergenceWarning)\n",
      "C:\\Users\\Blake Bullwinkel\\Documents\\Harvard\\Fall 2021\\Capstone\\smartnoise-sdk\\synth\\snsynth\\mwem.py:116: SettingWithCopyWarning: \n",
      "A value is trying to be set on a copy of a slice from a DataFrame.\n",
      "Try using .loc[row_indexer,col_indexer] = value instead\n",
      "\n",
      "See the caveats in the documentation: https://pandas.pydata.org/pandas-docs/stable/user_guide/indexing.html#returning-a-view-versus-a-copy\n",
      "  data[col] = pd.to_numeric(data[col], errors=\"ignore\")\n",
      "C:\\Users\\Blake Bullwinkel\\Documents\\Harvard\\Fall 2021\\Capstone\\smartnoise-sdk\\synth\\snsynth\\mwem.py:530: VisibleDeprecationWarning: Creating an ndarray from ragged nested sequences (which is a list-or-tuple of lists-or-tuples-or ndarrays with different lengths or shapes) is deprecated. If you meant to do this, you must specify 'dtype=object' when creating the ndarray\n",
      "  return np.array(s2)\n",
      "C:\\Users\\Blake Bullwinkel\\Documents\\Harvard\\Fall 2021\\Capstone\\smartnoise-sdk\\synth\\snsynth\\mwem.py:223: Warning: Flattened dimensionality of synthetic histogram is less than the number of iterations. This is a privacy risk. Consider increasing your split_factor (especially if it is 1), or decreasing the number of iterations. Dim: 10 Split: [6 7]\n",
      "  warnings.warn(\n"
     ]
    },
    {
     "name": "stdout",
     "output_type": "stream",
     "text": [
      "Completed eps=5.0, rep=15.\n"
     ]
    },
    {
     "name": "stderr",
     "output_type": "stream",
     "text": [
      "C:\\Users\\Public\\anaconda3\\lib\\site-packages\\diffprivlib\\models\\logistic_regression.py:221: PrivacyLeakWarning: Data norm has not been specified and will be calculated on the data provided.  This will result in additional privacy leakage. To ensure differential privacy and no additional privacy leakage, specify `data_norm` at initialisation.\n",
      "  warnings.warn(\"Data norm has not been specified and will be calculated on the data provided.  This will \"\n",
      "C:\\Users\\Public\\anaconda3\\lib\\site-packages\\diffprivlib\\models\\logistic_regression.py:394: ConvergenceWarning: lbfgs failed to converge. Increase the number of iterations.\n",
      "  warnings.warn(\"lbfgs failed to converge. Increase the number of iterations.\", ConvergenceWarning)\n",
      "C:\\Users\\Blake Bullwinkel\\Documents\\Harvard\\Fall 2021\\Capstone\\smartnoise-sdk\\synth\\snsynth\\mwem.py:116: SettingWithCopyWarning: \n",
      "A value is trying to be set on a copy of a slice from a DataFrame.\n",
      "Try using .loc[row_indexer,col_indexer] = value instead\n",
      "\n",
      "See the caveats in the documentation: https://pandas.pydata.org/pandas-docs/stable/user_guide/indexing.html#returning-a-view-versus-a-copy\n",
      "  data[col] = pd.to_numeric(data[col], errors=\"ignore\")\n",
      "C:\\Users\\Blake Bullwinkel\\Documents\\Harvard\\Fall 2021\\Capstone\\smartnoise-sdk\\synth\\snsynth\\mwem.py:530: VisibleDeprecationWarning: Creating an ndarray from ragged nested sequences (which is a list-or-tuple of lists-or-tuples-or ndarrays with different lengths or shapes) is deprecated. If you meant to do this, you must specify 'dtype=object' when creating the ndarray\n",
      "  return np.array(s2)\n",
      "C:\\Users\\Blake Bullwinkel\\Documents\\Harvard\\Fall 2021\\Capstone\\smartnoise-sdk\\synth\\snsynth\\mwem.py:223: Warning: Flattened dimensionality of synthetic histogram is less than the number of iterations. This is a privacy risk. Consider increasing your split_factor (especially if it is 1), or decreasing the number of iterations. Dim: 10 Split: [6 7]\n",
      "  warnings.warn(\n"
     ]
    },
    {
     "name": "stdout",
     "output_type": "stream",
     "text": [
      "Completed eps=6.0, rep=1.\n"
     ]
    },
    {
     "name": "stderr",
     "output_type": "stream",
     "text": [
      "C:\\Users\\Public\\anaconda3\\lib\\site-packages\\diffprivlib\\models\\logistic_regression.py:221: PrivacyLeakWarning: Data norm has not been specified and will be calculated on the data provided.  This will result in additional privacy leakage. To ensure differential privacy and no additional privacy leakage, specify `data_norm` at initialisation.\n",
      "  warnings.warn(\"Data norm has not been specified and will be calculated on the data provided.  This will \"\n",
      "C:\\Users\\Public\\anaconda3\\lib\\site-packages\\diffprivlib\\models\\logistic_regression.py:394: ConvergenceWarning: lbfgs failed to converge. Increase the number of iterations.\n",
      "  warnings.warn(\"lbfgs failed to converge. Increase the number of iterations.\", ConvergenceWarning)\n",
      "C:\\Users\\Blake Bullwinkel\\Documents\\Harvard\\Fall 2021\\Capstone\\smartnoise-sdk\\synth\\snsynth\\mwem.py:116: SettingWithCopyWarning: \n",
      "A value is trying to be set on a copy of a slice from a DataFrame.\n",
      "Try using .loc[row_indexer,col_indexer] = value instead\n",
      "\n",
      "See the caveats in the documentation: https://pandas.pydata.org/pandas-docs/stable/user_guide/indexing.html#returning-a-view-versus-a-copy\n",
      "  data[col] = pd.to_numeric(data[col], errors=\"ignore\")\n",
      "C:\\Users\\Blake Bullwinkel\\Documents\\Harvard\\Fall 2021\\Capstone\\smartnoise-sdk\\synth\\snsynth\\mwem.py:530: VisibleDeprecationWarning: Creating an ndarray from ragged nested sequences (which is a list-or-tuple of lists-or-tuples-or ndarrays with different lengths or shapes) is deprecated. If you meant to do this, you must specify 'dtype=object' when creating the ndarray\n",
      "  return np.array(s2)\n",
      "C:\\Users\\Blake Bullwinkel\\Documents\\Harvard\\Fall 2021\\Capstone\\smartnoise-sdk\\synth\\snsynth\\mwem.py:223: Warning: Flattened dimensionality of synthetic histogram is less than the number of iterations. This is a privacy risk. Consider increasing your split_factor (especially if it is 1), or decreasing the number of iterations. Dim: 10 Split: [6 7]\n",
      "  warnings.warn(\n"
     ]
    },
    {
     "name": "stdout",
     "output_type": "stream",
     "text": [
      "Completed eps=6.0, rep=2.\n"
     ]
    },
    {
     "name": "stderr",
     "output_type": "stream",
     "text": [
      "C:\\Users\\Public\\anaconda3\\lib\\site-packages\\diffprivlib\\models\\logistic_regression.py:221: PrivacyLeakWarning: Data norm has not been specified and will be calculated on the data provided.  This will result in additional privacy leakage. To ensure differential privacy and no additional privacy leakage, specify `data_norm` at initialisation.\n",
      "  warnings.warn(\"Data norm has not been specified and will be calculated on the data provided.  This will \"\n",
      "C:\\Users\\Public\\anaconda3\\lib\\site-packages\\diffprivlib\\models\\logistic_regression.py:394: ConvergenceWarning: lbfgs failed to converge. Increase the number of iterations.\n",
      "  warnings.warn(\"lbfgs failed to converge. Increase the number of iterations.\", ConvergenceWarning)\n",
      "C:\\Users\\Blake Bullwinkel\\Documents\\Harvard\\Fall 2021\\Capstone\\smartnoise-sdk\\synth\\snsynth\\mwem.py:116: SettingWithCopyWarning: \n",
      "A value is trying to be set on a copy of a slice from a DataFrame.\n",
      "Try using .loc[row_indexer,col_indexer] = value instead\n",
      "\n",
      "See the caveats in the documentation: https://pandas.pydata.org/pandas-docs/stable/user_guide/indexing.html#returning-a-view-versus-a-copy\n",
      "  data[col] = pd.to_numeric(data[col], errors=\"ignore\")\n",
      "C:\\Users\\Blake Bullwinkel\\Documents\\Harvard\\Fall 2021\\Capstone\\smartnoise-sdk\\synth\\snsynth\\mwem.py:530: VisibleDeprecationWarning: Creating an ndarray from ragged nested sequences (which is a list-or-tuple of lists-or-tuples-or ndarrays with different lengths or shapes) is deprecated. If you meant to do this, you must specify 'dtype=object' when creating the ndarray\n",
      "  return np.array(s2)\n",
      "C:\\Users\\Blake Bullwinkel\\Documents\\Harvard\\Fall 2021\\Capstone\\smartnoise-sdk\\synth\\snsynth\\mwem.py:223: Warning: Flattened dimensionality of synthetic histogram is less than the number of iterations. This is a privacy risk. Consider increasing your split_factor (especially if it is 1), or decreasing the number of iterations. Dim: 10 Split: [6 7]\n",
      "  warnings.warn(\n"
     ]
    },
    {
     "name": "stdout",
     "output_type": "stream",
     "text": [
      "Completed eps=6.0, rep=3.\n"
     ]
    },
    {
     "name": "stderr",
     "output_type": "stream",
     "text": [
      "C:\\Users\\Public\\anaconda3\\lib\\site-packages\\diffprivlib\\models\\logistic_regression.py:221: PrivacyLeakWarning: Data norm has not been specified and will be calculated on the data provided.  This will result in additional privacy leakage. To ensure differential privacy and no additional privacy leakage, specify `data_norm` at initialisation.\n",
      "  warnings.warn(\"Data norm has not been specified and will be calculated on the data provided.  This will \"\n",
      "C:\\Users\\Public\\anaconda3\\lib\\site-packages\\diffprivlib\\models\\logistic_regression.py:394: ConvergenceWarning: lbfgs failed to converge. Increase the number of iterations.\n",
      "  warnings.warn(\"lbfgs failed to converge. Increase the number of iterations.\", ConvergenceWarning)\n",
      "C:\\Users\\Blake Bullwinkel\\Documents\\Harvard\\Fall 2021\\Capstone\\smartnoise-sdk\\synth\\snsynth\\mwem.py:116: SettingWithCopyWarning: \n",
      "A value is trying to be set on a copy of a slice from a DataFrame.\n",
      "Try using .loc[row_indexer,col_indexer] = value instead\n",
      "\n",
      "See the caveats in the documentation: https://pandas.pydata.org/pandas-docs/stable/user_guide/indexing.html#returning-a-view-versus-a-copy\n",
      "  data[col] = pd.to_numeric(data[col], errors=\"ignore\")\n",
      "C:\\Users\\Blake Bullwinkel\\Documents\\Harvard\\Fall 2021\\Capstone\\smartnoise-sdk\\synth\\snsynth\\mwem.py:530: VisibleDeprecationWarning: Creating an ndarray from ragged nested sequences (which is a list-or-tuple of lists-or-tuples-or ndarrays with different lengths or shapes) is deprecated. If you meant to do this, you must specify 'dtype=object' when creating the ndarray\n",
      "  return np.array(s2)\n",
      "C:\\Users\\Blake Bullwinkel\\Documents\\Harvard\\Fall 2021\\Capstone\\smartnoise-sdk\\synth\\snsynth\\mwem.py:223: Warning: Flattened dimensionality of synthetic histogram is less than the number of iterations. This is a privacy risk. Consider increasing your split_factor (especially if it is 1), or decreasing the number of iterations. Dim: 10 Split: [6 7]\n",
      "  warnings.warn(\n"
     ]
    },
    {
     "name": "stdout",
     "output_type": "stream",
     "text": [
      "Completed eps=6.0, rep=4.\n"
     ]
    },
    {
     "name": "stderr",
     "output_type": "stream",
     "text": [
      "C:\\Users\\Public\\anaconda3\\lib\\site-packages\\diffprivlib\\models\\logistic_regression.py:221: PrivacyLeakWarning: Data norm has not been specified and will be calculated on the data provided.  This will result in additional privacy leakage. To ensure differential privacy and no additional privacy leakage, specify `data_norm` at initialisation.\n",
      "  warnings.warn(\"Data norm has not been specified and will be calculated on the data provided.  This will \"\n",
      "C:\\Users\\Public\\anaconda3\\lib\\site-packages\\diffprivlib\\models\\logistic_regression.py:394: ConvergenceWarning: lbfgs failed to converge. Increase the number of iterations.\n",
      "  warnings.warn(\"lbfgs failed to converge. Increase the number of iterations.\", ConvergenceWarning)\n",
      "C:\\Users\\Blake Bullwinkel\\Documents\\Harvard\\Fall 2021\\Capstone\\smartnoise-sdk\\synth\\snsynth\\mwem.py:116: SettingWithCopyWarning: \n",
      "A value is trying to be set on a copy of a slice from a DataFrame.\n",
      "Try using .loc[row_indexer,col_indexer] = value instead\n",
      "\n",
      "See the caveats in the documentation: https://pandas.pydata.org/pandas-docs/stable/user_guide/indexing.html#returning-a-view-versus-a-copy\n",
      "  data[col] = pd.to_numeric(data[col], errors=\"ignore\")\n",
      "C:\\Users\\Blake Bullwinkel\\Documents\\Harvard\\Fall 2021\\Capstone\\smartnoise-sdk\\synth\\snsynth\\mwem.py:530: VisibleDeprecationWarning: Creating an ndarray from ragged nested sequences (which is a list-or-tuple of lists-or-tuples-or ndarrays with different lengths or shapes) is deprecated. If you meant to do this, you must specify 'dtype=object' when creating the ndarray\n",
      "  return np.array(s2)\n",
      "C:\\Users\\Blake Bullwinkel\\Documents\\Harvard\\Fall 2021\\Capstone\\smartnoise-sdk\\synth\\snsynth\\mwem.py:223: Warning: Flattened dimensionality of synthetic histogram is less than the number of iterations. This is a privacy risk. Consider increasing your split_factor (especially if it is 1), or decreasing the number of iterations. Dim: 10 Split: [6 7]\n",
      "  warnings.warn(\n"
     ]
    },
    {
     "name": "stdout",
     "output_type": "stream",
     "text": [
      "Completed eps=6.0, rep=5.\n"
     ]
    },
    {
     "name": "stderr",
     "output_type": "stream",
     "text": [
      "C:\\Users\\Public\\anaconda3\\lib\\site-packages\\diffprivlib\\models\\logistic_regression.py:221: PrivacyLeakWarning: Data norm has not been specified and will be calculated on the data provided.  This will result in additional privacy leakage. To ensure differential privacy and no additional privacy leakage, specify `data_norm` at initialisation.\n",
      "  warnings.warn(\"Data norm has not been specified and will be calculated on the data provided.  This will \"\n",
      "C:\\Users\\Public\\anaconda3\\lib\\site-packages\\diffprivlib\\models\\logistic_regression.py:394: ConvergenceWarning: lbfgs failed to converge. Increase the number of iterations.\n",
      "  warnings.warn(\"lbfgs failed to converge. Increase the number of iterations.\", ConvergenceWarning)\n",
      "C:\\Users\\Blake Bullwinkel\\Documents\\Harvard\\Fall 2021\\Capstone\\smartnoise-sdk\\synth\\snsynth\\mwem.py:116: SettingWithCopyWarning: \n",
      "A value is trying to be set on a copy of a slice from a DataFrame.\n",
      "Try using .loc[row_indexer,col_indexer] = value instead\n",
      "\n",
      "See the caveats in the documentation: https://pandas.pydata.org/pandas-docs/stable/user_guide/indexing.html#returning-a-view-versus-a-copy\n",
      "  data[col] = pd.to_numeric(data[col], errors=\"ignore\")\n",
      "C:\\Users\\Blake Bullwinkel\\Documents\\Harvard\\Fall 2021\\Capstone\\smartnoise-sdk\\synth\\snsynth\\mwem.py:530: VisibleDeprecationWarning: Creating an ndarray from ragged nested sequences (which is a list-or-tuple of lists-or-tuples-or ndarrays with different lengths or shapes) is deprecated. If you meant to do this, you must specify 'dtype=object' when creating the ndarray\n",
      "  return np.array(s2)\n",
      "C:\\Users\\Blake Bullwinkel\\Documents\\Harvard\\Fall 2021\\Capstone\\smartnoise-sdk\\synth\\snsynth\\mwem.py:223: Warning: Flattened dimensionality of synthetic histogram is less than the number of iterations. This is a privacy risk. Consider increasing your split_factor (especially if it is 1), or decreasing the number of iterations. Dim: 10 Split: [6 7]\n",
      "  warnings.warn(\n"
     ]
    },
    {
     "name": "stdout",
     "output_type": "stream",
     "text": [
      "Completed eps=6.0, rep=6.\n"
     ]
    },
    {
     "name": "stderr",
     "output_type": "stream",
     "text": [
      "C:\\Users\\Public\\anaconda3\\lib\\site-packages\\diffprivlib\\models\\logistic_regression.py:221: PrivacyLeakWarning: Data norm has not been specified and will be calculated on the data provided.  This will result in additional privacy leakage. To ensure differential privacy and no additional privacy leakage, specify `data_norm` at initialisation.\n",
      "  warnings.warn(\"Data norm has not been specified and will be calculated on the data provided.  This will \"\n",
      "C:\\Users\\Public\\anaconda3\\lib\\site-packages\\diffprivlib\\models\\logistic_regression.py:394: ConvergenceWarning: lbfgs failed to converge. Increase the number of iterations.\n",
      "  warnings.warn(\"lbfgs failed to converge. Increase the number of iterations.\", ConvergenceWarning)\n",
      "C:\\Users\\Blake Bullwinkel\\Documents\\Harvard\\Fall 2021\\Capstone\\smartnoise-sdk\\synth\\snsynth\\mwem.py:116: SettingWithCopyWarning: \n",
      "A value is trying to be set on a copy of a slice from a DataFrame.\n",
      "Try using .loc[row_indexer,col_indexer] = value instead\n",
      "\n",
      "See the caveats in the documentation: https://pandas.pydata.org/pandas-docs/stable/user_guide/indexing.html#returning-a-view-versus-a-copy\n",
      "  data[col] = pd.to_numeric(data[col], errors=\"ignore\")\n",
      "C:\\Users\\Blake Bullwinkel\\Documents\\Harvard\\Fall 2021\\Capstone\\smartnoise-sdk\\synth\\snsynth\\mwem.py:530: VisibleDeprecationWarning: Creating an ndarray from ragged nested sequences (which is a list-or-tuple of lists-or-tuples-or ndarrays with different lengths or shapes) is deprecated. If you meant to do this, you must specify 'dtype=object' when creating the ndarray\n",
      "  return np.array(s2)\n",
      "C:\\Users\\Blake Bullwinkel\\Documents\\Harvard\\Fall 2021\\Capstone\\smartnoise-sdk\\synth\\snsynth\\mwem.py:223: Warning: Flattened dimensionality of synthetic histogram is less than the number of iterations. This is a privacy risk. Consider increasing your split_factor (especially if it is 1), or decreasing the number of iterations. Dim: 10 Split: [6 7]\n",
      "  warnings.warn(\n"
     ]
    },
    {
     "name": "stdout",
     "output_type": "stream",
     "text": [
      "Completed eps=6.0, rep=7.\n"
     ]
    },
    {
     "name": "stderr",
     "output_type": "stream",
     "text": [
      "C:\\Users\\Public\\anaconda3\\lib\\site-packages\\diffprivlib\\models\\logistic_regression.py:221: PrivacyLeakWarning: Data norm has not been specified and will be calculated on the data provided.  This will result in additional privacy leakage. To ensure differential privacy and no additional privacy leakage, specify `data_norm` at initialisation.\n",
      "  warnings.warn(\"Data norm has not been specified and will be calculated on the data provided.  This will \"\n",
      "C:\\Users\\Public\\anaconda3\\lib\\site-packages\\diffprivlib\\models\\logistic_regression.py:394: ConvergenceWarning: lbfgs failed to converge. Increase the number of iterations.\n",
      "  warnings.warn(\"lbfgs failed to converge. Increase the number of iterations.\", ConvergenceWarning)\n",
      "C:\\Users\\Blake Bullwinkel\\Documents\\Harvard\\Fall 2021\\Capstone\\smartnoise-sdk\\synth\\snsynth\\mwem.py:116: SettingWithCopyWarning: \n",
      "A value is trying to be set on a copy of a slice from a DataFrame.\n",
      "Try using .loc[row_indexer,col_indexer] = value instead\n",
      "\n",
      "See the caveats in the documentation: https://pandas.pydata.org/pandas-docs/stable/user_guide/indexing.html#returning-a-view-versus-a-copy\n",
      "  data[col] = pd.to_numeric(data[col], errors=\"ignore\")\n",
      "C:\\Users\\Blake Bullwinkel\\Documents\\Harvard\\Fall 2021\\Capstone\\smartnoise-sdk\\synth\\snsynth\\mwem.py:530: VisibleDeprecationWarning: Creating an ndarray from ragged nested sequences (which is a list-or-tuple of lists-or-tuples-or ndarrays with different lengths or shapes) is deprecated. If you meant to do this, you must specify 'dtype=object' when creating the ndarray\n",
      "  return np.array(s2)\n",
      "C:\\Users\\Blake Bullwinkel\\Documents\\Harvard\\Fall 2021\\Capstone\\smartnoise-sdk\\synth\\snsynth\\mwem.py:223: Warning: Flattened dimensionality of synthetic histogram is less than the number of iterations. This is a privacy risk. Consider increasing your split_factor (especially if it is 1), or decreasing the number of iterations. Dim: 10 Split: [6 7]\n",
      "  warnings.warn(\n"
     ]
    },
    {
     "name": "stdout",
     "output_type": "stream",
     "text": [
      "Completed eps=6.0, rep=8.\n"
     ]
    },
    {
     "name": "stderr",
     "output_type": "stream",
     "text": [
      "C:\\Users\\Public\\anaconda3\\lib\\site-packages\\diffprivlib\\models\\logistic_regression.py:221: PrivacyLeakWarning: Data norm has not been specified and will be calculated on the data provided.  This will result in additional privacy leakage. To ensure differential privacy and no additional privacy leakage, specify `data_norm` at initialisation.\n",
      "  warnings.warn(\"Data norm has not been specified and will be calculated on the data provided.  This will \"\n",
      "C:\\Users\\Public\\anaconda3\\lib\\site-packages\\diffprivlib\\models\\logistic_regression.py:394: ConvergenceWarning: lbfgs failed to converge. Increase the number of iterations.\n",
      "  warnings.warn(\"lbfgs failed to converge. Increase the number of iterations.\", ConvergenceWarning)\n",
      "C:\\Users\\Blake Bullwinkel\\Documents\\Harvard\\Fall 2021\\Capstone\\smartnoise-sdk\\synth\\snsynth\\mwem.py:116: SettingWithCopyWarning: \n",
      "A value is trying to be set on a copy of a slice from a DataFrame.\n",
      "Try using .loc[row_indexer,col_indexer] = value instead\n",
      "\n",
      "See the caveats in the documentation: https://pandas.pydata.org/pandas-docs/stable/user_guide/indexing.html#returning-a-view-versus-a-copy\n",
      "  data[col] = pd.to_numeric(data[col], errors=\"ignore\")\n",
      "C:\\Users\\Blake Bullwinkel\\Documents\\Harvard\\Fall 2021\\Capstone\\smartnoise-sdk\\synth\\snsynth\\mwem.py:530: VisibleDeprecationWarning: Creating an ndarray from ragged nested sequences (which is a list-or-tuple of lists-or-tuples-or ndarrays with different lengths or shapes) is deprecated. If you meant to do this, you must specify 'dtype=object' when creating the ndarray\n",
      "  return np.array(s2)\n",
      "C:\\Users\\Blake Bullwinkel\\Documents\\Harvard\\Fall 2021\\Capstone\\smartnoise-sdk\\synth\\snsynth\\mwem.py:223: Warning: Flattened dimensionality of synthetic histogram is less than the number of iterations. This is a privacy risk. Consider increasing your split_factor (especially if it is 1), or decreasing the number of iterations. Dim: 10 Split: [6 7]\n",
      "  warnings.warn(\n"
     ]
    },
    {
     "name": "stdout",
     "output_type": "stream",
     "text": [
      "Completed eps=6.0, rep=9.\n"
     ]
    },
    {
     "name": "stderr",
     "output_type": "stream",
     "text": [
      "C:\\Users\\Public\\anaconda3\\lib\\site-packages\\diffprivlib\\models\\logistic_regression.py:221: PrivacyLeakWarning: Data norm has not been specified and will be calculated on the data provided.  This will result in additional privacy leakage. To ensure differential privacy and no additional privacy leakage, specify `data_norm` at initialisation.\n",
      "  warnings.warn(\"Data norm has not been specified and will be calculated on the data provided.  This will \"\n",
      "C:\\Users\\Public\\anaconda3\\lib\\site-packages\\diffprivlib\\models\\logistic_regression.py:394: ConvergenceWarning: lbfgs failed to converge. Increase the number of iterations.\n",
      "  warnings.warn(\"lbfgs failed to converge. Increase the number of iterations.\", ConvergenceWarning)\n",
      "C:\\Users\\Blake Bullwinkel\\Documents\\Harvard\\Fall 2021\\Capstone\\smartnoise-sdk\\synth\\snsynth\\mwem.py:116: SettingWithCopyWarning: \n",
      "A value is trying to be set on a copy of a slice from a DataFrame.\n",
      "Try using .loc[row_indexer,col_indexer] = value instead\n",
      "\n",
      "See the caveats in the documentation: https://pandas.pydata.org/pandas-docs/stable/user_guide/indexing.html#returning-a-view-versus-a-copy\n",
      "  data[col] = pd.to_numeric(data[col], errors=\"ignore\")\n",
      "C:\\Users\\Blake Bullwinkel\\Documents\\Harvard\\Fall 2021\\Capstone\\smartnoise-sdk\\synth\\snsynth\\mwem.py:530: VisibleDeprecationWarning: Creating an ndarray from ragged nested sequences (which is a list-or-tuple of lists-or-tuples-or ndarrays with different lengths or shapes) is deprecated. If you meant to do this, you must specify 'dtype=object' when creating the ndarray\n",
      "  return np.array(s2)\n",
      "C:\\Users\\Blake Bullwinkel\\Documents\\Harvard\\Fall 2021\\Capstone\\smartnoise-sdk\\synth\\snsynth\\mwem.py:223: Warning: Flattened dimensionality of synthetic histogram is less than the number of iterations. This is a privacy risk. Consider increasing your split_factor (especially if it is 1), or decreasing the number of iterations. Dim: 10 Split: [6 7]\n",
      "  warnings.warn(\n"
     ]
    },
    {
     "name": "stdout",
     "output_type": "stream",
     "text": [
      "Completed eps=6.0, rep=10.\n"
     ]
    },
    {
     "name": "stderr",
     "output_type": "stream",
     "text": [
      "C:\\Users\\Public\\anaconda3\\lib\\site-packages\\diffprivlib\\models\\logistic_regression.py:221: PrivacyLeakWarning: Data norm has not been specified and will be calculated on the data provided.  This will result in additional privacy leakage. To ensure differential privacy and no additional privacy leakage, specify `data_norm` at initialisation.\n",
      "  warnings.warn(\"Data norm has not been specified and will be calculated on the data provided.  This will \"\n",
      "C:\\Users\\Public\\anaconda3\\lib\\site-packages\\diffprivlib\\models\\logistic_regression.py:394: ConvergenceWarning: lbfgs failed to converge. Increase the number of iterations.\n",
      "  warnings.warn(\"lbfgs failed to converge. Increase the number of iterations.\", ConvergenceWarning)\n",
      "C:\\Users\\Blake Bullwinkel\\Documents\\Harvard\\Fall 2021\\Capstone\\smartnoise-sdk\\synth\\snsynth\\mwem.py:116: SettingWithCopyWarning: \n",
      "A value is trying to be set on a copy of a slice from a DataFrame.\n",
      "Try using .loc[row_indexer,col_indexer] = value instead\n",
      "\n",
      "See the caveats in the documentation: https://pandas.pydata.org/pandas-docs/stable/user_guide/indexing.html#returning-a-view-versus-a-copy\n",
      "  data[col] = pd.to_numeric(data[col], errors=\"ignore\")\n",
      "C:\\Users\\Blake Bullwinkel\\Documents\\Harvard\\Fall 2021\\Capstone\\smartnoise-sdk\\synth\\snsynth\\mwem.py:530: VisibleDeprecationWarning: Creating an ndarray from ragged nested sequences (which is a list-or-tuple of lists-or-tuples-or ndarrays with different lengths or shapes) is deprecated. If you meant to do this, you must specify 'dtype=object' when creating the ndarray\n",
      "  return np.array(s2)\n",
      "C:\\Users\\Blake Bullwinkel\\Documents\\Harvard\\Fall 2021\\Capstone\\smartnoise-sdk\\synth\\snsynth\\mwem.py:223: Warning: Flattened dimensionality of synthetic histogram is less than the number of iterations. This is a privacy risk. Consider increasing your split_factor (especially if it is 1), or decreasing the number of iterations. Dim: 10 Split: [6 7]\n",
      "  warnings.warn(\n"
     ]
    },
    {
     "name": "stdout",
     "output_type": "stream",
     "text": [
      "Completed eps=6.0, rep=11.\n"
     ]
    },
    {
     "name": "stderr",
     "output_type": "stream",
     "text": [
      "C:\\Users\\Public\\anaconda3\\lib\\site-packages\\diffprivlib\\models\\logistic_regression.py:221: PrivacyLeakWarning: Data norm has not been specified and will be calculated on the data provided.  This will result in additional privacy leakage. To ensure differential privacy and no additional privacy leakage, specify `data_norm` at initialisation.\n",
      "  warnings.warn(\"Data norm has not been specified and will be calculated on the data provided.  This will \"\n",
      "C:\\Users\\Public\\anaconda3\\lib\\site-packages\\diffprivlib\\models\\logistic_regression.py:394: ConvergenceWarning: lbfgs failed to converge. Increase the number of iterations.\n",
      "  warnings.warn(\"lbfgs failed to converge. Increase the number of iterations.\", ConvergenceWarning)\n",
      "C:\\Users\\Blake Bullwinkel\\Documents\\Harvard\\Fall 2021\\Capstone\\smartnoise-sdk\\synth\\snsynth\\mwem.py:116: SettingWithCopyWarning: \n",
      "A value is trying to be set on a copy of a slice from a DataFrame.\n",
      "Try using .loc[row_indexer,col_indexer] = value instead\n",
      "\n",
      "See the caveats in the documentation: https://pandas.pydata.org/pandas-docs/stable/user_guide/indexing.html#returning-a-view-versus-a-copy\n",
      "  data[col] = pd.to_numeric(data[col], errors=\"ignore\")\n",
      "C:\\Users\\Blake Bullwinkel\\Documents\\Harvard\\Fall 2021\\Capstone\\smartnoise-sdk\\synth\\snsynth\\mwem.py:530: VisibleDeprecationWarning: Creating an ndarray from ragged nested sequences (which is a list-or-tuple of lists-or-tuples-or ndarrays with different lengths or shapes) is deprecated. If you meant to do this, you must specify 'dtype=object' when creating the ndarray\n",
      "  return np.array(s2)\n",
      "C:\\Users\\Blake Bullwinkel\\Documents\\Harvard\\Fall 2021\\Capstone\\smartnoise-sdk\\synth\\snsynth\\mwem.py:223: Warning: Flattened dimensionality of synthetic histogram is less than the number of iterations. This is a privacy risk. Consider increasing your split_factor (especially if it is 1), or decreasing the number of iterations. Dim: 10 Split: [6 7]\n",
      "  warnings.warn(\n"
     ]
    },
    {
     "name": "stdout",
     "output_type": "stream",
     "text": [
      "Completed eps=6.0, rep=12.\n"
     ]
    },
    {
     "name": "stderr",
     "output_type": "stream",
     "text": [
      "C:\\Users\\Public\\anaconda3\\lib\\site-packages\\diffprivlib\\models\\logistic_regression.py:221: PrivacyLeakWarning: Data norm has not been specified and will be calculated on the data provided.  This will result in additional privacy leakage. To ensure differential privacy and no additional privacy leakage, specify `data_norm` at initialisation.\n",
      "  warnings.warn(\"Data norm has not been specified and will be calculated on the data provided.  This will \"\n",
      "C:\\Users\\Public\\anaconda3\\lib\\site-packages\\diffprivlib\\models\\logistic_regression.py:394: ConvergenceWarning: lbfgs failed to converge. Increase the number of iterations.\n",
      "  warnings.warn(\"lbfgs failed to converge. Increase the number of iterations.\", ConvergenceWarning)\n",
      "C:\\Users\\Blake Bullwinkel\\Documents\\Harvard\\Fall 2021\\Capstone\\smartnoise-sdk\\synth\\snsynth\\mwem.py:116: SettingWithCopyWarning: \n",
      "A value is trying to be set on a copy of a slice from a DataFrame.\n",
      "Try using .loc[row_indexer,col_indexer] = value instead\n",
      "\n",
      "See the caveats in the documentation: https://pandas.pydata.org/pandas-docs/stable/user_guide/indexing.html#returning-a-view-versus-a-copy\n",
      "  data[col] = pd.to_numeric(data[col], errors=\"ignore\")\n",
      "C:\\Users\\Blake Bullwinkel\\Documents\\Harvard\\Fall 2021\\Capstone\\smartnoise-sdk\\synth\\snsynth\\mwem.py:530: VisibleDeprecationWarning: Creating an ndarray from ragged nested sequences (which is a list-or-tuple of lists-or-tuples-or ndarrays with different lengths or shapes) is deprecated. If you meant to do this, you must specify 'dtype=object' when creating the ndarray\n",
      "  return np.array(s2)\n",
      "C:\\Users\\Blake Bullwinkel\\Documents\\Harvard\\Fall 2021\\Capstone\\smartnoise-sdk\\synth\\snsynth\\mwem.py:223: Warning: Flattened dimensionality of synthetic histogram is less than the number of iterations. This is a privacy risk. Consider increasing your split_factor (especially if it is 1), or decreasing the number of iterations. Dim: 10 Split: [6 7]\n",
      "  warnings.warn(\n"
     ]
    },
    {
     "name": "stdout",
     "output_type": "stream",
     "text": [
      "Completed eps=6.0, rep=13.\n"
     ]
    },
    {
     "name": "stderr",
     "output_type": "stream",
     "text": [
      "C:\\Users\\Public\\anaconda3\\lib\\site-packages\\diffprivlib\\models\\logistic_regression.py:221: PrivacyLeakWarning: Data norm has not been specified and will be calculated on the data provided.  This will result in additional privacy leakage. To ensure differential privacy and no additional privacy leakage, specify `data_norm` at initialisation.\n",
      "  warnings.warn(\"Data norm has not been specified and will be calculated on the data provided.  This will \"\n",
      "C:\\Users\\Public\\anaconda3\\lib\\site-packages\\diffprivlib\\models\\logistic_regression.py:394: ConvergenceWarning: lbfgs failed to converge. Increase the number of iterations.\n",
      "  warnings.warn(\"lbfgs failed to converge. Increase the number of iterations.\", ConvergenceWarning)\n",
      "C:\\Users\\Blake Bullwinkel\\Documents\\Harvard\\Fall 2021\\Capstone\\smartnoise-sdk\\synth\\snsynth\\mwem.py:116: SettingWithCopyWarning: \n",
      "A value is trying to be set on a copy of a slice from a DataFrame.\n",
      "Try using .loc[row_indexer,col_indexer] = value instead\n",
      "\n",
      "See the caveats in the documentation: https://pandas.pydata.org/pandas-docs/stable/user_guide/indexing.html#returning-a-view-versus-a-copy\n",
      "  data[col] = pd.to_numeric(data[col], errors=\"ignore\")\n",
      "C:\\Users\\Blake Bullwinkel\\Documents\\Harvard\\Fall 2021\\Capstone\\smartnoise-sdk\\synth\\snsynth\\mwem.py:530: VisibleDeprecationWarning: Creating an ndarray from ragged nested sequences (which is a list-or-tuple of lists-or-tuples-or ndarrays with different lengths or shapes) is deprecated. If you meant to do this, you must specify 'dtype=object' when creating the ndarray\n",
      "  return np.array(s2)\n",
      "C:\\Users\\Blake Bullwinkel\\Documents\\Harvard\\Fall 2021\\Capstone\\smartnoise-sdk\\synth\\snsynth\\mwem.py:223: Warning: Flattened dimensionality of synthetic histogram is less than the number of iterations. This is a privacy risk. Consider increasing your split_factor (especially if it is 1), or decreasing the number of iterations. Dim: 10 Split: [6 7]\n",
      "  warnings.warn(\n"
     ]
    },
    {
     "name": "stdout",
     "output_type": "stream",
     "text": [
      "Completed eps=6.0, rep=14.\n"
     ]
    },
    {
     "name": "stderr",
     "output_type": "stream",
     "text": [
      "C:\\Users\\Public\\anaconda3\\lib\\site-packages\\diffprivlib\\models\\logistic_regression.py:221: PrivacyLeakWarning: Data norm has not been specified and will be calculated on the data provided.  This will result in additional privacy leakage. To ensure differential privacy and no additional privacy leakage, specify `data_norm` at initialisation.\n",
      "  warnings.warn(\"Data norm has not been specified and will be calculated on the data provided.  This will \"\n",
      "C:\\Users\\Public\\anaconda3\\lib\\site-packages\\diffprivlib\\models\\logistic_regression.py:394: ConvergenceWarning: lbfgs failed to converge. Increase the number of iterations.\n",
      "  warnings.warn(\"lbfgs failed to converge. Increase the number of iterations.\", ConvergenceWarning)\n",
      "C:\\Users\\Blake Bullwinkel\\Documents\\Harvard\\Fall 2021\\Capstone\\smartnoise-sdk\\synth\\snsynth\\mwem.py:116: SettingWithCopyWarning: \n",
      "A value is trying to be set on a copy of a slice from a DataFrame.\n",
      "Try using .loc[row_indexer,col_indexer] = value instead\n",
      "\n",
      "See the caveats in the documentation: https://pandas.pydata.org/pandas-docs/stable/user_guide/indexing.html#returning-a-view-versus-a-copy\n",
      "  data[col] = pd.to_numeric(data[col], errors=\"ignore\")\n",
      "C:\\Users\\Blake Bullwinkel\\Documents\\Harvard\\Fall 2021\\Capstone\\smartnoise-sdk\\synth\\snsynth\\mwem.py:530: VisibleDeprecationWarning: Creating an ndarray from ragged nested sequences (which is a list-or-tuple of lists-or-tuples-or ndarrays with different lengths or shapes) is deprecated. If you meant to do this, you must specify 'dtype=object' when creating the ndarray\n",
      "  return np.array(s2)\n",
      "C:\\Users\\Blake Bullwinkel\\Documents\\Harvard\\Fall 2021\\Capstone\\smartnoise-sdk\\synth\\snsynth\\mwem.py:223: Warning: Flattened dimensionality of synthetic histogram is less than the number of iterations. This is a privacy risk. Consider increasing your split_factor (especially if it is 1), or decreasing the number of iterations. Dim: 10 Split: [6 7]\n",
      "  warnings.warn(\n"
     ]
    },
    {
     "name": "stdout",
     "output_type": "stream",
     "text": [
      "Completed eps=6.0, rep=15.\n"
     ]
    },
    {
     "name": "stderr",
     "output_type": "stream",
     "text": [
      "C:\\Users\\Public\\anaconda3\\lib\\site-packages\\diffprivlib\\models\\logistic_regression.py:221: PrivacyLeakWarning: Data norm has not been specified and will be calculated on the data provided.  This will result in additional privacy leakage. To ensure differential privacy and no additional privacy leakage, specify `data_norm` at initialisation.\n",
      "  warnings.warn(\"Data norm has not been specified and will be calculated on the data provided.  This will \"\n",
      "C:\\Users\\Blake Bullwinkel\\Documents\\Harvard\\Fall 2021\\Capstone\\smartnoise-sdk\\synth\\snsynth\\mwem.py:116: SettingWithCopyWarning: \n",
      "A value is trying to be set on a copy of a slice from a DataFrame.\n",
      "Try using .loc[row_indexer,col_indexer] = value instead\n",
      "\n",
      "See the caveats in the documentation: https://pandas.pydata.org/pandas-docs/stable/user_guide/indexing.html#returning-a-view-versus-a-copy\n",
      "  data[col] = pd.to_numeric(data[col], errors=\"ignore\")\n",
      "C:\\Users\\Blake Bullwinkel\\Documents\\Harvard\\Fall 2021\\Capstone\\smartnoise-sdk\\synth\\snsynth\\mwem.py:530: VisibleDeprecationWarning: Creating an ndarray from ragged nested sequences (which is a list-or-tuple of lists-or-tuples-or ndarrays with different lengths or shapes) is deprecated. If you meant to do this, you must specify 'dtype=object' when creating the ndarray\n",
      "  return np.array(s2)\n",
      "C:\\Users\\Blake Bullwinkel\\Documents\\Harvard\\Fall 2021\\Capstone\\smartnoise-sdk\\synth\\snsynth\\mwem.py:223: Warning: Flattened dimensionality of synthetic histogram is less than the number of iterations. This is a privacy risk. Consider increasing your split_factor (especially if it is 1), or decreasing the number of iterations. Dim: 10 Split: [6 7]\n",
      "  warnings.warn(\n"
     ]
    },
    {
     "name": "stdout",
     "output_type": "stream",
     "text": [
      "Completed eps=7.0, rep=1.\n"
     ]
    },
    {
     "name": "stderr",
     "output_type": "stream",
     "text": [
      "C:\\Users\\Public\\anaconda3\\lib\\site-packages\\diffprivlib\\models\\logistic_regression.py:221: PrivacyLeakWarning: Data norm has not been specified and will be calculated on the data provided.  This will result in additional privacy leakage. To ensure differential privacy and no additional privacy leakage, specify `data_norm` at initialisation.\n",
      "  warnings.warn(\"Data norm has not been specified and will be calculated on the data provided.  This will \"\n",
      "C:\\Users\\Public\\anaconda3\\lib\\site-packages\\diffprivlib\\models\\logistic_regression.py:394: ConvergenceWarning: lbfgs failed to converge. Increase the number of iterations.\n",
      "  warnings.warn(\"lbfgs failed to converge. Increase the number of iterations.\", ConvergenceWarning)\n",
      "C:\\Users\\Blake Bullwinkel\\Documents\\Harvard\\Fall 2021\\Capstone\\smartnoise-sdk\\synth\\snsynth\\mwem.py:116: SettingWithCopyWarning: \n",
      "A value is trying to be set on a copy of a slice from a DataFrame.\n",
      "Try using .loc[row_indexer,col_indexer] = value instead\n",
      "\n",
      "See the caveats in the documentation: https://pandas.pydata.org/pandas-docs/stable/user_guide/indexing.html#returning-a-view-versus-a-copy\n",
      "  data[col] = pd.to_numeric(data[col], errors=\"ignore\")\n",
      "C:\\Users\\Blake Bullwinkel\\Documents\\Harvard\\Fall 2021\\Capstone\\smartnoise-sdk\\synth\\snsynth\\mwem.py:530: VisibleDeprecationWarning: Creating an ndarray from ragged nested sequences (which is a list-or-tuple of lists-or-tuples-or ndarrays with different lengths or shapes) is deprecated. If you meant to do this, you must specify 'dtype=object' when creating the ndarray\n",
      "  return np.array(s2)\n",
      "C:\\Users\\Blake Bullwinkel\\Documents\\Harvard\\Fall 2021\\Capstone\\smartnoise-sdk\\synth\\snsynth\\mwem.py:223: Warning: Flattened dimensionality of synthetic histogram is less than the number of iterations. This is a privacy risk. Consider increasing your split_factor (especially if it is 1), or decreasing the number of iterations. Dim: 10 Split: [6 7]\n",
      "  warnings.warn(\n"
     ]
    },
    {
     "name": "stdout",
     "output_type": "stream",
     "text": [
      "Completed eps=7.0, rep=2.\n"
     ]
    },
    {
     "name": "stderr",
     "output_type": "stream",
     "text": [
      "C:\\Users\\Public\\anaconda3\\lib\\site-packages\\diffprivlib\\models\\logistic_regression.py:221: PrivacyLeakWarning: Data norm has not been specified and will be calculated on the data provided.  This will result in additional privacy leakage. To ensure differential privacy and no additional privacy leakage, specify `data_norm` at initialisation.\n",
      "  warnings.warn(\"Data norm has not been specified and will be calculated on the data provided.  This will \"\n",
      "C:\\Users\\Public\\anaconda3\\lib\\site-packages\\diffprivlib\\models\\logistic_regression.py:394: ConvergenceWarning: lbfgs failed to converge. Increase the number of iterations.\n",
      "  warnings.warn(\"lbfgs failed to converge. Increase the number of iterations.\", ConvergenceWarning)\n",
      "C:\\Users\\Blake Bullwinkel\\Documents\\Harvard\\Fall 2021\\Capstone\\smartnoise-sdk\\synth\\snsynth\\mwem.py:116: SettingWithCopyWarning: \n",
      "A value is trying to be set on a copy of a slice from a DataFrame.\n",
      "Try using .loc[row_indexer,col_indexer] = value instead\n",
      "\n",
      "See the caveats in the documentation: https://pandas.pydata.org/pandas-docs/stable/user_guide/indexing.html#returning-a-view-versus-a-copy\n",
      "  data[col] = pd.to_numeric(data[col], errors=\"ignore\")\n",
      "C:\\Users\\Blake Bullwinkel\\Documents\\Harvard\\Fall 2021\\Capstone\\smartnoise-sdk\\synth\\snsynth\\mwem.py:530: VisibleDeprecationWarning: Creating an ndarray from ragged nested sequences (which is a list-or-tuple of lists-or-tuples-or ndarrays with different lengths or shapes) is deprecated. If you meant to do this, you must specify 'dtype=object' when creating the ndarray\n",
      "  return np.array(s2)\n",
      "C:\\Users\\Blake Bullwinkel\\Documents\\Harvard\\Fall 2021\\Capstone\\smartnoise-sdk\\synth\\snsynth\\mwem.py:223: Warning: Flattened dimensionality of synthetic histogram is less than the number of iterations. This is a privacy risk. Consider increasing your split_factor (especially if it is 1), or decreasing the number of iterations. Dim: 10 Split: [6 7]\n",
      "  warnings.warn(\n"
     ]
    },
    {
     "name": "stdout",
     "output_type": "stream",
     "text": [
      "Completed eps=7.0, rep=3.\n"
     ]
    },
    {
     "name": "stderr",
     "output_type": "stream",
     "text": [
      "C:\\Users\\Public\\anaconda3\\lib\\site-packages\\diffprivlib\\models\\logistic_regression.py:221: PrivacyLeakWarning: Data norm has not been specified and will be calculated on the data provided.  This will result in additional privacy leakage. To ensure differential privacy and no additional privacy leakage, specify `data_norm` at initialisation.\n",
      "  warnings.warn(\"Data norm has not been specified and will be calculated on the data provided.  This will \"\n",
      "C:\\Users\\Public\\anaconda3\\lib\\site-packages\\diffprivlib\\models\\logistic_regression.py:394: ConvergenceWarning: lbfgs failed to converge. Increase the number of iterations.\n",
      "  warnings.warn(\"lbfgs failed to converge. Increase the number of iterations.\", ConvergenceWarning)\n",
      "C:\\Users\\Blake Bullwinkel\\Documents\\Harvard\\Fall 2021\\Capstone\\smartnoise-sdk\\synth\\snsynth\\mwem.py:116: SettingWithCopyWarning: \n",
      "A value is trying to be set on a copy of a slice from a DataFrame.\n",
      "Try using .loc[row_indexer,col_indexer] = value instead\n",
      "\n",
      "See the caveats in the documentation: https://pandas.pydata.org/pandas-docs/stable/user_guide/indexing.html#returning-a-view-versus-a-copy\n",
      "  data[col] = pd.to_numeric(data[col], errors=\"ignore\")\n",
      "C:\\Users\\Blake Bullwinkel\\Documents\\Harvard\\Fall 2021\\Capstone\\smartnoise-sdk\\synth\\snsynth\\mwem.py:530: VisibleDeprecationWarning: Creating an ndarray from ragged nested sequences (which is a list-or-tuple of lists-or-tuples-or ndarrays with different lengths or shapes) is deprecated. If you meant to do this, you must specify 'dtype=object' when creating the ndarray\n",
      "  return np.array(s2)\n",
      "C:\\Users\\Blake Bullwinkel\\Documents\\Harvard\\Fall 2021\\Capstone\\smartnoise-sdk\\synth\\snsynth\\mwem.py:223: Warning: Flattened dimensionality of synthetic histogram is less than the number of iterations. This is a privacy risk. Consider increasing your split_factor (especially if it is 1), or decreasing the number of iterations. Dim: 10 Split: [6 7]\n",
      "  warnings.warn(\n"
     ]
    },
    {
     "name": "stdout",
     "output_type": "stream",
     "text": [
      "Completed eps=7.0, rep=4.\n"
     ]
    },
    {
     "name": "stderr",
     "output_type": "stream",
     "text": [
      "C:\\Users\\Public\\anaconda3\\lib\\site-packages\\diffprivlib\\models\\logistic_regression.py:221: PrivacyLeakWarning: Data norm has not been specified and will be calculated on the data provided.  This will result in additional privacy leakage. To ensure differential privacy and no additional privacy leakage, specify `data_norm` at initialisation.\n",
      "  warnings.warn(\"Data norm has not been specified and will be calculated on the data provided.  This will \"\n",
      "C:\\Users\\Public\\anaconda3\\lib\\site-packages\\diffprivlib\\models\\logistic_regression.py:394: ConvergenceWarning: lbfgs failed to converge. Increase the number of iterations.\n",
      "  warnings.warn(\"lbfgs failed to converge. Increase the number of iterations.\", ConvergenceWarning)\n",
      "C:\\Users\\Blake Bullwinkel\\Documents\\Harvard\\Fall 2021\\Capstone\\smartnoise-sdk\\synth\\snsynth\\mwem.py:116: SettingWithCopyWarning: \n",
      "A value is trying to be set on a copy of a slice from a DataFrame.\n",
      "Try using .loc[row_indexer,col_indexer] = value instead\n",
      "\n",
      "See the caveats in the documentation: https://pandas.pydata.org/pandas-docs/stable/user_guide/indexing.html#returning-a-view-versus-a-copy\n",
      "  data[col] = pd.to_numeric(data[col], errors=\"ignore\")\n",
      "C:\\Users\\Blake Bullwinkel\\Documents\\Harvard\\Fall 2021\\Capstone\\smartnoise-sdk\\synth\\snsynth\\mwem.py:530: VisibleDeprecationWarning: Creating an ndarray from ragged nested sequences (which is a list-or-tuple of lists-or-tuples-or ndarrays with different lengths or shapes) is deprecated. If you meant to do this, you must specify 'dtype=object' when creating the ndarray\n",
      "  return np.array(s2)\n",
      "C:\\Users\\Blake Bullwinkel\\Documents\\Harvard\\Fall 2021\\Capstone\\smartnoise-sdk\\synth\\snsynth\\mwem.py:223: Warning: Flattened dimensionality of synthetic histogram is less than the number of iterations. This is a privacy risk. Consider increasing your split_factor (especially if it is 1), or decreasing the number of iterations. Dim: 10 Split: [6 7]\n",
      "  warnings.warn(\n"
     ]
    },
    {
     "name": "stdout",
     "output_type": "stream",
     "text": [
      "Completed eps=7.0, rep=5.\n"
     ]
    },
    {
     "name": "stderr",
     "output_type": "stream",
     "text": [
      "C:\\Users\\Public\\anaconda3\\lib\\site-packages\\diffprivlib\\models\\logistic_regression.py:221: PrivacyLeakWarning: Data norm has not been specified and will be calculated on the data provided.  This will result in additional privacy leakage. To ensure differential privacy and no additional privacy leakage, specify `data_norm` at initialisation.\n",
      "  warnings.warn(\"Data norm has not been specified and will be calculated on the data provided.  This will \"\n",
      "C:\\Users\\Public\\anaconda3\\lib\\site-packages\\diffprivlib\\models\\logistic_regression.py:394: ConvergenceWarning: lbfgs failed to converge. Increase the number of iterations.\n",
      "  warnings.warn(\"lbfgs failed to converge. Increase the number of iterations.\", ConvergenceWarning)\n",
      "C:\\Users\\Blake Bullwinkel\\Documents\\Harvard\\Fall 2021\\Capstone\\smartnoise-sdk\\synth\\snsynth\\mwem.py:116: SettingWithCopyWarning: \n",
      "A value is trying to be set on a copy of a slice from a DataFrame.\n",
      "Try using .loc[row_indexer,col_indexer] = value instead\n",
      "\n",
      "See the caveats in the documentation: https://pandas.pydata.org/pandas-docs/stable/user_guide/indexing.html#returning-a-view-versus-a-copy\n",
      "  data[col] = pd.to_numeric(data[col], errors=\"ignore\")\n",
      "C:\\Users\\Blake Bullwinkel\\Documents\\Harvard\\Fall 2021\\Capstone\\smartnoise-sdk\\synth\\snsynth\\mwem.py:530: VisibleDeprecationWarning: Creating an ndarray from ragged nested sequences (which is a list-or-tuple of lists-or-tuples-or ndarrays with different lengths or shapes) is deprecated. If you meant to do this, you must specify 'dtype=object' when creating the ndarray\n",
      "  return np.array(s2)\n",
      "C:\\Users\\Blake Bullwinkel\\Documents\\Harvard\\Fall 2021\\Capstone\\smartnoise-sdk\\synth\\snsynth\\mwem.py:223: Warning: Flattened dimensionality of synthetic histogram is less than the number of iterations. This is a privacy risk. Consider increasing your split_factor (especially if it is 1), or decreasing the number of iterations. Dim: 10 Split: [6 7]\n",
      "  warnings.warn(\n"
     ]
    },
    {
     "name": "stdout",
     "output_type": "stream",
     "text": [
      "Completed eps=7.0, rep=6.\n"
     ]
    },
    {
     "name": "stderr",
     "output_type": "stream",
     "text": [
      "C:\\Users\\Public\\anaconda3\\lib\\site-packages\\diffprivlib\\models\\logistic_regression.py:221: PrivacyLeakWarning: Data norm has not been specified and will be calculated on the data provided.  This will result in additional privacy leakage. To ensure differential privacy and no additional privacy leakage, specify `data_norm` at initialisation.\n",
      "  warnings.warn(\"Data norm has not been specified and will be calculated on the data provided.  This will \"\n",
      "C:\\Users\\Public\\anaconda3\\lib\\site-packages\\diffprivlib\\models\\logistic_regression.py:394: ConvergenceWarning: lbfgs failed to converge. Increase the number of iterations.\n",
      "  warnings.warn(\"lbfgs failed to converge. Increase the number of iterations.\", ConvergenceWarning)\n",
      "C:\\Users\\Blake Bullwinkel\\Documents\\Harvard\\Fall 2021\\Capstone\\smartnoise-sdk\\synth\\snsynth\\mwem.py:116: SettingWithCopyWarning: \n",
      "A value is trying to be set on a copy of a slice from a DataFrame.\n",
      "Try using .loc[row_indexer,col_indexer] = value instead\n",
      "\n",
      "See the caveats in the documentation: https://pandas.pydata.org/pandas-docs/stable/user_guide/indexing.html#returning-a-view-versus-a-copy\n",
      "  data[col] = pd.to_numeric(data[col], errors=\"ignore\")\n",
      "C:\\Users\\Blake Bullwinkel\\Documents\\Harvard\\Fall 2021\\Capstone\\smartnoise-sdk\\synth\\snsynth\\mwem.py:530: VisibleDeprecationWarning: Creating an ndarray from ragged nested sequences (which is a list-or-tuple of lists-or-tuples-or ndarrays with different lengths or shapes) is deprecated. If you meant to do this, you must specify 'dtype=object' when creating the ndarray\n",
      "  return np.array(s2)\n",
      "C:\\Users\\Blake Bullwinkel\\Documents\\Harvard\\Fall 2021\\Capstone\\smartnoise-sdk\\synth\\snsynth\\mwem.py:223: Warning: Flattened dimensionality of synthetic histogram is less than the number of iterations. This is a privacy risk. Consider increasing your split_factor (especially if it is 1), or decreasing the number of iterations. Dim: 10 Split: [6 7]\n",
      "  warnings.warn(\n"
     ]
    },
    {
     "name": "stdout",
     "output_type": "stream",
     "text": [
      "Completed eps=7.0, rep=7.\n"
     ]
    },
    {
     "name": "stderr",
     "output_type": "stream",
     "text": [
      "C:\\Users\\Public\\anaconda3\\lib\\site-packages\\diffprivlib\\models\\logistic_regression.py:221: PrivacyLeakWarning: Data norm has not been specified and will be calculated on the data provided.  This will result in additional privacy leakage. To ensure differential privacy and no additional privacy leakage, specify `data_norm` at initialisation.\n",
      "  warnings.warn(\"Data norm has not been specified and will be calculated on the data provided.  This will \"\n",
      "C:\\Users\\Public\\anaconda3\\lib\\site-packages\\diffprivlib\\models\\logistic_regression.py:394: ConvergenceWarning: lbfgs failed to converge. Increase the number of iterations.\n",
      "  warnings.warn(\"lbfgs failed to converge. Increase the number of iterations.\", ConvergenceWarning)\n",
      "C:\\Users\\Blake Bullwinkel\\Documents\\Harvard\\Fall 2021\\Capstone\\smartnoise-sdk\\synth\\snsynth\\mwem.py:116: SettingWithCopyWarning: \n",
      "A value is trying to be set on a copy of a slice from a DataFrame.\n",
      "Try using .loc[row_indexer,col_indexer] = value instead\n",
      "\n",
      "See the caveats in the documentation: https://pandas.pydata.org/pandas-docs/stable/user_guide/indexing.html#returning-a-view-versus-a-copy\n",
      "  data[col] = pd.to_numeric(data[col], errors=\"ignore\")\n",
      "C:\\Users\\Blake Bullwinkel\\Documents\\Harvard\\Fall 2021\\Capstone\\smartnoise-sdk\\synth\\snsynth\\mwem.py:530: VisibleDeprecationWarning: Creating an ndarray from ragged nested sequences (which is a list-or-tuple of lists-or-tuples-or ndarrays with different lengths or shapes) is deprecated. If you meant to do this, you must specify 'dtype=object' when creating the ndarray\n",
      "  return np.array(s2)\n",
      "C:\\Users\\Blake Bullwinkel\\Documents\\Harvard\\Fall 2021\\Capstone\\smartnoise-sdk\\synth\\snsynth\\mwem.py:223: Warning: Flattened dimensionality of synthetic histogram is less than the number of iterations. This is a privacy risk. Consider increasing your split_factor (especially if it is 1), or decreasing the number of iterations. Dim: 10 Split: [6 7]\n",
      "  warnings.warn(\n"
     ]
    },
    {
     "name": "stdout",
     "output_type": "stream",
     "text": [
      "Completed eps=7.0, rep=8.\n"
     ]
    },
    {
     "name": "stderr",
     "output_type": "stream",
     "text": [
      "C:\\Users\\Public\\anaconda3\\lib\\site-packages\\diffprivlib\\models\\logistic_regression.py:221: PrivacyLeakWarning: Data norm has not been specified and will be calculated on the data provided.  This will result in additional privacy leakage. To ensure differential privacy and no additional privacy leakage, specify `data_norm` at initialisation.\n",
      "  warnings.warn(\"Data norm has not been specified and will be calculated on the data provided.  This will \"\n",
      "C:\\Users\\Public\\anaconda3\\lib\\site-packages\\diffprivlib\\models\\logistic_regression.py:394: ConvergenceWarning: lbfgs failed to converge. Increase the number of iterations.\n",
      "  warnings.warn(\"lbfgs failed to converge. Increase the number of iterations.\", ConvergenceWarning)\n",
      "C:\\Users\\Blake Bullwinkel\\Documents\\Harvard\\Fall 2021\\Capstone\\smartnoise-sdk\\synth\\snsynth\\mwem.py:116: SettingWithCopyWarning: \n",
      "A value is trying to be set on a copy of a slice from a DataFrame.\n",
      "Try using .loc[row_indexer,col_indexer] = value instead\n",
      "\n",
      "See the caveats in the documentation: https://pandas.pydata.org/pandas-docs/stable/user_guide/indexing.html#returning-a-view-versus-a-copy\n",
      "  data[col] = pd.to_numeric(data[col], errors=\"ignore\")\n",
      "C:\\Users\\Blake Bullwinkel\\Documents\\Harvard\\Fall 2021\\Capstone\\smartnoise-sdk\\synth\\snsynth\\mwem.py:530: VisibleDeprecationWarning: Creating an ndarray from ragged nested sequences (which is a list-or-tuple of lists-or-tuples-or ndarrays with different lengths or shapes) is deprecated. If you meant to do this, you must specify 'dtype=object' when creating the ndarray\n",
      "  return np.array(s2)\n",
      "C:\\Users\\Blake Bullwinkel\\Documents\\Harvard\\Fall 2021\\Capstone\\smartnoise-sdk\\synth\\snsynth\\mwem.py:223: Warning: Flattened dimensionality of synthetic histogram is less than the number of iterations. This is a privacy risk. Consider increasing your split_factor (especially if it is 1), or decreasing the number of iterations. Dim: 10 Split: [6 7]\n",
      "  warnings.warn(\n"
     ]
    },
    {
     "name": "stdout",
     "output_type": "stream",
     "text": [
      "Completed eps=7.0, rep=9.\n"
     ]
    },
    {
     "name": "stderr",
     "output_type": "stream",
     "text": [
      "C:\\Users\\Public\\anaconda3\\lib\\site-packages\\diffprivlib\\models\\logistic_regression.py:221: PrivacyLeakWarning: Data norm has not been specified and will be calculated on the data provided.  This will result in additional privacy leakage. To ensure differential privacy and no additional privacy leakage, specify `data_norm` at initialisation.\n",
      "  warnings.warn(\"Data norm has not been specified and will be calculated on the data provided.  This will \"\n",
      "C:\\Users\\Public\\anaconda3\\lib\\site-packages\\diffprivlib\\models\\logistic_regression.py:394: ConvergenceWarning: lbfgs failed to converge. Increase the number of iterations.\n",
      "  warnings.warn(\"lbfgs failed to converge. Increase the number of iterations.\", ConvergenceWarning)\n",
      "C:\\Users\\Blake Bullwinkel\\Documents\\Harvard\\Fall 2021\\Capstone\\smartnoise-sdk\\synth\\snsynth\\mwem.py:116: SettingWithCopyWarning: \n",
      "A value is trying to be set on a copy of a slice from a DataFrame.\n",
      "Try using .loc[row_indexer,col_indexer] = value instead\n",
      "\n",
      "See the caveats in the documentation: https://pandas.pydata.org/pandas-docs/stable/user_guide/indexing.html#returning-a-view-versus-a-copy\n",
      "  data[col] = pd.to_numeric(data[col], errors=\"ignore\")\n",
      "C:\\Users\\Blake Bullwinkel\\Documents\\Harvard\\Fall 2021\\Capstone\\smartnoise-sdk\\synth\\snsynth\\mwem.py:530: VisibleDeprecationWarning: Creating an ndarray from ragged nested sequences (which is a list-or-tuple of lists-or-tuples-or ndarrays with different lengths or shapes) is deprecated. If you meant to do this, you must specify 'dtype=object' when creating the ndarray\n",
      "  return np.array(s2)\n",
      "C:\\Users\\Blake Bullwinkel\\Documents\\Harvard\\Fall 2021\\Capstone\\smartnoise-sdk\\synth\\snsynth\\mwem.py:223: Warning: Flattened dimensionality of synthetic histogram is less than the number of iterations. This is a privacy risk. Consider increasing your split_factor (especially if it is 1), or decreasing the number of iterations. Dim: 10 Split: [6 7]\n",
      "  warnings.warn(\n"
     ]
    },
    {
     "name": "stdout",
     "output_type": "stream",
     "text": [
      "Completed eps=7.0, rep=10.\n"
     ]
    },
    {
     "name": "stderr",
     "output_type": "stream",
     "text": [
      "C:\\Users\\Public\\anaconda3\\lib\\site-packages\\diffprivlib\\models\\logistic_regression.py:221: PrivacyLeakWarning: Data norm has not been specified and will be calculated on the data provided.  This will result in additional privacy leakage. To ensure differential privacy and no additional privacy leakage, specify `data_norm` at initialisation.\n",
      "  warnings.warn(\"Data norm has not been specified and will be calculated on the data provided.  This will \"\n",
      "C:\\Users\\Public\\anaconda3\\lib\\site-packages\\diffprivlib\\models\\logistic_regression.py:394: ConvergenceWarning: lbfgs failed to converge. Increase the number of iterations.\n",
      "  warnings.warn(\"lbfgs failed to converge. Increase the number of iterations.\", ConvergenceWarning)\n",
      "C:\\Users\\Blake Bullwinkel\\Documents\\Harvard\\Fall 2021\\Capstone\\smartnoise-sdk\\synth\\snsynth\\mwem.py:116: SettingWithCopyWarning: \n",
      "A value is trying to be set on a copy of a slice from a DataFrame.\n",
      "Try using .loc[row_indexer,col_indexer] = value instead\n",
      "\n",
      "See the caveats in the documentation: https://pandas.pydata.org/pandas-docs/stable/user_guide/indexing.html#returning-a-view-versus-a-copy\n",
      "  data[col] = pd.to_numeric(data[col], errors=\"ignore\")\n",
      "C:\\Users\\Blake Bullwinkel\\Documents\\Harvard\\Fall 2021\\Capstone\\smartnoise-sdk\\synth\\snsynth\\mwem.py:530: VisibleDeprecationWarning: Creating an ndarray from ragged nested sequences (which is a list-or-tuple of lists-or-tuples-or ndarrays with different lengths or shapes) is deprecated. If you meant to do this, you must specify 'dtype=object' when creating the ndarray\n",
      "  return np.array(s2)\n",
      "C:\\Users\\Blake Bullwinkel\\Documents\\Harvard\\Fall 2021\\Capstone\\smartnoise-sdk\\synth\\snsynth\\mwem.py:223: Warning: Flattened dimensionality of synthetic histogram is less than the number of iterations. This is a privacy risk. Consider increasing your split_factor (especially if it is 1), or decreasing the number of iterations. Dim: 10 Split: [6 7]\n",
      "  warnings.warn(\n"
     ]
    },
    {
     "name": "stdout",
     "output_type": "stream",
     "text": [
      "Completed eps=7.0, rep=11.\n"
     ]
    },
    {
     "name": "stderr",
     "output_type": "stream",
     "text": [
      "C:\\Users\\Public\\anaconda3\\lib\\site-packages\\diffprivlib\\models\\logistic_regression.py:221: PrivacyLeakWarning: Data norm has not been specified and will be calculated on the data provided.  This will result in additional privacy leakage. To ensure differential privacy and no additional privacy leakage, specify `data_norm` at initialisation.\n",
      "  warnings.warn(\"Data norm has not been specified and will be calculated on the data provided.  This will \"\n",
      "C:\\Users\\Public\\anaconda3\\lib\\site-packages\\diffprivlib\\models\\logistic_regression.py:394: ConvergenceWarning: lbfgs failed to converge. Increase the number of iterations.\n",
      "  warnings.warn(\"lbfgs failed to converge. Increase the number of iterations.\", ConvergenceWarning)\n",
      "C:\\Users\\Blake Bullwinkel\\Documents\\Harvard\\Fall 2021\\Capstone\\smartnoise-sdk\\synth\\snsynth\\mwem.py:116: SettingWithCopyWarning: \n",
      "A value is trying to be set on a copy of a slice from a DataFrame.\n",
      "Try using .loc[row_indexer,col_indexer] = value instead\n",
      "\n",
      "See the caveats in the documentation: https://pandas.pydata.org/pandas-docs/stable/user_guide/indexing.html#returning-a-view-versus-a-copy\n",
      "  data[col] = pd.to_numeric(data[col], errors=\"ignore\")\n",
      "C:\\Users\\Blake Bullwinkel\\Documents\\Harvard\\Fall 2021\\Capstone\\smartnoise-sdk\\synth\\snsynth\\mwem.py:530: VisibleDeprecationWarning: Creating an ndarray from ragged nested sequences (which is a list-or-tuple of lists-or-tuples-or ndarrays with different lengths or shapes) is deprecated. If you meant to do this, you must specify 'dtype=object' when creating the ndarray\n",
      "  return np.array(s2)\n",
      "C:\\Users\\Blake Bullwinkel\\Documents\\Harvard\\Fall 2021\\Capstone\\smartnoise-sdk\\synth\\snsynth\\mwem.py:223: Warning: Flattened dimensionality of synthetic histogram is less than the number of iterations. This is a privacy risk. Consider increasing your split_factor (especially if it is 1), or decreasing the number of iterations. Dim: 10 Split: [6 7]\n",
      "  warnings.warn(\n"
     ]
    },
    {
     "name": "stdout",
     "output_type": "stream",
     "text": [
      "Completed eps=7.0, rep=12.\n"
     ]
    },
    {
     "name": "stderr",
     "output_type": "stream",
     "text": [
      "C:\\Users\\Public\\anaconda3\\lib\\site-packages\\diffprivlib\\models\\logistic_regression.py:221: PrivacyLeakWarning: Data norm has not been specified and will be calculated on the data provided.  This will result in additional privacy leakage. To ensure differential privacy and no additional privacy leakage, specify `data_norm` at initialisation.\n",
      "  warnings.warn(\"Data norm has not been specified and will be calculated on the data provided.  This will \"\n",
      "C:\\Users\\Public\\anaconda3\\lib\\site-packages\\diffprivlib\\models\\logistic_regression.py:394: ConvergenceWarning: lbfgs failed to converge. Increase the number of iterations.\n",
      "  warnings.warn(\"lbfgs failed to converge. Increase the number of iterations.\", ConvergenceWarning)\n",
      "C:\\Users\\Blake Bullwinkel\\Documents\\Harvard\\Fall 2021\\Capstone\\smartnoise-sdk\\synth\\snsynth\\mwem.py:116: SettingWithCopyWarning: \n",
      "A value is trying to be set on a copy of a slice from a DataFrame.\n",
      "Try using .loc[row_indexer,col_indexer] = value instead\n",
      "\n",
      "See the caveats in the documentation: https://pandas.pydata.org/pandas-docs/stable/user_guide/indexing.html#returning-a-view-versus-a-copy\n",
      "  data[col] = pd.to_numeric(data[col], errors=\"ignore\")\n",
      "C:\\Users\\Blake Bullwinkel\\Documents\\Harvard\\Fall 2021\\Capstone\\smartnoise-sdk\\synth\\snsynth\\mwem.py:530: VisibleDeprecationWarning: Creating an ndarray from ragged nested sequences (which is a list-or-tuple of lists-or-tuples-or ndarrays with different lengths or shapes) is deprecated. If you meant to do this, you must specify 'dtype=object' when creating the ndarray\n",
      "  return np.array(s2)\n",
      "C:\\Users\\Blake Bullwinkel\\Documents\\Harvard\\Fall 2021\\Capstone\\smartnoise-sdk\\synth\\snsynth\\mwem.py:223: Warning: Flattened dimensionality of synthetic histogram is less than the number of iterations. This is a privacy risk. Consider increasing your split_factor (especially if it is 1), or decreasing the number of iterations. Dim: 10 Split: [6 7]\n",
      "  warnings.warn(\n"
     ]
    },
    {
     "name": "stdout",
     "output_type": "stream",
     "text": [
      "Completed eps=7.0, rep=13.\n"
     ]
    },
    {
     "name": "stderr",
     "output_type": "stream",
     "text": [
      "C:\\Users\\Public\\anaconda3\\lib\\site-packages\\diffprivlib\\models\\logistic_regression.py:221: PrivacyLeakWarning: Data norm has not been specified and will be calculated on the data provided.  This will result in additional privacy leakage. To ensure differential privacy and no additional privacy leakage, specify `data_norm` at initialisation.\n",
      "  warnings.warn(\"Data norm has not been specified and will be calculated on the data provided.  This will \"\n",
      "C:\\Users\\Public\\anaconda3\\lib\\site-packages\\diffprivlib\\models\\logistic_regression.py:394: ConvergenceWarning: lbfgs failed to converge. Increase the number of iterations.\n",
      "  warnings.warn(\"lbfgs failed to converge. Increase the number of iterations.\", ConvergenceWarning)\n",
      "C:\\Users\\Blake Bullwinkel\\Documents\\Harvard\\Fall 2021\\Capstone\\smartnoise-sdk\\synth\\snsynth\\mwem.py:116: SettingWithCopyWarning: \n",
      "A value is trying to be set on a copy of a slice from a DataFrame.\n",
      "Try using .loc[row_indexer,col_indexer] = value instead\n",
      "\n",
      "See the caveats in the documentation: https://pandas.pydata.org/pandas-docs/stable/user_guide/indexing.html#returning-a-view-versus-a-copy\n",
      "  data[col] = pd.to_numeric(data[col], errors=\"ignore\")\n",
      "C:\\Users\\Blake Bullwinkel\\Documents\\Harvard\\Fall 2021\\Capstone\\smartnoise-sdk\\synth\\snsynth\\mwem.py:530: VisibleDeprecationWarning: Creating an ndarray from ragged nested sequences (which is a list-or-tuple of lists-or-tuples-or ndarrays with different lengths or shapes) is deprecated. If you meant to do this, you must specify 'dtype=object' when creating the ndarray\n",
      "  return np.array(s2)\n",
      "C:\\Users\\Blake Bullwinkel\\Documents\\Harvard\\Fall 2021\\Capstone\\smartnoise-sdk\\synth\\snsynth\\mwem.py:223: Warning: Flattened dimensionality of synthetic histogram is less than the number of iterations. This is a privacy risk. Consider increasing your split_factor (especially if it is 1), or decreasing the number of iterations. Dim: 10 Split: [6 7]\n",
      "  warnings.warn(\n"
     ]
    },
    {
     "name": "stdout",
     "output_type": "stream",
     "text": [
      "Completed eps=7.0, rep=14.\n"
     ]
    },
    {
     "name": "stderr",
     "output_type": "stream",
     "text": [
      "C:\\Users\\Public\\anaconda3\\lib\\site-packages\\diffprivlib\\models\\logistic_regression.py:221: PrivacyLeakWarning: Data norm has not been specified and will be calculated on the data provided.  This will result in additional privacy leakage. To ensure differential privacy and no additional privacy leakage, specify `data_norm` at initialisation.\n",
      "  warnings.warn(\"Data norm has not been specified and will be calculated on the data provided.  This will \"\n",
      "C:\\Users\\Public\\anaconda3\\lib\\site-packages\\diffprivlib\\models\\logistic_regression.py:394: ConvergenceWarning: lbfgs failed to converge. Increase the number of iterations.\n",
      "  warnings.warn(\"lbfgs failed to converge. Increase the number of iterations.\", ConvergenceWarning)\n",
      "C:\\Users\\Blake Bullwinkel\\Documents\\Harvard\\Fall 2021\\Capstone\\smartnoise-sdk\\synth\\snsynth\\mwem.py:116: SettingWithCopyWarning: \n",
      "A value is trying to be set on a copy of a slice from a DataFrame.\n",
      "Try using .loc[row_indexer,col_indexer] = value instead\n",
      "\n",
      "See the caveats in the documentation: https://pandas.pydata.org/pandas-docs/stable/user_guide/indexing.html#returning-a-view-versus-a-copy\n",
      "  data[col] = pd.to_numeric(data[col], errors=\"ignore\")\n",
      "C:\\Users\\Blake Bullwinkel\\Documents\\Harvard\\Fall 2021\\Capstone\\smartnoise-sdk\\synth\\snsynth\\mwem.py:530: VisibleDeprecationWarning: Creating an ndarray from ragged nested sequences (which is a list-or-tuple of lists-or-tuples-or ndarrays with different lengths or shapes) is deprecated. If you meant to do this, you must specify 'dtype=object' when creating the ndarray\n",
      "  return np.array(s2)\n",
      "C:\\Users\\Blake Bullwinkel\\Documents\\Harvard\\Fall 2021\\Capstone\\smartnoise-sdk\\synth\\snsynth\\mwem.py:223: Warning: Flattened dimensionality of synthetic histogram is less than the number of iterations. This is a privacy risk. Consider increasing your split_factor (especially if it is 1), or decreasing the number of iterations. Dim: 10 Split: [6 7]\n",
      "  warnings.warn(\n"
     ]
    },
    {
     "name": "stdout",
     "output_type": "stream",
     "text": [
      "Completed eps=7.0, rep=15.\n"
     ]
    },
    {
     "name": "stderr",
     "output_type": "stream",
     "text": [
      "C:\\Users\\Public\\anaconda3\\lib\\site-packages\\diffprivlib\\models\\logistic_regression.py:221: PrivacyLeakWarning: Data norm has not been specified and will be calculated on the data provided.  This will result in additional privacy leakage. To ensure differential privacy and no additional privacy leakage, specify `data_norm` at initialisation.\n",
      "  warnings.warn(\"Data norm has not been specified and will be calculated on the data provided.  This will \"\n",
      "C:\\Users\\Public\\anaconda3\\lib\\site-packages\\diffprivlib\\models\\logistic_regression.py:394: ConvergenceWarning: lbfgs failed to converge. Increase the number of iterations.\n",
      "  warnings.warn(\"lbfgs failed to converge. Increase the number of iterations.\", ConvergenceWarning)\n",
      "C:\\Users\\Blake Bullwinkel\\Documents\\Harvard\\Fall 2021\\Capstone\\smartnoise-sdk\\synth\\snsynth\\mwem.py:116: SettingWithCopyWarning: \n",
      "A value is trying to be set on a copy of a slice from a DataFrame.\n",
      "Try using .loc[row_indexer,col_indexer] = value instead\n",
      "\n",
      "See the caveats in the documentation: https://pandas.pydata.org/pandas-docs/stable/user_guide/indexing.html#returning-a-view-versus-a-copy\n",
      "  data[col] = pd.to_numeric(data[col], errors=\"ignore\")\n",
      "C:\\Users\\Blake Bullwinkel\\Documents\\Harvard\\Fall 2021\\Capstone\\smartnoise-sdk\\synth\\snsynth\\mwem.py:530: VisibleDeprecationWarning: Creating an ndarray from ragged nested sequences (which is a list-or-tuple of lists-or-tuples-or ndarrays with different lengths or shapes) is deprecated. If you meant to do this, you must specify 'dtype=object' when creating the ndarray\n",
      "  return np.array(s2)\n",
      "C:\\Users\\Blake Bullwinkel\\Documents\\Harvard\\Fall 2021\\Capstone\\smartnoise-sdk\\synth\\snsynth\\mwem.py:223: Warning: Flattened dimensionality of synthetic histogram is less than the number of iterations. This is a privacy risk. Consider increasing your split_factor (especially if it is 1), or decreasing the number of iterations. Dim: 10 Split: [6 7]\n",
      "  warnings.warn(\n"
     ]
    },
    {
     "name": "stdout",
     "output_type": "stream",
     "text": [
      "Completed eps=8.0, rep=1.\n"
     ]
    },
    {
     "name": "stderr",
     "output_type": "stream",
     "text": [
      "C:\\Users\\Public\\anaconda3\\lib\\site-packages\\diffprivlib\\models\\logistic_regression.py:221: PrivacyLeakWarning: Data norm has not been specified and will be calculated on the data provided.  This will result in additional privacy leakage. To ensure differential privacy and no additional privacy leakage, specify `data_norm` at initialisation.\n",
      "  warnings.warn(\"Data norm has not been specified and will be calculated on the data provided.  This will \"\n",
      "C:\\Users\\Public\\anaconda3\\lib\\site-packages\\diffprivlib\\models\\logistic_regression.py:394: ConvergenceWarning: lbfgs failed to converge. Increase the number of iterations.\n",
      "  warnings.warn(\"lbfgs failed to converge. Increase the number of iterations.\", ConvergenceWarning)\n",
      "C:\\Users\\Blake Bullwinkel\\Documents\\Harvard\\Fall 2021\\Capstone\\smartnoise-sdk\\synth\\snsynth\\mwem.py:116: SettingWithCopyWarning: \n",
      "A value is trying to be set on a copy of a slice from a DataFrame.\n",
      "Try using .loc[row_indexer,col_indexer] = value instead\n",
      "\n",
      "See the caveats in the documentation: https://pandas.pydata.org/pandas-docs/stable/user_guide/indexing.html#returning-a-view-versus-a-copy\n",
      "  data[col] = pd.to_numeric(data[col], errors=\"ignore\")\n",
      "C:\\Users\\Blake Bullwinkel\\Documents\\Harvard\\Fall 2021\\Capstone\\smartnoise-sdk\\synth\\snsynth\\mwem.py:530: VisibleDeprecationWarning: Creating an ndarray from ragged nested sequences (which is a list-or-tuple of lists-or-tuples-or ndarrays with different lengths or shapes) is deprecated. If you meant to do this, you must specify 'dtype=object' when creating the ndarray\n",
      "  return np.array(s2)\n",
      "C:\\Users\\Blake Bullwinkel\\Documents\\Harvard\\Fall 2021\\Capstone\\smartnoise-sdk\\synth\\snsynth\\mwem.py:223: Warning: Flattened dimensionality of synthetic histogram is less than the number of iterations. This is a privacy risk. Consider increasing your split_factor (especially if it is 1), or decreasing the number of iterations. Dim: 10 Split: [6 7]\n",
      "  warnings.warn(\n"
     ]
    },
    {
     "name": "stdout",
     "output_type": "stream",
     "text": [
      "Completed eps=8.0, rep=2.\n"
     ]
    },
    {
     "name": "stderr",
     "output_type": "stream",
     "text": [
      "C:\\Users\\Public\\anaconda3\\lib\\site-packages\\diffprivlib\\models\\logistic_regression.py:221: PrivacyLeakWarning: Data norm has not been specified and will be calculated on the data provided.  This will result in additional privacy leakage. To ensure differential privacy and no additional privacy leakage, specify `data_norm` at initialisation.\n",
      "  warnings.warn(\"Data norm has not been specified and will be calculated on the data provided.  This will \"\n",
      "C:\\Users\\Public\\anaconda3\\lib\\site-packages\\diffprivlib\\models\\logistic_regression.py:394: ConvergenceWarning: lbfgs failed to converge. Increase the number of iterations.\n",
      "  warnings.warn(\"lbfgs failed to converge. Increase the number of iterations.\", ConvergenceWarning)\n",
      "C:\\Users\\Blake Bullwinkel\\Documents\\Harvard\\Fall 2021\\Capstone\\smartnoise-sdk\\synth\\snsynth\\mwem.py:116: SettingWithCopyWarning: \n",
      "A value is trying to be set on a copy of a slice from a DataFrame.\n",
      "Try using .loc[row_indexer,col_indexer] = value instead\n",
      "\n",
      "See the caveats in the documentation: https://pandas.pydata.org/pandas-docs/stable/user_guide/indexing.html#returning-a-view-versus-a-copy\n",
      "  data[col] = pd.to_numeric(data[col], errors=\"ignore\")\n",
      "C:\\Users\\Blake Bullwinkel\\Documents\\Harvard\\Fall 2021\\Capstone\\smartnoise-sdk\\synth\\snsynth\\mwem.py:530: VisibleDeprecationWarning: Creating an ndarray from ragged nested sequences (which is a list-or-tuple of lists-or-tuples-or ndarrays with different lengths or shapes) is deprecated. If you meant to do this, you must specify 'dtype=object' when creating the ndarray\n",
      "  return np.array(s2)\n",
      "C:\\Users\\Blake Bullwinkel\\Documents\\Harvard\\Fall 2021\\Capstone\\smartnoise-sdk\\synth\\snsynth\\mwem.py:223: Warning: Flattened dimensionality of synthetic histogram is less than the number of iterations. This is a privacy risk. Consider increasing your split_factor (especially if it is 1), or decreasing the number of iterations. Dim: 10 Split: [6 7]\n",
      "  warnings.warn(\n"
     ]
    },
    {
     "name": "stdout",
     "output_type": "stream",
     "text": [
      "Completed eps=8.0, rep=3.\n"
     ]
    },
    {
     "name": "stderr",
     "output_type": "stream",
     "text": [
      "C:\\Users\\Public\\anaconda3\\lib\\site-packages\\diffprivlib\\models\\logistic_regression.py:221: PrivacyLeakWarning: Data norm has not been specified and will be calculated on the data provided.  This will result in additional privacy leakage. To ensure differential privacy and no additional privacy leakage, specify `data_norm` at initialisation.\n",
      "  warnings.warn(\"Data norm has not been specified and will be calculated on the data provided.  This will \"\n",
      "C:\\Users\\Public\\anaconda3\\lib\\site-packages\\diffprivlib\\models\\logistic_regression.py:394: ConvergenceWarning: lbfgs failed to converge. Increase the number of iterations.\n",
      "  warnings.warn(\"lbfgs failed to converge. Increase the number of iterations.\", ConvergenceWarning)\n",
      "C:\\Users\\Blake Bullwinkel\\Documents\\Harvard\\Fall 2021\\Capstone\\smartnoise-sdk\\synth\\snsynth\\mwem.py:116: SettingWithCopyWarning: \n",
      "A value is trying to be set on a copy of a slice from a DataFrame.\n",
      "Try using .loc[row_indexer,col_indexer] = value instead\n",
      "\n",
      "See the caveats in the documentation: https://pandas.pydata.org/pandas-docs/stable/user_guide/indexing.html#returning-a-view-versus-a-copy\n",
      "  data[col] = pd.to_numeric(data[col], errors=\"ignore\")\n",
      "C:\\Users\\Blake Bullwinkel\\Documents\\Harvard\\Fall 2021\\Capstone\\smartnoise-sdk\\synth\\snsynth\\mwem.py:530: VisibleDeprecationWarning: Creating an ndarray from ragged nested sequences (which is a list-or-tuple of lists-or-tuples-or ndarrays with different lengths or shapes) is deprecated. If you meant to do this, you must specify 'dtype=object' when creating the ndarray\n",
      "  return np.array(s2)\n",
      "C:\\Users\\Blake Bullwinkel\\Documents\\Harvard\\Fall 2021\\Capstone\\smartnoise-sdk\\synth\\snsynth\\mwem.py:223: Warning: Flattened dimensionality of synthetic histogram is less than the number of iterations. This is a privacy risk. Consider increasing your split_factor (especially if it is 1), or decreasing the number of iterations. Dim: 10 Split: [6 7]\n",
      "  warnings.warn(\n"
     ]
    },
    {
     "name": "stdout",
     "output_type": "stream",
     "text": [
      "Completed eps=8.0, rep=4.\n"
     ]
    },
    {
     "name": "stderr",
     "output_type": "stream",
     "text": [
      "C:\\Users\\Public\\anaconda3\\lib\\site-packages\\diffprivlib\\models\\logistic_regression.py:221: PrivacyLeakWarning: Data norm has not been specified and will be calculated on the data provided.  This will result in additional privacy leakage. To ensure differential privacy and no additional privacy leakage, specify `data_norm` at initialisation.\n",
      "  warnings.warn(\"Data norm has not been specified and will be calculated on the data provided.  This will \"\n",
      "C:\\Users\\Public\\anaconda3\\lib\\site-packages\\diffprivlib\\models\\logistic_regression.py:394: ConvergenceWarning: lbfgs failed to converge. Increase the number of iterations.\n",
      "  warnings.warn(\"lbfgs failed to converge. Increase the number of iterations.\", ConvergenceWarning)\n",
      "C:\\Users\\Blake Bullwinkel\\Documents\\Harvard\\Fall 2021\\Capstone\\smartnoise-sdk\\synth\\snsynth\\mwem.py:116: SettingWithCopyWarning: \n",
      "A value is trying to be set on a copy of a slice from a DataFrame.\n",
      "Try using .loc[row_indexer,col_indexer] = value instead\n",
      "\n",
      "See the caveats in the documentation: https://pandas.pydata.org/pandas-docs/stable/user_guide/indexing.html#returning-a-view-versus-a-copy\n",
      "  data[col] = pd.to_numeric(data[col], errors=\"ignore\")\n",
      "C:\\Users\\Blake Bullwinkel\\Documents\\Harvard\\Fall 2021\\Capstone\\smartnoise-sdk\\synth\\snsynth\\mwem.py:530: VisibleDeprecationWarning: Creating an ndarray from ragged nested sequences (which is a list-or-tuple of lists-or-tuples-or ndarrays with different lengths or shapes) is deprecated. If you meant to do this, you must specify 'dtype=object' when creating the ndarray\n",
      "  return np.array(s2)\n",
      "C:\\Users\\Blake Bullwinkel\\Documents\\Harvard\\Fall 2021\\Capstone\\smartnoise-sdk\\synth\\snsynth\\mwem.py:223: Warning: Flattened dimensionality of synthetic histogram is less than the number of iterations. This is a privacy risk. Consider increasing your split_factor (especially if it is 1), or decreasing the number of iterations. Dim: 10 Split: [6 7]\n",
      "  warnings.warn(\n"
     ]
    },
    {
     "name": "stdout",
     "output_type": "stream",
     "text": [
      "Completed eps=8.0, rep=5.\n"
     ]
    },
    {
     "name": "stderr",
     "output_type": "stream",
     "text": [
      "C:\\Users\\Public\\anaconda3\\lib\\site-packages\\diffprivlib\\models\\logistic_regression.py:221: PrivacyLeakWarning: Data norm has not been specified and will be calculated on the data provided.  This will result in additional privacy leakage. To ensure differential privacy and no additional privacy leakage, specify `data_norm` at initialisation.\n",
      "  warnings.warn(\"Data norm has not been specified and will be calculated on the data provided.  This will \"\n",
      "C:\\Users\\Public\\anaconda3\\lib\\site-packages\\diffprivlib\\models\\logistic_regression.py:394: ConvergenceWarning: lbfgs failed to converge. Increase the number of iterations.\n",
      "  warnings.warn(\"lbfgs failed to converge. Increase the number of iterations.\", ConvergenceWarning)\n",
      "C:\\Users\\Blake Bullwinkel\\Documents\\Harvard\\Fall 2021\\Capstone\\smartnoise-sdk\\synth\\snsynth\\mwem.py:116: SettingWithCopyWarning: \n",
      "A value is trying to be set on a copy of a slice from a DataFrame.\n",
      "Try using .loc[row_indexer,col_indexer] = value instead\n",
      "\n",
      "See the caveats in the documentation: https://pandas.pydata.org/pandas-docs/stable/user_guide/indexing.html#returning-a-view-versus-a-copy\n",
      "  data[col] = pd.to_numeric(data[col], errors=\"ignore\")\n",
      "C:\\Users\\Blake Bullwinkel\\Documents\\Harvard\\Fall 2021\\Capstone\\smartnoise-sdk\\synth\\snsynth\\mwem.py:530: VisibleDeprecationWarning: Creating an ndarray from ragged nested sequences (which is a list-or-tuple of lists-or-tuples-or ndarrays with different lengths or shapes) is deprecated. If you meant to do this, you must specify 'dtype=object' when creating the ndarray\n",
      "  return np.array(s2)\n",
      "C:\\Users\\Blake Bullwinkel\\Documents\\Harvard\\Fall 2021\\Capstone\\smartnoise-sdk\\synth\\snsynth\\mwem.py:223: Warning: Flattened dimensionality of synthetic histogram is less than the number of iterations. This is a privacy risk. Consider increasing your split_factor (especially if it is 1), or decreasing the number of iterations. Dim: 10 Split: [6 7]\n",
      "  warnings.warn(\n"
     ]
    },
    {
     "name": "stdout",
     "output_type": "stream",
     "text": [
      "Completed eps=8.0, rep=6.\n"
     ]
    },
    {
     "name": "stderr",
     "output_type": "stream",
     "text": [
      "C:\\Users\\Public\\anaconda3\\lib\\site-packages\\diffprivlib\\models\\logistic_regression.py:221: PrivacyLeakWarning: Data norm has not been specified and will be calculated on the data provided.  This will result in additional privacy leakage. To ensure differential privacy and no additional privacy leakage, specify `data_norm` at initialisation.\n",
      "  warnings.warn(\"Data norm has not been specified and will be calculated on the data provided.  This will \"\n",
      "C:\\Users\\Public\\anaconda3\\lib\\site-packages\\diffprivlib\\models\\logistic_regression.py:394: ConvergenceWarning: lbfgs failed to converge. Increase the number of iterations.\n",
      "  warnings.warn(\"lbfgs failed to converge. Increase the number of iterations.\", ConvergenceWarning)\n",
      "C:\\Users\\Blake Bullwinkel\\Documents\\Harvard\\Fall 2021\\Capstone\\smartnoise-sdk\\synth\\snsynth\\mwem.py:116: SettingWithCopyWarning: \n",
      "A value is trying to be set on a copy of a slice from a DataFrame.\n",
      "Try using .loc[row_indexer,col_indexer] = value instead\n",
      "\n",
      "See the caveats in the documentation: https://pandas.pydata.org/pandas-docs/stable/user_guide/indexing.html#returning-a-view-versus-a-copy\n",
      "  data[col] = pd.to_numeric(data[col], errors=\"ignore\")\n",
      "C:\\Users\\Blake Bullwinkel\\Documents\\Harvard\\Fall 2021\\Capstone\\smartnoise-sdk\\synth\\snsynth\\mwem.py:530: VisibleDeprecationWarning: Creating an ndarray from ragged nested sequences (which is a list-or-tuple of lists-or-tuples-or ndarrays with different lengths or shapes) is deprecated. If you meant to do this, you must specify 'dtype=object' when creating the ndarray\n",
      "  return np.array(s2)\n",
      "C:\\Users\\Blake Bullwinkel\\Documents\\Harvard\\Fall 2021\\Capstone\\smartnoise-sdk\\synth\\snsynth\\mwem.py:223: Warning: Flattened dimensionality of synthetic histogram is less than the number of iterations. This is a privacy risk. Consider increasing your split_factor (especially if it is 1), or decreasing the number of iterations. Dim: 10 Split: [6 7]\n",
      "  warnings.warn(\n"
     ]
    },
    {
     "name": "stdout",
     "output_type": "stream",
     "text": [
      "Completed eps=8.0, rep=7.\n"
     ]
    },
    {
     "name": "stderr",
     "output_type": "stream",
     "text": [
      "C:\\Users\\Public\\anaconda3\\lib\\site-packages\\diffprivlib\\models\\logistic_regression.py:221: PrivacyLeakWarning: Data norm has not been specified and will be calculated on the data provided.  This will result in additional privacy leakage. To ensure differential privacy and no additional privacy leakage, specify `data_norm` at initialisation.\n",
      "  warnings.warn(\"Data norm has not been specified and will be calculated on the data provided.  This will \"\n",
      "C:\\Users\\Public\\anaconda3\\lib\\site-packages\\diffprivlib\\models\\logistic_regression.py:394: ConvergenceWarning: lbfgs failed to converge. Increase the number of iterations.\n",
      "  warnings.warn(\"lbfgs failed to converge. Increase the number of iterations.\", ConvergenceWarning)\n",
      "C:\\Users\\Blake Bullwinkel\\Documents\\Harvard\\Fall 2021\\Capstone\\smartnoise-sdk\\synth\\snsynth\\mwem.py:116: SettingWithCopyWarning: \n",
      "A value is trying to be set on a copy of a slice from a DataFrame.\n",
      "Try using .loc[row_indexer,col_indexer] = value instead\n",
      "\n",
      "See the caveats in the documentation: https://pandas.pydata.org/pandas-docs/stable/user_guide/indexing.html#returning-a-view-versus-a-copy\n",
      "  data[col] = pd.to_numeric(data[col], errors=\"ignore\")\n",
      "C:\\Users\\Blake Bullwinkel\\Documents\\Harvard\\Fall 2021\\Capstone\\smartnoise-sdk\\synth\\snsynth\\mwem.py:530: VisibleDeprecationWarning: Creating an ndarray from ragged nested sequences (which is a list-or-tuple of lists-or-tuples-or ndarrays with different lengths or shapes) is deprecated. If you meant to do this, you must specify 'dtype=object' when creating the ndarray\n",
      "  return np.array(s2)\n",
      "C:\\Users\\Blake Bullwinkel\\Documents\\Harvard\\Fall 2021\\Capstone\\smartnoise-sdk\\synth\\snsynth\\mwem.py:223: Warning: Flattened dimensionality of synthetic histogram is less than the number of iterations. This is a privacy risk. Consider increasing your split_factor (especially if it is 1), or decreasing the number of iterations. Dim: 10 Split: [6 7]\n",
      "  warnings.warn(\n"
     ]
    },
    {
     "name": "stdout",
     "output_type": "stream",
     "text": [
      "Completed eps=8.0, rep=8.\n"
     ]
    },
    {
     "name": "stderr",
     "output_type": "stream",
     "text": [
      "C:\\Users\\Public\\anaconda3\\lib\\site-packages\\diffprivlib\\models\\logistic_regression.py:221: PrivacyLeakWarning: Data norm has not been specified and will be calculated on the data provided.  This will result in additional privacy leakage. To ensure differential privacy and no additional privacy leakage, specify `data_norm` at initialisation.\n",
      "  warnings.warn(\"Data norm has not been specified and will be calculated on the data provided.  This will \"\n",
      "C:\\Users\\Public\\anaconda3\\lib\\site-packages\\diffprivlib\\models\\logistic_regression.py:394: ConvergenceWarning: lbfgs failed to converge. Increase the number of iterations.\n",
      "  warnings.warn(\"lbfgs failed to converge. Increase the number of iterations.\", ConvergenceWarning)\n",
      "C:\\Users\\Blake Bullwinkel\\Documents\\Harvard\\Fall 2021\\Capstone\\smartnoise-sdk\\synth\\snsynth\\mwem.py:116: SettingWithCopyWarning: \n",
      "A value is trying to be set on a copy of a slice from a DataFrame.\n",
      "Try using .loc[row_indexer,col_indexer] = value instead\n",
      "\n",
      "See the caveats in the documentation: https://pandas.pydata.org/pandas-docs/stable/user_guide/indexing.html#returning-a-view-versus-a-copy\n",
      "  data[col] = pd.to_numeric(data[col], errors=\"ignore\")\n",
      "C:\\Users\\Blake Bullwinkel\\Documents\\Harvard\\Fall 2021\\Capstone\\smartnoise-sdk\\synth\\snsynth\\mwem.py:530: VisibleDeprecationWarning: Creating an ndarray from ragged nested sequences (which is a list-or-tuple of lists-or-tuples-or ndarrays with different lengths or shapes) is deprecated. If you meant to do this, you must specify 'dtype=object' when creating the ndarray\n",
      "  return np.array(s2)\n",
      "C:\\Users\\Blake Bullwinkel\\Documents\\Harvard\\Fall 2021\\Capstone\\smartnoise-sdk\\synth\\snsynth\\mwem.py:223: Warning: Flattened dimensionality of synthetic histogram is less than the number of iterations. This is a privacy risk. Consider increasing your split_factor (especially if it is 1), or decreasing the number of iterations. Dim: 10 Split: [6 7]\n",
      "  warnings.warn(\n"
     ]
    },
    {
     "name": "stdout",
     "output_type": "stream",
     "text": [
      "Completed eps=8.0, rep=9.\n"
     ]
    },
    {
     "name": "stderr",
     "output_type": "stream",
     "text": [
      "C:\\Users\\Public\\anaconda3\\lib\\site-packages\\diffprivlib\\models\\logistic_regression.py:221: PrivacyLeakWarning: Data norm has not been specified and will be calculated on the data provided.  This will result in additional privacy leakage. To ensure differential privacy and no additional privacy leakage, specify `data_norm` at initialisation.\n",
      "  warnings.warn(\"Data norm has not been specified and will be calculated on the data provided.  This will \"\n",
      "C:\\Users\\Public\\anaconda3\\lib\\site-packages\\diffprivlib\\models\\logistic_regression.py:394: ConvergenceWarning: lbfgs failed to converge. Increase the number of iterations.\n",
      "  warnings.warn(\"lbfgs failed to converge. Increase the number of iterations.\", ConvergenceWarning)\n",
      "C:\\Users\\Blake Bullwinkel\\Documents\\Harvard\\Fall 2021\\Capstone\\smartnoise-sdk\\synth\\snsynth\\mwem.py:116: SettingWithCopyWarning: \n",
      "A value is trying to be set on a copy of a slice from a DataFrame.\n",
      "Try using .loc[row_indexer,col_indexer] = value instead\n",
      "\n",
      "See the caveats in the documentation: https://pandas.pydata.org/pandas-docs/stable/user_guide/indexing.html#returning-a-view-versus-a-copy\n",
      "  data[col] = pd.to_numeric(data[col], errors=\"ignore\")\n",
      "C:\\Users\\Blake Bullwinkel\\Documents\\Harvard\\Fall 2021\\Capstone\\smartnoise-sdk\\synth\\snsynth\\mwem.py:530: VisibleDeprecationWarning: Creating an ndarray from ragged nested sequences (which is a list-or-tuple of lists-or-tuples-or ndarrays with different lengths or shapes) is deprecated. If you meant to do this, you must specify 'dtype=object' when creating the ndarray\n",
      "  return np.array(s2)\n",
      "C:\\Users\\Blake Bullwinkel\\Documents\\Harvard\\Fall 2021\\Capstone\\smartnoise-sdk\\synth\\snsynth\\mwem.py:223: Warning: Flattened dimensionality of synthetic histogram is less than the number of iterations. This is a privacy risk. Consider increasing your split_factor (especially if it is 1), or decreasing the number of iterations. Dim: 10 Split: [6 7]\n",
      "  warnings.warn(\n"
     ]
    },
    {
     "name": "stdout",
     "output_type": "stream",
     "text": [
      "Completed eps=8.0, rep=10.\n"
     ]
    },
    {
     "name": "stderr",
     "output_type": "stream",
     "text": [
      "C:\\Users\\Public\\anaconda3\\lib\\site-packages\\diffprivlib\\models\\logistic_regression.py:221: PrivacyLeakWarning: Data norm has not been specified and will be calculated on the data provided.  This will result in additional privacy leakage. To ensure differential privacy and no additional privacy leakage, specify `data_norm` at initialisation.\n",
      "  warnings.warn(\"Data norm has not been specified and will be calculated on the data provided.  This will \"\n",
      "C:\\Users\\Public\\anaconda3\\lib\\site-packages\\diffprivlib\\models\\logistic_regression.py:394: ConvergenceWarning: lbfgs failed to converge. Increase the number of iterations.\n",
      "  warnings.warn(\"lbfgs failed to converge. Increase the number of iterations.\", ConvergenceWarning)\n",
      "C:\\Users\\Blake Bullwinkel\\Documents\\Harvard\\Fall 2021\\Capstone\\smartnoise-sdk\\synth\\snsynth\\mwem.py:116: SettingWithCopyWarning: \n",
      "A value is trying to be set on a copy of a slice from a DataFrame.\n",
      "Try using .loc[row_indexer,col_indexer] = value instead\n",
      "\n",
      "See the caveats in the documentation: https://pandas.pydata.org/pandas-docs/stable/user_guide/indexing.html#returning-a-view-versus-a-copy\n",
      "  data[col] = pd.to_numeric(data[col], errors=\"ignore\")\n",
      "C:\\Users\\Blake Bullwinkel\\Documents\\Harvard\\Fall 2021\\Capstone\\smartnoise-sdk\\synth\\snsynth\\mwem.py:530: VisibleDeprecationWarning: Creating an ndarray from ragged nested sequences (which is a list-or-tuple of lists-or-tuples-or ndarrays with different lengths or shapes) is deprecated. If you meant to do this, you must specify 'dtype=object' when creating the ndarray\n",
      "  return np.array(s2)\n",
      "C:\\Users\\Blake Bullwinkel\\Documents\\Harvard\\Fall 2021\\Capstone\\smartnoise-sdk\\synth\\snsynth\\mwem.py:223: Warning: Flattened dimensionality of synthetic histogram is less than the number of iterations. This is a privacy risk. Consider increasing your split_factor (especially if it is 1), or decreasing the number of iterations. Dim: 10 Split: [6 7]\n",
      "  warnings.warn(\n"
     ]
    },
    {
     "name": "stdout",
     "output_type": "stream",
     "text": [
      "Completed eps=8.0, rep=11.\n"
     ]
    },
    {
     "name": "stderr",
     "output_type": "stream",
     "text": [
      "C:\\Users\\Public\\anaconda3\\lib\\site-packages\\diffprivlib\\models\\logistic_regression.py:221: PrivacyLeakWarning: Data norm has not been specified and will be calculated on the data provided.  This will result in additional privacy leakage. To ensure differential privacy and no additional privacy leakage, specify `data_norm` at initialisation.\n",
      "  warnings.warn(\"Data norm has not been specified and will be calculated on the data provided.  This will \"\n",
      "C:\\Users\\Public\\anaconda3\\lib\\site-packages\\diffprivlib\\models\\logistic_regression.py:394: ConvergenceWarning: lbfgs failed to converge. Increase the number of iterations.\n",
      "  warnings.warn(\"lbfgs failed to converge. Increase the number of iterations.\", ConvergenceWarning)\n",
      "C:\\Users\\Blake Bullwinkel\\Documents\\Harvard\\Fall 2021\\Capstone\\smartnoise-sdk\\synth\\snsynth\\mwem.py:116: SettingWithCopyWarning: \n",
      "A value is trying to be set on a copy of a slice from a DataFrame.\n",
      "Try using .loc[row_indexer,col_indexer] = value instead\n",
      "\n",
      "See the caveats in the documentation: https://pandas.pydata.org/pandas-docs/stable/user_guide/indexing.html#returning-a-view-versus-a-copy\n",
      "  data[col] = pd.to_numeric(data[col], errors=\"ignore\")\n",
      "C:\\Users\\Blake Bullwinkel\\Documents\\Harvard\\Fall 2021\\Capstone\\smartnoise-sdk\\synth\\snsynth\\mwem.py:530: VisibleDeprecationWarning: Creating an ndarray from ragged nested sequences (which is a list-or-tuple of lists-or-tuples-or ndarrays with different lengths or shapes) is deprecated. If you meant to do this, you must specify 'dtype=object' when creating the ndarray\n",
      "  return np.array(s2)\n",
      "C:\\Users\\Blake Bullwinkel\\Documents\\Harvard\\Fall 2021\\Capstone\\smartnoise-sdk\\synth\\snsynth\\mwem.py:223: Warning: Flattened dimensionality of synthetic histogram is less than the number of iterations. This is a privacy risk. Consider increasing your split_factor (especially if it is 1), or decreasing the number of iterations. Dim: 10 Split: [6 7]\n",
      "  warnings.warn(\n"
     ]
    },
    {
     "name": "stdout",
     "output_type": "stream",
     "text": [
      "Completed eps=8.0, rep=12.\n"
     ]
    },
    {
     "name": "stderr",
     "output_type": "stream",
     "text": [
      "C:\\Users\\Public\\anaconda3\\lib\\site-packages\\diffprivlib\\models\\logistic_regression.py:221: PrivacyLeakWarning: Data norm has not been specified and will be calculated on the data provided.  This will result in additional privacy leakage. To ensure differential privacy and no additional privacy leakage, specify `data_norm` at initialisation.\n",
      "  warnings.warn(\"Data norm has not been specified and will be calculated on the data provided.  This will \"\n",
      "C:\\Users\\Public\\anaconda3\\lib\\site-packages\\diffprivlib\\models\\logistic_regression.py:394: ConvergenceWarning: lbfgs failed to converge. Increase the number of iterations.\n",
      "  warnings.warn(\"lbfgs failed to converge. Increase the number of iterations.\", ConvergenceWarning)\n",
      "C:\\Users\\Blake Bullwinkel\\Documents\\Harvard\\Fall 2021\\Capstone\\smartnoise-sdk\\synth\\snsynth\\mwem.py:116: SettingWithCopyWarning: \n",
      "A value is trying to be set on a copy of a slice from a DataFrame.\n",
      "Try using .loc[row_indexer,col_indexer] = value instead\n",
      "\n",
      "See the caveats in the documentation: https://pandas.pydata.org/pandas-docs/stable/user_guide/indexing.html#returning-a-view-versus-a-copy\n",
      "  data[col] = pd.to_numeric(data[col], errors=\"ignore\")\n",
      "C:\\Users\\Blake Bullwinkel\\Documents\\Harvard\\Fall 2021\\Capstone\\smartnoise-sdk\\synth\\snsynth\\mwem.py:530: VisibleDeprecationWarning: Creating an ndarray from ragged nested sequences (which is a list-or-tuple of lists-or-tuples-or ndarrays with different lengths or shapes) is deprecated. If you meant to do this, you must specify 'dtype=object' when creating the ndarray\n",
      "  return np.array(s2)\n",
      "C:\\Users\\Blake Bullwinkel\\Documents\\Harvard\\Fall 2021\\Capstone\\smartnoise-sdk\\synth\\snsynth\\mwem.py:223: Warning: Flattened dimensionality of synthetic histogram is less than the number of iterations. This is a privacy risk. Consider increasing your split_factor (especially if it is 1), or decreasing the number of iterations. Dim: 10 Split: [6 7]\n",
      "  warnings.warn(\n"
     ]
    },
    {
     "name": "stdout",
     "output_type": "stream",
     "text": [
      "Completed eps=8.0, rep=13.\n"
     ]
    },
    {
     "name": "stderr",
     "output_type": "stream",
     "text": [
      "C:\\Users\\Public\\anaconda3\\lib\\site-packages\\diffprivlib\\models\\logistic_regression.py:221: PrivacyLeakWarning: Data norm has not been specified and will be calculated on the data provided.  This will result in additional privacy leakage. To ensure differential privacy and no additional privacy leakage, specify `data_norm` at initialisation.\n",
      "  warnings.warn(\"Data norm has not been specified and will be calculated on the data provided.  This will \"\n",
      "C:\\Users\\Public\\anaconda3\\lib\\site-packages\\diffprivlib\\models\\logistic_regression.py:394: ConvergenceWarning: lbfgs failed to converge. Increase the number of iterations.\n",
      "  warnings.warn(\"lbfgs failed to converge. Increase the number of iterations.\", ConvergenceWarning)\n",
      "C:\\Users\\Blake Bullwinkel\\Documents\\Harvard\\Fall 2021\\Capstone\\smartnoise-sdk\\synth\\snsynth\\mwem.py:116: SettingWithCopyWarning: \n",
      "A value is trying to be set on a copy of a slice from a DataFrame.\n",
      "Try using .loc[row_indexer,col_indexer] = value instead\n",
      "\n",
      "See the caveats in the documentation: https://pandas.pydata.org/pandas-docs/stable/user_guide/indexing.html#returning-a-view-versus-a-copy\n",
      "  data[col] = pd.to_numeric(data[col], errors=\"ignore\")\n",
      "C:\\Users\\Blake Bullwinkel\\Documents\\Harvard\\Fall 2021\\Capstone\\smartnoise-sdk\\synth\\snsynth\\mwem.py:530: VisibleDeprecationWarning: Creating an ndarray from ragged nested sequences (which is a list-or-tuple of lists-or-tuples-or ndarrays with different lengths or shapes) is deprecated. If you meant to do this, you must specify 'dtype=object' when creating the ndarray\n",
      "  return np.array(s2)\n",
      "C:\\Users\\Blake Bullwinkel\\Documents\\Harvard\\Fall 2021\\Capstone\\smartnoise-sdk\\synth\\snsynth\\mwem.py:223: Warning: Flattened dimensionality of synthetic histogram is less than the number of iterations. This is a privacy risk. Consider increasing your split_factor (especially if it is 1), or decreasing the number of iterations. Dim: 10 Split: [6 7]\n",
      "  warnings.warn(\n"
     ]
    },
    {
     "name": "stdout",
     "output_type": "stream",
     "text": [
      "Completed eps=8.0, rep=14.\n"
     ]
    },
    {
     "name": "stderr",
     "output_type": "stream",
     "text": [
      "C:\\Users\\Public\\anaconda3\\lib\\site-packages\\diffprivlib\\models\\logistic_regression.py:221: PrivacyLeakWarning: Data norm has not been specified and will be calculated on the data provided.  This will result in additional privacy leakage. To ensure differential privacy and no additional privacy leakage, specify `data_norm` at initialisation.\n",
      "  warnings.warn(\"Data norm has not been specified and will be calculated on the data provided.  This will \"\n",
      "C:\\Users\\Public\\anaconda3\\lib\\site-packages\\diffprivlib\\models\\logistic_regression.py:394: ConvergenceWarning: lbfgs failed to converge. Increase the number of iterations.\n",
      "  warnings.warn(\"lbfgs failed to converge. Increase the number of iterations.\", ConvergenceWarning)\n",
      "C:\\Users\\Blake Bullwinkel\\Documents\\Harvard\\Fall 2021\\Capstone\\smartnoise-sdk\\synth\\snsynth\\mwem.py:116: SettingWithCopyWarning: \n",
      "A value is trying to be set on a copy of a slice from a DataFrame.\n",
      "Try using .loc[row_indexer,col_indexer] = value instead\n",
      "\n",
      "See the caveats in the documentation: https://pandas.pydata.org/pandas-docs/stable/user_guide/indexing.html#returning-a-view-versus-a-copy\n",
      "  data[col] = pd.to_numeric(data[col], errors=\"ignore\")\n",
      "C:\\Users\\Blake Bullwinkel\\Documents\\Harvard\\Fall 2021\\Capstone\\smartnoise-sdk\\synth\\snsynth\\mwem.py:530: VisibleDeprecationWarning: Creating an ndarray from ragged nested sequences (which is a list-or-tuple of lists-or-tuples-or ndarrays with different lengths or shapes) is deprecated. If you meant to do this, you must specify 'dtype=object' when creating the ndarray\n",
      "  return np.array(s2)\n",
      "C:\\Users\\Blake Bullwinkel\\Documents\\Harvard\\Fall 2021\\Capstone\\smartnoise-sdk\\synth\\snsynth\\mwem.py:223: Warning: Flattened dimensionality of synthetic histogram is less than the number of iterations. This is a privacy risk. Consider increasing your split_factor (especially if it is 1), or decreasing the number of iterations. Dim: 10 Split: [6 7]\n",
      "  warnings.warn(\n"
     ]
    },
    {
     "name": "stdout",
     "output_type": "stream",
     "text": [
      "Completed eps=8.0, rep=15.\n"
     ]
    }
   ],
   "source": [
    "try:\n",
    "    # Try to load the dictionary with ten repetitions\n",
    "    adult_fairness_quail_mwem = np.load(\"adult_fairness_quail_mwem.npy\", allow_pickle=True).item()\n",
    "    \n",
    "except:\n",
    "    # Set range of epsilon values\n",
    "    epsilon_vals = [1.0, 2.0, 3.0, 4.0, 5.0, 6.0, 7.0, 8.0]\n",
    "\n",
    "    # Get dictionary of averaged fairness metrics across 10 repetitions for range of values\n",
    "    adult_fairness_quail_mwem = adult_fairness_privacy_range(epsilon_vals, adult_train, adult_test, synthesizer=\"MWEM\", \n",
    "                                                        quail=True, classifier=\"DPLR\", eps_split=0.8, n_reps=15)\n",
    "    \n",
    "    # Save dictionary\n",
    "    np.save(\"adult_fairness_quail_mwem.npy\", adult_fairness_quail_mwem)"
   ]
  },
  {
   "cell_type": "code",
   "execution_count": 24,
   "metadata": {},
   "outputs": [
    {
     "data": {
      "image/png": "[encoded data removed]",
      "text/plain": [
       "<Figure size 1080x1440 with 8 Axes>"
      ]
     },
     "metadata": {
      "needs_background": "light"
     },
     "output_type": "display_data"
    }
   ],
   "source": [
    "# Plot the fairness and accuracy metrics for female vs male\n",
    "plot_fairness_dict(adult_fairness_quail_mwem, plot_non_private=True)"
   ]
  },
  {
   "cell_type": "markdown",
   "metadata": {
    "cell_id": "00029-0ecfae9d-1365-4e25-8203-29190c5e027d",
    "deepnote_cell_type": "markdown",
    "tags": []
   },
   "source": [
    "## 4.4 DPCTGAN"
   ]
  },
  {
   "cell_type": "code",
   "execution_count": 25,
   "metadata": {
    "cell_id": "00031-67119be2-d4c0-4c1f-8ee8-c4891bff62e1",
    "deepnote_cell_type": "code",
    "deepnote_to_be_reexecuted": false,
    "execution_millis": 45,
    "execution_start": 1634165294780,
    "source_hash": "a71ac469",
    "tags": []
   },
   "outputs": [
    {
     "name": "stderr",
     "output_type": "stream",
     "text": [
      "C:\\Users\\Public\\anaconda3\\lib\\site-packages\\sklearn\\utils\\validation.py:68: FutureWarning: Pass n_components=10 as keyword args. From version 0.25 passing these as positional arguments will result in an error\n",
      "  warnings.warn(\"Pass {} as keyword args. From version 0.25 \"\n",
      "C:\\Users\\Public\\anaconda3\\lib\\site-packages\\sklearn\\mixture\\_base.py:265: ConvergenceWarning: Initialization 1 did not converge. Try different init parameters, or increase max_iter, tol or check for degenerate data.\n",
      "  warnings.warn('Initialization %d did not converge. '\n",
      "C:\\Users\\Public\\anaconda3\\lib\\site-packages\\sklearn\\utils\\validation.py:68: FutureWarning: Pass n_components=10 as keyword args. From version 0.25 passing these as positional arguments will result in an error\n",
      "  warnings.warn(\"Pass {} as keyword args. From version 0.25 \"\n",
      "C:\\Users\\Public\\anaconda3\\lib\\site-packages\\sklearn\\utils\\validation.py:68: FutureWarning: Pass n_components=10 as keyword args. From version 0.25 passing these as positional arguments will result in an error\n",
      "  warnings.warn(\"Pass {} as keyword args. From version 0.25 \"\n",
      "C:\\Users\\Public\\anaconda3\\lib\\site-packages\\sklearn\\mixture\\_base.py:265: ConvergenceWarning: Initialization 1 did not converge. Try different init parameters, or increase max_iter, tol or check for degenerate data.\n",
      "  warnings.warn('Initialization %d did not converge. '\n",
      "C:\\Users\\Public\\anaconda3\\lib\\site-packages\\opacus\\privacy_engine.py:638: UserWarning: The sample rate will be defined from ``batch_size`` and ``sample_size``.The returned privacy budget will be incorrect.\n",
      "  warnings.warn(\n",
      "C:\\Users\\Public\\anaconda3\\lib\\site-packages\\opacus\\privacy_engine.py:229: UserWarning: Secure RNG turned off. This is perfectly fine for experimentation as it allows for much faster training performance, but remember to turn it on and retrain one last time before production with ``secure_rng`` turned on.\n",
      "  warnings.warn(\n",
      "C:\\Users\\Public\\anaconda3\\lib\\site-packages\\torch\\nn\\modules\\module.py:795: UserWarning: Using a non-full backward hook when the forward contains multiple autograd Nodes is deprecated and will be removed in future versions. This hook will be missing some grad_input. Please use register_full_backward_hook to get the documented behavior.\n",
      "  warnings.warn(\"Using a non-full backward hook when the forward contains multiple autograd Nodes \"\n"
     ]
    },
    {
     "name": "stdout",
     "output_type": "stream",
     "text": [
      "Epoch 1, Loss G: 0.6850, Loss D: 1.3904\n",
      "epsilon is 0.13519823762550215, alpha is 63.0\n",
      "Epoch 2, Loss G: 0.6762, Loss D: 1.4020\n",
      "epsilon is 0.1894883834074563, alpha is 58.0\n",
      "Epoch 3, Loss G: 0.6818, Loss D: 1.3879\n",
      "epsilon is 0.2355820193030796, alpha is 49.0\n",
      "Epoch 4, Loss G: 0.6806, Loss D: 1.3857\n",
      "epsilon is 0.27504912277245314, alpha is 43.0\n",
      "Epoch 5, Loss G: 0.6823, Loss D: 1.3904\n",
      "epsilon is 0.31021702689999947, alpha is 39.0\n",
      "Epoch 6, Loss G: 0.6776, Loss D: 1.3807\n",
      "epsilon is 0.3423066733299481, alpha is 36.0\n",
      "Epoch 7, Loss G: 0.6785, Loss D: 1.3968\n",
      "epsilon is 0.3720500924930706, alpha is 34.0\n",
      "Epoch 8, Loss G: 0.6818, Loss D: 1.3852\n",
      "epsilon is 0.39991427417149683, alpha is 32.0\n",
      "Epoch 9, Loss G: 0.6775, Loss D: 1.4022\n",
      "epsilon is 0.4262601519843574, alpha is 30.0\n",
      "Epoch 10, Loss G: 0.6785, Loss D: 1.3966\n",
      "epsilon is 0.451283395780314, alpha is 29.0\n",
      "Epoch 11, Loss G: 0.6860, Loss D: 1.3890\n",
      "epsilon is 0.47524504755494107, alpha is 28.0\n",
      "Epoch 12, Loss G: 0.6875, Loss D: 1.3938\n",
      "epsilon is 0.49822910903787965, alpha is 27.0\n",
      "Epoch 13, Loss G: 0.6712, Loss D: 1.3910\n",
      "epsilon is 0.5203327144596119, alpha is 26.0\n",
      "Epoch 14, Loss G: 0.6887, Loss D: 1.3942\n",
      "epsilon is 0.5416689413148232, alpha is 25.0\n",
      "Epoch 15, Loss G: 0.6918, Loss D: 1.3684\n",
      "epsilon is 0.5623703696624527, alpha is 24.0\n",
      "Epoch 16, Loss G: 0.6914, Loss D: 1.3845\n",
      "epsilon is 0.5825936323232469, alpha is 23.0\n",
      "Epoch 17, Loss G: 0.6978, Loss D: 1.3786\n",
      "epsilon is 0.601971611445893, alpha is 23.0\n",
      "Epoch 18, Loss G: 0.6959, Loss D: 1.3722\n",
      "epsilon is 0.6210450390176536, alpha is 22.0\n",
      "Epoch 19, Loss G: 0.7044, Loss D: 1.3810\n",
      "epsilon is 0.6395647859717124, alpha is 22.0\n",
      "Epoch 20, Loss G: 0.6873, Loss D: 1.3808\n",
      "epsilon is 0.6577154729605009, alpha is 21.0\n",
      "Epoch 21, Loss G: 0.6974, Loss D: 1.3860\n",
      "epsilon is 0.6753784502802374, alpha is 21.0\n",
      "Epoch 22, Loss G: 0.6859, Loss D: 1.3765\n",
      "epsilon is 0.6928812335877832, alpha is 20.0\n",
      "Epoch 23, Loss G: 0.6935, Loss D: 1.3919\n",
      "epsilon is 0.7096888987855292, alpha is 20.0\n",
      "Epoch 24, Loss G: 0.6970, Loss D: 1.3855\n",
      "epsilon is 0.7264965639832751, alpha is 20.0\n",
      "Epoch 25, Loss G: 0.6901, Loss D: 1.3864\n",
      "epsilon is 0.7428337670758786, alpha is 19.0\n",
      "Epoch 26, Loss G: 0.6813, Loss D: 1.3921\n",
      "epsilon is 0.7587875726691445, alpha is 19.0\n",
      "Epoch 27, Loss G: 0.6801, Loss D: 1.3998\n",
      "epsilon is 0.7747413782624106, alpha is 19.0\n",
      "Epoch 28, Loss G: 0.6862, Loss D: 1.3980\n",
      "epsilon is 0.7903319284425459, alpha is 18.0\n",
      "Epoch 29, Loss G: 0.6933, Loss D: 1.3776\n",
      "epsilon is 0.8054333219809304, alpha is 18.0\n",
      "Epoch 30, Loss G: 0.7000, Loss D: 1.3748\n",
      "epsilon is 0.8205347155193149, alpha is 18.0\n",
      "Epoch 31, Loss G: 0.6940, Loss D: 1.3735\n",
      "epsilon is 0.8356361090576995, alpha is 18.0\n",
      "Epoch 32, Loss G: 0.6693, Loss D: 1.4007\n",
      "epsilon is 0.8501533808975352, alpha is 17.0\n",
      "Epoch 33, Loss G: 0.6460, Loss D: 1.4153\n",
      "epsilon is 0.864403804989434, alpha is 17.0\n",
      "Epoch 34, Loss G: 0.6637, Loss D: 1.3869\n",
      "epsilon is 0.8786542290813331, alpha is 17.0\n",
      "Epoch 35, Loss G: 0.6716, Loss D: 1.3938\n",
      "epsilon is 0.8929046531732319, alpha is 17.0\n",
      "Epoch 36, Loss G: 0.6597, Loss D: 1.4013\n",
      "epsilon is 0.9070173050829555, alpha is 16.0\n",
      "Epoch 37, Loss G: 0.6533, Loss D: 1.3997\n",
      "epsilon is 0.920418197422067, alpha is 16.0\n",
      "Epoch 38, Loss G: 0.6649, Loss D: 1.3874\n",
      "epsilon is 0.9338190897611783, alpha is 16.0\n",
      "Epoch 39, Loss G: 0.6773, Loss D: 1.4041\n",
      "epsilon is 0.9472199821002899, alpha is 16.0\n",
      "Epoch 40, Loss G: 0.6761, Loss D: 1.3994\n",
      "epsilon is 0.9606208744394013, alpha is 16.0\n",
      "Epoch 41, Loss G: 0.6819, Loss D: 1.3901\n",
      "epsilon is 0.9740217667785126, alpha is 16.0\n",
      "Epoch 42, Loss G: 0.6871, Loss D: 1.3835\n",
      "epsilon is 0.9868954546279258, alpha is 15.0\n",
      "Epoch 43, Loss G: 0.6819, Loss D: 1.3946\n",
      "epsilon is 0.9994482480195637, alpha is 15.0\n",
      "Epoch 44, Loss G: 0.6902, Loss D: 1.3835\n",
      "epsilon is 1.0120010414112015, alpha is 15.0\n",
      "Epoch 45, Loss G: 0.6832, Loss D: 1.3750\n",
      "epsilon is 1.0245538348028391, alpha is 15.0\n",
      "Epoch 46, Loss G: 0.6928, Loss D: 1.3888\n",
      "epsilon is 1.0371066281944767, alpha is 15.0\n",
      "Epoch 47, Loss G: 0.6903, Loss D: 1.3827\n",
      "epsilon is 1.0496594215861146, alpha is 15.0\n",
      "Epoch 48, Loss G: 0.6943, Loss D: 1.3835\n",
      "epsilon is 1.0622122149777524, alpha is 15.0\n",
      "Epoch 49, Loss G: 0.7012, Loss D: 1.3746\n",
      "epsilon is 1.074137172728064, alpha is 14.0\n",
      "Epoch 50, Loss G: 0.6979, Loss D: 1.3768\n",
      "epsilon is 1.085843295115271, alpha is 14.0\n",
      "Epoch 51, Loss G: 0.6848, Loss D: 1.3990\n",
      "epsilon is 1.0975494175024783, alpha is 14.0\n",
      "Epoch 52, Loss G: 0.6696, Loss D: 1.3895\n",
      "epsilon is 1.1092555398896853, alpha is 14.0\n",
      "Epoch 53, Loss G: 0.6867, Loss D: 1.3868\n",
      "epsilon is 1.1209616622768925, alpha is 14.0\n",
      "Epoch 54, Loss G: 0.6837, Loss D: 1.3710\n",
      "epsilon is 1.1326677846640998, alpha is 14.0\n",
      "Epoch 55, Loss G: 0.6947, Loss D: 1.3769\n",
      "epsilon is 1.1443739070513068, alpha is 14.0\n",
      "Epoch 56, Loss G: 0.6789, Loss D: 1.3991\n",
      "epsilon is 1.1560800294385138, alpha is 14.0\n",
      "Epoch 57, Loss G: 0.6833, Loss D: 1.3874\n",
      "epsilon is 1.1677350461402003, alpha is 13.0\n",
      "Epoch 58, Loss G: 0.6658, Loss D: 1.3943\n",
      "epsilon is 1.1785959206296721, alpha is 13.0\n",
      "Epoch 59, Loss G: 0.6725, Loss D: 1.3953\n",
      "epsilon is 1.1894567951191442, alpha is 13.0\n",
      "Epoch 60, Loss G: 0.6729, Loss D: 1.3920\n",
      "epsilon is 1.2003176696086162, alpha is 13.0\n",
      "Epoch 61, Loss G: 0.6763, Loss D: 1.3812\n",
      "epsilon is 1.2111785440980882, alpha is 13.0\n",
      "Epoch 62, Loss G: 0.6927, Loss D: 1.3807\n",
      "epsilon is 1.2220394185875603, alpha is 13.0\n",
      "Epoch 63, Loss G: 0.6748, Loss D: 1.3777\n",
      "epsilon is 1.2329002930770323, alpha is 13.0\n",
      "Epoch 64, Loss G: 0.6567, Loss D: 1.4027\n",
      "epsilon is 1.2437611675665043, alpha is 13.0\n",
      "Epoch 65, Loss G: 0.6561, Loss D: 1.4246\n",
      "epsilon is 1.2546220420559764, alpha is 13.0\n",
      "Epoch 66, Loss G: 0.6576, Loss D: 1.4084\n",
      "epsilon is 1.2654829165454484, alpha is 13.0\n",
      "Epoch 67, Loss G: 0.6817, Loss D: 1.3921\n",
      "epsilon is 1.2763437910349205, alpha is 13.0\n",
      "Epoch 68, Loss G: 0.6836, Loss D: 1.3889\n",
      "epsilon is 1.2872046655243925, alpha is 13.0\n",
      "Epoch 69, Loss G: 0.7079, Loss D: 1.3717\n",
      "epsilon is 1.2973045023274319, alpha is 12.0\n",
      "Epoch 70, Loss G: 0.7054, Loss D: 1.3669\n",
      "epsilon is 1.3073215472152424, alpha is 12.0\n",
      "Epoch 71, Loss G: 0.6767, Loss D: 1.3947\n",
      "epsilon is 1.317338592103053, alpha is 12.0\n",
      "Epoch 72, Loss G: 0.6772, Loss D: 1.3872\n",
      "epsilon is 1.3273556369908632, alpha is 12.0\n",
      "Epoch 73, Loss G: 0.6863, Loss D: 1.3946\n",
      "epsilon is 1.337372681878674, alpha is 12.0\n",
      "Epoch 74, Loss G: 0.6734, Loss D: 1.3993\n",
      "epsilon is 1.3473897267664843, alpha is 12.0\n",
      "Epoch 75, Loss G: 0.6870, Loss D: 1.3813\n",
      "epsilon is 1.357406771654295, alpha is 12.0\n",
      "Epoch 76, Loss G: 0.6977, Loss D: 1.3794\n",
      "epsilon is 1.3674238165421053, alpha is 12.0\n",
      "Epoch 77, Loss G: 0.6874, Loss D: 1.3668\n",
      "epsilon is 1.3774408614299158, alpha is 12.0\n",
      "Epoch 78, Loss G: 0.6764, Loss D: 1.3874\n",
      "epsilon is 1.3874579063177264, alpha is 12.0\n",
      "Epoch 79, Loss G: 0.6690, Loss D: 1.3833\n",
      "epsilon is 1.3974749512055369, alpha is 12.0\n",
      "Epoch 80, Loss G: 0.6601, Loss D: 1.4011\n",
      "epsilon is 1.4074919960933474, alpha is 12.0\n",
      "Epoch 81, Loss G: 0.6628, Loss D: 1.4058\n",
      "epsilon is 1.4175090409811577, alpha is 12.0\n",
      "Epoch 82, Loss G: 0.6686, Loss D: 1.4077\n",
      "epsilon is 1.4275260858689685, alpha is 12.0\n",
      "Epoch 83, Loss G: 0.6798, Loss D: 1.3979\n",
      "epsilon is 1.4375431307567788, alpha is 12.0\n",
      "Epoch 84, Loss G: 0.6761, Loss D: 1.3835\n",
      "epsilon is 1.4472378211770787, alpha is 10.9\n",
      "Epoch 85, Loss G: 0.6744, Loss D: 1.3898\n",
      "epsilon is 1.4563282859247897, alpha is 10.9\n",
      "Epoch 86, Loss G: 0.6773, Loss D: 1.3733\n",
      "epsilon is 1.4654187506725012, alpha is 10.9\n",
      "Epoch 87, Loss G: 0.6719, Loss D: 1.3944\n",
      "epsilon is 1.4745092154202126, alpha is 10.9\n",
      "Epoch 88, Loss G: 0.6747, Loss D: 1.4023\n",
      "epsilon is 1.4835996801679237, alpha is 10.9\n",
      "Epoch 89, Loss G: 0.6736, Loss D: 1.3934\n",
      "epsilon is 1.4926901449156351, alpha is 10.9\n",
      "Epoch 90, Loss G: 0.6707, Loss D: 1.3909\n",
      "epsilon is 1.5017806096633466, alpha is 10.9\n",
      "Epoch 91, Loss G: 0.6736, Loss D: 1.4031\n",
      "epsilon is 1.5108710744110576, alpha is 10.9\n",
      "Epoch 92, Loss G: 0.6779, Loss D: 1.3877\n",
      "epsilon is 1.519961539158769, alpha is 10.9\n",
      "Epoch 93, Loss G: 0.6731, Loss D: 1.3959\n",
      "epsilon is 1.5290520039064806, alpha is 10.9\n",
      "Epoch 94, Loss G: 0.7060, Loss D: 1.3854\n",
      "epsilon is 1.5381424686541916, alpha is 10.9\n",
      "Epoch 95, Loss G: 0.6972, Loss D: 1.3695\n",
      "epsilon is 1.5472012698558901, alpha is 10.8\n",
      "Epoch 96, Loss G: 0.6841, Loss D: 1.4002\n"
     ]
    },
    {
     "name": "stdout",
     "output_type": "stream",
     "text": [
      "epsilon is 1.556207584636917, alpha is 10.8\n",
      "Epoch 97, Loss G: 0.6697, Loss D: 1.4038\n",
      "epsilon is 1.5651892193778947, alpha is 10.7\n",
      "Epoch 98, Loss G: 0.6785, Loss D: 1.3939\n",
      "epsilon is 1.5741113982702355, alpha is 10.7\n",
      "Epoch 99, Loss G: 0.6787, Loss D: 1.3772\n",
      "epsilon is 1.5830215658157973, alpha is 10.6\n",
      "Epoch 100, Loss G: 0.6908, Loss D: 1.3748\n",
      "epsilon is 1.5918596228927195, alpha is 10.6\n",
      "Epoch 101, Loss G: 0.6983, Loss D: 1.3901\n",
      "epsilon is 1.6006976799696417, alpha is 10.6\n",
      "Epoch 102, Loss G: 0.6929, Loss D: 1.3985\n",
      "epsilon is 1.609458214712484, alpha is 10.5\n",
      "Epoch 103, Loss G: 0.7120, Loss D: 1.3699\n",
      "epsilon is 1.6182121640425107, alpha is 10.5\n",
      "Epoch 104, Loss G: 0.7120, Loss D: 1.3722\n",
      "epsilon is 1.626913385969906, alpha is 10.4\n",
      "Epoch 105, Loss G: 0.6978, Loss D: 1.3609\n",
      "epsilon is 1.6355832416168248, alpha is 10.4\n",
      "Epoch 106, Loss G: 0.7004, Loss D: 1.3819\n",
      "epsilon is 1.6442316189592925, alpha is 10.3\n",
      "Epoch 107, Loss G: 0.7010, Loss D: 1.3859\n",
      "epsilon is 1.6528173949821567, alpha is 10.3\n",
      "Epoch 108, Loss G: 0.6871, Loss D: 1.3928\n",
      "epsilon is 1.6614031710050214, alpha is 10.3\n",
      "Epoch 109, Loss G: 0.6799, Loss D: 1.3748\n",
      "epsilon is 1.669921391432269, alpha is 10.2\n",
      "Epoch 110, Loss G: 0.6671, Loss D: 1.4249\n",
      "epsilon is 1.678423101885404, alpha is 10.2\n",
      "Epoch 111, Loss G: 0.6806, Loss D: 1.3852\n",
      "epsilon is 1.6869022992144695, alpha is 10.1\n",
      "Epoch 112, Loss G: 0.6625, Loss D: 1.3856\n",
      "epsilon is 1.6953199581474698, alpha is 10.1\n",
      "Epoch 113, Loss G: 0.6528, Loss D: 1.3762\n",
      "epsilon is 1.70373761708047, alpha is 10.1\n",
      "Epoch 114, Loss G: 0.6517, Loss D: 1.4174\n",
      "epsilon is 1.7121011260167358, alpha is 10.0\n",
      "Epoch 115, Loss G: 0.6648, Loss D: 1.4073\n",
      "epsilon is 1.7204347474744721, alpha is 10.0\n",
      "Epoch 116, Loss G: 0.6753, Loss D: 1.3802\n",
      "epsilon is 1.7287683689322084, alpha is 10.0\n",
      "Epoch 117, Loss G: 0.6902, Loss D: 1.3651\n",
      "epsilon is 1.7370239259164277, alpha is 9.9\n",
      "Epoch 118, Loss G: 0.6660, Loss D: 1.3681\n",
      "epsilon is 1.7452735239390447, alpha is 9.9\n",
      "Epoch 119, Loss G: 0.6414, Loss D: 1.4178\n",
      "epsilon is 1.7535132304299803, alpha is 9.8\n",
      "Epoch 120, Loss G: 0.6548, Loss D: 1.3887\n",
      "epsilon is 1.761678819052904, alpha is 9.8\n",
      "Epoch 121, Loss G: 0.6691, Loss D: 1.3661\n",
      "epsilon is 1.7698444076758277, alpha is 9.8\n",
      "Epoch 122, Loss G: 0.6711, Loss D: 1.3956\n",
      "epsilon is 1.7779927087313068, alpha is 9.7\n",
      "Epoch 123, Loss G: 0.6879, Loss D: 1.3767\n",
      "epsilon is 1.7860743019852439, alpha is 9.7\n",
      "Epoch 124, Loss G: 0.6661, Loss D: 1.3866\n",
      "epsilon is 1.794155895239181, alpha is 9.7\n",
      "Epoch 125, Loss G: 0.6441, Loss D: 1.4312\n",
      "epsilon is 1.8022216580667965, alpha is 9.6\n",
      "Epoch 126, Loss G: 0.6445, Loss D: 1.4112\n",
      "epsilon is 1.8102192699777397, alpha is 9.6\n",
      "Epoch 127, Loss G: 0.6783, Loss D: 1.4043\n",
      "epsilon is 1.8182168818886828, alpha is 9.6\n",
      "Epoch 128, Loss G: 0.6830, Loss D: 1.3879\n",
      "epsilon is 1.8262093962898176, alpha is 9.5\n",
      "Epoch 129, Loss G: 0.6791, Loss D: 1.3783\n",
      "epsilon is 1.8341230408790448, alpha is 9.5\n",
      "Epoch 130, Loss G: 0.6823, Loss D: 1.3904\n",
      "epsilon is 1.8420366854682722, alpha is 9.5\n",
      "Epoch 131, Loss G: 0.6731, Loss D: 1.3867\n",
      "epsilon is 1.8499503300574995, alpha is 9.5\n",
      "Epoch 132, Loss G: 0.6870, Loss D: 1.3975\n",
      "epsilon is 1.8577953807324914, alpha is 9.4\n",
      "Epoch 133, Loss G: 0.7073, Loss D: 1.3685\n",
      "epsilon is 1.8656250720165695, alpha is 9.4\n",
      "Epoch 134, Loss G: 0.6953, Loss D: 1.3754\n",
      "epsilon is 1.873454763300647, alpha is 9.4\n",
      "Epoch 135, Loss G: 0.7012, Loss D: 1.3502\n",
      "epsilon is 1.8812465312633968, alpha is 9.3\n",
      "Epoch 136, Loss G: 0.7049, Loss D: 1.3630\n",
      "epsilon is 1.888992283254185, alpha is 9.3\n",
      "Epoch 137, Loss G: 0.6683, Loss D: 1.4125\n",
      "epsilon is 1.8967380352449732, alpha is 9.3\n",
      "Epoch 138, Loss G: 0.6495, Loss D: 1.4282\n",
      "epsilon is 1.9044837872357614, alpha is 9.3\n",
      "Epoch 139, Loss G: 0.6719, Loss D: 1.4199\n",
      "epsilon is 1.9121490661096239, alpha is 9.2\n",
      "Epoch 140, Loss G: 0.6674, Loss D: 1.3972\n",
      "epsilon is 1.919810892814275, alpha is 9.2\n",
      "Epoch 141, Loss G: 0.6930, Loss D: 1.3705\n",
      "epsilon is 1.927472719518926, alpha is 9.2\n",
      "Epoch 142, Loss G: 0.6820, Loss D: 1.3727\n",
      "epsilon is 1.9351067044640053, alpha is 9.1\n",
      "Epoch 143, Loss G: 0.7066, Loss D: 1.3606\n",
      "epsilon is 1.94268461988497, alpha is 9.1\n",
      "Epoch 144, Loss G: 0.6729, Loss D: 1.3675\n",
      "epsilon is 1.9502625353059344, alpha is 9.1\n",
      "Epoch 145, Loss G: 0.6686, Loss D: 1.3743\n",
      "epsilon is 1.9578404507268992, alpha is 9.1\n",
      "Epoch 146, Loss G: 0.6747, Loss D: 1.3837\n",
      "epsilon is 1.965371071443989, alpha is 9.0\n",
      "Epoch 147, Loss G: 0.6657, Loss D: 1.3919\n",
      "epsilon is 1.972865089579016, alpha is 9.0\n",
      "Epoch 148, Loss G: 0.6713, Loss D: 1.4158\n",
      "epsilon is 1.9803591077140432, alpha is 9.0\n",
      "Epoch 149, Loss G: 0.6546, Loss D: 1.3953\n",
      "epsilon is 1.9878531258490704, alpha is 9.0\n",
      "Epoch 150, Loss G: 0.6566, Loss D: 1.3867\n",
      "epsilon is 1.9952928452190875, alpha is 8.9\n",
      "Epoch 151, Loss G: 0.6528, Loss D: 1.3995\n",
      "epsilon is 2.002702980061228, alpha is 8.9\n",
      "Epoch 152, Loss G: 0.6483, Loss D: 1.3893\n",
      "epsilon is 2.0101131149033677, alpha is 8.9\n",
      "Epoch 153, Loss G: 0.6416, Loss D: 1.4208\n",
      "epsilon is 2.0175232497455076, alpha is 8.9\n",
      "Epoch 154, Loss G: 0.6348, Loss D: 1.4509\n",
      "epsilon is 2.024885178200776, alpha is 8.8\n",
      "Epoch 155, Loss G: 0.6248, Loss D: 1.4266\n",
      "epsilon is 2.0322114437383836, alpha is 8.8\n",
      "Epoch 156, Loss G: 0.6616, Loss D: 1.4075\n",
      "epsilon is 2.0395377092759905, alpha is 8.8\n",
      "Epoch 157, Loss G: 0.6882, Loss D: 1.3840\n",
      "epsilon is 2.046863974813598, alpha is 8.8\n",
      "Epoch 158, Loss G: 0.6968, Loss D: 1.3956\n",
      "epsilon is 2.0541619131274134, alpha is 8.7\n",
      "Epoch 159, Loss G: 0.6932, Loss D: 1.3620\n",
      "epsilon is 2.0614043233441497, alpha is 8.7\n",
      "Epoch 160, Loss G: 0.6626, Loss D: 1.3956\n",
      "epsilon is 2.0686467335608856, alpha is 8.7\n",
      "Epoch 161, Loss G: 0.6314, Loss D: 1.4287\n",
      "epsilon is 2.0758891437776215, alpha is 8.7\n",
      "Epoch 162, Loss G: 0.6439, Loss D: 1.4153\n",
      "epsilon is 2.0831315539943573, alpha is 8.7\n",
      "Epoch 163, Loss G: 0.6437, Loss D: 1.4253\n",
      "epsilon is 2.090296198153083, alpha is 8.6\n",
      "Epoch 164, Loss G: 0.6470, Loss D: 1.4323\n",
      "epsilon is 2.097454767027918, alpha is 8.6\n",
      "Epoch 165, Loss G: 0.6317, Loss D: 1.3945\n",
      "epsilon is 2.1046133359027537, alpha is 8.6\n",
      "Epoch 166, Loss G: 0.6434, Loss D: 1.4056\n",
      "epsilon is 2.1117719047775885, alpha is 8.6\n",
      "Epoch 167, Loss G: 0.6441, Loss D: 1.4130\n",
      "epsilon is 2.11890243394199, alpha is 8.5\n",
      "Epoch 168, Loss G: 0.6557, Loss D: 1.3784\n",
      "epsilon is 2.1259771754492065, alpha is 8.5\n",
      "Epoch 169, Loss G: 0.6501, Loss D: 1.4226\n",
      "epsilon is 2.1330519169564233, alpha is 8.5\n",
      "Epoch 170, Loss G: 0.6484, Loss D: 1.3901\n",
      "epsilon is 2.14012665846364, alpha is 8.5\n",
      "Epoch 171, Loss G: 0.6423, Loss D: 1.3776\n",
      "epsilon is 2.1472013999708564, alpha is 8.5\n",
      "Epoch 172, Loss G: 0.6590, Loss D: 1.3880\n",
      "epsilon is 2.1542301651662292, alpha is 8.4\n",
      "Epoch 173, Loss G: 0.6678, Loss D: 1.3946\n",
      "epsilon is 2.1612210932754228, alpha is 8.4\n",
      "Epoch 174, Loss G: 0.6853, Loss D: 1.3688\n",
      "epsilon is 2.1682120213846163, alpha is 8.4\n",
      "Epoch 175, Loss G: 0.6902, Loss D: 1.3677\n",
      "epsilon is 2.17520294949381, alpha is 8.4\n",
      "Epoch 176, Loss G: 0.7070, Loss D: 1.3615\n",
      "epsilon is 2.1821938776030034, alpha is 8.4\n",
      "Epoch 177, Loss G: 0.7252, Loss D: 1.3434\n",
      "epsilon is 2.1891379703370037, alpha is 8.3\n",
      "Epoch 178, Loss G: 0.7142, Loss D: 1.3780\n",
      "epsilon is 2.196045099013087, alpha is 8.3\n",
      "Epoch 179, Loss G: 0.6448, Loss D: 1.3966\n",
      "epsilon is 2.20295222768917, alpha is 8.3\n",
      "Epoch 180, Loss G: 0.6528, Loss D: 1.3785\n",
      "epsilon is 2.209859356365253, alpha is 8.3\n",
      "Epoch 181, Loss G: 0.6531, Loss D: 1.3723\n",
      "epsilon is 2.216766485041336, alpha is 8.3\n",
      "Epoch 182, Loss G: 0.6388, Loss D: 1.4270\n",
      "epsilon is 2.2236439594789132, alpha is 8.2\n",
      "Epoch 183, Loss G: 0.6294, Loss D: 1.4286\n",
      "epsilon is 2.2304673026821167, alpha is 8.2\n",
      "Epoch 184, Loss G: 0.6234, Loss D: 1.3949\n",
      "epsilon is 2.23729064588532, alpha is 8.2\n",
      "Epoch 185, Loss G: 0.6283, Loss D: 1.4089\n",
      "epsilon is 2.244113989088524, alpha is 8.2\n",
      "Epoch 186, Loss G: 0.6114, Loss D: 1.4124\n",
      "epsilon is 2.2509373322917274, alpha is 8.2\n",
      "Epoch 187, Loss G: 0.6425, Loss D: 1.4171\n",
      "epsilon is 2.257760675494931, alpha is 8.2\n",
      "Epoch 188, Loss G: 0.6371, Loss D: 1.4123\n",
      "epsilon is 2.264506845898245, alpha is 8.1\n",
      "Epoch 189, Loss G: 0.6442, Loss D: 1.4186\n",
      "epsilon is 2.271246417584123, alpha is 8.1\n",
      "Epoch 190, Loss G: 0.6536, Loss D: 1.3836\n",
      "epsilon is 2.2779859892700007, alpha is 8.1\n",
      "Epoch 191, Loss G: 0.6732, Loss D: 1.3638\n",
      "epsilon is 2.284725560955878, alpha is 8.1\n",
      "Epoch 192, Loss G: 0.6717, Loss D: 1.3378\n"
     ]
    },
    {
     "name": "stdout",
     "output_type": "stream",
     "text": [
      "epsilon is 2.2914651326417554, alpha is 8.1\n",
      "Epoch 193, Loss G: 0.6655, Loss D: 1.3685\n",
      "epsilon is 2.2981839768173193, alpha is 8.0\n",
      "Epoch 194, Loss G: 0.6895, Loss D: 1.3643\n",
      "epsilon is 2.3048397909367457, alpha is 8.0\n",
      "Epoch 195, Loss G: 0.6647, Loss D: 1.3659\n",
      "epsilon is 2.311495605056172, alpha is 8.0\n",
      "Epoch 196, Loss G: 0.6612, Loss D: 1.3870\n",
      "epsilon is 2.3181514191755985, alpha is 8.0\n",
      "Epoch 197, Loss G: 0.6617, Loss D: 1.3658\n",
      "epsilon is 2.324807233295025, alpha is 8.0\n",
      "Epoch 198, Loss G: 0.6257, Loss D: 1.4130\n",
      "epsilon is 2.3314630474144518, alpha is 8.0\n",
      "Epoch 199, Loss G: 0.6129, Loss D: 1.3871\n",
      "epsilon is 2.3380922021851975, alpha is 7.9\n",
      "Epoch 200, Loss G: 0.6365, Loss D: 1.4202\n",
      "epsilon is 2.344664272684378, alpha is 7.9\n",
      "Epoch 201, Loss G: 0.6442, Loss D: 1.4330\n",
      "epsilon is 2.3512363431835586, alpha is 7.9\n",
      "Epoch 202, Loss G: 0.6466, Loss D: 1.4119\n",
      "epsilon is 2.3578084136827386, alpha is 7.9\n",
      "Epoch 203, Loss G: 0.6543, Loss D: 1.3918\n",
      "epsilon is 2.3643804841819196, alpha is 7.9\n",
      "Epoch 204, Loss G: 0.6393, Loss D: 1.3835\n",
      "epsilon is 2.3709525546810997, alpha is 7.9\n",
      "Epoch 205, Loss G: 0.6404, Loss D: 1.4146\n",
      "epsilon is 2.3775147053188355, alpha is 7.8\n",
      "Epoch 206, Loss G: 0.6161, Loss D: 1.4193\n",
      "epsilon is 2.3840030461393007, alpha is 7.8\n",
      "Epoch 207, Loss G: 0.6191, Loss D: 1.4158\n",
      "epsilon is 2.390491386959765, alpha is 7.8\n",
      "Epoch 208, Loss G: 0.5852, Loss D: 1.4485\n",
      "epsilon is 2.39697972778023, alpha is 7.8\n",
      "Epoch 209, Loss G: 0.6010, Loss D: 1.4668\n",
      "epsilon is 2.4034680686006946, alpha is 7.8\n",
      "Epoch 210, Loss G: 0.6121, Loss D: 1.4502\n",
      "epsilon is 2.4099564094211594, alpha is 7.8\n",
      "Epoch 211, Loss G: 0.6168, Loss D: 1.4061\n",
      "epsilon is 2.416444750241624, alpha is 7.8\n",
      "Epoch 212, Loss G: 0.6240, Loss D: 1.4121\n",
      "epsilon is 2.422880240108705, alpha is 7.7\n",
      "Epoch 213, Loss G: 0.6306, Loss D: 1.3965\n",
      "epsilon is 2.429284865187317, alpha is 7.7\n",
      "Epoch 214, Loss G: 0.6698, Loss D: 1.3922\n",
      "epsilon is 2.4356894902659287, alpha is 7.7\n",
      "Epoch 215, Loss G: 0.6635, Loss D: 1.4092\n",
      "epsilon is 2.442094115344541, alpha is 7.7\n",
      "Epoch 216, Loss G: 0.6545, Loss D: 1.3805\n",
      "epsilon is 2.4484987404231533, alpha is 7.7\n",
      "Epoch 217, Loss G: 0.6572, Loss D: 1.3517\n",
      "epsilon is 2.454903365501765, alpha is 7.7\n",
      "Epoch 218, Loss G: 0.6755, Loss D: 1.3779\n",
      "epsilon is 2.4613079905803774, alpha is 7.7\n",
      "Epoch 219, Loss G: 0.6183, Loss D: 1.4108\n",
      "epsilon is 2.467642386298234, alpha is 7.6\n",
      "Epoch 220, Loss G: 0.6291, Loss D: 1.3939\n",
      "epsilon is 2.4739633095671896, alpha is 7.6\n",
      "Epoch 221, Loss G: 0.6512, Loss D: 1.4104\n",
      "epsilon is 2.480284232836145, alpha is 7.6\n",
      "Epoch 222, Loss G: 0.6509, Loss D: 1.4059\n",
      "epsilon is 2.486605156105101, alpha is 7.6\n",
      "Epoch 223, Loss G: 0.6247, Loss D: 1.3817\n",
      "epsilon is 2.492926079374057, alpha is 7.6\n",
      "Epoch 224, Loss G: 0.6264, Loss D: 1.3982\n",
      "epsilon is 2.499247002643012, alpha is 7.6\n",
      "Epoch 225, Loss G: 0.6095, Loss D: 1.4299\n",
      "epsilon is 2.505567925911968, alpha is 7.6\n",
      "Epoch 226, Loss G: 0.6184, Loss D: 1.4089\n",
      "epsilon is 2.511828389458212, alpha is 7.5\n",
      "Epoch 227, Loss G: 0.6165, Loss D: 1.4056\n",
      "epsilon is 2.518065624845045, alpha is 7.5\n",
      "Epoch 228, Loss G: 0.6189, Loss D: 1.4613\n",
      "epsilon is 2.5243028602318778, alpha is 7.5\n",
      "Epoch 229, Loss G: 0.6081, Loss D: 1.4360\n",
      "epsilon is 2.5305400956187105, alpha is 7.5\n",
      "Epoch 230, Loss G: 0.5929, Loss D: 1.4435\n",
      "epsilon is 2.5367773310055437, alpha is 7.5\n",
      "Epoch 231, Loss G: 0.6111, Loss D: 1.4070\n",
      "epsilon is 2.543014566392376, alpha is 7.5\n",
      "Epoch 232, Loss G: 0.6086, Loss D: 1.3987\n",
      "epsilon is 2.549251801779209, alpha is 7.5\n",
      "Epoch 233, Loss G: 0.6191, Loss D: 1.4135\n",
      "epsilon is 2.555467217190902, alpha is 7.4\n",
      "Epoch 234, Loss G: 0.6295, Loss D: 1.4176\n",
      "epsilon is 2.561620778618483, alpha is 7.4\n",
      "Epoch 235, Loss G: 0.6464, Loss D: 1.3551\n",
      "epsilon is 2.567774340046064, alpha is 7.4\n",
      "Epoch 236, Loss G: 0.6214, Loss D: 1.4091\n",
      "epsilon is 2.5739279014736454, alpha is 7.4\n",
      "Epoch 237, Loss G: 0.6346, Loss D: 1.4155\n",
      "epsilon is 2.580081462901227, alpha is 7.4\n",
      "Epoch 238, Loss G: 0.6212, Loss D: 1.3881\n",
      "epsilon is 2.586235024328808, alpha is 7.4\n",
      "Epoch 239, Loss G: 0.6014, Loss D: 1.4085\n",
      "epsilon is 2.5923885857563893, alpha is 7.4\n",
      "Epoch 240, Loss G: 0.6214, Loss D: 1.3773\n",
      "epsilon is 2.598542147183971, alpha is 7.4\n",
      "Epoch 241, Loss G: 0.5960, Loss D: 1.4156\n",
      "epsilon is 2.604659599443127, alpha is 7.3\n",
      "Epoch 242, Loss G: 0.5935, Loss D: 1.4252\n",
      "epsilon is 2.6107295008296685, alpha is 7.3\n",
      "Epoch 243, Loss G: 0.5751, Loss D: 1.4283\n",
      "epsilon is 2.616799402216211, alpha is 7.3\n",
      "Epoch 244, Loss G: 0.5879, Loss D: 1.4343\n",
      "epsilon is 2.622869303602753, alpha is 7.3\n",
      "Epoch 245, Loss G: 0.6034, Loss D: 1.4344\n",
      "epsilon is 2.628939204989295, alpha is 7.3\n",
      "Epoch 246, Loss G: 0.6119, Loss D: 1.4254\n",
      "epsilon is 2.6350091063758367, alpha is 7.3\n",
      "Epoch 247, Loss G: 0.6087, Loss D: 1.3777\n",
      "epsilon is 2.6410790077623787, alpha is 7.3\n",
      "Epoch 248, Loss G: 0.6123, Loss D: 1.4337\n",
      "epsilon is 2.647148909148921, alpha is 7.3\n",
      "Epoch 249, Loss G: 0.6247, Loss D: 1.3969\n",
      "epsilon is 2.65320118463225, alpha is 7.2\n",
      "Epoch 250, Loss G: 0.5967, Loss D: 1.3856\n",
      "epsilon is 2.6591874398913085, alpha is 7.2\n",
      "Epoch 251, Loss G: 0.6100, Loss D: 1.3849\n",
      "epsilon is 2.665173695150367, alpha is 7.2\n",
      "Epoch 252, Loss G: 0.5844, Loss D: 1.4106\n",
      "epsilon is 2.671159950409425, alpha is 7.2\n",
      "Epoch 253, Loss G: 0.5763, Loss D: 1.4317\n",
      "epsilon is 2.6771462056684836, alpha is 7.2\n",
      "Epoch 254, Loss G: 0.6102, Loss D: 1.3761\n",
      "epsilon is 2.683132460927542, alpha is 7.2\n",
      "Epoch 255, Loss G: 0.5971, Loss D: 1.3911\n",
      "epsilon is 2.6891187161866004, alpha is 7.2\n",
      "Epoch 256, Loss G: 0.6163, Loss D: 1.4117\n",
      "epsilon is 2.6951049714456587, alpha is 7.2\n",
      "Epoch 257, Loss G: 0.6069, Loss D: 1.3909\n",
      "epsilon is 2.701091226704717, alpha is 7.2\n",
      "Epoch 258, Loss G: 0.5957, Loss D: 1.3856\n",
      "epsilon is 2.7070296608179234, alpha is 7.1\n",
      "Epoch 259, Loss G: 0.6089, Loss D: 1.4011\n",
      "epsilon is 2.712932283858401, alpha is 7.1\n",
      "Epoch 260, Loss G: 0.6060, Loss D: 1.4083\n",
      "epsilon is 2.718834906898879, alpha is 7.1\n",
      "Epoch 261, Loss G: 0.5960, Loss D: 1.3731\n",
      "epsilon is 2.7247375299393566, alpha is 7.1\n",
      "Epoch 262, Loss G: 0.5696, Loss D: 1.4109\n",
      "epsilon is 2.7306401529798343, alpha is 7.1\n",
      "Epoch 263, Loss G: 0.5884, Loss D: 1.4302\n",
      "epsilon is 2.736542776020312, alpha is 7.1\n",
      "Epoch 264, Loss G: 0.5698, Loss D: 1.4410\n",
      "epsilon is 2.7424453990607898, alpha is 7.1\n",
      "Epoch 265, Loss G: 0.5870, Loss D: 1.4351\n",
      "epsilon is 2.748348022101268, alpha is 7.1\n",
      "Epoch 266, Loss G: 0.5842, Loss D: 1.4186\n",
      "epsilon is 2.7542506451417457, alpha is 7.1\n",
      "Epoch 267, Loss G: 0.5830, Loss D: 1.4144\n",
      "epsilon is 2.7601125992823943, alpha is 7.0\n",
      "Epoch 268, Loss G: 0.5872, Loss D: 1.4264\n",
      "epsilon is 2.7659316040085398, alpha is 7.0\n",
      "Epoch 269, Loss G: 0.6059, Loss D: 1.4278\n",
      "epsilon is 2.771750608734686, alpha is 7.0\n",
      "Epoch 270, Loss G: 0.6217, Loss D: 1.4362\n",
      "epsilon is 2.7775696134608316, alpha is 7.0\n",
      "Epoch 271, Loss G: 0.6129, Loss D: 1.4205\n",
      "epsilon is 2.783388618186978, alpha is 7.0\n",
      "Epoch 272, Loss G: 0.6073, Loss D: 1.4410\n",
      "epsilon is 2.7892076229131235, alpha is 7.0\n",
      "Epoch 273, Loss G: 0.6004, Loss D: 1.4156\n",
      "epsilon is 2.7950266276392695, alpha is 7.0\n",
      "Epoch 274, Loss G: 0.5780, Loss D: 1.4072\n",
      "epsilon is 2.8008456323654154, alpha is 7.0\n",
      "Epoch 275, Loss G: 0.6139, Loss D: 1.4242\n",
      "epsilon is 2.8066646370915613, alpha is 7.0\n",
      "Epoch 276, Loss G: 0.6142, Loss D: 1.4085\n",
      "epsilon is 2.8124836418177073, alpha is 7.0\n",
      "Epoch 277, Loss G: 0.6141, Loss D: 1.3460\n",
      "epsilon is 2.818225442678165, alpha is 6.9\n",
      "Epoch 278, Loss G: 0.6215, Loss D: 1.3421\n",
      "epsilon is 2.8239608429896483, alpha is 6.9\n",
      "Epoch 279, Loss G: 0.6252, Loss D: 1.3641\n",
      "epsilon is 2.8296962433011315, alpha is 6.9\n",
      "Epoch 280, Loss G: 0.6458, Loss D: 1.3259\n",
      "epsilon is 2.835431643612615, alpha is 6.9\n",
      "Epoch 281, Loss G: 0.6374, Loss D: 1.3635\n",
      "epsilon is 2.841167043924098, alpha is 6.9\n",
      "Epoch 282, Loss G: 0.6529, Loss D: 1.3665\n",
      "epsilon is 2.8469024442355813, alpha is 6.9\n",
      "Epoch 283, Loss G: 0.6042, Loss D: 1.3827\n",
      "epsilon is 2.852637844547065, alpha is 6.9\n",
      "Epoch 284, Loss G: 0.5652, Loss D: 1.4409\n",
      "epsilon is 2.858373244858548, alpha is 6.9\n",
      "Epoch 285, Loss G: 0.5509, Loss D: 1.5177\n",
      "epsilon is 2.864108645170031, alpha is 6.9\n",
      "Epoch 286, Loss G: 0.5700, Loss D: 1.4333\n",
      "epsilon is 2.869844045481514, alpha is 6.9\n",
      "Epoch 287, Loss G: 0.5703, Loss D: 1.4731\n",
      "epsilon is 2.8755084466564846, alpha is 6.8\n",
      "Epoch 288, Loss G: 0.5803, Loss D: 1.4035\n"
     ]
    },
    {
     "name": "stdout",
     "output_type": "stream",
     "text": [
      "epsilon is 2.8811602564481547, alpha is 6.8\n",
      "Epoch 289, Loss G: 0.6030, Loss D: 1.4253\n",
      "epsilon is 2.8868120662398247, alpha is 6.8\n",
      "Epoch 290, Loss G: 0.6417, Loss D: 1.3891\n",
      "epsilon is 2.892463876031495, alpha is 6.8\n",
      "Epoch 291, Loss G: 0.6699, Loss D: 1.3682\n",
      "epsilon is 2.8981156858231656, alpha is 6.8\n",
      "Epoch 292, Loss G: 0.6155, Loss D: 1.4084\n",
      "epsilon is 2.903767495614836, alpha is 6.8\n",
      "Epoch 293, Loss G: 0.6231, Loss D: 1.4190\n",
      "epsilon is 2.909419305406506, alpha is 6.8\n",
      "Epoch 294, Loss G: 0.6290, Loss D: 1.3819\n",
      "epsilon is 2.915071115198176, alpha is 6.8\n",
      "Epoch 295, Loss G: 0.6224, Loss D: 1.4064\n",
      "epsilon is 2.9207229249898465, alpha is 6.8\n",
      "Epoch 296, Loss G: 0.6382, Loss D: 1.4290\n",
      "epsilon is 2.926374734781517, alpha is 6.8\n",
      "Epoch 297, Loss G: 0.6287, Loss D: 1.3604\n",
      "epsilon is 2.932007533768708, alpha is 6.7\n",
      "Epoch 298, Loss G: 0.6398, Loss D: 1.3880\n",
      "epsilon is 2.937575766930928, alpha is 6.7\n",
      "Epoch 299, Loss G: 0.6040, Loss D: 1.4325\n",
      "epsilon is 2.9431440000931484, alpha is 6.7\n",
      "Epoch 300, Loss G: 0.5719, Loss D: 1.4593\n",
      "epsilon is 2.948712233255369, alpha is 6.7\n"
     ]
    }
   ],
   "source": [
    "# Testing\n",
    "dpctgan = PytorchDPSynthesizer(3.0, DPCTGAN(), None)\n",
    "dpctgan.fit(adult_train, categorical_columns=[\"workclass\", \"education\", \"occupation\", \"relationship\", \"race\", \"sex\", \"label\"])"
   ]
  },
  {
   "cell_type": "code",
   "execution_count": null,
   "metadata": {
    "cell_id": "00032-bb73ddfb-a0d9-4a26-bf54-7a4a831fac5c",
    "deepnote_cell_type": "code",
    "tags": []
   },
   "outputs": [],
   "source": []
  },
  {
   "cell_type": "markdown",
   "metadata": {
    "created_in_deepnote_cell": true,
    "deepnote_cell_type": "markdown",
    "tags": []
   },
   "source": [
    "<a style='text-decoration:none;line-height:16px;display:flex;color:#5B5B62;padding:10px;justify-content:end;' href='https://deepnote.com?utm_source=created-in-deepnote-cell&projectId=aa928c63-0856-4021-a156-02d09e35182a' target=\"_blank\">\n",
    "<img alt='Created in deepnote.com' style='display:inline;max-height:16px;margin:0px;margin-right:7.5px;' src='data:image/svg+xml;base64,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' > </img>\n",
    "Created in <span style='font-weight:600;margin-left:4px;'>Deepnote</span></a>"
   ]
  }
 ],
 "metadata": {
  "deepnote": {},
  "deepnote_execution_queue": [],
  "deepnote_notebook_id": "41fe13f3-dabb-4895-9171-f67d41724cdd",
  "kernelspec": {
   "display_name": "Python 3",
   "language": "python",
   "name": "python3"
  },
  "language_info": {
   "codemirror_mode": {
    "name": "ipython",
    "version": 3
   },
   "file_extension": ".py",
   "mimetype": "text/x-python",
   "name": "python",
   "nbconvert_exporter": "python",
   "pygments_lexer": "ipython3",
   "version": "3.8.3"
  }
 },
 "nbformat": 4,
 "nbformat_minor": 4
}
