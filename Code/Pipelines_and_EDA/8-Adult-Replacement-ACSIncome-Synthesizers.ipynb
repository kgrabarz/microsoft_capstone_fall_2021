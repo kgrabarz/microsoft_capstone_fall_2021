{
 "cells": [
  {
   "cell_type": "code",
   "execution_count": 1,
   "metadata": {
    "cell_id": "00000-8d8818f2-be0c-4a4a-941e-a00cb6395cd4",
    "deepnote_cell_type": "code",
    "deepnote_to_be_reexecuted": false,
    "execution_millis": 2894,
    "execution_start": 1634153075478,
    "source_hash": "973bb74b"
   },
   "outputs": [],
   "source": [
    "import numpy as np\n",
    "import pandas as pd\n",
    "import matplotlib.pyplot as plt\n",
    "import seaborn as sns\n",
    "from sklearn.preprocessing import MinMaxScaler\n",
    "from sklearn.model_selection import train_test_split\n",
    "from sklearn.linear_model import LogisticRegression\n",
    "from sklearn.metrics import classification_report"
   ]
  },
  {
   "cell_type": "code",
   "execution_count": 2,
   "metadata": {
    "cell_id": "00001-217b4f3c-a33e-4e9f-bff6-c81e4508e1a8",
    "deepnote_cell_type": "code",
    "deepnote_to_be_reexecuted": false,
    "execution_millis": 8,
    "execution_start": 1634165147989,
    "source_hash": "9a88f86a"
   },
   "outputs": [],
   "source": [
    "# from opendp.smartnoise.synthesizers.mwem import MWEMSynthesizer\n",
    "from snsynth import MWEMSynthesizer\n",
    "from snsynth import QUAILSynthesizer\n",
    "from snsynth.pytorch import PytorchDPSynthesizer\n",
    "from snsynth.pytorch.nn import DPCTGAN\n",
    "\n",
    "from diffprivlib.models import LogisticRegression as DPLR"
   ]
  },
  {
   "cell_type": "markdown",
   "metadata": {
    "cell_id": "00004-2384c0d2-f177-48ec-ac0a-1f5558ba7706",
    "deepnote_cell_type": "markdown"
   },
   "source": [
    "# 4. Adult dataset\n",
    "\n",
    "## 4.1 Non-private data processing"
   ]
  },
  {
   "cell_type": "code",
   "execution_count": 3,
   "metadata": {
    "cell_id": "00005-f2fed029-b030-4892-bddc-7f738fcaf81c",
    "deepnote_cell_type": "code",
    "deepnote_to_be_reexecuted": false,
    "execution_millis": 1596,
    "execution_start": 1634153594602,
    "source_hash": "45a1dee2"
   },
   "outputs": [
    {
     "ename": "FileNotFoundError",
     "evalue": "[Errno 2] No such file or directory: 'ACSIncome_clean.csv'",
     "output_type": "error",
     "traceback": [
      "\u001b[0;31m---------------------------------------------------------------------------\u001b[0m",
      "\u001b[0;31mFileNotFoundError\u001b[0m                         Traceback (most recent call last)",
      "\u001b[0;32m<ipython-input-3-6860c14b490c>\u001b[0m in \u001b[0;36m<module>\u001b[0;34m\u001b[0m\n\u001b[1;32m      1\u001b[0m \u001b[0;31m# Read in the original data\u001b[0m\u001b[0;34m\u001b[0m\u001b[0;34m\u001b[0m\u001b[0;34m\u001b[0m\u001b[0m\n\u001b[0;32m----> 2\u001b[0;31m \u001b[0madult_data_full\u001b[0m \u001b[0;34m=\u001b[0m \u001b[0mpd\u001b[0m\u001b[0;34m.\u001b[0m\u001b[0mread_csv\u001b[0m\u001b[0;34m(\u001b[0m\u001b[0;34m'ACSIncome_clean.csv'\u001b[0m\u001b[0;34m,\u001b[0m \u001b[0mindex_col\u001b[0m\u001b[0;34m=\u001b[0m\u001b[0;32mFalse\u001b[0m\u001b[0;34m)\u001b[0m\u001b[0;34m\u001b[0m\u001b[0;34m\u001b[0m\u001b[0m\n\u001b[0m\u001b[1;32m      3\u001b[0m \u001b[0madult_data_full\u001b[0m\u001b[0;34m.\u001b[0m\u001b[0mhead\u001b[0m\u001b[0;34m(\u001b[0m\u001b[0;34m)\u001b[0m\u001b[0;34m\u001b[0m\u001b[0;34m\u001b[0m\u001b[0m\n",
      "\u001b[0;32m~/miniconda3/lib/python3.8/site-packages/pandas/io/parsers.py\u001b[0m in \u001b[0;36mread_csv\u001b[0;34m(filepath_or_buffer, sep, delimiter, header, names, index_col, usecols, squeeze, prefix, mangle_dupe_cols, dtype, engine, converters, true_values, false_values, skipinitialspace, skiprows, skipfooter, nrows, na_values, keep_default_na, na_filter, verbose, skip_blank_lines, parse_dates, infer_datetime_format, keep_date_col, date_parser, dayfirst, cache_dates, iterator, chunksize, compression, thousands, decimal, lineterminator, quotechar, quoting, doublequote, escapechar, comment, encoding, dialect, error_bad_lines, warn_bad_lines, delim_whitespace, low_memory, memory_map, float_precision)\u001b[0m\n\u001b[1;32m    686\u001b[0m     )\n\u001b[1;32m    687\u001b[0m \u001b[0;34m\u001b[0m\u001b[0m\n\u001b[0;32m--> 688\u001b[0;31m     \u001b[0;32mreturn\u001b[0m \u001b[0m_read\u001b[0m\u001b[0;34m(\u001b[0m\u001b[0mfilepath_or_buffer\u001b[0m\u001b[0;34m,\u001b[0m \u001b[0mkwds\u001b[0m\u001b[0;34m)\u001b[0m\u001b[0;34m\u001b[0m\u001b[0;34m\u001b[0m\u001b[0m\n\u001b[0m\u001b[1;32m    689\u001b[0m \u001b[0;34m\u001b[0m\u001b[0m\n\u001b[1;32m    690\u001b[0m \u001b[0;34m\u001b[0m\u001b[0m\n",
      "\u001b[0;32m~/miniconda3/lib/python3.8/site-packages/pandas/io/parsers.py\u001b[0m in \u001b[0;36m_read\u001b[0;34m(filepath_or_buffer, kwds)\u001b[0m\n\u001b[1;32m    452\u001b[0m \u001b[0;34m\u001b[0m\u001b[0m\n\u001b[1;32m    453\u001b[0m     \u001b[0;31m# Create the parser.\u001b[0m\u001b[0;34m\u001b[0m\u001b[0;34m\u001b[0m\u001b[0;34m\u001b[0m\u001b[0m\n\u001b[0;32m--> 454\u001b[0;31m     \u001b[0mparser\u001b[0m \u001b[0;34m=\u001b[0m \u001b[0mTextFileReader\u001b[0m\u001b[0;34m(\u001b[0m\u001b[0mfp_or_buf\u001b[0m\u001b[0;34m,\u001b[0m \u001b[0;34m**\u001b[0m\u001b[0mkwds\u001b[0m\u001b[0;34m)\u001b[0m\u001b[0;34m\u001b[0m\u001b[0;34m\u001b[0m\u001b[0m\n\u001b[0m\u001b[1;32m    455\u001b[0m \u001b[0;34m\u001b[0m\u001b[0m\n\u001b[1;32m    456\u001b[0m     \u001b[0;32mif\u001b[0m \u001b[0mchunksize\u001b[0m \u001b[0;32mor\u001b[0m \u001b[0miterator\u001b[0m\u001b[0;34m:\u001b[0m\u001b[0;34m\u001b[0m\u001b[0;34m\u001b[0m\u001b[0m\n",
      "\u001b[0;32m~/miniconda3/lib/python3.8/site-packages/pandas/io/parsers.py\u001b[0m in \u001b[0;36m__init__\u001b[0;34m(self, f, engine, **kwds)\u001b[0m\n\u001b[1;32m    946\u001b[0m             \u001b[0mself\u001b[0m\u001b[0;34m.\u001b[0m\u001b[0moptions\u001b[0m\u001b[0;34m[\u001b[0m\u001b[0;34m\"has_index_names\"\u001b[0m\u001b[0;34m]\u001b[0m \u001b[0;34m=\u001b[0m \u001b[0mkwds\u001b[0m\u001b[0;34m[\u001b[0m\u001b[0;34m\"has_index_names\"\u001b[0m\u001b[0;34m]\u001b[0m\u001b[0;34m\u001b[0m\u001b[0;34m\u001b[0m\u001b[0m\n\u001b[1;32m    947\u001b[0m \u001b[0;34m\u001b[0m\u001b[0m\n\u001b[0;32m--> 948\u001b[0;31m         \u001b[0mself\u001b[0m\u001b[0;34m.\u001b[0m\u001b[0m_make_engine\u001b[0m\u001b[0;34m(\u001b[0m\u001b[0mself\u001b[0m\u001b[0;34m.\u001b[0m\u001b[0mengine\u001b[0m\u001b[0;34m)\u001b[0m\u001b[0;34m\u001b[0m\u001b[0;34m\u001b[0m\u001b[0m\n\u001b[0m\u001b[1;32m    949\u001b[0m \u001b[0;34m\u001b[0m\u001b[0m\n\u001b[1;32m    950\u001b[0m     \u001b[0;32mdef\u001b[0m \u001b[0mclose\u001b[0m\u001b[0;34m(\u001b[0m\u001b[0mself\u001b[0m\u001b[0;34m)\u001b[0m\u001b[0;34m:\u001b[0m\u001b[0;34m\u001b[0m\u001b[0;34m\u001b[0m\u001b[0m\n",
      "\u001b[0;32m~/miniconda3/lib/python3.8/site-packages/pandas/io/parsers.py\u001b[0m in \u001b[0;36m_make_engine\u001b[0;34m(self, engine)\u001b[0m\n\u001b[1;32m   1178\u001b[0m     \u001b[0;32mdef\u001b[0m \u001b[0m_make_engine\u001b[0m\u001b[0;34m(\u001b[0m\u001b[0mself\u001b[0m\u001b[0;34m,\u001b[0m \u001b[0mengine\u001b[0m\u001b[0;34m=\u001b[0m\u001b[0;34m\"c\"\u001b[0m\u001b[0;34m)\u001b[0m\u001b[0;34m:\u001b[0m\u001b[0;34m\u001b[0m\u001b[0;34m\u001b[0m\u001b[0m\n\u001b[1;32m   1179\u001b[0m         \u001b[0;32mif\u001b[0m \u001b[0mengine\u001b[0m \u001b[0;34m==\u001b[0m \u001b[0;34m\"c\"\u001b[0m\u001b[0;34m:\u001b[0m\u001b[0;34m\u001b[0m\u001b[0;34m\u001b[0m\u001b[0m\n\u001b[0;32m-> 1180\u001b[0;31m             \u001b[0mself\u001b[0m\u001b[0;34m.\u001b[0m\u001b[0m_engine\u001b[0m \u001b[0;34m=\u001b[0m \u001b[0mCParserWrapper\u001b[0m\u001b[0;34m(\u001b[0m\u001b[0mself\u001b[0m\u001b[0;34m.\u001b[0m\u001b[0mf\u001b[0m\u001b[0;34m,\u001b[0m \u001b[0;34m**\u001b[0m\u001b[0mself\u001b[0m\u001b[0;34m.\u001b[0m\u001b[0moptions\u001b[0m\u001b[0;34m)\u001b[0m\u001b[0;34m\u001b[0m\u001b[0;34m\u001b[0m\u001b[0m\n\u001b[0m\u001b[1;32m   1181\u001b[0m         \u001b[0;32melse\u001b[0m\u001b[0;34m:\u001b[0m\u001b[0;34m\u001b[0m\u001b[0;34m\u001b[0m\u001b[0m\n\u001b[1;32m   1182\u001b[0m             \u001b[0;32mif\u001b[0m \u001b[0mengine\u001b[0m \u001b[0;34m==\u001b[0m \u001b[0;34m\"python\"\u001b[0m\u001b[0;34m:\u001b[0m\u001b[0;34m\u001b[0m\u001b[0;34m\u001b[0m\u001b[0m\n",
      "\u001b[0;32m~/miniconda3/lib/python3.8/site-packages/pandas/io/parsers.py\u001b[0m in \u001b[0;36m__init__\u001b[0;34m(self, src, **kwds)\u001b[0m\n\u001b[1;32m   2008\u001b[0m         \u001b[0mkwds\u001b[0m\u001b[0;34m[\u001b[0m\u001b[0;34m\"usecols\"\u001b[0m\u001b[0;34m]\u001b[0m \u001b[0;34m=\u001b[0m \u001b[0mself\u001b[0m\u001b[0;34m.\u001b[0m\u001b[0musecols\u001b[0m\u001b[0;34m\u001b[0m\u001b[0;34m\u001b[0m\u001b[0m\n\u001b[1;32m   2009\u001b[0m \u001b[0;34m\u001b[0m\u001b[0m\n\u001b[0;32m-> 2010\u001b[0;31m         \u001b[0mself\u001b[0m\u001b[0;34m.\u001b[0m\u001b[0m_reader\u001b[0m \u001b[0;34m=\u001b[0m \u001b[0mparsers\u001b[0m\u001b[0;34m.\u001b[0m\u001b[0mTextReader\u001b[0m\u001b[0;34m(\u001b[0m\u001b[0msrc\u001b[0m\u001b[0;34m,\u001b[0m \u001b[0;34m**\u001b[0m\u001b[0mkwds\u001b[0m\u001b[0;34m)\u001b[0m\u001b[0;34m\u001b[0m\u001b[0;34m\u001b[0m\u001b[0m\n\u001b[0m\u001b[1;32m   2011\u001b[0m         \u001b[0mself\u001b[0m\u001b[0;34m.\u001b[0m\u001b[0munnamed_cols\u001b[0m \u001b[0;34m=\u001b[0m \u001b[0mself\u001b[0m\u001b[0;34m.\u001b[0m\u001b[0m_reader\u001b[0m\u001b[0;34m.\u001b[0m\u001b[0munnamed_cols\u001b[0m\u001b[0;34m\u001b[0m\u001b[0;34m\u001b[0m\u001b[0m\n\u001b[1;32m   2012\u001b[0m \u001b[0;34m\u001b[0m\u001b[0m\n",
      "\u001b[0;32mpandas/_libs/parsers.pyx\u001b[0m in \u001b[0;36mpandas._libs.parsers.TextReader.__cinit__\u001b[0;34m()\u001b[0m\n",
      "\u001b[0;32mpandas/_libs/parsers.pyx\u001b[0m in \u001b[0;36mpandas._libs.parsers.TextReader._setup_parser_source\u001b[0;34m()\u001b[0m\n",
      "\u001b[0;31mFileNotFoundError\u001b[0m: [Errno 2] No such file or directory: 'ACSIncome_clean.csv'"
     ]
    }
   ],
   "source": [
    "# Read in the original data\n",
    "adult_data_full = pd.read_csv('ACSIncome_clean.csv', index_col=False)\n",
    "adult_data_full.head()"
   ]
  },
  {
   "cell_type": "code",
   "execution_count": 4,
   "metadata": {},
   "outputs": [],
   "source": [
    "# Take sample because this dataset is huge\n",
    "adult_data = adult_data_full.sample(n=30000, replace=False, random_state=1)"
   ]
  },
  {
   "cell_type": "code",
   "execution_count": 9,
   "metadata": {
    "cell_id": "00007-395a2ac9-adb7-40a7-b10f-6351aecc595b",
    "deepnote_cell_type": "code",
    "deepnote_to_be_reexecuted": false,
    "execution_millis": 15,
    "execution_start": 1634153607166,
    "source_hash": "323d56d1"
   },
   "outputs": [],
   "source": [
    "def process_adult_new(df):\n",
    "\n",
    "    # Remove fnlwgt and native_country column \n",
    "    df = df.drop([\"native_country\", \"Unnamed: 0\"], axis=1)\n",
    "    \n",
    "    # Remove missing values\n",
    "    df = df[~df.eq(\"?\").any(1)]\n",
    "    \n",
    "    # Normalize the numerical features\n",
    "    #numerical_features = [\"age\", \"hours_week\"]\n",
    "    #scaler = MinMaxScaler()\n",
    "    #df[numerical_features] = scaler.fit_transform(df[numerical_features])\n",
    "    \n",
    "    # Encode the categorical features\n",
    "    categorical_features = [\"race\", \"occupation\", \"marital\", \"education\", \"workclass\", \"relationship\"]\n",
    "    df['race'] = pd.factorize(df['race'])[0]\n",
    "    df['occupation'] = pd.factorize(df['occupation'])[0]\n",
    "    df['marital'] = pd.factorize(df['marital'])[0]\n",
    "    df['education'] = pd.factorize(df['education'])[0]\n",
    "    df['workclass'] = pd.factorize(df['workclass'])[0]\n",
    "    df['relationship'] = pd.factorize(df['relationship'])[0]\n",
    "\n",
    "    # Keep separate variabels with labels of outcome + protected classes for downstream plots, tables, etc\n",
    "    df[\"gender_labs\"] = df[\"sex\"]\n",
    "    \n",
    "    # Map binary features to 0/1\n",
    "    df[\"sex\"] = df[\"sex\"].map({\"Female\":0, \"Male\":1})\n",
    "    df[\"label\"] = df[\"label\"].map({\"<=50K\":0, \">50K\":1})\n",
    "\n",
    "    df[\"over_under_50k\"] = df[\"label\"]\n",
    "\n",
    "    return df"
   ]
  },
  {
   "cell_type": "code",
   "execution_count": 6,
   "metadata": {
    "cell_id": "00008-b9cb5ebe-14e3-4f70-902b-49c2f96db4c6",
    "deepnote_cell_type": "code",
    "deepnote_to_be_reexecuted": false,
    "execution_millis": 430,
    "execution_start": 1634156194704,
    "source_hash": "85cfbbee"
   },
   "outputs": [
    {
     "data": {
      "text/html": [
       "<div>\n",
       "<style scoped>\n",
       "    .dataframe tbody tr th:only-of-type {\n",
       "        vertical-align: middle;\n",
       "    }\n",
       "\n",
       "    .dataframe tbody tr th {\n",
       "        vertical-align: top;\n",
       "    }\n",
       "\n",
       "    .dataframe thead th {\n",
       "        text-align: right;\n",
       "    }\n",
       "</style>\n",
       "<table border=\"1\" class=\"dataframe\">\n",
       "  <thead>\n",
       "    <tr style=\"text-align: right;\">\n",
       "      <th></th>\n",
       "      <th>label</th>\n",
       "      <th>race</th>\n",
       "      <th>sex</th>\n",
       "      <th>hours_week</th>\n",
       "      <th>occupation</th>\n",
       "      <th>marital</th>\n",
       "      <th>education</th>\n",
       "      <th>workclass</th>\n",
       "      <th>age</th>\n",
       "      <th>relationship</th>\n",
       "      <th>gender_labs</th>\n",
       "      <th>over_under_50k</th>\n",
       "    </tr>\n",
       "  </thead>\n",
       "  <tbody>\n",
       "    <tr>\n",
       "      <th>806757</th>\n",
       "      <td>1</td>\n",
       "      <td>0</td>\n",
       "      <td>0</td>\n",
       "      <td>40.0</td>\n",
       "      <td>0</td>\n",
       "      <td>0</td>\n",
       "      <td>0</td>\n",
       "      <td>0</td>\n",
       "      <td>41.0</td>\n",
       "      <td>0</td>\n",
       "      <td>Female</td>\n",
       "      <td>1</td>\n",
       "    </tr>\n",
       "    <tr>\n",
       "      <th>296415</th>\n",
       "      <td>0</td>\n",
       "      <td>0</td>\n",
       "      <td>0</td>\n",
       "      <td>25.0</td>\n",
       "      <td>1</td>\n",
       "      <td>0</td>\n",
       "      <td>1</td>\n",
       "      <td>0</td>\n",
       "      <td>19.0</td>\n",
       "      <td>1</td>\n",
       "      <td>Female</td>\n",
       "      <td>0</td>\n",
       "    </tr>\n",
       "    <tr>\n",
       "      <th>717607</th>\n",
       "      <td>0</td>\n",
       "      <td>0</td>\n",
       "      <td>0</td>\n",
       "      <td>20.0</td>\n",
       "      <td>2</td>\n",
       "      <td>0</td>\n",
       "      <td>0</td>\n",
       "      <td>0</td>\n",
       "      <td>41.0</td>\n",
       "      <td>2</td>\n",
       "      <td>Female</td>\n",
       "      <td>0</td>\n",
       "    </tr>\n",
       "    <tr>\n",
       "      <th>1574145</th>\n",
       "      <td>0</td>\n",
       "      <td>0</td>\n",
       "      <td>0</td>\n",
       "      <td>25.0</td>\n",
       "      <td>3</td>\n",
       "      <td>1</td>\n",
       "      <td>1</td>\n",
       "      <td>0</td>\n",
       "      <td>56.0</td>\n",
       "      <td>0</td>\n",
       "      <td>Female</td>\n",
       "      <td>0</td>\n",
       "    </tr>\n",
       "    <tr>\n",
       "      <th>765750</th>\n",
       "      <td>0</td>\n",
       "      <td>1</td>\n",
       "      <td>1</td>\n",
       "      <td>40.0</td>\n",
       "      <td>4</td>\n",
       "      <td>2</td>\n",
       "      <td>1</td>\n",
       "      <td>0</td>\n",
       "      <td>25.0</td>\n",
       "      <td>1</td>\n",
       "      <td>Male</td>\n",
       "      <td>0</td>\n",
       "    </tr>\n",
       "    <tr>\n",
       "      <th>...</th>\n",
       "      <td>...</td>\n",
       "      <td>...</td>\n",
       "      <td>...</td>\n",
       "      <td>...</td>\n",
       "      <td>...</td>\n",
       "      <td>...</td>\n",
       "      <td>...</td>\n",
       "      <td>...</td>\n",
       "      <td>...</td>\n",
       "      <td>...</td>\n",
       "      <td>...</td>\n",
       "      <td>...</td>\n",
       "    </tr>\n",
       "    <tr>\n",
       "      <th>1529362</th>\n",
       "      <td>1</td>\n",
       "      <td>0</td>\n",
       "      <td>1</td>\n",
       "      <td>40.0</td>\n",
       "      <td>19</td>\n",
       "      <td>1</td>\n",
       "      <td>5</td>\n",
       "      <td>0</td>\n",
       "      <td>64.0</td>\n",
       "      <td>4</td>\n",
       "      <td>Male</td>\n",
       "      <td>1</td>\n",
       "    </tr>\n",
       "    <tr>\n",
       "      <th>1210546</th>\n",
       "      <td>1</td>\n",
       "      <td>0</td>\n",
       "      <td>0</td>\n",
       "      <td>40.0</td>\n",
       "      <td>17</td>\n",
       "      <td>0</td>\n",
       "      <td>0</td>\n",
       "      <td>0</td>\n",
       "      <td>37.0</td>\n",
       "      <td>0</td>\n",
       "      <td>Female</td>\n",
       "      <td>1</td>\n",
       "    </tr>\n",
       "    <tr>\n",
       "      <th>233055</th>\n",
       "      <td>1</td>\n",
       "      <td>0</td>\n",
       "      <td>0</td>\n",
       "      <td>30.0</td>\n",
       "      <td>7</td>\n",
       "      <td>0</td>\n",
       "      <td>5</td>\n",
       "      <td>2</td>\n",
       "      <td>62.0</td>\n",
       "      <td>2</td>\n",
       "      <td>Female</td>\n",
       "      <td>1</td>\n",
       "    </tr>\n",
       "    <tr>\n",
       "      <th>1130589</th>\n",
       "      <td>0</td>\n",
       "      <td>0</td>\n",
       "      <td>1</td>\n",
       "      <td>40.0</td>\n",
       "      <td>17</td>\n",
       "      <td>2</td>\n",
       "      <td>4</td>\n",
       "      <td>4</td>\n",
       "      <td>27.0</td>\n",
       "      <td>11</td>\n",
       "      <td>Male</td>\n",
       "      <td>0</td>\n",
       "    </tr>\n",
       "    <tr>\n",
       "      <th>706818</th>\n",
       "      <td>1</td>\n",
       "      <td>1</td>\n",
       "      <td>1</td>\n",
       "      <td>40.0</td>\n",
       "      <td>3</td>\n",
       "      <td>0</td>\n",
       "      <td>5</td>\n",
       "      <td>7</td>\n",
       "      <td>44.0</td>\n",
       "      <td>0</td>\n",
       "      <td>Male</td>\n",
       "      <td>1</td>\n",
       "    </tr>\n",
       "  </tbody>\n",
       "</table>\n",
       "<p>30000 rows × 12 columns</p>\n",
       "</div>"
      ],
      "text/plain": [
       "         label  race  sex  hours_week  occupation  marital  education  \\\n",
       "806757       1     0    0        40.0           0        0          0   \n",
       "296415       0     0    0        25.0           1        0          1   \n",
       "717607       0     0    0        20.0           2        0          0   \n",
       "1574145      0     0    0        25.0           3        1          1   \n",
       "765750       0     1    1        40.0           4        2          1   \n",
       "...        ...   ...  ...         ...         ...      ...        ...   \n",
       "1529362      1     0    1        40.0          19        1          5   \n",
       "1210546      1     0    0        40.0          17        0          0   \n",
       "233055       1     0    0        30.0           7        0          5   \n",
       "1130589      0     0    1        40.0          17        2          4   \n",
       "706818       1     1    1        40.0           3        0          5   \n",
       "\n",
       "         workclass   age  relationship gender_labs  over_under_50k  \n",
       "806757           0  41.0             0      Female               1  \n",
       "296415           0  19.0             1      Female               0  \n",
       "717607           0  41.0             2      Female               0  \n",
       "1574145          0  56.0             0      Female               0  \n",
       "765750           0  25.0             1        Male               0  \n",
       "...            ...   ...           ...         ...             ...  \n",
       "1529362          0  64.0             4        Male               1  \n",
       "1210546          0  37.0             0      Female               1  \n",
       "233055           2  62.0             2      Female               1  \n",
       "1130589          4  27.0            11        Male               0  \n",
       "706818           7  44.0             0        Male               1  \n",
       "\n",
       "[30000 rows x 12 columns]"
      ]
     },
     "execution_count": 6,
     "metadata": {},
     "output_type": "execute_result"
    }
   ],
   "source": [
    "# Get the processed replacement adult data\n",
    "processed_adult = process_adult_new(adult_data)\n",
    "processed_adult"
   ]
  },
  {
   "cell_type": "code",
   "execution_count": 7,
   "metadata": {
    "cell_id": "00009-dc528148-4a8a-442f-bff0-fbcc67831dec",
    "deepnote_cell_type": "code",
    "deepnote_to_be_reexecuted": false,
    "execution_millis": 56,
    "execution_start": 1634156197822,
    "source_hash": "2c6bae37"
   },
   "outputs": [],
   "source": [
    "# Split processed data into train and test\n",
    "X, y = processed_adult.drop([\"label\", \"gender_labs\", \"over_under_50k\"], axis=1), processed_adult[\"label\"]\n",
    "X_train, X_test, y_train, y_test = train_test_split(X, y, test_size=0.2, random_state=0)"
   ]
  },
  {
   "cell_type": "code",
   "execution_count": 8,
   "metadata": {},
   "outputs": [
    {
     "data": {
      "text/html": [
       "<div>\n",
       "<style scoped>\n",
       "    .dataframe tbody tr th:only-of-type {\n",
       "        vertical-align: middle;\n",
       "    }\n",
       "\n",
       "    .dataframe tbody tr th {\n",
       "        vertical-align: top;\n",
       "    }\n",
       "\n",
       "    .dataframe thead th {\n",
       "        text-align: right;\n",
       "    }\n",
       "</style>\n",
       "<table border=\"1\" class=\"dataframe\">\n",
       "  <thead>\n",
       "    <tr style=\"text-align: right;\">\n",
       "      <th></th>\n",
       "      <th>race</th>\n",
       "      <th>sex</th>\n",
       "      <th>hours_week</th>\n",
       "      <th>occupation</th>\n",
       "      <th>marital</th>\n",
       "      <th>education</th>\n",
       "      <th>workclass</th>\n",
       "      <th>age</th>\n",
       "      <th>relationship</th>\n",
       "    </tr>\n",
       "  </thead>\n",
       "  <tbody>\n",
       "    <tr>\n",
       "      <th>232036</th>\n",
       "      <td>0</td>\n",
       "      <td>1</td>\n",
       "      <td>50.0</td>\n",
       "      <td>7</td>\n",
       "      <td>1</td>\n",
       "      <td>2</td>\n",
       "      <td>0</td>\n",
       "      <td>47.0</td>\n",
       "      <td>4</td>\n",
       "    </tr>\n",
       "    <tr>\n",
       "      <th>494096</th>\n",
       "      <td>0</td>\n",
       "      <td>1</td>\n",
       "      <td>48.0</td>\n",
       "      <td>12</td>\n",
       "      <td>0</td>\n",
       "      <td>6</td>\n",
       "      <td>0</td>\n",
       "      <td>50.0</td>\n",
       "      <td>0</td>\n",
       "    </tr>\n",
       "    <tr>\n",
       "      <th>323240</th>\n",
       "      <td>0</td>\n",
       "      <td>0</td>\n",
       "      <td>40.0</td>\n",
       "      <td>7</td>\n",
       "      <td>0</td>\n",
       "      <td>5</td>\n",
       "      <td>3</td>\n",
       "      <td>67.0</td>\n",
       "      <td>2</td>\n",
       "    </tr>\n",
       "    <tr>\n",
       "      <th>1447376</th>\n",
       "      <td>0</td>\n",
       "      <td>0</td>\n",
       "      <td>40.0</td>\n",
       "      <td>20</td>\n",
       "      <td>0</td>\n",
       "      <td>8</td>\n",
       "      <td>0</td>\n",
       "      <td>54.0</td>\n",
       "      <td>0</td>\n",
       "    </tr>\n",
       "    <tr>\n",
       "      <th>1962</th>\n",
       "      <td>0</td>\n",
       "      <td>1</td>\n",
       "      <td>45.0</td>\n",
       "      <td>11</td>\n",
       "      <td>2</td>\n",
       "      <td>6</td>\n",
       "      <td>7</td>\n",
       "      <td>57.0</td>\n",
       "      <td>0</td>\n",
       "    </tr>\n",
       "  </tbody>\n",
       "</table>\n",
       "</div>"
      ],
      "text/plain": [
       "         race  sex  hours_week  occupation  marital  education  workclass  \\\n",
       "232036      0    1        50.0           7        1          2          0   \n",
       "494096      0    1        48.0          12        0          6          0   \n",
       "323240      0    0        40.0           7        0          5          3   \n",
       "1447376     0    0        40.0          20        0          8          0   \n",
       "1962        0    1        45.0          11        2          6          7   \n",
       "\n",
       "          age  relationship  \n",
       "232036   47.0             4  \n",
       "494096   50.0             0  \n",
       "323240   67.0             2  \n",
       "1447376  54.0             0  \n",
       "1962     57.0             0  "
      ]
     },
     "execution_count": 8,
     "metadata": {},
     "output_type": "execute_result"
    }
   ],
   "source": [
    "X_train.head()"
   ]
  },
  {
   "cell_type": "code",
   "execution_count": 10,
   "metadata": {
    "cell_id": "00010-3b561934-eec5-4c80-8304-c875d228c15f",
    "deepnote_cell_type": "code",
    "deepnote_to_be_reexecuted": false,
    "execution_millis": 28,
    "execution_start": 1634156201197,
    "source_hash": "6b452f2c"
   },
   "outputs": [],
   "source": [
    "def adult_binary_classification_pipeline(X_train, y_train, X_test, y_test, evaluate=\"test\", method=\"logistic\"):\n",
    "    '''\n",
    "    Binary classification pipeline for the\n",
    "    Adult dataset.\n",
    "\n",
    "    INPUTS\n",
    "    ======\n",
    "    X_train: input training data, pandas DataFrame\n",
    "    y_train: output training labels, 1-d array-like\n",
    "    X_test: input test data, pandas DataFrame\n",
    "    y_test: output test labels, 1-d array-like\n",
    "    evaluate: whether to evaluate on the train or\n",
    "    test set, default='test', str\n",
    "    method: binary classification method, \n",
    "    default='logistic', str\n",
    "\n",
    "    RETURNS\n",
    "    =======\n",
    "    Two tuples containing the number of true positive \n",
    "    predictions (TP), false positive predictions (FP), \n",
    "    true negative predictions (TN), and false negative (FN)\n",
    "    predictions on the test set for female and male, \n",
    "    respectively.\n",
    "    '''\n",
    "\n",
    "    if method == \"logistic\":\n",
    "\n",
    "        # Train logistic regression classifier\n",
    "        lr = LogisticRegression(max_iter=1000)\n",
    "        lr.fit(X_train, y_train)\n",
    "\n",
    "        # Predit on train and test\n",
    "        y_train_pred = lr.predict(X_train)\n",
    "        y_test_pred = lr.predict(X_test)\n",
    "\n",
    "    if evaluate == \"test\":\n",
    "        df = X_test.copy()\n",
    "        df[\"y\"] = y_test\n",
    "        df[\"y_pred\"] = y_test_pred\n",
    "    elif evaluate == \"train\":\n",
    "        df = X_train.copy()\n",
    "        df[\"y\"] = y_train\n",
    "        df[\"y_pred\"] = y_train_pred\n",
    "    else:\n",
    "        raise Exception(\"evaluate must be either 'train' or 'test'\")\n",
    "\n",
    "    # Count the number of true positive and true negative preds for men and women\n",
    "    TP_f = len(df[(df[\"sex\"]==0) & (df[\"y\"]==1) & (df[\"y_pred\"]==1)])\n",
    "    TP_m = len(df[(df[\"sex\"]==1) & (df[\"y\"]==1) & (df[\"y_pred\"]==1)])\n",
    "    FP_f = len(df[(df[\"sex\"]==0) & (df[\"y\"]==0) & (df[\"y_pred\"]==1)])\n",
    "    FP_m = len(df[(df[\"sex\"]==1) & (df[\"y\"]==0) & (df[\"y_pred\"]==1)])\n",
    "\n",
    "    # Count the number of true negative and false negative preds for men and women\n",
    "    TN_f = len(df[(df[\"sex\"]==0) & (df[\"y\"]==0) & (df[\"y_pred\"]==0)])\n",
    "    TN_m = len(df[(df[\"sex\"]==1) & (df[\"y\"]==0) & (df[\"y_pred\"]==0)])\n",
    "    FN_f = len(df[(df[\"sex\"]==0) & (df[\"y\"]==1) & (df[\"y_pred\"]==0)])\n",
    "    FN_m = len(df[(df[\"sex\"]==1) & (df[\"y\"]==1) & (df[\"y_pred\"]==0)])\n",
    "\n",
    "    return (TP_f, FP_f, TN_f, FN_f), (TP_m, FP_m, TN_m, FN_m)"
   ]
  },
  {
   "cell_type": "code",
   "execution_count": 11,
   "metadata": {
    "cell_id": "00011-bf635b5b-4287-44b1-9f59-d9218fb92dbd",
    "deepnote_cell_type": "code",
    "deepnote_to_be_reexecuted": false,
    "execution_millis": 11,
    "execution_start": 1634156205348,
    "source_hash": "6af2805d"
   },
   "outputs": [],
   "source": [
    "def adult_fairness_summary(female_tup, male_tup, show_plots=False, evaluate=\"test\"):\n",
    "    '''\n",
    "    Function to process and provide a summary \n",
    "    of fairness metrics for the Adult data set.\n",
    "\n",
    "    INPUTS\n",
    "    ======\n",
    "    female_tup: tuple or list containing TP, FP, \n",
    "    TN, FN for female\n",
    "    male_tup: tuple or list containing TP, FP, \n",
    "    TN, FN for male\n",
    "    show_plots: whether to display graphs showing \n",
    "    fairness metrics for male and female, default=False, \n",
    "    bool\n",
    "\n",
    "    RETURNS\n",
    "    =======\n",
    "    True positive rate for (TPR) and false positive\n",
    "    rate (FPR) for female and male, respectively.\n",
    "    '''\n",
    "\n",
    "    # Unpack tuples\n",
    "    TP_f, FP_f, TN_f, FN_f = female_tup\n",
    "    TP_m, FP_m, TN_m, FN_m = male_tup\n",
    "\n",
    "    # Calculate TPR, FPR for female and male\n",
    "    TPR_f = TP_f / (TP_f + FN_f)\n",
    "    TPR_m = TP_m / (TP_m + FN_m)\n",
    "    FPR_f = FP_f / (FP_f + TN_f)\n",
    "    FPR_m = FP_m / (FP_m + TN_m)\n",
    "\n",
    "    # Create summary plots\n",
    "    if show_plots:\n",
    "        fig, axs = plt.subplots(1, 2, figsize=(10,5))\n",
    "        axs = axs.ravel()\n",
    "        axs[0].bar([\"female\", \"male\"], [TPR_f, TPR_m], color=[\"orange\", \"dodgerblue\"])\n",
    "        axs[0].set_ylabel(\"TPR\")\n",
    "        axs[1].bar([\"female\", \"male\"], [FPR_f, FPR_m], color=[\"orange\", \"dodgerblue\"])\n",
    "        axs[1].set_ylabel(\"FPR\")\n",
    "        fig.suptitle(f\"TPR and FPR for female vs male ({evaluate} data)\", fontsize=16)\n",
    "        fig.tight_layout(rect=[0, 0, 1, 0.95])\n",
    "\n",
    "    return TPR_f, TPR_m, FPR_f, FPR_m"
   ]
  },
  {
   "cell_type": "code",
   "execution_count": 11,
   "metadata": {
    "cell_id": "00012-63929ced-6a70-4aec-9456-0bfc9f707ed3",
    "deepnote_cell_type": "code",
    "deepnote_to_be_reexecuted": false,
    "execution_millis": 3794,
    "execution_start": 1634156208326,
    "source_hash": "491d26bc"
   },
   "outputs": [
    {
     "data": {
      "image/png": "[encoded data removed]",
      "text/plain": [
       "<Figure size 720x360 with 2 Axes>"
      ]
     },
     "metadata": {
      "needs_background": "light"
     },
     "output_type": "display_data"
    }
   ],
   "source": [
    "# Run the binary classification pipeline on the original processed data and evaluation on training data\n",
    "female_tup, male_tup = adult_binary_classification_pipeline(X_train, y_train, X_test, y_test, evaluate=\"test\")\n",
    "\n",
    "# Calculate and visualize TPR and FPR on the training data for female and male\n",
    "TPR_f_non_priv, TPR_m_non_priv, FPR_f_non_priv, FPR_m_non_priv = adult_fairness_summary(female_tup, male_tup, show_plots=True, evaluate=\"test\")"
   ]
  },
  {
   "cell_type": "code",
   "execution_count": 12,
   "metadata": {
    "cell_id": "00013-a4d2066b-b378-4642-bafa-b91c632aff9a",
    "deepnote_cell_type": "code",
    "deepnote_to_be_reexecuted": false,
    "execution_millis": 13,
    "execution_start": 1634156215601,
    "source_hash": "2a9dd48e"
   },
   "outputs": [
    {
     "ename": "NameError",
     "evalue": "name 'TPR_m_non_priv' is not defined",
     "output_type": "error",
     "traceback": [
      "\u001b[0;31m---------------------------------------------------------------------------\u001b[0m",
      "\u001b[0;31mNameError\u001b[0m                                 Traceback (most recent call last)",
      "\u001b[0;32m<ipython-input-12-8c17b62da8ad>\u001b[0m in \u001b[0;36m<module>\u001b[0;34m\u001b[0m\n\u001b[1;32m      1\u001b[0m \u001b[0;31m# Calculate the difference in TPR (Equalized Opportunity distance)\u001b[0m\u001b[0;34m\u001b[0m\u001b[0;34m\u001b[0m\u001b[0;34m\u001b[0m\u001b[0m\n\u001b[0;32m----> 2\u001b[0;31m \u001b[0mTPR_diff_non_priv\u001b[0m \u001b[0;34m=\u001b[0m \u001b[0mTPR_m_non_priv\u001b[0m\u001b[0;34m-\u001b[0m\u001b[0mTPR_f_non_priv\u001b[0m\u001b[0;34m\u001b[0m\u001b[0;34m\u001b[0m\u001b[0m\n\u001b[0m\u001b[1;32m      3\u001b[0m \u001b[0;34m\u001b[0m\u001b[0m\n\u001b[1;32m      4\u001b[0m \u001b[0;31m# Calculate the difference in FPR (second Equalized Odds distance)\u001b[0m\u001b[0;34m\u001b[0m\u001b[0;34m\u001b[0m\u001b[0;34m\u001b[0m\u001b[0m\n\u001b[1;32m      5\u001b[0m \u001b[0mFPR_diff_non_priv\u001b[0m \u001b[0;34m=\u001b[0m \u001b[0mFPR_m_non_priv\u001b[0m\u001b[0;34m-\u001b[0m\u001b[0mFPR_f_non_priv\u001b[0m\u001b[0;34m\u001b[0m\u001b[0;34m\u001b[0m\u001b[0m\n",
      "\u001b[0;31mNameError\u001b[0m: name 'TPR_m_non_priv' is not defined"
     ]
    }
   ],
   "source": [
    "# Calculate the difference in TPR (Equalized Opportunity distance)\n",
    "TPR_diff_non_priv = TPR_m_non_priv-TPR_f_non_priv\n",
    "\n",
    "# Calculate the difference in FPR (second Equalized Odds distance)\n",
    "FPR_diff_non_priv = FPR_m_non_priv-FPR_f_non_priv\n",
    "\n",
    "# Demographic parity (FP + TP rate difference)\n",
    "dem_parity_non_priv = (FPR_m_non_priv+TPR_m_non_priv)-(FPR_f_non_priv+TPR_f_non_priv)\n",
    "\n",
    "# Calculate overall accuracy for female and male\n",
    "ACC_f_non_priv = (female_tup[0] + female_tup[2]) / sum(female_tup)\n",
    "ACC_m_non_priv = (male_tup[0] + male_tup[2]) / sum(male_tup)\n",
    "\n",
    "print(\"TRAINING DATA METRICS:\")\n",
    "print(f\"The difference in TPR (equalized opportunity) is: {TPR_diff_non_priv:.4f}\")\n",
    "print(f\"The difference in FPR (equalized odds) is: {FPR_diff_non_priv:.4f}\")\n",
    "print(f\"The difference in FP + TP rate (Demographic Parity) is: {dem_parity_non_priv:.4f}\")\n",
    "print(f\"The overall accuracy for female is: {ACC_f_non_priv:.4f}\")\n",
    "print(f\"The overall accuracy for male is: {ACC_m_non_priv:.4f}\")"
   ]
  },
  {
   "cell_type": "markdown",
   "metadata": {
    "cell_id": "00014-11307642-73b8-4b54-b239-ac97e2b524b5",
    "deepnote_cell_type": "markdown"
   },
   "source": [
    "## 4.2 MWEM\n",
    "\n",
    "### 4.2.1 Data preparation\n",
    "\n",
    "Based on multiplicative weight update mechanism; requires binning of continuous data."
   ]
  },
  {
   "cell_type": "code",
   "execution_count": 14,
   "metadata": {
    "cell_id": "00015-7af24893-d571-4489-ae75-c79e90284691",
    "deepnote_cell_type": "code",
    "deepnote_to_be_reexecuted": false,
    "execution_millis": 207,
    "execution_start": 1634155376005,
    "source_hash": "4cd77f3a"
   },
   "outputs": [],
   "source": [
    "# Recombine X_train and y_train for synthesis\n",
    "adult_train = pd.concat([X_train, y_train], axis=1)\n",
    "\n",
    "# Recombine X_test and y_test for synthesis\n",
    "adult_test = pd.concat([X_test, y_test], axis=1)"
   ]
  },
  {
   "cell_type": "markdown",
   "metadata": {
    "cell_id": "00019-d6759cfc-3501-437d-b9c8-b37efd435c65",
    "deepnote_cell_type": "markdown"
   },
   "source": [
    "### 4.2.2 Varying $\\varepsilon$"
   ]
  },
  {
   "cell_type": "code",
   "execution_count": 13,
   "metadata": {
    "cell_id": "00018-7c4869f5-d813-49d5-bbb2-17764d4d90d8",
    "deepnote_cell_type": "code",
    "deepnote_to_be_reexecuted": false,
    "execution_millis": 0,
    "execution_start": 1634159933923,
    "source_hash": "5df42e85",
    "tags": []
   },
   "outputs": [],
   "source": [
    "def get_synthesizer(synthesizer, epsilon):\n",
    "\n",
    "    # Instantiate an MWEM synthesizer\n",
    "    if synthesizer == \"MWEM\":\n",
    "        synth = MWEMSynthesizer(epsilon=epsilon, q_count=500, iterations=30, mult_weights_iterations=15, \n",
    "        splits=[], split_factor=2, max_bin_count=400)\n",
    "\n",
    "    return synth"
   ]
  },
  {
   "cell_type": "code",
   "execution_count": 14,
   "metadata": {
    "cell_id": "00021-117ac92f-9085-4768-b833-98675dddf9cd",
    "deepnote_cell_type": "code",
    "deepnote_to_be_reexecuted": false,
    "execution_millis": 0,
    "execution_start": 1634162672451,
    "source_hash": "237b5f9f",
    "tags": []
   },
   "outputs": [],
   "source": [
    "def get_quail_synthesizer(synthesizer, classifier, epsilon, eps_split, target):\n",
    "\n",
    "    # Instantiate an MWEM synthesizer\n",
    "    if synthesizer == \"MWEM\":\n",
    "        def QuailSynth(epsilon):\n",
    "            return MWEMSynthesizer(epsilon=epsilon, q_count=500, iterations=30, mult_weights_iterations=15, \n",
    "                                    splits=[], split_factor=2, max_bin_count=400)\n",
    "    \n",
    "    # Instantiate a DPLR classifier\n",
    "    if classifier == \"DPLR\":\n",
    "        def QuailClassifier(epsilon):\n",
    "            return DPLR(epsilon=epsilon)\n",
    "\n",
    "    # Create a QUAIL synthesizer with base synthesizer and DP classifier\n",
    "    quail = QUAILSynthesizer(epsilon, QuailSynth, QuailClassifier, target, eps_split)\n",
    "\n",
    "    return quail"
   ]
  },
  {
   "cell_type": "code",
   "execution_count": 15,
   "metadata": {
    "cell_id": "00020-21349021-9c5b-481e-bda4-a2b7e910842c",
    "deepnote_cell_type": "code",
    "deepnote_to_be_reexecuted": false,
    "execution_millis": 22,
    "execution_start": 1634162412597,
    "source_hash": "8ef8bec7"
   },
   "outputs": [],
   "source": [
    "def adult_fairness_privacy_range(epsilon_vals, adult_train, adult_test, synthesizer=\"MWEM\", \n",
    "                                    quail=False, classifier=None, eps_split=None, n_reps=1):\n",
    "    '''\n",
    "    Calculates fairness metrics for binary\n",
    "    classification on Adult data obtained by\n",
    "    training classifier on synthetic training\n",
    "    data and testing on non-private test data.\n",
    "    \n",
    "    INPUTS\n",
    "    ======\n",
    "    epsilon_vals: list containing privacy loss\n",
    "    parameter values to apply, array-like\n",
    "    adult_train: non-private training data (X and \n",
    "    y) to train synthesizer, pandas DataFrame\n",
    "    adult_test: non-private test data (X and y)\n",
    "    synthesizer: the type of synthesizer to use, str\n",
    "    n_reps: the number of synthetic data sets to\n",
    "    generate for each epsilon, int\n",
    "    \n",
    "    RETURNS\n",
    "    =======\n",
    "    Dictionary where each key is an epsilon and \n",
    "    each value is a list of four lists containing\n",
    "    the TPR_f, TPR_m, FPR_f, FPR_m values obtained\n",
    "    (e.g. each list will have two values if n_reps=2)\n",
    "    '''\n",
    "    \n",
    "    # Initialize dictionary of fairness metrics\n",
    "    fairness_dict = {}\n",
    "    \n",
    "    for epsilon in epsilon_vals:\n",
    "        \n",
    "        for i in range(n_reps):\n",
    "\n",
    "            if quail:  \n",
    "                # Create a QUAIL-wrapped synthesizer\n",
    "                quail = get_quail_synthesizer(synthesizer, classifier, epsilon, eps_split, target=\"label\")\n",
    "\n",
    "                # Fit synthesizer to the training data\n",
    "                quail.fit(adult_train)\n",
    "\n",
    "                # Create private synthetic data\n",
    "                adult_train_synth = quail.sample(int(adult_train.shape[0]))\n",
    "\n",
    "            else:\n",
    "                # Create a regular synthesizer\n",
    "                synth = get_synthesizer(synthesizer, epsilon)\n",
    "        \n",
    "                # Fit synthesizer to the training data\n",
    "                synth.fit(adult_train.to_numpy())\n",
    "                \n",
    "                # Create private synthetic data\n",
    "                adult_train_synth = pd.DataFrame(synth.sample(int(adult_train.shape[0])), columns=adult_train.columns)\n",
    "            \n",
    "            # Split synthetic training data into X and y\n",
    "            X_train, y_train = adult_train_synth.drop([\"label\"], axis=1), adult_train_synth[\"label\"]\n",
    "            \n",
    "            # Split the non-private test data into X and y\n",
    "            X_test, y_test = adult_test.drop([\"label\"], axis=1), adult_test[\"label\"]\n",
    "            \n",
    "            # Run the binary classification pipeline\n",
    "            female_tup, male_tup = adult_binary_classification_pipeline(X_train, y_train, X_test, y_test)\n",
    "            \n",
    "            # Add female and male tuples to dictionary\n",
    "            if epsilon not in fairness_dict.keys():\n",
    "                fairness_dict[epsilon] = [[female_tup], [male_tup]]\n",
    "            else:\n",
    "                fairness_dict[epsilon][0].append(female_tup)\n",
    "                fairness_dict[epsilon][1].append(male_tup)\n",
    "                \n",
    "            print(f\"Completed eps={epsilon}, rep={i+1}.\")\n",
    "        \n",
    "    return fairness_dict"
   ]
  },
  {
   "cell_type": "code",
   "execution_count": 16,
   "metadata": {
    "cell_id": "00021-8c29f080-f636-46df-88a0-1377d8bbcd76",
    "deepnote_cell_type": "code",
    "deepnote_to_be_reexecuted": false,
    "execution_millis": 738177,
    "execution_start": 1634155386965,
    "source_hash": "153eabc5"
   },
   "outputs": [],
   "source": [
    "try:\n",
    "    # Try to load the dictionary with one repetition\n",
    "    acs_income_fairness_mwem_1 = np.load(\"acs_incomet_fairness_mwem_1.npy\", allow_pickle=True).item()\n",
    "    \n",
    "except:\n",
    "    # Set range of epsilon values\n",
    "    epsilon_vals = [1.0, 2.0, 3.0, 4.0, 5.0, 6.0, 7.0, 8.0]\n",
    "\n",
    "    # Get dictionary of fairness metrics with 1 repetition for range of values\n",
    "    acs_income_fairness_mwem_1 = adult_fairness_privacy_range(epsilon_vals, adult_train, adult_test, synthesizer=\"MWEM\", n_reps=1)\n",
    "    \n",
    "    # Save dictionary\n",
    "    np.save(\"acs_incomet_fairness_mwem_1.npy\", acs_income_fairness_mwem_1)"
   ]
  },
  {
   "cell_type": "code",
   "execution_count": 17,
   "metadata": {},
   "outputs": [],
   "source": [
    "def get_fairness_arrays(fairness_dict):\n",
    "    \n",
    "    # Initialize lists to hold epsilon and fairness metrics\n",
    "    epsilon_vals = []\n",
    "    tpr_f_arr = []\n",
    "    tpr_m_arr = []\n",
    "    fpr_f_arr = []\n",
    "    fpr_m_arr = []\n",
    "    tpr_diff_arr = []\n",
    "    fpr_diff_arr = []\n",
    "    acc_f_arr = []\n",
    "    acc_m_arr = []\n",
    "\n",
    "    # Loop through the dictionary of results\n",
    "    for epsilon, metric_list in fairness_dict.items():\n",
    "\n",
    "        # Get the metrics for female and male\n",
    "        female_arr, male_arr = metric_list\n",
    "        n_reps = len(female_arr)\n",
    "        epsilon_vals.append(epsilon)\n",
    "\n",
    "        # Initialize more lists\n",
    "        if n_reps > 1:\n",
    "            tpr_f_vals = []\n",
    "            tpr_m_vals = []\n",
    "            fpr_f_vals = []\n",
    "            fpr_m_vals = []\n",
    "            tpr_diff_vals = []\n",
    "            fpr_diff_vals = []\n",
    "            acc_f_vals = []\n",
    "            acc_m_vals = []\n",
    "        \n",
    "        # Loop through the tuples\n",
    "        for female_tup, male_tup in zip(female_arr, male_arr):\n",
    "        \n",
    "            # Get the fairness metrics\n",
    "            TPR_f, TPR_m, FPR_f, FPR_m = adult_fairness_summary(female_tup, male_tup)\n",
    "\n",
    "            # Calculate the equalized odds distances\n",
    "            tpr_diff = TPR_m-TPR_f\n",
    "            fpr_diff = FPR_m-FPR_f\n",
    "            \n",
    "            # Calculate the accuracies\n",
    "            acc_f = (female_tup[0] + female_tup[2]) / sum(female_tup)\n",
    "            acc_m = (male_tup[0] + male_tup[2]) / sum(male_tup)\n",
    "            \n",
    "            # Append metrics to arrays\n",
    "            if n_reps > 1:\n",
    "                tpr_f_vals.append(TPR_f)\n",
    "                tpr_m_vals.append(TPR_m)\n",
    "                fpr_f_vals.append(FPR_f)\n",
    "                fpr_m_vals.append(FPR_m)\n",
    "                tpr_diff_vals.append(tpr_diff)\n",
    "                fpr_diff_vals.append(fpr_diff)\n",
    "                acc_f_vals.append(acc_f)\n",
    "                acc_m_vals.append(acc_m)\n",
    "            else:\n",
    "                tpr_f_arr.append(TPR_f)\n",
    "                tpr_m_arr.append(TPR_m)\n",
    "                fpr_f_arr.append(FPR_f)\n",
    "                fpr_m_arr.append(FPR_m)\n",
    "                tpr_diff_arr.append(tpr_diff)\n",
    "                fpr_diff_arr.append(fpr_diff)\n",
    "                acc_f_arr.append(acc_f)\n",
    "                acc_m_arr.append(acc_m)\n",
    "            \n",
    "        # Add lists to arrays\n",
    "        if n_reps > 1:\n",
    "            tpr_f_arr.append(tpr_f_vals)\n",
    "            tpr_m_arr.append(tpr_m_vals)\n",
    "            fpr_f_arr.append(fpr_f_vals)\n",
    "            fpr_m_arr.append(fpr_m_vals)\n",
    "            tpr_diff_arr.append(tpr_diff_vals)\n",
    "            fpr_diff_arr.append(fpr_diff_vals)\n",
    "            acc_f_arr.append(acc_f_vals)\n",
    "            acc_m_arr.append(acc_m_vals)\n",
    "        \n",
    "    return epsilon_vals, tpr_f_arr, tpr_m_arr, fpr_f_arr, fpr_m_arr, tpr_diff_arr, fpr_diff_arr, acc_f_arr, acc_m_arr"
   ]
  },
  {
   "cell_type": "code",
   "execution_count": 18,
   "metadata": {
    "cell_id": "00022-52c97741-9b29-46ef-ab8a-8610d749d02d",
    "deepnote_cell_type": "code",
    "deepnote_to_be_reexecuted": false,
    "execution_millis": 13,
    "execution_start": 1634163545761,
    "source_hash": "73a01a4f"
   },
   "outputs": [],
   "source": [
    "def plot_fairness_dict(fairness_dict, plot_non_private=False):\n",
    "\n",
    "    # Get fairness arrays for plotting\n",
    "    epsilon_vals, tpr_f_arr, tpr_m_arr, fpr_f_arr, fpr_m_arr, tpr_diff_arr, fpr_diff_arr, acc_f_arr, acc_m_arr = get_fairness_arrays(fairness_dict)    \n",
    "\n",
    "    # Line plot if there was only one repetition\n",
    "    if isinstance(tpr_f_arr[0], float):\n",
    "        \n",
    "        # Initialize a figure\n",
    "        fig, axs = plt.subplots(2, 2, figsize=(15,12))\n",
    "        axs = axs.ravel()\n",
    "        \n",
    "        if plot_non_private:\n",
    "            min_eps = np.min(epsilon_vals)\n",
    "            max_eps = np.max(epsilon_vals)\n",
    "            axs[0].hlines(TPR_f_non_priv, xmin=min_eps, xmax=max_eps, colors=\"darkorange\", linestyles=\"--\", label=\"Non-private female TPR\")\n",
    "            axs[0].hlines(TPR_m_non_priv, xmin=min_eps, xmax=max_eps, colors=\"royalblue\", linestyles=\"--\", label=\"Non-private male TPR\")            \n",
    "            axs[1].hlines(FPR_f_non_priv, xmin=min_eps, xmax=max_eps, colors=\"darkorange\", linestyles=\"--\", label=\"Non-private female FPR\")\n",
    "            axs[1].hlines(FPR_m_non_priv, xmin=min_eps, xmax=max_eps, colors=\"royalblue\", linestyles=\"--\", label=\"Non-private male FPR\")    \n",
    "            axs[2].hlines(TPR_diff_non_priv, xmin=min_eps, xmax=max_eps, colors=\"darkorange\", linestyles=\"--\", label=\"Non-private TPR dist\")\n",
    "            axs[2].hlines(FPR_diff_non_priv, xmin=min_eps, xmax=max_eps, colors=\"royalblue\", linestyles=\"--\", label=\"Non-private FPR dist\")\n",
    "            axs[3].hlines(ACC_f_non_priv, xmin=min_eps, xmax=max_eps, colors=\"darkorange\", linestyles=\"--\", label=\"Non-private Female\")\n",
    "            axs[3].hlines(ACC_m_non_priv, xmin=min_eps, xmax=max_eps, colors=\"royalblue\", linestyles=\"--\", label=\"Non-private Male\")\n",
    "        axs[0].plot(epsilon_vals, tpr_f_arr, label=\"Female TPR\", c=\"darkorange\", marker='o')\n",
    "        axs[0].plot(epsilon_vals, tpr_m_arr, label=\"Male TPR\", c=\"royalblue\", marker='o')\n",
    "        axs[0].set_ylabel(\"True positive rate\")\n",
    "        axs[0].set_title(\"True positive rates for female vs male\")\n",
    "        axs[1].plot(epsilon_vals, fpr_f_arr, label=\"Female FPR\", c=\"darkorange\", marker='o')\n",
    "        axs[1].plot(epsilon_vals, fpr_m_arr, label=\"Male FPR\", c=\"royalblue\", marker='o')\n",
    "        axs[1].set_ylabel(\"False positive rate\")\n",
    "        axs[1].set_title(\"False positive rates for female vs male\")\n",
    "        axs[2].hlines(0, xmin=min_eps, xmax=max_eps, colors=\"grey\", linestyles=\"--\", label=\"Perfect fairness\")\n",
    "        axs[2].plot(epsilon_vals, tpr_diff_arr, label=\"TPR dist\", c=\"darkorange\", marker='o')\n",
    "        axs[2].plot(epsilon_vals, fpr_diff_arr, label=\"FPR dist\", c=\"royalblue\", marker='o')\n",
    "        axs[2].set_ylabel(\"Equalized odds distance\")\n",
    "        axs[2].set_title(\"Equalized odds distances for female vs male\")\n",
    "        axs[3].plot(epsilon_vals, acc_f_arr, label=\"Female\", c=\"darkorange\", marker='o')\n",
    "        axs[3].plot(epsilon_vals, acc_m_arr, label=\"Male\", c=\"royalblue\", marker='o')\n",
    "        axs[3].set_ylabel(\"Overall accuracy\")\n",
    "        axs[3].set_title(\"Classification accuracies for female vs male\")\n",
    "        fig.suptitle(\"Adult dataset fairness metrics (1 repetition)\", fontsize=16)\n",
    "        for i in range(4):\n",
    "            axs[i].set_xlabel(\"Privacy loss (epsilon)\")\n",
    "            axs[i].legend()\n",
    "    else:\n",
    "        \n",
    "        # Initialize a figure\n",
    "        fig, axs = plt.subplots(4, 2, figsize=(15,20))\n",
    "        axs = axs.ravel()\n",
    "        \n",
    "        # Prepare for plotting\n",
    "        n_reps = len(tpr_f_arr[0])\n",
    "        medianprops_f = dict(color='darkorange')\n",
    "        medianprops_m = dict(color='royalblue')\n",
    "        \n",
    "        if plot_non_private:\n",
    "            min_eps = 0.5\n",
    "            max_eps = len(epsilon_vals)+0.5\n",
    "            axs[0].hlines(TPR_f_non_priv, xmin=min_eps, xmax=max_eps, colors=\"darkorange\", linestyles=\"--\", label=\"Non-private female TPR\")\n",
    "            axs[1].hlines(TPR_m_non_priv, xmin=min_eps, xmax=max_eps, colors=\"royalblue\", linestyles=\"--\", label=\"Non-private male TPR\")            \n",
    "            axs[2].hlines(FPR_f_non_priv, xmin=min_eps, xmax=max_eps, colors=\"darkorange\", linestyles=\"--\", label=\"Non-private female FPR\")\n",
    "            axs[3].hlines(FPR_m_non_priv, xmin=min_eps, xmax=max_eps, colors=\"royalblue\", linestyles=\"--\", label=\"Non-private male FPR\")    \n",
    "            axs[4].hlines(TPR_diff_non_priv, xmin=min_eps, xmax=max_eps, colors=\"red\", linestyles=\"--\", label=\"Non-private TPR dist\")\n",
    "            axs[5].hlines(FPR_diff_non_priv, xmin=min_eps, xmax=max_eps, colors=\"red\", linestyles=\"--\", label=\"Non-private FPR dist\")\n",
    "            axs[6].hlines(ACC_f_non_priv, xmin=min_eps, xmax=max_eps, colors=\"darkorange\", linestyles=\"--\", label=\"Non-private Female\")\n",
    "            axs[7].hlines(ACC_m_non_priv, xmin=min_eps, xmax=max_eps, colors=\"royalblue\", linestyles=\"--\", label=\"Non-private Male\")\n",
    "        axs[0].boxplot(tpr_f_arr, medianprops=medianprops_f)\n",
    "        axs[0].set_ylabel(\"True positive rate\")\n",
    "        axs[0].set_title(\"True positive rates for female\")\n",
    "        axs[1].boxplot(tpr_m_arr, medianprops=medianprops_m)\n",
    "        axs[1].set_ylabel(\"True positive rate\")\n",
    "        axs[1].set_title(\"True positive rates for male\")  \n",
    "        axs[2].boxplot(fpr_f_arr, medianprops=medianprops_f)\n",
    "        axs[2].set_ylabel(\"False positive rate\")\n",
    "        axs[2].set_title(\"False positive rates for female\")        \n",
    "        axs[3].boxplot(fpr_m_arr, medianprops=medianprops_m)\n",
    "        axs[3].set_ylabel(\"False positive rate\")\n",
    "        axs[3].set_title(\"False positive rates for male\")\n",
    "        axs[4].boxplot(tpr_diff_arr, medianprops=dict(color=\"red\"))\n",
    "        axs[4].set_ylabel(\"Equalized odds distance (y=1)\")\n",
    "        axs[4].set_title(\"Equalized odds distances (y=1)\")\n",
    "        axs[4].hlines(0, xmin=min_eps, xmax=max_eps, colors=\"grey\", linestyles=\"--\", label=\"Perfect fairness\")       \n",
    "        axs[5].boxplot(fpr_diff_arr, medianprops=dict(color=\"red\"))\n",
    "        axs[5].set_ylabel(\"Equalized odds distances (y=0)\")\n",
    "        axs[5].set_title(\"Equalized odds distances (y=0)\")\n",
    "        axs[5].hlines(0, xmin=min_eps, xmax=max_eps, colors=\"grey\", linestyles=\"--\", label=\"Perfect fairness\")\n",
    "        axs[6].boxplot(acc_f_arr, medianprops=medianprops_f)\n",
    "        axs[6].set_ylabel(\"Overall accuracy\")\n",
    "        axs[6].set_title(\"Classification accuracies for female\")  \n",
    "        axs[7].boxplot(acc_m_arr, medianprops=medianprops_m)\n",
    "        axs[7].set_ylabel(\"Overall accuracy\")\n",
    "        axs[7].set_title(\"Classification accuracies for male\")\n",
    "        fig.suptitle(f\"Adult dataset fairness metrics ({n_reps} repetitions)\", fontsize=16)\n",
    "        for i in range(8):\n",
    "            axs[i].set_xticklabels(epsilon_vals)\n",
    "            axs[i].set_xlabel(\"Privacy loss (epsilon)\")\n",
    "            axs[i].legend()\n",
    "    fig.tight_layout(rect=[0, 0.03, 1, 0.95])"
   ]
  },
  {
   "cell_type": "code",
   "execution_count": 19,
   "metadata": {
    "cell_id": "00023-de280535-30c2-484a-be4f-eff4402e83ad",
    "deepnote_cell_type": "code",
    "deepnote_to_be_reexecuted": false,
    "execution_millis": 992,
    "execution_start": 1634163547094,
    "source_hash": "b34d6d66"
   },
   "outputs": [
    {
     "ename": "NameError",
     "evalue": "name 'TPR_f_non_priv' is not defined",
     "output_type": "error",
     "traceback": [
      "\u001b[0;31m---------------------------------------------------------------------------\u001b[0m",
      "\u001b[0;31mNameError\u001b[0m                                 Traceback (most recent call last)",
      "\u001b[0;32m<ipython-input-19-59e6487a104f>\u001b[0m in \u001b[0;36m<module>\u001b[0;34m\u001b[0m\n\u001b[1;32m      1\u001b[0m \u001b[0;31m# Plot the fairness and accuracy metrics for 1 repetition\u001b[0m\u001b[0;34m\u001b[0m\u001b[0;34m\u001b[0m\u001b[0;34m\u001b[0m\u001b[0m\n\u001b[0;32m----> 2\u001b[0;31m \u001b[0mplot_fairness_dict\u001b[0m\u001b[0;34m(\u001b[0m\u001b[0macs_income_fairness_mwem_1\u001b[0m\u001b[0;34m,\u001b[0m \u001b[0mplot_non_private\u001b[0m\u001b[0;34m=\u001b[0m\u001b[0;32mTrue\u001b[0m\u001b[0;34m)\u001b[0m\u001b[0;34m\u001b[0m\u001b[0;34m\u001b[0m\u001b[0m\n\u001b[0m",
      "\u001b[0;32m<ipython-input-18-90f01a51501e>\u001b[0m in \u001b[0;36mplot_fairness_dict\u001b[0;34m(fairness_dict, plot_non_private)\u001b[0m\n\u001b[1;32m     14\u001b[0m             \u001b[0mmin_eps\u001b[0m \u001b[0;34m=\u001b[0m \u001b[0mnp\u001b[0m\u001b[0;34m.\u001b[0m\u001b[0mmin\u001b[0m\u001b[0;34m(\u001b[0m\u001b[0mepsilon_vals\u001b[0m\u001b[0;34m)\u001b[0m\u001b[0;34m\u001b[0m\u001b[0;34m\u001b[0m\u001b[0m\n\u001b[1;32m     15\u001b[0m             \u001b[0mmax_eps\u001b[0m \u001b[0;34m=\u001b[0m \u001b[0mnp\u001b[0m\u001b[0;34m.\u001b[0m\u001b[0mmax\u001b[0m\u001b[0;34m(\u001b[0m\u001b[0mepsilon_vals\u001b[0m\u001b[0;34m)\u001b[0m\u001b[0;34m\u001b[0m\u001b[0;34m\u001b[0m\u001b[0m\n\u001b[0;32m---> 16\u001b[0;31m             \u001b[0maxs\u001b[0m\u001b[0;34m[\u001b[0m\u001b[0;36m0\u001b[0m\u001b[0;34m]\u001b[0m\u001b[0;34m.\u001b[0m\u001b[0mhlines\u001b[0m\u001b[0;34m(\u001b[0m\u001b[0mTPR_f_non_priv\u001b[0m\u001b[0;34m,\u001b[0m \u001b[0mxmin\u001b[0m\u001b[0;34m=\u001b[0m\u001b[0mmin_eps\u001b[0m\u001b[0;34m,\u001b[0m \u001b[0mxmax\u001b[0m\u001b[0;34m=\u001b[0m\u001b[0mmax_eps\u001b[0m\u001b[0;34m,\u001b[0m \u001b[0mcolors\u001b[0m\u001b[0;34m=\u001b[0m\u001b[0;34m\"darkorange\"\u001b[0m\u001b[0;34m,\u001b[0m \u001b[0mlinestyles\u001b[0m\u001b[0;34m=\u001b[0m\u001b[0;34m\"--\"\u001b[0m\u001b[0;34m,\u001b[0m \u001b[0mlabel\u001b[0m\u001b[0;34m=\u001b[0m\u001b[0;34m\"Non-private female TPR\"\u001b[0m\u001b[0;34m)\u001b[0m\u001b[0;34m\u001b[0m\u001b[0;34m\u001b[0m\u001b[0m\n\u001b[0m\u001b[1;32m     17\u001b[0m             \u001b[0maxs\u001b[0m\u001b[0;34m[\u001b[0m\u001b[0;36m0\u001b[0m\u001b[0;34m]\u001b[0m\u001b[0;34m.\u001b[0m\u001b[0mhlines\u001b[0m\u001b[0;34m(\u001b[0m\u001b[0mTPR_m_non_priv\u001b[0m\u001b[0;34m,\u001b[0m \u001b[0mxmin\u001b[0m\u001b[0;34m=\u001b[0m\u001b[0mmin_eps\u001b[0m\u001b[0;34m,\u001b[0m \u001b[0mxmax\u001b[0m\u001b[0;34m=\u001b[0m\u001b[0mmax_eps\u001b[0m\u001b[0;34m,\u001b[0m \u001b[0mcolors\u001b[0m\u001b[0;34m=\u001b[0m\u001b[0;34m\"royalblue\"\u001b[0m\u001b[0;34m,\u001b[0m \u001b[0mlinestyles\u001b[0m\u001b[0;34m=\u001b[0m\u001b[0;34m\"--\"\u001b[0m\u001b[0;34m,\u001b[0m \u001b[0mlabel\u001b[0m\u001b[0;34m=\u001b[0m\u001b[0;34m\"Non-private male TPR\"\u001b[0m\u001b[0;34m)\u001b[0m\u001b[0;34m\u001b[0m\u001b[0;34m\u001b[0m\u001b[0m\n\u001b[1;32m     18\u001b[0m             \u001b[0maxs\u001b[0m\u001b[0;34m[\u001b[0m\u001b[0;36m1\u001b[0m\u001b[0;34m]\u001b[0m\u001b[0;34m.\u001b[0m\u001b[0mhlines\u001b[0m\u001b[0;34m(\u001b[0m\u001b[0mFPR_f_non_priv\u001b[0m\u001b[0;34m,\u001b[0m \u001b[0mxmin\u001b[0m\u001b[0;34m=\u001b[0m\u001b[0mmin_eps\u001b[0m\u001b[0;34m,\u001b[0m \u001b[0mxmax\u001b[0m\u001b[0;34m=\u001b[0m\u001b[0mmax_eps\u001b[0m\u001b[0;34m,\u001b[0m \u001b[0mcolors\u001b[0m\u001b[0;34m=\u001b[0m\u001b[0;34m\"darkorange\"\u001b[0m\u001b[0;34m,\u001b[0m \u001b[0mlinestyles\u001b[0m\u001b[0;34m=\u001b[0m\u001b[0;34m\"--\"\u001b[0m\u001b[0;34m,\u001b[0m \u001b[0mlabel\u001b[0m\u001b[0;34m=\u001b[0m\u001b[0;34m\"Non-private female FPR\"\u001b[0m\u001b[0;34m)\u001b[0m\u001b[0;34m\u001b[0m\u001b[0;34m\u001b[0m\u001b[0m\n",
      "\u001b[0;31mNameError\u001b[0m: name 'TPR_f_non_priv' is not defined"
     ]
    },
    {
     "data": {
      "image/png": "[encoded data removed]",
      "text/plain": [
       "<Figure size 1080x864 with 4 Axes>"
      ]
     },
     "metadata": {
      "needs_background": "light"
     },
     "output_type": "display_data"
    }
   ],
   "source": [
    "# Plot the fairness and accuracy metrics for 1 repetition\n",
    "plot_fairness_dict(acs_income_fairness_mwem_1, plot_non_private=True)"
   ]
  },
  {
   "cell_type": "code",
   "execution_count": 24,
   "metadata": {
    "cell_id": "00022-06d00568-0e7a-4b66-a0ac-9bec2b254338",
    "deepnote_cell_type": "code",
    "deepnote_to_be_reexecuted": false,
    "execution_millis": 2096940,
    "execution_start": 1634156918279,
    "source_hash": "1d0811a9",
    "tags": []
   },
   "outputs": [
    {
     "name": "stdout",
     "output_type": "stream",
     "text": [
      "Completed eps=1.0, rep=1.\n",
      "Completed eps=1.0, rep=2.\n",
      "Completed eps=1.0, rep=3.\n",
      "Completed eps=1.0, rep=4.\n",
      "Completed eps=1.0, rep=5.\n",
      "Completed eps=1.0, rep=6.\n",
      "Completed eps=1.0, rep=7.\n",
      "Completed eps=1.0, rep=8.\n",
      "Completed eps=1.0, rep=9.\n",
      "Completed eps=1.0, rep=10.\n",
      "Completed eps=1.0, rep=11.\n",
      "Completed eps=1.0, rep=12.\n",
      "Completed eps=1.0, rep=13.\n",
      "Completed eps=1.0, rep=14.\n",
      "Completed eps=1.0, rep=15.\n",
      "Completed eps=2.0, rep=1.\n",
      "Completed eps=2.0, rep=2.\n",
      "Completed eps=2.0, rep=3.\n",
      "Completed eps=2.0, rep=4.\n",
      "Completed eps=2.0, rep=5.\n",
      "Completed eps=2.0, rep=6.\n",
      "Completed eps=2.0, rep=7.\n",
      "Completed eps=2.0, rep=8.\n",
      "Completed eps=2.0, rep=9.\n",
      "Completed eps=2.0, rep=10.\n",
      "Completed eps=2.0, rep=11.\n",
      "Completed eps=2.0, rep=12.\n",
      "Completed eps=2.0, rep=13.\n",
      "Completed eps=2.0, rep=14.\n",
      "Completed eps=2.0, rep=15.\n",
      "Completed eps=3.0, rep=1.\n",
      "Completed eps=3.0, rep=2.\n",
      "Completed eps=3.0, rep=3.\n",
      "Completed eps=3.0, rep=4.\n",
      "Completed eps=3.0, rep=5.\n",
      "Completed eps=3.0, rep=6.\n",
      "Completed eps=3.0, rep=7.\n",
      "Completed eps=3.0, rep=8.\n",
      "Completed eps=3.0, rep=9.\n",
      "Completed eps=3.0, rep=10.\n",
      "Completed eps=3.0, rep=11.\n",
      "Completed eps=3.0, rep=12.\n",
      "Completed eps=3.0, rep=13.\n",
      "Completed eps=3.0, rep=14.\n",
      "Completed eps=3.0, rep=15.\n",
      "Completed eps=4.0, rep=1.\n",
      "Completed eps=4.0, rep=2.\n",
      "Completed eps=4.0, rep=3.\n",
      "Completed eps=4.0, rep=4.\n",
      "Completed eps=4.0, rep=5.\n",
      "Completed eps=4.0, rep=6.\n",
      "Completed eps=4.0, rep=7.\n",
      "Completed eps=4.0, rep=8.\n",
      "Completed eps=4.0, rep=9.\n",
      "Completed eps=4.0, rep=10.\n",
      "Completed eps=4.0, rep=11.\n",
      "Completed eps=4.0, rep=12.\n",
      "Completed eps=4.0, rep=13.\n",
      "Completed eps=4.0, rep=14.\n",
      "Completed eps=4.0, rep=15.\n",
      "Completed eps=5.0, rep=1.\n",
      "Completed eps=5.0, rep=2.\n",
      "Completed eps=5.0, rep=3.\n",
      "Completed eps=5.0, rep=4.\n",
      "Completed eps=5.0, rep=5.\n",
      "Completed eps=5.0, rep=6.\n",
      "Completed eps=5.0, rep=7.\n",
      "Completed eps=5.0, rep=8.\n",
      "Completed eps=5.0, rep=9.\n",
      "Completed eps=5.0, rep=10.\n",
      "Completed eps=5.0, rep=11.\n",
      "Completed eps=5.0, rep=12.\n",
      "Completed eps=5.0, rep=13.\n",
      "Completed eps=5.0, rep=14.\n",
      "Completed eps=5.0, rep=15.\n",
      "Completed eps=6.0, rep=1.\n",
      "Completed eps=6.0, rep=2.\n",
      "Completed eps=6.0, rep=3.\n",
      "Completed eps=6.0, rep=4.\n",
      "Completed eps=6.0, rep=5.\n",
      "Completed eps=6.0, rep=6.\n",
      "Completed eps=6.0, rep=7.\n",
      "Completed eps=6.0, rep=8.\n",
      "Completed eps=6.0, rep=9.\n",
      "Completed eps=6.0, rep=10.\n",
      "Completed eps=6.0, rep=11.\n",
      "Completed eps=6.0, rep=12.\n",
      "Completed eps=6.0, rep=13.\n",
      "Completed eps=6.0, rep=14.\n",
      "Completed eps=6.0, rep=15.\n",
      "Completed eps=7.0, rep=1.\n",
      "Completed eps=7.0, rep=2.\n",
      "Completed eps=7.0, rep=3.\n",
      "Completed eps=7.0, rep=4.\n",
      "Completed eps=7.0, rep=5.\n",
      "Completed eps=7.0, rep=6.\n",
      "Completed eps=7.0, rep=7.\n",
      "Completed eps=7.0, rep=8.\n",
      "Completed eps=7.0, rep=9.\n",
      "Completed eps=7.0, rep=10.\n",
      "Completed eps=7.0, rep=11.\n",
      "Completed eps=7.0, rep=12.\n",
      "Completed eps=7.0, rep=13.\n",
      "Completed eps=7.0, rep=14.\n",
      "Completed eps=7.0, rep=15.\n",
      "Completed eps=8.0, rep=1.\n",
      "Completed eps=8.0, rep=2.\n",
      "Completed eps=8.0, rep=3.\n",
      "Completed eps=8.0, rep=4.\n",
      "Completed eps=8.0, rep=5.\n",
      "Completed eps=8.0, rep=6.\n",
      "Completed eps=8.0, rep=7.\n",
      "Completed eps=8.0, rep=8.\n",
      "Completed eps=8.0, rep=9.\n",
      "Completed eps=8.0, rep=10.\n",
      "Completed eps=8.0, rep=11.\n",
      "Completed eps=8.0, rep=12.\n",
      "Completed eps=8.0, rep=13.\n",
      "Completed eps=8.0, rep=14.\n",
      "Completed eps=8.0, rep=15.\n"
     ]
    }
   ],
   "source": [
    "try:\n",
    "    # Try to load the dictionary with ten repetitions\n",
    "    acs_income_fairness_mwem_2 = np.load(\"acs_income_fairness_mwem_2.npy\", allow_pickle=True).item()\n",
    "    \n",
    "except:\n",
    "    # Set range of epsilon values\n",
    "    epsilon_vals = [1.0, 2.0, 3.0, 4.0, 5.0, 6.0, 7.0, 8.0]\n",
    "\n",
    "    # Get dictionary of averaged fairness metrics across 10 repetitions for range of values\n",
    "    acs_income_fairness_mwem_2 = adult_fairness_privacy_range(epsilon_vals, adult_train, adult_test, synthesizer=\"MWEM\", n_reps=15)\n",
    "    \n",
    "    # Save dictionary\n",
    "    np.save(\"acs_income_fairness_mwem_2.npy\", acs_income_fairness_mwem_2)"
   ]
  },
  {
   "cell_type": "code",
   "execution_count": 26,
   "metadata": {
    "cell_id": "00023-07a735e7-ae30-4dde-8c33-9f37fdf0ea31",
    "deepnote_cell_type": "code",
    "deepnote_to_be_reexecuted": false,
    "execution_millis": 933,
    "execution_start": 1634163587418,
    "source_hash": "8cc14ee9",
    "tags": []
   },
   "outputs": [
    {
     "data": {
      "image/png": "[encoded data removed]",
      "text/plain": [
       "<Figure size 1080x1440 with 8 Axes>"
      ]
     },
     "metadata": {
      "needs_background": "light"
     },
     "output_type": "display_data"
    }
   ],
   "source": [
    "# Plot the fairness and accuracy metrics for female vs male\n",
    "plot_fairness_dict(acs_income_fairness_mwem_2, plot_non_private=True)"
   ]
  },
  {
   "cell_type": "markdown",
   "metadata": {},
   "source": [
    "- orders of magnitude trend of epsilons would show a more clear trend"
   ]
  },
  {
   "cell_type": "markdown",
   "metadata": {
    "cell_id": "00024-c8fa18d1-e517-4493-a1c4-ed5f14646666",
    "deepnote_cell_type": "markdown",
    "tags": []
   },
   "source": [
    "## 4.3 QUAIL-MWEM"
   ]
  },
  {
   "cell_type": "code",
   "execution_count": 27,
   "metadata": {
    "cell_id": "00026-859158a2-643d-4d31-b3f4-fc9a0ccac69b",
    "deepnote_cell_type": "code",
    "deepnote_to_be_reexecuted": false,
    "execution_millis": 10546,
    "execution_start": 1634163055954,
    "source_hash": "c936b3b5",
    "tags": []
   },
   "outputs": [
    {
     "name": "stderr",
     "output_type": "stream",
     "text": [
      "/Users/Kristen.Grabarz/miniconda3/lib/python3.8/site-packages/diffprivlib/models/logistic_regression.py:221: PrivacyLeakWarning: Data norm has not been specified and will be calculated on the data provided.  This will result in additional privacy leakage. To ensure differential privacy and no additional privacy leakage, specify `data_norm` at initialisation.\n",
      "  warnings.warn(\"Data norm has not been specified and will be calculated on the data provided.  This will \"\n",
      "/Users/Kristen.Grabarz/Documents/Classes/Fall 2021/AC297r/smartnoise-sdk/synth/snsynth/mwem.py:116: SettingWithCopyWarning: \n",
      "A value is trying to be set on a copy of a slice from a DataFrame.\n",
      "Try using .loc[row_indexer,col_indexer] = value instead\n",
      "\n",
      "See the caveats in the documentation: https://pandas.pydata.org/pandas-docs/stable/user_guide/indexing.html#returning-a-view-versus-a-copy\n",
      "  data[col] = pd.to_numeric(data[col], errors=\"ignore\")\n",
      "/Users/Kristen.Grabarz/Documents/Classes/Fall 2021/AC297r/smartnoise-sdk/synth/snsynth/mwem.py:530: VisibleDeprecationWarning: Creating an ndarray from ragged nested sequences (which is a list-or-tuple of lists-or-tuples-or ndarrays with different lengths or shapes) is deprecated. If you meant to do this, you must specify 'dtype=object' when creating the ndarray.\n",
      "  return np.array(s2)\n"
     ]
    },
    {
     "name": "stdout",
     "output_type": "stream",
     "text": [
      "Completed eps=1.0, rep=1.\n"
     ]
    },
    {
     "name": "stderr",
     "output_type": "stream",
     "text": [
      "/Users/Kristen.Grabarz/miniconda3/lib/python3.8/site-packages/diffprivlib/models/logistic_regression.py:221: PrivacyLeakWarning: Data norm has not been specified and will be calculated on the data provided.  This will result in additional privacy leakage. To ensure differential privacy and no additional privacy leakage, specify `data_norm` at initialisation.\n",
      "  warnings.warn(\"Data norm has not been specified and will be calculated on the data provided.  This will \"\n",
      "/Users/Kristen.Grabarz/miniconda3/lib/python3.8/site-packages/diffprivlib/models/logistic_regression.py:394: ConvergenceWarning: lbfgs failed to converge. Increase the number of iterations.\n",
      "  warnings.warn(\"lbfgs failed to converge. Increase the number of iterations.\", ConvergenceWarning)\n",
      "/Users/Kristen.Grabarz/Documents/Classes/Fall 2021/AC297r/smartnoise-sdk/synth/snsynth/mwem.py:116: SettingWithCopyWarning: \n",
      "A value is trying to be set on a copy of a slice from a DataFrame.\n",
      "Try using .loc[row_indexer,col_indexer] = value instead\n",
      "\n",
      "See the caveats in the documentation: https://pandas.pydata.org/pandas-docs/stable/user_guide/indexing.html#returning-a-view-versus-a-copy\n",
      "  data[col] = pd.to_numeric(data[col], errors=\"ignore\")\n",
      "/Users/Kristen.Grabarz/Documents/Classes/Fall 2021/AC297r/smartnoise-sdk/synth/snsynth/mwem.py:530: VisibleDeprecationWarning: Creating an ndarray from ragged nested sequences (which is a list-or-tuple of lists-or-tuples-or ndarrays with different lengths or shapes) is deprecated. If you meant to do this, you must specify 'dtype=object' when creating the ndarray.\n",
      "  return np.array(s2)\n"
     ]
    },
    {
     "name": "stdout",
     "output_type": "stream",
     "text": [
      "Completed eps=1.0, rep=2.\n"
     ]
    },
    {
     "name": "stderr",
     "output_type": "stream",
     "text": [
      "/Users/Kristen.Grabarz/miniconda3/lib/python3.8/site-packages/diffprivlib/models/logistic_regression.py:221: PrivacyLeakWarning: Data norm has not been specified and will be calculated on the data provided.  This will result in additional privacy leakage. To ensure differential privacy and no additional privacy leakage, specify `data_norm` at initialisation.\n",
      "  warnings.warn(\"Data norm has not been specified and will be calculated on the data provided.  This will \"\n",
      "/Users/Kristen.Grabarz/Documents/Classes/Fall 2021/AC297r/smartnoise-sdk/synth/snsynth/mwem.py:116: SettingWithCopyWarning: \n",
      "A value is trying to be set on a copy of a slice from a DataFrame.\n",
      "Try using .loc[row_indexer,col_indexer] = value instead\n",
      "\n",
      "See the caveats in the documentation: https://pandas.pydata.org/pandas-docs/stable/user_guide/indexing.html#returning-a-view-versus-a-copy\n",
      "  data[col] = pd.to_numeric(data[col], errors=\"ignore\")\n",
      "/Users/Kristen.Grabarz/Documents/Classes/Fall 2021/AC297r/smartnoise-sdk/synth/snsynth/mwem.py:530: VisibleDeprecationWarning: Creating an ndarray from ragged nested sequences (which is a list-or-tuple of lists-or-tuples-or ndarrays with different lengths or shapes) is deprecated. If you meant to do this, you must specify 'dtype=object' when creating the ndarray.\n",
      "  return np.array(s2)\n"
     ]
    },
    {
     "name": "stdout",
     "output_type": "stream",
     "text": [
      "Completed eps=1.0, rep=3.\n"
     ]
    },
    {
     "name": "stderr",
     "output_type": "stream",
     "text": [
      "/Users/Kristen.Grabarz/miniconda3/lib/python3.8/site-packages/diffprivlib/models/logistic_regression.py:221: PrivacyLeakWarning: Data norm has not been specified and will be calculated on the data provided.  This will result in additional privacy leakage. To ensure differential privacy and no additional privacy leakage, specify `data_norm` at initialisation.\n",
      "  warnings.warn(\"Data norm has not been specified and will be calculated on the data provided.  This will \"\n",
      "/Users/Kristen.Grabarz/miniconda3/lib/python3.8/site-packages/diffprivlib/models/logistic_regression.py:394: ConvergenceWarning: lbfgs failed to converge. Increase the number of iterations.\n",
      "  warnings.warn(\"lbfgs failed to converge. Increase the number of iterations.\", ConvergenceWarning)\n",
      "/Users/Kristen.Grabarz/Documents/Classes/Fall 2021/AC297r/smartnoise-sdk/synth/snsynth/mwem.py:116: SettingWithCopyWarning: \n",
      "A value is trying to be set on a copy of a slice from a DataFrame.\n",
      "Try using .loc[row_indexer,col_indexer] = value instead\n",
      "\n",
      "See the caveats in the documentation: https://pandas.pydata.org/pandas-docs/stable/user_guide/indexing.html#returning-a-view-versus-a-copy\n",
      "  data[col] = pd.to_numeric(data[col], errors=\"ignore\")\n",
      "/Users/Kristen.Grabarz/Documents/Classes/Fall 2021/AC297r/smartnoise-sdk/synth/snsynth/mwem.py:530: VisibleDeprecationWarning: Creating an ndarray from ragged nested sequences (which is a list-or-tuple of lists-or-tuples-or ndarrays with different lengths or shapes) is deprecated. If you meant to do this, you must specify 'dtype=object' when creating the ndarray.\n",
      "  return np.array(s2)\n"
     ]
    },
    {
     "name": "stdout",
     "output_type": "stream",
     "text": [
      "Completed eps=1.0, rep=4.\n"
     ]
    },
    {
     "name": "stderr",
     "output_type": "stream",
     "text": [
      "/Users/Kristen.Grabarz/miniconda3/lib/python3.8/site-packages/diffprivlib/models/logistic_regression.py:221: PrivacyLeakWarning: Data norm has not been specified and will be calculated on the data provided.  This will result in additional privacy leakage. To ensure differential privacy and no additional privacy leakage, specify `data_norm` at initialisation.\n",
      "  warnings.warn(\"Data norm has not been specified and will be calculated on the data provided.  This will \"\n",
      "/Users/Kristen.Grabarz/Documents/Classes/Fall 2021/AC297r/smartnoise-sdk/synth/snsynth/mwem.py:116: SettingWithCopyWarning: \n",
      "A value is trying to be set on a copy of a slice from a DataFrame.\n",
      "Try using .loc[row_indexer,col_indexer] = value instead\n",
      "\n",
      "See the caveats in the documentation: https://pandas.pydata.org/pandas-docs/stable/user_guide/indexing.html#returning-a-view-versus-a-copy\n",
      "  data[col] = pd.to_numeric(data[col], errors=\"ignore\")\n",
      "/Users/Kristen.Grabarz/Documents/Classes/Fall 2021/AC297r/smartnoise-sdk/synth/snsynth/mwem.py:530: VisibleDeprecationWarning: Creating an ndarray from ragged nested sequences (which is a list-or-tuple of lists-or-tuples-or ndarrays with different lengths or shapes) is deprecated. If you meant to do this, you must specify 'dtype=object' when creating the ndarray.\n",
      "  return np.array(s2)\n"
     ]
    },
    {
     "name": "stdout",
     "output_type": "stream",
     "text": [
      "Completed eps=1.0, rep=5.\n"
     ]
    },
    {
     "name": "stderr",
     "output_type": "stream",
     "text": [
      "/Users/Kristen.Grabarz/miniconda3/lib/python3.8/site-packages/diffprivlib/models/logistic_regression.py:221: PrivacyLeakWarning: Data norm has not been specified and will be calculated on the data provided.  This will result in additional privacy leakage. To ensure differential privacy and no additional privacy leakage, specify `data_norm` at initialisation.\n",
      "  warnings.warn(\"Data norm has not been specified and will be calculated on the data provided.  This will \"\n",
      "/Users/Kristen.Grabarz/Documents/Classes/Fall 2021/AC297r/smartnoise-sdk/synth/snsynth/mwem.py:116: SettingWithCopyWarning: \n",
      "A value is trying to be set on a copy of a slice from a DataFrame.\n",
      "Try using .loc[row_indexer,col_indexer] = value instead\n",
      "\n",
      "See the caveats in the documentation: https://pandas.pydata.org/pandas-docs/stable/user_guide/indexing.html#returning-a-view-versus-a-copy\n",
      "  data[col] = pd.to_numeric(data[col], errors=\"ignore\")\n",
      "/Users/Kristen.Grabarz/Documents/Classes/Fall 2021/AC297r/smartnoise-sdk/synth/snsynth/mwem.py:530: VisibleDeprecationWarning: Creating an ndarray from ragged nested sequences (which is a list-or-tuple of lists-or-tuples-or ndarrays with different lengths or shapes) is deprecated. If you meant to do this, you must specify 'dtype=object' when creating the ndarray.\n",
      "  return np.array(s2)\n"
     ]
    },
    {
     "name": "stdout",
     "output_type": "stream",
     "text": [
      "Completed eps=1.0, rep=6.\n"
     ]
    },
    {
     "name": "stderr",
     "output_type": "stream",
     "text": [
      "/Users/Kristen.Grabarz/miniconda3/lib/python3.8/site-packages/diffprivlib/models/logistic_regression.py:221: PrivacyLeakWarning: Data norm has not been specified and will be calculated on the data provided.  This will result in additional privacy leakage. To ensure differential privacy and no additional privacy leakage, specify `data_norm` at initialisation.\n",
      "  warnings.warn(\"Data norm has not been specified and will be calculated on the data provided.  This will \"\n",
      "/Users/Kristen.Grabarz/Documents/Classes/Fall 2021/AC297r/smartnoise-sdk/synth/snsynth/mwem.py:116: SettingWithCopyWarning: \n",
      "A value is trying to be set on a copy of a slice from a DataFrame.\n",
      "Try using .loc[row_indexer,col_indexer] = value instead\n",
      "\n",
      "See the caveats in the documentation: https://pandas.pydata.org/pandas-docs/stable/user_guide/indexing.html#returning-a-view-versus-a-copy\n",
      "  data[col] = pd.to_numeric(data[col], errors=\"ignore\")\n",
      "/Users/Kristen.Grabarz/Documents/Classes/Fall 2021/AC297r/smartnoise-sdk/synth/snsynth/mwem.py:530: VisibleDeprecationWarning: Creating an ndarray from ragged nested sequences (which is a list-or-tuple of lists-or-tuples-or ndarrays with different lengths or shapes) is deprecated. If you meant to do this, you must specify 'dtype=object' when creating the ndarray.\n",
      "  return np.array(s2)\n"
     ]
    },
    {
     "name": "stdout",
     "output_type": "stream",
     "text": [
      "Completed eps=1.0, rep=7.\n"
     ]
    },
    {
     "name": "stderr",
     "output_type": "stream",
     "text": [
      "/Users/Kristen.Grabarz/miniconda3/lib/python3.8/site-packages/diffprivlib/models/logistic_regression.py:221: PrivacyLeakWarning: Data norm has not been specified and will be calculated on the data provided.  This will result in additional privacy leakage. To ensure differential privacy and no additional privacy leakage, specify `data_norm` at initialisation.\n",
      "  warnings.warn(\"Data norm has not been specified and will be calculated on the data provided.  This will \"\n",
      "/Users/Kristen.Grabarz/Documents/Classes/Fall 2021/AC297r/smartnoise-sdk/synth/snsynth/mwem.py:116: SettingWithCopyWarning: \n",
      "A value is trying to be set on a copy of a slice from a DataFrame.\n",
      "Try using .loc[row_indexer,col_indexer] = value instead\n",
      "\n",
      "See the caveats in the documentation: https://pandas.pydata.org/pandas-docs/stable/user_guide/indexing.html#returning-a-view-versus-a-copy\n",
      "  data[col] = pd.to_numeric(data[col], errors=\"ignore\")\n",
      "/Users/Kristen.Grabarz/Documents/Classes/Fall 2021/AC297r/smartnoise-sdk/synth/snsynth/mwem.py:530: VisibleDeprecationWarning: Creating an ndarray from ragged nested sequences (which is a list-or-tuple of lists-or-tuples-or ndarrays with different lengths or shapes) is deprecated. If you meant to do this, you must specify 'dtype=object' when creating the ndarray.\n",
      "  return np.array(s2)\n"
     ]
    },
    {
     "name": "stdout",
     "output_type": "stream",
     "text": [
      "Completed eps=1.0, rep=8.\n"
     ]
    },
    {
     "name": "stderr",
     "output_type": "stream",
     "text": [
      "/Users/Kristen.Grabarz/miniconda3/lib/python3.8/site-packages/diffprivlib/models/logistic_regression.py:221: PrivacyLeakWarning: Data norm has not been specified and will be calculated on the data provided.  This will result in additional privacy leakage. To ensure differential privacy and no additional privacy leakage, specify `data_norm` at initialisation.\n",
      "  warnings.warn(\"Data norm has not been specified and will be calculated on the data provided.  This will \"\n",
      "/Users/Kristen.Grabarz/Documents/Classes/Fall 2021/AC297r/smartnoise-sdk/synth/snsynth/mwem.py:116: SettingWithCopyWarning: \n",
      "A value is trying to be set on a copy of a slice from a DataFrame.\n",
      "Try using .loc[row_indexer,col_indexer] = value instead\n",
      "\n",
      "See the caveats in the documentation: https://pandas.pydata.org/pandas-docs/stable/user_guide/indexing.html#returning-a-view-versus-a-copy\n",
      "  data[col] = pd.to_numeric(data[col], errors=\"ignore\")\n",
      "/Users/Kristen.Grabarz/Documents/Classes/Fall 2021/AC297r/smartnoise-sdk/synth/snsynth/mwem.py:530: VisibleDeprecationWarning: Creating an ndarray from ragged nested sequences (which is a list-or-tuple of lists-or-tuples-or ndarrays with different lengths or shapes) is deprecated. If you meant to do this, you must specify 'dtype=object' when creating the ndarray.\n",
      "  return np.array(s2)\n"
     ]
    },
    {
     "name": "stdout",
     "output_type": "stream",
     "text": [
      "Completed eps=1.0, rep=9.\n"
     ]
    },
    {
     "name": "stderr",
     "output_type": "stream",
     "text": [
      "/Users/Kristen.Grabarz/miniconda3/lib/python3.8/site-packages/diffprivlib/models/logistic_regression.py:221: PrivacyLeakWarning: Data norm has not been specified and will be calculated on the data provided.  This will result in additional privacy leakage. To ensure differential privacy and no additional privacy leakage, specify `data_norm` at initialisation.\n",
      "  warnings.warn(\"Data norm has not been specified and will be calculated on the data provided.  This will \"\n",
      "/Users/Kristen.Grabarz/Documents/Classes/Fall 2021/AC297r/smartnoise-sdk/synth/snsynth/mwem.py:116: SettingWithCopyWarning: \n",
      "A value is trying to be set on a copy of a slice from a DataFrame.\n",
      "Try using .loc[row_indexer,col_indexer] = value instead\n",
      "\n",
      "See the caveats in the documentation: https://pandas.pydata.org/pandas-docs/stable/user_guide/indexing.html#returning-a-view-versus-a-copy\n",
      "  data[col] = pd.to_numeric(data[col], errors=\"ignore\")\n",
      "/Users/Kristen.Grabarz/Documents/Classes/Fall 2021/AC297r/smartnoise-sdk/synth/snsynth/mwem.py:530: VisibleDeprecationWarning: Creating an ndarray from ragged nested sequences (which is a list-or-tuple of lists-or-tuples-or ndarrays with different lengths or shapes) is deprecated. If you meant to do this, you must specify 'dtype=object' when creating the ndarray.\n",
      "  return np.array(s2)\n"
     ]
    },
    {
     "name": "stdout",
     "output_type": "stream",
     "text": [
      "Completed eps=1.0, rep=10.\n"
     ]
    },
    {
     "name": "stderr",
     "output_type": "stream",
     "text": [
      "/Users/Kristen.Grabarz/miniconda3/lib/python3.8/site-packages/diffprivlib/models/logistic_regression.py:221: PrivacyLeakWarning: Data norm has not been specified and will be calculated on the data provided.  This will result in additional privacy leakage. To ensure differential privacy and no additional privacy leakage, specify `data_norm` at initialisation.\n",
      "  warnings.warn(\"Data norm has not been specified and will be calculated on the data provided.  This will \"\n",
      "/Users/Kristen.Grabarz/miniconda3/lib/python3.8/site-packages/diffprivlib/models/logistic_regression.py:394: ConvergenceWarning: lbfgs failed to converge. Increase the number of iterations.\n",
      "  warnings.warn(\"lbfgs failed to converge. Increase the number of iterations.\", ConvergenceWarning)\n",
      "/Users/Kristen.Grabarz/Documents/Classes/Fall 2021/AC297r/smartnoise-sdk/synth/snsynth/mwem.py:116: SettingWithCopyWarning: \n",
      "A value is trying to be set on a copy of a slice from a DataFrame.\n",
      "Try using .loc[row_indexer,col_indexer] = value instead\n",
      "\n",
      "See the caveats in the documentation: https://pandas.pydata.org/pandas-docs/stable/user_guide/indexing.html#returning-a-view-versus-a-copy\n",
      "  data[col] = pd.to_numeric(data[col], errors=\"ignore\")\n",
      "/Users/Kristen.Grabarz/Documents/Classes/Fall 2021/AC297r/smartnoise-sdk/synth/snsynth/mwem.py:530: VisibleDeprecationWarning: Creating an ndarray from ragged nested sequences (which is a list-or-tuple of lists-or-tuples-or ndarrays with different lengths or shapes) is deprecated. If you meant to do this, you must specify 'dtype=object' when creating the ndarray.\n",
      "  return np.array(s2)\n"
     ]
    },
    {
     "name": "stdout",
     "output_type": "stream",
     "text": [
      "Completed eps=1.0, rep=11.\n"
     ]
    },
    {
     "name": "stderr",
     "output_type": "stream",
     "text": [
      "/Users/Kristen.Grabarz/miniconda3/lib/python3.8/site-packages/diffprivlib/models/logistic_regression.py:221: PrivacyLeakWarning: Data norm has not been specified and will be calculated on the data provided.  This will result in additional privacy leakage. To ensure differential privacy and no additional privacy leakage, specify `data_norm` at initialisation.\n",
      "  warnings.warn(\"Data norm has not been specified and will be calculated on the data provided.  This will \"\n",
      "/Users/Kristen.Grabarz/Documents/Classes/Fall 2021/AC297r/smartnoise-sdk/synth/snsynth/mwem.py:116: SettingWithCopyWarning: \n",
      "A value is trying to be set on a copy of a slice from a DataFrame.\n",
      "Try using .loc[row_indexer,col_indexer] = value instead\n",
      "\n",
      "See the caveats in the documentation: https://pandas.pydata.org/pandas-docs/stable/user_guide/indexing.html#returning-a-view-versus-a-copy\n",
      "  data[col] = pd.to_numeric(data[col], errors=\"ignore\")\n",
      "/Users/Kristen.Grabarz/Documents/Classes/Fall 2021/AC297r/smartnoise-sdk/synth/snsynth/mwem.py:530: VisibleDeprecationWarning: Creating an ndarray from ragged nested sequences (which is a list-or-tuple of lists-or-tuples-or ndarrays with different lengths or shapes) is deprecated. If you meant to do this, you must specify 'dtype=object' when creating the ndarray.\n",
      "  return np.array(s2)\n"
     ]
    },
    {
     "name": "stdout",
     "output_type": "stream",
     "text": [
      "Completed eps=1.0, rep=12.\n"
     ]
    },
    {
     "name": "stderr",
     "output_type": "stream",
     "text": [
      "/Users/Kristen.Grabarz/miniconda3/lib/python3.8/site-packages/diffprivlib/models/logistic_regression.py:221: PrivacyLeakWarning: Data norm has not been specified and will be calculated on the data provided.  This will result in additional privacy leakage. To ensure differential privacy and no additional privacy leakage, specify `data_norm` at initialisation.\n",
      "  warnings.warn(\"Data norm has not been specified and will be calculated on the data provided.  This will \"\n",
      "/Users/Kristen.Grabarz/Documents/Classes/Fall 2021/AC297r/smartnoise-sdk/synth/snsynth/mwem.py:116: SettingWithCopyWarning: \n",
      "A value is trying to be set on a copy of a slice from a DataFrame.\n",
      "Try using .loc[row_indexer,col_indexer] = value instead\n",
      "\n",
      "See the caveats in the documentation: https://pandas.pydata.org/pandas-docs/stable/user_guide/indexing.html#returning-a-view-versus-a-copy\n",
      "  data[col] = pd.to_numeric(data[col], errors=\"ignore\")\n",
      "/Users/Kristen.Grabarz/Documents/Classes/Fall 2021/AC297r/smartnoise-sdk/synth/snsynth/mwem.py:530: VisibleDeprecationWarning: Creating an ndarray from ragged nested sequences (which is a list-or-tuple of lists-or-tuples-or ndarrays with different lengths or shapes) is deprecated. If you meant to do this, you must specify 'dtype=object' when creating the ndarray.\n",
      "  return np.array(s2)\n"
     ]
    },
    {
     "name": "stdout",
     "output_type": "stream",
     "text": [
      "Completed eps=1.0, rep=13.\n"
     ]
    },
    {
     "name": "stderr",
     "output_type": "stream",
     "text": [
      "/Users/Kristen.Grabarz/miniconda3/lib/python3.8/site-packages/diffprivlib/models/logistic_regression.py:221: PrivacyLeakWarning: Data norm has not been specified and will be calculated on the data provided.  This will result in additional privacy leakage. To ensure differential privacy and no additional privacy leakage, specify `data_norm` at initialisation.\n",
      "  warnings.warn(\"Data norm has not been specified and will be calculated on the data provided.  This will \"\n",
      "/Users/Kristen.Grabarz/miniconda3/lib/python3.8/site-packages/diffprivlib/models/logistic_regression.py:394: ConvergenceWarning: lbfgs failed to converge. Increase the number of iterations.\n",
      "  warnings.warn(\"lbfgs failed to converge. Increase the number of iterations.\", ConvergenceWarning)\n",
      "/Users/Kristen.Grabarz/Documents/Classes/Fall 2021/AC297r/smartnoise-sdk/synth/snsynth/mwem.py:116: SettingWithCopyWarning: \n",
      "A value is trying to be set on a copy of a slice from a DataFrame.\n",
      "Try using .loc[row_indexer,col_indexer] = value instead\n",
      "\n",
      "See the caveats in the documentation: https://pandas.pydata.org/pandas-docs/stable/user_guide/indexing.html#returning-a-view-versus-a-copy\n",
      "  data[col] = pd.to_numeric(data[col], errors=\"ignore\")\n",
      "/Users/Kristen.Grabarz/Documents/Classes/Fall 2021/AC297r/smartnoise-sdk/synth/snsynth/mwem.py:530: VisibleDeprecationWarning: Creating an ndarray from ragged nested sequences (which is a list-or-tuple of lists-or-tuples-or ndarrays with different lengths or shapes) is deprecated. If you meant to do this, you must specify 'dtype=object' when creating the ndarray.\n",
      "  return np.array(s2)\n"
     ]
    },
    {
     "name": "stdout",
     "output_type": "stream",
     "text": [
      "Completed eps=1.0, rep=14.\n"
     ]
    },
    {
     "name": "stderr",
     "output_type": "stream",
     "text": [
      "/Users/Kristen.Grabarz/miniconda3/lib/python3.8/site-packages/diffprivlib/models/logistic_regression.py:221: PrivacyLeakWarning: Data norm has not been specified and will be calculated on the data provided.  This will result in additional privacy leakage. To ensure differential privacy and no additional privacy leakage, specify `data_norm` at initialisation.\n",
      "  warnings.warn(\"Data norm has not been specified and will be calculated on the data provided.  This will \"\n",
      "/Users/Kristen.Grabarz/Documents/Classes/Fall 2021/AC297r/smartnoise-sdk/synth/snsynth/mwem.py:116: SettingWithCopyWarning: \n",
      "A value is trying to be set on a copy of a slice from a DataFrame.\n",
      "Try using .loc[row_indexer,col_indexer] = value instead\n",
      "\n",
      "See the caveats in the documentation: https://pandas.pydata.org/pandas-docs/stable/user_guide/indexing.html#returning-a-view-versus-a-copy\n",
      "  data[col] = pd.to_numeric(data[col], errors=\"ignore\")\n",
      "/Users/Kristen.Grabarz/Documents/Classes/Fall 2021/AC297r/smartnoise-sdk/synth/snsynth/mwem.py:530: VisibleDeprecationWarning: Creating an ndarray from ragged nested sequences (which is a list-or-tuple of lists-or-tuples-or ndarrays with different lengths or shapes) is deprecated. If you meant to do this, you must specify 'dtype=object' when creating the ndarray.\n",
      "  return np.array(s2)\n"
     ]
    },
    {
     "name": "stdout",
     "output_type": "stream",
     "text": [
      "Completed eps=1.0, rep=15.\n"
     ]
    },
    {
     "name": "stderr",
     "output_type": "stream",
     "text": [
      "/Users/Kristen.Grabarz/miniconda3/lib/python3.8/site-packages/diffprivlib/models/logistic_regression.py:221: PrivacyLeakWarning: Data norm has not been specified and will be calculated on the data provided.  This will result in additional privacy leakage. To ensure differential privacy and no additional privacy leakage, specify `data_norm` at initialisation.\n",
      "  warnings.warn(\"Data norm has not been specified and will be calculated on the data provided.  This will \"\n",
      "/Users/Kristen.Grabarz/miniconda3/lib/python3.8/site-packages/diffprivlib/models/logistic_regression.py:394: ConvergenceWarning: lbfgs failed to converge. Increase the number of iterations.\n",
      "  warnings.warn(\"lbfgs failed to converge. Increase the number of iterations.\", ConvergenceWarning)\n",
      "/Users/Kristen.Grabarz/Documents/Classes/Fall 2021/AC297r/smartnoise-sdk/synth/snsynth/mwem.py:116: SettingWithCopyWarning: \n",
      "A value is trying to be set on a copy of a slice from a DataFrame.\n",
      "Try using .loc[row_indexer,col_indexer] = value instead\n",
      "\n",
      "See the caveats in the documentation: https://pandas.pydata.org/pandas-docs/stable/user_guide/indexing.html#returning-a-view-versus-a-copy\n",
      "  data[col] = pd.to_numeric(data[col], errors=\"ignore\")\n",
      "/Users/Kristen.Grabarz/Documents/Classes/Fall 2021/AC297r/smartnoise-sdk/synth/snsynth/mwem.py:530: VisibleDeprecationWarning: Creating an ndarray from ragged nested sequences (which is a list-or-tuple of lists-or-tuples-or ndarrays with different lengths or shapes) is deprecated. If you meant to do this, you must specify 'dtype=object' when creating the ndarray.\n",
      "  return np.array(s2)\n"
     ]
    },
    {
     "name": "stdout",
     "output_type": "stream",
     "text": [
      "Completed eps=2.0, rep=1.\n"
     ]
    },
    {
     "name": "stderr",
     "output_type": "stream",
     "text": [
      "/Users/Kristen.Grabarz/miniconda3/lib/python3.8/site-packages/diffprivlib/models/logistic_regression.py:221: PrivacyLeakWarning: Data norm has not been specified and will be calculated on the data provided.  This will result in additional privacy leakage. To ensure differential privacy and no additional privacy leakage, specify `data_norm` at initialisation.\n",
      "  warnings.warn(\"Data norm has not been specified and will be calculated on the data provided.  This will \"\n",
      "/Users/Kristen.Grabarz/miniconda3/lib/python3.8/site-packages/diffprivlib/models/logistic_regression.py:394: ConvergenceWarning: lbfgs failed to converge. Increase the number of iterations.\n",
      "  warnings.warn(\"lbfgs failed to converge. Increase the number of iterations.\", ConvergenceWarning)\n",
      "/Users/Kristen.Grabarz/Documents/Classes/Fall 2021/AC297r/smartnoise-sdk/synth/snsynth/mwem.py:116: SettingWithCopyWarning: \n",
      "A value is trying to be set on a copy of a slice from a DataFrame.\n",
      "Try using .loc[row_indexer,col_indexer] = value instead\n",
      "\n",
      "See the caveats in the documentation: https://pandas.pydata.org/pandas-docs/stable/user_guide/indexing.html#returning-a-view-versus-a-copy\n",
      "  data[col] = pd.to_numeric(data[col], errors=\"ignore\")\n",
      "/Users/Kristen.Grabarz/Documents/Classes/Fall 2021/AC297r/smartnoise-sdk/synth/snsynth/mwem.py:530: VisibleDeprecationWarning: Creating an ndarray from ragged nested sequences (which is a list-or-tuple of lists-or-tuples-or ndarrays with different lengths or shapes) is deprecated. If you meant to do this, you must specify 'dtype=object' when creating the ndarray.\n",
      "  return np.array(s2)\n"
     ]
    },
    {
     "name": "stdout",
     "output_type": "stream",
     "text": [
      "Completed eps=2.0, rep=2.\n"
     ]
    },
    {
     "name": "stderr",
     "output_type": "stream",
     "text": [
      "/Users/Kristen.Grabarz/miniconda3/lib/python3.8/site-packages/diffprivlib/models/logistic_regression.py:221: PrivacyLeakWarning: Data norm has not been specified and will be calculated on the data provided.  This will result in additional privacy leakage. To ensure differential privacy and no additional privacy leakage, specify `data_norm` at initialisation.\n",
      "  warnings.warn(\"Data norm has not been specified and will be calculated on the data provided.  This will \"\n",
      "/Users/Kristen.Grabarz/Documents/Classes/Fall 2021/AC297r/smartnoise-sdk/synth/snsynth/mwem.py:116: SettingWithCopyWarning: \n",
      "A value is trying to be set on a copy of a slice from a DataFrame.\n",
      "Try using .loc[row_indexer,col_indexer] = value instead\n",
      "\n",
      "See the caveats in the documentation: https://pandas.pydata.org/pandas-docs/stable/user_guide/indexing.html#returning-a-view-versus-a-copy\n",
      "  data[col] = pd.to_numeric(data[col], errors=\"ignore\")\n",
      "/Users/Kristen.Grabarz/Documents/Classes/Fall 2021/AC297r/smartnoise-sdk/synth/snsynth/mwem.py:530: VisibleDeprecationWarning: Creating an ndarray from ragged nested sequences (which is a list-or-tuple of lists-or-tuples-or ndarrays with different lengths or shapes) is deprecated. If you meant to do this, you must specify 'dtype=object' when creating the ndarray.\n",
      "  return np.array(s2)\n"
     ]
    },
    {
     "name": "stdout",
     "output_type": "stream",
     "text": [
      "Completed eps=2.0, rep=3.\n"
     ]
    },
    {
     "name": "stderr",
     "output_type": "stream",
     "text": [
      "/Users/Kristen.Grabarz/miniconda3/lib/python3.8/site-packages/diffprivlib/models/logistic_regression.py:221: PrivacyLeakWarning: Data norm has not been specified and will be calculated on the data provided.  This will result in additional privacy leakage. To ensure differential privacy and no additional privacy leakage, specify `data_norm` at initialisation.\n",
      "  warnings.warn(\"Data norm has not been specified and will be calculated on the data provided.  This will \"\n",
      "/Users/Kristen.Grabarz/miniconda3/lib/python3.8/site-packages/diffprivlib/models/logistic_regression.py:394: ConvergenceWarning: lbfgs failed to converge. Increase the number of iterations.\n",
      "  warnings.warn(\"lbfgs failed to converge. Increase the number of iterations.\", ConvergenceWarning)\n",
      "/Users/Kristen.Grabarz/Documents/Classes/Fall 2021/AC297r/smartnoise-sdk/synth/snsynth/mwem.py:116: SettingWithCopyWarning: \n",
      "A value is trying to be set on a copy of a slice from a DataFrame.\n",
      "Try using .loc[row_indexer,col_indexer] = value instead\n",
      "\n",
      "See the caveats in the documentation: https://pandas.pydata.org/pandas-docs/stable/user_guide/indexing.html#returning-a-view-versus-a-copy\n",
      "  data[col] = pd.to_numeric(data[col], errors=\"ignore\")\n",
      "/Users/Kristen.Grabarz/Documents/Classes/Fall 2021/AC297r/smartnoise-sdk/synth/snsynth/mwem.py:530: VisibleDeprecationWarning: Creating an ndarray from ragged nested sequences (which is a list-or-tuple of lists-or-tuples-or ndarrays with different lengths or shapes) is deprecated. If you meant to do this, you must specify 'dtype=object' when creating the ndarray.\n",
      "  return np.array(s2)\n"
     ]
    },
    {
     "name": "stdout",
     "output_type": "stream",
     "text": [
      "Completed eps=2.0, rep=4.\n"
     ]
    },
    {
     "name": "stderr",
     "output_type": "stream",
     "text": [
      "/Users/Kristen.Grabarz/miniconda3/lib/python3.8/site-packages/diffprivlib/models/logistic_regression.py:221: PrivacyLeakWarning: Data norm has not been specified and will be calculated on the data provided.  This will result in additional privacy leakage. To ensure differential privacy and no additional privacy leakage, specify `data_norm` at initialisation.\n",
      "  warnings.warn(\"Data norm has not been specified and will be calculated on the data provided.  This will \"\n",
      "/Users/Kristen.Grabarz/miniconda3/lib/python3.8/site-packages/diffprivlib/models/logistic_regression.py:394: ConvergenceWarning: lbfgs failed to converge. Increase the number of iterations.\n",
      "  warnings.warn(\"lbfgs failed to converge. Increase the number of iterations.\", ConvergenceWarning)\n",
      "/Users/Kristen.Grabarz/Documents/Classes/Fall 2021/AC297r/smartnoise-sdk/synth/snsynth/mwem.py:116: SettingWithCopyWarning: \n",
      "A value is trying to be set on a copy of a slice from a DataFrame.\n",
      "Try using .loc[row_indexer,col_indexer] = value instead\n",
      "\n",
      "See the caveats in the documentation: https://pandas.pydata.org/pandas-docs/stable/user_guide/indexing.html#returning-a-view-versus-a-copy\n",
      "  data[col] = pd.to_numeric(data[col], errors=\"ignore\")\n",
      "/Users/Kristen.Grabarz/Documents/Classes/Fall 2021/AC297r/smartnoise-sdk/synth/snsynth/mwem.py:530: VisibleDeprecationWarning: Creating an ndarray from ragged nested sequences (which is a list-or-tuple of lists-or-tuples-or ndarrays with different lengths or shapes) is deprecated. If you meant to do this, you must specify 'dtype=object' when creating the ndarray.\n",
      "  return np.array(s2)\n"
     ]
    },
    {
     "name": "stdout",
     "output_type": "stream",
     "text": [
      "Completed eps=2.0, rep=5.\n"
     ]
    },
    {
     "name": "stderr",
     "output_type": "stream",
     "text": [
      "/Users/Kristen.Grabarz/miniconda3/lib/python3.8/site-packages/diffprivlib/models/logistic_regression.py:221: PrivacyLeakWarning: Data norm has not been specified and will be calculated on the data provided.  This will result in additional privacy leakage. To ensure differential privacy and no additional privacy leakage, specify `data_norm` at initialisation.\n",
      "  warnings.warn(\"Data norm has not been specified and will be calculated on the data provided.  This will \"\n",
      "/Users/Kristen.Grabarz/Documents/Classes/Fall 2021/AC297r/smartnoise-sdk/synth/snsynth/mwem.py:116: SettingWithCopyWarning: \n",
      "A value is trying to be set on a copy of a slice from a DataFrame.\n",
      "Try using .loc[row_indexer,col_indexer] = value instead\n",
      "\n",
      "See the caveats in the documentation: https://pandas.pydata.org/pandas-docs/stable/user_guide/indexing.html#returning-a-view-versus-a-copy\n",
      "  data[col] = pd.to_numeric(data[col], errors=\"ignore\")\n",
      "/Users/Kristen.Grabarz/Documents/Classes/Fall 2021/AC297r/smartnoise-sdk/synth/snsynth/mwem.py:530: VisibleDeprecationWarning: Creating an ndarray from ragged nested sequences (which is a list-or-tuple of lists-or-tuples-or ndarrays with different lengths or shapes) is deprecated. If you meant to do this, you must specify 'dtype=object' when creating the ndarray.\n",
      "  return np.array(s2)\n"
     ]
    },
    {
     "name": "stdout",
     "output_type": "stream",
     "text": [
      "Completed eps=2.0, rep=6.\n"
     ]
    },
    {
     "name": "stderr",
     "output_type": "stream",
     "text": [
      "/Users/Kristen.Grabarz/miniconda3/lib/python3.8/site-packages/diffprivlib/models/logistic_regression.py:221: PrivacyLeakWarning: Data norm has not been specified and will be calculated on the data provided.  This will result in additional privacy leakage. To ensure differential privacy and no additional privacy leakage, specify `data_norm` at initialisation.\n",
      "  warnings.warn(\"Data norm has not been specified and will be calculated on the data provided.  This will \"\n",
      "/Users/Kristen.Grabarz/miniconda3/lib/python3.8/site-packages/diffprivlib/models/logistic_regression.py:394: ConvergenceWarning: lbfgs failed to converge. Increase the number of iterations.\n",
      "  warnings.warn(\"lbfgs failed to converge. Increase the number of iterations.\", ConvergenceWarning)\n",
      "/Users/Kristen.Grabarz/Documents/Classes/Fall 2021/AC297r/smartnoise-sdk/synth/snsynth/mwem.py:116: SettingWithCopyWarning: \n",
      "A value is trying to be set on a copy of a slice from a DataFrame.\n",
      "Try using .loc[row_indexer,col_indexer] = value instead\n",
      "\n",
      "See the caveats in the documentation: https://pandas.pydata.org/pandas-docs/stable/user_guide/indexing.html#returning-a-view-versus-a-copy\n",
      "  data[col] = pd.to_numeric(data[col], errors=\"ignore\")\n",
      "/Users/Kristen.Grabarz/Documents/Classes/Fall 2021/AC297r/smartnoise-sdk/synth/snsynth/mwem.py:530: VisibleDeprecationWarning: Creating an ndarray from ragged nested sequences (which is a list-or-tuple of lists-or-tuples-or ndarrays with different lengths or shapes) is deprecated. If you meant to do this, you must specify 'dtype=object' when creating the ndarray.\n",
      "  return np.array(s2)\n"
     ]
    },
    {
     "name": "stdout",
     "output_type": "stream",
     "text": [
      "Completed eps=2.0, rep=7.\n"
     ]
    },
    {
     "name": "stderr",
     "output_type": "stream",
     "text": [
      "/Users/Kristen.Grabarz/miniconda3/lib/python3.8/site-packages/diffprivlib/models/logistic_regression.py:221: PrivacyLeakWarning: Data norm has not been specified and will be calculated on the data provided.  This will result in additional privacy leakage. To ensure differential privacy and no additional privacy leakage, specify `data_norm` at initialisation.\n",
      "  warnings.warn(\"Data norm has not been specified and will be calculated on the data provided.  This will \"\n",
      "/Users/Kristen.Grabarz/miniconda3/lib/python3.8/site-packages/diffprivlib/models/logistic_regression.py:394: ConvergenceWarning: lbfgs failed to converge. Increase the number of iterations.\n",
      "  warnings.warn(\"lbfgs failed to converge. Increase the number of iterations.\", ConvergenceWarning)\n",
      "/Users/Kristen.Grabarz/Documents/Classes/Fall 2021/AC297r/smartnoise-sdk/synth/snsynth/mwem.py:116: SettingWithCopyWarning: \n",
      "A value is trying to be set on a copy of a slice from a DataFrame.\n",
      "Try using .loc[row_indexer,col_indexer] = value instead\n",
      "\n",
      "See the caveats in the documentation: https://pandas.pydata.org/pandas-docs/stable/user_guide/indexing.html#returning-a-view-versus-a-copy\n",
      "  data[col] = pd.to_numeric(data[col], errors=\"ignore\")\n",
      "/Users/Kristen.Grabarz/Documents/Classes/Fall 2021/AC297r/smartnoise-sdk/synth/snsynth/mwem.py:530: VisibleDeprecationWarning: Creating an ndarray from ragged nested sequences (which is a list-or-tuple of lists-or-tuples-or ndarrays with different lengths or shapes) is deprecated. If you meant to do this, you must specify 'dtype=object' when creating the ndarray.\n",
      "  return np.array(s2)\n"
     ]
    },
    {
     "name": "stdout",
     "output_type": "stream",
     "text": [
      "Completed eps=2.0, rep=8.\n"
     ]
    },
    {
     "name": "stderr",
     "output_type": "stream",
     "text": [
      "/Users/Kristen.Grabarz/miniconda3/lib/python3.8/site-packages/diffprivlib/models/logistic_regression.py:221: PrivacyLeakWarning: Data norm has not been specified and will be calculated on the data provided.  This will result in additional privacy leakage. To ensure differential privacy and no additional privacy leakage, specify `data_norm` at initialisation.\n",
      "  warnings.warn(\"Data norm has not been specified and will be calculated on the data provided.  This will \"\n",
      "/Users/Kristen.Grabarz/miniconda3/lib/python3.8/site-packages/diffprivlib/models/logistic_regression.py:394: ConvergenceWarning: lbfgs failed to converge. Increase the number of iterations.\n",
      "  warnings.warn(\"lbfgs failed to converge. Increase the number of iterations.\", ConvergenceWarning)\n",
      "/Users/Kristen.Grabarz/Documents/Classes/Fall 2021/AC297r/smartnoise-sdk/synth/snsynth/mwem.py:116: SettingWithCopyWarning: \n",
      "A value is trying to be set on a copy of a slice from a DataFrame.\n",
      "Try using .loc[row_indexer,col_indexer] = value instead\n",
      "\n",
      "See the caveats in the documentation: https://pandas.pydata.org/pandas-docs/stable/user_guide/indexing.html#returning-a-view-versus-a-copy\n",
      "  data[col] = pd.to_numeric(data[col], errors=\"ignore\")\n",
      "/Users/Kristen.Grabarz/Documents/Classes/Fall 2021/AC297r/smartnoise-sdk/synth/snsynth/mwem.py:530: VisibleDeprecationWarning: Creating an ndarray from ragged nested sequences (which is a list-or-tuple of lists-or-tuples-or ndarrays with different lengths or shapes) is deprecated. If you meant to do this, you must specify 'dtype=object' when creating the ndarray.\n",
      "  return np.array(s2)\n"
     ]
    },
    {
     "name": "stdout",
     "output_type": "stream",
     "text": [
      "Completed eps=2.0, rep=9.\n"
     ]
    },
    {
     "name": "stderr",
     "output_type": "stream",
     "text": [
      "/Users/Kristen.Grabarz/miniconda3/lib/python3.8/site-packages/diffprivlib/models/logistic_regression.py:221: PrivacyLeakWarning: Data norm has not been specified and will be calculated on the data provided.  This will result in additional privacy leakage. To ensure differential privacy and no additional privacy leakage, specify `data_norm` at initialisation.\n",
      "  warnings.warn(\"Data norm has not been specified and will be calculated on the data provided.  This will \"\n",
      "/Users/Kristen.Grabarz/miniconda3/lib/python3.8/site-packages/diffprivlib/models/logistic_regression.py:394: ConvergenceWarning: lbfgs failed to converge. Increase the number of iterations.\n",
      "  warnings.warn(\"lbfgs failed to converge. Increase the number of iterations.\", ConvergenceWarning)\n",
      "/Users/Kristen.Grabarz/Documents/Classes/Fall 2021/AC297r/smartnoise-sdk/synth/snsynth/mwem.py:116: SettingWithCopyWarning: \n",
      "A value is trying to be set on a copy of a slice from a DataFrame.\n",
      "Try using .loc[row_indexer,col_indexer] = value instead\n",
      "\n",
      "See the caveats in the documentation: https://pandas.pydata.org/pandas-docs/stable/user_guide/indexing.html#returning-a-view-versus-a-copy\n",
      "  data[col] = pd.to_numeric(data[col], errors=\"ignore\")\n",
      "/Users/Kristen.Grabarz/Documents/Classes/Fall 2021/AC297r/smartnoise-sdk/synth/snsynth/mwem.py:530: VisibleDeprecationWarning: Creating an ndarray from ragged nested sequences (which is a list-or-tuple of lists-or-tuples-or ndarrays with different lengths or shapes) is deprecated. If you meant to do this, you must specify 'dtype=object' when creating the ndarray.\n",
      "  return np.array(s2)\n"
     ]
    },
    {
     "name": "stdout",
     "output_type": "stream",
     "text": [
      "Completed eps=2.0, rep=10.\n"
     ]
    },
    {
     "name": "stderr",
     "output_type": "stream",
     "text": [
      "/Users/Kristen.Grabarz/miniconda3/lib/python3.8/site-packages/diffprivlib/models/logistic_regression.py:221: PrivacyLeakWarning: Data norm has not been specified and will be calculated on the data provided.  This will result in additional privacy leakage. To ensure differential privacy and no additional privacy leakage, specify `data_norm` at initialisation.\n",
      "  warnings.warn(\"Data norm has not been specified and will be calculated on the data provided.  This will \"\n",
      "/Users/Kristen.Grabarz/miniconda3/lib/python3.8/site-packages/diffprivlib/models/logistic_regression.py:394: ConvergenceWarning: lbfgs failed to converge. Increase the number of iterations.\n",
      "  warnings.warn(\"lbfgs failed to converge. Increase the number of iterations.\", ConvergenceWarning)\n",
      "/Users/Kristen.Grabarz/Documents/Classes/Fall 2021/AC297r/smartnoise-sdk/synth/snsynth/mwem.py:116: SettingWithCopyWarning: \n",
      "A value is trying to be set on a copy of a slice from a DataFrame.\n",
      "Try using .loc[row_indexer,col_indexer] = value instead\n",
      "\n",
      "See the caveats in the documentation: https://pandas.pydata.org/pandas-docs/stable/user_guide/indexing.html#returning-a-view-versus-a-copy\n",
      "  data[col] = pd.to_numeric(data[col], errors=\"ignore\")\n",
      "/Users/Kristen.Grabarz/Documents/Classes/Fall 2021/AC297r/smartnoise-sdk/synth/snsynth/mwem.py:530: VisibleDeprecationWarning: Creating an ndarray from ragged nested sequences (which is a list-or-tuple of lists-or-tuples-or ndarrays with different lengths or shapes) is deprecated. If you meant to do this, you must specify 'dtype=object' when creating the ndarray.\n",
      "  return np.array(s2)\n"
     ]
    },
    {
     "name": "stdout",
     "output_type": "stream",
     "text": [
      "Completed eps=2.0, rep=11.\n"
     ]
    },
    {
     "name": "stderr",
     "output_type": "stream",
     "text": [
      "/Users/Kristen.Grabarz/miniconda3/lib/python3.8/site-packages/diffprivlib/models/logistic_regression.py:221: PrivacyLeakWarning: Data norm has not been specified and will be calculated on the data provided.  This will result in additional privacy leakage. To ensure differential privacy and no additional privacy leakage, specify `data_norm` at initialisation.\n",
      "  warnings.warn(\"Data norm has not been specified and will be calculated on the data provided.  This will \"\n",
      "/Users/Kristen.Grabarz/miniconda3/lib/python3.8/site-packages/diffprivlib/models/logistic_regression.py:394: ConvergenceWarning: lbfgs failed to converge. Increase the number of iterations.\n",
      "  warnings.warn(\"lbfgs failed to converge. Increase the number of iterations.\", ConvergenceWarning)\n",
      "/Users/Kristen.Grabarz/Documents/Classes/Fall 2021/AC297r/smartnoise-sdk/synth/snsynth/mwem.py:116: SettingWithCopyWarning: \n",
      "A value is trying to be set on a copy of a slice from a DataFrame.\n",
      "Try using .loc[row_indexer,col_indexer] = value instead\n",
      "\n",
      "See the caveats in the documentation: https://pandas.pydata.org/pandas-docs/stable/user_guide/indexing.html#returning-a-view-versus-a-copy\n",
      "  data[col] = pd.to_numeric(data[col], errors=\"ignore\")\n",
      "/Users/Kristen.Grabarz/Documents/Classes/Fall 2021/AC297r/smartnoise-sdk/synth/snsynth/mwem.py:530: VisibleDeprecationWarning: Creating an ndarray from ragged nested sequences (which is a list-or-tuple of lists-or-tuples-or ndarrays with different lengths or shapes) is deprecated. If you meant to do this, you must specify 'dtype=object' when creating the ndarray.\n",
      "  return np.array(s2)\n"
     ]
    },
    {
     "name": "stdout",
     "output_type": "stream",
     "text": [
      "Completed eps=2.0, rep=12.\n"
     ]
    },
    {
     "name": "stderr",
     "output_type": "stream",
     "text": [
      "/Users/Kristen.Grabarz/miniconda3/lib/python3.8/site-packages/diffprivlib/models/logistic_regression.py:221: PrivacyLeakWarning: Data norm has not been specified and will be calculated on the data provided.  This will result in additional privacy leakage. To ensure differential privacy and no additional privacy leakage, specify `data_norm` at initialisation.\n",
      "  warnings.warn(\"Data norm has not been specified and will be calculated on the data provided.  This will \"\n",
      "/Users/Kristen.Grabarz/miniconda3/lib/python3.8/site-packages/diffprivlib/models/logistic_regression.py:394: ConvergenceWarning: lbfgs failed to converge. Increase the number of iterations.\n",
      "  warnings.warn(\"lbfgs failed to converge. Increase the number of iterations.\", ConvergenceWarning)\n",
      "/Users/Kristen.Grabarz/Documents/Classes/Fall 2021/AC297r/smartnoise-sdk/synth/snsynth/mwem.py:116: SettingWithCopyWarning: \n",
      "A value is trying to be set on a copy of a slice from a DataFrame.\n",
      "Try using .loc[row_indexer,col_indexer] = value instead\n",
      "\n",
      "See the caveats in the documentation: https://pandas.pydata.org/pandas-docs/stable/user_guide/indexing.html#returning-a-view-versus-a-copy\n",
      "  data[col] = pd.to_numeric(data[col], errors=\"ignore\")\n",
      "/Users/Kristen.Grabarz/Documents/Classes/Fall 2021/AC297r/smartnoise-sdk/synth/snsynth/mwem.py:530: VisibleDeprecationWarning: Creating an ndarray from ragged nested sequences (which is a list-or-tuple of lists-or-tuples-or ndarrays with different lengths or shapes) is deprecated. If you meant to do this, you must specify 'dtype=object' when creating the ndarray.\n",
      "  return np.array(s2)\n"
     ]
    },
    {
     "name": "stdout",
     "output_type": "stream",
     "text": [
      "Completed eps=2.0, rep=13.\n"
     ]
    },
    {
     "name": "stderr",
     "output_type": "stream",
     "text": [
      "/Users/Kristen.Grabarz/miniconda3/lib/python3.8/site-packages/diffprivlib/models/logistic_regression.py:221: PrivacyLeakWarning: Data norm has not been specified and will be calculated on the data provided.  This will result in additional privacy leakage. To ensure differential privacy and no additional privacy leakage, specify `data_norm` at initialisation.\n",
      "  warnings.warn(\"Data norm has not been specified and will be calculated on the data provided.  This will \"\n",
      "/Users/Kristen.Grabarz/Documents/Classes/Fall 2021/AC297r/smartnoise-sdk/synth/snsynth/mwem.py:116: SettingWithCopyWarning: \n",
      "A value is trying to be set on a copy of a slice from a DataFrame.\n",
      "Try using .loc[row_indexer,col_indexer] = value instead\n",
      "\n",
      "See the caveats in the documentation: https://pandas.pydata.org/pandas-docs/stable/user_guide/indexing.html#returning-a-view-versus-a-copy\n",
      "  data[col] = pd.to_numeric(data[col], errors=\"ignore\")\n",
      "/Users/Kristen.Grabarz/Documents/Classes/Fall 2021/AC297r/smartnoise-sdk/synth/snsynth/mwem.py:530: VisibleDeprecationWarning: Creating an ndarray from ragged nested sequences (which is a list-or-tuple of lists-or-tuples-or ndarrays with different lengths or shapes) is deprecated. If you meant to do this, you must specify 'dtype=object' when creating the ndarray.\n",
      "  return np.array(s2)\n"
     ]
    },
    {
     "name": "stdout",
     "output_type": "stream",
     "text": [
      "Completed eps=2.0, rep=14.\n"
     ]
    },
    {
     "name": "stderr",
     "output_type": "stream",
     "text": [
      "/Users/Kristen.Grabarz/miniconda3/lib/python3.8/site-packages/diffprivlib/models/logistic_regression.py:221: PrivacyLeakWarning: Data norm has not been specified and will be calculated on the data provided.  This will result in additional privacy leakage. To ensure differential privacy and no additional privacy leakage, specify `data_norm` at initialisation.\n",
      "  warnings.warn(\"Data norm has not been specified and will be calculated on the data provided.  This will \"\n",
      "/Users/Kristen.Grabarz/Documents/Classes/Fall 2021/AC297r/smartnoise-sdk/synth/snsynth/mwem.py:116: SettingWithCopyWarning: \n",
      "A value is trying to be set on a copy of a slice from a DataFrame.\n",
      "Try using .loc[row_indexer,col_indexer] = value instead\n",
      "\n",
      "See the caveats in the documentation: https://pandas.pydata.org/pandas-docs/stable/user_guide/indexing.html#returning-a-view-versus-a-copy\n",
      "  data[col] = pd.to_numeric(data[col], errors=\"ignore\")\n",
      "/Users/Kristen.Grabarz/Documents/Classes/Fall 2021/AC297r/smartnoise-sdk/synth/snsynth/mwem.py:530: VisibleDeprecationWarning: Creating an ndarray from ragged nested sequences (which is a list-or-tuple of lists-or-tuples-or ndarrays with different lengths or shapes) is deprecated. If you meant to do this, you must specify 'dtype=object' when creating the ndarray.\n",
      "  return np.array(s2)\n"
     ]
    },
    {
     "name": "stdout",
     "output_type": "stream",
     "text": [
      "Completed eps=2.0, rep=15.\n"
     ]
    },
    {
     "name": "stderr",
     "output_type": "stream",
     "text": [
      "/Users/Kristen.Grabarz/miniconda3/lib/python3.8/site-packages/diffprivlib/models/logistic_regression.py:221: PrivacyLeakWarning: Data norm has not been specified and will be calculated on the data provided.  This will result in additional privacy leakage. To ensure differential privacy and no additional privacy leakage, specify `data_norm` at initialisation.\n",
      "  warnings.warn(\"Data norm has not been specified and will be calculated on the data provided.  This will \"\n",
      "/Users/Kristen.Grabarz/miniconda3/lib/python3.8/site-packages/diffprivlib/models/logistic_regression.py:394: ConvergenceWarning: lbfgs failed to converge. Increase the number of iterations.\n",
      "  warnings.warn(\"lbfgs failed to converge. Increase the number of iterations.\", ConvergenceWarning)\n",
      "/Users/Kristen.Grabarz/Documents/Classes/Fall 2021/AC297r/smartnoise-sdk/synth/snsynth/mwem.py:116: SettingWithCopyWarning: \n",
      "A value is trying to be set on a copy of a slice from a DataFrame.\n",
      "Try using .loc[row_indexer,col_indexer] = value instead\n",
      "\n",
      "See the caveats in the documentation: https://pandas.pydata.org/pandas-docs/stable/user_guide/indexing.html#returning-a-view-versus-a-copy\n",
      "  data[col] = pd.to_numeric(data[col], errors=\"ignore\")\n",
      "/Users/Kristen.Grabarz/Documents/Classes/Fall 2021/AC297r/smartnoise-sdk/synth/snsynth/mwem.py:530: VisibleDeprecationWarning: Creating an ndarray from ragged nested sequences (which is a list-or-tuple of lists-or-tuples-or ndarrays with different lengths or shapes) is deprecated. If you meant to do this, you must specify 'dtype=object' when creating the ndarray.\n",
      "  return np.array(s2)\n"
     ]
    },
    {
     "name": "stdout",
     "output_type": "stream",
     "text": [
      "Completed eps=3.0, rep=1.\n"
     ]
    },
    {
     "name": "stderr",
     "output_type": "stream",
     "text": [
      "/Users/Kristen.Grabarz/miniconda3/lib/python3.8/site-packages/diffprivlib/models/logistic_regression.py:221: PrivacyLeakWarning: Data norm has not been specified and will be calculated on the data provided.  This will result in additional privacy leakage. To ensure differential privacy and no additional privacy leakage, specify `data_norm` at initialisation.\n",
      "  warnings.warn(\"Data norm has not been specified and will be calculated on the data provided.  This will \"\n",
      "/Users/Kristen.Grabarz/miniconda3/lib/python3.8/site-packages/diffprivlib/models/logistic_regression.py:394: ConvergenceWarning: lbfgs failed to converge. Increase the number of iterations.\n",
      "  warnings.warn(\"lbfgs failed to converge. Increase the number of iterations.\", ConvergenceWarning)\n",
      "/Users/Kristen.Grabarz/Documents/Classes/Fall 2021/AC297r/smartnoise-sdk/synth/snsynth/mwem.py:116: SettingWithCopyWarning: \n",
      "A value is trying to be set on a copy of a slice from a DataFrame.\n",
      "Try using .loc[row_indexer,col_indexer] = value instead\n",
      "\n",
      "See the caveats in the documentation: https://pandas.pydata.org/pandas-docs/stable/user_guide/indexing.html#returning-a-view-versus-a-copy\n",
      "  data[col] = pd.to_numeric(data[col], errors=\"ignore\")\n",
      "/Users/Kristen.Grabarz/Documents/Classes/Fall 2021/AC297r/smartnoise-sdk/synth/snsynth/mwem.py:530: VisibleDeprecationWarning: Creating an ndarray from ragged nested sequences (which is a list-or-tuple of lists-or-tuples-or ndarrays with different lengths or shapes) is deprecated. If you meant to do this, you must specify 'dtype=object' when creating the ndarray.\n",
      "  return np.array(s2)\n"
     ]
    },
    {
     "name": "stdout",
     "output_type": "stream",
     "text": [
      "Completed eps=3.0, rep=2.\n"
     ]
    },
    {
     "name": "stderr",
     "output_type": "stream",
     "text": [
      "/Users/Kristen.Grabarz/miniconda3/lib/python3.8/site-packages/diffprivlib/models/logistic_regression.py:221: PrivacyLeakWarning: Data norm has not been specified and will be calculated on the data provided.  This will result in additional privacy leakage. To ensure differential privacy and no additional privacy leakage, specify `data_norm` at initialisation.\n",
      "  warnings.warn(\"Data norm has not been specified and will be calculated on the data provided.  This will \"\n",
      "/Users/Kristen.Grabarz/miniconda3/lib/python3.8/site-packages/diffprivlib/models/logistic_regression.py:394: ConvergenceWarning: lbfgs failed to converge. Increase the number of iterations.\n",
      "  warnings.warn(\"lbfgs failed to converge. Increase the number of iterations.\", ConvergenceWarning)\n",
      "/Users/Kristen.Grabarz/Documents/Classes/Fall 2021/AC297r/smartnoise-sdk/synth/snsynth/mwem.py:116: SettingWithCopyWarning: \n",
      "A value is trying to be set on a copy of a slice from a DataFrame.\n",
      "Try using .loc[row_indexer,col_indexer] = value instead\n",
      "\n",
      "See the caveats in the documentation: https://pandas.pydata.org/pandas-docs/stable/user_guide/indexing.html#returning-a-view-versus-a-copy\n",
      "  data[col] = pd.to_numeric(data[col], errors=\"ignore\")\n",
      "/Users/Kristen.Grabarz/Documents/Classes/Fall 2021/AC297r/smartnoise-sdk/synth/snsynth/mwem.py:530: VisibleDeprecationWarning: Creating an ndarray from ragged nested sequences (which is a list-or-tuple of lists-or-tuples-or ndarrays with different lengths or shapes) is deprecated. If you meant to do this, you must specify 'dtype=object' when creating the ndarray.\n",
      "  return np.array(s2)\n"
     ]
    },
    {
     "name": "stdout",
     "output_type": "stream",
     "text": [
      "Completed eps=3.0, rep=3.\n"
     ]
    },
    {
     "name": "stderr",
     "output_type": "stream",
     "text": [
      "/Users/Kristen.Grabarz/miniconda3/lib/python3.8/site-packages/diffprivlib/models/logistic_regression.py:221: PrivacyLeakWarning: Data norm has not been specified and will be calculated on the data provided.  This will result in additional privacy leakage. To ensure differential privacy and no additional privacy leakage, specify `data_norm` at initialisation.\n",
      "  warnings.warn(\"Data norm has not been specified and will be calculated on the data provided.  This will \"\n",
      "/Users/Kristen.Grabarz/miniconda3/lib/python3.8/site-packages/diffprivlib/models/logistic_regression.py:394: ConvergenceWarning: lbfgs failed to converge. Increase the number of iterations.\n",
      "  warnings.warn(\"lbfgs failed to converge. Increase the number of iterations.\", ConvergenceWarning)\n",
      "/Users/Kristen.Grabarz/Documents/Classes/Fall 2021/AC297r/smartnoise-sdk/synth/snsynth/mwem.py:116: SettingWithCopyWarning: \n",
      "A value is trying to be set on a copy of a slice from a DataFrame.\n",
      "Try using .loc[row_indexer,col_indexer] = value instead\n",
      "\n",
      "See the caveats in the documentation: https://pandas.pydata.org/pandas-docs/stable/user_guide/indexing.html#returning-a-view-versus-a-copy\n",
      "  data[col] = pd.to_numeric(data[col], errors=\"ignore\")\n",
      "/Users/Kristen.Grabarz/Documents/Classes/Fall 2021/AC297r/smartnoise-sdk/synth/snsynth/mwem.py:530: VisibleDeprecationWarning: Creating an ndarray from ragged nested sequences (which is a list-or-tuple of lists-or-tuples-or ndarrays with different lengths or shapes) is deprecated. If you meant to do this, you must specify 'dtype=object' when creating the ndarray.\n",
      "  return np.array(s2)\n"
     ]
    },
    {
     "name": "stdout",
     "output_type": "stream",
     "text": [
      "Completed eps=3.0, rep=4.\n"
     ]
    },
    {
     "name": "stderr",
     "output_type": "stream",
     "text": [
      "/Users/Kristen.Grabarz/miniconda3/lib/python3.8/site-packages/diffprivlib/models/logistic_regression.py:221: PrivacyLeakWarning: Data norm has not been specified and will be calculated on the data provided.  This will result in additional privacy leakage. To ensure differential privacy and no additional privacy leakage, specify `data_norm` at initialisation.\n",
      "  warnings.warn(\"Data norm has not been specified and will be calculated on the data provided.  This will \"\n",
      "/Users/Kristen.Grabarz/miniconda3/lib/python3.8/site-packages/diffprivlib/models/logistic_regression.py:394: ConvergenceWarning: lbfgs failed to converge. Increase the number of iterations.\n",
      "  warnings.warn(\"lbfgs failed to converge. Increase the number of iterations.\", ConvergenceWarning)\n",
      "/Users/Kristen.Grabarz/Documents/Classes/Fall 2021/AC297r/smartnoise-sdk/synth/snsynth/mwem.py:116: SettingWithCopyWarning: \n",
      "A value is trying to be set on a copy of a slice from a DataFrame.\n",
      "Try using .loc[row_indexer,col_indexer] = value instead\n",
      "\n",
      "See the caveats in the documentation: https://pandas.pydata.org/pandas-docs/stable/user_guide/indexing.html#returning-a-view-versus-a-copy\n",
      "  data[col] = pd.to_numeric(data[col], errors=\"ignore\")\n",
      "/Users/Kristen.Grabarz/Documents/Classes/Fall 2021/AC297r/smartnoise-sdk/synth/snsynth/mwem.py:530: VisibleDeprecationWarning: Creating an ndarray from ragged nested sequences (which is a list-or-tuple of lists-or-tuples-or ndarrays with different lengths or shapes) is deprecated. If you meant to do this, you must specify 'dtype=object' when creating the ndarray.\n",
      "  return np.array(s2)\n"
     ]
    },
    {
     "name": "stdout",
     "output_type": "stream",
     "text": [
      "Completed eps=3.0, rep=5.\n"
     ]
    },
    {
     "name": "stderr",
     "output_type": "stream",
     "text": [
      "/Users/Kristen.Grabarz/miniconda3/lib/python3.8/site-packages/diffprivlib/models/logistic_regression.py:221: PrivacyLeakWarning: Data norm has not been specified and will be calculated on the data provided.  This will result in additional privacy leakage. To ensure differential privacy and no additional privacy leakage, specify `data_norm` at initialisation.\n",
      "  warnings.warn(\"Data norm has not been specified and will be calculated on the data provided.  This will \"\n",
      "/Users/Kristen.Grabarz/miniconda3/lib/python3.8/site-packages/diffprivlib/models/logistic_regression.py:394: ConvergenceWarning: lbfgs failed to converge. Increase the number of iterations.\n",
      "  warnings.warn(\"lbfgs failed to converge. Increase the number of iterations.\", ConvergenceWarning)\n",
      "/Users/Kristen.Grabarz/Documents/Classes/Fall 2021/AC297r/smartnoise-sdk/synth/snsynth/mwem.py:116: SettingWithCopyWarning: \n",
      "A value is trying to be set on a copy of a slice from a DataFrame.\n",
      "Try using .loc[row_indexer,col_indexer] = value instead\n",
      "\n",
      "See the caveats in the documentation: https://pandas.pydata.org/pandas-docs/stable/user_guide/indexing.html#returning-a-view-versus-a-copy\n",
      "  data[col] = pd.to_numeric(data[col], errors=\"ignore\")\n",
      "/Users/Kristen.Grabarz/Documents/Classes/Fall 2021/AC297r/smartnoise-sdk/synth/snsynth/mwem.py:530: VisibleDeprecationWarning: Creating an ndarray from ragged nested sequences (which is a list-or-tuple of lists-or-tuples-or ndarrays with different lengths or shapes) is deprecated. If you meant to do this, you must specify 'dtype=object' when creating the ndarray.\n",
      "  return np.array(s2)\n"
     ]
    },
    {
     "name": "stdout",
     "output_type": "stream",
     "text": [
      "Completed eps=3.0, rep=6.\n"
     ]
    },
    {
     "name": "stderr",
     "output_type": "stream",
     "text": [
      "/Users/Kristen.Grabarz/miniconda3/lib/python3.8/site-packages/diffprivlib/models/logistic_regression.py:221: PrivacyLeakWarning: Data norm has not been specified and will be calculated on the data provided.  This will result in additional privacy leakage. To ensure differential privacy and no additional privacy leakage, specify `data_norm` at initialisation.\n",
      "  warnings.warn(\"Data norm has not been specified and will be calculated on the data provided.  This will \"\n",
      "/Users/Kristen.Grabarz/miniconda3/lib/python3.8/site-packages/diffprivlib/models/logistic_regression.py:394: ConvergenceWarning: lbfgs failed to converge. Increase the number of iterations.\n",
      "  warnings.warn(\"lbfgs failed to converge. Increase the number of iterations.\", ConvergenceWarning)\n",
      "/Users/Kristen.Grabarz/Documents/Classes/Fall 2021/AC297r/smartnoise-sdk/synth/snsynth/mwem.py:116: SettingWithCopyWarning: \n",
      "A value is trying to be set on a copy of a slice from a DataFrame.\n",
      "Try using .loc[row_indexer,col_indexer] = value instead\n",
      "\n",
      "See the caveats in the documentation: https://pandas.pydata.org/pandas-docs/stable/user_guide/indexing.html#returning-a-view-versus-a-copy\n",
      "  data[col] = pd.to_numeric(data[col], errors=\"ignore\")\n",
      "/Users/Kristen.Grabarz/Documents/Classes/Fall 2021/AC297r/smartnoise-sdk/synth/snsynth/mwem.py:530: VisibleDeprecationWarning: Creating an ndarray from ragged nested sequences (which is a list-or-tuple of lists-or-tuples-or ndarrays with different lengths or shapes) is deprecated. If you meant to do this, you must specify 'dtype=object' when creating the ndarray.\n",
      "  return np.array(s2)\n"
     ]
    },
    {
     "name": "stdout",
     "output_type": "stream",
     "text": [
      "Completed eps=3.0, rep=7.\n"
     ]
    },
    {
     "name": "stderr",
     "output_type": "stream",
     "text": [
      "/Users/Kristen.Grabarz/miniconda3/lib/python3.8/site-packages/diffprivlib/models/logistic_regression.py:221: PrivacyLeakWarning: Data norm has not been specified and will be calculated on the data provided.  This will result in additional privacy leakage. To ensure differential privacy and no additional privacy leakage, specify `data_norm` at initialisation.\n",
      "  warnings.warn(\"Data norm has not been specified and will be calculated on the data provided.  This will \"\n",
      "/Users/Kristen.Grabarz/miniconda3/lib/python3.8/site-packages/diffprivlib/models/logistic_regression.py:394: ConvergenceWarning: lbfgs failed to converge. Increase the number of iterations.\n",
      "  warnings.warn(\"lbfgs failed to converge. Increase the number of iterations.\", ConvergenceWarning)\n",
      "/Users/Kristen.Grabarz/Documents/Classes/Fall 2021/AC297r/smartnoise-sdk/synth/snsynth/mwem.py:116: SettingWithCopyWarning: \n",
      "A value is trying to be set on a copy of a slice from a DataFrame.\n",
      "Try using .loc[row_indexer,col_indexer] = value instead\n",
      "\n",
      "See the caveats in the documentation: https://pandas.pydata.org/pandas-docs/stable/user_guide/indexing.html#returning-a-view-versus-a-copy\n",
      "  data[col] = pd.to_numeric(data[col], errors=\"ignore\")\n",
      "/Users/Kristen.Grabarz/Documents/Classes/Fall 2021/AC297r/smartnoise-sdk/synth/snsynth/mwem.py:530: VisibleDeprecationWarning: Creating an ndarray from ragged nested sequences (which is a list-or-tuple of lists-or-tuples-or ndarrays with different lengths or shapes) is deprecated. If you meant to do this, you must specify 'dtype=object' when creating the ndarray.\n",
      "  return np.array(s2)\n"
     ]
    },
    {
     "name": "stdout",
     "output_type": "stream",
     "text": [
      "Completed eps=3.0, rep=8.\n"
     ]
    },
    {
     "name": "stderr",
     "output_type": "stream",
     "text": [
      "/Users/Kristen.Grabarz/miniconda3/lib/python3.8/site-packages/diffprivlib/models/logistic_regression.py:221: PrivacyLeakWarning: Data norm has not been specified and will be calculated on the data provided.  This will result in additional privacy leakage. To ensure differential privacy and no additional privacy leakage, specify `data_norm` at initialisation.\n",
      "  warnings.warn(\"Data norm has not been specified and will be calculated on the data provided.  This will \"\n",
      "/Users/Kristen.Grabarz/miniconda3/lib/python3.8/site-packages/diffprivlib/models/logistic_regression.py:394: ConvergenceWarning: lbfgs failed to converge. Increase the number of iterations.\n",
      "  warnings.warn(\"lbfgs failed to converge. Increase the number of iterations.\", ConvergenceWarning)\n",
      "/Users/Kristen.Grabarz/Documents/Classes/Fall 2021/AC297r/smartnoise-sdk/synth/snsynth/mwem.py:116: SettingWithCopyWarning: \n",
      "A value is trying to be set on a copy of a slice from a DataFrame.\n",
      "Try using .loc[row_indexer,col_indexer] = value instead\n",
      "\n",
      "See the caveats in the documentation: https://pandas.pydata.org/pandas-docs/stable/user_guide/indexing.html#returning-a-view-versus-a-copy\n",
      "  data[col] = pd.to_numeric(data[col], errors=\"ignore\")\n",
      "/Users/Kristen.Grabarz/Documents/Classes/Fall 2021/AC297r/smartnoise-sdk/synth/snsynth/mwem.py:530: VisibleDeprecationWarning: Creating an ndarray from ragged nested sequences (which is a list-or-tuple of lists-or-tuples-or ndarrays with different lengths or shapes) is deprecated. If you meant to do this, you must specify 'dtype=object' when creating the ndarray.\n",
      "  return np.array(s2)\n"
     ]
    },
    {
     "name": "stdout",
     "output_type": "stream",
     "text": [
      "Completed eps=3.0, rep=9.\n"
     ]
    },
    {
     "name": "stderr",
     "output_type": "stream",
     "text": [
      "/Users/Kristen.Grabarz/miniconda3/lib/python3.8/site-packages/diffprivlib/models/logistic_regression.py:221: PrivacyLeakWarning: Data norm has not been specified and will be calculated on the data provided.  This will result in additional privacy leakage. To ensure differential privacy and no additional privacy leakage, specify `data_norm` at initialisation.\n",
      "  warnings.warn(\"Data norm has not been specified and will be calculated on the data provided.  This will \"\n",
      "/Users/Kristen.Grabarz/miniconda3/lib/python3.8/site-packages/diffprivlib/models/logistic_regression.py:394: ConvergenceWarning: lbfgs failed to converge. Increase the number of iterations.\n",
      "  warnings.warn(\"lbfgs failed to converge. Increase the number of iterations.\", ConvergenceWarning)\n",
      "/Users/Kristen.Grabarz/Documents/Classes/Fall 2021/AC297r/smartnoise-sdk/synth/snsynth/mwem.py:116: SettingWithCopyWarning: \n",
      "A value is trying to be set on a copy of a slice from a DataFrame.\n",
      "Try using .loc[row_indexer,col_indexer] = value instead\n",
      "\n",
      "See the caveats in the documentation: https://pandas.pydata.org/pandas-docs/stable/user_guide/indexing.html#returning-a-view-versus-a-copy\n",
      "  data[col] = pd.to_numeric(data[col], errors=\"ignore\")\n",
      "/Users/Kristen.Grabarz/Documents/Classes/Fall 2021/AC297r/smartnoise-sdk/synth/snsynth/mwem.py:530: VisibleDeprecationWarning: Creating an ndarray from ragged nested sequences (which is a list-or-tuple of lists-or-tuples-or ndarrays with different lengths or shapes) is deprecated. If you meant to do this, you must specify 'dtype=object' when creating the ndarray.\n",
      "  return np.array(s2)\n"
     ]
    },
    {
     "name": "stdout",
     "output_type": "stream",
     "text": [
      "Completed eps=3.0, rep=10.\n"
     ]
    },
    {
     "name": "stderr",
     "output_type": "stream",
     "text": [
      "/Users/Kristen.Grabarz/miniconda3/lib/python3.8/site-packages/diffprivlib/models/logistic_regression.py:221: PrivacyLeakWarning: Data norm has not been specified and will be calculated on the data provided.  This will result in additional privacy leakage. To ensure differential privacy and no additional privacy leakage, specify `data_norm` at initialisation.\n",
      "  warnings.warn(\"Data norm has not been specified and will be calculated on the data provided.  This will \"\n",
      "/Users/Kristen.Grabarz/Documents/Classes/Fall 2021/AC297r/smartnoise-sdk/synth/snsynth/mwem.py:116: SettingWithCopyWarning: \n",
      "A value is trying to be set on a copy of a slice from a DataFrame.\n",
      "Try using .loc[row_indexer,col_indexer] = value instead\n",
      "\n",
      "See the caveats in the documentation: https://pandas.pydata.org/pandas-docs/stable/user_guide/indexing.html#returning-a-view-versus-a-copy\n",
      "  data[col] = pd.to_numeric(data[col], errors=\"ignore\")\n",
      "/Users/Kristen.Grabarz/Documents/Classes/Fall 2021/AC297r/smartnoise-sdk/synth/snsynth/mwem.py:530: VisibleDeprecationWarning: Creating an ndarray from ragged nested sequences (which is a list-or-tuple of lists-or-tuples-or ndarrays with different lengths or shapes) is deprecated. If you meant to do this, you must specify 'dtype=object' when creating the ndarray.\n",
      "  return np.array(s2)\n"
     ]
    },
    {
     "name": "stdout",
     "output_type": "stream",
     "text": [
      "Completed eps=3.0, rep=11.\n"
     ]
    },
    {
     "name": "stderr",
     "output_type": "stream",
     "text": [
      "/Users/Kristen.Grabarz/miniconda3/lib/python3.8/site-packages/diffprivlib/models/logistic_regression.py:221: PrivacyLeakWarning: Data norm has not been specified and will be calculated on the data provided.  This will result in additional privacy leakage. To ensure differential privacy and no additional privacy leakage, specify `data_norm` at initialisation.\n",
      "  warnings.warn(\"Data norm has not been specified and will be calculated on the data provided.  This will \"\n",
      "/Users/Kristen.Grabarz/miniconda3/lib/python3.8/site-packages/diffprivlib/models/logistic_regression.py:394: ConvergenceWarning: lbfgs failed to converge. Increase the number of iterations.\n",
      "  warnings.warn(\"lbfgs failed to converge. Increase the number of iterations.\", ConvergenceWarning)\n",
      "/Users/Kristen.Grabarz/Documents/Classes/Fall 2021/AC297r/smartnoise-sdk/synth/snsynth/mwem.py:116: SettingWithCopyWarning: \n",
      "A value is trying to be set on a copy of a slice from a DataFrame.\n",
      "Try using .loc[row_indexer,col_indexer] = value instead\n",
      "\n",
      "See the caveats in the documentation: https://pandas.pydata.org/pandas-docs/stable/user_guide/indexing.html#returning-a-view-versus-a-copy\n",
      "  data[col] = pd.to_numeric(data[col], errors=\"ignore\")\n",
      "/Users/Kristen.Grabarz/Documents/Classes/Fall 2021/AC297r/smartnoise-sdk/synth/snsynth/mwem.py:530: VisibleDeprecationWarning: Creating an ndarray from ragged nested sequences (which is a list-or-tuple of lists-or-tuples-or ndarrays with different lengths or shapes) is deprecated. If you meant to do this, you must specify 'dtype=object' when creating the ndarray.\n",
      "  return np.array(s2)\n"
     ]
    },
    {
     "name": "stdout",
     "output_type": "stream",
     "text": [
      "Completed eps=3.0, rep=12.\n"
     ]
    },
    {
     "name": "stderr",
     "output_type": "stream",
     "text": [
      "/Users/Kristen.Grabarz/miniconda3/lib/python3.8/site-packages/diffprivlib/models/logistic_regression.py:221: PrivacyLeakWarning: Data norm has not been specified and will be calculated on the data provided.  This will result in additional privacy leakage. To ensure differential privacy and no additional privacy leakage, specify `data_norm` at initialisation.\n",
      "  warnings.warn(\"Data norm has not been specified and will be calculated on the data provided.  This will \"\n",
      "/Users/Kristen.Grabarz/miniconda3/lib/python3.8/site-packages/diffprivlib/models/logistic_regression.py:394: ConvergenceWarning: lbfgs failed to converge. Increase the number of iterations.\n",
      "  warnings.warn(\"lbfgs failed to converge. Increase the number of iterations.\", ConvergenceWarning)\n",
      "/Users/Kristen.Grabarz/Documents/Classes/Fall 2021/AC297r/smartnoise-sdk/synth/snsynth/mwem.py:116: SettingWithCopyWarning: \n",
      "A value is trying to be set on a copy of a slice from a DataFrame.\n",
      "Try using .loc[row_indexer,col_indexer] = value instead\n",
      "\n",
      "See the caveats in the documentation: https://pandas.pydata.org/pandas-docs/stable/user_guide/indexing.html#returning-a-view-versus-a-copy\n",
      "  data[col] = pd.to_numeric(data[col], errors=\"ignore\")\n",
      "/Users/Kristen.Grabarz/Documents/Classes/Fall 2021/AC297r/smartnoise-sdk/synth/snsynth/mwem.py:530: VisibleDeprecationWarning: Creating an ndarray from ragged nested sequences (which is a list-or-tuple of lists-or-tuples-or ndarrays with different lengths or shapes) is deprecated. If you meant to do this, you must specify 'dtype=object' when creating the ndarray.\n",
      "  return np.array(s2)\n"
     ]
    },
    {
     "name": "stdout",
     "output_type": "stream",
     "text": [
      "Completed eps=3.0, rep=13.\n"
     ]
    },
    {
     "name": "stderr",
     "output_type": "stream",
     "text": [
      "/Users/Kristen.Grabarz/miniconda3/lib/python3.8/site-packages/diffprivlib/models/logistic_regression.py:221: PrivacyLeakWarning: Data norm has not been specified and will be calculated on the data provided.  This will result in additional privacy leakage. To ensure differential privacy and no additional privacy leakage, specify `data_norm` at initialisation.\n",
      "  warnings.warn(\"Data norm has not been specified and will be calculated on the data provided.  This will \"\n",
      "/Users/Kristen.Grabarz/miniconda3/lib/python3.8/site-packages/diffprivlib/models/logistic_regression.py:394: ConvergenceWarning: lbfgs failed to converge. Increase the number of iterations.\n",
      "  warnings.warn(\"lbfgs failed to converge. Increase the number of iterations.\", ConvergenceWarning)\n",
      "/Users/Kristen.Grabarz/Documents/Classes/Fall 2021/AC297r/smartnoise-sdk/synth/snsynth/mwem.py:116: SettingWithCopyWarning: \n",
      "A value is trying to be set on a copy of a slice from a DataFrame.\n",
      "Try using .loc[row_indexer,col_indexer] = value instead\n",
      "\n",
      "See the caveats in the documentation: https://pandas.pydata.org/pandas-docs/stable/user_guide/indexing.html#returning-a-view-versus-a-copy\n",
      "  data[col] = pd.to_numeric(data[col], errors=\"ignore\")\n",
      "/Users/Kristen.Grabarz/Documents/Classes/Fall 2021/AC297r/smartnoise-sdk/synth/snsynth/mwem.py:530: VisibleDeprecationWarning: Creating an ndarray from ragged nested sequences (which is a list-or-tuple of lists-or-tuples-or ndarrays with different lengths or shapes) is deprecated. If you meant to do this, you must specify 'dtype=object' when creating the ndarray.\n",
      "  return np.array(s2)\n"
     ]
    },
    {
     "name": "stdout",
     "output_type": "stream",
     "text": [
      "Completed eps=3.0, rep=14.\n"
     ]
    },
    {
     "name": "stderr",
     "output_type": "stream",
     "text": [
      "/Users/Kristen.Grabarz/miniconda3/lib/python3.8/site-packages/diffprivlib/models/logistic_regression.py:221: PrivacyLeakWarning: Data norm has not been specified and will be calculated on the data provided.  This will result in additional privacy leakage. To ensure differential privacy and no additional privacy leakage, specify `data_norm` at initialisation.\n",
      "  warnings.warn(\"Data norm has not been specified and will be calculated on the data provided.  This will \"\n",
      "/Users/Kristen.Grabarz/miniconda3/lib/python3.8/site-packages/diffprivlib/models/logistic_regression.py:394: ConvergenceWarning: lbfgs failed to converge. Increase the number of iterations.\n",
      "  warnings.warn(\"lbfgs failed to converge. Increase the number of iterations.\", ConvergenceWarning)\n",
      "/Users/Kristen.Grabarz/Documents/Classes/Fall 2021/AC297r/smartnoise-sdk/synth/snsynth/mwem.py:116: SettingWithCopyWarning: \n",
      "A value is trying to be set on a copy of a slice from a DataFrame.\n",
      "Try using .loc[row_indexer,col_indexer] = value instead\n",
      "\n",
      "See the caveats in the documentation: https://pandas.pydata.org/pandas-docs/stable/user_guide/indexing.html#returning-a-view-versus-a-copy\n",
      "  data[col] = pd.to_numeric(data[col], errors=\"ignore\")\n",
      "/Users/Kristen.Grabarz/Documents/Classes/Fall 2021/AC297r/smartnoise-sdk/synth/snsynth/mwem.py:530: VisibleDeprecationWarning: Creating an ndarray from ragged nested sequences (which is a list-or-tuple of lists-or-tuples-or ndarrays with different lengths or shapes) is deprecated. If you meant to do this, you must specify 'dtype=object' when creating the ndarray.\n",
      "  return np.array(s2)\n"
     ]
    },
    {
     "name": "stdout",
     "output_type": "stream",
     "text": [
      "Completed eps=3.0, rep=15.\n"
     ]
    },
    {
     "name": "stderr",
     "output_type": "stream",
     "text": [
      "/Users/Kristen.Grabarz/miniconda3/lib/python3.8/site-packages/diffprivlib/models/logistic_regression.py:221: PrivacyLeakWarning: Data norm has not been specified and will be calculated on the data provided.  This will result in additional privacy leakage. To ensure differential privacy and no additional privacy leakage, specify `data_norm` at initialisation.\n",
      "  warnings.warn(\"Data norm has not been specified and will be calculated on the data provided.  This will \"\n",
      "/Users/Kristen.Grabarz/Documents/Classes/Fall 2021/AC297r/smartnoise-sdk/synth/snsynth/mwem.py:116: SettingWithCopyWarning: \n",
      "A value is trying to be set on a copy of a slice from a DataFrame.\n",
      "Try using .loc[row_indexer,col_indexer] = value instead\n",
      "\n",
      "See the caveats in the documentation: https://pandas.pydata.org/pandas-docs/stable/user_guide/indexing.html#returning-a-view-versus-a-copy\n",
      "  data[col] = pd.to_numeric(data[col], errors=\"ignore\")\n",
      "/Users/Kristen.Grabarz/Documents/Classes/Fall 2021/AC297r/smartnoise-sdk/synth/snsynth/mwem.py:530: VisibleDeprecationWarning: Creating an ndarray from ragged nested sequences (which is a list-or-tuple of lists-or-tuples-or ndarrays with different lengths or shapes) is deprecated. If you meant to do this, you must specify 'dtype=object' when creating the ndarray.\n",
      "  return np.array(s2)\n"
     ]
    },
    {
     "name": "stdout",
     "output_type": "stream",
     "text": [
      "Completed eps=4.0, rep=1.\n"
     ]
    },
    {
     "name": "stderr",
     "output_type": "stream",
     "text": [
      "/Users/Kristen.Grabarz/miniconda3/lib/python3.8/site-packages/diffprivlib/models/logistic_regression.py:221: PrivacyLeakWarning: Data norm has not been specified and will be calculated on the data provided.  This will result in additional privacy leakage. To ensure differential privacy and no additional privacy leakage, specify `data_norm` at initialisation.\n",
      "  warnings.warn(\"Data norm has not been specified and will be calculated on the data provided.  This will \"\n",
      "/Users/Kristen.Grabarz/miniconda3/lib/python3.8/site-packages/diffprivlib/models/logistic_regression.py:394: ConvergenceWarning: lbfgs failed to converge. Increase the number of iterations.\n",
      "  warnings.warn(\"lbfgs failed to converge. Increase the number of iterations.\", ConvergenceWarning)\n",
      "/Users/Kristen.Grabarz/Documents/Classes/Fall 2021/AC297r/smartnoise-sdk/synth/snsynth/mwem.py:116: SettingWithCopyWarning: \n",
      "A value is trying to be set on a copy of a slice from a DataFrame.\n",
      "Try using .loc[row_indexer,col_indexer] = value instead\n",
      "\n",
      "See the caveats in the documentation: https://pandas.pydata.org/pandas-docs/stable/user_guide/indexing.html#returning-a-view-versus-a-copy\n",
      "  data[col] = pd.to_numeric(data[col], errors=\"ignore\")\n",
      "/Users/Kristen.Grabarz/Documents/Classes/Fall 2021/AC297r/smartnoise-sdk/synth/snsynth/mwem.py:530: VisibleDeprecationWarning: Creating an ndarray from ragged nested sequences (which is a list-or-tuple of lists-or-tuples-or ndarrays with different lengths or shapes) is deprecated. If you meant to do this, you must specify 'dtype=object' when creating the ndarray.\n",
      "  return np.array(s2)\n"
     ]
    },
    {
     "name": "stdout",
     "output_type": "stream",
     "text": [
      "Completed eps=4.0, rep=2.\n"
     ]
    },
    {
     "name": "stderr",
     "output_type": "stream",
     "text": [
      "/Users/Kristen.Grabarz/miniconda3/lib/python3.8/site-packages/diffprivlib/models/logistic_regression.py:221: PrivacyLeakWarning: Data norm has not been specified and will be calculated on the data provided.  This will result in additional privacy leakage. To ensure differential privacy and no additional privacy leakage, specify `data_norm` at initialisation.\n",
      "  warnings.warn(\"Data norm has not been specified and will be calculated on the data provided.  This will \"\n",
      "/Users/Kristen.Grabarz/miniconda3/lib/python3.8/site-packages/diffprivlib/models/logistic_regression.py:394: ConvergenceWarning: lbfgs failed to converge. Increase the number of iterations.\n",
      "  warnings.warn(\"lbfgs failed to converge. Increase the number of iterations.\", ConvergenceWarning)\n",
      "/Users/Kristen.Grabarz/Documents/Classes/Fall 2021/AC297r/smartnoise-sdk/synth/snsynth/mwem.py:116: SettingWithCopyWarning: \n",
      "A value is trying to be set on a copy of a slice from a DataFrame.\n",
      "Try using .loc[row_indexer,col_indexer] = value instead\n",
      "\n",
      "See the caveats in the documentation: https://pandas.pydata.org/pandas-docs/stable/user_guide/indexing.html#returning-a-view-versus-a-copy\n",
      "  data[col] = pd.to_numeric(data[col], errors=\"ignore\")\n",
      "/Users/Kristen.Grabarz/Documents/Classes/Fall 2021/AC297r/smartnoise-sdk/synth/snsynth/mwem.py:530: VisibleDeprecationWarning: Creating an ndarray from ragged nested sequences (which is a list-or-tuple of lists-or-tuples-or ndarrays with different lengths or shapes) is deprecated. If you meant to do this, you must specify 'dtype=object' when creating the ndarray.\n",
      "  return np.array(s2)\n"
     ]
    },
    {
     "name": "stdout",
     "output_type": "stream",
     "text": [
      "Completed eps=4.0, rep=3.\n"
     ]
    },
    {
     "name": "stderr",
     "output_type": "stream",
     "text": [
      "/Users/Kristen.Grabarz/miniconda3/lib/python3.8/site-packages/diffprivlib/models/logistic_regression.py:221: PrivacyLeakWarning: Data norm has not been specified and will be calculated on the data provided.  This will result in additional privacy leakage. To ensure differential privacy and no additional privacy leakage, specify `data_norm` at initialisation.\n",
      "  warnings.warn(\"Data norm has not been specified and will be calculated on the data provided.  This will \"\n",
      "/Users/Kristen.Grabarz/miniconda3/lib/python3.8/site-packages/diffprivlib/models/logistic_regression.py:394: ConvergenceWarning: lbfgs failed to converge. Increase the number of iterations.\n",
      "  warnings.warn(\"lbfgs failed to converge. Increase the number of iterations.\", ConvergenceWarning)\n",
      "/Users/Kristen.Grabarz/Documents/Classes/Fall 2021/AC297r/smartnoise-sdk/synth/snsynth/mwem.py:116: SettingWithCopyWarning: \n",
      "A value is trying to be set on a copy of a slice from a DataFrame.\n",
      "Try using .loc[row_indexer,col_indexer] = value instead\n",
      "\n",
      "See the caveats in the documentation: https://pandas.pydata.org/pandas-docs/stable/user_guide/indexing.html#returning-a-view-versus-a-copy\n",
      "  data[col] = pd.to_numeric(data[col], errors=\"ignore\")\n",
      "/Users/Kristen.Grabarz/Documents/Classes/Fall 2021/AC297r/smartnoise-sdk/synth/snsynth/mwem.py:530: VisibleDeprecationWarning: Creating an ndarray from ragged nested sequences (which is a list-or-tuple of lists-or-tuples-or ndarrays with different lengths or shapes) is deprecated. If you meant to do this, you must specify 'dtype=object' when creating the ndarray.\n",
      "  return np.array(s2)\n"
     ]
    },
    {
     "name": "stdout",
     "output_type": "stream",
     "text": [
      "Completed eps=4.0, rep=4.\n"
     ]
    },
    {
     "name": "stderr",
     "output_type": "stream",
     "text": [
      "/Users/Kristen.Grabarz/miniconda3/lib/python3.8/site-packages/diffprivlib/models/logistic_regression.py:221: PrivacyLeakWarning: Data norm has not been specified and will be calculated on the data provided.  This will result in additional privacy leakage. To ensure differential privacy and no additional privacy leakage, specify `data_norm` at initialisation.\n",
      "  warnings.warn(\"Data norm has not been specified and will be calculated on the data provided.  This will \"\n",
      "/Users/Kristen.Grabarz/miniconda3/lib/python3.8/site-packages/diffprivlib/models/logistic_regression.py:394: ConvergenceWarning: lbfgs failed to converge. Increase the number of iterations.\n",
      "  warnings.warn(\"lbfgs failed to converge. Increase the number of iterations.\", ConvergenceWarning)\n",
      "/Users/Kristen.Grabarz/Documents/Classes/Fall 2021/AC297r/smartnoise-sdk/synth/snsynth/mwem.py:116: SettingWithCopyWarning: \n",
      "A value is trying to be set on a copy of a slice from a DataFrame.\n",
      "Try using .loc[row_indexer,col_indexer] = value instead\n",
      "\n",
      "See the caveats in the documentation: https://pandas.pydata.org/pandas-docs/stable/user_guide/indexing.html#returning-a-view-versus-a-copy\n",
      "  data[col] = pd.to_numeric(data[col], errors=\"ignore\")\n",
      "/Users/Kristen.Grabarz/Documents/Classes/Fall 2021/AC297r/smartnoise-sdk/synth/snsynth/mwem.py:530: VisibleDeprecationWarning: Creating an ndarray from ragged nested sequences (which is a list-or-tuple of lists-or-tuples-or ndarrays with different lengths or shapes) is deprecated. If you meant to do this, you must specify 'dtype=object' when creating the ndarray.\n",
      "  return np.array(s2)\n"
     ]
    },
    {
     "name": "stdout",
     "output_type": "stream",
     "text": [
      "Completed eps=4.0, rep=5.\n"
     ]
    },
    {
     "name": "stderr",
     "output_type": "stream",
     "text": [
      "/Users/Kristen.Grabarz/miniconda3/lib/python3.8/site-packages/diffprivlib/models/logistic_regression.py:221: PrivacyLeakWarning: Data norm has not been specified and will be calculated on the data provided.  This will result in additional privacy leakage. To ensure differential privacy and no additional privacy leakage, specify `data_norm` at initialisation.\n",
      "  warnings.warn(\"Data norm has not been specified and will be calculated on the data provided.  This will \"\n",
      "/Users/Kristen.Grabarz/miniconda3/lib/python3.8/site-packages/diffprivlib/models/logistic_regression.py:394: ConvergenceWarning: lbfgs failed to converge. Increase the number of iterations.\n",
      "  warnings.warn(\"lbfgs failed to converge. Increase the number of iterations.\", ConvergenceWarning)\n",
      "/Users/Kristen.Grabarz/Documents/Classes/Fall 2021/AC297r/smartnoise-sdk/synth/snsynth/mwem.py:116: SettingWithCopyWarning: \n",
      "A value is trying to be set on a copy of a slice from a DataFrame.\n",
      "Try using .loc[row_indexer,col_indexer] = value instead\n",
      "\n",
      "See the caveats in the documentation: https://pandas.pydata.org/pandas-docs/stable/user_guide/indexing.html#returning-a-view-versus-a-copy\n",
      "  data[col] = pd.to_numeric(data[col], errors=\"ignore\")\n",
      "/Users/Kristen.Grabarz/Documents/Classes/Fall 2021/AC297r/smartnoise-sdk/synth/snsynth/mwem.py:530: VisibleDeprecationWarning: Creating an ndarray from ragged nested sequences (which is a list-or-tuple of lists-or-tuples-or ndarrays with different lengths or shapes) is deprecated. If you meant to do this, you must specify 'dtype=object' when creating the ndarray.\n",
      "  return np.array(s2)\n"
     ]
    },
    {
     "name": "stdout",
     "output_type": "stream",
     "text": [
      "Completed eps=4.0, rep=6.\n"
     ]
    },
    {
     "name": "stderr",
     "output_type": "stream",
     "text": [
      "/Users/Kristen.Grabarz/miniconda3/lib/python3.8/site-packages/diffprivlib/models/logistic_regression.py:221: PrivacyLeakWarning: Data norm has not been specified and will be calculated on the data provided.  This will result in additional privacy leakage. To ensure differential privacy and no additional privacy leakage, specify `data_norm` at initialisation.\n",
      "  warnings.warn(\"Data norm has not been specified and will be calculated on the data provided.  This will \"\n",
      "/Users/Kristen.Grabarz/miniconda3/lib/python3.8/site-packages/diffprivlib/models/logistic_regression.py:394: ConvergenceWarning: lbfgs failed to converge. Increase the number of iterations.\n",
      "  warnings.warn(\"lbfgs failed to converge. Increase the number of iterations.\", ConvergenceWarning)\n",
      "/Users/Kristen.Grabarz/Documents/Classes/Fall 2021/AC297r/smartnoise-sdk/synth/snsynth/mwem.py:116: SettingWithCopyWarning: \n",
      "A value is trying to be set on a copy of a slice from a DataFrame.\n",
      "Try using .loc[row_indexer,col_indexer] = value instead\n",
      "\n",
      "See the caveats in the documentation: https://pandas.pydata.org/pandas-docs/stable/user_guide/indexing.html#returning-a-view-versus-a-copy\n",
      "  data[col] = pd.to_numeric(data[col], errors=\"ignore\")\n",
      "/Users/Kristen.Grabarz/Documents/Classes/Fall 2021/AC297r/smartnoise-sdk/synth/snsynth/mwem.py:530: VisibleDeprecationWarning: Creating an ndarray from ragged nested sequences (which is a list-or-tuple of lists-or-tuples-or ndarrays with different lengths or shapes) is deprecated. If you meant to do this, you must specify 'dtype=object' when creating the ndarray.\n",
      "  return np.array(s2)\n"
     ]
    },
    {
     "name": "stdout",
     "output_type": "stream",
     "text": [
      "Completed eps=4.0, rep=7.\n"
     ]
    },
    {
     "name": "stderr",
     "output_type": "stream",
     "text": [
      "/Users/Kristen.Grabarz/miniconda3/lib/python3.8/site-packages/diffprivlib/models/logistic_regression.py:221: PrivacyLeakWarning: Data norm has not been specified and will be calculated on the data provided.  This will result in additional privacy leakage. To ensure differential privacy and no additional privacy leakage, specify `data_norm` at initialisation.\n",
      "  warnings.warn(\"Data norm has not been specified and will be calculated on the data provided.  This will \"\n",
      "/Users/Kristen.Grabarz/miniconda3/lib/python3.8/site-packages/diffprivlib/models/logistic_regression.py:394: ConvergenceWarning: lbfgs failed to converge. Increase the number of iterations.\n",
      "  warnings.warn(\"lbfgs failed to converge. Increase the number of iterations.\", ConvergenceWarning)\n",
      "/Users/Kristen.Grabarz/Documents/Classes/Fall 2021/AC297r/smartnoise-sdk/synth/snsynth/mwem.py:116: SettingWithCopyWarning: \n",
      "A value is trying to be set on a copy of a slice from a DataFrame.\n",
      "Try using .loc[row_indexer,col_indexer] = value instead\n",
      "\n",
      "See the caveats in the documentation: https://pandas.pydata.org/pandas-docs/stable/user_guide/indexing.html#returning-a-view-versus-a-copy\n",
      "  data[col] = pd.to_numeric(data[col], errors=\"ignore\")\n",
      "/Users/Kristen.Grabarz/Documents/Classes/Fall 2021/AC297r/smartnoise-sdk/synth/snsynth/mwem.py:530: VisibleDeprecationWarning: Creating an ndarray from ragged nested sequences (which is a list-or-tuple of lists-or-tuples-or ndarrays with different lengths or shapes) is deprecated. If you meant to do this, you must specify 'dtype=object' when creating the ndarray.\n",
      "  return np.array(s2)\n"
     ]
    },
    {
     "name": "stdout",
     "output_type": "stream",
     "text": [
      "Completed eps=4.0, rep=8.\n"
     ]
    },
    {
     "name": "stderr",
     "output_type": "stream",
     "text": [
      "/Users/Kristen.Grabarz/miniconda3/lib/python3.8/site-packages/diffprivlib/models/logistic_regression.py:221: PrivacyLeakWarning: Data norm has not been specified and will be calculated on the data provided.  This will result in additional privacy leakage. To ensure differential privacy and no additional privacy leakage, specify `data_norm` at initialisation.\n",
      "  warnings.warn(\"Data norm has not been specified and will be calculated on the data provided.  This will \"\n",
      "/Users/Kristen.Grabarz/miniconda3/lib/python3.8/site-packages/diffprivlib/models/logistic_regression.py:394: ConvergenceWarning: lbfgs failed to converge. Increase the number of iterations.\n",
      "  warnings.warn(\"lbfgs failed to converge. Increase the number of iterations.\", ConvergenceWarning)\n",
      "/Users/Kristen.Grabarz/Documents/Classes/Fall 2021/AC297r/smartnoise-sdk/synth/snsynth/mwem.py:116: SettingWithCopyWarning: \n",
      "A value is trying to be set on a copy of a slice from a DataFrame.\n",
      "Try using .loc[row_indexer,col_indexer] = value instead\n",
      "\n",
      "See the caveats in the documentation: https://pandas.pydata.org/pandas-docs/stable/user_guide/indexing.html#returning-a-view-versus-a-copy\n",
      "  data[col] = pd.to_numeric(data[col], errors=\"ignore\")\n",
      "/Users/Kristen.Grabarz/Documents/Classes/Fall 2021/AC297r/smartnoise-sdk/synth/snsynth/mwem.py:530: VisibleDeprecationWarning: Creating an ndarray from ragged nested sequences (which is a list-or-tuple of lists-or-tuples-or ndarrays with different lengths or shapes) is deprecated. If you meant to do this, you must specify 'dtype=object' when creating the ndarray.\n",
      "  return np.array(s2)\n"
     ]
    },
    {
     "name": "stdout",
     "output_type": "stream",
     "text": [
      "Completed eps=4.0, rep=9.\n"
     ]
    },
    {
     "name": "stderr",
     "output_type": "stream",
     "text": [
      "/Users/Kristen.Grabarz/miniconda3/lib/python3.8/site-packages/diffprivlib/models/logistic_regression.py:221: PrivacyLeakWarning: Data norm has not been specified and will be calculated on the data provided.  This will result in additional privacy leakage. To ensure differential privacy and no additional privacy leakage, specify `data_norm` at initialisation.\n",
      "  warnings.warn(\"Data norm has not been specified and will be calculated on the data provided.  This will \"\n",
      "/Users/Kristen.Grabarz/miniconda3/lib/python3.8/site-packages/diffprivlib/models/logistic_regression.py:394: ConvergenceWarning: lbfgs failed to converge. Increase the number of iterations.\n",
      "  warnings.warn(\"lbfgs failed to converge. Increase the number of iterations.\", ConvergenceWarning)\n",
      "/Users/Kristen.Grabarz/Documents/Classes/Fall 2021/AC297r/smartnoise-sdk/synth/snsynth/mwem.py:116: SettingWithCopyWarning: \n",
      "A value is trying to be set on a copy of a slice from a DataFrame.\n",
      "Try using .loc[row_indexer,col_indexer] = value instead\n",
      "\n",
      "See the caveats in the documentation: https://pandas.pydata.org/pandas-docs/stable/user_guide/indexing.html#returning-a-view-versus-a-copy\n",
      "  data[col] = pd.to_numeric(data[col], errors=\"ignore\")\n",
      "/Users/Kristen.Grabarz/Documents/Classes/Fall 2021/AC297r/smartnoise-sdk/synth/snsynth/mwem.py:530: VisibleDeprecationWarning: Creating an ndarray from ragged nested sequences (which is a list-or-tuple of lists-or-tuples-or ndarrays with different lengths or shapes) is deprecated. If you meant to do this, you must specify 'dtype=object' when creating the ndarray.\n",
      "  return np.array(s2)\n"
     ]
    },
    {
     "name": "stdout",
     "output_type": "stream",
     "text": [
      "Completed eps=4.0, rep=10.\n"
     ]
    },
    {
     "name": "stderr",
     "output_type": "stream",
     "text": [
      "/Users/Kristen.Grabarz/miniconda3/lib/python3.8/site-packages/diffprivlib/models/logistic_regression.py:221: PrivacyLeakWarning: Data norm has not been specified and will be calculated on the data provided.  This will result in additional privacy leakage. To ensure differential privacy and no additional privacy leakage, specify `data_norm` at initialisation.\n",
      "  warnings.warn(\"Data norm has not been specified and will be calculated on the data provided.  This will \"\n",
      "/Users/Kristen.Grabarz/miniconda3/lib/python3.8/site-packages/diffprivlib/models/logistic_regression.py:394: ConvergenceWarning: lbfgs failed to converge. Increase the number of iterations.\n",
      "  warnings.warn(\"lbfgs failed to converge. Increase the number of iterations.\", ConvergenceWarning)\n",
      "/Users/Kristen.Grabarz/Documents/Classes/Fall 2021/AC297r/smartnoise-sdk/synth/snsynth/mwem.py:116: SettingWithCopyWarning: \n",
      "A value is trying to be set on a copy of a slice from a DataFrame.\n",
      "Try using .loc[row_indexer,col_indexer] = value instead\n",
      "\n",
      "See the caveats in the documentation: https://pandas.pydata.org/pandas-docs/stable/user_guide/indexing.html#returning-a-view-versus-a-copy\n",
      "  data[col] = pd.to_numeric(data[col], errors=\"ignore\")\n",
      "/Users/Kristen.Grabarz/Documents/Classes/Fall 2021/AC297r/smartnoise-sdk/synth/snsynth/mwem.py:530: VisibleDeprecationWarning: Creating an ndarray from ragged nested sequences (which is a list-or-tuple of lists-or-tuples-or ndarrays with different lengths or shapes) is deprecated. If you meant to do this, you must specify 'dtype=object' when creating the ndarray.\n",
      "  return np.array(s2)\n"
     ]
    },
    {
     "name": "stdout",
     "output_type": "stream",
     "text": [
      "Completed eps=4.0, rep=11.\n"
     ]
    },
    {
     "name": "stderr",
     "output_type": "stream",
     "text": [
      "/Users/Kristen.Grabarz/miniconda3/lib/python3.8/site-packages/diffprivlib/models/logistic_regression.py:221: PrivacyLeakWarning: Data norm has not been specified and will be calculated on the data provided.  This will result in additional privacy leakage. To ensure differential privacy and no additional privacy leakage, specify `data_norm` at initialisation.\n",
      "  warnings.warn(\"Data norm has not been specified and will be calculated on the data provided.  This will \"\n",
      "/Users/Kristen.Grabarz/miniconda3/lib/python3.8/site-packages/diffprivlib/models/logistic_regression.py:394: ConvergenceWarning: lbfgs failed to converge. Increase the number of iterations.\n",
      "  warnings.warn(\"lbfgs failed to converge. Increase the number of iterations.\", ConvergenceWarning)\n",
      "/Users/Kristen.Grabarz/Documents/Classes/Fall 2021/AC297r/smartnoise-sdk/synth/snsynth/mwem.py:116: SettingWithCopyWarning: \n",
      "A value is trying to be set on a copy of a slice from a DataFrame.\n",
      "Try using .loc[row_indexer,col_indexer] = value instead\n",
      "\n",
      "See the caveats in the documentation: https://pandas.pydata.org/pandas-docs/stable/user_guide/indexing.html#returning-a-view-versus-a-copy\n",
      "  data[col] = pd.to_numeric(data[col], errors=\"ignore\")\n",
      "/Users/Kristen.Grabarz/Documents/Classes/Fall 2021/AC297r/smartnoise-sdk/synth/snsynth/mwem.py:530: VisibleDeprecationWarning: Creating an ndarray from ragged nested sequences (which is a list-or-tuple of lists-or-tuples-or ndarrays with different lengths or shapes) is deprecated. If you meant to do this, you must specify 'dtype=object' when creating the ndarray.\n",
      "  return np.array(s2)\n"
     ]
    },
    {
     "name": "stdout",
     "output_type": "stream",
     "text": [
      "Completed eps=4.0, rep=12.\n"
     ]
    },
    {
     "name": "stderr",
     "output_type": "stream",
     "text": [
      "/Users/Kristen.Grabarz/miniconda3/lib/python3.8/site-packages/diffprivlib/models/logistic_regression.py:221: PrivacyLeakWarning: Data norm has not been specified and will be calculated on the data provided.  This will result in additional privacy leakage. To ensure differential privacy and no additional privacy leakage, specify `data_norm` at initialisation.\n",
      "  warnings.warn(\"Data norm has not been specified and will be calculated on the data provided.  This will \"\n",
      "/Users/Kristen.Grabarz/miniconda3/lib/python3.8/site-packages/diffprivlib/models/logistic_regression.py:394: ConvergenceWarning: lbfgs failed to converge. Increase the number of iterations.\n",
      "  warnings.warn(\"lbfgs failed to converge. Increase the number of iterations.\", ConvergenceWarning)\n",
      "/Users/Kristen.Grabarz/Documents/Classes/Fall 2021/AC297r/smartnoise-sdk/synth/snsynth/mwem.py:116: SettingWithCopyWarning: \n",
      "A value is trying to be set on a copy of a slice from a DataFrame.\n",
      "Try using .loc[row_indexer,col_indexer] = value instead\n",
      "\n",
      "See the caveats in the documentation: https://pandas.pydata.org/pandas-docs/stable/user_guide/indexing.html#returning-a-view-versus-a-copy\n",
      "  data[col] = pd.to_numeric(data[col], errors=\"ignore\")\n",
      "/Users/Kristen.Grabarz/Documents/Classes/Fall 2021/AC297r/smartnoise-sdk/synth/snsynth/mwem.py:530: VisibleDeprecationWarning: Creating an ndarray from ragged nested sequences (which is a list-or-tuple of lists-or-tuples-or ndarrays with different lengths or shapes) is deprecated. If you meant to do this, you must specify 'dtype=object' when creating the ndarray.\n",
      "  return np.array(s2)\n"
     ]
    },
    {
     "name": "stdout",
     "output_type": "stream",
     "text": [
      "Completed eps=4.0, rep=13.\n"
     ]
    },
    {
     "name": "stderr",
     "output_type": "stream",
     "text": [
      "/Users/Kristen.Grabarz/miniconda3/lib/python3.8/site-packages/diffprivlib/models/logistic_regression.py:221: PrivacyLeakWarning: Data norm has not been specified and will be calculated on the data provided.  This will result in additional privacy leakage. To ensure differential privacy and no additional privacy leakage, specify `data_norm` at initialisation.\n",
      "  warnings.warn(\"Data norm has not been specified and will be calculated on the data provided.  This will \"\n",
      "/Users/Kristen.Grabarz/miniconda3/lib/python3.8/site-packages/diffprivlib/models/logistic_regression.py:394: ConvergenceWarning: lbfgs failed to converge. Increase the number of iterations.\n",
      "  warnings.warn(\"lbfgs failed to converge. Increase the number of iterations.\", ConvergenceWarning)\n",
      "/Users/Kristen.Grabarz/Documents/Classes/Fall 2021/AC297r/smartnoise-sdk/synth/snsynth/mwem.py:116: SettingWithCopyWarning: \n",
      "A value is trying to be set on a copy of a slice from a DataFrame.\n",
      "Try using .loc[row_indexer,col_indexer] = value instead\n",
      "\n",
      "See the caveats in the documentation: https://pandas.pydata.org/pandas-docs/stable/user_guide/indexing.html#returning-a-view-versus-a-copy\n",
      "  data[col] = pd.to_numeric(data[col], errors=\"ignore\")\n",
      "/Users/Kristen.Grabarz/Documents/Classes/Fall 2021/AC297r/smartnoise-sdk/synth/snsynth/mwem.py:530: VisibleDeprecationWarning: Creating an ndarray from ragged nested sequences (which is a list-or-tuple of lists-or-tuples-or ndarrays with different lengths or shapes) is deprecated. If you meant to do this, you must specify 'dtype=object' when creating the ndarray.\n",
      "  return np.array(s2)\n"
     ]
    },
    {
     "name": "stdout",
     "output_type": "stream",
     "text": [
      "Completed eps=4.0, rep=14.\n"
     ]
    },
    {
     "name": "stderr",
     "output_type": "stream",
     "text": [
      "/Users/Kristen.Grabarz/miniconda3/lib/python3.8/site-packages/diffprivlib/models/logistic_regression.py:221: PrivacyLeakWarning: Data norm has not been specified and will be calculated on the data provided.  This will result in additional privacy leakage. To ensure differential privacy and no additional privacy leakage, specify `data_norm` at initialisation.\n",
      "  warnings.warn(\"Data norm has not been specified and will be calculated on the data provided.  This will \"\n",
      "/Users/Kristen.Grabarz/miniconda3/lib/python3.8/site-packages/diffprivlib/models/logistic_regression.py:394: ConvergenceWarning: lbfgs failed to converge. Increase the number of iterations.\n",
      "  warnings.warn(\"lbfgs failed to converge. Increase the number of iterations.\", ConvergenceWarning)\n",
      "/Users/Kristen.Grabarz/Documents/Classes/Fall 2021/AC297r/smartnoise-sdk/synth/snsynth/mwem.py:116: SettingWithCopyWarning: \n",
      "A value is trying to be set on a copy of a slice from a DataFrame.\n",
      "Try using .loc[row_indexer,col_indexer] = value instead\n",
      "\n",
      "See the caveats in the documentation: https://pandas.pydata.org/pandas-docs/stable/user_guide/indexing.html#returning-a-view-versus-a-copy\n",
      "  data[col] = pd.to_numeric(data[col], errors=\"ignore\")\n",
      "/Users/Kristen.Grabarz/Documents/Classes/Fall 2021/AC297r/smartnoise-sdk/synth/snsynth/mwem.py:530: VisibleDeprecationWarning: Creating an ndarray from ragged nested sequences (which is a list-or-tuple of lists-or-tuples-or ndarrays with different lengths or shapes) is deprecated. If you meant to do this, you must specify 'dtype=object' when creating the ndarray.\n",
      "  return np.array(s2)\n"
     ]
    },
    {
     "name": "stdout",
     "output_type": "stream",
     "text": [
      "Completed eps=4.0, rep=15.\n"
     ]
    },
    {
     "name": "stderr",
     "output_type": "stream",
     "text": [
      "/Users/Kristen.Grabarz/miniconda3/lib/python3.8/site-packages/diffprivlib/models/logistic_regression.py:221: PrivacyLeakWarning: Data norm has not been specified and will be calculated on the data provided.  This will result in additional privacy leakage. To ensure differential privacy and no additional privacy leakage, specify `data_norm` at initialisation.\n",
      "  warnings.warn(\"Data norm has not been specified and will be calculated on the data provided.  This will \"\n",
      "/Users/Kristen.Grabarz/miniconda3/lib/python3.8/site-packages/diffprivlib/models/logistic_regression.py:394: ConvergenceWarning: lbfgs failed to converge. Increase the number of iterations.\n",
      "  warnings.warn(\"lbfgs failed to converge. Increase the number of iterations.\", ConvergenceWarning)\n",
      "/Users/Kristen.Grabarz/Documents/Classes/Fall 2021/AC297r/smartnoise-sdk/synth/snsynth/mwem.py:116: SettingWithCopyWarning: \n",
      "A value is trying to be set on a copy of a slice from a DataFrame.\n",
      "Try using .loc[row_indexer,col_indexer] = value instead\n",
      "\n",
      "See the caveats in the documentation: https://pandas.pydata.org/pandas-docs/stable/user_guide/indexing.html#returning-a-view-versus-a-copy\n",
      "  data[col] = pd.to_numeric(data[col], errors=\"ignore\")\n",
      "/Users/Kristen.Grabarz/Documents/Classes/Fall 2021/AC297r/smartnoise-sdk/synth/snsynth/mwem.py:530: VisibleDeprecationWarning: Creating an ndarray from ragged nested sequences (which is a list-or-tuple of lists-or-tuples-or ndarrays with different lengths or shapes) is deprecated. If you meant to do this, you must specify 'dtype=object' when creating the ndarray.\n",
      "  return np.array(s2)\n"
     ]
    },
    {
     "name": "stdout",
     "output_type": "stream",
     "text": [
      "Completed eps=5.0, rep=1.\n"
     ]
    },
    {
     "name": "stderr",
     "output_type": "stream",
     "text": [
      "/Users/Kristen.Grabarz/miniconda3/lib/python3.8/site-packages/diffprivlib/models/logistic_regression.py:221: PrivacyLeakWarning: Data norm has not been specified and will be calculated on the data provided.  This will result in additional privacy leakage. To ensure differential privacy and no additional privacy leakage, specify `data_norm` at initialisation.\n",
      "  warnings.warn(\"Data norm has not been specified and will be calculated on the data provided.  This will \"\n",
      "/Users/Kristen.Grabarz/miniconda3/lib/python3.8/site-packages/diffprivlib/models/logistic_regression.py:394: ConvergenceWarning: lbfgs failed to converge. Increase the number of iterations.\n",
      "  warnings.warn(\"lbfgs failed to converge. Increase the number of iterations.\", ConvergenceWarning)\n",
      "/Users/Kristen.Grabarz/Documents/Classes/Fall 2021/AC297r/smartnoise-sdk/synth/snsynth/mwem.py:116: SettingWithCopyWarning: \n",
      "A value is trying to be set on a copy of a slice from a DataFrame.\n",
      "Try using .loc[row_indexer,col_indexer] = value instead\n",
      "\n",
      "See the caveats in the documentation: https://pandas.pydata.org/pandas-docs/stable/user_guide/indexing.html#returning-a-view-versus-a-copy\n",
      "  data[col] = pd.to_numeric(data[col], errors=\"ignore\")\n",
      "/Users/Kristen.Grabarz/Documents/Classes/Fall 2021/AC297r/smartnoise-sdk/synth/snsynth/mwem.py:530: VisibleDeprecationWarning: Creating an ndarray from ragged nested sequences (which is a list-or-tuple of lists-or-tuples-or ndarrays with different lengths or shapes) is deprecated. If you meant to do this, you must specify 'dtype=object' when creating the ndarray.\n",
      "  return np.array(s2)\n"
     ]
    },
    {
     "name": "stdout",
     "output_type": "stream",
     "text": [
      "Completed eps=5.0, rep=2.\n"
     ]
    },
    {
     "name": "stderr",
     "output_type": "stream",
     "text": [
      "/Users/Kristen.Grabarz/miniconda3/lib/python3.8/site-packages/diffprivlib/models/logistic_regression.py:221: PrivacyLeakWarning: Data norm has not been specified and will be calculated on the data provided.  This will result in additional privacy leakage. To ensure differential privacy and no additional privacy leakage, specify `data_norm` at initialisation.\n",
      "  warnings.warn(\"Data norm has not been specified and will be calculated on the data provided.  This will \"\n",
      "/Users/Kristen.Grabarz/miniconda3/lib/python3.8/site-packages/diffprivlib/models/logistic_regression.py:394: ConvergenceWarning: lbfgs failed to converge. Increase the number of iterations.\n",
      "  warnings.warn(\"lbfgs failed to converge. Increase the number of iterations.\", ConvergenceWarning)\n",
      "/Users/Kristen.Grabarz/Documents/Classes/Fall 2021/AC297r/smartnoise-sdk/synth/snsynth/mwem.py:116: SettingWithCopyWarning: \n",
      "A value is trying to be set on a copy of a slice from a DataFrame.\n",
      "Try using .loc[row_indexer,col_indexer] = value instead\n",
      "\n",
      "See the caveats in the documentation: https://pandas.pydata.org/pandas-docs/stable/user_guide/indexing.html#returning-a-view-versus-a-copy\n",
      "  data[col] = pd.to_numeric(data[col], errors=\"ignore\")\n",
      "/Users/Kristen.Grabarz/Documents/Classes/Fall 2021/AC297r/smartnoise-sdk/synth/snsynth/mwem.py:530: VisibleDeprecationWarning: Creating an ndarray from ragged nested sequences (which is a list-or-tuple of lists-or-tuples-or ndarrays with different lengths or shapes) is deprecated. If you meant to do this, you must specify 'dtype=object' when creating the ndarray.\n",
      "  return np.array(s2)\n"
     ]
    },
    {
     "name": "stdout",
     "output_type": "stream",
     "text": [
      "Completed eps=5.0, rep=3.\n"
     ]
    },
    {
     "name": "stderr",
     "output_type": "stream",
     "text": [
      "/Users/Kristen.Grabarz/miniconda3/lib/python3.8/site-packages/diffprivlib/models/logistic_regression.py:221: PrivacyLeakWarning: Data norm has not been specified and will be calculated on the data provided.  This will result in additional privacy leakage. To ensure differential privacy and no additional privacy leakage, specify `data_norm` at initialisation.\n",
      "  warnings.warn(\"Data norm has not been specified and will be calculated on the data provided.  This will \"\n",
      "/Users/Kristen.Grabarz/miniconda3/lib/python3.8/site-packages/diffprivlib/models/logistic_regression.py:394: ConvergenceWarning: lbfgs failed to converge. Increase the number of iterations.\n",
      "  warnings.warn(\"lbfgs failed to converge. Increase the number of iterations.\", ConvergenceWarning)\n",
      "/Users/Kristen.Grabarz/Documents/Classes/Fall 2021/AC297r/smartnoise-sdk/synth/snsynth/mwem.py:116: SettingWithCopyWarning: \n",
      "A value is trying to be set on a copy of a slice from a DataFrame.\n",
      "Try using .loc[row_indexer,col_indexer] = value instead\n",
      "\n",
      "See the caveats in the documentation: https://pandas.pydata.org/pandas-docs/stable/user_guide/indexing.html#returning-a-view-versus-a-copy\n",
      "  data[col] = pd.to_numeric(data[col], errors=\"ignore\")\n",
      "/Users/Kristen.Grabarz/Documents/Classes/Fall 2021/AC297r/smartnoise-sdk/synth/snsynth/mwem.py:530: VisibleDeprecationWarning: Creating an ndarray from ragged nested sequences (which is a list-or-tuple of lists-or-tuples-or ndarrays with different lengths or shapes) is deprecated. If you meant to do this, you must specify 'dtype=object' when creating the ndarray.\n",
      "  return np.array(s2)\n"
     ]
    },
    {
     "name": "stdout",
     "output_type": "stream",
     "text": [
      "Completed eps=5.0, rep=4.\n"
     ]
    },
    {
     "name": "stderr",
     "output_type": "stream",
     "text": [
      "/Users/Kristen.Grabarz/miniconda3/lib/python3.8/site-packages/diffprivlib/models/logistic_regression.py:221: PrivacyLeakWarning: Data norm has not been specified and will be calculated on the data provided.  This will result in additional privacy leakage. To ensure differential privacy and no additional privacy leakage, specify `data_norm` at initialisation.\n",
      "  warnings.warn(\"Data norm has not been specified and will be calculated on the data provided.  This will \"\n",
      "/Users/Kristen.Grabarz/miniconda3/lib/python3.8/site-packages/diffprivlib/models/logistic_regression.py:394: ConvergenceWarning: lbfgs failed to converge. Increase the number of iterations.\n",
      "  warnings.warn(\"lbfgs failed to converge. Increase the number of iterations.\", ConvergenceWarning)\n",
      "/Users/Kristen.Grabarz/Documents/Classes/Fall 2021/AC297r/smartnoise-sdk/synth/snsynth/mwem.py:116: SettingWithCopyWarning: \n",
      "A value is trying to be set on a copy of a slice from a DataFrame.\n",
      "Try using .loc[row_indexer,col_indexer] = value instead\n",
      "\n",
      "See the caveats in the documentation: https://pandas.pydata.org/pandas-docs/stable/user_guide/indexing.html#returning-a-view-versus-a-copy\n",
      "  data[col] = pd.to_numeric(data[col], errors=\"ignore\")\n",
      "/Users/Kristen.Grabarz/Documents/Classes/Fall 2021/AC297r/smartnoise-sdk/synth/snsynth/mwem.py:530: VisibleDeprecationWarning: Creating an ndarray from ragged nested sequences (which is a list-or-tuple of lists-or-tuples-or ndarrays with different lengths or shapes) is deprecated. If you meant to do this, you must specify 'dtype=object' when creating the ndarray.\n",
      "  return np.array(s2)\n"
     ]
    },
    {
     "name": "stdout",
     "output_type": "stream",
     "text": [
      "Completed eps=5.0, rep=5.\n"
     ]
    },
    {
     "name": "stderr",
     "output_type": "stream",
     "text": [
      "/Users/Kristen.Grabarz/miniconda3/lib/python3.8/site-packages/diffprivlib/models/logistic_regression.py:221: PrivacyLeakWarning: Data norm has not been specified and will be calculated on the data provided.  This will result in additional privacy leakage. To ensure differential privacy and no additional privacy leakage, specify `data_norm` at initialisation.\n",
      "  warnings.warn(\"Data norm has not been specified and will be calculated on the data provided.  This will \"\n",
      "/Users/Kristen.Grabarz/miniconda3/lib/python3.8/site-packages/diffprivlib/models/logistic_regression.py:394: ConvergenceWarning: lbfgs failed to converge. Increase the number of iterations.\n",
      "  warnings.warn(\"lbfgs failed to converge. Increase the number of iterations.\", ConvergenceWarning)\n",
      "/Users/Kristen.Grabarz/Documents/Classes/Fall 2021/AC297r/smartnoise-sdk/synth/snsynth/mwem.py:116: SettingWithCopyWarning: \n",
      "A value is trying to be set on a copy of a slice from a DataFrame.\n",
      "Try using .loc[row_indexer,col_indexer] = value instead\n",
      "\n",
      "See the caveats in the documentation: https://pandas.pydata.org/pandas-docs/stable/user_guide/indexing.html#returning-a-view-versus-a-copy\n",
      "  data[col] = pd.to_numeric(data[col], errors=\"ignore\")\n",
      "/Users/Kristen.Grabarz/Documents/Classes/Fall 2021/AC297r/smartnoise-sdk/synth/snsynth/mwem.py:530: VisibleDeprecationWarning: Creating an ndarray from ragged nested sequences (which is a list-or-tuple of lists-or-tuples-or ndarrays with different lengths or shapes) is deprecated. If you meant to do this, you must specify 'dtype=object' when creating the ndarray.\n",
      "  return np.array(s2)\n"
     ]
    },
    {
     "name": "stdout",
     "output_type": "stream",
     "text": [
      "Completed eps=5.0, rep=6.\n"
     ]
    },
    {
     "name": "stderr",
     "output_type": "stream",
     "text": [
      "/Users/Kristen.Grabarz/miniconda3/lib/python3.8/site-packages/diffprivlib/models/logistic_regression.py:221: PrivacyLeakWarning: Data norm has not been specified and will be calculated on the data provided.  This will result in additional privacy leakage. To ensure differential privacy and no additional privacy leakage, specify `data_norm` at initialisation.\n",
      "  warnings.warn(\"Data norm has not been specified and will be calculated on the data provided.  This will \"\n",
      "/Users/Kristen.Grabarz/miniconda3/lib/python3.8/site-packages/diffprivlib/models/logistic_regression.py:394: ConvergenceWarning: lbfgs failed to converge. Increase the number of iterations.\n",
      "  warnings.warn(\"lbfgs failed to converge. Increase the number of iterations.\", ConvergenceWarning)\n",
      "/Users/Kristen.Grabarz/Documents/Classes/Fall 2021/AC297r/smartnoise-sdk/synth/snsynth/mwem.py:116: SettingWithCopyWarning: \n",
      "A value is trying to be set on a copy of a slice from a DataFrame.\n",
      "Try using .loc[row_indexer,col_indexer] = value instead\n",
      "\n",
      "See the caveats in the documentation: https://pandas.pydata.org/pandas-docs/stable/user_guide/indexing.html#returning-a-view-versus-a-copy\n",
      "  data[col] = pd.to_numeric(data[col], errors=\"ignore\")\n",
      "/Users/Kristen.Grabarz/Documents/Classes/Fall 2021/AC297r/smartnoise-sdk/synth/snsynth/mwem.py:530: VisibleDeprecationWarning: Creating an ndarray from ragged nested sequences (which is a list-or-tuple of lists-or-tuples-or ndarrays with different lengths or shapes) is deprecated. If you meant to do this, you must specify 'dtype=object' when creating the ndarray.\n",
      "  return np.array(s2)\n"
     ]
    },
    {
     "name": "stdout",
     "output_type": "stream",
     "text": [
      "Completed eps=5.0, rep=7.\n"
     ]
    },
    {
     "name": "stderr",
     "output_type": "stream",
     "text": [
      "/Users/Kristen.Grabarz/miniconda3/lib/python3.8/site-packages/diffprivlib/models/logistic_regression.py:221: PrivacyLeakWarning: Data norm has not been specified and will be calculated on the data provided.  This will result in additional privacy leakage. To ensure differential privacy and no additional privacy leakage, specify `data_norm` at initialisation.\n",
      "  warnings.warn(\"Data norm has not been specified and will be calculated on the data provided.  This will \"\n",
      "/Users/Kristen.Grabarz/Documents/Classes/Fall 2021/AC297r/smartnoise-sdk/synth/snsynth/mwem.py:116: SettingWithCopyWarning: \n",
      "A value is trying to be set on a copy of a slice from a DataFrame.\n",
      "Try using .loc[row_indexer,col_indexer] = value instead\n",
      "\n",
      "See the caveats in the documentation: https://pandas.pydata.org/pandas-docs/stable/user_guide/indexing.html#returning-a-view-versus-a-copy\n",
      "  data[col] = pd.to_numeric(data[col], errors=\"ignore\")\n",
      "/Users/Kristen.Grabarz/Documents/Classes/Fall 2021/AC297r/smartnoise-sdk/synth/snsynth/mwem.py:530: VisibleDeprecationWarning: Creating an ndarray from ragged nested sequences (which is a list-or-tuple of lists-or-tuples-or ndarrays with different lengths or shapes) is deprecated. If you meant to do this, you must specify 'dtype=object' when creating the ndarray.\n",
      "  return np.array(s2)\n"
     ]
    },
    {
     "name": "stdout",
     "output_type": "stream",
     "text": [
      "Completed eps=5.0, rep=8.\n"
     ]
    },
    {
     "name": "stderr",
     "output_type": "stream",
     "text": [
      "/Users/Kristen.Grabarz/miniconda3/lib/python3.8/site-packages/diffprivlib/models/logistic_regression.py:221: PrivacyLeakWarning: Data norm has not been specified and will be calculated on the data provided.  This will result in additional privacy leakage. To ensure differential privacy and no additional privacy leakage, specify `data_norm` at initialisation.\n",
      "  warnings.warn(\"Data norm has not been specified and will be calculated on the data provided.  This will \"\n",
      "/Users/Kristen.Grabarz/miniconda3/lib/python3.8/site-packages/diffprivlib/models/logistic_regression.py:394: ConvergenceWarning: lbfgs failed to converge. Increase the number of iterations.\n",
      "  warnings.warn(\"lbfgs failed to converge. Increase the number of iterations.\", ConvergenceWarning)\n",
      "/Users/Kristen.Grabarz/Documents/Classes/Fall 2021/AC297r/smartnoise-sdk/synth/snsynth/mwem.py:116: SettingWithCopyWarning: \n",
      "A value is trying to be set on a copy of a slice from a DataFrame.\n",
      "Try using .loc[row_indexer,col_indexer] = value instead\n",
      "\n",
      "See the caveats in the documentation: https://pandas.pydata.org/pandas-docs/stable/user_guide/indexing.html#returning-a-view-versus-a-copy\n",
      "  data[col] = pd.to_numeric(data[col], errors=\"ignore\")\n",
      "/Users/Kristen.Grabarz/Documents/Classes/Fall 2021/AC297r/smartnoise-sdk/synth/snsynth/mwem.py:530: VisibleDeprecationWarning: Creating an ndarray from ragged nested sequences (which is a list-or-tuple of lists-or-tuples-or ndarrays with different lengths or shapes) is deprecated. If you meant to do this, you must specify 'dtype=object' when creating the ndarray.\n",
      "  return np.array(s2)\n"
     ]
    },
    {
     "name": "stdout",
     "output_type": "stream",
     "text": [
      "Completed eps=5.0, rep=9.\n"
     ]
    },
    {
     "name": "stderr",
     "output_type": "stream",
     "text": [
      "/Users/Kristen.Grabarz/miniconda3/lib/python3.8/site-packages/diffprivlib/models/logistic_regression.py:221: PrivacyLeakWarning: Data norm has not been specified and will be calculated on the data provided.  This will result in additional privacy leakage. To ensure differential privacy and no additional privacy leakage, specify `data_norm` at initialisation.\n",
      "  warnings.warn(\"Data norm has not been specified and will be calculated on the data provided.  This will \"\n",
      "/Users/Kristen.Grabarz/miniconda3/lib/python3.8/site-packages/diffprivlib/models/logistic_regression.py:394: ConvergenceWarning: lbfgs failed to converge. Increase the number of iterations.\n",
      "  warnings.warn(\"lbfgs failed to converge. Increase the number of iterations.\", ConvergenceWarning)\n",
      "/Users/Kristen.Grabarz/Documents/Classes/Fall 2021/AC297r/smartnoise-sdk/synth/snsynth/mwem.py:116: SettingWithCopyWarning: \n",
      "A value is trying to be set on a copy of a slice from a DataFrame.\n",
      "Try using .loc[row_indexer,col_indexer] = value instead\n",
      "\n",
      "See the caveats in the documentation: https://pandas.pydata.org/pandas-docs/stable/user_guide/indexing.html#returning-a-view-versus-a-copy\n",
      "  data[col] = pd.to_numeric(data[col], errors=\"ignore\")\n",
      "/Users/Kristen.Grabarz/Documents/Classes/Fall 2021/AC297r/smartnoise-sdk/synth/snsynth/mwem.py:530: VisibleDeprecationWarning: Creating an ndarray from ragged nested sequences (which is a list-or-tuple of lists-or-tuples-or ndarrays with different lengths or shapes) is deprecated. If you meant to do this, you must specify 'dtype=object' when creating the ndarray.\n",
      "  return np.array(s2)\n"
     ]
    },
    {
     "name": "stdout",
     "output_type": "stream",
     "text": [
      "Completed eps=5.0, rep=10.\n"
     ]
    },
    {
     "name": "stderr",
     "output_type": "stream",
     "text": [
      "/Users/Kristen.Grabarz/miniconda3/lib/python3.8/site-packages/diffprivlib/models/logistic_regression.py:221: PrivacyLeakWarning: Data norm has not been specified and will be calculated on the data provided.  This will result in additional privacy leakage. To ensure differential privacy and no additional privacy leakage, specify `data_norm` at initialisation.\n",
      "  warnings.warn(\"Data norm has not been specified and will be calculated on the data provided.  This will \"\n",
      "/Users/Kristen.Grabarz/miniconda3/lib/python3.8/site-packages/diffprivlib/models/logistic_regression.py:394: ConvergenceWarning: lbfgs failed to converge. Increase the number of iterations.\n",
      "  warnings.warn(\"lbfgs failed to converge. Increase the number of iterations.\", ConvergenceWarning)\n",
      "/Users/Kristen.Grabarz/Documents/Classes/Fall 2021/AC297r/smartnoise-sdk/synth/snsynth/mwem.py:116: SettingWithCopyWarning: \n",
      "A value is trying to be set on a copy of a slice from a DataFrame.\n",
      "Try using .loc[row_indexer,col_indexer] = value instead\n",
      "\n",
      "See the caveats in the documentation: https://pandas.pydata.org/pandas-docs/stable/user_guide/indexing.html#returning-a-view-versus-a-copy\n",
      "  data[col] = pd.to_numeric(data[col], errors=\"ignore\")\n",
      "/Users/Kristen.Grabarz/Documents/Classes/Fall 2021/AC297r/smartnoise-sdk/synth/snsynth/mwem.py:530: VisibleDeprecationWarning: Creating an ndarray from ragged nested sequences (which is a list-or-tuple of lists-or-tuples-or ndarrays with different lengths or shapes) is deprecated. If you meant to do this, you must specify 'dtype=object' when creating the ndarray.\n",
      "  return np.array(s2)\n"
     ]
    },
    {
     "name": "stdout",
     "output_type": "stream",
     "text": [
      "Completed eps=5.0, rep=11.\n"
     ]
    },
    {
     "name": "stderr",
     "output_type": "stream",
     "text": [
      "/Users/Kristen.Grabarz/miniconda3/lib/python3.8/site-packages/diffprivlib/models/logistic_regression.py:221: PrivacyLeakWarning: Data norm has not been specified and will be calculated on the data provided.  This will result in additional privacy leakage. To ensure differential privacy and no additional privacy leakage, specify `data_norm` at initialisation.\n",
      "  warnings.warn(\"Data norm has not been specified and will be calculated on the data provided.  This will \"\n",
      "/Users/Kristen.Grabarz/miniconda3/lib/python3.8/site-packages/diffprivlib/models/logistic_regression.py:394: ConvergenceWarning: lbfgs failed to converge. Increase the number of iterations.\n",
      "  warnings.warn(\"lbfgs failed to converge. Increase the number of iterations.\", ConvergenceWarning)\n",
      "/Users/Kristen.Grabarz/Documents/Classes/Fall 2021/AC297r/smartnoise-sdk/synth/snsynth/mwem.py:116: SettingWithCopyWarning: \n",
      "A value is trying to be set on a copy of a slice from a DataFrame.\n",
      "Try using .loc[row_indexer,col_indexer] = value instead\n",
      "\n",
      "See the caveats in the documentation: https://pandas.pydata.org/pandas-docs/stable/user_guide/indexing.html#returning-a-view-versus-a-copy\n",
      "  data[col] = pd.to_numeric(data[col], errors=\"ignore\")\n",
      "/Users/Kristen.Grabarz/Documents/Classes/Fall 2021/AC297r/smartnoise-sdk/synth/snsynth/mwem.py:530: VisibleDeprecationWarning: Creating an ndarray from ragged nested sequences (which is a list-or-tuple of lists-or-tuples-or ndarrays with different lengths or shapes) is deprecated. If you meant to do this, you must specify 'dtype=object' when creating the ndarray.\n",
      "  return np.array(s2)\n"
     ]
    },
    {
     "name": "stdout",
     "output_type": "stream",
     "text": [
      "Completed eps=5.0, rep=12.\n"
     ]
    },
    {
     "name": "stderr",
     "output_type": "stream",
     "text": [
      "/Users/Kristen.Grabarz/miniconda3/lib/python3.8/site-packages/diffprivlib/models/logistic_regression.py:221: PrivacyLeakWarning: Data norm has not been specified and will be calculated on the data provided.  This will result in additional privacy leakage. To ensure differential privacy and no additional privacy leakage, specify `data_norm` at initialisation.\n",
      "  warnings.warn(\"Data norm has not been specified and will be calculated on the data provided.  This will \"\n",
      "/Users/Kristen.Grabarz/miniconda3/lib/python3.8/site-packages/diffprivlib/models/logistic_regression.py:394: ConvergenceWarning: lbfgs failed to converge. Increase the number of iterations.\n",
      "  warnings.warn(\"lbfgs failed to converge. Increase the number of iterations.\", ConvergenceWarning)\n",
      "/Users/Kristen.Grabarz/Documents/Classes/Fall 2021/AC297r/smartnoise-sdk/synth/snsynth/mwem.py:116: SettingWithCopyWarning: \n",
      "A value is trying to be set on a copy of a slice from a DataFrame.\n",
      "Try using .loc[row_indexer,col_indexer] = value instead\n",
      "\n",
      "See the caveats in the documentation: https://pandas.pydata.org/pandas-docs/stable/user_guide/indexing.html#returning-a-view-versus-a-copy\n",
      "  data[col] = pd.to_numeric(data[col], errors=\"ignore\")\n",
      "/Users/Kristen.Grabarz/Documents/Classes/Fall 2021/AC297r/smartnoise-sdk/synth/snsynth/mwem.py:530: VisibleDeprecationWarning: Creating an ndarray from ragged nested sequences (which is a list-or-tuple of lists-or-tuples-or ndarrays with different lengths or shapes) is deprecated. If you meant to do this, you must specify 'dtype=object' when creating the ndarray.\n",
      "  return np.array(s2)\n"
     ]
    },
    {
     "name": "stdout",
     "output_type": "stream",
     "text": [
      "Completed eps=5.0, rep=13.\n"
     ]
    },
    {
     "name": "stderr",
     "output_type": "stream",
     "text": [
      "/Users/Kristen.Grabarz/miniconda3/lib/python3.8/site-packages/diffprivlib/models/logistic_regression.py:221: PrivacyLeakWarning: Data norm has not been specified and will be calculated on the data provided.  This will result in additional privacy leakage. To ensure differential privacy and no additional privacy leakage, specify `data_norm` at initialisation.\n",
      "  warnings.warn(\"Data norm has not been specified and will be calculated on the data provided.  This will \"\n",
      "/Users/Kristen.Grabarz/miniconda3/lib/python3.8/site-packages/diffprivlib/models/logistic_regression.py:394: ConvergenceWarning: lbfgs failed to converge. Increase the number of iterations.\n",
      "  warnings.warn(\"lbfgs failed to converge. Increase the number of iterations.\", ConvergenceWarning)\n",
      "/Users/Kristen.Grabarz/Documents/Classes/Fall 2021/AC297r/smartnoise-sdk/synth/snsynth/mwem.py:116: SettingWithCopyWarning: \n",
      "A value is trying to be set on a copy of a slice from a DataFrame.\n",
      "Try using .loc[row_indexer,col_indexer] = value instead\n",
      "\n",
      "See the caveats in the documentation: https://pandas.pydata.org/pandas-docs/stable/user_guide/indexing.html#returning-a-view-versus-a-copy\n",
      "  data[col] = pd.to_numeric(data[col], errors=\"ignore\")\n",
      "/Users/Kristen.Grabarz/Documents/Classes/Fall 2021/AC297r/smartnoise-sdk/synth/snsynth/mwem.py:530: VisibleDeprecationWarning: Creating an ndarray from ragged nested sequences (which is a list-or-tuple of lists-or-tuples-or ndarrays with different lengths or shapes) is deprecated. If you meant to do this, you must specify 'dtype=object' when creating the ndarray.\n",
      "  return np.array(s2)\n"
     ]
    },
    {
     "name": "stdout",
     "output_type": "stream",
     "text": [
      "Completed eps=5.0, rep=14.\n"
     ]
    },
    {
     "name": "stderr",
     "output_type": "stream",
     "text": [
      "/Users/Kristen.Grabarz/miniconda3/lib/python3.8/site-packages/diffprivlib/models/logistic_regression.py:221: PrivacyLeakWarning: Data norm has not been specified and will be calculated on the data provided.  This will result in additional privacy leakage. To ensure differential privacy and no additional privacy leakage, specify `data_norm` at initialisation.\n",
      "  warnings.warn(\"Data norm has not been specified and will be calculated on the data provided.  This will \"\n",
      "/Users/Kristen.Grabarz/miniconda3/lib/python3.8/site-packages/diffprivlib/models/logistic_regression.py:394: ConvergenceWarning: lbfgs failed to converge. Increase the number of iterations.\n",
      "  warnings.warn(\"lbfgs failed to converge. Increase the number of iterations.\", ConvergenceWarning)\n",
      "/Users/Kristen.Grabarz/Documents/Classes/Fall 2021/AC297r/smartnoise-sdk/synth/snsynth/mwem.py:116: SettingWithCopyWarning: \n",
      "A value is trying to be set on a copy of a slice from a DataFrame.\n",
      "Try using .loc[row_indexer,col_indexer] = value instead\n",
      "\n",
      "See the caveats in the documentation: https://pandas.pydata.org/pandas-docs/stable/user_guide/indexing.html#returning-a-view-versus-a-copy\n",
      "  data[col] = pd.to_numeric(data[col], errors=\"ignore\")\n",
      "/Users/Kristen.Grabarz/Documents/Classes/Fall 2021/AC297r/smartnoise-sdk/synth/snsynth/mwem.py:530: VisibleDeprecationWarning: Creating an ndarray from ragged nested sequences (which is a list-or-tuple of lists-or-tuples-or ndarrays with different lengths or shapes) is deprecated. If you meant to do this, you must specify 'dtype=object' when creating the ndarray.\n",
      "  return np.array(s2)\n"
     ]
    },
    {
     "name": "stdout",
     "output_type": "stream",
     "text": [
      "Completed eps=5.0, rep=15.\n"
     ]
    },
    {
     "name": "stderr",
     "output_type": "stream",
     "text": [
      "/Users/Kristen.Grabarz/miniconda3/lib/python3.8/site-packages/diffprivlib/models/logistic_regression.py:221: PrivacyLeakWarning: Data norm has not been specified and will be calculated on the data provided.  This will result in additional privacy leakage. To ensure differential privacy and no additional privacy leakage, specify `data_norm` at initialisation.\n",
      "  warnings.warn(\"Data norm has not been specified and will be calculated on the data provided.  This will \"\n",
      "/Users/Kristen.Grabarz/miniconda3/lib/python3.8/site-packages/diffprivlib/models/logistic_regression.py:394: ConvergenceWarning: lbfgs failed to converge. Increase the number of iterations.\n",
      "  warnings.warn(\"lbfgs failed to converge. Increase the number of iterations.\", ConvergenceWarning)\n",
      "/Users/Kristen.Grabarz/Documents/Classes/Fall 2021/AC297r/smartnoise-sdk/synth/snsynth/mwem.py:116: SettingWithCopyWarning: \n",
      "A value is trying to be set on a copy of a slice from a DataFrame.\n",
      "Try using .loc[row_indexer,col_indexer] = value instead\n",
      "\n",
      "See the caveats in the documentation: https://pandas.pydata.org/pandas-docs/stable/user_guide/indexing.html#returning-a-view-versus-a-copy\n",
      "  data[col] = pd.to_numeric(data[col], errors=\"ignore\")\n",
      "/Users/Kristen.Grabarz/Documents/Classes/Fall 2021/AC297r/smartnoise-sdk/synth/snsynth/mwem.py:530: VisibleDeprecationWarning: Creating an ndarray from ragged nested sequences (which is a list-or-tuple of lists-or-tuples-or ndarrays with different lengths or shapes) is deprecated. If you meant to do this, you must specify 'dtype=object' when creating the ndarray.\n",
      "  return np.array(s2)\n"
     ]
    },
    {
     "name": "stdout",
     "output_type": "stream",
     "text": [
      "Completed eps=6.0, rep=1.\n"
     ]
    },
    {
     "name": "stderr",
     "output_type": "stream",
     "text": [
      "/Users/Kristen.Grabarz/miniconda3/lib/python3.8/site-packages/diffprivlib/models/logistic_regression.py:221: PrivacyLeakWarning: Data norm has not been specified and will be calculated on the data provided.  This will result in additional privacy leakage. To ensure differential privacy and no additional privacy leakage, specify `data_norm` at initialisation.\n",
      "  warnings.warn(\"Data norm has not been specified and will be calculated on the data provided.  This will \"\n",
      "/Users/Kristen.Grabarz/miniconda3/lib/python3.8/site-packages/diffprivlib/models/logistic_regression.py:394: ConvergenceWarning: lbfgs failed to converge. Increase the number of iterations.\n",
      "  warnings.warn(\"lbfgs failed to converge. Increase the number of iterations.\", ConvergenceWarning)\n",
      "/Users/Kristen.Grabarz/Documents/Classes/Fall 2021/AC297r/smartnoise-sdk/synth/snsynth/mwem.py:116: SettingWithCopyWarning: \n",
      "A value is trying to be set on a copy of a slice from a DataFrame.\n",
      "Try using .loc[row_indexer,col_indexer] = value instead\n",
      "\n",
      "See the caveats in the documentation: https://pandas.pydata.org/pandas-docs/stable/user_guide/indexing.html#returning-a-view-versus-a-copy\n",
      "  data[col] = pd.to_numeric(data[col], errors=\"ignore\")\n",
      "/Users/Kristen.Grabarz/Documents/Classes/Fall 2021/AC297r/smartnoise-sdk/synth/snsynth/mwem.py:530: VisibleDeprecationWarning: Creating an ndarray from ragged nested sequences (which is a list-or-tuple of lists-or-tuples-or ndarrays with different lengths or shapes) is deprecated. If you meant to do this, you must specify 'dtype=object' when creating the ndarray.\n",
      "  return np.array(s2)\n"
     ]
    },
    {
     "name": "stdout",
     "output_type": "stream",
     "text": [
      "Completed eps=6.0, rep=2.\n"
     ]
    },
    {
     "name": "stderr",
     "output_type": "stream",
     "text": [
      "/Users/Kristen.Grabarz/miniconda3/lib/python3.8/site-packages/diffprivlib/models/logistic_regression.py:221: PrivacyLeakWarning: Data norm has not been specified and will be calculated on the data provided.  This will result in additional privacy leakage. To ensure differential privacy and no additional privacy leakage, specify `data_norm` at initialisation.\n",
      "  warnings.warn(\"Data norm has not been specified and will be calculated on the data provided.  This will \"\n",
      "/Users/Kristen.Grabarz/miniconda3/lib/python3.8/site-packages/diffprivlib/models/logistic_regression.py:394: ConvergenceWarning: lbfgs failed to converge. Increase the number of iterations.\n",
      "  warnings.warn(\"lbfgs failed to converge. Increase the number of iterations.\", ConvergenceWarning)\n",
      "/Users/Kristen.Grabarz/Documents/Classes/Fall 2021/AC297r/smartnoise-sdk/synth/snsynth/mwem.py:116: SettingWithCopyWarning: \n",
      "A value is trying to be set on a copy of a slice from a DataFrame.\n",
      "Try using .loc[row_indexer,col_indexer] = value instead\n",
      "\n",
      "See the caveats in the documentation: https://pandas.pydata.org/pandas-docs/stable/user_guide/indexing.html#returning-a-view-versus-a-copy\n",
      "  data[col] = pd.to_numeric(data[col], errors=\"ignore\")\n",
      "/Users/Kristen.Grabarz/Documents/Classes/Fall 2021/AC297r/smartnoise-sdk/synth/snsynth/mwem.py:530: VisibleDeprecationWarning: Creating an ndarray from ragged nested sequences (which is a list-or-tuple of lists-or-tuples-or ndarrays with different lengths or shapes) is deprecated. If you meant to do this, you must specify 'dtype=object' when creating the ndarray.\n",
      "  return np.array(s2)\n"
     ]
    },
    {
     "name": "stdout",
     "output_type": "stream",
     "text": [
      "Completed eps=6.0, rep=3.\n"
     ]
    },
    {
     "name": "stderr",
     "output_type": "stream",
     "text": [
      "/Users/Kristen.Grabarz/miniconda3/lib/python3.8/site-packages/diffprivlib/models/logistic_regression.py:221: PrivacyLeakWarning: Data norm has not been specified and will be calculated on the data provided.  This will result in additional privacy leakage. To ensure differential privacy and no additional privacy leakage, specify `data_norm` at initialisation.\n",
      "  warnings.warn(\"Data norm has not been specified and will be calculated on the data provided.  This will \"\n",
      "/Users/Kristen.Grabarz/Documents/Classes/Fall 2021/AC297r/smartnoise-sdk/synth/snsynth/mwem.py:116: SettingWithCopyWarning: \n",
      "A value is trying to be set on a copy of a slice from a DataFrame.\n",
      "Try using .loc[row_indexer,col_indexer] = value instead\n",
      "\n",
      "See the caveats in the documentation: https://pandas.pydata.org/pandas-docs/stable/user_guide/indexing.html#returning-a-view-versus-a-copy\n",
      "  data[col] = pd.to_numeric(data[col], errors=\"ignore\")\n",
      "/Users/Kristen.Grabarz/Documents/Classes/Fall 2021/AC297r/smartnoise-sdk/synth/snsynth/mwem.py:530: VisibleDeprecationWarning: Creating an ndarray from ragged nested sequences (which is a list-or-tuple of lists-or-tuples-or ndarrays with different lengths or shapes) is deprecated. If you meant to do this, you must specify 'dtype=object' when creating the ndarray.\n",
      "  return np.array(s2)\n"
     ]
    },
    {
     "name": "stdout",
     "output_type": "stream",
     "text": [
      "Completed eps=6.0, rep=4.\n"
     ]
    },
    {
     "name": "stderr",
     "output_type": "stream",
     "text": [
      "/Users/Kristen.Grabarz/miniconda3/lib/python3.8/site-packages/diffprivlib/models/logistic_regression.py:221: PrivacyLeakWarning: Data norm has not been specified and will be calculated on the data provided.  This will result in additional privacy leakage. To ensure differential privacy and no additional privacy leakage, specify `data_norm` at initialisation.\n",
      "  warnings.warn(\"Data norm has not been specified and will be calculated on the data provided.  This will \"\n",
      "/Users/Kristen.Grabarz/miniconda3/lib/python3.8/site-packages/diffprivlib/models/logistic_regression.py:394: ConvergenceWarning: lbfgs failed to converge. Increase the number of iterations.\n",
      "  warnings.warn(\"lbfgs failed to converge. Increase the number of iterations.\", ConvergenceWarning)\n",
      "/Users/Kristen.Grabarz/Documents/Classes/Fall 2021/AC297r/smartnoise-sdk/synth/snsynth/mwem.py:116: SettingWithCopyWarning: \n",
      "A value is trying to be set on a copy of a slice from a DataFrame.\n",
      "Try using .loc[row_indexer,col_indexer] = value instead\n",
      "\n",
      "See the caveats in the documentation: https://pandas.pydata.org/pandas-docs/stable/user_guide/indexing.html#returning-a-view-versus-a-copy\n",
      "  data[col] = pd.to_numeric(data[col], errors=\"ignore\")\n",
      "/Users/Kristen.Grabarz/Documents/Classes/Fall 2021/AC297r/smartnoise-sdk/synth/snsynth/mwem.py:530: VisibleDeprecationWarning: Creating an ndarray from ragged nested sequences (which is a list-or-tuple of lists-or-tuples-or ndarrays with different lengths or shapes) is deprecated. If you meant to do this, you must specify 'dtype=object' when creating the ndarray.\n",
      "  return np.array(s2)\n"
     ]
    },
    {
     "name": "stdout",
     "output_type": "stream",
     "text": [
      "Completed eps=6.0, rep=5.\n"
     ]
    },
    {
     "name": "stderr",
     "output_type": "stream",
     "text": [
      "/Users/Kristen.Grabarz/miniconda3/lib/python3.8/site-packages/diffprivlib/models/logistic_regression.py:221: PrivacyLeakWarning: Data norm has not been specified and will be calculated on the data provided.  This will result in additional privacy leakage. To ensure differential privacy and no additional privacy leakage, specify `data_norm` at initialisation.\n",
      "  warnings.warn(\"Data norm has not been specified and will be calculated on the data provided.  This will \"\n",
      "/Users/Kristen.Grabarz/miniconda3/lib/python3.8/site-packages/diffprivlib/models/logistic_regression.py:394: ConvergenceWarning: lbfgs failed to converge. Increase the number of iterations.\n",
      "  warnings.warn(\"lbfgs failed to converge. Increase the number of iterations.\", ConvergenceWarning)\n",
      "/Users/Kristen.Grabarz/Documents/Classes/Fall 2021/AC297r/smartnoise-sdk/synth/snsynth/mwem.py:116: SettingWithCopyWarning: \n",
      "A value is trying to be set on a copy of a slice from a DataFrame.\n",
      "Try using .loc[row_indexer,col_indexer] = value instead\n",
      "\n",
      "See the caveats in the documentation: https://pandas.pydata.org/pandas-docs/stable/user_guide/indexing.html#returning-a-view-versus-a-copy\n",
      "  data[col] = pd.to_numeric(data[col], errors=\"ignore\")\n",
      "/Users/Kristen.Grabarz/Documents/Classes/Fall 2021/AC297r/smartnoise-sdk/synth/snsynth/mwem.py:530: VisibleDeprecationWarning: Creating an ndarray from ragged nested sequences (which is a list-or-tuple of lists-or-tuples-or ndarrays with different lengths or shapes) is deprecated. If you meant to do this, you must specify 'dtype=object' when creating the ndarray.\n",
      "  return np.array(s2)\n"
     ]
    },
    {
     "name": "stdout",
     "output_type": "stream",
     "text": [
      "Completed eps=6.0, rep=6.\n"
     ]
    },
    {
     "name": "stderr",
     "output_type": "stream",
     "text": [
      "/Users/Kristen.Grabarz/miniconda3/lib/python3.8/site-packages/diffprivlib/models/logistic_regression.py:221: PrivacyLeakWarning: Data norm has not been specified and will be calculated on the data provided.  This will result in additional privacy leakage. To ensure differential privacy and no additional privacy leakage, specify `data_norm` at initialisation.\n",
      "  warnings.warn(\"Data norm has not been specified and will be calculated on the data provided.  This will \"\n",
      "/Users/Kristen.Grabarz/miniconda3/lib/python3.8/site-packages/diffprivlib/models/logistic_regression.py:394: ConvergenceWarning: lbfgs failed to converge. Increase the number of iterations.\n",
      "  warnings.warn(\"lbfgs failed to converge. Increase the number of iterations.\", ConvergenceWarning)\n",
      "/Users/Kristen.Grabarz/Documents/Classes/Fall 2021/AC297r/smartnoise-sdk/synth/snsynth/mwem.py:116: SettingWithCopyWarning: \n",
      "A value is trying to be set on a copy of a slice from a DataFrame.\n",
      "Try using .loc[row_indexer,col_indexer] = value instead\n",
      "\n",
      "See the caveats in the documentation: https://pandas.pydata.org/pandas-docs/stable/user_guide/indexing.html#returning-a-view-versus-a-copy\n",
      "  data[col] = pd.to_numeric(data[col], errors=\"ignore\")\n",
      "/Users/Kristen.Grabarz/Documents/Classes/Fall 2021/AC297r/smartnoise-sdk/synth/snsynth/mwem.py:530: VisibleDeprecationWarning: Creating an ndarray from ragged nested sequences (which is a list-or-tuple of lists-or-tuples-or ndarrays with different lengths or shapes) is deprecated. If you meant to do this, you must specify 'dtype=object' when creating the ndarray.\n",
      "  return np.array(s2)\n"
     ]
    },
    {
     "name": "stdout",
     "output_type": "stream",
     "text": [
      "Completed eps=6.0, rep=7.\n"
     ]
    },
    {
     "name": "stderr",
     "output_type": "stream",
     "text": [
      "/Users/Kristen.Grabarz/miniconda3/lib/python3.8/site-packages/diffprivlib/models/logistic_regression.py:221: PrivacyLeakWarning: Data norm has not been specified and will be calculated on the data provided.  This will result in additional privacy leakage. To ensure differential privacy and no additional privacy leakage, specify `data_norm` at initialisation.\n",
      "  warnings.warn(\"Data norm has not been specified and will be calculated on the data provided.  This will \"\n",
      "/Users/Kristen.Grabarz/miniconda3/lib/python3.8/site-packages/diffprivlib/models/logistic_regression.py:394: ConvergenceWarning: lbfgs failed to converge. Increase the number of iterations.\n",
      "  warnings.warn(\"lbfgs failed to converge. Increase the number of iterations.\", ConvergenceWarning)\n",
      "/Users/Kristen.Grabarz/Documents/Classes/Fall 2021/AC297r/smartnoise-sdk/synth/snsynth/mwem.py:116: SettingWithCopyWarning: \n",
      "A value is trying to be set on a copy of a slice from a DataFrame.\n",
      "Try using .loc[row_indexer,col_indexer] = value instead\n",
      "\n",
      "See the caveats in the documentation: https://pandas.pydata.org/pandas-docs/stable/user_guide/indexing.html#returning-a-view-versus-a-copy\n",
      "  data[col] = pd.to_numeric(data[col], errors=\"ignore\")\n",
      "/Users/Kristen.Grabarz/Documents/Classes/Fall 2021/AC297r/smartnoise-sdk/synth/snsynth/mwem.py:530: VisibleDeprecationWarning: Creating an ndarray from ragged nested sequences (which is a list-or-tuple of lists-or-tuples-or ndarrays with different lengths or shapes) is deprecated. If you meant to do this, you must specify 'dtype=object' when creating the ndarray.\n",
      "  return np.array(s2)\n"
     ]
    },
    {
     "name": "stdout",
     "output_type": "stream",
     "text": [
      "Completed eps=6.0, rep=8.\n"
     ]
    },
    {
     "name": "stderr",
     "output_type": "stream",
     "text": [
      "/Users/Kristen.Grabarz/miniconda3/lib/python3.8/site-packages/diffprivlib/models/logistic_regression.py:221: PrivacyLeakWarning: Data norm has not been specified and will be calculated on the data provided.  This will result in additional privacy leakage. To ensure differential privacy and no additional privacy leakage, specify `data_norm` at initialisation.\n",
      "  warnings.warn(\"Data norm has not been specified and will be calculated on the data provided.  This will \"\n",
      "/Users/Kristen.Grabarz/miniconda3/lib/python3.8/site-packages/diffprivlib/models/logistic_regression.py:394: ConvergenceWarning: lbfgs failed to converge. Increase the number of iterations.\n",
      "  warnings.warn(\"lbfgs failed to converge. Increase the number of iterations.\", ConvergenceWarning)\n",
      "/Users/Kristen.Grabarz/Documents/Classes/Fall 2021/AC297r/smartnoise-sdk/synth/snsynth/mwem.py:116: SettingWithCopyWarning: \n",
      "A value is trying to be set on a copy of a slice from a DataFrame.\n",
      "Try using .loc[row_indexer,col_indexer] = value instead\n",
      "\n",
      "See the caveats in the documentation: https://pandas.pydata.org/pandas-docs/stable/user_guide/indexing.html#returning-a-view-versus-a-copy\n",
      "  data[col] = pd.to_numeric(data[col], errors=\"ignore\")\n",
      "/Users/Kristen.Grabarz/Documents/Classes/Fall 2021/AC297r/smartnoise-sdk/synth/snsynth/mwem.py:530: VisibleDeprecationWarning: Creating an ndarray from ragged nested sequences (which is a list-or-tuple of lists-or-tuples-or ndarrays with different lengths or shapes) is deprecated. If you meant to do this, you must specify 'dtype=object' when creating the ndarray.\n",
      "  return np.array(s2)\n"
     ]
    },
    {
     "name": "stdout",
     "output_type": "stream",
     "text": [
      "Completed eps=6.0, rep=9.\n"
     ]
    },
    {
     "name": "stderr",
     "output_type": "stream",
     "text": [
      "/Users/Kristen.Grabarz/miniconda3/lib/python3.8/site-packages/diffprivlib/models/logistic_regression.py:221: PrivacyLeakWarning: Data norm has not been specified and will be calculated on the data provided.  This will result in additional privacy leakage. To ensure differential privacy and no additional privacy leakage, specify `data_norm` at initialisation.\n",
      "  warnings.warn(\"Data norm has not been specified and will be calculated on the data provided.  This will \"\n",
      "/Users/Kristen.Grabarz/miniconda3/lib/python3.8/site-packages/diffprivlib/models/logistic_regression.py:394: ConvergenceWarning: lbfgs failed to converge. Increase the number of iterations.\n",
      "  warnings.warn(\"lbfgs failed to converge. Increase the number of iterations.\", ConvergenceWarning)\n",
      "/Users/Kristen.Grabarz/Documents/Classes/Fall 2021/AC297r/smartnoise-sdk/synth/snsynth/mwem.py:116: SettingWithCopyWarning: \n",
      "A value is trying to be set on a copy of a slice from a DataFrame.\n",
      "Try using .loc[row_indexer,col_indexer] = value instead\n",
      "\n",
      "See the caveats in the documentation: https://pandas.pydata.org/pandas-docs/stable/user_guide/indexing.html#returning-a-view-versus-a-copy\n",
      "  data[col] = pd.to_numeric(data[col], errors=\"ignore\")\n",
      "/Users/Kristen.Grabarz/Documents/Classes/Fall 2021/AC297r/smartnoise-sdk/synth/snsynth/mwem.py:530: VisibleDeprecationWarning: Creating an ndarray from ragged nested sequences (which is a list-or-tuple of lists-or-tuples-or ndarrays with different lengths or shapes) is deprecated. If you meant to do this, you must specify 'dtype=object' when creating the ndarray.\n",
      "  return np.array(s2)\n"
     ]
    },
    {
     "name": "stdout",
     "output_type": "stream",
     "text": [
      "Completed eps=6.0, rep=10.\n"
     ]
    },
    {
     "name": "stderr",
     "output_type": "stream",
     "text": [
      "/Users/Kristen.Grabarz/miniconda3/lib/python3.8/site-packages/diffprivlib/models/logistic_regression.py:221: PrivacyLeakWarning: Data norm has not been specified and will be calculated on the data provided.  This will result in additional privacy leakage. To ensure differential privacy and no additional privacy leakage, specify `data_norm` at initialisation.\n",
      "  warnings.warn(\"Data norm has not been specified and will be calculated on the data provided.  This will \"\n",
      "/Users/Kristen.Grabarz/miniconda3/lib/python3.8/site-packages/diffprivlib/models/logistic_regression.py:394: ConvergenceWarning: lbfgs failed to converge. Increase the number of iterations.\n",
      "  warnings.warn(\"lbfgs failed to converge. Increase the number of iterations.\", ConvergenceWarning)\n",
      "/Users/Kristen.Grabarz/Documents/Classes/Fall 2021/AC297r/smartnoise-sdk/synth/snsynth/mwem.py:116: SettingWithCopyWarning: \n",
      "A value is trying to be set on a copy of a slice from a DataFrame.\n",
      "Try using .loc[row_indexer,col_indexer] = value instead\n",
      "\n",
      "See the caveats in the documentation: https://pandas.pydata.org/pandas-docs/stable/user_guide/indexing.html#returning-a-view-versus-a-copy\n",
      "  data[col] = pd.to_numeric(data[col], errors=\"ignore\")\n",
      "/Users/Kristen.Grabarz/Documents/Classes/Fall 2021/AC297r/smartnoise-sdk/synth/snsynth/mwem.py:530: VisibleDeprecationWarning: Creating an ndarray from ragged nested sequences (which is a list-or-tuple of lists-or-tuples-or ndarrays with different lengths or shapes) is deprecated. If you meant to do this, you must specify 'dtype=object' when creating the ndarray.\n",
      "  return np.array(s2)\n"
     ]
    },
    {
     "name": "stdout",
     "output_type": "stream",
     "text": [
      "Completed eps=6.0, rep=11.\n"
     ]
    },
    {
     "name": "stderr",
     "output_type": "stream",
     "text": [
      "/Users/Kristen.Grabarz/miniconda3/lib/python3.8/site-packages/diffprivlib/models/logistic_regression.py:221: PrivacyLeakWarning: Data norm has not been specified and will be calculated on the data provided.  This will result in additional privacy leakage. To ensure differential privacy and no additional privacy leakage, specify `data_norm` at initialisation.\n",
      "  warnings.warn(\"Data norm has not been specified and will be calculated on the data provided.  This will \"\n",
      "/Users/Kristen.Grabarz/miniconda3/lib/python3.8/site-packages/diffprivlib/models/logistic_regression.py:394: ConvergenceWarning: lbfgs failed to converge. Increase the number of iterations.\n",
      "  warnings.warn(\"lbfgs failed to converge. Increase the number of iterations.\", ConvergenceWarning)\n",
      "/Users/Kristen.Grabarz/Documents/Classes/Fall 2021/AC297r/smartnoise-sdk/synth/snsynth/mwem.py:116: SettingWithCopyWarning: \n",
      "A value is trying to be set on a copy of a slice from a DataFrame.\n",
      "Try using .loc[row_indexer,col_indexer] = value instead\n",
      "\n",
      "See the caveats in the documentation: https://pandas.pydata.org/pandas-docs/stable/user_guide/indexing.html#returning-a-view-versus-a-copy\n",
      "  data[col] = pd.to_numeric(data[col], errors=\"ignore\")\n",
      "/Users/Kristen.Grabarz/Documents/Classes/Fall 2021/AC297r/smartnoise-sdk/synth/snsynth/mwem.py:530: VisibleDeprecationWarning: Creating an ndarray from ragged nested sequences (which is a list-or-tuple of lists-or-tuples-or ndarrays with different lengths or shapes) is deprecated. If you meant to do this, you must specify 'dtype=object' when creating the ndarray.\n",
      "  return np.array(s2)\n"
     ]
    },
    {
     "name": "stdout",
     "output_type": "stream",
     "text": [
      "Completed eps=6.0, rep=12.\n"
     ]
    },
    {
     "name": "stderr",
     "output_type": "stream",
     "text": [
      "/Users/Kristen.Grabarz/miniconda3/lib/python3.8/site-packages/diffprivlib/models/logistic_regression.py:221: PrivacyLeakWarning: Data norm has not been specified and will be calculated on the data provided.  This will result in additional privacy leakage. To ensure differential privacy and no additional privacy leakage, specify `data_norm` at initialisation.\n",
      "  warnings.warn(\"Data norm has not been specified and will be calculated on the data provided.  This will \"\n",
      "/Users/Kristen.Grabarz/miniconda3/lib/python3.8/site-packages/diffprivlib/models/logistic_regression.py:394: ConvergenceWarning: lbfgs failed to converge. Increase the number of iterations.\n",
      "  warnings.warn(\"lbfgs failed to converge. Increase the number of iterations.\", ConvergenceWarning)\n",
      "/Users/Kristen.Grabarz/Documents/Classes/Fall 2021/AC297r/smartnoise-sdk/synth/snsynth/mwem.py:116: SettingWithCopyWarning: \n",
      "A value is trying to be set on a copy of a slice from a DataFrame.\n",
      "Try using .loc[row_indexer,col_indexer] = value instead\n",
      "\n",
      "See the caveats in the documentation: https://pandas.pydata.org/pandas-docs/stable/user_guide/indexing.html#returning-a-view-versus-a-copy\n",
      "  data[col] = pd.to_numeric(data[col], errors=\"ignore\")\n",
      "/Users/Kristen.Grabarz/Documents/Classes/Fall 2021/AC297r/smartnoise-sdk/synth/snsynth/mwem.py:530: VisibleDeprecationWarning: Creating an ndarray from ragged nested sequences (which is a list-or-tuple of lists-or-tuples-or ndarrays with different lengths or shapes) is deprecated. If you meant to do this, you must specify 'dtype=object' when creating the ndarray.\n",
      "  return np.array(s2)\n"
     ]
    },
    {
     "name": "stdout",
     "output_type": "stream",
     "text": [
      "Completed eps=6.0, rep=13.\n"
     ]
    },
    {
     "name": "stderr",
     "output_type": "stream",
     "text": [
      "/Users/Kristen.Grabarz/miniconda3/lib/python3.8/site-packages/diffprivlib/models/logistic_regression.py:221: PrivacyLeakWarning: Data norm has not been specified and will be calculated on the data provided.  This will result in additional privacy leakage. To ensure differential privacy and no additional privacy leakage, specify `data_norm` at initialisation.\n",
      "  warnings.warn(\"Data norm has not been specified and will be calculated on the data provided.  This will \"\n",
      "/Users/Kristen.Grabarz/miniconda3/lib/python3.8/site-packages/diffprivlib/models/logistic_regression.py:394: ConvergenceWarning: lbfgs failed to converge. Increase the number of iterations.\n",
      "  warnings.warn(\"lbfgs failed to converge. Increase the number of iterations.\", ConvergenceWarning)\n",
      "/Users/Kristen.Grabarz/Documents/Classes/Fall 2021/AC297r/smartnoise-sdk/synth/snsynth/mwem.py:116: SettingWithCopyWarning: \n",
      "A value is trying to be set on a copy of a slice from a DataFrame.\n",
      "Try using .loc[row_indexer,col_indexer] = value instead\n",
      "\n",
      "See the caveats in the documentation: https://pandas.pydata.org/pandas-docs/stable/user_guide/indexing.html#returning-a-view-versus-a-copy\n",
      "  data[col] = pd.to_numeric(data[col], errors=\"ignore\")\n",
      "/Users/Kristen.Grabarz/Documents/Classes/Fall 2021/AC297r/smartnoise-sdk/synth/snsynth/mwem.py:530: VisibleDeprecationWarning: Creating an ndarray from ragged nested sequences (which is a list-or-tuple of lists-or-tuples-or ndarrays with different lengths or shapes) is deprecated. If you meant to do this, you must specify 'dtype=object' when creating the ndarray.\n",
      "  return np.array(s2)\n"
     ]
    },
    {
     "name": "stdout",
     "output_type": "stream",
     "text": [
      "Completed eps=6.0, rep=14.\n"
     ]
    },
    {
     "name": "stderr",
     "output_type": "stream",
     "text": [
      "/Users/Kristen.Grabarz/miniconda3/lib/python3.8/site-packages/diffprivlib/models/logistic_regression.py:221: PrivacyLeakWarning: Data norm has not been specified and will be calculated on the data provided.  This will result in additional privacy leakage. To ensure differential privacy and no additional privacy leakage, specify `data_norm` at initialisation.\n",
      "  warnings.warn(\"Data norm has not been specified and will be calculated on the data provided.  This will \"\n",
      "/Users/Kristen.Grabarz/miniconda3/lib/python3.8/site-packages/diffprivlib/models/logistic_regression.py:394: ConvergenceWarning: lbfgs failed to converge. Increase the number of iterations.\n",
      "  warnings.warn(\"lbfgs failed to converge. Increase the number of iterations.\", ConvergenceWarning)\n",
      "/Users/Kristen.Grabarz/Documents/Classes/Fall 2021/AC297r/smartnoise-sdk/synth/snsynth/mwem.py:116: SettingWithCopyWarning: \n",
      "A value is trying to be set on a copy of a slice from a DataFrame.\n",
      "Try using .loc[row_indexer,col_indexer] = value instead\n",
      "\n",
      "See the caveats in the documentation: https://pandas.pydata.org/pandas-docs/stable/user_guide/indexing.html#returning-a-view-versus-a-copy\n",
      "  data[col] = pd.to_numeric(data[col], errors=\"ignore\")\n",
      "/Users/Kristen.Grabarz/Documents/Classes/Fall 2021/AC297r/smartnoise-sdk/synth/snsynth/mwem.py:530: VisibleDeprecationWarning: Creating an ndarray from ragged nested sequences (which is a list-or-tuple of lists-or-tuples-or ndarrays with different lengths or shapes) is deprecated. If you meant to do this, you must specify 'dtype=object' when creating the ndarray.\n",
      "  return np.array(s2)\n"
     ]
    },
    {
     "name": "stdout",
     "output_type": "stream",
     "text": [
      "Completed eps=6.0, rep=15.\n"
     ]
    },
    {
     "name": "stderr",
     "output_type": "stream",
     "text": [
      "/Users/Kristen.Grabarz/miniconda3/lib/python3.8/site-packages/diffprivlib/models/logistic_regression.py:221: PrivacyLeakWarning: Data norm has not been specified and will be calculated on the data provided.  This will result in additional privacy leakage. To ensure differential privacy and no additional privacy leakage, specify `data_norm` at initialisation.\n",
      "  warnings.warn(\"Data norm has not been specified and will be calculated on the data provided.  This will \"\n",
      "/Users/Kristen.Grabarz/miniconda3/lib/python3.8/site-packages/diffprivlib/models/logistic_regression.py:394: ConvergenceWarning: lbfgs failed to converge. Increase the number of iterations.\n",
      "  warnings.warn(\"lbfgs failed to converge. Increase the number of iterations.\", ConvergenceWarning)\n",
      "/Users/Kristen.Grabarz/Documents/Classes/Fall 2021/AC297r/smartnoise-sdk/synth/snsynth/mwem.py:116: SettingWithCopyWarning: \n",
      "A value is trying to be set on a copy of a slice from a DataFrame.\n",
      "Try using .loc[row_indexer,col_indexer] = value instead\n",
      "\n",
      "See the caveats in the documentation: https://pandas.pydata.org/pandas-docs/stable/user_guide/indexing.html#returning-a-view-versus-a-copy\n",
      "  data[col] = pd.to_numeric(data[col], errors=\"ignore\")\n",
      "/Users/Kristen.Grabarz/Documents/Classes/Fall 2021/AC297r/smartnoise-sdk/synth/snsynth/mwem.py:530: VisibleDeprecationWarning: Creating an ndarray from ragged nested sequences (which is a list-or-tuple of lists-or-tuples-or ndarrays with different lengths or shapes) is deprecated. If you meant to do this, you must specify 'dtype=object' when creating the ndarray.\n",
      "  return np.array(s2)\n"
     ]
    },
    {
     "name": "stdout",
     "output_type": "stream",
     "text": [
      "Completed eps=7.0, rep=1.\n"
     ]
    },
    {
     "name": "stderr",
     "output_type": "stream",
     "text": [
      "/Users/Kristen.Grabarz/miniconda3/lib/python3.8/site-packages/diffprivlib/models/logistic_regression.py:221: PrivacyLeakWarning: Data norm has not been specified and will be calculated on the data provided.  This will result in additional privacy leakage. To ensure differential privacy and no additional privacy leakage, specify `data_norm` at initialisation.\n",
      "  warnings.warn(\"Data norm has not been specified and will be calculated on the data provided.  This will \"\n",
      "/Users/Kristen.Grabarz/Documents/Classes/Fall 2021/AC297r/smartnoise-sdk/synth/snsynth/mwem.py:116: SettingWithCopyWarning: \n",
      "A value is trying to be set on a copy of a slice from a DataFrame.\n",
      "Try using .loc[row_indexer,col_indexer] = value instead\n",
      "\n",
      "See the caveats in the documentation: https://pandas.pydata.org/pandas-docs/stable/user_guide/indexing.html#returning-a-view-versus-a-copy\n",
      "  data[col] = pd.to_numeric(data[col], errors=\"ignore\")\n",
      "/Users/Kristen.Grabarz/Documents/Classes/Fall 2021/AC297r/smartnoise-sdk/synth/snsynth/mwem.py:530: VisibleDeprecationWarning: Creating an ndarray from ragged nested sequences (which is a list-or-tuple of lists-or-tuples-or ndarrays with different lengths or shapes) is deprecated. If you meant to do this, you must specify 'dtype=object' when creating the ndarray.\n",
      "  return np.array(s2)\n"
     ]
    },
    {
     "name": "stdout",
     "output_type": "stream",
     "text": [
      "Completed eps=7.0, rep=2.\n"
     ]
    },
    {
     "name": "stderr",
     "output_type": "stream",
     "text": [
      "/Users/Kristen.Grabarz/miniconda3/lib/python3.8/site-packages/diffprivlib/models/logistic_regression.py:221: PrivacyLeakWarning: Data norm has not been specified and will be calculated on the data provided.  This will result in additional privacy leakage. To ensure differential privacy and no additional privacy leakage, specify `data_norm` at initialisation.\n",
      "  warnings.warn(\"Data norm has not been specified and will be calculated on the data provided.  This will \"\n",
      "/Users/Kristen.Grabarz/miniconda3/lib/python3.8/site-packages/diffprivlib/models/logistic_regression.py:394: ConvergenceWarning: lbfgs failed to converge. Increase the number of iterations.\n",
      "  warnings.warn(\"lbfgs failed to converge. Increase the number of iterations.\", ConvergenceWarning)\n",
      "/Users/Kristen.Grabarz/Documents/Classes/Fall 2021/AC297r/smartnoise-sdk/synth/snsynth/mwem.py:116: SettingWithCopyWarning: \n",
      "A value is trying to be set on a copy of a slice from a DataFrame.\n",
      "Try using .loc[row_indexer,col_indexer] = value instead\n",
      "\n",
      "See the caveats in the documentation: https://pandas.pydata.org/pandas-docs/stable/user_guide/indexing.html#returning-a-view-versus-a-copy\n",
      "  data[col] = pd.to_numeric(data[col], errors=\"ignore\")\n",
      "/Users/Kristen.Grabarz/Documents/Classes/Fall 2021/AC297r/smartnoise-sdk/synth/snsynth/mwem.py:530: VisibleDeprecationWarning: Creating an ndarray from ragged nested sequences (which is a list-or-tuple of lists-or-tuples-or ndarrays with different lengths or shapes) is deprecated. If you meant to do this, you must specify 'dtype=object' when creating the ndarray.\n",
      "  return np.array(s2)\n"
     ]
    },
    {
     "name": "stdout",
     "output_type": "stream",
     "text": [
      "Completed eps=7.0, rep=3.\n"
     ]
    },
    {
     "name": "stderr",
     "output_type": "stream",
     "text": [
      "/Users/Kristen.Grabarz/miniconda3/lib/python3.8/site-packages/diffprivlib/models/logistic_regression.py:221: PrivacyLeakWarning: Data norm has not been specified and will be calculated on the data provided.  This will result in additional privacy leakage. To ensure differential privacy and no additional privacy leakage, specify `data_norm` at initialisation.\n",
      "  warnings.warn(\"Data norm has not been specified and will be calculated on the data provided.  This will \"\n",
      "/Users/Kristen.Grabarz/miniconda3/lib/python3.8/site-packages/diffprivlib/models/logistic_regression.py:394: ConvergenceWarning: lbfgs failed to converge. Increase the number of iterations.\n",
      "  warnings.warn(\"lbfgs failed to converge. Increase the number of iterations.\", ConvergenceWarning)\n",
      "/Users/Kristen.Grabarz/Documents/Classes/Fall 2021/AC297r/smartnoise-sdk/synth/snsynth/mwem.py:116: SettingWithCopyWarning: \n",
      "A value is trying to be set on a copy of a slice from a DataFrame.\n",
      "Try using .loc[row_indexer,col_indexer] = value instead\n",
      "\n",
      "See the caveats in the documentation: https://pandas.pydata.org/pandas-docs/stable/user_guide/indexing.html#returning-a-view-versus-a-copy\n",
      "  data[col] = pd.to_numeric(data[col], errors=\"ignore\")\n",
      "/Users/Kristen.Grabarz/Documents/Classes/Fall 2021/AC297r/smartnoise-sdk/synth/snsynth/mwem.py:530: VisibleDeprecationWarning: Creating an ndarray from ragged nested sequences (which is a list-or-tuple of lists-or-tuples-or ndarrays with different lengths or shapes) is deprecated. If you meant to do this, you must specify 'dtype=object' when creating the ndarray.\n",
      "  return np.array(s2)\n"
     ]
    },
    {
     "name": "stdout",
     "output_type": "stream",
     "text": [
      "Completed eps=7.0, rep=4.\n"
     ]
    },
    {
     "name": "stderr",
     "output_type": "stream",
     "text": [
      "/Users/Kristen.Grabarz/miniconda3/lib/python3.8/site-packages/diffprivlib/models/logistic_regression.py:221: PrivacyLeakWarning: Data norm has not been specified and will be calculated on the data provided.  This will result in additional privacy leakage. To ensure differential privacy and no additional privacy leakage, specify `data_norm` at initialisation.\n",
      "  warnings.warn(\"Data norm has not been specified and will be calculated on the data provided.  This will \"\n",
      "/Users/Kristen.Grabarz/miniconda3/lib/python3.8/site-packages/diffprivlib/models/logistic_regression.py:394: ConvergenceWarning: lbfgs failed to converge. Increase the number of iterations.\n",
      "  warnings.warn(\"lbfgs failed to converge. Increase the number of iterations.\", ConvergenceWarning)\n",
      "/Users/Kristen.Grabarz/Documents/Classes/Fall 2021/AC297r/smartnoise-sdk/synth/snsynth/mwem.py:116: SettingWithCopyWarning: \n",
      "A value is trying to be set on a copy of a slice from a DataFrame.\n",
      "Try using .loc[row_indexer,col_indexer] = value instead\n",
      "\n",
      "See the caveats in the documentation: https://pandas.pydata.org/pandas-docs/stable/user_guide/indexing.html#returning-a-view-versus-a-copy\n",
      "  data[col] = pd.to_numeric(data[col], errors=\"ignore\")\n",
      "/Users/Kristen.Grabarz/Documents/Classes/Fall 2021/AC297r/smartnoise-sdk/synth/snsynth/mwem.py:530: VisibleDeprecationWarning: Creating an ndarray from ragged nested sequences (which is a list-or-tuple of lists-or-tuples-or ndarrays with different lengths or shapes) is deprecated. If you meant to do this, you must specify 'dtype=object' when creating the ndarray.\n",
      "  return np.array(s2)\n"
     ]
    },
    {
     "name": "stdout",
     "output_type": "stream",
     "text": [
      "Completed eps=7.0, rep=5.\n"
     ]
    },
    {
     "name": "stderr",
     "output_type": "stream",
     "text": [
      "/Users/Kristen.Grabarz/miniconda3/lib/python3.8/site-packages/diffprivlib/models/logistic_regression.py:221: PrivacyLeakWarning: Data norm has not been specified and will be calculated on the data provided.  This will result in additional privacy leakage. To ensure differential privacy and no additional privacy leakage, specify `data_norm` at initialisation.\n",
      "  warnings.warn(\"Data norm has not been specified and will be calculated on the data provided.  This will \"\n",
      "/Users/Kristen.Grabarz/miniconda3/lib/python3.8/site-packages/diffprivlib/models/logistic_regression.py:394: ConvergenceWarning: lbfgs failed to converge. Increase the number of iterations.\n",
      "  warnings.warn(\"lbfgs failed to converge. Increase the number of iterations.\", ConvergenceWarning)\n",
      "/Users/Kristen.Grabarz/Documents/Classes/Fall 2021/AC297r/smartnoise-sdk/synth/snsynth/mwem.py:116: SettingWithCopyWarning: \n",
      "A value is trying to be set on a copy of a slice from a DataFrame.\n",
      "Try using .loc[row_indexer,col_indexer] = value instead\n",
      "\n",
      "See the caveats in the documentation: https://pandas.pydata.org/pandas-docs/stable/user_guide/indexing.html#returning-a-view-versus-a-copy\n",
      "  data[col] = pd.to_numeric(data[col], errors=\"ignore\")\n",
      "/Users/Kristen.Grabarz/Documents/Classes/Fall 2021/AC297r/smartnoise-sdk/synth/snsynth/mwem.py:530: VisibleDeprecationWarning: Creating an ndarray from ragged nested sequences (which is a list-or-tuple of lists-or-tuples-or ndarrays with different lengths or shapes) is deprecated. If you meant to do this, you must specify 'dtype=object' when creating the ndarray.\n",
      "  return np.array(s2)\n"
     ]
    },
    {
     "name": "stdout",
     "output_type": "stream",
     "text": [
      "Completed eps=7.0, rep=6.\n"
     ]
    },
    {
     "name": "stderr",
     "output_type": "stream",
     "text": [
      "/Users/Kristen.Grabarz/miniconda3/lib/python3.8/site-packages/diffprivlib/models/logistic_regression.py:221: PrivacyLeakWarning: Data norm has not been specified and will be calculated on the data provided.  This will result in additional privacy leakage. To ensure differential privacy and no additional privacy leakage, specify `data_norm` at initialisation.\n",
      "  warnings.warn(\"Data norm has not been specified and will be calculated on the data provided.  This will \"\n",
      "/Users/Kristen.Grabarz/miniconda3/lib/python3.8/site-packages/diffprivlib/models/logistic_regression.py:394: ConvergenceWarning: lbfgs failed to converge. Increase the number of iterations.\n",
      "  warnings.warn(\"lbfgs failed to converge. Increase the number of iterations.\", ConvergenceWarning)\n",
      "/Users/Kristen.Grabarz/Documents/Classes/Fall 2021/AC297r/smartnoise-sdk/synth/snsynth/mwem.py:116: SettingWithCopyWarning: \n",
      "A value is trying to be set on a copy of a slice from a DataFrame.\n",
      "Try using .loc[row_indexer,col_indexer] = value instead\n",
      "\n",
      "See the caveats in the documentation: https://pandas.pydata.org/pandas-docs/stable/user_guide/indexing.html#returning-a-view-versus-a-copy\n",
      "  data[col] = pd.to_numeric(data[col], errors=\"ignore\")\n",
      "/Users/Kristen.Grabarz/Documents/Classes/Fall 2021/AC297r/smartnoise-sdk/synth/snsynth/mwem.py:530: VisibleDeprecationWarning: Creating an ndarray from ragged nested sequences (which is a list-or-tuple of lists-or-tuples-or ndarrays with different lengths or shapes) is deprecated. If you meant to do this, you must specify 'dtype=object' when creating the ndarray.\n",
      "  return np.array(s2)\n"
     ]
    },
    {
     "name": "stdout",
     "output_type": "stream",
     "text": [
      "Completed eps=7.0, rep=7.\n"
     ]
    },
    {
     "name": "stderr",
     "output_type": "stream",
     "text": [
      "/Users/Kristen.Grabarz/miniconda3/lib/python3.8/site-packages/diffprivlib/models/logistic_regression.py:221: PrivacyLeakWarning: Data norm has not been specified and will be calculated on the data provided.  This will result in additional privacy leakage. To ensure differential privacy and no additional privacy leakage, specify `data_norm` at initialisation.\n",
      "  warnings.warn(\"Data norm has not been specified and will be calculated on the data provided.  This will \"\n",
      "/Users/Kristen.Grabarz/miniconda3/lib/python3.8/site-packages/diffprivlib/models/logistic_regression.py:394: ConvergenceWarning: lbfgs failed to converge. Increase the number of iterations.\n",
      "  warnings.warn(\"lbfgs failed to converge. Increase the number of iterations.\", ConvergenceWarning)\n",
      "/Users/Kristen.Grabarz/Documents/Classes/Fall 2021/AC297r/smartnoise-sdk/synth/snsynth/mwem.py:116: SettingWithCopyWarning: \n",
      "A value is trying to be set on a copy of a slice from a DataFrame.\n",
      "Try using .loc[row_indexer,col_indexer] = value instead\n",
      "\n",
      "See the caveats in the documentation: https://pandas.pydata.org/pandas-docs/stable/user_guide/indexing.html#returning-a-view-versus-a-copy\n",
      "  data[col] = pd.to_numeric(data[col], errors=\"ignore\")\n",
      "/Users/Kristen.Grabarz/Documents/Classes/Fall 2021/AC297r/smartnoise-sdk/synth/snsynth/mwem.py:530: VisibleDeprecationWarning: Creating an ndarray from ragged nested sequences (which is a list-or-tuple of lists-or-tuples-or ndarrays with different lengths or shapes) is deprecated. If you meant to do this, you must specify 'dtype=object' when creating the ndarray.\n",
      "  return np.array(s2)\n"
     ]
    },
    {
     "name": "stdout",
     "output_type": "stream",
     "text": [
      "Completed eps=7.0, rep=8.\n"
     ]
    },
    {
     "name": "stderr",
     "output_type": "stream",
     "text": [
      "/Users/Kristen.Grabarz/miniconda3/lib/python3.8/site-packages/diffprivlib/models/logistic_regression.py:221: PrivacyLeakWarning: Data norm has not been specified and will be calculated on the data provided.  This will result in additional privacy leakage. To ensure differential privacy and no additional privacy leakage, specify `data_norm` at initialisation.\n",
      "  warnings.warn(\"Data norm has not been specified and will be calculated on the data provided.  This will \"\n",
      "/Users/Kristen.Grabarz/miniconda3/lib/python3.8/site-packages/diffprivlib/models/logistic_regression.py:394: ConvergenceWarning: lbfgs failed to converge. Increase the number of iterations.\n",
      "  warnings.warn(\"lbfgs failed to converge. Increase the number of iterations.\", ConvergenceWarning)\n",
      "/Users/Kristen.Grabarz/Documents/Classes/Fall 2021/AC297r/smartnoise-sdk/synth/snsynth/mwem.py:116: SettingWithCopyWarning: \n",
      "A value is trying to be set on a copy of a slice from a DataFrame.\n",
      "Try using .loc[row_indexer,col_indexer] = value instead\n",
      "\n",
      "See the caveats in the documentation: https://pandas.pydata.org/pandas-docs/stable/user_guide/indexing.html#returning-a-view-versus-a-copy\n",
      "  data[col] = pd.to_numeric(data[col], errors=\"ignore\")\n",
      "/Users/Kristen.Grabarz/Documents/Classes/Fall 2021/AC297r/smartnoise-sdk/synth/snsynth/mwem.py:530: VisibleDeprecationWarning: Creating an ndarray from ragged nested sequences (which is a list-or-tuple of lists-or-tuples-or ndarrays with different lengths or shapes) is deprecated. If you meant to do this, you must specify 'dtype=object' when creating the ndarray.\n",
      "  return np.array(s2)\n"
     ]
    },
    {
     "name": "stdout",
     "output_type": "stream",
     "text": [
      "Completed eps=7.0, rep=9.\n"
     ]
    },
    {
     "name": "stderr",
     "output_type": "stream",
     "text": [
      "/Users/Kristen.Grabarz/miniconda3/lib/python3.8/site-packages/diffprivlib/models/logistic_regression.py:221: PrivacyLeakWarning: Data norm has not been specified and will be calculated on the data provided.  This will result in additional privacy leakage. To ensure differential privacy and no additional privacy leakage, specify `data_norm` at initialisation.\n",
      "  warnings.warn(\"Data norm has not been specified and will be calculated on the data provided.  This will \"\n",
      "/Users/Kristen.Grabarz/miniconda3/lib/python3.8/site-packages/diffprivlib/models/logistic_regression.py:394: ConvergenceWarning: lbfgs failed to converge. Increase the number of iterations.\n",
      "  warnings.warn(\"lbfgs failed to converge. Increase the number of iterations.\", ConvergenceWarning)\n",
      "/Users/Kristen.Grabarz/Documents/Classes/Fall 2021/AC297r/smartnoise-sdk/synth/snsynth/mwem.py:116: SettingWithCopyWarning: \n",
      "A value is trying to be set on a copy of a slice from a DataFrame.\n",
      "Try using .loc[row_indexer,col_indexer] = value instead\n",
      "\n",
      "See the caveats in the documentation: https://pandas.pydata.org/pandas-docs/stable/user_guide/indexing.html#returning-a-view-versus-a-copy\n",
      "  data[col] = pd.to_numeric(data[col], errors=\"ignore\")\n",
      "/Users/Kristen.Grabarz/Documents/Classes/Fall 2021/AC297r/smartnoise-sdk/synth/snsynth/mwem.py:530: VisibleDeprecationWarning: Creating an ndarray from ragged nested sequences (which is a list-or-tuple of lists-or-tuples-or ndarrays with different lengths or shapes) is deprecated. If you meant to do this, you must specify 'dtype=object' when creating the ndarray.\n",
      "  return np.array(s2)\n"
     ]
    },
    {
     "name": "stdout",
     "output_type": "stream",
     "text": [
      "Completed eps=7.0, rep=10.\n"
     ]
    },
    {
     "name": "stderr",
     "output_type": "stream",
     "text": [
      "/Users/Kristen.Grabarz/miniconda3/lib/python3.8/site-packages/diffprivlib/models/logistic_regression.py:221: PrivacyLeakWarning: Data norm has not been specified and will be calculated on the data provided.  This will result in additional privacy leakage. To ensure differential privacy and no additional privacy leakage, specify `data_norm` at initialisation.\n",
      "  warnings.warn(\"Data norm has not been specified and will be calculated on the data provided.  This will \"\n",
      "/Users/Kristen.Grabarz/miniconda3/lib/python3.8/site-packages/diffprivlib/models/logistic_regression.py:394: ConvergenceWarning: lbfgs failed to converge. Increase the number of iterations.\n",
      "  warnings.warn(\"lbfgs failed to converge. Increase the number of iterations.\", ConvergenceWarning)\n",
      "/Users/Kristen.Grabarz/Documents/Classes/Fall 2021/AC297r/smartnoise-sdk/synth/snsynth/mwem.py:116: SettingWithCopyWarning: \n",
      "A value is trying to be set on a copy of a slice from a DataFrame.\n",
      "Try using .loc[row_indexer,col_indexer] = value instead\n",
      "\n",
      "See the caveats in the documentation: https://pandas.pydata.org/pandas-docs/stable/user_guide/indexing.html#returning-a-view-versus-a-copy\n",
      "  data[col] = pd.to_numeric(data[col], errors=\"ignore\")\n",
      "/Users/Kristen.Grabarz/Documents/Classes/Fall 2021/AC297r/smartnoise-sdk/synth/snsynth/mwem.py:530: VisibleDeprecationWarning: Creating an ndarray from ragged nested sequences (which is a list-or-tuple of lists-or-tuples-or ndarrays with different lengths or shapes) is deprecated. If you meant to do this, you must specify 'dtype=object' when creating the ndarray.\n",
      "  return np.array(s2)\n"
     ]
    },
    {
     "name": "stdout",
     "output_type": "stream",
     "text": [
      "Completed eps=7.0, rep=11.\n"
     ]
    },
    {
     "name": "stderr",
     "output_type": "stream",
     "text": [
      "/Users/Kristen.Grabarz/miniconda3/lib/python3.8/site-packages/diffprivlib/models/logistic_regression.py:221: PrivacyLeakWarning: Data norm has not been specified and will be calculated on the data provided.  This will result in additional privacy leakage. To ensure differential privacy and no additional privacy leakage, specify `data_norm` at initialisation.\n",
      "  warnings.warn(\"Data norm has not been specified and will be calculated on the data provided.  This will \"\n",
      "/Users/Kristen.Grabarz/miniconda3/lib/python3.8/site-packages/diffprivlib/models/logistic_regression.py:394: ConvergenceWarning: lbfgs failed to converge. Increase the number of iterations.\n",
      "  warnings.warn(\"lbfgs failed to converge. Increase the number of iterations.\", ConvergenceWarning)\n",
      "/Users/Kristen.Grabarz/Documents/Classes/Fall 2021/AC297r/smartnoise-sdk/synth/snsynth/mwem.py:116: SettingWithCopyWarning: \n",
      "A value is trying to be set on a copy of a slice from a DataFrame.\n",
      "Try using .loc[row_indexer,col_indexer] = value instead\n",
      "\n",
      "See the caveats in the documentation: https://pandas.pydata.org/pandas-docs/stable/user_guide/indexing.html#returning-a-view-versus-a-copy\n",
      "  data[col] = pd.to_numeric(data[col], errors=\"ignore\")\n",
      "/Users/Kristen.Grabarz/Documents/Classes/Fall 2021/AC297r/smartnoise-sdk/synth/snsynth/mwem.py:530: VisibleDeprecationWarning: Creating an ndarray from ragged nested sequences (which is a list-or-tuple of lists-or-tuples-or ndarrays with different lengths or shapes) is deprecated. If you meant to do this, you must specify 'dtype=object' when creating the ndarray.\n",
      "  return np.array(s2)\n"
     ]
    },
    {
     "name": "stdout",
     "output_type": "stream",
     "text": [
      "Completed eps=7.0, rep=12.\n"
     ]
    },
    {
     "name": "stderr",
     "output_type": "stream",
     "text": [
      "/Users/Kristen.Grabarz/miniconda3/lib/python3.8/site-packages/diffprivlib/models/logistic_regression.py:221: PrivacyLeakWarning: Data norm has not been specified and will be calculated on the data provided.  This will result in additional privacy leakage. To ensure differential privacy and no additional privacy leakage, specify `data_norm` at initialisation.\n",
      "  warnings.warn(\"Data norm has not been specified and will be calculated on the data provided.  This will \"\n",
      "/Users/Kristen.Grabarz/miniconda3/lib/python3.8/site-packages/diffprivlib/models/logistic_regression.py:394: ConvergenceWarning: lbfgs failed to converge. Increase the number of iterations.\n",
      "  warnings.warn(\"lbfgs failed to converge. Increase the number of iterations.\", ConvergenceWarning)\n",
      "/Users/Kristen.Grabarz/Documents/Classes/Fall 2021/AC297r/smartnoise-sdk/synth/snsynth/mwem.py:116: SettingWithCopyWarning: \n",
      "A value is trying to be set on a copy of a slice from a DataFrame.\n",
      "Try using .loc[row_indexer,col_indexer] = value instead\n",
      "\n",
      "See the caveats in the documentation: https://pandas.pydata.org/pandas-docs/stable/user_guide/indexing.html#returning-a-view-versus-a-copy\n",
      "  data[col] = pd.to_numeric(data[col], errors=\"ignore\")\n",
      "/Users/Kristen.Grabarz/Documents/Classes/Fall 2021/AC297r/smartnoise-sdk/synth/snsynth/mwem.py:530: VisibleDeprecationWarning: Creating an ndarray from ragged nested sequences (which is a list-or-tuple of lists-or-tuples-or ndarrays with different lengths or shapes) is deprecated. If you meant to do this, you must specify 'dtype=object' when creating the ndarray.\n",
      "  return np.array(s2)\n"
     ]
    },
    {
     "name": "stdout",
     "output_type": "stream",
     "text": [
      "Completed eps=7.0, rep=13.\n"
     ]
    },
    {
     "name": "stderr",
     "output_type": "stream",
     "text": [
      "/Users/Kristen.Grabarz/miniconda3/lib/python3.8/site-packages/diffprivlib/models/logistic_regression.py:221: PrivacyLeakWarning: Data norm has not been specified and will be calculated on the data provided.  This will result in additional privacy leakage. To ensure differential privacy and no additional privacy leakage, specify `data_norm` at initialisation.\n",
      "  warnings.warn(\"Data norm has not been specified and will be calculated on the data provided.  This will \"\n",
      "/Users/Kristen.Grabarz/miniconda3/lib/python3.8/site-packages/diffprivlib/models/logistic_regression.py:394: ConvergenceWarning: lbfgs failed to converge. Increase the number of iterations.\n",
      "  warnings.warn(\"lbfgs failed to converge. Increase the number of iterations.\", ConvergenceWarning)\n",
      "/Users/Kristen.Grabarz/Documents/Classes/Fall 2021/AC297r/smartnoise-sdk/synth/snsynth/mwem.py:116: SettingWithCopyWarning: \n",
      "A value is trying to be set on a copy of a slice from a DataFrame.\n",
      "Try using .loc[row_indexer,col_indexer] = value instead\n",
      "\n",
      "See the caveats in the documentation: https://pandas.pydata.org/pandas-docs/stable/user_guide/indexing.html#returning-a-view-versus-a-copy\n",
      "  data[col] = pd.to_numeric(data[col], errors=\"ignore\")\n",
      "/Users/Kristen.Grabarz/Documents/Classes/Fall 2021/AC297r/smartnoise-sdk/synth/snsynth/mwem.py:530: VisibleDeprecationWarning: Creating an ndarray from ragged nested sequences (which is a list-or-tuple of lists-or-tuples-or ndarrays with different lengths or shapes) is deprecated. If you meant to do this, you must specify 'dtype=object' when creating the ndarray.\n",
      "  return np.array(s2)\n"
     ]
    },
    {
     "name": "stdout",
     "output_type": "stream",
     "text": [
      "Completed eps=7.0, rep=14.\n"
     ]
    },
    {
     "name": "stderr",
     "output_type": "stream",
     "text": [
      "/Users/Kristen.Grabarz/miniconda3/lib/python3.8/site-packages/diffprivlib/models/logistic_regression.py:221: PrivacyLeakWarning: Data norm has not been specified and will be calculated on the data provided.  This will result in additional privacy leakage. To ensure differential privacy and no additional privacy leakage, specify `data_norm` at initialisation.\n",
      "  warnings.warn(\"Data norm has not been specified and will be calculated on the data provided.  This will \"\n",
      "/Users/Kristen.Grabarz/miniconda3/lib/python3.8/site-packages/diffprivlib/models/logistic_regression.py:394: ConvergenceWarning: lbfgs failed to converge. Increase the number of iterations.\n",
      "  warnings.warn(\"lbfgs failed to converge. Increase the number of iterations.\", ConvergenceWarning)\n",
      "/Users/Kristen.Grabarz/Documents/Classes/Fall 2021/AC297r/smartnoise-sdk/synth/snsynth/mwem.py:116: SettingWithCopyWarning: \n",
      "A value is trying to be set on a copy of a slice from a DataFrame.\n",
      "Try using .loc[row_indexer,col_indexer] = value instead\n",
      "\n",
      "See the caveats in the documentation: https://pandas.pydata.org/pandas-docs/stable/user_guide/indexing.html#returning-a-view-versus-a-copy\n",
      "  data[col] = pd.to_numeric(data[col], errors=\"ignore\")\n",
      "/Users/Kristen.Grabarz/Documents/Classes/Fall 2021/AC297r/smartnoise-sdk/synth/snsynth/mwem.py:530: VisibleDeprecationWarning: Creating an ndarray from ragged nested sequences (which is a list-or-tuple of lists-or-tuples-or ndarrays with different lengths or shapes) is deprecated. If you meant to do this, you must specify 'dtype=object' when creating the ndarray.\n",
      "  return np.array(s2)\n"
     ]
    },
    {
     "name": "stdout",
     "output_type": "stream",
     "text": [
      "Completed eps=7.0, rep=15.\n"
     ]
    },
    {
     "name": "stderr",
     "output_type": "stream",
     "text": [
      "/Users/Kristen.Grabarz/miniconda3/lib/python3.8/site-packages/diffprivlib/models/logistic_regression.py:221: PrivacyLeakWarning: Data norm has not been specified and will be calculated on the data provided.  This will result in additional privacy leakage. To ensure differential privacy and no additional privacy leakage, specify `data_norm` at initialisation.\n",
      "  warnings.warn(\"Data norm has not been specified and will be calculated on the data provided.  This will \"\n",
      "/Users/Kristen.Grabarz/miniconda3/lib/python3.8/site-packages/diffprivlib/models/logistic_regression.py:394: ConvergenceWarning: lbfgs failed to converge. Increase the number of iterations.\n",
      "  warnings.warn(\"lbfgs failed to converge. Increase the number of iterations.\", ConvergenceWarning)\n",
      "/Users/Kristen.Grabarz/Documents/Classes/Fall 2021/AC297r/smartnoise-sdk/synth/snsynth/mwem.py:116: SettingWithCopyWarning: \n",
      "A value is trying to be set on a copy of a slice from a DataFrame.\n",
      "Try using .loc[row_indexer,col_indexer] = value instead\n",
      "\n",
      "See the caveats in the documentation: https://pandas.pydata.org/pandas-docs/stable/user_guide/indexing.html#returning-a-view-versus-a-copy\n",
      "  data[col] = pd.to_numeric(data[col], errors=\"ignore\")\n",
      "/Users/Kristen.Grabarz/Documents/Classes/Fall 2021/AC297r/smartnoise-sdk/synth/snsynth/mwem.py:530: VisibleDeprecationWarning: Creating an ndarray from ragged nested sequences (which is a list-or-tuple of lists-or-tuples-or ndarrays with different lengths or shapes) is deprecated. If you meant to do this, you must specify 'dtype=object' when creating the ndarray.\n",
      "  return np.array(s2)\n"
     ]
    },
    {
     "name": "stdout",
     "output_type": "stream",
     "text": [
      "Completed eps=8.0, rep=1.\n"
     ]
    },
    {
     "name": "stderr",
     "output_type": "stream",
     "text": [
      "/Users/Kristen.Grabarz/miniconda3/lib/python3.8/site-packages/diffprivlib/models/logistic_regression.py:221: PrivacyLeakWarning: Data norm has not been specified and will be calculated on the data provided.  This will result in additional privacy leakage. To ensure differential privacy and no additional privacy leakage, specify `data_norm` at initialisation.\n",
      "  warnings.warn(\"Data norm has not been specified and will be calculated on the data provided.  This will \"\n",
      "/Users/Kristen.Grabarz/miniconda3/lib/python3.8/site-packages/diffprivlib/models/logistic_regression.py:394: ConvergenceWarning: lbfgs failed to converge. Increase the number of iterations.\n",
      "  warnings.warn(\"lbfgs failed to converge. Increase the number of iterations.\", ConvergenceWarning)\n",
      "/Users/Kristen.Grabarz/Documents/Classes/Fall 2021/AC297r/smartnoise-sdk/synth/snsynth/mwem.py:116: SettingWithCopyWarning: \n",
      "A value is trying to be set on a copy of a slice from a DataFrame.\n",
      "Try using .loc[row_indexer,col_indexer] = value instead\n",
      "\n",
      "See the caveats in the documentation: https://pandas.pydata.org/pandas-docs/stable/user_guide/indexing.html#returning-a-view-versus-a-copy\n",
      "  data[col] = pd.to_numeric(data[col], errors=\"ignore\")\n",
      "/Users/Kristen.Grabarz/Documents/Classes/Fall 2021/AC297r/smartnoise-sdk/synth/snsynth/mwem.py:530: VisibleDeprecationWarning: Creating an ndarray from ragged nested sequences (which is a list-or-tuple of lists-or-tuples-or ndarrays with different lengths or shapes) is deprecated. If you meant to do this, you must specify 'dtype=object' when creating the ndarray.\n",
      "  return np.array(s2)\n"
     ]
    },
    {
     "name": "stdout",
     "output_type": "stream",
     "text": [
      "Completed eps=8.0, rep=2.\n"
     ]
    },
    {
     "name": "stderr",
     "output_type": "stream",
     "text": [
      "/Users/Kristen.Grabarz/miniconda3/lib/python3.8/site-packages/diffprivlib/models/logistic_regression.py:221: PrivacyLeakWarning: Data norm has not been specified and will be calculated on the data provided.  This will result in additional privacy leakage. To ensure differential privacy and no additional privacy leakage, specify `data_norm` at initialisation.\n",
      "  warnings.warn(\"Data norm has not been specified and will be calculated on the data provided.  This will \"\n",
      "/Users/Kristen.Grabarz/miniconda3/lib/python3.8/site-packages/diffprivlib/models/logistic_regression.py:394: ConvergenceWarning: lbfgs failed to converge. Increase the number of iterations.\n",
      "  warnings.warn(\"lbfgs failed to converge. Increase the number of iterations.\", ConvergenceWarning)\n",
      "/Users/Kristen.Grabarz/Documents/Classes/Fall 2021/AC297r/smartnoise-sdk/synth/snsynth/mwem.py:116: SettingWithCopyWarning: \n",
      "A value is trying to be set on a copy of a slice from a DataFrame.\n",
      "Try using .loc[row_indexer,col_indexer] = value instead\n",
      "\n",
      "See the caveats in the documentation: https://pandas.pydata.org/pandas-docs/stable/user_guide/indexing.html#returning-a-view-versus-a-copy\n",
      "  data[col] = pd.to_numeric(data[col], errors=\"ignore\")\n",
      "/Users/Kristen.Grabarz/Documents/Classes/Fall 2021/AC297r/smartnoise-sdk/synth/snsynth/mwem.py:530: VisibleDeprecationWarning: Creating an ndarray from ragged nested sequences (which is a list-or-tuple of lists-or-tuples-or ndarrays with different lengths or shapes) is deprecated. If you meant to do this, you must specify 'dtype=object' when creating the ndarray.\n",
      "  return np.array(s2)\n"
     ]
    },
    {
     "name": "stdout",
     "output_type": "stream",
     "text": [
      "Completed eps=8.0, rep=3.\n"
     ]
    },
    {
     "name": "stderr",
     "output_type": "stream",
     "text": [
      "/Users/Kristen.Grabarz/miniconda3/lib/python3.8/site-packages/diffprivlib/models/logistic_regression.py:221: PrivacyLeakWarning: Data norm has not been specified and will be calculated on the data provided.  This will result in additional privacy leakage. To ensure differential privacy and no additional privacy leakage, specify `data_norm` at initialisation.\n",
      "  warnings.warn(\"Data norm has not been specified and will be calculated on the data provided.  This will \"\n",
      "/Users/Kristen.Grabarz/miniconda3/lib/python3.8/site-packages/diffprivlib/models/logistic_regression.py:394: ConvergenceWarning: lbfgs failed to converge. Increase the number of iterations.\n",
      "  warnings.warn(\"lbfgs failed to converge. Increase the number of iterations.\", ConvergenceWarning)\n",
      "/Users/Kristen.Grabarz/Documents/Classes/Fall 2021/AC297r/smartnoise-sdk/synth/snsynth/mwem.py:116: SettingWithCopyWarning: \n",
      "A value is trying to be set on a copy of a slice from a DataFrame.\n",
      "Try using .loc[row_indexer,col_indexer] = value instead\n",
      "\n",
      "See the caveats in the documentation: https://pandas.pydata.org/pandas-docs/stable/user_guide/indexing.html#returning-a-view-versus-a-copy\n",
      "  data[col] = pd.to_numeric(data[col], errors=\"ignore\")\n",
      "/Users/Kristen.Grabarz/Documents/Classes/Fall 2021/AC297r/smartnoise-sdk/synth/snsynth/mwem.py:530: VisibleDeprecationWarning: Creating an ndarray from ragged nested sequences (which is a list-or-tuple of lists-or-tuples-or ndarrays with different lengths or shapes) is deprecated. If you meant to do this, you must specify 'dtype=object' when creating the ndarray.\n",
      "  return np.array(s2)\n"
     ]
    },
    {
     "name": "stdout",
     "output_type": "stream",
     "text": [
      "Completed eps=8.0, rep=4.\n"
     ]
    },
    {
     "name": "stderr",
     "output_type": "stream",
     "text": [
      "/Users/Kristen.Grabarz/miniconda3/lib/python3.8/site-packages/diffprivlib/models/logistic_regression.py:221: PrivacyLeakWarning: Data norm has not been specified and will be calculated on the data provided.  This will result in additional privacy leakage. To ensure differential privacy and no additional privacy leakage, specify `data_norm` at initialisation.\n",
      "  warnings.warn(\"Data norm has not been specified and will be calculated on the data provided.  This will \"\n",
      "/Users/Kristen.Grabarz/miniconda3/lib/python3.8/site-packages/diffprivlib/models/logistic_regression.py:394: ConvergenceWarning: lbfgs failed to converge. Increase the number of iterations.\n",
      "  warnings.warn(\"lbfgs failed to converge. Increase the number of iterations.\", ConvergenceWarning)\n",
      "/Users/Kristen.Grabarz/Documents/Classes/Fall 2021/AC297r/smartnoise-sdk/synth/snsynth/mwem.py:116: SettingWithCopyWarning: \n",
      "A value is trying to be set on a copy of a slice from a DataFrame.\n",
      "Try using .loc[row_indexer,col_indexer] = value instead\n",
      "\n",
      "See the caveats in the documentation: https://pandas.pydata.org/pandas-docs/stable/user_guide/indexing.html#returning-a-view-versus-a-copy\n",
      "  data[col] = pd.to_numeric(data[col], errors=\"ignore\")\n",
      "/Users/Kristen.Grabarz/Documents/Classes/Fall 2021/AC297r/smartnoise-sdk/synth/snsynth/mwem.py:530: VisibleDeprecationWarning: Creating an ndarray from ragged nested sequences (which is a list-or-tuple of lists-or-tuples-or ndarrays with different lengths or shapes) is deprecated. If you meant to do this, you must specify 'dtype=object' when creating the ndarray.\n",
      "  return np.array(s2)\n"
     ]
    },
    {
     "name": "stdout",
     "output_type": "stream",
     "text": [
      "Completed eps=8.0, rep=5.\n"
     ]
    },
    {
     "name": "stderr",
     "output_type": "stream",
     "text": [
      "/Users/Kristen.Grabarz/miniconda3/lib/python3.8/site-packages/diffprivlib/models/logistic_regression.py:221: PrivacyLeakWarning: Data norm has not been specified and will be calculated on the data provided.  This will result in additional privacy leakage. To ensure differential privacy and no additional privacy leakage, specify `data_norm` at initialisation.\n",
      "  warnings.warn(\"Data norm has not been specified and will be calculated on the data provided.  This will \"\n",
      "/Users/Kristen.Grabarz/miniconda3/lib/python3.8/site-packages/diffprivlib/models/logistic_regression.py:394: ConvergenceWarning: lbfgs failed to converge. Increase the number of iterations.\n",
      "  warnings.warn(\"lbfgs failed to converge. Increase the number of iterations.\", ConvergenceWarning)\n",
      "/Users/Kristen.Grabarz/Documents/Classes/Fall 2021/AC297r/smartnoise-sdk/synth/snsynth/mwem.py:116: SettingWithCopyWarning: \n",
      "A value is trying to be set on a copy of a slice from a DataFrame.\n",
      "Try using .loc[row_indexer,col_indexer] = value instead\n",
      "\n",
      "See the caveats in the documentation: https://pandas.pydata.org/pandas-docs/stable/user_guide/indexing.html#returning-a-view-versus-a-copy\n",
      "  data[col] = pd.to_numeric(data[col], errors=\"ignore\")\n",
      "/Users/Kristen.Grabarz/Documents/Classes/Fall 2021/AC297r/smartnoise-sdk/synth/snsynth/mwem.py:530: VisibleDeprecationWarning: Creating an ndarray from ragged nested sequences (which is a list-or-tuple of lists-or-tuples-or ndarrays with different lengths or shapes) is deprecated. If you meant to do this, you must specify 'dtype=object' when creating the ndarray.\n",
      "  return np.array(s2)\n"
     ]
    },
    {
     "name": "stdout",
     "output_type": "stream",
     "text": [
      "Completed eps=8.0, rep=6.\n"
     ]
    },
    {
     "name": "stderr",
     "output_type": "stream",
     "text": [
      "/Users/Kristen.Grabarz/miniconda3/lib/python3.8/site-packages/diffprivlib/models/logistic_regression.py:221: PrivacyLeakWarning: Data norm has not been specified and will be calculated on the data provided.  This will result in additional privacy leakage. To ensure differential privacy and no additional privacy leakage, specify `data_norm` at initialisation.\n",
      "  warnings.warn(\"Data norm has not been specified and will be calculated on the data provided.  This will \"\n",
      "/Users/Kristen.Grabarz/miniconda3/lib/python3.8/site-packages/diffprivlib/models/logistic_regression.py:394: ConvergenceWarning: lbfgs failed to converge. Increase the number of iterations.\n",
      "  warnings.warn(\"lbfgs failed to converge. Increase the number of iterations.\", ConvergenceWarning)\n",
      "/Users/Kristen.Grabarz/Documents/Classes/Fall 2021/AC297r/smartnoise-sdk/synth/snsynth/mwem.py:116: SettingWithCopyWarning: \n",
      "A value is trying to be set on a copy of a slice from a DataFrame.\n",
      "Try using .loc[row_indexer,col_indexer] = value instead\n",
      "\n",
      "See the caveats in the documentation: https://pandas.pydata.org/pandas-docs/stable/user_guide/indexing.html#returning-a-view-versus-a-copy\n",
      "  data[col] = pd.to_numeric(data[col], errors=\"ignore\")\n",
      "/Users/Kristen.Grabarz/Documents/Classes/Fall 2021/AC297r/smartnoise-sdk/synth/snsynth/mwem.py:530: VisibleDeprecationWarning: Creating an ndarray from ragged nested sequences (which is a list-or-tuple of lists-or-tuples-or ndarrays with different lengths or shapes) is deprecated. If you meant to do this, you must specify 'dtype=object' when creating the ndarray.\n",
      "  return np.array(s2)\n"
     ]
    },
    {
     "name": "stdout",
     "output_type": "stream",
     "text": [
      "Completed eps=8.0, rep=7.\n"
     ]
    },
    {
     "name": "stderr",
     "output_type": "stream",
     "text": [
      "/Users/Kristen.Grabarz/miniconda3/lib/python3.8/site-packages/diffprivlib/models/logistic_regression.py:221: PrivacyLeakWarning: Data norm has not been specified and will be calculated on the data provided.  This will result in additional privacy leakage. To ensure differential privacy and no additional privacy leakage, specify `data_norm` at initialisation.\n",
      "  warnings.warn(\"Data norm has not been specified and will be calculated on the data provided.  This will \"\n",
      "/Users/Kristen.Grabarz/miniconda3/lib/python3.8/site-packages/diffprivlib/models/logistic_regression.py:394: ConvergenceWarning: lbfgs failed to converge. Increase the number of iterations.\n",
      "  warnings.warn(\"lbfgs failed to converge. Increase the number of iterations.\", ConvergenceWarning)\n",
      "/Users/Kristen.Grabarz/Documents/Classes/Fall 2021/AC297r/smartnoise-sdk/synth/snsynth/mwem.py:116: SettingWithCopyWarning: \n",
      "A value is trying to be set on a copy of a slice from a DataFrame.\n",
      "Try using .loc[row_indexer,col_indexer] = value instead\n",
      "\n",
      "See the caveats in the documentation: https://pandas.pydata.org/pandas-docs/stable/user_guide/indexing.html#returning-a-view-versus-a-copy\n",
      "  data[col] = pd.to_numeric(data[col], errors=\"ignore\")\n",
      "/Users/Kristen.Grabarz/Documents/Classes/Fall 2021/AC297r/smartnoise-sdk/synth/snsynth/mwem.py:530: VisibleDeprecationWarning: Creating an ndarray from ragged nested sequences (which is a list-or-tuple of lists-or-tuples-or ndarrays with different lengths or shapes) is deprecated. If you meant to do this, you must specify 'dtype=object' when creating the ndarray.\n",
      "  return np.array(s2)\n"
     ]
    },
    {
     "name": "stdout",
     "output_type": "stream",
     "text": [
      "Completed eps=8.0, rep=8.\n"
     ]
    },
    {
     "name": "stderr",
     "output_type": "stream",
     "text": [
      "/Users/Kristen.Grabarz/miniconda3/lib/python3.8/site-packages/diffprivlib/models/logistic_regression.py:221: PrivacyLeakWarning: Data norm has not been specified and will be calculated on the data provided.  This will result in additional privacy leakage. To ensure differential privacy and no additional privacy leakage, specify `data_norm` at initialisation.\n",
      "  warnings.warn(\"Data norm has not been specified and will be calculated on the data provided.  This will \"\n",
      "/Users/Kristen.Grabarz/miniconda3/lib/python3.8/site-packages/diffprivlib/models/logistic_regression.py:394: ConvergenceWarning: lbfgs failed to converge. Increase the number of iterations.\n",
      "  warnings.warn(\"lbfgs failed to converge. Increase the number of iterations.\", ConvergenceWarning)\n",
      "/Users/Kristen.Grabarz/Documents/Classes/Fall 2021/AC297r/smartnoise-sdk/synth/snsynth/mwem.py:116: SettingWithCopyWarning: \n",
      "A value is trying to be set on a copy of a slice from a DataFrame.\n",
      "Try using .loc[row_indexer,col_indexer] = value instead\n",
      "\n",
      "See the caveats in the documentation: https://pandas.pydata.org/pandas-docs/stable/user_guide/indexing.html#returning-a-view-versus-a-copy\n",
      "  data[col] = pd.to_numeric(data[col], errors=\"ignore\")\n",
      "/Users/Kristen.Grabarz/Documents/Classes/Fall 2021/AC297r/smartnoise-sdk/synth/snsynth/mwem.py:530: VisibleDeprecationWarning: Creating an ndarray from ragged nested sequences (which is a list-or-tuple of lists-or-tuples-or ndarrays with different lengths or shapes) is deprecated. If you meant to do this, you must specify 'dtype=object' when creating the ndarray.\n",
      "  return np.array(s2)\n"
     ]
    },
    {
     "name": "stdout",
     "output_type": "stream",
     "text": [
      "Completed eps=8.0, rep=9.\n"
     ]
    },
    {
     "name": "stderr",
     "output_type": "stream",
     "text": [
      "/Users/Kristen.Grabarz/miniconda3/lib/python3.8/site-packages/diffprivlib/models/logistic_regression.py:221: PrivacyLeakWarning: Data norm has not been specified and will be calculated on the data provided.  This will result in additional privacy leakage. To ensure differential privacy and no additional privacy leakage, specify `data_norm` at initialisation.\n",
      "  warnings.warn(\"Data norm has not been specified and will be calculated on the data provided.  This will \"\n",
      "/Users/Kristen.Grabarz/miniconda3/lib/python3.8/site-packages/diffprivlib/models/logistic_regression.py:394: ConvergenceWarning: lbfgs failed to converge. Increase the number of iterations.\n",
      "  warnings.warn(\"lbfgs failed to converge. Increase the number of iterations.\", ConvergenceWarning)\n",
      "/Users/Kristen.Grabarz/Documents/Classes/Fall 2021/AC297r/smartnoise-sdk/synth/snsynth/mwem.py:116: SettingWithCopyWarning: \n",
      "A value is trying to be set on a copy of a slice from a DataFrame.\n",
      "Try using .loc[row_indexer,col_indexer] = value instead\n",
      "\n",
      "See the caveats in the documentation: https://pandas.pydata.org/pandas-docs/stable/user_guide/indexing.html#returning-a-view-versus-a-copy\n",
      "  data[col] = pd.to_numeric(data[col], errors=\"ignore\")\n",
      "/Users/Kristen.Grabarz/Documents/Classes/Fall 2021/AC297r/smartnoise-sdk/synth/snsynth/mwem.py:530: VisibleDeprecationWarning: Creating an ndarray from ragged nested sequences (which is a list-or-tuple of lists-or-tuples-or ndarrays with different lengths or shapes) is deprecated. If you meant to do this, you must specify 'dtype=object' when creating the ndarray.\n",
      "  return np.array(s2)\n"
     ]
    },
    {
     "name": "stdout",
     "output_type": "stream",
     "text": [
      "Completed eps=8.0, rep=10.\n"
     ]
    },
    {
     "name": "stderr",
     "output_type": "stream",
     "text": [
      "/Users/Kristen.Grabarz/miniconda3/lib/python3.8/site-packages/diffprivlib/models/logistic_regression.py:221: PrivacyLeakWarning: Data norm has not been specified and will be calculated on the data provided.  This will result in additional privacy leakage. To ensure differential privacy and no additional privacy leakage, specify `data_norm` at initialisation.\n",
      "  warnings.warn(\"Data norm has not been specified and will be calculated on the data provided.  This will \"\n",
      "/Users/Kristen.Grabarz/miniconda3/lib/python3.8/site-packages/diffprivlib/models/logistic_regression.py:394: ConvergenceWarning: lbfgs failed to converge. Increase the number of iterations.\n",
      "  warnings.warn(\"lbfgs failed to converge. Increase the number of iterations.\", ConvergenceWarning)\n",
      "/Users/Kristen.Grabarz/Documents/Classes/Fall 2021/AC297r/smartnoise-sdk/synth/snsynth/mwem.py:116: SettingWithCopyWarning: \n",
      "A value is trying to be set on a copy of a slice from a DataFrame.\n",
      "Try using .loc[row_indexer,col_indexer] = value instead\n",
      "\n",
      "See the caveats in the documentation: https://pandas.pydata.org/pandas-docs/stable/user_guide/indexing.html#returning-a-view-versus-a-copy\n",
      "  data[col] = pd.to_numeric(data[col], errors=\"ignore\")\n",
      "/Users/Kristen.Grabarz/Documents/Classes/Fall 2021/AC297r/smartnoise-sdk/synth/snsynth/mwem.py:530: VisibleDeprecationWarning: Creating an ndarray from ragged nested sequences (which is a list-or-tuple of lists-or-tuples-or ndarrays with different lengths or shapes) is deprecated. If you meant to do this, you must specify 'dtype=object' when creating the ndarray.\n",
      "  return np.array(s2)\n"
     ]
    },
    {
     "name": "stdout",
     "output_type": "stream",
     "text": [
      "Completed eps=8.0, rep=11.\n"
     ]
    },
    {
     "name": "stderr",
     "output_type": "stream",
     "text": [
      "/Users/Kristen.Grabarz/miniconda3/lib/python3.8/site-packages/diffprivlib/models/logistic_regression.py:221: PrivacyLeakWarning: Data norm has not been specified and will be calculated on the data provided.  This will result in additional privacy leakage. To ensure differential privacy and no additional privacy leakage, specify `data_norm` at initialisation.\n",
      "  warnings.warn(\"Data norm has not been specified and will be calculated on the data provided.  This will \"\n",
      "/Users/Kristen.Grabarz/miniconda3/lib/python3.8/site-packages/diffprivlib/models/logistic_regression.py:394: ConvergenceWarning: lbfgs failed to converge. Increase the number of iterations.\n",
      "  warnings.warn(\"lbfgs failed to converge. Increase the number of iterations.\", ConvergenceWarning)\n",
      "/Users/Kristen.Grabarz/Documents/Classes/Fall 2021/AC297r/smartnoise-sdk/synth/snsynth/mwem.py:116: SettingWithCopyWarning: \n",
      "A value is trying to be set on a copy of a slice from a DataFrame.\n",
      "Try using .loc[row_indexer,col_indexer] = value instead\n",
      "\n",
      "See the caveats in the documentation: https://pandas.pydata.org/pandas-docs/stable/user_guide/indexing.html#returning-a-view-versus-a-copy\n",
      "  data[col] = pd.to_numeric(data[col], errors=\"ignore\")\n",
      "/Users/Kristen.Grabarz/Documents/Classes/Fall 2021/AC297r/smartnoise-sdk/synth/snsynth/mwem.py:530: VisibleDeprecationWarning: Creating an ndarray from ragged nested sequences (which is a list-or-tuple of lists-or-tuples-or ndarrays with different lengths or shapes) is deprecated. If you meant to do this, you must specify 'dtype=object' when creating the ndarray.\n",
      "  return np.array(s2)\n"
     ]
    },
    {
     "name": "stdout",
     "output_type": "stream",
     "text": [
      "Completed eps=8.0, rep=12.\n"
     ]
    },
    {
     "name": "stderr",
     "output_type": "stream",
     "text": [
      "/Users/Kristen.Grabarz/miniconda3/lib/python3.8/site-packages/diffprivlib/models/logistic_regression.py:221: PrivacyLeakWarning: Data norm has not been specified and will be calculated on the data provided.  This will result in additional privacy leakage. To ensure differential privacy and no additional privacy leakage, specify `data_norm` at initialisation.\n",
      "  warnings.warn(\"Data norm has not been specified and will be calculated on the data provided.  This will \"\n",
      "/Users/Kristen.Grabarz/Documents/Classes/Fall 2021/AC297r/smartnoise-sdk/synth/snsynth/mwem.py:116: SettingWithCopyWarning: \n",
      "A value is trying to be set on a copy of a slice from a DataFrame.\n",
      "Try using .loc[row_indexer,col_indexer] = value instead\n",
      "\n",
      "See the caveats in the documentation: https://pandas.pydata.org/pandas-docs/stable/user_guide/indexing.html#returning-a-view-versus-a-copy\n",
      "  data[col] = pd.to_numeric(data[col], errors=\"ignore\")\n",
      "/Users/Kristen.Grabarz/Documents/Classes/Fall 2021/AC297r/smartnoise-sdk/synth/snsynth/mwem.py:530: VisibleDeprecationWarning: Creating an ndarray from ragged nested sequences (which is a list-or-tuple of lists-or-tuples-or ndarrays with different lengths or shapes) is deprecated. If you meant to do this, you must specify 'dtype=object' when creating the ndarray.\n",
      "  return np.array(s2)\n"
     ]
    },
    {
     "name": "stdout",
     "output_type": "stream",
     "text": [
      "Completed eps=8.0, rep=13.\n"
     ]
    },
    {
     "name": "stderr",
     "output_type": "stream",
     "text": [
      "/Users/Kristen.Grabarz/miniconda3/lib/python3.8/site-packages/diffprivlib/models/logistic_regression.py:221: PrivacyLeakWarning: Data norm has not been specified and will be calculated on the data provided.  This will result in additional privacy leakage. To ensure differential privacy and no additional privacy leakage, specify `data_norm` at initialisation.\n",
      "  warnings.warn(\"Data norm has not been specified and will be calculated on the data provided.  This will \"\n",
      "/Users/Kristen.Grabarz/miniconda3/lib/python3.8/site-packages/diffprivlib/models/logistic_regression.py:394: ConvergenceWarning: lbfgs failed to converge. Increase the number of iterations.\n",
      "  warnings.warn(\"lbfgs failed to converge. Increase the number of iterations.\", ConvergenceWarning)\n",
      "/Users/Kristen.Grabarz/Documents/Classes/Fall 2021/AC297r/smartnoise-sdk/synth/snsynth/mwem.py:116: SettingWithCopyWarning: \n",
      "A value is trying to be set on a copy of a slice from a DataFrame.\n",
      "Try using .loc[row_indexer,col_indexer] = value instead\n",
      "\n",
      "See the caveats in the documentation: https://pandas.pydata.org/pandas-docs/stable/user_guide/indexing.html#returning-a-view-versus-a-copy\n",
      "  data[col] = pd.to_numeric(data[col], errors=\"ignore\")\n",
      "/Users/Kristen.Grabarz/Documents/Classes/Fall 2021/AC297r/smartnoise-sdk/synth/snsynth/mwem.py:530: VisibleDeprecationWarning: Creating an ndarray from ragged nested sequences (which is a list-or-tuple of lists-or-tuples-or ndarrays with different lengths or shapes) is deprecated. If you meant to do this, you must specify 'dtype=object' when creating the ndarray.\n",
      "  return np.array(s2)\n"
     ]
    },
    {
     "name": "stdout",
     "output_type": "stream",
     "text": [
      "Completed eps=8.0, rep=14.\n"
     ]
    },
    {
     "name": "stderr",
     "output_type": "stream",
     "text": [
      "/Users/Kristen.Grabarz/miniconda3/lib/python3.8/site-packages/diffprivlib/models/logistic_regression.py:221: PrivacyLeakWarning: Data norm has not been specified and will be calculated on the data provided.  This will result in additional privacy leakage. To ensure differential privacy and no additional privacy leakage, specify `data_norm` at initialisation.\n",
      "  warnings.warn(\"Data norm has not been specified and will be calculated on the data provided.  This will \"\n",
      "/Users/Kristen.Grabarz/miniconda3/lib/python3.8/site-packages/diffprivlib/models/logistic_regression.py:394: ConvergenceWarning: lbfgs failed to converge. Increase the number of iterations.\n",
      "  warnings.warn(\"lbfgs failed to converge. Increase the number of iterations.\", ConvergenceWarning)\n",
      "/Users/Kristen.Grabarz/Documents/Classes/Fall 2021/AC297r/smartnoise-sdk/synth/snsynth/mwem.py:116: SettingWithCopyWarning: \n",
      "A value is trying to be set on a copy of a slice from a DataFrame.\n",
      "Try using .loc[row_indexer,col_indexer] = value instead\n",
      "\n",
      "See the caveats in the documentation: https://pandas.pydata.org/pandas-docs/stable/user_guide/indexing.html#returning-a-view-versus-a-copy\n",
      "  data[col] = pd.to_numeric(data[col], errors=\"ignore\")\n",
      "/Users/Kristen.Grabarz/Documents/Classes/Fall 2021/AC297r/smartnoise-sdk/synth/snsynth/mwem.py:530: VisibleDeprecationWarning: Creating an ndarray from ragged nested sequences (which is a list-or-tuple of lists-or-tuples-or ndarrays with different lengths or shapes) is deprecated. If you meant to do this, you must specify 'dtype=object' when creating the ndarray.\n",
      "  return np.array(s2)\n"
     ]
    },
    {
     "name": "stdout",
     "output_type": "stream",
     "text": [
      "Completed eps=8.0, rep=15.\n"
     ]
    }
   ],
   "source": [
    "#try:\n",
    "    # Try to load the dictionary with ten repetitions\n",
    "#    adult_fairness_quail_mwem = np.load(\"adult_fairness_quail_mwem.npy\", allow_pickle=True).item()\n",
    "    \n",
    "#except:\n",
    "    # Set range of epsilon values\n",
    "epsilon_vals = [1.0, 2.0, 3.0, 4.0, 5.0, 6.0, 7.0, 8.0]\n",
    "\n",
    "    # Get dictionary of averaged fairness metrics across 10 repetitions for range of values\n",
    "acs_income_fairness_quail_mwem = adult_fairness_privacy_range(epsilon_vals, adult_train, adult_test, synthesizer=\"MWEM\", \n",
    "                                                        quail=True, classifier=\"DPLR\", eps_split=0.8, n_reps=15)\n",
    "    \n",
    "    # Save dictionary\n",
    "np.save(\"acs_income_fairness_quail_mwem.npy\", acs_income_fairness_quail_mwem)"
   ]
  },
  {
   "cell_type": "code",
   "execution_count": 28,
   "metadata": {},
   "outputs": [
    {
     "data": {
      "image/png": "[encoded data removed]",
      "text/plain": [
       "<Figure size 1080x1440 with 8 Axes>"
      ]
     },
     "metadata": {
      "needs_background": "light"
     },
     "output_type": "display_data"
    }
   ],
   "source": [
    "# Plot the fairness and accuracy metrics for female vs male\n",
    "plot_fairness_dict(acs_income_fairness_quail_mwem, plot_non_private=True)"
   ]
  },
  {
   "cell_type": "markdown",
   "metadata": {
    "cell_id": "00029-0ecfae9d-1365-4e25-8203-29190c5e027d",
    "deepnote_cell_type": "markdown",
    "tags": []
   },
   "source": [
    "## 4.4 DPCTGAN"
   ]
  },
  {
   "cell_type": "code",
   "execution_count": null,
   "metadata": {
    "cell_id": "00032-bb73ddfb-a0d9-4a26-bf54-7a4a831fac5c",
    "deepnote_cell_type": "code",
    "tags": []
   },
   "outputs": [],
   "source": []
  },
  {
   "cell_type": "markdown",
   "metadata": {
    "created_in_deepnote_cell": true,
    "deepnote_cell_type": "markdown",
    "tags": []
   },
   "source": [
    "<a style='text-decoration:none;line-height:16px;display:flex;color:#5B5B62;padding:10px;justify-content:end;' href='https://deepnote.com?utm_source=created-in-deepnote-cell&projectId=aa928c63-0856-4021-a156-02d09e35182a' target=\"_blank\">\n",
    "<img alt='Created in deepnote.com' style='display:inline;max-height:16px;margin:0px;margin-right:7.5px;' src='data:image/svg+xml;base64,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' > </img>\n",
    "Created in <span style='font-weight:600;margin-left:4px;'>Deepnote</span></a>"
   ]
  }
 ],
 "metadata": {
  "deepnote": {},
  "deepnote_execution_queue": [],
  "deepnote_notebook_id": "41fe13f3-dabb-4895-9171-f67d41724cdd",
  "kernelspec": {
   "display_name": "Python 3",
   "language": "python",
   "name": "python3"
  },
  "language_info": {
   "codemirror_mode": {
    "name": "ipython",
    "version": 3
   },
   "file_extension": ".py",
   "mimetype": "text/x-python",
   "name": "python",
   "nbconvert_exporter": "python",
   "pygments_lexer": "ipython3",
   "version": "3.8.3"
  }
 },
 "nbformat": 4,
 "nbformat_minor": 4
}
