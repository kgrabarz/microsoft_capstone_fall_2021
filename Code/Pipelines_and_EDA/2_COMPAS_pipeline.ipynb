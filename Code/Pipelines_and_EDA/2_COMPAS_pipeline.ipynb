{
  "nbformat": 4,
  "nbformat_minor": 0,
  "metadata": {
    "orig_nbformat": 2,
    "deepnote": {
      "is_reactive": false
    },
    "deepnote_notebook_id": "5605aa85-5990-4591-931a-de0b30625bc0",
    "deepnote_execution_queue": [],
    "colab": {
      "name": "2-COMPAS-pipeline.ipynb",
      "provenance": []
    },
    "language_info": {
      "name": "python"
    },
    "kernelspec": {
      "name": "python3",
      "display_name": "Python 3"
    }
  },
  "cells": [
    {
      "cell_type": "markdown",
      "metadata": {
        "tags": [],
        "cell_id": "00002-fd179f0c-e984-405d-a5a6-1cd8c6417aa2",
        "deepnote_cell_type": "markdown",
        "id": "-5XAf5QY-3gw"
      },
      "source": [
        "# 2. COMPAS dataset (Scarlett+Lily)"
      ]
    },
    {
      "cell_type": "code",
      "metadata": {
        "tags": [],
        "cell_id": "00001-dac6463c-18a2-48eb-be4f-949a58ed6e74",
        "deepnote_to_be_reexecuted": false,
        "source_hash": "1d4ba3bf",
        "execution_start": 1633372934452,
        "execution_millis": 1548,
        "deepnote_cell_type": "code",
        "id": "z4V4V3ep-3gx"
      },
      "source": [
        "import numpy as np\n",
        "import pandas as pd\n",
        "import matplotlib.pyplot as plt\n",
        "import seaborn as sns\n",
        "from sklearn.metrics import confusion_matrix\n",
        "from sklearn.preprocessing import MinMaxScaler\n",
        "from sklearn.model_selection import train_test_split\n",
        "from sklearn.linear_model import LogisticRegression\n",
        "from sklearn.metrics import classification_report\n",
        "from sklearn.linear_model import LogisticRegression\n",
        "from sklearn import tree"
      ],
      "execution_count": 1,
      "outputs": []
    },
    {
      "cell_type": "code",
      "metadata": {
        "tags": [],
        "cell_id": "00001-af0c5729-666e-471c-8c95-ad4724ed6828",
        "deepnote_to_be_reexecuted": false,
        "source_hash": "33f6b062",
        "execution_start": 1633372937681,
        "execution_millis": 269,
        "deepnote_cell_type": "code",
        "colab": {
          "base_uri": "https://localhost:8080/"
        },
        "id": "ax0VnbrG-3gy",
        "outputId": "36a0b659-69a1-41bd-d380-47b2c7cb04f0"
      },
      "source": [
        "url = 'https://raw.githubusercontent.com/propublica/compas-analysis/master/compas-scores-two-years.csv'\n",
        "df = pd.read_csv(url)\n",
        "df.info()"
      ],
      "execution_count": 2,
      "outputs": [
        {
          "output_type": "stream",
          "name": "stdout",
          "text": [
            "<class 'pandas.core.frame.DataFrame'>\n",
            "RangeIndex: 7214 entries, 0 to 7213\n",
            "Data columns (total 53 columns):\n",
            " #   Column                   Non-Null Count  Dtype  \n",
            "---  ------                   --------------  -----  \n",
            " 0   id                       7214 non-null   int64  \n",
            " 1   name                     7214 non-null   object \n",
            " 2   first                    7214 non-null   object \n",
            " 3   last                     7214 non-null   object \n",
            " 4   compas_screening_date    7214 non-null   object \n",
            " 5   sex                      7214 non-null   object \n",
            " 6   dob                      7214 non-null   object \n",
            " 7   age                      7214 non-null   int64  \n",
            " 8   age_cat                  7214 non-null   object \n",
            " 9   race                     7214 non-null   object \n",
            " 10  juv_fel_count            7214 non-null   int64  \n",
            " 11  decile_score             7214 non-null   int64  \n",
            " 12  juv_misd_count           7214 non-null   int64  \n",
            " 13  juv_other_count          7214 non-null   int64  \n",
            " 14  priors_count             7214 non-null   int64  \n",
            " 15  days_b_screening_arrest  6907 non-null   float64\n",
            " 16  c_jail_in                6907 non-null   object \n",
            " 17  c_jail_out               6907 non-null   object \n",
            " 18  c_case_number            7192 non-null   object \n",
            " 19  c_offense_date           6055 non-null   object \n",
            " 20  c_arrest_date            1137 non-null   object \n",
            " 21  c_days_from_compas       7192 non-null   float64\n",
            " 22  c_charge_degree          7214 non-null   object \n",
            " 23  c_charge_desc            7185 non-null   object \n",
            " 24  is_recid                 7214 non-null   int64  \n",
            " 25  r_case_number            3471 non-null   object \n",
            " 26  r_charge_degree          3471 non-null   object \n",
            " 27  r_days_from_arrest       2316 non-null   float64\n",
            " 28  r_offense_date           3471 non-null   object \n",
            " 29  r_charge_desc            3413 non-null   object \n",
            " 30  r_jail_in                2316 non-null   object \n",
            " 31  r_jail_out               2316 non-null   object \n",
            " 32  violent_recid            0 non-null      float64\n",
            " 33  is_violent_recid         7214 non-null   int64  \n",
            " 34  vr_case_number           819 non-null    object \n",
            " 35  vr_charge_degree         819 non-null    object \n",
            " 36  vr_offense_date          819 non-null    object \n",
            " 37  vr_charge_desc           819 non-null    object \n",
            " 38  type_of_assessment       7214 non-null   object \n",
            " 39  decile_score.1           7214 non-null   int64  \n",
            " 40  score_text               7214 non-null   object \n",
            " 41  screening_date           7214 non-null   object \n",
            " 42  v_type_of_assessment     7214 non-null   object \n",
            " 43  v_decile_score           7214 non-null   int64  \n",
            " 44  v_score_text             7214 non-null   object \n",
            " 45  v_screening_date         7214 non-null   object \n",
            " 46  in_custody               6978 non-null   object \n",
            " 47  out_custody              6978 non-null   object \n",
            " 48  priors_count.1           7214 non-null   int64  \n",
            " 49  start                    7214 non-null   int64  \n",
            " 50  end                      7214 non-null   int64  \n",
            " 51  event                    7214 non-null   int64  \n",
            " 52  two_year_recid           7214 non-null   int64  \n",
            "dtypes: float64(4), int64(16), object(33)\n",
            "memory usage: 2.9+ MB\n"
          ]
        }
      ]
    },
    {
      "cell_type": "markdown",
      "metadata": {
        "tags": [],
        "cell_id": "00003-bc08cdaf-b17f-4eac-a688-4be9b8a4e95a",
        "deepnote_cell_type": "markdown",
        "id": "yS9hJ1uI-3gz"
      },
      "source": [
        "* `Age`: The defendent's age in years\n",
        "* `c_charge_degree`: The type of crime a defendent has been charged with, either M (misdemeanor, less serious), or F(felony, more serious)\n",
        "* `race`: Defendent's race (categorical)\n",
        "* `sex`: Defendent's biological sex (M/F)\n",
        "* `length_of_stay`: How long between when a defendant was charged and when they were released \n",
        "* `priors_count`: Count for number of prior times a defendant has been charged\n",
        "* `juv_fel_count`: Count for number of times a defendant was charged with a felony as a juvenile\n",
        "* `juv_misd_count`: Count for number of times a defendant was charged with a misdemeanor as a juvenile\n",
        "* `juv_other_count`: Count for number of times a defendant was charged with something else as a juvenile\n",
        "* `c_charge_desc`: Specific text field with type of charge.\n",
        "\n",
        "Variables that are pre-processed data include:\n",
        "\n",
        "* `length_of_stay_thresh`: A thresholded version of `length_of_stay` variable, preprocessed such that values above 30 have been capped at 30\n",
        "* `priors_1`: Indicator variable derived from `priors_count`, preprocessed such that 1 if `priors_count`=1, 0 otherwise\n",
        "* `priors_234`: Indicator variable derived from `priors_count`, preprocessed such that 1 if `priors_count` is 2, 3, 4; 0 otherwise\n",
        "* `priors_5plus`: Another indicator variable derived from `priors_count`, preprocessed such that 1 if `priors_count`=5 or more, 0 otherwise\n",
        "* `juv_fel_1plus`: Indicator variable derived from `juv_fel_count`, 1 if `juv_fel_count`, is 1 or more; 0 otherwise\n",
        "* `juv_misd_1plus`: Indicator variable derived from `juv_misd_count`, 1 if `juv_misd_count`, is 1 or more; 0 otherwise\n",
        "* `juv_other_1plus`: Indicator variable derived from `juv_other_count`, 1 if `juv_other_count`, is 1 or more; 0 otherwise\n",
        "* `charge_any_drug`: Indicator variable derived from `c_charge_desc`, indicating our best guess as to whether the crime charged was drug-related\n",
        "* `charge_any_violence_aggression`: Indicator variable derived from `c_charge_desc`, indicating our best guess as to whether the crime charged was violence or aggression related\n",
        "* `charge_any_theft`: Indicator variable derived from `c_charge_desc`, indicating our best guess as to whether the crime charged was theft or burglary related\n",
        "\n",
        "The target outcome variable is `two_year_recid`, which indicates whether or not a defendent recidivated within two years.\n",
        "\n",
        "The variable `decile_score` is a 1-10 COMPAS score based on decile, and the variable `score_text` is a Low/Medium/High score category from COMPAS. Both of these variables should not be used in building our model."
      ]
    },
    {
      "cell_type": "code",
      "metadata": {
        "tags": [],
        "cell_id": "00003-d9a7ae66-86fc-4120-9b8f-5141f094a4dd",
        "deepnote_to_be_reexecuted": false,
        "source_hash": "5d18ef97",
        "execution_start": 1633295903793,
        "execution_millis": 21,
        "deepnote_cell_type": "code",
        "id": "ZzTBivRC-3gz",
        "outputId": "043d0a9d-a30e-4301-a9a6-67c08a24cd45"
      },
      "source": [
        "print(df.shape)\n",
        "print(list(df.columns))"
      ],
      "execution_count": null,
      "outputs": [
        {
          "name": "stdout",
          "text": "(7214, 53)\n['id', 'name', 'first', 'last', 'compas_screening_date', 'sex', 'dob', 'age', 'age_cat', 'race', 'juv_fel_count', 'decile_score', 'juv_misd_count', 'juv_other_count', 'priors_count', 'days_b_screening_arrest', 'c_jail_in', 'c_jail_out', 'c_case_number', 'c_offense_date', 'c_arrest_date', 'c_days_from_compas', 'c_charge_degree', 'c_charge_desc', 'is_recid', 'r_case_number', 'r_charge_degree', 'r_days_from_arrest', 'r_offense_date', 'r_charge_desc', 'r_jail_in', 'r_jail_out', 'violent_recid', 'is_violent_recid', 'vr_case_number', 'vr_charge_degree', 'vr_offense_date', 'vr_charge_desc', 'type_of_assessment', 'decile_score.1', 'score_text', 'screening_date', 'v_type_of_assessment', 'v_decile_score', 'v_score_text', 'v_screening_date', 'in_custody', 'out_custody', 'priors_count.1', 'start', 'end', 'event', 'two_year_recid']\n",
          "output_type": "stream"
        }
      ]
    },
    {
      "cell_type": "code",
      "metadata": {
        "tags": [],
        "cell_id": "00004-747d93d5-76ec-449c-ba95-8298461063c6",
        "deepnote_to_be_reexecuted": false,
        "source_hash": "862cd870",
        "execution_start": 1633295907430,
        "execution_millis": 14,
        "deepnote_cell_type": "code",
        "id": "67Esb3AW-3g0",
        "outputId": "697276be-a69d-420c-ba7d-7bff2e17a24f"
      },
      "source": [
        "# age is a numeric variable while age_cat represents three categories of ages\n",
        "print(df[\"age\"].unique())\n",
        "print(df[\"age_cat\"].unique())"
      ],
      "execution_count": null,
      "outputs": [
        {
          "name": "stdout",
          "text": "[69 34 24 23 43 44 41 39 21 27 37 47 31 25 64 32 36 26 33 30 55 49 29 51\n 35 28 48 63 53 38 22 62 56 45 40 50 20 71 66 54 19 59 42 52 61 46 58 78\n 57 70 60 68 65 83 67 75 72 74 96 73 18 77 80 76 79]\n['Greater than 45' '25 - 45' 'Less than 25']\n",
          "output_type": "stream"
        }
      ]
    },
    {
      "cell_type": "code",
      "metadata": {
        "tags": [],
        "cell_id": "00006-a5fc7bda-86d6-4d62-8e97-9d25ce9c0017",
        "deepnote_to_be_reexecuted": false,
        "source_hash": "adbc5d8d",
        "execution_start": 1633295908837,
        "execution_millis": 26,
        "deepnote_cell_type": "code",
        "id": "bcXmuanx-3g0",
        "outputId": "f43da05c-063c-49a0-94f0-b2ddc0383039"
      },
      "source": [
        "print(df[\"priors_count.1\"].unique())\n",
        "print(df[\"priors_count\"].unique())"
      ],
      "execution_count": null,
      "outputs": [
        {
          "name": "stdout",
          "text": "[ 0  4  1  2 14  3  7  6  5 13  8  9 21 20 15 10 12 28 19 11 22 23 25 24\n 36 18 16 33 17 30 27 38 26 37 29 35 31]\n[ 0  4  1  2 14  3  7  6  5 13  8  9 21 20 15 10 12 28 19 11 22 23 25 24\n 36 18 16 33 17 30 27 38 26 37 29 35 31]\n",
          "output_type": "stream"
        }
      ]
    },
    {
      "cell_type": "code",
      "metadata": {
        "tags": [],
        "cell_id": "00006-175adb46-4a58-4f1d-824e-72ed4a97e867",
        "deepnote_to_be_reexecuted": false,
        "source_hash": "9f704ec0",
        "execution_start": 1633295911210,
        "execution_millis": 31,
        "deepnote_cell_type": "code",
        "id": "55r8sMxZ-3g0",
        "outputId": "ddb7b35d-1363-43f0-aaef-49c3da971db1"
      },
      "source": [
        "print(df[\"type_of_assessment\"].unique())"
      ],
      "execution_count": null,
      "outputs": [
        {
          "name": "stdout",
          "text": "['Risk of Recidivism']\n",
          "output_type": "stream"
        }
      ]
    },
    {
      "cell_type": "code",
      "metadata": {
        "tags": [],
        "cell_id": "00007-636de66d-cccc-4eca-b856-51672734ba31",
        "deepnote_to_be_reexecuted": false,
        "source_hash": "c9b7bdbf",
        "execution_start": 1633295913032,
        "execution_millis": 3,
        "deepnote_cell_type": "code",
        "id": "S8RoDKOd-3g1",
        "outputId": "34a6337a-1e08-4978-bb23-ef8e7874b044"
      },
      "source": [
        "print(df[\"score_text\"].unique())"
      ],
      "execution_count": null,
      "outputs": [
        {
          "name": "stdout",
          "text": "['Low' 'High' 'Medium']\n",
          "output_type": "stream"
        }
      ]
    },
    {
      "cell_type": "markdown",
      "metadata": {
        "tags": [],
        "cell_id": "00004-f7a22919-111c-4315-9309-2d9837807277",
        "deepnote_cell_type": "markdown",
        "id": "YFXXfoIN-3g1"
      },
      "source": [
        "## 2.1 Literature Review\n",
        "\n",
        "Correctional Offender Management Profiling for Alternative Sanctions(COMPAS) dataset, gathered by ProPublica [Angwin et al., 2016], contains information about the recidivism\n",
        "risk predicted by the COMPAS tool, as well as the ground truth recidivism rates, for 7214 defendants who were arrested in Broward County, Florida, in the year of 2013 and 2014. The input used for prediction of recidivism is wide-scale and includes 137 factors like age, gender, and criminal history of the defendant. As COMPAS tool is helpful in ways that it provides scores from 1 to 10, classify the risk of recidivism as low-risk (1 to 4), medium-risk (5 to 7), or high-risk (8 to 10), it has been used to assess more than 1 million offenders since 1998. \n",
        "\n",
        "However, the tool suffers from machine bias and leads to racial disparities in the predictions. Black defendants who did not recidivate were incorrectly predicted to reoffend (False Positive) at a rate of 44.9%, nearly twice as high as their white counterparts at 23.5%; and white defendants who did recidivate were incorrectly predicted to not reoffend (False Negative) at a rate of 47.7%, nearly twice as high as their black counterparts at 28.0%. []\n",
        "\n",
        "The popular fariness metrics are [Rahman, 2020]\n",
        "\n",
        "- True Positive Rate (TPR) also called recall or sensitivity\n",
        "- True Negative Rate (TNR) also called specificity\n",
        "- Positive Predictive Value (PPV) also called precision \n",
        "- False Negative Rate (FNR)\n",
        "- False Positive Rate (FPR) also called fall out \n",
        "\n",
        "And the formular are the followings: <br>\n",
        "TPR = $\\frac{TP}{Actual Positive}  = \\frac{TP}{TP + FN}$ <br>\n",
        "TNR = $\\frac{TP}{Actual Negative}  = \\frac{TN}{TN + FP}$ <br>\n",
        "PPV = $ \\frac{TP}{TP + FP}$ <br>\n",
        "FNR = $\\frac{FN}{Actual Positive} = \\frac{FN}{FN + TP}$ <br>\n",
        "FPR = $\\frac{FP}{Actual Negative} = \\frac{FP}{FP + TN}$ <br>\n",
        "\n",
        "\n"
      ]
    },
    {
      "cell_type": "markdown",
      "metadata": {
        "tags": [],
        "cell_id": "00005-f643853d-be8b-4261-9f55-13c6eee40e17",
        "deepnote_cell_type": "markdown",
        "id": "WVZDEno3-3g1"
      },
      "source": [
        "## 2.2 Data Analysis "
      ]
    },
    {
      "cell_type": "markdown",
      "metadata": {
        "tags": [],
        "cell_id": "00006-88da52cf-455a-4375-8ebf-3ce638a37e0c",
        "deepnote_cell_type": "markdown",
        "id": "69HTvxvP-3g1"
      },
      "source": [
        "According to Northpointe’s practitioners guide, COMPAS' scores in the medium and high range garner more interest from supervision agencies than low scores, as a low score would suggest there is little risk of general recidivism.” So when turning the problem into a binary classification problem, we assume any score 5 or higher (medium or high risk) means that a defendant is treated as a likely recividist (1), and a score of 4 or lower (low risk) means that a defendant is treated as unlikely to re-offend (0). "
      ]
    },
    {
      "cell_type": "code",
      "metadata": {
        "tags": [],
        "cell_id": "00006-9dc35b88-4e45-4b36-ab89-f32e5d22bbe3",
        "deepnote_to_be_reexecuted": false,
        "source_hash": "1f4072e5",
        "execution_start": 1633372944898,
        "execution_millis": 2,
        "deepnote_cell_type": "code",
        "id": "iGb5wVNH-3g2"
      },
      "source": [
        "# turn into a binary classification problem\n",
        "# create feature is_med_or_high_risk\n",
        "df['medium_or_high_risk']  = (df['decile_score']>=5).astype(int)"
      ],
      "execution_count": 3,
      "outputs": []
    },
    {
      "cell_type": "markdown",
      "metadata": {
        "tags": [],
        "cell_id": "00008-ceefa5a0-3a75-4987-a786-2db8426148f2",
        "deepnote_cell_type": "markdown",
        "id": "LjIn7_D4-3g2"
      },
      "source": [
        "The **“true”** recidivism value (whether or not the defendant committed another crime in the next two years) is in the two_year_recid column."
      ]
    },
    {
      "cell_type": "code",
      "metadata": {
        "tags": [],
        "cell_id": "00007-ea1eba52-c31b-4b51-8ae7-5a54b94a1ca3",
        "deepnote_to_be_reexecuted": false,
        "source_hash": "af38c88a",
        "execution_start": 1633295918983,
        "execution_millis": 237,
        "deepnote_cell_type": "code",
        "colab": {
          "base_uri": "https://localhost:8080/",
          "height": 333
        },
        "id": "De6h2UwQ-3g2",
        "outputId": "effa0ea4-0191-486f-c0f7-15ac453e6f00"
      },
      "source": [
        "cm = pd.crosstab(df['medium_or_high_risk'], df['two_year_recid'], \n",
        "                               rownames=['Predicted'], colnames=['Actual'])\n",
        "p = plt.figure(figsize=(5,5));\n",
        "p = sns.heatmap(cm, annot=True, fmt=\"d\", cbar=False)"
      ],
      "execution_count": 4,
      "outputs": [
        {
          "output_type": "display_data",
          "data": {
            "image/png": "[encoded data removed]",
            "text/plain": [
              "<Figure size 360x360 with 1 Axes>"
            ]
          },
          "metadata": {
            "needs_background": "light"
          }
        }
      ]
    },
    {
      "cell_type": "code",
      "metadata": {
        "tags": [],
        "cell_id": "00010-87d0f34d-c9eb-4725-a050-db67bd60aee1",
        "deepnote_to_be_reexecuted": false,
        "source_hash": "5fcaa84",
        "execution_start": 1633295922055,
        "execution_millis": 28,
        "deepnote_cell_type": "code",
        "colab": {
          "base_uri": "https://localhost:8080/"
        },
        "id": "Tmr3BQwy-3g3",
        "outputId": "ec2ccdae-8d67-44cd-92cd-f04083d3fb68"
      },
      "source": [
        "[[tn , fp],[fn , tp]]  = confusion_matrix(df['two_year_recid'], df['medium_or_high_risk'])\n",
        "print(\"True negatives:  \", tn)\n",
        "print(\"False positives: \", fp)\n",
        "print(\"False negatives: \", fn)\n",
        "print(\"True positives:  \", tp)"
      ],
      "execution_count": 5,
      "outputs": [
        {
          "output_type": "stream",
          "name": "stdout",
          "text": [
            "True negatives:   2681\n",
            "False positives:  1282\n",
            "False negatives:  1216\n",
            "True positives:   2035\n"
          ]
        }
      ]
    },
    {
      "cell_type": "code",
      "metadata": {
        "tags": [],
        "cell_id": "00012-957f9021-12e8-4a88-ac20-f99d24c00444",
        "deepnote_to_be_reexecuted": false,
        "source_hash": "aedc46cf",
        "execution_start": 1633295923744,
        "execution_millis": 12,
        "deepnote_cell_type": "code",
        "colab": {
          "base_uri": "https://localhost:8080/"
        },
        "id": "0nBtldBx-3g3",
        "outputId": "8ba2bd6b-d370-45b6-9292-9e9b03a299ba"
      },
      "source": [
        "print(\"True positive rate (overall): \", tp/(tp+fn))\n",
        "print(\"False positive rate (overall): \", fp/(fp+tn))\n",
        "print(\"True negative rate (overall): \", tn/(tn+fp))\n",
        "print(\"False negative rate (overall): \", fn/(fn+tp))\n",
        "print(\"Positive predictive value (overall): \", tp/(tp+fp))\n",
        "print(\"Overall accuracy (overall)\", (tp+tn)/(tp+fp+fn+tn))"
      ],
      "execution_count": 6,
      "outputs": [
        {
          "output_type": "stream",
          "name": "stdout",
          "text": [
            "True positive rate (overall):  0.6259612426945556\n",
            "False positive rate (overall):  0.32349230381024474\n",
            "True negative rate (overall):  0.6765076961897553\n",
            "False negative rate (overall):  0.3740387573054445\n",
            "Positive predictive value (overall):  0.6135061802833887\n",
            "Overall accuracy (overall) 0.6537288605489326\n"
          ]
        }
      ]
    },
    {
      "cell_type": "code",
      "metadata": {
        "tags": [],
        "cell_id": "00014-578708c9-cc4b-46f4-98ca-326b40371c03",
        "deepnote_to_be_reexecuted": false,
        "source_hash": "cd9025f0",
        "execution_start": 1633295926339,
        "execution_millis": 313,
        "deepnote_cell_type": "code",
        "colab": {
          "base_uri": "https://localhost:8080/",
          "height": 311
        },
        "id": "kx1kZoZH-3g3",
        "outputId": "5565f111-564b-4b66-8916-1478ea3ecb08"
      },
      "source": [
        "from sklearn.metrics import roc_curve, roc_auc_score\n",
        "\n",
        "fpr, tpr, thresholds = roc_curve(df['two_year_recid'], df['decile_score'])\n",
        "sns.scatterplot(x=fpr, y=tpr, )\n",
        "sns.lineplot(x=fpr, y=tpr)\n",
        "plt.title(\"ROC curve\")\n",
        "plt.ylabel(\"True Positive Rate\")\n",
        "plt.xlabel(\"False Positive Rate\")"
      ],
      "execution_count": 7,
      "outputs": [
        {
          "output_type": "execute_result",
          "data": {
            "text/plain": [
              "Text(0.5, 0, 'False Positive Rate')"
            ]
          },
          "metadata": {},
          "execution_count": 7
        },
        {
          "output_type": "display_data",
          "data": {
            "image/png": "[encoded data removed]",
            "text/plain": [
              "<Figure size 432x288 with 1 Axes>"
            ]
          },
          "metadata": {
            "needs_background": "light"
          }
        }
      ]
    },
    {
      "cell_type": "code",
      "metadata": {
        "tags": [],
        "cell_id": "00015-dac4dc5a-ea1d-4957-95da-2503d49091f6",
        "deepnote_to_be_reexecuted": false,
        "source_hash": "b6bc6cc6",
        "execution_start": 1633295930812,
        "execution_millis": 17,
        "deepnote_cell_type": "code",
        "colab": {
          "base_uri": "https://localhost:8080/"
        },
        "id": "xkTR3GNR-3g4",
        "outputId": "a00162a0-a8ba-482d-a3ea-40f2394695e3"
      },
      "source": [
        "print(\"AUC:\", roc_auc_score(df['two_year_recid'], df['decile_score']))"
      ],
      "execution_count": 8,
      "outputs": [
        {
          "output_type": "stream",
          "name": "stdout",
          "text": [
            "AUC: 0.7021662544019724\n"
          ]
        }
      ]
    },
    {
      "cell_type": "code",
      "metadata": {
        "tags": [],
        "cell_id": "00016-92ea919f-614e-4f66-8a54-a238ae6b7603",
        "deepnote_to_be_reexecuted": false,
        "source_hash": "9b52258e",
        "execution_start": 1633295932031,
        "execution_millis": 13,
        "deepnote_cell_type": "code",
        "colab": {
          "base_uri": "https://localhost:8080/"
        },
        "id": "_2v4TKW7-3g4",
        "outputId": "e801bbe4-8bcb-4342-b567-669f34469164"
      },
      "source": [
        "df['race'].value_counts()"
      ],
      "execution_count": 9,
      "outputs": [
        {
          "output_type": "execute_result",
          "data": {
            "text/plain": [
              "African-American    3696\n",
              "Caucasian           2454\n",
              "Hispanic             637\n",
              "Other                377\n",
              "Asian                 32\n",
              "Native American       18\n",
              "Name: race, dtype: int64"
            ]
          },
          "metadata": {},
          "execution_count": 9
        }
      ]
    },
    {
      "cell_type": "markdown",
      "metadata": {
        "tags": [],
        "cell_id": "00017-074f8550-6bdf-4542-be6a-4ed64d4df0a8",
        "deepnote_cell_type": "markdown",
        "id": "lH905mhT-3g4"
      },
      "source": [
        "We will focus primarily on African-American or Caucasian defendants, since they are the subject of the ProPublica claim."
      ]
    },
    {
      "cell_type": "code",
      "metadata": {
        "tags": [],
        "cell_id": "00017-1843eeb8-3e94-4983-9626-f8ca6d1e064d",
        "deepnote_to_be_reexecuted": false,
        "source_hash": "cfaedeeb",
        "execution_start": 1633295934276,
        "execution_millis": 24,
        "deepnote_cell_type": "code",
        "colab": {
          "base_uri": "https://localhost:8080/"
        },
        "id": "SizRcxOi-3g4",
        "outputId": "e4191160-7319-4387-adbb-66913aef1181"
      },
      "source": [
        "df_black = df[df['race']==\"African-American\"].copy()\n",
        "df_black['medium_or_high_risk'] = (df_black['decile_score']>=5).astype(int)\n",
        "[[tn , fp],[fn , tp]]  = confusion_matrix(df_black['two_year_recid'], df_black['medium_or_high_risk'])\n",
        "print(\"False positive rate (Black)      : \", fp/(fp+tn))\n",
        "print(\"False negative rate (Black)      : \", fn/(fn+tp))\n",
        "print(\"True positive rate (overall): \", tp/(tp+fn))\n",
        "print(\"True negative rate (Black): \", tn/(tn+fp))\n",
        "print(\"Positive predictive value (Black): \", tp/(tp+fp))\n",
        "print(\"Overall accuracy (Black)\", (tp+tn)/(tp+fp+fn+tn))"
      ],
      "execution_count": 10,
      "outputs": [
        {
          "output_type": "stream",
          "name": "stdout",
          "text": [
            "False positive rate (Black)      :  0.44846796657381616\n",
            "False negative rate (Black)      :  0.27985270910047344\n",
            "True positive rate (overall):  0.7201472908995266\n",
            "True negative rate (Black):  0.5515320334261838\n",
            "Positive predictive value (Black):  0.6297148114075437\n",
            "Overall accuracy (Black) 0.6382575757575758\n"
          ]
        }
      ]
    },
    {
      "cell_type": "code",
      "metadata": {
        "tags": [],
        "cell_id": "00018-75e78d5a-e761-4a3b-a9b3-00e02cae5764",
        "deepnote_to_be_reexecuted": false,
        "source_hash": "5148284f",
        "execution_start": 1633295941122,
        "execution_millis": 26,
        "deepnote_cell_type": "code",
        "colab": {
          "base_uri": "https://localhost:8080/"
        },
        "id": "khM0N22W-3g5",
        "outputId": "b21ba421-85c4-46cc-89f0-ae8db0d7cce3"
      },
      "source": [
        "df_white = df[df['race']==\"Caucasian\"].copy()\n",
        "df_white['medium_or_high_risk'] = (df_white['decile_score']>=5).astype(int)\n",
        "[[tn , fp],[fn , tp]]  = confusion_matrix(df_white['two_year_recid'], df_white['medium_or_high_risk'])\n",
        "print(\"False positive rate (white)      : \", fp/(fp+tn))\n",
        "print(\"False negative rate (white)      : \", fn/(fn+tp))\n",
        "print(\"True positive rate (white): \", tp/(tp+fn))\n",
        "print(\"True negative rate (white): \", tn/(tn+fp))\n",
        "print(\"Positive predictive value (white): \", tp/(tp+fp))\n",
        "print(\"Overall accuracy (white)\", (tp+tn)/(tp+fp+fn+tn))"
      ],
      "execution_count": 11,
      "outputs": [
        {
          "output_type": "stream",
          "name": "stdout",
          "text": [
            "False positive rate (white)      :  0.23454301075268819\n",
            "False negative rate (white)      :  0.4772256728778468\n",
            "True positive rate (white):  0.5227743271221532\n",
            "True negative rate (white):  0.7654569892473119\n",
            "Positive predictive value (white):  0.5913348946135831\n",
            "Overall accuracy (white) 0.6699266503667481\n"
          ]
        }
      ]
    },
    {
      "cell_type": "markdown",
      "metadata": {
        "tags": [],
        "cell_id": "00019-5405c9a8-853e-48a1-b93c-f6acb343adcc",
        "deepnote_cell_type": "markdown",
        "id": "N2LMJ-mg-3g5"
      },
      "source": [
        "This shows COMPAS scores appeared to favor white defendants over black defendants by underpredicting recidivism for white and overpredicting recidivism for black defendants."
      ]
    },
    {
      "cell_type": "markdown",
      "metadata": {
        "tags": [],
        "cell_id": "00020-c1808cd2-cea4-4052-89a6-f916608c7470",
        "deepnote_cell_type": "markdown",
        "id": "DdfPMzmr-3g5"
      },
      "source": [
        "|  | Overall | White | Black |\n",
        "| ------ | ------- | ------ | ------ |\n",
        "| FPR | 0.352 | 0.235 | 0.448|\n",
        "| FNR | 0.346  | 0.477 | 0.280|\n",
        "| TPR | 0.654 | 0.523 | 0.630|\n",
        "| TNR | 0.648 | 0.765 | 0.552|\n",
        "| Accuracy | 0.654 | 0.638 | 0.670 |"
      ]
    },
    {
      "cell_type": "code",
      "metadata": {
        "tags": [],
        "cell_id": "00019-7ef7d42a-79dd-4ba8-aabb-2a718a5ab81f",
        "deepnote_to_be_reexecuted": false,
        "source_hash": "bdac2e7e",
        "execution_start": 1633295948238,
        "execution_millis": 306,
        "deepnote_cell_type": "code",
        "colab": {
          "base_uri": "https://localhost:8080/",
          "height": 283
        },
        "id": "8PXg-MzM-3g5",
        "outputId": "cb407100-f6e3-4005-b65f-f846b7942861"
      },
      "source": [
        "metrics = [\"FPR\",\"FNR\",\"TPR\",\"TNR\",\"Accuracy\"]\n",
        "overall = [0.352,0.346,0.654,0.648,0.654]\n",
        "white = [0.235,0.477,0.523,0.765,0.638]\n",
        "black = [0.448,0.280,0.630,0.552,0.670]\n",
        "\n",
        "bar_width = 0.3\n",
        "index_overall = np.arange(len(metrics))\n",
        "index_white = index_overall + bar_width\n",
        "index_black = index_white + bar_width\n",
        "\n",
        "plt.bar(index_overall,height=overall,width=bar_width,label=\"overall\")\n",
        "plt.bar(index_white,height=white,width=bar_width,label=\"white\")\n",
        "plt.bar(index_black,height=black,width=bar_width,label=\"black\")\n",
        "plt.xticks(index_overall+bar_width/2,metrics)\n",
        "plt.legend()"
      ],
      "execution_count": 12,
      "outputs": [
        {
          "output_type": "execute_result",
          "data": {
            "text/plain": [
              "<matplotlib.legend.Legend at 0x7f46f0618f10>"
            ]
          },
          "metadata": {},
          "execution_count": 12
        },
        {
          "output_type": "display_data",
          "data": {
            "image/png": "[encoded data removed]",
            "text/plain": [
              "<Figure size 432x288 with 1 Axes>"
            ]
          },
          "metadata": {
            "needs_background": "light"
          }
        }
      ]
    },
    {
      "cell_type": "code",
      "metadata": {
        "tags": [],
        "cell_id": "00026-dee2b459-afc6-45b7-a406-7d37ae48d9d1",
        "deepnote_to_be_reexecuted": false,
        "source_hash": "cbc2e463",
        "execution_start": 1633386392249,
        "execution_millis": 1499,
        "deepnote_cell_type": "code",
        "colab": {
          "base_uri": "https://localhost:8080/",
          "height": 225
        },
        "id": "GpOqeHAc-3g5",
        "outputId": "5c478cf0-c2a3-44f9-cf81-3857e4c02667"
      },
      "source": [
        "# frequency plot\n",
        "g = sns.FacetGrid(df, col=\"race\", margin_titles=True);\n",
        "g.map(plt.hist, \"decile_score\", bins=10);"
      ],
      "execution_count": 14,
      "outputs": [
        {
          "output_type": "display_data",
          "data": {
            "image/png": "[encoded data removed]",
            "text/plain": [
              "<Figure size 1296x216 with 6 Axes>"
            ]
          },
          "metadata": {
            "needs_background": "light"
          }
        }
      ]
    },
    {
      "cell_type": "markdown",
      "metadata": {
        "tags": [],
        "cell_id": "00007-a25a0700-b608-4795-a5df-3fd3a85c6831",
        "deepnote_cell_type": "markdown",
        "id": "uF23hi3Q-3g6"
      },
      "source": [
        "## 2.3 Binary Classification Pipeline - Logistics Regression"
      ]
    },
    {
      "cell_type": "code",
      "metadata": {
        "id": "e8IZjdn5AaUi"
      },
      "source": [
        "def process_COMPAS(temp_df, is_GAN = False):\n",
        "    \"\"\"\n",
        "    Pick columns = ['age_cat','priors_count','sex_numeric','juv_fel_count', 'juv_misd_count', \n",
        "    'juv_other_count', 'length_of_stay','race','two_year_recid', 'c_charge_degree'] \n",
        "    from the dataframe. Convert category data into numeric and remove races other \n",
        "    than Caucasian or African-American. \n",
        "    \n",
        "    Input: COMPAS dataframe\n",
        "    Output: \n",
        "           COMPAS dataframe after cleaning\n",
        "            age_cat                    int64\n",
        "            priors_count               int64\n",
        "            sex_numeric                int64\n",
        "            juv_fel_count              int64\n",
        "            juv_misd_count             int64\n",
        "            juv_other_count            int64\n",
        "            c_charge_degree_numeric    int64\n",
        "            length_of_stay             int64\n",
        "            race                       int64\n",
        "            two_year_recid             int64\n",
        "    \"\"\"\n",
        "    # deepcopy\n",
        "    df = temp_df.copy()\n",
        "    \n",
        "    # remove invalid/null entries\n",
        "    df = df[(df['days_b_screening_arrest'] <= 30)\n",
        "                & (df['days_b_screening_arrest'] >= -30)\n",
        "                & (df['is_recid'] != -1)\n",
        "                & (df['c_charge_degree'] != 'O')\n",
        "                & (df['score_text'] != 'N/A')]\n",
        "    # remove races other than Caucasian or African-American\n",
        "    df = df[(df['race']=='Caucasian') | (df['race']=='African-American')]\n",
        "\n",
        "    # calculate length_of_stay\n",
        "    df['c_jail_out'] = pd.to_datetime(df['c_jail_out'])\n",
        "    df['c_jail_in'] = pd.to_datetime(df['c_jail_in'])\n",
        "    # the number of seconds to the unix epoch start\n",
        "    df['length_of_stay'] = (df['c_jail_out'] - df['c_jail_in']).astype(int) / 10**9 \n",
        "    # convert seconds into month\n",
        "    df['length_of_stay'] /= 60 * 60 * 24 * 31\n",
        "    df['length_of_stay'] = df['length_of_stay'].astype(int)\n",
        "    df = df.drop_duplicates()\n",
        "\n",
        "    # convert category data into numeric\n",
        "    df['sex_numeric'] = pd.factorize(df['sex'])[0]\n",
        "    df['c_charge_degree_numeric'] = pd.factorize(df['c_charge_degree'])[0]\n",
        "    race = {0: 'Caucasian', 1: 'African-American'}\n",
        "    df[\"race\"] = df[\"race\"].map({v: k for k, v in race.items()})\n",
        "    \n",
        "    if is_GAN:\n",
        "      # don't need to bin age\n",
        "      df[\"age_cat\"] = df[\"age\"]\n",
        "    else:\n",
        "      age = {1: 'Greater than 45', 0: '25 - 45', -1: 'Less than 25'}\n",
        "      df[\"age_cat\"] = df[\"age_cat\"].map({v: k for k, v in age.items()})\n",
        "\n",
        "    cols = ['age_cat','priors_count','sex_numeric','juv_fel_count', 'juv_misd_count', 'juv_other_count', 'c_charge_degree_numeric', 'length_of_stay','race','two_year_recid']\n",
        "    df = df[cols]\n",
        "    \n",
        "    return df"
      ],
      "execution_count": 13,
      "outputs": []
    },
    {
      "cell_type": "code",
      "metadata": {
        "tags": [],
        "cell_id": "00028-4a221645-2837-4a9e-8656-ba3f70ab40e4",
        "deepnote_to_be_reexecuted": false,
        "source_hash": "438ac507",
        "execution_start": 1633372965352,
        "execution_millis": 1,
        "deepnote_cell_type": "code",
        "id": "4HHPCcRJ-3g6"
      },
      "source": [
        "def logisticRegression(x_train, y_train, x_test):\n",
        "  \n",
        "    logisticRegr = LogisticRegression(solver='lbfgs', max_iter=500)\n",
        "    logisticRegr.fit(x_train, y_train)\n",
        "\n",
        "    predictions = logisticRegr.predict(x_test)\n",
        "    return predictions"
      ],
      "execution_count": 14,
      "outputs": []
    },
    {
      "cell_type": "code",
      "metadata": {
        "id": "LlyRL_acBCnO"
      },
      "source": [
        "df = process_COMPAS(df)\n",
        "\n",
        "# Split processed data into train and test (fixed random seed)\n",
        "train_data, test_data = train_test_split(df, test_size=0.2, random_state=0)\n",
        "\n",
        "# Split test data into X and y\n",
        "x_train, y_train = train_data.drop([\"two_year_recid\",\"race\"], axis=1), train_data[\"two_year_recid\"]\n",
        "x_test, y_test = test_data.drop([\"two_year_recid\",\"race\"], axis=1), test_data[\"two_year_recid\"]"
      ],
      "execution_count": 15,
      "outputs": []
    },
    {
      "cell_type": "code",
      "metadata": {
        "tags": [],
        "cell_id": "00029-031a71b1-5c87-4ee9-bd96-891928742173",
        "deepnote_to_be_reexecuted": false,
        "source_hash": "89b2e4eb",
        "execution_start": 1633374846791,
        "execution_millis": 557,
        "deepnote_cell_type": "code",
        "colab": {
          "base_uri": "https://localhost:8080/"
        },
        "id": "QvxedEbg-3g6",
        "outputId": "55d05258-6037-463c-8488-d3e5518b1fdc"
      },
      "source": [
        "# predictions of testing data\n",
        "predictions = logisticRegression(x_train, y_train, x_test)\n",
        "predictions.shape"
      ],
      "execution_count": 16,
      "outputs": [
        {
          "output_type": "execute_result",
          "data": {
            "text/plain": [
              "(1056,)"
            ]
          },
          "metadata": {},
          "execution_count": 16
        }
      ]
    },
    {
      "cell_type": "code",
      "metadata": {
        "tags": [],
        "cell_id": "00029-59ebebd2-66e7-4c2d-8a16-2457a80fae9f",
        "deepnote_to_be_reexecuted": false,
        "source_hash": "a223175f",
        "execution_start": 1633374849465,
        "execution_millis": 21,
        "deepnote_cell_type": "code",
        "id": "w8cSqVBG-3g7"
      },
      "source": [
        "def predictionSummary(x, y_real, y_predict):\n",
        "    tn, fp, fn, tp = confusion_matrix(y_real, y_predict, labels=[0, 1]).ravel()\n",
        "    overall = [fp/(fp+tn),fn/(fn+tp),tp/(tp+fn),tn/(tn+fp),(tp+tn)/(tp+fp+fn+tn)]\n",
        "    print(\"True positive rate (overall): \", tp/(tp+fn))\n",
        "    print(\"False positive rate (overall): \", fp/(fp+tn))\n",
        "    print(\"True negative rate (overall): \", tn/(tn+fp))\n",
        "    print(\"False negative rate (overall): \", fn/(fn+tp))\n",
        "    print(\"Overall accuracy (overall)\", (tp+tn)/(tp+fp+fn+tn),\"\\n\")\n",
        "\n",
        "    x['medium_or_high_risk'] = y_predict\n",
        "    x['two_year_recid'] = y_real\n",
        "    x_black = x[df['race'] == 1].copy()\n",
        "    tn, fp, fn, tp = confusion_matrix(x_black['two_year_recid'], x_black['medium_or_high_risk'], labels=[0, 1]).ravel()\n",
        "    black = [fp/(fp+tn),fn/(fn+tp),tp/(tp+fn),tn/(tn+fp),(tp+tn)/(tp+fp+fn+tn)]\n",
        "    print(\"True positive rate (balck): \", tp/(tp+fn))\n",
        "    print(\"False positive rate (balck): \", fp/(fp+tn))\n",
        "    print(\"True negative rate (black): \", tn/(tn+fp))\n",
        "    print(\"False negative rate (black): \", fn/(fn+tp))\n",
        "    print(\"Overall accuracy (black)\", (tp+tn)/(tp+fp+fn+tn),\"\\n\")\n",
        "\n",
        "    x_white = x[df['race'] == 0].copy()\n",
        "    tn, fp, fn, tp = confusion_matrix(x_white['two_year_recid'], x_white['medium_or_high_risk'], labels=[0, 1]).ravel()\n",
        "    white = [fp/(fp+tn),fn/(fn+tp),tp/(tp+fn),tn/(tn+fp),(tp+tn)/(tp+fp+fn+tn)]\n",
        "    print(\"True positive rate (white): \", tp/(tp+fn))\n",
        "    print(\"False positive rate (white): \", fp/(fp+tn))\n",
        "    print(\"True negative rate (white): \", tn/(tn+fp))\n",
        "    print(\"False negative rate (white): \", fn/(fn+tp))\n",
        "    print(\"Overall accuracy (white)\", (tp+tn)/(tp+fp+fn+tn),\"\\n\")\n",
        "\n",
        "    metrics = [\"FPR\",\"FNR\",\"TPR\",\"TNR\",\"Accuracy\"]\n",
        "    bar_width = 0.3\n",
        "    index_overall = np.arange(len(metrics))\n",
        "    index_white = index_overall + bar_width\n",
        "    index_black = index_white + bar_width\n",
        "\n",
        "    plt.bar(index_overall,height=overall,width=bar_width,label=\"overall\")\n",
        "    plt.bar(index_white,height=white,width=bar_width,label=\"white\")\n",
        "    plt.bar(index_black,height=black,width=bar_width,label=\"black\")\n",
        "    plt.xticks(index_overall+bar_width/2,metrics)\n",
        "    plt.legend()\n",
        "\n",
        "    return"
      ],
      "execution_count": 17,
      "outputs": []
    },
    {
      "cell_type": "code",
      "metadata": {
        "tags": [],
        "cell_id": "00031-bb63c1fa-bbe9-44f2-a79a-879efab2016d",
        "deepnote_to_be_reexecuted": false,
        "source_hash": "baa4e14a",
        "execution_start": 1633374854156,
        "execution_millis": 401,
        "deepnote_cell_type": "code",
        "colab": {
          "base_uri": "https://localhost:8080/",
          "height": 606
        },
        "id": "TUuusxsW-3g7",
        "outputId": "f4fcb074-9490-4c32-f22a-d3a689964d3b"
      },
      "source": [
        "predictionSummary(x_test, y_test, predictions)"
      ],
      "execution_count": 18,
      "outputs": [
        {
          "output_type": "stream",
          "name": "stdout",
          "text": [
            "True positive rate (overall):  0.5501066098081023\n",
            "False positive rate (overall):  0.313458262350937\n",
            "True negative rate (overall):  0.686541737649063\n",
            "False negative rate (overall):  0.44989339019189767\n",
            "Overall accuracy (overall) 0.6259469696969697 \n",
            "\n",
            "True positive rate (balck):  0.66996699669967\n",
            "False positive rate (balck):  0.39184952978056425\n",
            "True negative rate (black):  0.6081504702194357\n",
            "False negative rate (black):  0.33003300330033003\n",
            "Overall accuracy (black) 0.6382636655948553 \n",
            "\n",
            "True positive rate (white):  0.3313253012048193\n",
            "False positive rate (white):  0.22014925373134328\n",
            "True negative rate (white):  0.7798507462686567\n",
            "False negative rate (white):  0.6686746987951807\n",
            "Overall accuracy (white) 0.6082949308755761 \n",
            "\n"
          ]
        },
        {
          "output_type": "stream",
          "name": "stderr",
          "text": [
            "/usr/local/lib/python3.7/dist-packages/ipykernel_launcher.py:12: UserWarning: Boolean Series key will be reindexed to match DataFrame index.\n",
            "  if sys.path[0] == '':\n",
            "/usr/local/lib/python3.7/dist-packages/ipykernel_launcher.py:21: UserWarning: Boolean Series key will be reindexed to match DataFrame index.\n"
          ]
        },
        {
          "output_type": "display_data",
          "data": {
            "image/png": "[encoded data removed]",
            "text/plain": [
              "<Figure size 432x288 with 1 Axes>"
            ]
          },
          "metadata": {
            "needs_background": "light"
          }
        }
      ]
    },
    {
      "cell_type": "code",
      "metadata": {
        "tags": [],
        "cell_id": "00032-792ef011-0919-4410-8bc2-68f2f90f90d3",
        "deepnote_to_be_reexecuted": false,
        "source_hash": "7acbcb67",
        "execution_start": 1633374859996,
        "execution_millis": 962,
        "deepnote_cell_type": "code",
        "colab": {
          "base_uri": "https://localhost:8080/",
          "height": 606
        },
        "id": "g8H457fQ-3g7",
        "outputId": "cb222dd9-5191-49f3-9041-29c4007fad8c"
      },
      "source": [
        "# predictions of training data\n",
        "predictions = logisticRegression(x_train, y_train, x_train)\n",
        "predictionSummary(x_train, y_train, predictions)"
      ],
      "execution_count": 19,
      "outputs": [
        {
          "output_type": "stream",
          "name": "stdout",
          "text": [
            "True positive rate (overall):  0.602780536246276\n",
            "False positive rate (overall):  0.2558876811594203\n",
            "True negative rate (overall):  0.7441123188405797\n",
            "False negative rate (overall):  0.3972194637537239\n",
            "Overall accuracy (overall) 0.6766935101847465 \n",
            "\n",
            "True positive rate (balck):  0.6804123711340206\n",
            "False positive rate (balck):  0.3238493723849372\n",
            "True negative rate (black):  0.6761506276150627\n",
            "False negative rate (black):  0.31958762886597936\n",
            "Overall accuracy (black) 0.6784175479827653 \n",
            "\n",
            "True positive rate (white):  0.4420731707317073\n",
            "False positive rate (white):  0.175715695952616\n",
            "True negative rate (white):  0.824284304047384\n",
            "False negative rate (white):  0.5579268292682927\n",
            "Overall accuracy (white) 0.6740563211503895 \n",
            "\n"
          ]
        },
        {
          "output_type": "stream",
          "name": "stderr",
          "text": [
            "/usr/local/lib/python3.7/dist-packages/ipykernel_launcher.py:12: UserWarning: Boolean Series key will be reindexed to match DataFrame index.\n",
            "  if sys.path[0] == '':\n",
            "/usr/local/lib/python3.7/dist-packages/ipykernel_launcher.py:21: UserWarning: Boolean Series key will be reindexed to match DataFrame index.\n"
          ]
        },
        {
          "output_type": "display_data",
          "data": {
            "image/png": "[encoded data removed]",
            "text/plain": [
              "<Figure size 432x288 with 1 Axes>"
            ]
          },
          "metadata": {
            "needs_background": "light"
          }
        }
      ]
    },
    {
      "cell_type": "markdown",
      "metadata": {
        "tags": [],
        "cell_id": "00034-ba40acb5-8cef-4624-afb2-707cad39b6cf",
        "deepnote_cell_type": "markdown",
        "id": "KvLxghma-3g8"
      },
      "source": [
        "## 2.4 Binary Classification Pipeline - Decision Tree"
      ]
    },
    {
      "cell_type": "code",
      "metadata": {
        "tags": [],
        "cell_id": "00035-638b1cf0-1037-460f-86c6-22dcd26bfc78",
        "deepnote_to_be_reexecuted": false,
        "source_hash": "2cd948b3",
        "execution_start": 1633375120885,
        "execution_millis": 0,
        "deepnote_cell_type": "code",
        "id": "hjLj0L0n-3g8"
      },
      "source": [
        "def decisionTree(x_train, y_train, x_test):\n",
        "    clf = tree.DecisionTreeClassifier(class_weight=None, criterion='gini', max_depth=8,\n",
        "            max_features=None, max_leaf_nodes=None, min_samples_leaf=1,\n",
        "            min_samples_split=2, min_weight_fraction_leaf=0.0,\n",
        "            random_state=None, splitter='best')\n",
        "    clf = clf.fit(x_train, y_train)\n",
        "\n",
        "    predictions = clf.predict(x_test)\n",
        "    return predictions"
      ],
      "execution_count": 20,
      "outputs": []
    },
    {
      "cell_type": "code",
      "metadata": {
        "id": "ncqK_8tKDgl5"
      },
      "source": [
        "url = 'https://raw.githubusercontent.com/propublica/compas-analysis/master/compas-scores-two-years.csv'\n",
        "df = pd.read_csv(url)\n",
        "df = process_COMPAS(df)\n",
        "# Split processed data into train and test (fixed random seed)\n",
        "train_data, test_data = train_test_split(df, test_size=0.2, random_state=0)\n",
        "\n",
        "# Split test data into X and y\n",
        "x_train, y_train = train_data.drop([\"two_year_recid\",\"race\"], axis=1), train_data[\"two_year_recid\"]\n",
        "x_test, y_test = test_data.drop([\"two_year_recid\",\"race\"], axis=1), test_data[\"two_year_recid\"]"
      ],
      "execution_count": 21,
      "outputs": []
    },
    {
      "cell_type": "code",
      "metadata": {
        "tags": [],
        "cell_id": "00036-99d07d93-9103-4b9d-adee-9bb75ea14797",
        "deepnote_to_be_reexecuted": false,
        "source_hash": "e389c698",
        "execution_start": 1633375123228,
        "execution_millis": 507,
        "deepnote_cell_type": "code",
        "colab": {
          "base_uri": "https://localhost:8080/",
          "height": 608
        },
        "id": "qE0U5NWz-3g8",
        "outputId": "18752eab-b9c2-4ede-fe2c-defabe4fa934"
      },
      "source": [
        "# predictions of testing data\n",
        "# x_train, x_test, y_train, y_test = process_COMPAS_small(df)\n",
        "predictions = decisionTree(x_train, y_train, x_test)\n",
        "predictionSummary(x_test, y_test, predictions)"
      ],
      "execution_count": 22,
      "outputs": [
        {
          "output_type": "stream",
          "name": "stdout",
          "text": [
            "True positive rate (overall):  0.5607675906183369\n",
            "False positive rate (overall):  0.3049403747870528\n",
            "True negative rate (overall):  0.6950596252129472\n",
            "False negative rate (overall):  0.43923240938166314\n",
            "Overall accuracy (overall) 0.6354166666666666 \n",
            "\n",
            "True positive rate (balck):  0.66996699669967\n",
            "False positive rate (balck):  0.3667711598746082\n",
            "True negative rate (black):  0.6332288401253918\n",
            "False negative rate (black):  0.33003300330033003\n",
            "Overall accuracy (black) 0.6511254019292605 \n",
            "\n",
            "True positive rate (white):  0.3614457831325301\n",
            "False positive rate (white):  0.23134328358208955\n",
            "True negative rate (white):  0.7686567164179104\n",
            "False negative rate (white):  0.6385542168674698\n",
            "Overall accuracy (white) 0.6129032258064516 \n",
            "\n"
          ]
        },
        {
          "output_type": "stream",
          "name": "stderr",
          "text": [
            "/usr/local/lib/python3.7/dist-packages/ipykernel_launcher.py:12: UserWarning: Boolean Series key will be reindexed to match DataFrame index.\n",
            "  if sys.path[0] == '':\n",
            "/usr/local/lib/python3.7/dist-packages/ipykernel_launcher.py:21: UserWarning: Boolean Series key will be reindexed to match DataFrame index.\n"
          ]
        },
        {
          "output_type": "display_data",
          "data": {
            "image/png": "[encoded data removed]",
            "text/plain": [
              "<Figure size 432x288 with 1 Axes>"
            ]
          },
          "metadata": {
            "needs_background": "light"
          }
        }
      ]
    },
    {
      "cell_type": "code",
      "metadata": {
        "tags": [],
        "cell_id": "00037-ad5f04f2-0162-426d-b9dd-7037db2f65db",
        "deepnote_to_be_reexecuted": false,
        "source_hash": "9c8341e8",
        "execution_start": 1633375127949,
        "execution_millis": 450,
        "deepnote_cell_type": "code",
        "colab": {
          "base_uri": "https://localhost:8080/",
          "height": 606
        },
        "id": "5MWXBIgB-3g8",
        "outputId": "4b4c4855-5cc0-4331-f1c8-226f0a5662f6"
      },
      "source": [
        "predictions = decisionTree(x_train, y_train, x_train)\n",
        "predictionSummary(x_train, y_train, predictions)"
      ],
      "execution_count": 23,
      "outputs": [
        {
          "output_type": "stream",
          "name": "stdout",
          "text": [
            "True positive rate (overall):  0.6285998013902682\n",
            "False positive rate (overall):  0.23052536231884058\n",
            "True negative rate (overall):  0.7694746376811594\n",
            "False negative rate (overall):  0.3714001986097319\n",
            "Overall accuracy (overall) 0.702273803884415 \n",
            "\n",
            "True positive rate (balck):  0.6936671575846833\n",
            "False positive rate (balck):  0.28451882845188287\n",
            "True negative rate (black):  0.7154811715481172\n",
            "False negative rate (black):  0.30633284241531666\n",
            "Overall accuracy (black) 0.7038777908343126 \n",
            "\n",
            "True positive rate (white):  0.49390243902439024\n",
            "False positive rate (white):  0.16683119447186576\n",
            "True negative rate (white):  0.8331688055281342\n",
            "False negative rate (white):  0.5060975609756098\n",
            "Overall accuracy (white) 0.6998202516476932 \n",
            "\n"
          ]
        },
        {
          "output_type": "stream",
          "name": "stderr",
          "text": [
            "/usr/local/lib/python3.7/dist-packages/ipykernel_launcher.py:12: UserWarning: Boolean Series key will be reindexed to match DataFrame index.\n",
            "  if sys.path[0] == '':\n",
            "/usr/local/lib/python3.7/dist-packages/ipykernel_launcher.py:21: UserWarning: Boolean Series key will be reindexed to match DataFrame index.\n"
          ]
        },
        {
          "output_type": "display_data",
          "data": {
            "image/png": "[encoded data removed]",
            "text/plain": [
              "<Figure size 432x288 with 1 Axes>"
            ]
          },
          "metadata": {
            "needs_background": "light"
          }
        }
      ]
    },
    {
      "cell_type": "markdown",
      "metadata": {
        "tags": [],
        "cell_id": "00006-5de8111e-573b-4b69-b72f-623ec0ebb8dc",
        "deepnote_cell_type": "markdown",
        "id": "KuVkVKnz-3g9"
      },
      "source": [
        "## 2.5 Hypothesis Test Pipeline "
      ]
    },
    {
      "cell_type": "code",
      "metadata": {
        "tags": [],
        "cell_id": "00035-81e918ad-5405-4187-8192-6cbda0c5fa27",
        "deepnote_to_be_reexecuted": false,
        "source_hash": "7494cf02",
        "execution_start": 1633377821730,
        "execution_millis": 3,
        "deepnote_cell_type": "code",
        "id": "pfvdaEkQ-3g9"
      },
      "source": [
        "# Assumptions\n",
        "\n",
        "# Observations in each sample are independent and identically distributed (iid).\n",
        "# Observations in each sample are normally distributed.\n",
        "# Observations in each sample have the same variance.\n",
        "# Interpretation\n",
        "# https://machinelearningmastery.com/statistical-hypothesis-tests-in-python-cheat-sheet/\n",
        "\n",
        "from scipy.stats import ttest_ind\n",
        "def hypothesisTest(df):\n",
        "\tdf_black = df[df['race']==\"African-American\"].copy()\n",
        "\tblack_two_year_reci = df_black['two_year_recid']\n",
        "\n",
        "\n",
        "\tdf_white = df[df['race']==\"Caucasian\"].copy()\n",
        "\twhite_two_year_reci = df_white['two_year_recid']\n",
        "\twhite_is_reci = df_white['is_recid']\n",
        "\tblack_is_reci = df_black['is_recid']\n",
        "\n",
        "\t# H0: null hypothesis: the mean of the African American two year recidivism rate = the mean of the Caucasian two year  recidivism rate\n",
        "\t# H1: alternate hypothesis: the mean of the African American two year recidivism rate > the mean of the Caucasian two year  recidivism rate\n",
        "\tstat, p = ttest_ind(black_two_year_reci, white_two_year_reci)\n",
        "\tprint('first:')\n",
        "\tprint('stat=%.3f, p=%.27f' % (stat, p))\n",
        "\n",
        "\tif p > 0.05:\n",
        "\t\tprint('we are accepting null hypothesis, Probably the same distribution')\n",
        "\telse:\n",
        "\t\tprint('we are rejecting null hypothesis, Probably different distributions')\n",
        "\t\n",
        "\t# so the result shows us the the mean rate are not the same \n",
        "\t# Tests whether the means of two independent samples are significantly different.\n",
        "\n",
        "\n",
        "\t# H0: null hypothesis: the mean of the Caucasian recidivism rate = the mean of the Caucasian two year recidivism rate\n",
        "\t# H1: alternate hypothesis:  the mean of the Caucasian recidivism rate >= the mean of the Caucasian two year recidivism rate\n",
        "\tstat, p = ttest_ind(white_is_reci, white_two_year_reci)\n",
        "\tprint('second:')\n",
        "\tprint('stat=%.3f, p=%.27f' % (stat, p))\n",
        "\tif p > 0.05:\n",
        "\t\tprint('we are accepting null hypothesis, Probably the same distribution')\n",
        "\telse:\n",
        "\t\tprint('we are rejecting null hypothesis, Probably different distributions')\n",
        "\t# so the result shows us the the mean rate are the same \n",
        "\n",
        "\t# H0: null hypothesis: the mean of the black African American rate = the mean of the African American two year recidivism rate\n",
        "\t# H1: alternate hypothesis:  the mean of the African American recidivism rate >= the mean of the African American two year recidivism rate\n",
        "\tstat, p = ttest_ind(black_is_reci, black_two_year_reci)\n",
        "\tprint('third:')\n",
        "\tprint('stat=%.3f, p=%.27f' % (stat, p))\n",
        "\tif p > 0.05:\n",
        "\t\tprint('we are accepting null hypothesis, Probably the same distribution')\n",
        "\telse:\n",
        "\t\tprint('we are rejecting null hypothesis, Probably different distributions')\n",
        "\t# so the result shows us the the mean rate are not the same \n"
      ],
      "execution_count": null,
      "outputs": []
    },
    {
      "cell_type": "code",
      "metadata": {
        "tags": [],
        "cell_id": "00043-c323afa4-2146-4eb3-8778-4c2911c68db6",
        "deepnote_to_be_reexecuted": false,
        "source_hash": "cdc42593",
        "execution_start": 1633377830766,
        "execution_millis": 26,
        "deepnote_cell_type": "code",
        "id": "t_voH3XI-3g9",
        "outputId": "fc440883-029e-407b-f834-cc5b7f3e77e7"
      },
      "source": [
        "hypothesisTest(df)"
      ],
      "execution_count": null,
      "outputs": [
        {
          "name": "stdout",
          "text": "first:\nstat=9.356, p=0.000000000000000000011363682\nwe are rejecting null hypothesis, Probably different distributions\nsecond:\nstat=1.715, p=0.086351904428614872921698975\nwe are accepting null hypothesis, Probably the same distribution\nthird:\nstat=3.149, p=0.001646144193052092100093553\nwe are rejecting null hypothesis, Probably different distributions\n",
          "output_type": "stream"
        }
      ]
    },
    {
      "cell_type": "code",
      "metadata": {
        "tags": [],
        "cell_id": "00036-f2b87165-75cb-430d-acaa-5ef96097d42c",
        "deepnote_to_be_reexecuted": false,
        "source_hash": "e44ffb3e",
        "execution_start": 1633295796619,
        "execution_millis": 4,
        "deepnote_cell_type": "code",
        "id": "hhDt2moZ-3g9"
      },
      "source": [
        "# from scipy.stats import chi2_contingency\n",
        "# table = [[10, 20, 30],[6,  9,  17]]\n",
        "# stat, p, dof, expected = chi2_contingency(table)\n",
        "# print('stat=%.3f, p=%.3f' % (stat, p))\n",
        "# if p > 0.05:\n",
        "# \tprint('Probably independent')\n",
        "# else:\n",
        "# \tprint('Probably dependent')"
      ],
      "execution_count": null,
      "outputs": []
    },
    {
      "cell_type": "markdown",
      "metadata": {
        "tags": [],
        "cell_id": "00007-2dfb0d15-1a0c-4a75-a4c1-ea811aec8aa4",
        "deepnote_cell_type": "markdown",
        "id": "teQ3zryj-3g-"
      },
      "source": [
        "## 2.6 References\n",
        "\n",
        "[1] Julia Angwin, Jeff Larson, Surya Mattu, and Lauren Kirchner. Machine Bias: There’s Software Used Across\n",
        "the Country to Predict Future Criminals. And it’s Biased Against Blacks. https://www.propublica.org/\n",
        "article/machine-bias-risk-assessments-in-criminal-sentencing, 2016.\n",
        "\n",
        "[2] Rahman, F. (2020, September 8). Compas case study: Fairness of a Machine Learning Model. Medium. Retrieved September 28, 2021, from https://towardsdatascience.com/compas-case-study-fairness-of-a-machine-learning-model-f0f804108751. \n",
        "\n",
        "[3] The accuracy, fairness, and limits of ... - science advances. (n.d.). Retrieved September 28, 2021, from https://www.advances.sciencemag.org/content/4/1/eaao5580.full.  "
      ]
    },
    {
      "cell_type": "code",
      "metadata": {
        "tags": [],
        "cell_id": "00010-5d5d639d-2f53-4b9a-a27c-7569f6f383b7",
        "deepnote_to_be_reexecuted": false,
        "source_hash": "b623e53d",
        "execution_start": 1633295796629,
        "execution_millis": 0,
        "deepnote_cell_type": "code",
        "id": "zpthk8A7-3g-"
      },
      "source": [
        ""
      ],
      "execution_count": null,
      "outputs": []
    },
    {
      "cell_type": "markdown",
      "metadata": {
        "tags": [],
        "created_in_deepnote_cell": true,
        "deepnote_cell_type": "markdown",
        "id": "WjKMW-cu-3g-"
      },
      "source": [
        "<a style='text-decoration:none;line-height:16px;display:flex;color:#5B5B62;padding:10px;justify-content:end;' href='https://deepnote.com?utm_source=created-in-deepnote-cell&projectId=aa928c63-0856-4021-a156-02d09e35182a' target=\"_blank\">\n",
        "<img alt='Created in deepnote.com' style='display:inline;max-height:16px;margin:0px;margin-right:7.5px;' src='data:image/svg+xml;base64,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' > </img>\n",
        "Created in <span style='font-weight:600;margin-left:4px;'>Deepnote</span></a>"
      ]
    }
  ]
}